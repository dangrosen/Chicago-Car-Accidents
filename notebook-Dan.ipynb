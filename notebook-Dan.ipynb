{
 "cells": [
  {
   "cell_type": "code",
   "execution_count": 2,
   "metadata": {},
   "outputs": [],
   "source": [
    "import pandas as pd\n",
    "import numpy as np"
   ]
  },
  {
   "cell_type": "code",
   "execution_count": 2,
   "metadata": {},
   "outputs": [],
   "source": [
    "# Read in Vehicles data\n",
    "\n",
    "df_vehicles = pd.read_csv('Traffic_Crashes_-_Vehicles_20231109.csv', low_memory=False)"
   ]
  },
  {
   "cell_type": "code",
   "execution_count": 5,
   "metadata": {},
   "outputs": [
    {
     "data": {
      "text/html": [
       "<div>\n",
       "<style scoped>\n",
       "    .dataframe tbody tr th:only-of-type {\n",
       "        vertical-align: middle;\n",
       "    }\n",
       "\n",
       "    .dataframe tbody tr th {\n",
       "        vertical-align: top;\n",
       "    }\n",
       "\n",
       "    .dataframe thead th {\n",
       "        text-align: right;\n",
       "    }\n",
       "</style>\n",
       "<table border=\"1\" class=\"dataframe\">\n",
       "  <thead>\n",
       "    <tr style=\"text-align: right;\">\n",
       "      <th></th>\n",
       "      <th>PERSON_ID</th>\n",
       "      <th>PERSON_TYPE</th>\n",
       "      <th>CRASH_RECORD_ID</th>\n",
       "      <th>RD_NO</th>\n",
       "      <th>VEHICLE_ID</th>\n",
       "      <th>CRASH_DATE</th>\n",
       "      <th>SEAT_NO</th>\n",
       "      <th>CITY</th>\n",
       "      <th>STATE</th>\n",
       "      <th>ZIPCODE</th>\n",
       "      <th>...</th>\n",
       "      <th>EMS_RUN_NO</th>\n",
       "      <th>DRIVER_ACTION</th>\n",
       "      <th>DRIVER_VISION</th>\n",
       "      <th>PHYSICAL_CONDITION</th>\n",
       "      <th>PEDPEDAL_ACTION</th>\n",
       "      <th>PEDPEDAL_VISIBILITY</th>\n",
       "      <th>PEDPEDAL_LOCATION</th>\n",
       "      <th>BAC_RESULT</th>\n",
       "      <th>BAC_RESULT VALUE</th>\n",
       "      <th>CELL_PHONE_USE</th>\n",
       "    </tr>\n",
       "  </thead>\n",
       "  <tbody>\n",
       "    <tr>\n",
       "      <th>0</th>\n",
       "      <td>O749947</td>\n",
       "      <td>DRIVER</td>\n",
       "      <td>81dc0de2ed92aa62baccab641fa377be7feb1cc47e6554...</td>\n",
       "      <td>JC451435</td>\n",
       "      <td>834816.0</td>\n",
       "      <td>09/28/2019 03:30:00 AM</td>\n",
       "      <td>NaN</td>\n",
       "      <td>CHICAGO</td>\n",
       "      <td>IL</td>\n",
       "      <td>60651</td>\n",
       "      <td>...</td>\n",
       "      <td>NaN</td>\n",
       "      <td>UNKNOWN</td>\n",
       "      <td>UNKNOWN</td>\n",
       "      <td>UNKNOWN</td>\n",
       "      <td>NaN</td>\n",
       "      <td>NaN</td>\n",
       "      <td>NaN</td>\n",
       "      <td>TEST NOT OFFERED</td>\n",
       "      <td>NaN</td>\n",
       "      <td>NaN</td>\n",
       "    </tr>\n",
       "    <tr>\n",
       "      <th>1</th>\n",
       "      <td>O871921</td>\n",
       "      <td>DRIVER</td>\n",
       "      <td>af84fb5c8d996fcd3aefd36593c3a02e6e7509eeb27568...</td>\n",
       "      <td>JD208731</td>\n",
       "      <td>827212.0</td>\n",
       "      <td>04/13/2020 10:50:00 PM</td>\n",
       "      <td>NaN</td>\n",
       "      <td>CHICAGO</td>\n",
       "      <td>IL</td>\n",
       "      <td>60620</td>\n",
       "      <td>...</td>\n",
       "      <td>NaN</td>\n",
       "      <td>NONE</td>\n",
       "      <td>NOT OBSCURED</td>\n",
       "      <td>NORMAL</td>\n",
       "      <td>NaN</td>\n",
       "      <td>NaN</td>\n",
       "      <td>NaN</td>\n",
       "      <td>TEST NOT OFFERED</td>\n",
       "      <td>NaN</td>\n",
       "      <td>NaN</td>\n",
       "    </tr>\n",
       "    <tr>\n",
       "      <th>2</th>\n",
       "      <td>O10018</td>\n",
       "      <td>DRIVER</td>\n",
       "      <td>71162af7bf22799b776547132ebf134b5b438dcf3dac6b...</td>\n",
       "      <td>HY484534</td>\n",
       "      <td>9579.0</td>\n",
       "      <td>11/01/2015 05:00:00 AM</td>\n",
       "      <td>NaN</td>\n",
       "      <td>NaN</td>\n",
       "      <td>NaN</td>\n",
       "      <td>NaN</td>\n",
       "      <td>...</td>\n",
       "      <td>NaN</td>\n",
       "      <td>IMPROPER BACKING</td>\n",
       "      <td>UNKNOWN</td>\n",
       "      <td>UNKNOWN</td>\n",
       "      <td>NaN</td>\n",
       "      <td>NaN</td>\n",
       "      <td>NaN</td>\n",
       "      <td>TEST NOT OFFERED</td>\n",
       "      <td>NaN</td>\n",
       "      <td>NaN</td>\n",
       "    </tr>\n",
       "    <tr>\n",
       "      <th>3</th>\n",
       "      <td>O10038</td>\n",
       "      <td>DRIVER</td>\n",
       "      <td>c21c476e2ccc41af550b5d858d22aaac4ffc88745a1700...</td>\n",
       "      <td>HY484750</td>\n",
       "      <td>9598.0</td>\n",
       "      <td>11/01/2015 08:00:00 AM</td>\n",
       "      <td>NaN</td>\n",
       "      <td>NaN</td>\n",
       "      <td>NaN</td>\n",
       "      <td>NaN</td>\n",
       "      <td>...</td>\n",
       "      <td>NaN</td>\n",
       "      <td>UNKNOWN</td>\n",
       "      <td>UNKNOWN</td>\n",
       "      <td>UNKNOWN</td>\n",
       "      <td>NaN</td>\n",
       "      <td>NaN</td>\n",
       "      <td>NaN</td>\n",
       "      <td>TEST NOT OFFERED</td>\n",
       "      <td>NaN</td>\n",
       "      <td>NaN</td>\n",
       "    </tr>\n",
       "    <tr>\n",
       "      <th>4</th>\n",
       "      <td>O10039</td>\n",
       "      <td>DRIVER</td>\n",
       "      <td>eb390a4c8e114c69488f5fb8a097fe629f5a92fd528cf4...</td>\n",
       "      <td>HY484778</td>\n",
       "      <td>9600.0</td>\n",
       "      <td>11/01/2015 10:15:00 AM</td>\n",
       "      <td>NaN</td>\n",
       "      <td>NaN</td>\n",
       "      <td>NaN</td>\n",
       "      <td>NaN</td>\n",
       "      <td>...</td>\n",
       "      <td>NaN</td>\n",
       "      <td>UNKNOWN</td>\n",
       "      <td>UNKNOWN</td>\n",
       "      <td>UNKNOWN</td>\n",
       "      <td>NaN</td>\n",
       "      <td>NaN</td>\n",
       "      <td>NaN</td>\n",
       "      <td>TEST NOT OFFERED</td>\n",
       "      <td>NaN</td>\n",
       "      <td>NaN</td>\n",
       "    </tr>\n",
       "  </tbody>\n",
       "</table>\n",
       "<p>5 rows × 30 columns</p>\n",
       "</div>"
      ],
      "text/plain": [
       "  PERSON_ID PERSON_TYPE                                    CRASH_RECORD_ID  \\\n",
       "0   O749947      DRIVER  81dc0de2ed92aa62baccab641fa377be7feb1cc47e6554...   \n",
       "1   O871921      DRIVER  af84fb5c8d996fcd3aefd36593c3a02e6e7509eeb27568...   \n",
       "2    O10018      DRIVER  71162af7bf22799b776547132ebf134b5b438dcf3dac6b...   \n",
       "3    O10038      DRIVER  c21c476e2ccc41af550b5d858d22aaac4ffc88745a1700...   \n",
       "4    O10039      DRIVER  eb390a4c8e114c69488f5fb8a097fe629f5a92fd528cf4...   \n",
       "\n",
       "      RD_NO  VEHICLE_ID              CRASH_DATE  SEAT_NO     CITY STATE  \\\n",
       "0  JC451435    834816.0  09/28/2019 03:30:00 AM      NaN  CHICAGO    IL   \n",
       "1  JD208731    827212.0  04/13/2020 10:50:00 PM      NaN  CHICAGO    IL   \n",
       "2  HY484534      9579.0  11/01/2015 05:00:00 AM      NaN      NaN   NaN   \n",
       "3  HY484750      9598.0  11/01/2015 08:00:00 AM      NaN      NaN   NaN   \n",
       "4  HY484778      9600.0  11/01/2015 10:15:00 AM      NaN      NaN   NaN   \n",
       "\n",
       "  ZIPCODE  ... EMS_RUN_NO     DRIVER_ACTION DRIVER_VISION PHYSICAL_CONDITION  \\\n",
       "0   60651  ...        NaN           UNKNOWN       UNKNOWN            UNKNOWN   \n",
       "1   60620  ...        NaN              NONE  NOT OBSCURED             NORMAL   \n",
       "2     NaN  ...        NaN  IMPROPER BACKING       UNKNOWN            UNKNOWN   \n",
       "3     NaN  ...        NaN           UNKNOWN       UNKNOWN            UNKNOWN   \n",
       "4     NaN  ...        NaN           UNKNOWN       UNKNOWN            UNKNOWN   \n",
       "\n",
       "  PEDPEDAL_ACTION PEDPEDAL_VISIBILITY PEDPEDAL_LOCATION        BAC_RESULT  \\\n",
       "0             NaN                 NaN               NaN  TEST NOT OFFERED   \n",
       "1             NaN                 NaN               NaN  TEST NOT OFFERED   \n",
       "2             NaN                 NaN               NaN  TEST NOT OFFERED   \n",
       "3             NaN                 NaN               NaN  TEST NOT OFFERED   \n",
       "4             NaN                 NaN               NaN  TEST NOT OFFERED   \n",
       "\n",
       "  BAC_RESULT VALUE CELL_PHONE_USE  \n",
       "0              NaN            NaN  \n",
       "1              NaN            NaN  \n",
       "2              NaN            NaN  \n",
       "3              NaN            NaN  \n",
       "4              NaN            NaN  \n",
       "\n",
       "[5 rows x 30 columns]"
      ]
     },
     "execution_count": 5,
     "metadata": {},
     "output_type": "execute_result"
    }
   ],
   "source": [
    "# Read in People data\n",
    "\n",
    "df_people = pd.read_csv('Traffic_Crashes_-_People_20231109.csv', low_memory=False)\n",
    "df_people.head()"
   ]
  },
  {
   "cell_type": "code",
   "execution_count": 6,
   "metadata": {},
   "outputs": [],
   "source": [
    "# Merge People dataframe with Vehicles dataframe\n",
    "\n",
    "df = df_vehicles.merge(df_people, how=\"left\", on=[\"CRASH_RECORD_ID\", \"CRASH_DATE\", \"RD_NO\", \"VEHICLE_ID\"])"
   ]
  },
  {
   "cell_type": "code",
   "execution_count": 47,
   "metadata": {},
   "outputs": [],
   "source": [
    "# Read in John's data\n",
    "\n",
    "df_2021 = pd.read_csv('chicago_traffic_accidents_2021_to_11-09-2023.csv', low_memory=False)"
   ]
  },
  {
   "cell_type": "code",
   "execution_count": 48,
   "metadata": {},
   "outputs": [],
   "source": [
    "# Drop columns that came from Vehicles dataframe\n",
    "\n",
    "df_2021.drop(columns = ['TOWED_I', 'FIRE_I', 'TOWED_BY', 'TOWED_TO', 'CMV_ID', \n",
    "                        'USDOT_NO', 'CCMC_NO', 'ILCC_NO', 'COMMERCIAL_SRC', 'GVWR', \n",
    "                        'CARRIER_NAME', 'CARRIER_STATE', 'CARRIER_CITY',\n",
    "                        'HAZMAT_PLACARDS_I', 'HAZMAT_NAME', 'UN_NO', 'HAZMAT_PRESENT_I', \n",
    "                        'HAZMAT_REPORT_I', 'HAZMAT_REPORT_NO', 'MCS_REPORT_I',\n",
    "                        'MCS_REPORT_NO', 'HAZMAT_VIO_CAUSE_CRASH_I', 'MCS_VIO_CAUSE_CRASH_I', \n",
    "                        'IDOT_PERMIT_NO', 'WIDE_LOAD_I', 'TRAILER1_WIDTH', 'TRAILER2_WIDTH', \n",
    "                        'TRAILER1_LENGTH', 'TRAILER2_LENGTH', 'TOTAL_VEHICLE_LENGTH',\n",
    "                        'AXLE_CNT', 'VEHICLE_CONFIG', 'CARGO_BODY_TYPE', 'LOAD_TYPE',\n",
    "                        'HAZMAT_OUT_OF_SERVICE_I', 'MCS_OUT_OF_SERVICE_I', 'HAZMAT_CLASS'],\n",
    "                         inplace=True)"
   ]
  },
  {
   "cell_type": "code",
   "execution_count": 50,
   "metadata": {},
   "outputs": [],
   "source": [
    "# Drop columns that came from People dataframe\n",
    "\n",
    "df_2021.drop(columns = ['HOSPITAL', 'EMS_AGENCY', 'EMS_RUN_NO'], inplace=True)"
   ]
  },
  {
   "cell_type": "code",
   "execution_count": 15,
   "metadata": {},
   "outputs": [],
   "source": [
    "# Saving in case we decide to drop the AREA columns\n",
    "\n",
    "#df_2021.drop(columns = ['EXCEED_SPEED_LIMIT_I', 'TOWED_BY', 'TOWED_TO', 'AREA_00_I', \n",
    "                        'AREA_01_I', 'AREA_02_I', 'AREA_03_I', 'AREA_04_I', 'AREA_05_I', \n",
    "                        'AREA_06_I', 'AREA_07_I', 'AREA_08_I', 'AREA_09_I', 'AREA_10_I', \n",
    "                        'AREA_11_I', 'AREA_12_I', 'AREA_99_I', 'CMV_ID', 'USDOT_NO', \n",
    "                        'CCMC_NO', 'ILCC_NO'], inplace=True)"
   ]
  },
  {
   "cell_type": "code",
   "execution_count": 51,
   "metadata": {},
   "outputs": [
    {
     "name": "stdout",
     "output_type": "stream",
     "text": [
      "<class 'pandas.core.frame.DataFrame'>\n",
      "RangeIndex: 766656 entries, 0 to 766655\n",
      "Data columns (total 60 columns):\n",
      " #   Column                 Non-Null Count   Dtype  \n",
      "---  ------                 --------------   -----  \n",
      " 0   Unnamed: 0             766656 non-null  int64  \n",
      " 1   CRASH_UNIT_ID          766656 non-null  int64  \n",
      " 2   CRASH_RECORD_ID        766656 non-null  object \n",
      " 3   RD_NO                  755491 non-null  object \n",
      " 4   CRASH_DATE             766656 non-null  object \n",
      " 5   UNIT_NO                766656 non-null  int64  \n",
      " 6   UNIT_TYPE              765994 non-null  object \n",
      " 7   NUM_PASSENGERS         219426 non-null  float64\n",
      " 8   VEHICLE_ID             751204 non-null  float64\n",
      " 9   CMRC_VEH_I             14749 non-null   object \n",
      " 10  MAKE                   751204 non-null  object \n",
      " 11  MODEL                  751204 non-null  object \n",
      " 12  LIC_PLATE_STATE        683348 non-null  object \n",
      " 13  VEHICLE_YEAR           643053 non-null  float64\n",
      " 14  VEHICLE_DEFECT         751204 non-null  object \n",
      " 15  VEHICLE_TYPE           751204 non-null  object \n",
      " 16  VEHICLE_USE            751204 non-null  object \n",
      " 17  TRAVEL_DIRECTION       751204 non-null  object \n",
      " 18  MANEUVER               751204 non-null  object \n",
      " 19  OCCUPANT_CNT           751204 non-null  float64\n",
      " 20  EXCEED_SPEED_LIMIT_I   10 non-null      object \n",
      " 21  AREA_00_I              21234 non-null   object \n",
      " 22  AREA_01_I              221673 non-null  object \n",
      " 23  AREA_02_I              112732 non-null  object \n",
      " 24  AREA_03_I              78214 non-null   object \n",
      " 25  AREA_04_I              71113 non-null   object \n",
      " 26  AREA_05_I              114236 non-null  object \n",
      " 27  AREA_06_I              132145 non-null  object \n",
      " 28  AREA_07_I              130907 non-null  object \n",
      " 29  AREA_08_I              80405 non-null   object \n",
      " 30  AREA_09_I              82859 non-null   object \n",
      " 31  AREA_10_I              121570 non-null  object \n",
      " 32  AREA_11_I              232111 non-null  object \n",
      " 33  AREA_12_I              226444 non-null  object \n",
      " 34  AREA_99_I              85996 non-null   object \n",
      " 35  FIRST_CONTACT_POINT    751019 non-null  object \n",
      " 36  PERSON_ID              679348 non-null  object \n",
      " 37  PERSON_TYPE            679348 non-null  object \n",
      " 38  SEAT_NO                134341 non-null  float64\n",
      " 39  CITY                   482428 non-null  object \n",
      " 40  STATE                  491855 non-null  object \n",
      " 41  ZIPCODE                443915 non-null  object \n",
      " 42  SEX                    666632 non-null  object \n",
      " 43  AGE                    473136 non-null  float64\n",
      " 44  DRIVERS_LICENSE_STATE  390298 non-null  object \n",
      " 45  DRIVERS_LICENSE_CLASS  308267 non-null  object \n",
      " 46  SAFETY_EQUIPMENT       677348 non-null  object \n",
      " 47  AIRBAG_DEPLOYED        665078 non-null  object \n",
      " 48  EJECTION               670109 non-null  object \n",
      " 49  INJURY_CLASSIFICATION  679188 non-null  object \n",
      " 50  DRIVER_ACTION          543677 non-null  object \n",
      " 51  DRIVER_VISION          543417 non-null  object \n",
      " 52  PHYSICAL_CONDITION     544091 non-null  object \n",
      " 53  PEDPEDAL_ACTION        14258 non-null   object \n",
      " 54  PEDPEDAL_VISIBILITY    14240 non-null   object \n",
      " 55  PEDPEDAL_LOCATION      14256 non-null   object \n",
      " 56  BAC_RESULT             543615 non-null  object \n",
      " 57  BAC_RESULT VALUE       613 non-null     float64\n",
      " 58  CELL_PHONE_USE         2 non-null       object \n",
      " 59  YEAR                   766656 non-null  int64  \n",
      "dtypes: float64(7), int64(4), object(49)\n",
      "memory usage: 350.9+ MB\n"
     ]
    }
   ],
   "source": [
    "df_2021.info()"
   ]
  },
  {
   "cell_type": "code",
   "execution_count": 37,
   "metadata": {},
   "outputs": [
    {
     "data": {
      "text/plain": [
       "DRIVER                 654732\n",
       "PARKED                  91906\n",
       "PEDESTRIAN               8747\n",
       "BICYCLE                  5244\n",
       "DRIVERLESS               4552\n",
       "NON-MOTOR VEHICLE         514\n",
       "DISABLED VEHICLE          186\n",
       "NON-CONTACT VEHICLE       111\n",
       "EQUESTRIAN                  2\n",
       "Name: UNIT_TYPE, dtype: int64"
      ]
     },
     "execution_count": 37,
     "metadata": {},
     "output_type": "execute_result"
    }
   ],
   "source": [
    "# Check values in Unit_type column\n",
    "\n",
    "df_2021['UNIT_TYPE'].value_counts()"
   ]
  },
  {
   "cell_type": "code",
   "execution_count": 52,
   "metadata": {},
   "outputs": [],
   "source": [
    "# Read in Crashes data\n",
    "\n",
    "df_crashes = pd.read_csv('Traffic_Crashes_-_Crashes_20231109.csv', low_memory=False)"
   ]
  },
  {
   "cell_type": "code",
   "execution_count": 53,
   "metadata": {},
   "outputs": [
    {
     "name": "stdout",
     "output_type": "stream",
     "text": [
      "<class 'pandas.core.frame.DataFrame'>\n",
      "Int64Index: 766656 entries, 0 to 766655\n",
      "Columns: 108 entries, Unnamed: 0 to LOCATION\n",
      "dtypes: float64(18), int64(10), object(80)\n",
      "memory usage: 637.6+ MB\n"
     ]
    }
   ],
   "source": [
    "# Merge Crashed dataframe with working dataframe\n",
    "\n",
    "df_all = pd.merge(df_2021, df_crashes, how = 'inner', on = 'CRASH_RECORD_ID')\n",
    "df_all.info()"
   ]
  },
  {
   "cell_type": "code",
   "execution_count": 54,
   "metadata": {},
   "outputs": [],
   "source": [
    "# Drop columns that came from Crashes dataframe\n",
    "\n",
    "df_all.drop(columns = ['LANE_CNT', 'REPORT_TYPE', 'INTERSECTION_RELATED_I', \n",
    "                       'NOT_RIGHT_OF_WAY_I', 'HIT_AND_RUN_I', 'DATE_POLICE_NOTIFIED',\n",
    "                       'PHOTOS_TAKEN_I', 'STATEMENTS_TAKEN_I', 'DOORING_I', 'WORK_ZONE_I',\n",
    "                       'WORK_ZONE_TYPE', 'WORKERS_PRESENT_I'], inplace=True)"
   ]
  },
  {
   "cell_type": "code",
   "execution_count": 55,
   "metadata": {},
   "outputs": [
    {
     "name": "stdout",
     "output_type": "stream",
     "text": [
      "<class 'pandas.core.frame.DataFrame'>\n",
      "Int64Index: 766656 entries, 0 to 766655\n",
      "Data columns (total 96 columns):\n",
      " #   Column                         Non-Null Count   Dtype  \n",
      "---  ------                         --------------   -----  \n",
      " 0   Unnamed: 0                     766656 non-null  int64  \n",
      " 1   CRASH_UNIT_ID                  766656 non-null  int64  \n",
      " 2   CRASH_RECORD_ID                766656 non-null  object \n",
      " 3   RD_NO_x                        755491 non-null  object \n",
      " 4   CRASH_DATE_x                   766656 non-null  object \n",
      " 5   UNIT_NO                        766656 non-null  int64  \n",
      " 6   UNIT_TYPE                      765994 non-null  object \n",
      " 7   NUM_PASSENGERS                 219426 non-null  float64\n",
      " 8   VEHICLE_ID                     751204 non-null  float64\n",
      " 9   CMRC_VEH_I                     14749 non-null   object \n",
      " 10  MAKE                           751204 non-null  object \n",
      " 11  MODEL                          751204 non-null  object \n",
      " 12  LIC_PLATE_STATE                683348 non-null  object \n",
      " 13  VEHICLE_YEAR                   643053 non-null  float64\n",
      " 14  VEHICLE_DEFECT                 751204 non-null  object \n",
      " 15  VEHICLE_TYPE                   751204 non-null  object \n",
      " 16  VEHICLE_USE                    751204 non-null  object \n",
      " 17  TRAVEL_DIRECTION               751204 non-null  object \n",
      " 18  MANEUVER                       751204 non-null  object \n",
      " 19  OCCUPANT_CNT                   751204 non-null  float64\n",
      " 20  EXCEED_SPEED_LIMIT_I           10 non-null      object \n",
      " 21  AREA_00_I                      21234 non-null   object \n",
      " 22  AREA_01_I                      221673 non-null  object \n",
      " 23  AREA_02_I                      112732 non-null  object \n",
      " 24  AREA_03_I                      78214 non-null   object \n",
      " 25  AREA_04_I                      71113 non-null   object \n",
      " 26  AREA_05_I                      114236 non-null  object \n",
      " 27  AREA_06_I                      132145 non-null  object \n",
      " 28  AREA_07_I                      130907 non-null  object \n",
      " 29  AREA_08_I                      80405 non-null   object \n",
      " 30  AREA_09_I                      82859 non-null   object \n",
      " 31  AREA_10_I                      121570 non-null  object \n",
      " 32  AREA_11_I                      232111 non-null  object \n",
      " 33  AREA_12_I                      226444 non-null  object \n",
      " 34  AREA_99_I                      85996 non-null   object \n",
      " 35  FIRST_CONTACT_POINT            751019 non-null  object \n",
      " 36  PERSON_ID                      679348 non-null  object \n",
      " 37  PERSON_TYPE                    679348 non-null  object \n",
      " 38  SEAT_NO                        134341 non-null  float64\n",
      " 39  CITY                           482428 non-null  object \n",
      " 40  STATE                          491855 non-null  object \n",
      " 41  ZIPCODE                        443915 non-null  object \n",
      " 42  SEX                            666632 non-null  object \n",
      " 43  AGE                            473136 non-null  float64\n",
      " 44  DRIVERS_LICENSE_STATE          390298 non-null  object \n",
      " 45  DRIVERS_LICENSE_CLASS          308267 non-null  object \n",
      " 46  SAFETY_EQUIPMENT               677348 non-null  object \n",
      " 47  AIRBAG_DEPLOYED                665078 non-null  object \n",
      " 48  EJECTION                       670109 non-null  object \n",
      " 49  INJURY_CLASSIFICATION          679188 non-null  object \n",
      " 50  DRIVER_ACTION                  543677 non-null  object \n",
      " 51  DRIVER_VISION                  543417 non-null  object \n",
      " 52  PHYSICAL_CONDITION             544091 non-null  object \n",
      " 53  PEDPEDAL_ACTION                14258 non-null   object \n",
      " 54  PEDPEDAL_VISIBILITY            14240 non-null   object \n",
      " 55  PEDPEDAL_LOCATION              14256 non-null   object \n",
      " 56  BAC_RESULT                     543615 non-null  object \n",
      " 57  BAC_RESULT VALUE               613 non-null     float64\n",
      " 58  CELL_PHONE_USE                 2 non-null       object \n",
      " 59  YEAR                           766656 non-null  int64  \n",
      " 60  RD_NO_y                        755491 non-null  object \n",
      " 61  CRASH_DATE_EST_I               53765 non-null   object \n",
      " 62  CRASH_DATE_y                   766656 non-null  object \n",
      " 63  POSTED_SPEED_LIMIT             766656 non-null  int64  \n",
      " 64  TRAFFIC_CONTROL_DEVICE         766656 non-null  object \n",
      " 65  DEVICE_CONDITION               766656 non-null  object \n",
      " 66  WEATHER_CONDITION              766656 non-null  object \n",
      " 67  LIGHTING_CONDITION             766656 non-null  object \n",
      " 68  FIRST_CRASH_TYPE               766656 non-null  object \n",
      " 69  TRAFFICWAY_TYPE                766656 non-null  object \n",
      " 70  ALIGNMENT                      766656 non-null  object \n",
      " 71  ROADWAY_SURFACE_COND           766656 non-null  object \n",
      " 72  ROAD_DEFECT                    766656 non-null  object \n",
      " 73  CRASH_TYPE                     766656 non-null  object \n",
      " 74  DAMAGE                         766656 non-null  object \n",
      " 75  PRIM_CONTRIBUTORY_CAUSE        766656 non-null  object \n",
      " 76  SEC_CONTRIBUTORY_CAUSE         766656 non-null  object \n",
      " 77  STREET_NO                      766656 non-null  int64  \n",
      " 78  STREET_DIRECTION               766654 non-null  object \n",
      " 79  STREET_NAME                    766656 non-null  object \n",
      " 80  BEAT_OF_OCCURRENCE             766656 non-null  float64\n",
      " 81  NUM_UNITS                      766656 non-null  int64  \n",
      " 82  MOST_SEVERE_INJURY             765417 non-null  object \n",
      " 83  INJURIES_TOTAL                 765417 non-null  float64\n",
      " 84  INJURIES_FATAL                 765417 non-null  float64\n",
      " 85  INJURIES_INCAPACITATING        765417 non-null  float64\n",
      " 86  INJURIES_NON_INCAPACITATING    765417 non-null  float64\n",
      " 87  INJURIES_REPORTED_NOT_EVIDENT  765417 non-null  float64\n",
      " 88  INJURIES_NO_INDICATION         765417 non-null  float64\n",
      " 89  INJURIES_UNKNOWN               765417 non-null  float64\n",
      " 90  CRASH_HOUR                     766656 non-null  int64  \n",
      " 91  CRASH_DAY_OF_WEEK              766656 non-null  int64  \n",
      " 92  CRASH_MONTH                    766656 non-null  int64  \n",
      " 93  LATITUDE                       760515 non-null  float64\n",
      " 94  LONGITUDE                      760515 non-null  float64\n",
      " 95  LOCATION                       760515 non-null  object \n",
      "dtypes: float64(17), int64(10), object(69)\n",
      "memory usage: 567.4+ MB\n"
     ]
    }
   ],
   "source": [
    "df_all.info()"
   ]
  },
  {
   "cell_type": "code",
   "execution_count": 60,
   "metadata": {},
   "outputs": [
    {
     "data": {
      "text/html": [
       "<div>\n",
       "<style scoped>\n",
       "    .dataframe tbody tr th:only-of-type {\n",
       "        vertical-align: middle;\n",
       "    }\n",
       "\n",
       "    .dataframe tbody tr th {\n",
       "        vertical-align: top;\n",
       "    }\n",
       "\n",
       "    .dataframe thead th {\n",
       "        text-align: right;\n",
       "    }\n",
       "</style>\n",
       "<table border=\"1\" class=\"dataframe\">\n",
       "  <thead>\n",
       "    <tr style=\"text-align: right;\">\n",
       "      <th></th>\n",
       "      <th>Unnamed: 0</th>\n",
       "      <th>CRASH_UNIT_ID</th>\n",
       "      <th>CRASH_RECORD_ID</th>\n",
       "      <th>RD_NO_x</th>\n",
       "      <th>CRASH_DATE_x</th>\n",
       "      <th>UNIT_NO</th>\n",
       "      <th>UNIT_TYPE</th>\n",
       "      <th>NUM_PASSENGERS</th>\n",
       "      <th>VEHICLE_ID</th>\n",
       "      <th>CMRC_VEH_I</th>\n",
       "      <th>...</th>\n",
       "      <th>INJURIES_NON_INCAPACITATING</th>\n",
       "      <th>INJURIES_REPORTED_NOT_EVIDENT</th>\n",
       "      <th>INJURIES_NO_INDICATION</th>\n",
       "      <th>INJURIES_UNKNOWN</th>\n",
       "      <th>CRASH_HOUR</th>\n",
       "      <th>CRASH_DAY_OF_WEEK</th>\n",
       "      <th>CRASH_MONTH</th>\n",
       "      <th>LATITUDE</th>\n",
       "      <th>LONGITUDE</th>\n",
       "      <th>LOCATION</th>\n",
       "    </tr>\n",
       "  </thead>\n",
       "  <tbody>\n",
       "    <tr>\n",
       "      <th>19</th>\n",
       "      <td>33294</td>\n",
       "      <td>1648808</td>\n",
       "      <td>170d5f0c08092e20b964043544ff16915a9032b98c4619...</td>\n",
       "      <td>JG401640</td>\n",
       "      <td>2023-08-28 16:33:00</td>\n",
       "      <td>2</td>\n",
       "      <td>PARKED</td>\n",
       "      <td>NaN</td>\n",
       "      <td>1569101.0</td>\n",
       "      <td>NaN</td>\n",
       "      <td>...</td>\n",
       "      <td>0.0</td>\n",
       "      <td>0.0</td>\n",
       "      <td>1.0</td>\n",
       "      <td>0.0</td>\n",
       "      <td>16</td>\n",
       "      <td>2</td>\n",
       "      <td>8</td>\n",
       "      <td>41.909416</td>\n",
       "      <td>-87.753888</td>\n",
       "      <td>POINT (-87.753888412538 41.909416300937)</td>\n",
       "    </tr>\n",
       "    <tr>\n",
       "      <th>20</th>\n",
       "      <td>28</td>\n",
       "      <td>1649064</td>\n",
       "      <td>2705172425d45abf20c5f2a7f7d5527beef9a80c4e402e...</td>\n",
       "      <td>JD402266</td>\n",
       "      <td>2023-08-29 08:42:00</td>\n",
       "      <td>1</td>\n",
       "      <td>DRIVER</td>\n",
       "      <td>NaN</td>\n",
       "      <td>1572265.0</td>\n",
       "      <td>NaN</td>\n",
       "      <td>...</td>\n",
       "      <td>0.0</td>\n",
       "      <td>0.0</td>\n",
       "      <td>2.0</td>\n",
       "      <td>0.0</td>\n",
       "      <td>8</td>\n",
       "      <td>3</td>\n",
       "      <td>8</td>\n",
       "      <td>41.823097</td>\n",
       "      <td>-87.685019</td>\n",
       "      <td>POINT (-87.685018950616 41.823096760166)</td>\n",
       "    </tr>\n",
       "  </tbody>\n",
       "</table>\n",
       "<p>2 rows × 96 columns</p>\n",
       "</div>"
      ],
      "text/plain": [
       "    Unnamed: 0  CRASH_UNIT_ID  \\\n",
       "19       33294        1648808   \n",
       "20          28        1649064   \n",
       "\n",
       "                                      CRASH_RECORD_ID   RD_NO_x  \\\n",
       "19  170d5f0c08092e20b964043544ff16915a9032b98c4619...  JG401640   \n",
       "20  2705172425d45abf20c5f2a7f7d5527beef9a80c4e402e...  JD402266   \n",
       "\n",
       "           CRASH_DATE_x  UNIT_NO UNIT_TYPE  NUM_PASSENGERS  VEHICLE_ID  \\\n",
       "19  2023-08-28 16:33:00        2    PARKED             NaN   1569101.0   \n",
       "20  2023-08-29 08:42:00        1    DRIVER             NaN   1572265.0   \n",
       "\n",
       "   CMRC_VEH_I  ... INJURIES_NON_INCAPACITATING INJURIES_REPORTED_NOT_EVIDENT  \\\n",
       "19        NaN  ...                         0.0                           0.0   \n",
       "20        NaN  ...                         0.0                           0.0   \n",
       "\n",
       "   INJURIES_NO_INDICATION  INJURIES_UNKNOWN CRASH_HOUR CRASH_DAY_OF_WEEK  \\\n",
       "19                    1.0               0.0         16                 2   \n",
       "20                    2.0               0.0          8                 3   \n",
       "\n",
       "   CRASH_MONTH   LATITUDE  LONGITUDE                                  LOCATION  \n",
       "19           8  41.909416 -87.753888  POINT (-87.753888412538 41.909416300937)  \n",
       "20           8  41.823097 -87.685019  POINT (-87.685018950616 41.823096760166)  \n",
       "\n",
       "[2 rows x 96 columns]"
      ]
     },
     "execution_count": 60,
     "metadata": {},
     "output_type": "execute_result"
    }
   ],
   "source": [
    "# row 19 observation is in Dan's df but not John's\n",
    "\n",
    "df_all.iloc[19:21]"
   ]
  },
  {
   "cell_type": "code",
   "execution_count": 45,
   "metadata": {},
   "outputs": [
    {
     "data": {
      "text/plain": [
       "DRIVER                 0.780700\n",
       "PASSENGER              0.197750\n",
       "PEDESTRIAN             0.012899\n",
       "BICYCLE                0.007729\n",
       "NON-MOTOR VEHICLE      0.000760\n",
       "NON-CONTACT VEHICLE    0.000162\n",
       "Name: PERSON_TYPE, dtype: float64"
      ]
     },
     "execution_count": 45,
     "metadata": {},
     "output_type": "execute_result"
    }
   ],
   "source": [
    "# Check values in Person_type column\n",
    "\n",
    "df_all['PERSON_TYPE'].value_counts(normalize=True)"
   ]
  },
  {
   "cell_type": "code",
   "execution_count": 62,
   "metadata": {},
   "outputs": [],
   "source": [
    "# Remove all types of person except DRIVER\n",
    "\n",
    "df_drivers = df_all[df_all['PERSON_TYPE'] == 'DRIVER']"
   ]
  },
  {
   "cell_type": "code",
   "execution_count": 63,
   "metadata": {},
   "outputs": [
    {
     "data": {
      "text/plain": [
       "DRIVER    1.0\n",
       "Name: PERSON_TYPE, dtype: float64"
      ]
     },
     "execution_count": 63,
     "metadata": {},
     "output_type": "execute_result"
    }
   ],
   "source": [
    "# Sanity check\n",
    "\n",
    "df_drivers['PERSON_TYPE'].value_counts(normalize=True)"
   ]
  },
  {
   "cell_type": "code",
   "execution_count": 72,
   "metadata": {},
   "outputs": [
    {
     "data": {
      "text/plain": [
       "OVER $1,500      364281\n",
       "$501 - $1,500    121950\n",
       "$500 OR LESS      44136\n",
       "Name: DAMAGE, dtype: int64"
      ]
     },
     "execution_count": 72,
     "metadata": {},
     "output_type": "execute_result"
    }
   ],
   "source": [
    "# Check the values in Damage column\n",
    "\n",
    "df_drivers['DAMAGE'].value_counts()"
   ]
  },
  {
   "cell_type": "code",
   "execution_count": 79,
   "metadata": {},
   "outputs": [
    {
     "name": "stderr",
     "output_type": "stream",
     "text": [
      "<ipython-input-79-850e8faa12cc>:2: SettingWithCopyWarning: \n",
      "A value is trying to be set on a copy of a slice from a DataFrame.\n",
      "Try using .loc[row_indexer,col_indexer] = value instead\n",
      "\n",
      "See the caveats in the documentation: https://pandas.pydata.org/pandas-docs/stable/user_guide/indexing.html#returning-a-view-versus-a-copy\n",
      "  df_drivers['DAMAGE_LEVEL'] =  df_drivers.loc[:, ('DAMAGE')].map(damage_dict)\n"
     ]
    }
   ],
   "source": [
    "# Create a new column to identify damage as > $1500 or <= $1500\n",
    "\n",
    "damage_dict = {'OVER $1,500':'HIGH', '$501 - $1,500':'LOW', '$500 OR LESS':'LOW'}\n",
    "df_drivers['DAMAGE_LEVEL'] =  df_drivers.loc[:, ('DAMAGE')].map(damage_dict)"
   ]
  },
  {
   "cell_type": "code",
   "execution_count": 73,
   "metadata": {},
   "outputs": [
    {
     "name": "stderr",
     "output_type": "stream",
     "text": [
      "<ipython-input-73-68d799835eff>:1: SettingWithCopyWarning: \n",
      "A value is trying to be set on a copy of a slice from a DataFrame.\n",
      "Try using .loc[row_indexer,col_indexer] = value instead\n",
      "\n",
      "See the caveats in the documentation: https://pandas.pydata.org/pandas-docs/stable/user_guide/indexing.html#returning-a-view-versus-a-copy\n",
      "  df_drivers['DAMAGE_LEVEL'] = ['HIGH' if x == 'OVER $1,500' else 'LOW' for x in df_drivers['DAMAGE']]\n"
     ]
    }
   ],
   "source": [
    "# Create a new column to identify damage as > $1500 or <= $1500 (try #2 -- still getting the warning message)\n",
    "\n",
    "df_drivers['DAMAGE_LEVEL'] = ['HIGH' if x == 'OVER $1,500' else 'LOW' for x in df_drivers['DAMAGE']]"
   ]
  },
  {
   "cell_type": "code",
   "execution_count": 80,
   "metadata": {},
   "outputs": [
    {
     "data": {
      "text/plain": [
       "HIGH    364281\n",
       "LOW     166086\n",
       "Name: DAMAGE_LEVEL, dtype: int64"
      ]
     },
     "execution_count": 80,
     "metadata": {},
     "output_type": "execute_result"
    }
   ],
   "source": [
    "# Sanity check\n",
    "\n",
    "df_drivers['DAMAGE_LEVEL'].value_counts()"
   ]
  },
  {
   "cell_type": "code",
   "execution_count": 81,
   "metadata": {},
   "outputs": [],
   "source": [
    "y = df_drivers['DAMAGE_LEVEL']"
   ]
  }
 ],
 "metadata": {
  "kernelspec": {
   "display_name": "learn-env",
   "language": "python",
   "name": "python3"
  },
  "language_info": {
   "codemirror_mode": {
    "name": "ipython",
    "version": 3
   },
   "file_extension": ".py",
   "mimetype": "text/x-python",
   "name": "python",
   "nbconvert_exporter": "python",
   "pygments_lexer": "ipython3",
   "version": "3.8.5"
  }
 },
 "nbformat": 4,
 "nbformat_minor": 2
}
