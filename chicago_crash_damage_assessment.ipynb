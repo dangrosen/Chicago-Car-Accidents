{
 "cells": [
  {
   "cell_type": "markdown",
   "metadata": {},
   "source": [
    "![\"Red Car with Headlight Damage\"](Images\\red_car_crash.jpg)"
   ]
  },
  {
   "cell_type": "markdown",
   "metadata": {},
   "source": [
    "# Logistic Regression of Chcago Car Crash Data for Financial Damage Assessment"
   ]
  },
  {
   "cell_type": "markdown",
   "metadata": {},
   "source": [
    "## Business Problem/Question"
   ]
  },
  {
   "cell_type": "markdown",
   "metadata": {},
   "source": [
    "Can we use factors from this dataset that are trackable by an insurance company to determining whether a private passenger vehicle crash in Chicago incurs property damage over $1,500 and can we make good predictions using these factors? "
   ]
  },
  {
   "cell_type": "markdown",
   "metadata": {},
   "source": [
    "## EDA"
   ]
  },
  {
   "cell_type": "code",
   "execution_count": 5,
   "metadata": {},
   "outputs": [],
   "source": [
    "# Importing packages\n",
    "import numpy as np\n",
    "import pandas as pd \n",
    "import math\n",
    "\n",
    "import matplotlib.pyplot as plt\n",
    "import seaborn as sns\n",
    "%matplotlib inline\n",
    "\n",
    "from sklearn.model_selection import train_test_split, cross_val_score\n",
    "from sklearn.impute import MissingIndicator, SimpleImputer\n",
    "from sklearn.preprocessing import StandardScaler, OneHotEncoder\n",
    "from sklearn.dummy import DummyClassifier\n",
    "\n",
    "from sklearn.linear_model import LogisticRegression\n",
    "from sklearn.tree import DecisionTreeRegressor, DecisionTreeClassifier, plot_tree\n",
    "\n",
    "from sklearn.metrics import accuracy_score, log_loss\n",
    "from sklearn.metrics import roc_curve, roc_auc_score, plot_roc_curve\n",
    "from sklearn.metrics import plot_confusion_matrix, confusion_matrix"
   ]
  },
  {
   "cell_type": "markdown",
   "metadata": {},
   "source": [
    "### Read in and create new csv"
   ]
  },
  {
   "cell_type": "markdown",
   "metadata": {},
   "source": [
    "The following section is loading and merging the datasets, as well as removing columns determined to be unnecessary.  This section has been commented out because the original data files are too large.  Only the resulting dataset is uploaded to the repository, and the next section begins by loading that merged dataset. "
   ]
  },
  {
   "cell_type": "code",
   "execution_count": 6,
   "metadata": {},
   "outputs": [],
   "source": [
    "# Read in data\n",
    "\n",
    "#df_vehicles = pd.read_csv(\"Data\\Traffic_Crashes_-_Vehicles_20231109.csv\", parse_dates=[\"CRASH_DATE\"], low_memory=False)\n",
    "#df_people = pd.read_csv(\"Data\\Traffic_Crashes_-_People_20231109.csv\", parse_dates=[\"CRASH_DATE\"], low_memory=False)\n",
    "#df_crashes = pd.read_csv(\"Data\\Traffic_Crashes_-_Crashes_20231109.csv\", parse_dates=[\"CRASH_DATE\"], low_memory=False)"
   ]
  },
  {
   "cell_type": "code",
   "execution_count": 7,
   "metadata": {},
   "outputs": [],
   "source": [
    "# Filter out any data from before 2021\n",
    "\n",
    "#df_crashes = df_crashes[df_crashes[\"CRASH_DATE\"].dt.year >= 2021]\n",
    "#df_people = df_people[df_people[\"CRASH_DATE\"].dt.year >= 2021]\n",
    "#df_vehicles = df_vehicles[df_vehicles[\"CRASH_DATE\"].dt.year >= 2021]"
   ]
  },
  {
   "cell_type": "markdown",
   "metadata": {},
   "source": [
    "Using the data dictionaries to understand column names, we are dropping columns from each set that are not relevant to the business problem."
   ]
  },
  {
   "cell_type": "code",
   "execution_count": 8,
   "metadata": {},
   "outputs": [],
   "source": [
    "# Drop columns from Vehicles dataframe\n",
    "\n",
    "#df_vehicles.drop(columns = ['UNIT_NO', 'LIC_PLATE_STATE', 'TRAVEL_DIRECTION', 'MANEUVER',\n",
    "#                            'TOWED_I', 'FIRE_I', 'TOWED_BY', 'TOWED_TO', 'AREA_00_I', \n",
    "#                            'AREA_01_I', 'AREA_02_I', 'AREA_03_I', 'AREA_04_I', 'AREA_05_I', \n",
    "#                            'AREA_06_I', 'AREA_07_I', 'AREA_08_I', 'AREA_09_I', 'AREA_10_I', \n",
    "#                            'AREA_11_I', 'AREA_12_I', 'AREA_99_I', 'FIRST_CONTACT_POINT', 'CMV_ID', \n",
    "#                            'USDOT_NO', 'CCMC_NO', 'ILCC_NO', 'COMMERCIAL_SRC', 'GVWR', \n",
    "#                            'CARRIER_NAME', 'CARRIER_STATE', 'CARRIER_CITY',\n",
    "#                            'HAZMAT_PLACARDS_I', 'HAZMAT_NAME', 'UN_NO', 'HAZMAT_PRESENT_I', \n",
    "#                            'HAZMAT_REPORT_I', 'HAZMAT_REPORT_NO', 'MCS_REPORT_I',\n",
    "#                            'MCS_REPORT_NO', 'HAZMAT_VIO_CAUSE_CRASH_I', 'MCS_VIO_CAUSE_CRASH_I', \n",
    "#                            'IDOT_PERMIT_NO', 'WIDE_LOAD_I', 'TRAILER1_WIDTH', 'TRAILER2_WIDTH', \n",
    "#                            'TRAILER1_LENGTH', 'TRAILER2_LENGTH', 'TOTAL_VEHICLE_LENGTH',\n",
    "#                            'AXLE_CNT', 'VEHICLE_CONFIG', 'CARGO_BODY_TYPE', 'LOAD_TYPE',\n",
    "#                            'HAZMAT_OUT_OF_SERVICE_I', 'MCS_OUT_OF_SERVICE_I', 'HAZMAT_CLASS'],\n",
    "#                            inplace=True)"
   ]
  },
  {
   "cell_type": "code",
   "execution_count": 9,
   "metadata": {},
   "outputs": [],
   "source": [
    "# Drop columns from People dataframe\n",
    "\n",
    "#df_people.drop(columns = ['PERSON_ID', 'SEAT_NO', 'CITY', 'STATE', 'ZIPCODE', 'SAFETY_EQUIPMENT', \n",
    "#                          'AIRBAG_DEPLOYED', 'EJECTION', 'INJURY_CLASSIFICATION', 'HOSPITAL', \n",
    "#                          'EMS_AGENCY', 'EMS_RUN_NO', 'DRIVER_ACTION', 'DRIVER_VISION', 'PHYSICAL_CONDITION',\n",
    "#                          'PEDPEDAL_ACTION', 'PEDPEDAL_VISIBILITY', 'PEDPEDAL_LOCATION', 'BAC_RESULT', 'BAC_RESULT VALUE'], inplace=True)"
   ]
  },
  {
   "cell_type": "code",
   "execution_count": 10,
   "metadata": {},
   "outputs": [],
   "source": [
    "# Drop columns from Crashes dataframe\n",
    "\n",
    "#df_crashes.drop(columns = ['CRASH_DATE_EST_I', 'POSTED_SPEED_LIMIT', 'TRAFFIC_CONTROL_DEVICE', 'DEVICE_CONDITION', \n",
    "#                           'WEATHER_CONDITION', 'LIGHTING_CONDITION', 'TRAFFICWAY_TYPE', 'ALIGNMENT', \n",
    "#                           'ROADWAY_SURFACE_COND', 'ROAD_DEFECT', 'FIRST_CRASH_TYPE', 'LANE_CNT', \n",
    "#                           'REPORT_TYPE', 'CRASH_TYPE', 'INTERSECTION_RELATED_I', \n",
    "#                           'NOT_RIGHT_OF_WAY_I', 'HIT_AND_RUN_I', 'DATE_POLICE_NOTIFIED', 'STREET_NO', \n",
    "#                           'STREET_DIRECTION', 'STREET_NAME', 'PHOTOS_TAKEN_I', 'STATEMENTS_TAKEN_I', 'DOORING_I', \n",
    "#                           'WORK_ZONE_I', 'WORK_ZONE_TYPE', 'WORKERS_PRESENT_I', 'NUM_UNITS', 'MOST_SEVERE_INJURY', \n",
    "#                           'INJURIES_TOTAL', 'INJURIES_FATAL', 'INJURIES_INCAPACITATING', 'INJURIES_NON_INCAPACITATING', \n",
    "#                           'INJURIES_REPORTED_NOT_EVIDENT', 'INJURIES_NO_INDICATION', 'INJURIES_UNKNOWN', 'CRASH_MONTH', \n",
    "#                           'LATITUDE', 'LONGITUDE', 'LOCATION'], inplace=True) "
   ]
  },
  {
   "cell_type": "markdown",
   "metadata": {},
   "source": [
    "Because we are most interested in vehicle damage, we are using the Vehicles dataframe as the main and merging the others into it."
   ]
  },
  {
   "cell_type": "code",
   "execution_count": 11,
   "metadata": {},
   "outputs": [],
   "source": [
    "# Merge People dataframe with Vehicles dataframe\n",
    "\n",
    "#df = df_vehicles.merge(df_people, how=\"left\", on=[\"CRASH_RECORD_ID\", \"CRASH_DATE\", \"RD_NO\", \"VEHICLE_ID\"])"
   ]
  },
  {
   "cell_type": "code",
   "execution_count": 12,
   "metadata": {},
   "outputs": [],
   "source": [
    "# Merge Crashes dataframe with merged dataframe\n",
    "\n",
    "#df = pd.merge(df, df_crashes, how = 'inner', on = ['CRASH_RECORD_ID', \"CRASH_DATE\", \"RD_NO\"])"
   ]
  },
  {
   "cell_type": "code",
   "execution_count": 13,
   "metadata": {},
   "outputs": [],
   "source": [
    "# Exporting new dataframe to csv for use throughout rest of notebook\n",
    "\n",
    "#df.to_csv(\"Data\\chicago_traffic_accidents_2021_to_11-09-2023.csv\")"
   ]
  },
  {
   "cell_type": "markdown",
   "metadata": {},
   "source": [
    "### Working with a single merge dataset"
   ]
  },
  {
   "cell_type": "code",
   "execution_count": 14,
   "metadata": {},
   "outputs": [],
   "source": [
    "# Can load merged dataframe without needing to go through above steps each time\n",
    "\n",
    "df = pd.read_csv(\"Data\\chicago_traffic_accidents_2021_to_11-09-2023.zip\", \n",
    "                 parse_dates=[\"CRASH_DATE\"], low_memory=False)"
   ]
  },
  {
   "cell_type": "markdown",
   "metadata": {},
   "source": [
    "We don't need all the identifying columns as they are not useful in making a model. We will drop all of those now."
   ]
  },
  {
   "cell_type": "code",
   "execution_count": 15,
   "metadata": {},
   "outputs": [],
   "source": [
    "df.drop(columns = [\"Unnamed: 0\", \"CRASH_UNIT_ID\", \"CRASH_RECORD_ID\", \n",
    "                   \"RD_NO\", \"VEHICLE_ID\"], inplace=True)"
   ]
  },
  {
   "cell_type": "markdown",
   "metadata": {},
   "source": [
    "We only want unique vehicle damage count, so we need to remove rows that represent passengers, as these will duplicate the vehicle damage. We also should remove any other rows that don't represent drivers. We can use the \"PERSON_TYPE\" column for this."
   ]
  },
  {
   "cell_type": "code",
   "execution_count": 16,
   "metadata": {},
   "outputs": [
    {
     "data": {
      "text/plain": [
       "DRIVER                 0.780694\n",
       "PASSENGER              0.197756\n",
       "PEDESTRIAN             0.012899\n",
       "BICYCLE                0.007730\n",
       "NON-MOTOR VEHICLE      0.000760\n",
       "NON-CONTACT VEHICLE    0.000162\n",
       "Name: PERSON_TYPE, dtype: float64"
      ]
     },
     "execution_count": 16,
     "metadata": {},
     "output_type": "execute_result"
    }
   ],
   "source": [
    "# Check values in Person_type column\n",
    "\n",
    "df['PERSON_TYPE'].value_counts(normalize=True)"
   ]
  },
  {
   "cell_type": "code",
   "execution_count": 17,
   "metadata": {},
   "outputs": [],
   "source": [
    "# Remove all types of person except DRIVER\n",
    "\n",
    "df = df[df['PERSON_TYPE'] == 'DRIVER']"
   ]
  },
  {
   "cell_type": "code",
   "execution_count": 18,
   "metadata": {},
   "outputs": [
    {
     "data": {
      "text/plain": [
       "DRIVER    1.0\n",
       "Name: PERSON_TYPE, dtype: float64"
      ]
     },
     "execution_count": 18,
     "metadata": {},
     "output_type": "execute_result"
    }
   ],
   "source": [
    "# Sanity check\n",
    "\n",
    "df['PERSON_TYPE'].value_counts(normalize=True)"
   ]
  },
  {
   "cell_type": "markdown",
   "metadata": {},
   "source": [
    "### Missingness"
   ]
  },
  {
   "cell_type": "markdown",
   "metadata": {},
   "source": [
    "Next we look at null values to try to determine which columns might need to be imputed or if the data is too incomplete to be useful. "
   ]
  },
  {
   "cell_type": "code",
   "execution_count": 19,
   "metadata": {},
   "outputs": [],
   "source": [
    "# First dropping columns that no longer have any data after removing all but DRIVER entries\n",
    "\n",
    "df= df.dropna(axis=1, how=\"all\")"
   ]
  },
  {
   "cell_type": "code",
   "execution_count": 20,
   "metadata": {},
   "outputs": [
    {
     "name": "stdout",
     "output_type": "stream",
     "text": [
      "<class 'pandas.core.frame.DataFrame'>\n",
      "Int64Index: 530319 entries, 0 to 766594\n",
      "Data columns (total 24 columns):\n",
      " #   Column                   Non-Null Count   Dtype         \n",
      "---  ------                   --------------   -----         \n",
      " 0   CRASH_DATE               530319 non-null  datetime64[ns]\n",
      " 1   UNIT_TYPE                530310 non-null  object        \n",
      " 2   NUM_PASSENGERS           85079 non-null   float64       \n",
      " 3   CMRC_VEH_I               10945 non-null   object        \n",
      " 4   MAKE                     530098 non-null  object        \n",
      " 5   MODEL                    530098 non-null  object        \n",
      " 6   VEHICLE_YEAR             434488 non-null  float64       \n",
      " 7   VEHICLE_DEFECT           530098 non-null  object        \n",
      " 8   VEHICLE_TYPE             530098 non-null  object        \n",
      " 9   VEHICLE_USE              530098 non-null  object        \n",
      " 10  OCCUPANT_CNT             530098 non-null  float64       \n",
      " 11  EXCEED_SPEED_LIMIT_I     9 non-null       object        \n",
      " 12  PERSON_TYPE              530319 non-null  object        \n",
      " 13  SEX                      530319 non-null  object        \n",
      " 14  AGE                      377472 non-null  float64       \n",
      " 15  DRIVERS_LICENSE_STATE    390210 non-null  object        \n",
      " 16  DRIVERS_LICENSE_CLASS    308207 non-null  object        \n",
      " 17  CELL_PHONE_USE           2 non-null       object        \n",
      " 18  DAMAGE                   530319 non-null  object        \n",
      " 19  PRIM_CONTRIBUTORY_CAUSE  530319 non-null  object        \n",
      " 20  SEC_CONTRIBUTORY_CAUSE   530319 non-null  object        \n",
      " 21  BEAT_OF_OCCURRENCE       530319 non-null  float64       \n",
      " 22  CRASH_HOUR               530319 non-null  int64         \n",
      " 23  CRASH_DAY_OF_WEEK        530319 non-null  int64         \n",
      "dtypes: datetime64[ns](1), float64(5), int64(2), object(16)\n",
      "memory usage: 101.2+ MB\n"
     ]
    }
   ],
   "source": [
    "# Looking at the total nulls left in remaining columns\n",
    "\n",
    "df.info()"
   ]
  },
  {
   "cell_type": "markdown",
   "metadata": {},
   "source": [
    "There are several columns that seem useful from the data dictionaries, but look almost entirely full of nulls. We do a value_counts for those columns to see what's in them."
   ]
  },
  {
   "cell_type": "code",
   "execution_count": 21,
   "metadata": {},
   "outputs": [
    {
     "data": {
      "text/plain": [
       "NaN     445240\n",
       "1.0      60610\n",
       "2.0      15374\n",
       "3.0       6037\n",
       "4.0       2034\n",
       "5.0        560\n",
       "6.0        234\n",
       "7.0         84\n",
       "8.0         28\n",
       "10.0        23\n",
       "9.0         19\n",
       "11.0        18\n",
       "12.0        10\n",
       "17.0         6\n",
       "14.0         5\n",
       "19.0         4\n",
       "13.0         4\n",
       "16.0         4\n",
       "15.0         3\n",
       "18.0         2\n",
       "22.0         2\n",
       "21.0         2\n",
       "27.0         2\n",
       "43.0         2\n",
       "26.0         2\n",
       "20.0         1\n",
       "33.0         1\n",
       "34.0         1\n",
       "28.0         1\n",
       "46.0         1\n",
       "42.0         1\n",
       "30.0         1\n",
       "32.0         1\n",
       "31.0         1\n",
       "24.0         1\n",
       "Name: NUM_PASSENGERS, dtype: int64"
      ]
     },
     "execution_count": 21,
     "metadata": {},
     "output_type": "execute_result"
    }
   ],
   "source": [
    "# NUM_PASSENGERS\n",
    "\n",
    "df[\"NUM_PASSENGERS\"].value_counts(dropna=False)"
   ]
  },
  {
   "cell_type": "markdown",
   "metadata": {},
   "source": [
    "There is no 0 value, so the NaNs are problably 0. However, OCCUPANT_CNT represents the same information so we won't need this column. "
   ]
  },
  {
   "cell_type": "code",
   "execution_count": 22,
   "metadata": {},
   "outputs": [
    {
     "data": {
      "text/plain": [
       "NaN    519374\n",
       "Y        6602\n",
       "N        4343\n",
       "Name: CMRC_VEH_I, dtype: int64"
      ]
     },
     "execution_count": 22,
     "metadata": {},
     "output_type": "execute_result"
    }
   ],
   "source": [
    "# CMRC_VEH_I\n",
    "\n",
    "df[\"CMRC_VEH_I\"].value_counts(dropna=False)"
   ]
  },
  {
   "cell_type": "markdown",
   "metadata": {},
   "source": [
    "This is a binary flag, but the missing values represent the overwhelming majority. We can drop the Y rows because they are commercial vehicles and do not fit the business problem, but the rest we will leave as we cannot make an assumption from such a small subset that the Y/N ratio is representative of the whole. "
   ]
  },
  {
   "cell_type": "code",
   "execution_count": 23,
   "metadata": {},
   "outputs": [],
   "source": [
    "# Dropping Commercial Vehicles\n",
    "\n",
    "df = df[df[\"CMRC_VEH_I\"]!=\"Y\"]"
   ]
  },
  {
   "cell_type": "code",
   "execution_count": 24,
   "metadata": {},
   "outputs": [
    {
     "data": {
      "text/plain": [
       "NaN    519374\n",
       "N        4343\n",
       "Name: CMRC_VEH_I, dtype: int64"
      ]
     },
     "execution_count": 24,
     "metadata": {},
     "output_type": "execute_result"
    }
   ],
   "source": [
    "# Sanity Check\n",
    "\n",
    "df[\"CMRC_VEH_I\"].value_counts(dropna=False)"
   ]
  },
  {
   "cell_type": "code",
   "execution_count": 25,
   "metadata": {},
   "outputs": [
    {
     "data": {
      "text/plain": [
       "NaN    523708\n",
       "N           5\n",
       "Y           4\n",
       "Name: EXCEED_SPEED_LIMIT_I, dtype: int64"
      ]
     },
     "execution_count": 25,
     "metadata": {},
     "output_type": "execute_result"
    }
   ],
   "source": [
    "# EXCEED_SPEED_LIMIT_I\n",
    "\n",
    "df[\"EXCEED_SPEED_LIMIT_I\"].value_counts(dropna=False)"
   ]
  },
  {
   "cell_type": "markdown",
   "metadata": {},
   "source": [
    "This is a binary flag, but the missing values represent the overwhelming majority. We cannot make an assumption from such a small subset that the Y/N ratio is representative of the whole. This does not seem to be a useful column."
   ]
  },
  {
   "cell_type": "code",
   "execution_count": 26,
   "metadata": {},
   "outputs": [
    {
     "data": {
      "text/plain": [
       "NaN      0.290504\n",
       "28.0     0.020503\n",
       "27.0     0.020442\n",
       "29.0     0.020274\n",
       "26.0     0.020207\n",
       "           ...   \n",
       "101.0    0.000010\n",
       "102.0    0.000008\n",
       "103.0    0.000006\n",
       "98.0     0.000006\n",
       "110.0    0.000004\n",
       "Name: AGE, Length: 106, dtype: float64"
      ]
     },
     "execution_count": 26,
     "metadata": {},
     "output_type": "execute_result"
    }
   ],
   "source": [
    "# AGE\n",
    "\n",
    "df[\"AGE\"].value_counts(dropna=False, normalize=True)"
   ]
  },
  {
   "cell_type": "code",
   "execution_count": 27,
   "metadata": {},
   "outputs": [
    {
     "data": {
      "image/png": "[encoded data removed]",
      "text/plain": [
       "<Figure size 432x288 with 1 Axes>"
      ]
     },
     "metadata": {
      "needs_background": "light"
     },
     "output_type": "display_data"
    }
   ],
   "source": [
    "sns.histplot(df[\"AGE\"]);"
   ]
  },
  {
   "cell_type": "markdown",
   "metadata": {},
   "source": [
    "Missing values is a relatively large percentage of the whole at about 29%. There are many ages labeled 0, which may be another indicator of missingness. Also there are ages below the legal driving age of 15 which would not be included in an insurable class of people. We will drop ages unknown or below 15."
   ]
  },
  {
   "cell_type": "code",
   "execution_count": 28,
   "metadata": {},
   "outputs": [],
   "source": [
    "# Removing ages that could not drive legally or are unknown\n",
    "df=df[df[\"AGE\"]>14]"
   ]
  },
  {
   "cell_type": "code",
   "execution_count": 29,
   "metadata": {},
   "outputs": [
    {
     "data": {
      "image/png": "[encoded data removed]",
      "text/plain": [
       "<Figure size 432x288 with 1 Axes>"
      ]
     },
     "metadata": {
      "needs_background": "light"
     },
     "output_type": "display_data"
    }
   ],
   "source": [
    "sns.histplot(df[\"AGE\"]);"
   ]
  },
  {
   "cell_type": "code",
   "execution_count": 30,
   "metadata": {},
   "outputs": [
    {
     "data": {
      "text/plain": [
       "NaN    368278\n",
       "N           1\n",
       "Name: CELL_PHONE_USE, dtype: int64"
      ]
     },
     "execution_count": 30,
     "metadata": {},
     "output_type": "execute_result"
    }
   ],
   "source": [
    "# CELL_PHONE_USE\n",
    "\n",
    "df[\"CELL_PHONE_USE\"].value_counts(dropna=False)"
   ]
  },
  {
   "cell_type": "markdown",
   "metadata": {},
   "source": [
    "This is a binary flag, but the missing values represent the overwhelming majority. We cannot make an assumption from such a small subset that the Y/N ratio is representative of the whole. This does not seem to be a useful column."
   ]
  },
  {
   "cell_type": "code",
   "execution_count": 31,
   "metadata": {},
   "outputs": [],
   "source": [
    "# Dropping all columns determined not to be useful\n",
    "\n",
    "df.drop(columns = [\"CMRC_VEH_I\", \"EXCEED_SPEED_LIMIT_I\", \"CELL_PHONE_USE\"], inplace=True)"
   ]
  },
  {
   "cell_type": "code",
   "execution_count": 32,
   "metadata": {},
   "outputs": [
    {
     "name": "stdout",
     "output_type": "stream",
     "text": [
      "<class 'pandas.core.frame.DataFrame'>\n",
      "Int64Index: 368279 entries, 0 to 766594\n",
      "Data columns (total 21 columns):\n",
      " #   Column                   Non-Null Count   Dtype         \n",
      "---  ------                   --------------   -----         \n",
      " 0   CRASH_DATE               368279 non-null  datetime64[ns]\n",
      " 1   UNIT_TYPE                368277 non-null  object        \n",
      " 2   NUM_PASSENGERS           72153 non-null   float64       \n",
      " 3   MAKE                     368169 non-null  object        \n",
      " 4   MODEL                    368169 non-null  object        \n",
      " 5   VEHICLE_YEAR             353179 non-null  float64       \n",
      " 6   VEHICLE_DEFECT           368169 non-null  object        \n",
      " 7   VEHICLE_TYPE             368169 non-null  object        \n",
      " 8   VEHICLE_USE              368169 non-null  object        \n",
      " 9   OCCUPANT_CNT             368169 non-null  float64       \n",
      " 10  PERSON_TYPE              368279 non-null  object        \n",
      " 11  SEX                      368279 non-null  object        \n",
      " 12  AGE                      368279 non-null  float64       \n",
      " 13  DRIVERS_LICENSE_STATE    352058 non-null  object        \n",
      " 14  DRIVERS_LICENSE_CLASS    289274 non-null  object        \n",
      " 15  DAMAGE                   368279 non-null  object        \n",
      " 16  PRIM_CONTRIBUTORY_CAUSE  368279 non-null  object        \n",
      " 17  SEC_CONTRIBUTORY_CAUSE   368279 non-null  object        \n",
      " 18  BEAT_OF_OCCURRENCE       368279 non-null  float64       \n",
      " 19  CRASH_HOUR               368279 non-null  int64         \n",
      " 20  CRASH_DAY_OF_WEEK        368279 non-null  int64         \n",
      "dtypes: datetime64[ns](1), float64(5), int64(2), object(13)\n",
      "memory usage: 61.8+ MB\n"
     ]
    }
   ],
   "source": [
    "#Sanity Check\n",
    "\n",
    "df.info()"
   ]
  },
  {
   "cell_type": "markdown",
   "metadata": {},
   "source": [
    "### Compare Variables"
   ]
  },
  {
   "cell_type": "code",
   "execution_count": 33,
   "metadata": {},
   "outputs": [
    {
     "name": "stderr",
     "output_type": "stream",
     "text": [
      "<ipython-input-33-b1800870b00c>:3: FutureWarning: Treating datetime data as categorical rather than numeric in `.describe` is deprecated and will be removed in a future version of pandas. Specify `datetime_is_numeric=True` to silence this warning and adopt the future behavior now.\n",
      "  df.describe(include=\"all\")\n"
     ]
    },
    {
     "data": {
      "text/html": [
       "<div>\n",
       "<style scoped>\n",
       "    .dataframe tbody tr th:only-of-type {\n",
       "        vertical-align: middle;\n",
       "    }\n",
       "\n",
       "    .dataframe tbody tr th {\n",
       "        vertical-align: top;\n",
       "    }\n",
       "\n",
       "    .dataframe thead th {\n",
       "        text-align: right;\n",
       "    }\n",
       "</style>\n",
       "<table border=\"1\" class=\"dataframe\">\n",
       "  <thead>\n",
       "    <tr style=\"text-align: right;\">\n",
       "      <th></th>\n",
       "      <th>CRASH_DATE</th>\n",
       "      <th>UNIT_TYPE</th>\n",
       "      <th>NUM_PASSENGERS</th>\n",
       "      <th>MAKE</th>\n",
       "      <th>MODEL</th>\n",
       "      <th>VEHICLE_YEAR</th>\n",
       "      <th>VEHICLE_DEFECT</th>\n",
       "      <th>VEHICLE_TYPE</th>\n",
       "      <th>VEHICLE_USE</th>\n",
       "      <th>OCCUPANT_CNT</th>\n",
       "      <th>...</th>\n",
       "      <th>SEX</th>\n",
       "      <th>AGE</th>\n",
       "      <th>DRIVERS_LICENSE_STATE</th>\n",
       "      <th>DRIVERS_LICENSE_CLASS</th>\n",
       "      <th>DAMAGE</th>\n",
       "      <th>PRIM_CONTRIBUTORY_CAUSE</th>\n",
       "      <th>SEC_CONTRIBUTORY_CAUSE</th>\n",
       "      <th>BEAT_OF_OCCURRENCE</th>\n",
       "      <th>CRASH_HOUR</th>\n",
       "      <th>CRASH_DAY_OF_WEEK</th>\n",
       "    </tr>\n",
       "  </thead>\n",
       "  <tbody>\n",
       "    <tr>\n",
       "      <th>count</th>\n",
       "      <td>368279</td>\n",
       "      <td>368277</td>\n",
       "      <td>72153.000000</td>\n",
       "      <td>368169</td>\n",
       "      <td>368169</td>\n",
       "      <td>353179.000000</td>\n",
       "      <td>368169</td>\n",
       "      <td>368169</td>\n",
       "      <td>368169</td>\n",
       "      <td>368169.000000</td>\n",
       "      <td>...</td>\n",
       "      <td>368279</td>\n",
       "      <td>368279.000000</td>\n",
       "      <td>352058</td>\n",
       "      <td>289274</td>\n",
       "      <td>368279</td>\n",
       "      <td>368279</td>\n",
       "      <td>368279</td>\n",
       "      <td>368279.000000</td>\n",
       "      <td>368279.000000</td>\n",
       "      <td>368279.000000</td>\n",
       "    </tr>\n",
       "    <tr>\n",
       "      <th>unique</th>\n",
       "      <td>173949</td>\n",
       "      <td>4</td>\n",
       "      <td>NaN</td>\n",
       "      <td>569</td>\n",
       "      <td>1609</td>\n",
       "      <td>NaN</td>\n",
       "      <td>17</td>\n",
       "      <td>20</td>\n",
       "      <td>23</td>\n",
       "      <td>NaN</td>\n",
       "      <td>...</td>\n",
       "      <td>3</td>\n",
       "      <td>NaN</td>\n",
       "      <td>173</td>\n",
       "      <td>172</td>\n",
       "      <td>3</td>\n",
       "      <td>38</td>\n",
       "      <td>38</td>\n",
       "      <td>NaN</td>\n",
       "      <td>NaN</td>\n",
       "      <td>NaN</td>\n",
       "    </tr>\n",
       "    <tr>\n",
       "      <th>top</th>\n",
       "      <td>2021-02-04 14:00:00</td>\n",
       "      <td>DRIVER</td>\n",
       "      <td>NaN</td>\n",
       "      <td>TOYOTA</td>\n",
       "      <td>OTHER (EXPLAIN IN NARRATIVE)</td>\n",
       "      <td>NaN</td>\n",
       "      <td>NONE</td>\n",
       "      <td>PASSENGER</td>\n",
       "      <td>PERSONAL</td>\n",
       "      <td>NaN</td>\n",
       "      <td>...</td>\n",
       "      <td>M</td>\n",
       "      <td>NaN</td>\n",
       "      <td>IL</td>\n",
       "      <td>D</td>\n",
       "      <td>OVER $1,500</td>\n",
       "      <td>UNABLE TO DETERMINE</td>\n",
       "      <td>NOT APPLICABLE</td>\n",
       "      <td>NaN</td>\n",
       "      <td>NaN</td>\n",
       "      <td>NaN</td>\n",
       "    </tr>\n",
       "    <tr>\n",
       "      <th>freq</th>\n",
       "      <td>27</td>\n",
       "      <td>368272</td>\n",
       "      <td>NaN</td>\n",
       "      <td>47180</td>\n",
       "      <td>34854</td>\n",
       "      <td>NaN</td>\n",
       "      <td>210259</td>\n",
       "      <td>249854</td>\n",
       "      <td>298071</td>\n",
       "      <td>NaN</td>\n",
       "      <td>...</td>\n",
       "      <td>217155</td>\n",
       "      <td>NaN</td>\n",
       "      <td>328802</td>\n",
       "      <td>255265</td>\n",
       "      <td>258705</td>\n",
       "      <td>123826</td>\n",
       "      <td>148618</td>\n",
       "      <td>NaN</td>\n",
       "      <td>NaN</td>\n",
       "      <td>NaN</td>\n",
       "    </tr>\n",
       "    <tr>\n",
       "      <th>first</th>\n",
       "      <td>2021-01-01 00:00:00</td>\n",
       "      <td>NaN</td>\n",
       "      <td>NaN</td>\n",
       "      <td>NaN</td>\n",
       "      <td>NaN</td>\n",
       "      <td>NaN</td>\n",
       "      <td>NaN</td>\n",
       "      <td>NaN</td>\n",
       "      <td>NaN</td>\n",
       "      <td>NaN</td>\n",
       "      <td>...</td>\n",
       "      <td>NaN</td>\n",
       "      <td>NaN</td>\n",
       "      <td>NaN</td>\n",
       "      <td>NaN</td>\n",
       "      <td>NaN</td>\n",
       "      <td>NaN</td>\n",
       "      <td>NaN</td>\n",
       "      <td>NaN</td>\n",
       "      <td>NaN</td>\n",
       "      <td>NaN</td>\n",
       "    </tr>\n",
       "    <tr>\n",
       "      <th>last</th>\n",
       "      <td>2023-11-09 02:40:00</td>\n",
       "      <td>NaN</td>\n",
       "      <td>NaN</td>\n",
       "      <td>NaN</td>\n",
       "      <td>NaN</td>\n",
       "      <td>NaN</td>\n",
       "      <td>NaN</td>\n",
       "      <td>NaN</td>\n",
       "      <td>NaN</td>\n",
       "      <td>NaN</td>\n",
       "      <td>...</td>\n",
       "      <td>NaN</td>\n",
       "      <td>NaN</td>\n",
       "      <td>NaN</td>\n",
       "      <td>NaN</td>\n",
       "      <td>NaN</td>\n",
       "      <td>NaN</td>\n",
       "      <td>NaN</td>\n",
       "      <td>NaN</td>\n",
       "      <td>NaN</td>\n",
       "      <td>NaN</td>\n",
       "    </tr>\n",
       "    <tr>\n",
       "      <th>mean</th>\n",
       "      <td>NaN</td>\n",
       "      <td>NaN</td>\n",
       "      <td>1.467243</td>\n",
       "      <td>NaN</td>\n",
       "      <td>NaN</td>\n",
       "      <td>2013.767948</td>\n",
       "      <td>NaN</td>\n",
       "      <td>NaN</td>\n",
       "      <td>NaN</td>\n",
       "      <td>1.287110</td>\n",
       "      <td>...</td>\n",
       "      <td>NaN</td>\n",
       "      <td>40.274974</td>\n",
       "      <td>NaN</td>\n",
       "      <td>NaN</td>\n",
       "      <td>NaN</td>\n",
       "      <td>NaN</td>\n",
       "      <td>NaN</td>\n",
       "      <td>1250.812493</td>\n",
       "      <td>13.450628</td>\n",
       "      <td>4.150747</td>\n",
       "    </tr>\n",
       "    <tr>\n",
       "      <th>std</th>\n",
       "      <td>NaN</td>\n",
       "      <td>NaN</td>\n",
       "      <td>1.023336</td>\n",
       "      <td>NaN</td>\n",
       "      <td>NaN</td>\n",
       "      <td>56.012655</td>\n",
       "      <td>NaN</td>\n",
       "      <td>NaN</td>\n",
       "      <td>NaN</td>\n",
       "      <td>0.736437</td>\n",
       "      <td>...</td>\n",
       "      <td>NaN</td>\n",
       "      <td>15.473202</td>\n",
       "      <td>NaN</td>\n",
       "      <td>NaN</td>\n",
       "      <td>NaN</td>\n",
       "      <td>NaN</td>\n",
       "      <td>NaN</td>\n",
       "      <td>697.595774</td>\n",
       "      <td>5.326376</td>\n",
       "      <td>1.963749</td>\n",
       "    </tr>\n",
       "    <tr>\n",
       "      <th>min</th>\n",
       "      <td>NaN</td>\n",
       "      <td>NaN</td>\n",
       "      <td>1.000000</td>\n",
       "      <td>NaN</td>\n",
       "      <td>NaN</td>\n",
       "      <td>1900.000000</td>\n",
       "      <td>NaN</td>\n",
       "      <td>NaN</td>\n",
       "      <td>NaN</td>\n",
       "      <td>0.000000</td>\n",
       "      <td>...</td>\n",
       "      <td>NaN</td>\n",
       "      <td>15.000000</td>\n",
       "      <td>NaN</td>\n",
       "      <td>NaN</td>\n",
       "      <td>NaN</td>\n",
       "      <td>NaN</td>\n",
       "      <td>NaN</td>\n",
       "      <td>111.000000</td>\n",
       "      <td>0.000000</td>\n",
       "      <td>1.000000</td>\n",
       "    </tr>\n",
       "    <tr>\n",
       "      <th>25%</th>\n",
       "      <td>NaN</td>\n",
       "      <td>NaN</td>\n",
       "      <td>1.000000</td>\n",
       "      <td>NaN</td>\n",
       "      <td>NaN</td>\n",
       "      <td>2009.000000</td>\n",
       "      <td>NaN</td>\n",
       "      <td>NaN</td>\n",
       "      <td>NaN</td>\n",
       "      <td>1.000000</td>\n",
       "      <td>...</td>\n",
       "      <td>NaN</td>\n",
       "      <td>28.000000</td>\n",
       "      <td>NaN</td>\n",
       "      <td>NaN</td>\n",
       "      <td>NaN</td>\n",
       "      <td>NaN</td>\n",
       "      <td>NaN</td>\n",
       "      <td>725.000000</td>\n",
       "      <td>10.000000</td>\n",
       "      <td>2.000000</td>\n",
       "    </tr>\n",
       "    <tr>\n",
       "      <th>50%</th>\n",
       "      <td>NaN</td>\n",
       "      <td>NaN</td>\n",
       "      <td>1.000000</td>\n",
       "      <td>NaN</td>\n",
       "      <td>NaN</td>\n",
       "      <td>2014.000000</td>\n",
       "      <td>NaN</td>\n",
       "      <td>NaN</td>\n",
       "      <td>NaN</td>\n",
       "      <td>1.000000</td>\n",
       "      <td>...</td>\n",
       "      <td>NaN</td>\n",
       "      <td>37.000000</td>\n",
       "      <td>NaN</td>\n",
       "      <td>NaN</td>\n",
       "      <td>NaN</td>\n",
       "      <td>NaN</td>\n",
       "      <td>NaN</td>\n",
       "      <td>1214.000000</td>\n",
       "      <td>14.000000</td>\n",
       "      <td>4.000000</td>\n",
       "    </tr>\n",
       "    <tr>\n",
       "      <th>75%</th>\n",
       "      <td>NaN</td>\n",
       "      <td>NaN</td>\n",
       "      <td>2.000000</td>\n",
       "      <td>NaN</td>\n",
       "      <td>NaN</td>\n",
       "      <td>2018.000000</td>\n",
       "      <td>NaN</td>\n",
       "      <td>NaN</td>\n",
       "      <td>NaN</td>\n",
       "      <td>1.000000</td>\n",
       "      <td>...</td>\n",
       "      <td>NaN</td>\n",
       "      <td>51.000000</td>\n",
       "      <td>NaN</td>\n",
       "      <td>NaN</td>\n",
       "      <td>NaN</td>\n",
       "      <td>NaN</td>\n",
       "      <td>NaN</td>\n",
       "      <td>1814.000000</td>\n",
       "      <td>17.000000</td>\n",
       "      <td>6.000000</td>\n",
       "    </tr>\n",
       "    <tr>\n",
       "      <th>max</th>\n",
       "      <td>NaN</td>\n",
       "      <td>NaN</td>\n",
       "      <td>46.000000</td>\n",
       "      <td>NaN</td>\n",
       "      <td>NaN</td>\n",
       "      <td>9999.000000</td>\n",
       "      <td>NaN</td>\n",
       "      <td>NaN</td>\n",
       "      <td>NaN</td>\n",
       "      <td>47.000000</td>\n",
       "      <td>...</td>\n",
       "      <td>NaN</td>\n",
       "      <td>110.000000</td>\n",
       "      <td>NaN</td>\n",
       "      <td>NaN</td>\n",
       "      <td>NaN</td>\n",
       "      <td>NaN</td>\n",
       "      <td>NaN</td>\n",
       "      <td>2535.000000</td>\n",
       "      <td>23.000000</td>\n",
       "      <td>7.000000</td>\n",
       "    </tr>\n",
       "  </tbody>\n",
       "</table>\n",
       "<p>13 rows × 21 columns</p>\n",
       "</div>"
      ],
      "text/plain": [
       "                 CRASH_DATE UNIT_TYPE  NUM_PASSENGERS    MAKE  \\\n",
       "count                368279    368277    72153.000000  368169   \n",
       "unique               173949         4             NaN     569   \n",
       "top     2021-02-04 14:00:00    DRIVER             NaN  TOYOTA   \n",
       "freq                     27    368272             NaN   47180   \n",
       "first   2021-01-01 00:00:00       NaN             NaN     NaN   \n",
       "last    2023-11-09 02:40:00       NaN             NaN     NaN   \n",
       "mean                    NaN       NaN        1.467243     NaN   \n",
       "std                     NaN       NaN        1.023336     NaN   \n",
       "min                     NaN       NaN        1.000000     NaN   \n",
       "25%                     NaN       NaN        1.000000     NaN   \n",
       "50%                     NaN       NaN        1.000000     NaN   \n",
       "75%                     NaN       NaN        2.000000     NaN   \n",
       "max                     NaN       NaN       46.000000     NaN   \n",
       "\n",
       "                               MODEL   VEHICLE_YEAR VEHICLE_DEFECT  \\\n",
       "count                         368169  353179.000000         368169   \n",
       "unique                          1609            NaN             17   \n",
       "top     OTHER (EXPLAIN IN NARRATIVE)            NaN           NONE   \n",
       "freq                           34854            NaN         210259   \n",
       "first                            NaN            NaN            NaN   \n",
       "last                             NaN            NaN            NaN   \n",
       "mean                             NaN    2013.767948            NaN   \n",
       "std                              NaN      56.012655            NaN   \n",
       "min                              NaN    1900.000000            NaN   \n",
       "25%                              NaN    2009.000000            NaN   \n",
       "50%                              NaN    2014.000000            NaN   \n",
       "75%                              NaN    2018.000000            NaN   \n",
       "max                              NaN    9999.000000            NaN   \n",
       "\n",
       "       VEHICLE_TYPE VEHICLE_USE   OCCUPANT_CNT  ...     SEX            AGE  \\\n",
       "count        368169      368169  368169.000000  ...  368279  368279.000000   \n",
       "unique           20          23            NaN  ...       3            NaN   \n",
       "top       PASSENGER    PERSONAL            NaN  ...       M            NaN   \n",
       "freq         249854      298071            NaN  ...  217155            NaN   \n",
       "first           NaN         NaN            NaN  ...     NaN            NaN   \n",
       "last            NaN         NaN            NaN  ...     NaN            NaN   \n",
       "mean            NaN         NaN       1.287110  ...     NaN      40.274974   \n",
       "std             NaN         NaN       0.736437  ...     NaN      15.473202   \n",
       "min             NaN         NaN       0.000000  ...     NaN      15.000000   \n",
       "25%             NaN         NaN       1.000000  ...     NaN      28.000000   \n",
       "50%             NaN         NaN       1.000000  ...     NaN      37.000000   \n",
       "75%             NaN         NaN       1.000000  ...     NaN      51.000000   \n",
       "max             NaN         NaN      47.000000  ...     NaN     110.000000   \n",
       "\n",
       "        DRIVERS_LICENSE_STATE DRIVERS_LICENSE_CLASS       DAMAGE  \\\n",
       "count                  352058                289274       368279   \n",
       "unique                    173                   172            3   \n",
       "top                        IL                     D  OVER $1,500   \n",
       "freq                   328802                255265       258705   \n",
       "first                     NaN                   NaN          NaN   \n",
       "last                      NaN                   NaN          NaN   \n",
       "mean                      NaN                   NaN          NaN   \n",
       "std                       NaN                   NaN          NaN   \n",
       "min                       NaN                   NaN          NaN   \n",
       "25%                       NaN                   NaN          NaN   \n",
       "50%                       NaN                   NaN          NaN   \n",
       "75%                       NaN                   NaN          NaN   \n",
       "max                       NaN                   NaN          NaN   \n",
       "\n",
       "       PRIM_CONTRIBUTORY_CAUSE SEC_CONTRIBUTORY_CAUSE BEAT_OF_OCCURRENCE  \\\n",
       "count                   368279                 368279      368279.000000   \n",
       "unique                      38                     38                NaN   \n",
       "top        UNABLE TO DETERMINE         NOT APPLICABLE                NaN   \n",
       "freq                    123826                 148618                NaN   \n",
       "first                      NaN                    NaN                NaN   \n",
       "last                       NaN                    NaN                NaN   \n",
       "mean                       NaN                    NaN        1250.812493   \n",
       "std                        NaN                    NaN         697.595774   \n",
       "min                        NaN                    NaN         111.000000   \n",
       "25%                        NaN                    NaN         725.000000   \n",
       "50%                        NaN                    NaN        1214.000000   \n",
       "75%                        NaN                    NaN        1814.000000   \n",
       "max                        NaN                    NaN        2535.000000   \n",
       "\n",
       "           CRASH_HOUR  CRASH_DAY_OF_WEEK  \n",
       "count   368279.000000      368279.000000  \n",
       "unique            NaN                NaN  \n",
       "top               NaN                NaN  \n",
       "freq              NaN                NaN  \n",
       "first             NaN                NaN  \n",
       "last              NaN                NaN  \n",
       "mean        13.450628           4.150747  \n",
       "std          5.326376           1.963749  \n",
       "min          0.000000           1.000000  \n",
       "25%         10.000000           2.000000  \n",
       "50%         14.000000           4.000000  \n",
       "75%         17.000000           6.000000  \n",
       "max         23.000000           7.000000  \n",
       "\n",
       "[13 rows x 21 columns]"
      ]
     },
     "execution_count": 33,
     "metadata": {},
     "output_type": "execute_result"
    }
   ],
   "source": [
    "# Check out the rest of the variables for weirdness\n",
    "\n",
    "df.describe(include=\"all\")"
   ]
  },
  {
   "cell_type": "markdown",
   "metadata": {},
   "source": [
    "Look at VEHICLE_YEAR because max is 9999."
   ]
  },
  {
   "cell_type": "code",
   "execution_count": 34,
   "metadata": {},
   "outputs": [
    {
     "data": {
      "text/plain": [
       "185"
      ]
     },
     "execution_count": 34,
     "metadata": {},
     "output_type": "execute_result"
    }
   ],
   "source": [
    "# First we'll see how many vehicles have vehicle years that are not possible\n",
    "\n",
    "future_cars = df[df[\"VEHICLE_YEAR\"] > 2024]\n",
    "future_cars[\"VEHICLE_YEAR\"].count()"
   ]
  },
  {
   "cell_type": "code",
   "execution_count": 35,
   "metadata": {},
   "outputs": [
    {
     "data": {
      "text/html": [
       "<div>\n",
       "<style scoped>\n",
       "    .dataframe tbody tr th:only-of-type {\n",
       "        vertical-align: middle;\n",
       "    }\n",
       "\n",
       "    .dataframe tbody tr th {\n",
       "        vertical-align: top;\n",
       "    }\n",
       "\n",
       "    .dataframe thead th {\n",
       "        text-align: right;\n",
       "    }\n",
       "</style>\n",
       "<table border=\"1\" class=\"dataframe\">\n",
       "  <thead>\n",
       "    <tr style=\"text-align: right;\">\n",
       "      <th></th>\n",
       "      <th>CRASH_DATE</th>\n",
       "      <th>UNIT_TYPE</th>\n",
       "      <th>NUM_PASSENGERS</th>\n",
       "      <th>MAKE</th>\n",
       "      <th>MODEL</th>\n",
       "      <th>VEHICLE_YEAR</th>\n",
       "      <th>VEHICLE_DEFECT</th>\n",
       "      <th>VEHICLE_TYPE</th>\n",
       "      <th>VEHICLE_USE</th>\n",
       "      <th>OCCUPANT_CNT</th>\n",
       "      <th>...</th>\n",
       "      <th>SEX</th>\n",
       "      <th>AGE</th>\n",
       "      <th>DRIVERS_LICENSE_STATE</th>\n",
       "      <th>DRIVERS_LICENSE_CLASS</th>\n",
       "      <th>DAMAGE</th>\n",
       "      <th>PRIM_CONTRIBUTORY_CAUSE</th>\n",
       "      <th>SEC_CONTRIBUTORY_CAUSE</th>\n",
       "      <th>BEAT_OF_OCCURRENCE</th>\n",
       "      <th>CRASH_HOUR</th>\n",
       "      <th>CRASH_DAY_OF_WEEK</th>\n",
       "    </tr>\n",
       "  </thead>\n",
       "  <tbody>\n",
       "    <tr>\n",
       "      <th>773</th>\n",
       "      <td>2023-04-24 14:13:00</td>\n",
       "      <td>DRIVER</td>\n",
       "      <td>NaN</td>\n",
       "      <td>ACURA</td>\n",
       "      <td>ILX</td>\n",
       "      <td>2032.0</td>\n",
       "      <td>UNKNOWN</td>\n",
       "      <td>PASSENGER</td>\n",
       "      <td>PERSONAL</td>\n",
       "      <td>1.0</td>\n",
       "      <td>...</td>\n",
       "      <td>F</td>\n",
       "      <td>46.0</td>\n",
       "      <td>NaN</td>\n",
       "      <td>D</td>\n",
       "      <td>OVER $1,500</td>\n",
       "      <td>IMPROPER TURNING/NO SIGNAL</td>\n",
       "      <td>NOT APPLICABLE</td>\n",
       "      <td>123.0</td>\n",
       "      <td>14</td>\n",
       "      <td>2</td>\n",
       "    </tr>\n",
       "    <tr>\n",
       "      <th>1823</th>\n",
       "      <td>2023-08-18 16:00:00</td>\n",
       "      <td>DRIVER</td>\n",
       "      <td>NaN</td>\n",
       "      <td>HONDA</td>\n",
       "      <td>HR-V</td>\n",
       "      <td>2108.0</td>\n",
       "      <td>NONE</td>\n",
       "      <td>SPORT UTILITY VEHICLE (SUV)</td>\n",
       "      <td>PERSONAL</td>\n",
       "      <td>1.0</td>\n",
       "      <td>...</td>\n",
       "      <td>F</td>\n",
       "      <td>41.0</td>\n",
       "      <td>NaN</td>\n",
       "      <td>NaN</td>\n",
       "      <td>$501 - $1,500</td>\n",
       "      <td>NOT APPLICABLE</td>\n",
       "      <td>NOT APPLICABLE</td>\n",
       "      <td>922.0</td>\n",
       "      <td>16</td>\n",
       "      <td>6</td>\n",
       "    </tr>\n",
       "    <tr>\n",
       "      <th>14367</th>\n",
       "      <td>2023-05-04 18:58:00</td>\n",
       "      <td>DRIVER</td>\n",
       "      <td>NaN</td>\n",
       "      <td>HONDA</td>\n",
       "      <td>ODYSSEY</td>\n",
       "      <td>2100.0</td>\n",
       "      <td>UNKNOWN</td>\n",
       "      <td>VAN/MINI-VAN</td>\n",
       "      <td>PERSONAL</td>\n",
       "      <td>1.0</td>\n",
       "      <td>...</td>\n",
       "      <td>F</td>\n",
       "      <td>48.0</td>\n",
       "      <td>IL</td>\n",
       "      <td>D</td>\n",
       "      <td>OVER $1,500</td>\n",
       "      <td>DRIVING SKILLS/KNOWLEDGE/EXPERIENCE</td>\n",
       "      <td>NOT APPLICABLE</td>\n",
       "      <td>632.0</td>\n",
       "      <td>18</td>\n",
       "      <td>5</td>\n",
       "    </tr>\n",
       "    <tr>\n",
       "      <th>15356</th>\n",
       "      <td>2023-05-05 15:00:00</td>\n",
       "      <td>DRIVER</td>\n",
       "      <td>NaN</td>\n",
       "      <td>GENERAL MOTORS CORPORATION (GMC)</td>\n",
       "      <td>SAVANNAH</td>\n",
       "      <td>3009.0</td>\n",
       "      <td>UNKNOWN</td>\n",
       "      <td>PASSENGER</td>\n",
       "      <td>PERSONAL</td>\n",
       "      <td>1.0</td>\n",
       "      <td>...</td>\n",
       "      <td>M</td>\n",
       "      <td>64.0</td>\n",
       "      <td>IL</td>\n",
       "      <td>NaN</td>\n",
       "      <td>$501 - $1,500</td>\n",
       "      <td>FOLLOWING TOO CLOSELY</td>\n",
       "      <td>FOLLOWING TOO CLOSELY</td>\n",
       "      <td>1621.0</td>\n",
       "      <td>15</td>\n",
       "      <td>6</td>\n",
       "    </tr>\n",
       "    <tr>\n",
       "      <th>16494</th>\n",
       "      <td>2023-05-06 08:17:00</td>\n",
       "      <td>DRIVER</td>\n",
       "      <td>NaN</td>\n",
       "      <td>CHEVROLET</td>\n",
       "      <td>TRUCK</td>\n",
       "      <td>2066.0</td>\n",
       "      <td>NONE</td>\n",
       "      <td>PICKUP</td>\n",
       "      <td>PERSONAL</td>\n",
       "      <td>1.0</td>\n",
       "      <td>...</td>\n",
       "      <td>M</td>\n",
       "      <td>17.0</td>\n",
       "      <td>IL</td>\n",
       "      <td>D</td>\n",
       "      <td>OVER $1,500</td>\n",
       "      <td>FOLLOWING TOO CLOSELY</td>\n",
       "      <td>UNABLE TO DETERMINE</td>\n",
       "      <td>824.0</td>\n",
       "      <td>8</td>\n",
       "      <td>7</td>\n",
       "    </tr>\n",
       "  </tbody>\n",
       "</table>\n",
       "<p>5 rows × 21 columns</p>\n",
       "</div>"
      ],
      "text/plain": [
       "               CRASH_DATE UNIT_TYPE  NUM_PASSENGERS  \\\n",
       "773   2023-04-24 14:13:00    DRIVER             NaN   \n",
       "1823  2023-08-18 16:00:00    DRIVER             NaN   \n",
       "14367 2023-05-04 18:58:00    DRIVER             NaN   \n",
       "15356 2023-05-05 15:00:00    DRIVER             NaN   \n",
       "16494 2023-05-06 08:17:00    DRIVER             NaN   \n",
       "\n",
       "                                   MAKE     MODEL  VEHICLE_YEAR  \\\n",
       "773                               ACURA       ILX        2032.0   \n",
       "1823                              HONDA      HR-V        2108.0   \n",
       "14367                             HONDA   ODYSSEY        2100.0   \n",
       "15356  GENERAL MOTORS CORPORATION (GMC)  SAVANNAH        3009.0   \n",
       "16494                         CHEVROLET     TRUCK        2066.0   \n",
       "\n",
       "      VEHICLE_DEFECT                 VEHICLE_TYPE VEHICLE_USE  OCCUPANT_CNT  \\\n",
       "773          UNKNOWN                    PASSENGER    PERSONAL           1.0   \n",
       "1823            NONE  SPORT UTILITY VEHICLE (SUV)    PERSONAL           1.0   \n",
       "14367        UNKNOWN                 VAN/MINI-VAN    PERSONAL           1.0   \n",
       "15356        UNKNOWN                    PASSENGER    PERSONAL           1.0   \n",
       "16494           NONE                       PICKUP    PERSONAL           1.0   \n",
       "\n",
       "       ... SEX   AGE  DRIVERS_LICENSE_STATE DRIVERS_LICENSE_CLASS  \\\n",
       "773    ...   F  46.0                    NaN                     D   \n",
       "1823   ...   F  41.0                    NaN                   NaN   \n",
       "14367  ...   F  48.0                     IL                     D   \n",
       "15356  ...   M  64.0                     IL                   NaN   \n",
       "16494  ...   M  17.0                     IL                     D   \n",
       "\n",
       "              DAMAGE              PRIM_CONTRIBUTORY_CAUSE  \\\n",
       "773      OVER $1,500           IMPROPER TURNING/NO SIGNAL   \n",
       "1823   $501 - $1,500                       NOT APPLICABLE   \n",
       "14367    OVER $1,500  DRIVING SKILLS/KNOWLEDGE/EXPERIENCE   \n",
       "15356  $501 - $1,500                FOLLOWING TOO CLOSELY   \n",
       "16494    OVER $1,500                FOLLOWING TOO CLOSELY   \n",
       "\n",
       "      SEC_CONTRIBUTORY_CAUSE BEAT_OF_OCCURRENCE  CRASH_HOUR  CRASH_DAY_OF_WEEK  \n",
       "773           NOT APPLICABLE              123.0          14                  2  \n",
       "1823          NOT APPLICABLE              922.0          16                  6  \n",
       "14367         NOT APPLICABLE              632.0          18                  5  \n",
       "15356  FOLLOWING TOO CLOSELY             1621.0          15                  6  \n",
       "16494    UNABLE TO DETERMINE              824.0           8                  7  \n",
       "\n",
       "[5 rows x 21 columns]"
      ]
     },
     "execution_count": 35,
     "metadata": {},
     "output_type": "execute_result"
    }
   ],
   "source": [
    "# See if anything else is apparent about these rows\n",
    "\n",
    "future_cars.head()"
   ]
  },
  {
   "cell_type": "code",
   "execution_count": 36,
   "metadata": {},
   "outputs": [
    {
     "data": {
      "text/plain": [
       "0.0502336543761659"
      ]
     },
     "execution_count": 36,
     "metadata": {},
     "output_type": "execute_result"
    }
   ],
   "source": [
    "# Percent of rows with future VEHICLE_YEARS\n",
    "\n",
    "len(future_cars)/len(df)*100"
   ]
  },
  {
   "cell_type": "code",
   "execution_count": 37,
   "metadata": {},
   "outputs": [],
   "source": [
    "# Nothing seems apparently off about these vehicles, \n",
    "# but as they are such a small percentage we will drop them out\n",
    "# since there is no way to know the true vehicle years\n",
    "\n",
    "df = df[df[\"VEHICLE_YEAR\"] <= 2024]"
   ]
  },
  {
   "cell_type": "code",
   "execution_count": 38,
   "metadata": {},
   "outputs": [
    {
     "data": {
      "text/plain": [
       "1900.0       10\n",
       "1901.0        2\n",
       "1902.0        1\n",
       "1929.0        1\n",
       "1939.0        1\n",
       "          ...  \n",
       "2020.0    21306\n",
       "2021.0    16804\n",
       "2022.0    10193\n",
       "2023.0     4279\n",
       "2024.0      282\n",
       "Name: VEHICLE_YEAR, Length: 71, dtype: int64"
      ]
     },
     "execution_count": 38,
     "metadata": {},
     "output_type": "execute_result"
    }
   ],
   "source": [
    "# Looking at the first years now\n",
    "\n",
    "df[\"VEHICLE_YEAR\"].value_counts().sort_index()"
   ]
  },
  {
   "cell_type": "code",
   "execution_count": 39,
   "metadata": {},
   "outputs": [
    {
     "data": {
      "image/png": "[encoded data removed]",
      "text/plain": [
       "<Figure size 432x288 with 1 Axes>"
      ]
     },
     "metadata": {
      "needs_background": "light"
     },
     "output_type": "display_data"
    }
   ],
   "source": [
    "sns.histplot(df[\"VEHICLE_YEAR\"]);"
   ]
  },
  {
   "cell_type": "markdown",
   "metadata": {},
   "source": [
    "Anything over 25 years is considered a classic and can be insured as such. As most of the data falls within the last 25 years and anything older can be treated as a different insurance type, we will only use the last 25 years of data."
   ]
  },
  {
   "cell_type": "code",
   "execution_count": 40,
   "metadata": {},
   "outputs": [],
   "source": [
    "# Keeping only vehicles 25 years and newer\n",
    "\n",
    "df=df[df[\"VEHICLE_YEAR\"]>1997]"
   ]
  },
  {
   "cell_type": "code",
   "execution_count": 41,
   "metadata": {},
   "outputs": [
    {
     "data": {
      "image/png": "[encoded data removed]",
      "text/plain": [
       "<Figure size 432x288 with 1 Axes>"
      ]
     },
     "metadata": {
      "needs_background": "light"
     },
     "output_type": "display_data"
    }
   ],
   "source": [
    "sns.histplot(df[\"VEHICLE_YEAR\"]);"
   ]
  },
  {
   "cell_type": "markdown",
   "metadata": {},
   "source": [
    "Looking at the rest of the columns."
   ]
  },
  {
   "cell_type": "code",
   "execution_count": 42,
   "metadata": {},
   "outputs": [
    {
     "data": {
      "text/plain": [
       "PASSENGER                                 239545\n",
       "SPORT UTILITY VEHICLE (SUV)                57002\n",
       "VAN/MINI-VAN                               15435\n",
       "PICKUP                                     12229\n",
       "UNKNOWN/NA                                  5829\n",
       "TRUCK - SINGLE UNIT                         5595\n",
       "BUS OVER 15 PASS.                           3983\n",
       "OTHER                                       3857\n",
       "TRACTOR W/ SEMI-TRAILER                     1908\n",
       "BUS UP TO 15 PASS.                          1468\n",
       "MOTORCYCLE (OVER 150CC)                      995\n",
       "SINGLE UNIT TRUCK WITH TRAILER               497\n",
       "OTHER VEHICLE WITH TRAILER                   448\n",
       "TRACTOR W/O SEMI-TRAILER                     295\n",
       "MOPED OR MOTORIZED BICYCLE                   129\n",
       "AUTOCYCLE                                     21\n",
       "3-WHEELED MOTORCYCLE (2 REAR WHEELS)          21\n",
       "ALL-TERRAIN VEHICLE (ATV)                     16\n",
       "FARM EQUIPMENT                                12\n",
       "RECREATIONAL OFF-HIGHWAY VEHICLE (ROV)         1\n",
       "Name: VEHICLE_TYPE, dtype: int64"
      ]
     },
     "execution_count": 42,
     "metadata": {},
     "output_type": "execute_result"
    }
   ],
   "source": [
    "df[\"VEHICLE_TYPE\"].value_counts()"
   ]
  },
  {
   "cell_type": "markdown",
   "metadata": {},
   "source": [
    "We're not interested in all these vehicle types, so we will remove everything that is explicitly not a passenger vehicle."
   ]
  },
  {
   "cell_type": "code",
   "execution_count": 43,
   "metadata": {},
   "outputs": [],
   "source": [
    "keep_vehicle = [\"PASSENGER\", \"PICKUP\", \n",
    "                \"SPORT UTILITY VEHICLE (SUV)\", \n",
    "                \"UNKNOWN/NA\", \"VAN/MINI-VAN\"]"
   ]
  },
  {
   "cell_type": "code",
   "execution_count": 44,
   "metadata": {},
   "outputs": [],
   "source": [
    "df = df[df[\"VEHICLE_TYPE\"].isin(keep_vehicle)]"
   ]
  },
  {
   "cell_type": "code",
   "execution_count": 45,
   "metadata": {},
   "outputs": [
    {
     "data": {
      "text/plain": [
       "PASSENGER                      239545\n",
       "SPORT UTILITY VEHICLE (SUV)     57002\n",
       "VAN/MINI-VAN                    15435\n",
       "PICKUP                          12229\n",
       "UNKNOWN/NA                       5829\n",
       "Name: VEHICLE_TYPE, dtype: int64"
      ]
     },
     "execution_count": 45,
     "metadata": {},
     "output_type": "execute_result"
    }
   ],
   "source": [
    "# Sanity check\n",
    "\n",
    "df[\"VEHICLE_TYPE\"].value_counts()"
   ]
  },
  {
   "cell_type": "code",
   "execution_count": 46,
   "metadata": {},
   "outputs": [
    {
     "data": {
      "image/png": "[encoded data removed]",
      "text/plain": [
       "<Figure size 1728x432 with 1 Axes>"
      ]
     },
     "metadata": {},
     "output_type": "display_data"
    }
   ],
   "source": [
    "sns.set(rc={'figure.figsize':(24,6)})\n",
    "sns.histplot(df[\"VEHICLE_TYPE\"])\n",
    "sns.set(rc={'figure.figsize':(5,4)})"
   ]
  },
  {
   "cell_type": "markdown",
   "metadata": {},
   "source": [
    "It seems too lopsided to use in model, but it was useful to filter out Vehicle Types that do not fit the business problem. "
   ]
  },
  {
   "cell_type": "code",
   "execution_count": 47,
   "metadata": {},
   "outputs": [
    {
     "data": {
      "text/plain": [
       "PERSONAL                    282460\n",
       "UNKNOWN/NA                   28345\n",
       "OTHER                         6754\n",
       "RIDESHARE SERVICE             3116\n",
       "TAXI/FOR HIRE                 2669\n",
       "POLICE                        2066\n",
       "NOT IN USE                    1617\n",
       "COMMERCIAL - SINGLE UNIT       932\n",
       "CONSTRUCTION/MAINTENANCE       819\n",
       "DRIVER EDUCATION               317\n",
       "STATE OWNED                    165\n",
       "TOW TRUCK                      157\n",
       "AMBULANCE                      148\n",
       "COMMERCIAL - MULTI-UNIT        132\n",
       "CTA                            132\n",
       "FIRE                            74\n",
       "LAWN CARE/LANDSCAPING           65\n",
       "SCHOOL BUS                      39\n",
       "AGRICULTURE                     14\n",
       "MILITARY                         9\n",
       "CAMPER/RV - SINGLE UNIT          8\n",
       "HOUSE TRAILER                    2\n",
       "Name: VEHICLE_USE, dtype: int64"
      ]
     },
     "execution_count": 47,
     "metadata": {},
     "output_type": "execute_result"
    }
   ],
   "source": [
    "df[\"VEHICLE_USE\"].value_counts(dropna=False)"
   ]
  },
  {
   "cell_type": "markdown",
   "metadata": {},
   "source": [
    "We only want personal vehicles, so we will remove the rest."
   ]
  },
  {
   "cell_type": "code",
   "execution_count": 48,
   "metadata": {},
   "outputs": [],
   "source": [
    "df = df[df[\"VEHICLE_USE\"]==\"PERSONAL\"]"
   ]
  },
  {
   "cell_type": "code",
   "execution_count": 49,
   "metadata": {},
   "outputs": [
    {
     "data": {
      "text/plain": [
       "2021-02-04 14:00:00    20\n",
       "2021-11-19 15:30:00    19\n",
       "2022-02-17 17:00:00    19\n",
       "2022-10-25 17:30:00    18\n",
       "2021-12-10 16:00:00    18\n",
       "                       ..\n",
       "2023-06-30 20:12:00     1\n",
       "2021-11-14 10:07:00     1\n",
       "2022-11-01 06:45:00     1\n",
       "2023-05-24 18:50:00     1\n",
       "2022-06-18 10:25:00     1\n",
       "Name: CRASH_DATE, Length: 150871, dtype: int64"
      ]
     },
     "execution_count": 49,
     "metadata": {},
     "output_type": "execute_result"
    }
   ],
   "source": [
    "df[\"CRASH_DATE\"].value_counts(dropna=False)"
   ]
  },
  {
   "cell_type": "markdown",
   "metadata": {},
   "source": [
    "We are not doing a time analysis, so this will not be used in our model. "
   ]
  },
  {
   "cell_type": "code",
   "execution_count": 50,
   "metadata": {},
   "outputs": [
    {
     "data": {
      "text/plain": [
       "DRIVER    282460\n",
       "Name: UNIT_TYPE, dtype: int64"
      ]
     },
     "execution_count": 50,
     "metadata": {},
     "output_type": "execute_result"
    }
   ],
   "source": [
    "df[\"UNIT_TYPE\"].value_counts(dropna=False)"
   ]
  },
  {
   "cell_type": "markdown",
   "metadata": {},
   "source": [
    "This corresponds to PERSON_TYPE. We will not use either in our model as it was used to filter the data."
   ]
  },
  {
   "cell_type": "code",
   "execution_count": 51,
   "metadata": {},
   "outputs": [
    {
     "data": {
      "text/plain": [
       "TOYOTA         37325\n",
       "CHEVROLET      35512\n",
       "NISSAN         27359\n",
       "HONDA          26949\n",
       "FORD           25064\n",
       "               ...  \n",
       "KEN TRAILER        1\n",
       "BERTONE            1\n",
       "AUTOCAR            1\n",
       "STERLING           1\n",
       "SAFARI             1\n",
       "Name: MAKE, Length: 136, dtype: int64"
      ]
     },
     "execution_count": 51,
     "metadata": {},
     "output_type": "execute_result"
    }
   ],
   "source": [
    "df[\"MAKE\"].value_counts(dropna=False)"
   ]
  },
  {
   "cell_type": "code",
   "execution_count": 52,
   "metadata": {},
   "outputs": [],
   "source": [
    "# \n",
    "topten=[\"TOYOTA\", \"CHEVROLET\", \"NISSAN\", \"HONDA\", \"FORD\", \"JEEP\", \"HYUNDAI\", \"DODGE\", \"KIA\", \"VOLKSWAGEN\"]\n",
    "df= df[df[\"MAKE\"].isin(topten)]"
   ]
  },
  {
   "cell_type": "markdown",
   "metadata": {},
   "source": [
    "This could be useful in our model. We filtered for the top 10 car makes to reduce noise."
   ]
  },
  {
   "cell_type": "code",
   "execution_count": 53,
   "metadata": {},
   "outputs": [
    {
     "data": {
      "text/plain": [
       "OTHER (EXPLAIN IN NARRATIVE)    11285\n",
       "CAMRY                            9953\n",
       "COROLLA                          7432\n",
       "CIVIC                            7033\n",
       "ALTIMA                           6924\n",
       "                                ...  \n",
       "SUNLINER                            1\n",
       "THE THING                           1\n",
       "FOX                                 1\n",
       "GREENBRIER                          1\n",
       "E-TRANSIT                           1\n",
       "Name: MODEL, Length: 379, dtype: int64"
      ]
     },
     "execution_count": 53,
     "metadata": {},
     "output_type": "execute_result"
    }
   ],
   "source": [
    "df[\"MODEL\"].value_counts(dropna=False)"
   ]
  },
  {
   "cell_type": "markdown",
   "metadata": {},
   "source": [
    "This could be useful. We may use it with MAKE and determine after filtering for top makes. Will need to avoid multicollinearity."
   ]
  },
  {
   "cell_type": "code",
   "execution_count": 54,
   "metadata": {},
   "outputs": [
    {
     "data": {
      "text/plain": [
       "NONE                130141\n",
       "UNKNOWN              79640\n",
       "BRAKES                 898\n",
       "OTHER                  858\n",
       "TIRES                  180\n",
       "STEERING               172\n",
       "WHEELS                  87\n",
       "SUSPENSION              62\n",
       "ENGINE/MOTOR            49\n",
       "FUEL SYSTEM             25\n",
       "WINDOWS                 11\n",
       "LIGHTS                   9\n",
       "SIGNALS                  6\n",
       "CARGO                    5\n",
       "EXHAUST                  3\n",
       "RESTRAINT SYSTEM         1\n",
       "Name: VEHICLE_DEFECT, dtype: int64"
      ]
     },
     "execution_count": 54,
     "metadata": {},
     "output_type": "execute_result"
    }
   ],
   "source": [
    "df[\"VEHICLE_DEFECT\"].value_counts(dropna=False)"
   ]
  },
  {
   "cell_type": "markdown",
   "metadata": {},
   "source": [
    "Lot of UNKNOWN. Possibly useful, but even if we bin between NONE and all other variables the data would still be lopsided. Will not use in model."
   ]
  },
  {
   "cell_type": "code",
   "execution_count": 55,
   "metadata": {},
   "outputs": [
    {
     "data": {
      "text/plain": [
       "1.0     0.797395\n",
       "2.0     0.142896\n",
       "3.0     0.038162\n",
       "4.0     0.014905\n",
       "5.0     0.004893\n",
       "6.0     0.001174\n",
       "7.0     0.000457\n",
       "8.0     0.000085\n",
       "9.0     0.000024\n",
       "11.0    0.000005\n",
       "10.0    0.000005\n",
       "Name: OCCUPANT_CNT, dtype: float64"
      ]
     },
     "execution_count": 55,
     "metadata": {},
     "output_type": "execute_result"
    }
   ],
   "source": [
    "df[\"OCCUPANT_CNT\"].value_counts(dropna=False, normalize=True)"
   ]
  },
  {
   "cell_type": "code",
   "execution_count": 56,
   "metadata": {},
   "outputs": [
    {
     "data": {
      "image/png": "[encoded data removed]",
      "text/plain": [
       "<Figure size 360x288 with 1 Axes>"
      ]
     },
     "metadata": {},
     "output_type": "display_data"
    }
   ],
   "source": [
    "sns.histplot(df[\"OCCUPANT_CNT\"]);"
   ]
  },
  {
   "cell_type": "markdown",
   "metadata": {},
   "source": [
    "Could bin into HAS_PASSENGER but harder to track and implement for stakeholder. Would still be pretty lopsided. "
   ]
  },
  {
   "cell_type": "code",
   "execution_count": 57,
   "metadata": {},
   "outputs": [
    {
     "data": {
      "text/plain": [
       "M    0.547286\n",
       "F    0.451748\n",
       "X    0.000966\n",
       "Name: SEX, dtype: float64"
      ]
     },
     "execution_count": 57,
     "metadata": {},
     "output_type": "execute_result"
    }
   ],
   "source": [
    "df[\"SEX\"].value_counts(dropna=False, normalize=True)"
   ]
  },
  {
   "cell_type": "code",
   "execution_count": 58,
   "metadata": {},
   "outputs": [
    {
     "data": {
      "image/png": "[encoded data removed]",
      "text/plain": [
       "<Figure size 360x288 with 1 Axes>"
      ]
     },
     "metadata": {},
     "output_type": "display_data"
    }
   ],
   "source": [
    "sns.histplot(df[\"SEX\"]);"
   ]
  },
  {
   "cell_type": "markdown",
   "metadata": {},
   "source": [
    "X is a small percentage and represents an unknown. We may drop later."
   ]
  },
  {
   "cell_type": "code",
   "execution_count": 59,
   "metadata": {},
   "outputs": [
    {
     "data": {
      "text/plain": [
       "IL     190636\n",
       "NaN      8905\n",
       "IN       3332\n",
       "WI       1044\n",
       "MI        724\n",
       "        ...  \n",
       "OA          1\n",
       "NN          1\n",
       "SZ          1\n",
       "CW          1\n",
       "NW          1\n",
       "Name: DRIVERS_LICENSE_STATE, Length: 151, dtype: int64"
      ]
     },
     "execution_count": 59,
     "metadata": {},
     "output_type": "execute_result"
    }
   ],
   "source": [
    "df[\"DRIVERS_LICENSE_STATE\"].value_counts(dropna=False)"
   ]
  },
  {
   "cell_type": "markdown",
   "metadata": {},
   "source": [
    "Bin for in state and out of state. "
   ]
  },
  {
   "cell_type": "code",
   "execution_count": 60,
   "metadata": {},
   "outputs": [
    {
     "data": {
      "text/plain": [
       "D      0.735820\n",
       "NaN    0.203538\n",
       "C      0.017912\n",
       "A      0.013764\n",
       "B      0.009013\n",
       "         ...   \n",
       "9A     0.000005\n",
       "B2     0.000005\n",
       "4      0.000005\n",
       "DS     0.000005\n",
       "CQ     0.000005\n",
       "Name: DRIVERS_LICENSE_CLASS, Length: 132, dtype: float64"
      ]
     },
     "execution_count": 60,
     "metadata": {},
     "output_type": "execute_result"
    }
   ],
   "source": [
    "df[\"DRIVERS_LICENSE_CLASS\"].value_counts(dropna=False, normalize=True)"
   ]
  },
  {
   "cell_type": "markdown",
   "metadata": {},
   "source": [
    "Data is lopsided and contains a fair bit missing."
   ]
  },
  {
   "cell_type": "code",
   "execution_count": 61,
   "metadata": {},
   "outputs": [
    {
     "data": {
      "text/plain": [
       "813.0     0.011935\n",
       "815.0     0.010427\n",
       "833.0     0.010083\n",
       "114.0     0.009842\n",
       "1834.0    0.009244\n",
       "            ...   \n",
       "1125.0    0.000853\n",
       "1653.0    0.000608\n",
       "1655.0    0.000519\n",
       "1652.0    0.000269\n",
       "1650.0    0.000137\n",
       "Name: BEAT_OF_OCCURRENCE, Length: 275, dtype: float64"
      ]
     },
     "execution_count": 61,
     "metadata": {},
     "output_type": "execute_result"
    }
   ],
   "source": [
    "df[\"BEAT_OF_OCCURRENCE\"].value_counts(dropna=False, normalize=True)"
   ]
  },
  {
   "cell_type": "markdown",
   "metadata": {},
   "source": [
    "Data not easily useable by stakeholder. May be useful for future projects."
   ]
  },
  {
   "cell_type": "code",
   "execution_count": 62,
   "metadata": {},
   "outputs": [
    {
     "data": {
      "text/plain": [
       "15    0.085903\n",
       "16    0.084390\n",
       "17    0.080520\n",
       "14    0.068071\n",
       "18    0.065374\n",
       "13    0.060378\n",
       "12    0.057220\n",
       "8     0.053378\n",
       "11    0.049277\n",
       "19    0.046388\n",
       "7     0.042801\n",
       "10    0.042461\n",
       "9     0.041726\n",
       "20    0.037535\n",
       "21    0.032492\n",
       "22    0.028820\n",
       "23    0.025690\n",
       "6     0.018619\n",
       "0     0.018591\n",
       "1     0.015956\n",
       "2     0.013519\n",
       "5     0.011643\n",
       "3     0.010120\n",
       "4     0.009130\n",
       "Name: CRASH_HOUR, dtype: float64"
      ]
     },
     "execution_count": 62,
     "metadata": {},
     "output_type": "execute_result"
    }
   ],
   "source": [
    "df[\"CRASH_HOUR\"].value_counts(dropna=False, normalize=True)"
   ]
  },
  {
   "cell_type": "code",
   "execution_count": 63,
   "metadata": {},
   "outputs": [
    {
     "data": {
      "image/png": "[encoded data removed]",
      "text/plain": [
       "<Figure size 360x288 with 1 Axes>"
      ]
     },
     "metadata": {},
     "output_type": "display_data"
    }
   ],
   "source": [
    "sns.histplot(df[\"CRASH_HOUR\"]);"
   ]
  },
  {
   "cell_type": "markdown",
   "metadata": {},
   "source": [
    "Bin to times of day."
   ]
  },
  {
   "cell_type": "code",
   "execution_count": 64,
   "metadata": {},
   "outputs": [
    {
     "data": {
      "text/plain": [
       "6    0.166413\n",
       "7    0.149462\n",
       "5    0.145611\n",
       "3    0.140935\n",
       "4    0.140879\n",
       "2    0.132380\n",
       "1    0.124319\n",
       "Name: CRASH_DAY_OF_WEEK, dtype: float64"
      ]
     },
     "execution_count": 64,
     "metadata": {},
     "output_type": "execute_result"
    }
   ],
   "source": [
    "df[\"CRASH_DAY_OF_WEEK\"].value_counts(dropna=False, normalize=True)"
   ]
  },
  {
   "cell_type": "code",
   "execution_count": 65,
   "metadata": {},
   "outputs": [
    {
     "data": {
      "image/png": "[encoded data removed]",
      "text/plain": [
       "<Figure size 360x288 with 1 Axes>"
      ]
     },
     "metadata": {},
     "output_type": "display_data"
    }
   ],
   "source": [
    "sns.histplot(df[\"CRASH_DAY_OF_WEEK\"]);"
   ]
  },
  {
   "cell_type": "markdown",
   "metadata": {},
   "source": [
    "Bin with CRASH_HOUR for times of day."
   ]
  },
  {
   "cell_type": "code",
   "execution_count": 66,
   "metadata": {},
   "outputs": [
    {
     "data": {
      "text/plain": [
       "UNABLE TO DETERMINE                                                                 67188\n",
       "FAILING TO YIELD RIGHT-OF-WAY                                                       32626\n",
       "FOLLOWING TOO CLOSELY                                                               24523\n",
       "IMPROPER OVERTAKING/PASSING                                                         11293\n",
       "FAILING TO REDUCE SPEED TO AVOID CRASH                                              11287\n",
       "IMPROPER TURNING/NO SIGNAL                                                           9037\n",
       "NOT APPLICABLE                                                                       8570\n",
       "IMPROPER LANE USAGE                                                                  7298\n",
       "DISREGARDING TRAFFIC SIGNALS                                                         6801\n",
       "DRIVING SKILLS/KNOWLEDGE/EXPERIENCE                                                  6741\n",
       "IMPROPER BACKING                                                                     5860\n",
       "WEATHER                                                                              3381\n",
       "DISREGARDING STOP SIGN                                                               3031\n",
       "OPERATING VEHICLE IN ERRATIC, RECKLESS, CARELESS, NEGLIGENT OR AGGRESSIVE MANNER     1909\n",
       "DISTRACTION - FROM INSIDE VEHICLE                                                    1812\n",
       "EQUIPMENT - VEHICLE CONDITION                                                        1535\n",
       "PHYSICAL CONDITION OF DRIVER                                                         1522\n",
       "VISION OBSCURED (SIGNS, TREE LIMBS, BUILDINGS, ETC.)                                 1404\n",
       "DRIVING ON WRONG SIDE/WRONG WAY                                                      1402\n",
       "UNDER THE INFLUENCE OF ALCOHOL/DRUGS (USE WHEN ARREST IS EFFECTED)                   1061\n",
       "DISTRACTION - FROM OUTSIDE VEHICLE                                                    872\n",
       "DISREGARDING OTHER TRAFFIC SIGNS                                                      565\n",
       "EVASIVE ACTION DUE TO ANIMAL, OBJECT, NONMOTORIST                                     405\n",
       "CELL PHONE USE OTHER THAN TEXTING                                                     346\n",
       "ROAD CONSTRUCTION/MAINTENANCE                                                         306\n",
       "ROAD ENGINEERING/SURFACE/MARKING DEFECTS                                              260\n",
       "DISREGARDING ROAD MARKINGS                                                            215\n",
       "TURNING RIGHT ON RED                                                                  214\n",
       "ANIMAL                                                                                150\n",
       "HAD BEEN DRINKING (USE WHEN ARREST IS NOT MADE)                                       139\n",
       "DISTRACTION - OTHER ELECTRONIC DEVICE (NAVIGATION DEVICE, DVD PLAYER, ETC.)           129\n",
       "TEXTING                                                                                83\n",
       "DISREGARDING YIELD SIGN                                                                66\n",
       "RELATED TO BUS STOP                                                                    59\n",
       "OBSTRUCTED CROSSWALKS                                                                  34\n",
       "PASSING STOPPED SCHOOL BUS                                                             13\n",
       "BICYCLE ADVANCING LEGALLY ON RED LIGHT                                                  8\n",
       "MOTORCYCLE ADVANCING LEGALLY ON RED LIGHT                                               2\n",
       "Name: PRIM_CONTRIBUTORY_CAUSE, dtype: int64"
      ]
     },
     "execution_count": 66,
     "metadata": {},
     "output_type": "execute_result"
    }
   ],
   "source": [
    "df[\"PRIM_CONTRIBUTORY_CAUSE\"].value_counts(dropna=False)"
   ]
  },
  {
   "cell_type": "markdown",
   "metadata": {},
   "source": [
    "The only possibly useful data point is what can be known demographically before a crash. So DRIVING SKILLS/KNOWLEDGE/EXPERIENCE should be made into a flag."
   ]
  },
  {
   "cell_type": "code",
   "execution_count": 67,
   "metadata": {},
   "outputs": [
    {
     "data": {
      "text/plain": [
       "NOT APPLICABLE                                                                      84464\n",
       "UNABLE TO DETERMINE                                                                 71596\n",
       "FAILING TO YIELD RIGHT-OF-WAY                                                        9643\n",
       "FAILING TO REDUCE SPEED TO AVOID CRASH                                               8582\n",
       "DRIVING SKILLS/KNOWLEDGE/EXPERIENCE                                                  7583\n",
       "FOLLOWING TOO CLOSELY                                                                7116\n",
       "IMPROPER OVERTAKING/PASSING                                                          3613\n",
       "IMPROPER LANE USAGE                                                                  3200\n",
       "IMPROPER TURNING/NO SIGNAL                                                           3136\n",
       "WEATHER                                                                              2784\n",
       "DISREGARDING TRAFFIC SIGNALS                                                         1345\n",
       "IMPROPER BACKING                                                                     1199\n",
       "OPERATING VEHICLE IN ERRATIC, RECKLESS, CARELESS, NEGLIGENT OR AGGRESSIVE MANNER     1044\n",
       "VISION OBSCURED (SIGNS, TREE LIMBS, BUILDINGS, ETC.)                                  847\n",
       "DISREGARDING STOP SIGN                                                                799\n",
       "DISTRACTION - FROM INSIDE VEHICLE                                                     790\n",
       "PHYSICAL CONDITION OF DRIVER                                                          761\n",
       "DRIVING ON WRONG SIDE/WRONG WAY                                                       569\n",
       "EQUIPMENT - VEHICLE CONDITION                                                         500\n",
       "UNDER THE INFLUENCE OF ALCOHOL/DRUGS (USE WHEN ARREST IS EFFECTED)                    434\n",
       "DISTRACTION - FROM OUTSIDE VEHICLE                                                    383\n",
       "DISREGARDING OTHER TRAFFIC SIGNS                                                      265\n",
       "DISREGARDING ROAD MARKINGS                                                            210\n",
       "HAD BEEN DRINKING (USE WHEN ARREST IS NOT MADE)                                       192\n",
       "ROAD CONSTRUCTION/MAINTENANCE                                                         191\n",
       "CELL PHONE USE OTHER THAN TEXTING                                                     180\n",
       "ROAD ENGINEERING/SURFACE/MARKING DEFECTS                                              136\n",
       "EVASIVE ACTION DUE TO ANIMAL, OBJECT, NONMOTORIST                                     121\n",
       "TURNING RIGHT ON RED                                                                   96\n",
       "ANIMAL                                                                                 90\n",
       "RELATED TO BUS STOP                                                                    83\n",
       "DISTRACTION - OTHER ELECTRONIC DEVICE (NAVIGATION DEVICE, DVD PLAYER, ETC.)            69\n",
       "DISREGARDING YIELD SIGN                                                                52\n",
       "TEXTING                                                                                34\n",
       "OBSTRUCTED CROSSWALKS                                                                  19\n",
       "PASSING STOPPED SCHOOL BUS                                                             14\n",
       "BICYCLE ADVANCING LEGALLY ON RED LIGHT                                                  6\n",
       "MOTORCYCLE ADVANCING LEGALLY ON RED LIGHT                                               1\n",
       "Name: SEC_CONTRIBUTORY_CAUSE, dtype: int64"
      ]
     },
     "execution_count": 67,
     "metadata": {},
     "output_type": "execute_result"
    }
   ],
   "source": [
    "df[\"SEC_CONTRIBUTORY_CAUSE\"].value_counts(dropna=False)"
   ]
  },
  {
   "cell_type": "markdown",
   "metadata": {},
   "source": [
    "DRIVING SKILLS/KNOWLEDGE/EXPERIENCE used with same above for a flag."
   ]
  },
  {
   "cell_type": "markdown",
   "metadata": {},
   "source": [
    "## Feature Engineering"
   ]
  },
  {
   "cell_type": "markdown",
   "metadata": {},
   "source": [
    "### Feature Engineering"
   ]
  },
  {
   "cell_type": "markdown",
   "metadata": {},
   "source": [
    "Binning in state and out of state without losing the null values. We will impute after Train/Test Split."
   ]
  },
  {
   "cell_type": "code",
   "execution_count": 68,
   "metadata": {},
   "outputs": [],
   "source": [
    "states = sorted(df[\"DRIVERS_LICENSE_STATE\"].value_counts().index)\n",
    "states.remove('IL')"
   ]
  },
  {
   "cell_type": "code",
   "execution_count": 69,
   "metadata": {},
   "outputs": [],
   "source": [
    "def in_state(row):\n",
    "    if row['DRIVERS_LICENSE_STATE'] == 'IL':\n",
    "        return 1\n",
    "    elif row['DRIVERS_LICENSE_STATE'] in states:\n",
    "        return 0\n",
    "\n",
    "df['IN_STATE'] = df.apply(in_state, axis=1)"
   ]
  },
  {
   "cell_type": "code",
   "execution_count": 70,
   "metadata": {},
   "outputs": [
    {
     "data": {
      "text/plain": [
       "1.0    190636\n",
       "0.0     12606\n",
       "NaN      8905\n",
       "Name: IN_STATE, dtype: int64"
      ]
     },
     "execution_count": 70,
     "metadata": {},
     "output_type": "execute_result"
    }
   ],
   "source": [
    "# Sanity check \n",
    "\n",
    "df[\"IN_STATE\"].value_counts(dropna=False)"
   ]
  },
  {
   "cell_type": "markdown",
   "metadata": {},
   "source": [
    "We are interested in \"driving skills, knowledge, or experience\" as a contributing cause of accidents."
   ]
  },
  {
   "cell_type": "code",
   "execution_count": 71,
   "metadata": {},
   "outputs": [
    {
     "data": {
      "text/plain": [
       "False    0.968225\n",
       "True     0.031775\n",
       "Name: PRIM_CONTRIBUTORY_CAUSE, dtype: float64"
      ]
     },
     "execution_count": 71,
     "metadata": {},
     "output_type": "execute_result"
    }
   ],
   "source": [
    "(df['PRIM_CONTRIBUTORY_CAUSE'] == 'DRIVING SKILLS/KNOWLEDGE/EXPERIENCE').value_counts(normalize=True)"
   ]
  },
  {
   "cell_type": "code",
   "execution_count": 72,
   "metadata": {},
   "outputs": [
    {
     "data": {
      "text/plain": [
       "False    0.964256\n",
       "True     0.035744\n",
       "Name: SEC_CONTRIBUTORY_CAUSE, dtype: float64"
      ]
     },
     "execution_count": 72,
     "metadata": {},
     "output_type": "execute_result"
    }
   ],
   "source": [
    "(df['SEC_CONTRIBUTORY_CAUSE'] == 'DRIVING SKILLS/KNOWLEDGE/EXPERIENCE').value_counts(normalize=True)"
   ]
  },
  {
   "cell_type": "code",
   "execution_count": 73,
   "metadata": {},
   "outputs": [
    {
     "data": {
      "text/plain": [
       "False    0.994296\n",
       "True     0.005704\n",
       "dtype: float64"
      ]
     },
     "execution_count": 73,
     "metadata": {},
     "output_type": "execute_result"
    }
   ],
   "source": [
    "((df['PRIM_CONTRIBUTORY_CAUSE'] == 'DRIVING SKILLS/KNOWLEDGE/EXPERIENCE') & (df['SEC_CONTRIBUTORY_CAUSE'] == 'DRIVING SKILLS/KNOWLEDGE/EXPERIENCE')).value_counts(normalize=True)"
   ]
  },
  {
   "cell_type": "code",
   "execution_count": 74,
   "metadata": {},
   "outputs": [],
   "source": [
    "# Create a new column to identify any contributory cause as \"driving skills/knowledge/experience\"\n",
    "\n",
    "def get_cause(row):\n",
    "    if row['PRIM_CONTRIBUTORY_CAUSE'] == 'DRIVING SKILLS/KNOWLEDGE/EXPERIENCE':\n",
    "        return 1\n",
    "    if row['SEC_CONTRIBUTORY_CAUSE'] == 'DRIVING SKILLS/KNOWLEDGE/EXPERIENCE':\n",
    "        return 1\n",
    "    else:\n",
    "        return 0\n",
    "df['DRIVING_SKILLS'] = df.apply(get_cause, axis=1)\n",
    "   "
   ]
  },
  {
   "cell_type": "code",
   "execution_count": 75,
   "metadata": {},
   "outputs": [
    {
     "data": {
      "text/plain": [
       "0    0.938184\n",
       "1    0.061816\n",
       "Name: DRIVING_SKILLS, dtype: float64"
      ]
     },
     "execution_count": 75,
     "metadata": {},
     "output_type": "execute_result"
    }
   ],
   "source": [
    "df['DRIVING_SKILLS'].value_counts(normalize=True)"
   ]
  },
  {
   "cell_type": "code",
   "execution_count": 76,
   "metadata": {},
   "outputs": [
    {
     "data": {
      "text/plain": [
       "DRIVING_SKILLS  DAMAGE       \n",
       "0               OVER $1,500      0.718197\n",
       "                $501 - $1,500    0.212960\n",
       "                $500 OR LESS     0.068843\n",
       "1               OVER $1,500      0.735169\n",
       "                $501 - $1,500    0.190483\n",
       "                $500 OR LESS     0.074348\n",
       "Name: DAMAGE, dtype: float64"
      ]
     },
     "execution_count": 76,
     "metadata": {},
     "output_type": "execute_result"
    }
   ],
   "source": [
    "df.groupby(\"DRIVING_SKILLS\").DAMAGE.value_counts(normalize=True)"
   ]
  },
  {
   "cell_type": "markdown",
   "metadata": {},
   "source": [
    "While DRIVING_SKILLS is a very lopsided value, there is an indication that it affects the DAMAGE."
   ]
  },
  {
   "cell_type": "markdown",
   "metadata": {},
   "source": [
    "We want to identify crashes by the time of day they occurred."
   ]
  },
  {
   "cell_type": "code",
   "execution_count": 77,
   "metadata": {},
   "outputs": [],
   "source": [
    "# Create a new column to identify the time of day crashes occurred\n",
    "\n",
    "def hour(row):\n",
    "    if (row['CRASH_HOUR'] < 7) or (row['CRASH_HOUR'] >23):\n",
    "        return 'Evening/Overnight'\n",
    "    elif (row['CRASH_DAY_OF_WEEK'] in range(2,7)) and (row['CRASH_HOUR'] in range(7,10)) or (row['CRASH_HOUR'] in range(16,19)):\n",
    "        return 'Commute'\n",
    "    elif row['CRASH_HOUR'] in range(19,24):\n",
    "        return 'Evening/Overnight'\n",
    "    else:\n",
    "        return 'Daytime'\n",
    "df['TIME_OF_DAY'] = df.apply(hour, axis=1)"
   ]
  },
  {
   "cell_type": "code",
   "execution_count": 78,
   "metadata": {},
   "outputs": [
    {
     "data": {
      "text/plain": [
       "Daytime              0.382287\n",
       "Commute              0.349211\n",
       "Evening/Overnight    0.268503\n",
       "Name: TIME_OF_DAY, dtype: float64"
      ]
     },
     "execution_count": 78,
     "metadata": {},
     "output_type": "execute_result"
    }
   ],
   "source": [
    "df['TIME_OF_DAY'].value_counts(dropna=False, normalize=True)"
   ]
  },
  {
   "cell_type": "code",
   "execution_count": 79,
   "metadata": {},
   "outputs": [
    {
     "data": {
      "text/plain": [
       "OVER $1,500      152586\n",
       "$501 - $1,500     44884\n",
       "$500 OR LESS      14677\n",
       "Name: DAMAGE, dtype: int64"
      ]
     },
     "execution_count": 79,
     "metadata": {},
     "output_type": "execute_result"
    }
   ],
   "source": [
    "# Check the values in Damage column\n",
    "\n",
    "df['DAMAGE'].value_counts()"
   ]
  },
  {
   "cell_type": "code",
   "execution_count": 80,
   "metadata": {},
   "outputs": [],
   "source": [
    "# Create a new column to identify damage as > $1500 or <= $1500\n",
    "\n",
    "damage_dict = {'OVER $1,500':1, '$501 - $1,500':0, '$500 OR LESS':0}\n",
    "df['DAMAGE_OVER_1500'] =  df.loc[:, ('DAMAGE')].map(damage_dict).copy()"
   ]
  },
  {
   "cell_type": "code",
   "execution_count": 81,
   "metadata": {},
   "outputs": [
    {
     "data": {
      "text/plain": [
       "1    152586\n",
       "0     59561\n",
       "Name: DAMAGE_OVER_1500, dtype: int64"
      ]
     },
     "execution_count": 81,
     "metadata": {},
     "output_type": "execute_result"
    }
   ],
   "source": [
    "# Sanity check\n",
    "\n",
    "df['DAMAGE_OVER_1500'].value_counts()"
   ]
  },
  {
   "cell_type": "code",
   "execution_count": 82,
   "metadata": {},
   "outputs": [
    {
     "data": {
      "text/plain": [
       "<AxesSubplot:xlabel='DAMAGE', ylabel='Count'>"
      ]
     },
     "execution_count": 82,
     "metadata": {},
     "output_type": "execute_result"
    },
    {
     "data": {
      "image/png": "[encoded data removed]",
      "text/plain": [
       "<Figure size 360x288 with 1 Axes>"
      ]
     },
     "metadata": {},
     "output_type": "display_data"
    }
   ],
   "source": [
    "sns.histplot(df[\"DAMAGE\"], )"
   ]
  },
  {
   "cell_type": "code",
   "execution_count": 83,
   "metadata": {},
   "outputs": [
    {
     "data": {
      "text/plain": [
       "OVER $1,500      0.719247\n",
       "$501 - $1,500    0.211570\n",
       "$500 OR LESS     0.069183\n",
       "Name: DAMAGE, dtype: float64"
      ]
     },
     "execution_count": 83,
     "metadata": {},
     "output_type": "execute_result"
    }
   ],
   "source": [
    "df[\"DAMAGE\"].value_counts(normalize=True)"
   ]
  },
  {
   "cell_type": "code",
   "execution_count": 84,
   "metadata": {},
   "outputs": [
    {
     "data": {
      "text/plain": [
       "<AxesSubplot:xlabel='DAMAGE_OVER_1500', ylabel='Count'>"
      ]
     },
     "execution_count": 84,
     "metadata": {},
     "output_type": "execute_result"
    },
    {
     "data": {
      "image/png": "[encoded data removed]",
      "text/plain": [
       "<Figure size 360x288 with 1 Axes>"
      ]
     },
     "metadata": {},
     "output_type": "display_data"
    }
   ],
   "source": [
    "sns.histplot(df[\"DAMAGE_OVER_1500\"])"
   ]
  },
  {
   "cell_type": "markdown",
   "metadata": {},
   "source": [
    "### Comparing columns to DAMAGE_OVER_1500"
   ]
  },
  {
   "cell_type": "code",
   "execution_count": 85,
   "metadata": {},
   "outputs": [
    {
     "data": {
      "text/plain": [
       "AGE    DAMAGE_OVER_1500\n",
       "28.0   1                   4857\n",
       "25.0   1                   4788\n",
       "27.0   1                   4775\n",
       "26.0   1                   4774\n",
       "29.0   1                   4724\n",
       "                           ... \n",
       "102.0  0                      1\n",
       "103.0  1                      1\n",
       "101.0  1                      1\n",
       "98.0   1                      1\n",
       "110.0  1                      1\n",
       "Name: DAMAGE_OVER_1500, Length: 174, dtype: int64"
      ]
     },
     "execution_count": 85,
     "metadata": {},
     "output_type": "execute_result"
    }
   ],
   "source": [
    "df.groupby(\"AGE\").DAMAGE_OVER_1500.value_counts().sort_values(ascending=False)"
   ]
  },
  {
   "cell_type": "code",
   "execution_count": 86,
   "metadata": {},
   "outputs": [
    {
     "data": {
      "image/png": "[encoded data removed]",
      "text/plain": [
       "<Figure size 360x288 with 1 Axes>"
      ]
     },
     "metadata": {},
     "output_type": "display_data"
    }
   ],
   "source": [
    "sns.histplot(x=df[\"AGE\"], y=df[\"DAMAGE_OVER_1500\"]);"
   ]
  },
  {
   "cell_type": "code",
   "execution_count": 87,
   "metadata": {},
   "outputs": [
    {
     "data": {
      "text/plain": [
       "VEHICLE_YEAR  DAMAGE_OVER_1500\n",
       "2017.0        1                   11823\n",
       "2018.0        1                   11008\n",
       "2015.0        1                   10521\n",
       "2016.0        1                   10283\n",
       "2019.0        1                   10238\n",
       "2014.0        1                    9576\n",
       "2013.0        1                    9032\n",
       "2020.0        1                    8903\n",
       "2012.0        1                    7806\n",
       "2021.0        1                    7000\n",
       "2011.0        1                    6856\n",
       "2010.0        1                    6020\n",
       "2007.0        1                    5853\n",
       "2008.0        1                    5818\n",
       "2009.0        1                    4848\n",
       "2017.0        0                    4604\n",
       "2006.0        1                    4479\n",
       "2018.0        0                    4260\n",
       "2019.0        0                    4218\n",
       "2016.0        0                    4146\n",
       "2015.0        0                    4131\n",
       "2022.0        1                    4058\n",
       "2005.0        1                    4033\n",
       "2014.0        0                    3827\n",
       "2013.0        0                    3591\n",
       "2020.0        0                    3587\n",
       "2004.0        1                    3178\n",
       "2012.0        0                    3032\n",
       "2021.0        0                    2857\n",
       "2003.0        1                    2752\n",
       "2011.0        0                    2599\n",
       "2010.0        0                    2263\n",
       "2007.0        0                    2219\n",
       "2002.0        1                    2196\n",
       "2008.0        0                    2194\n",
       "2009.0        0                    1908\n",
       "2023.0        1                    1770\n",
       "2006.0        0                    1678\n",
       "2022.0        0                    1634\n",
       "2001.0        1                    1592\n",
       "2005.0        0                    1456\n",
       "2000.0        1                    1287\n",
       "2004.0        0                    1174\n",
       "2003.0        0                    1018\n",
       "1999.0        1                     919\n",
       "2002.0        0                     875\n",
       "1998.0        1                     644\n",
       "2023.0        0                     589\n",
       "2001.0        0                     565\n",
       "2000.0        0                     484\n",
       "1999.0        0                     376\n",
       "1998.0        0                     242\n",
       "2024.0        1                      93\n",
       "              0                      34\n",
       "Name: DAMAGE_OVER_1500, dtype: int64"
      ]
     },
     "execution_count": 87,
     "metadata": {},
     "output_type": "execute_result"
    }
   ],
   "source": [
    "df.groupby(\"VEHICLE_YEAR\").DAMAGE_OVER_1500.value_counts().sort_values(ascending=False)"
   ]
  },
  {
   "cell_type": "code",
   "execution_count": 88,
   "metadata": {},
   "outputs": [
    {
     "data": {
      "image/png": "[encoded data removed]",
      "text/plain": [
       "<Figure size 360x288 with 1 Axes>"
      ]
     },
     "metadata": {},
     "output_type": "display_data"
    }
   ],
   "source": [
    "sns.histplot(x=df[\"VEHICLE_YEAR\"], y=df[\"DAMAGE_OVER_1500\"]);"
   ]
  },
  {
   "cell_type": "code",
   "execution_count": 89,
   "metadata": {},
   "outputs": [
    {
     "data": {
      "text/plain": [
       "TIME_OF_DAY        DAMAGE_OVER_1500\n",
       "Commute            1                   0.704525\n",
       "                   0                   0.295475\n",
       "Daytime            1                   0.698919\n",
       "                   0                   0.301081\n",
       "Evening/Overnight  1                   0.767336\n",
       "                   0                   0.232664\n",
       "Name: DAMAGE_OVER_1500, dtype: float64"
      ]
     },
     "execution_count": 89,
     "metadata": {},
     "output_type": "execute_result"
    }
   ],
   "source": [
    "df.groupby(\"TIME_OF_DAY\").DAMAGE_OVER_1500.value_counts(normalize=True)"
   ]
  },
  {
   "cell_type": "code",
   "execution_count": 90,
   "metadata": {},
   "outputs": [
    {
     "data": {
      "image/png": "[encoded data removed]",
      "text/plain": [
       "<Figure size 360x288 with 1 Axes>"
      ]
     },
     "metadata": {},
     "output_type": "display_data"
    }
   ],
   "source": [
    "sns.histplot(x=df[\"TIME_OF_DAY\"], y=df[\"DAMAGE_OVER_1500\"]);"
   ]
  },
  {
   "cell_type": "code",
   "execution_count": 91,
   "metadata": {},
   "outputs": [
    {
     "data": {
      "text/plain": [
       "SEX  DAMAGE_OVER_1500\n",
       "F    1                   68181\n",
       "     0                   27656\n",
       "M    1                   84266\n",
       "     0                   31839\n",
       "X    1                     139\n",
       "     0                      66\n",
       "Name: DAMAGE_OVER_1500, dtype: int64"
      ]
     },
     "execution_count": 91,
     "metadata": {},
     "output_type": "execute_result"
    }
   ],
   "source": [
    "df.groupby(\"SEX\").DAMAGE_OVER_1500.value_counts()"
   ]
  },
  {
   "cell_type": "code",
   "execution_count": 92,
   "metadata": {},
   "outputs": [
    {
     "data": {
      "image/png": "[encoded data removed]",
      "text/plain": [
       "<Figure size 360x288 with 1 Axes>"
      ]
     },
     "metadata": {},
     "output_type": "display_data"
    }
   ],
   "source": [
    "sns.histplot(x=df[\"SEX\"], y=df[\"DAMAGE_OVER_1500\"]);"
   ]
  },
  {
   "cell_type": "code",
   "execution_count": 93,
   "metadata": {},
   "outputs": [
    {
     "data": {
      "text/plain": [
       "IN_STATE  DAMAGE_OVER_1500\n",
       "0.0       1                     8899\n",
       "          0                     3707\n",
       "1.0       1                   137020\n",
       "          0                    53616\n",
       "Name: DAMAGE_OVER_1500, dtype: int64"
      ]
     },
     "execution_count": 93,
     "metadata": {},
     "output_type": "execute_result"
    }
   ],
   "source": [
    "df.groupby(\"IN_STATE\").DAMAGE_OVER_1500.value_counts()"
   ]
  },
  {
   "cell_type": "code",
   "execution_count": 94,
   "metadata": {},
   "outputs": [
    {
     "data": {
      "image/png": "[encoded data removed]",
      "text/plain": [
       "<Figure size 360x288 with 1 Axes>"
      ]
     },
     "metadata": {},
     "output_type": "display_data"
    }
   ],
   "source": [
    "sns.histplot(x=df[\"IN_STATE\"], y=df[\"DAMAGE_OVER_1500\"]);"
   ]
  },
  {
   "cell_type": "code",
   "execution_count": 95,
   "metadata": {},
   "outputs": [
    {
     "data": {
      "text/plain": [
       "CRASH_HOUR  DAMAGE_OVER_1500\n",
       "0           1                    3181\n",
       "            0                     763\n",
       "1           1                    2707\n",
       "            0                     678\n",
       "2           1                    2351\n",
       "            0                     517\n",
       "3           1                    1803\n",
       "            0                     344\n",
       "4           1                    1627\n",
       "            0                     310\n",
       "5           1                    1966\n",
       "            0                     504\n",
       "6           1                    3038\n",
       "            0                     912\n",
       "7           1                    6686\n",
       "            0                    2394\n",
       "8           1                    8053\n",
       "            0                    3271\n",
       "9           1                    6376\n",
       "            0                    2476\n",
       "10          1                    6426\n",
       "            0                    2582\n",
       "11          1                    7418\n",
       "            0                    3036\n",
       "12          1                    8420\n",
       "            0                    3719\n",
       "13          1                    8804\n",
       "            0                    4005\n",
       "14          1                    9911\n",
       "            0                    4530\n",
       "15          1                   12666\n",
       "            0                    5558\n",
       "16          1                   12397\n",
       "            0                    5506\n",
       "17          1                   11879\n",
       "            0                    5203\n",
       "18          1                    9841\n",
       "            0                    4028\n",
       "19          1                    7110\n",
       "            0                    2731\n",
       "20          1                    5883\n",
       "            0                    2080\n",
       "21          1                    5148\n",
       "            0                    1745\n",
       "22          1                    4613\n",
       "            0                    1501\n",
       "23          1                    4282\n",
       "            0                    1168\n",
       "Name: DAMAGE_OVER_1500, dtype: int64"
      ]
     },
     "execution_count": 95,
     "metadata": {},
     "output_type": "execute_result"
    }
   ],
   "source": [
    "df.groupby(\"CRASH_HOUR\").DAMAGE_OVER_1500.value_counts()"
   ]
  },
  {
   "cell_type": "code",
   "execution_count": 96,
   "metadata": {},
   "outputs": [
    {
     "data": {
      "image/png": "[encoded data removed]",
      "text/plain": [
       "<Figure size 360x288 with 1 Axes>"
      ]
     },
     "metadata": {},
     "output_type": "display_data"
    }
   ],
   "source": [
    "sns.histplot(x=df[\"CRASH_HOUR\"], y=df[\"DAMAGE_OVER_1500\"]);"
   ]
  },
  {
   "cell_type": "markdown",
   "metadata": {},
   "source": [
    "## Initial Modeling"
   ]
  },
  {
   "cell_type": "markdown",
   "metadata": {},
   "source": [
    "### Initial Dummy Model"
   ]
  },
  {
   "cell_type": "markdown",
   "metadata": {},
   "source": [
    "#### Decide Xs/y"
   ]
  },
  {
   "cell_type": "markdown",
   "metadata": {},
   "source": [
    "The target is DAMAGE_OVER_1500."
   ]
  },
  {
   "cell_type": "code",
   "execution_count": 97,
   "metadata": {},
   "outputs": [],
   "source": [
    "X = df.drop([\"DAMAGE_OVER_1500\"], axis=1)\n",
    "y = df[\"DAMAGE_OVER_1500\"]"
   ]
  },
  {
   "cell_type": "markdown",
   "metadata": {},
   "source": [
    "#### Train/Test Split"
   ]
  },
  {
   "cell_type": "code",
   "execution_count": 98,
   "metadata": {},
   "outputs": [],
   "source": [
    "X_train, X_test, y_train, y_test = train_test_split(X, y, random_state=2024)"
   ]
  },
  {
   "cell_type": "markdown",
   "metadata": {},
   "source": [
    "#### Modeling "
   ]
  },
  {
   "cell_type": "code",
   "execution_count": 99,
   "metadata": {},
   "outputs": [],
   "source": [
    "dummy_model = DummyClassifier(strategy=\"most_frequent\")"
   ]
  },
  {
   "cell_type": "code",
   "execution_count": 100,
   "metadata": {},
   "outputs": [
    {
     "data": {
      "text/plain": [
       "DummyClassifier(strategy='most_frequent')"
      ]
     },
     "execution_count": 100,
     "metadata": {},
     "output_type": "execute_result"
    }
   ],
   "source": [
    "dummy_model.fit(X_train, y_train)"
   ]
  },
  {
   "cell_type": "markdown",
   "metadata": {},
   "source": [
    "We use accuracy score to compare all models with each other. We also use a confusion matrix to see the performance relative to false positives and false negatives. Finally, we plot the ROC curve to see visually if the models are improving in performance. "
   ]
  },
  {
   "cell_type": "code",
   "execution_count": 101,
   "metadata": {},
   "outputs": [
    {
     "data": {
      "text/plain": [
       "0.7195542734317552"
      ]
     },
     "execution_count": 101,
     "metadata": {},
     "output_type": "execute_result"
    }
   ],
   "source": [
    "y_pred = dummy_model.predict(X_test)\n",
    "dummy1_accuracy = accuracy_score(y_test, y_pred)\n",
    "dummy1_accuracy"
   ]
  },
  {
   "cell_type": "code",
   "execution_count": 102,
   "metadata": {},
   "outputs": [
    {
     "data": {
      "image/png": "[encoded data removed]",
      "text/plain": [
       "<Figure size 360x288 with 2 Axes>"
      ]
     },
     "metadata": {},
     "output_type": "display_data"
    }
   ],
   "source": [
    "fig, ax = plt.subplots()\n",
    "\n",
    "fig.suptitle(\"Dummy Model\")\n",
    "\n",
    "plot_confusion_matrix(dummy_model, X_train, y_train, ax=ax, cmap=\"plasma\");"
   ]
  },
  {
   "cell_type": "code",
   "execution_count": 103,
   "metadata": {},
   "outputs": [
    {
     "data": {
      "image/png": "[encoded data removed]",
      "text/plain": [
       "<Figure size 360x288 with 1 Axes>"
      ]
     },
     "metadata": {},
     "output_type": "display_data"
    }
   ],
   "source": [
    "plot_roc_curve(dummy_model, X_train, y_train);"
   ]
  },
  {
   "cell_type": "markdown",
   "metadata": {},
   "source": [
    "### Initial Decision Tree Classifier"
   ]
  },
  {
   "cell_type": "code",
   "execution_count": 104,
   "metadata": {},
   "outputs": [],
   "source": [
    "# Making a dataframe of numeric columns\n",
    "\n",
    "df_dt = df[[\"VEHICLE_YEAR\", \"SEX\", \"DRIVING_SKILLS\", \"TIME_OF_DAY\", \"DAMAGE_OVER_1500\"]]"
   ]
  },
  {
   "cell_type": "code",
   "execution_count": 105,
   "metadata": {},
   "outputs": [
    {
     "name": "stdout",
     "output_type": "stream",
     "text": [
      "<class 'pandas.core.frame.DataFrame'>\n",
      "Int64Index: 212147 entries, 3 to 766594\n",
      "Data columns (total 5 columns):\n",
      " #   Column            Non-Null Count   Dtype  \n",
      "---  ------            --------------   -----  \n",
      " 0   VEHICLE_YEAR      212147 non-null  float64\n",
      " 1   SEX               212147 non-null  object \n",
      " 2   DRIVING_SKILLS    212147 non-null  int64  \n",
      " 3   TIME_OF_DAY       212147 non-null  object \n",
      " 4   DAMAGE_OVER_1500  212147 non-null  int64  \n",
      "dtypes: float64(1), int64(2), object(2)\n",
      "memory usage: 9.7+ MB\n"
     ]
    }
   ],
   "source": [
    "df_dt.info()"
   ]
  },
  {
   "cell_type": "code",
   "execution_count": 106,
   "metadata": {},
   "outputs": [],
   "source": [
    "# Assigning Xs & y \n",
    "\n",
    "X_dt = df_dt.drop(\"DAMAGE_OVER_1500\", axis=1)\n",
    "y_dt = df[\"DAMAGE_OVER_1500\"]"
   ]
  },
  {
   "cell_type": "markdown",
   "metadata": {},
   "source": [
    "#### Train/Test Split"
   ]
  },
  {
   "cell_type": "code",
   "execution_count": 107,
   "metadata": {},
   "outputs": [],
   "source": [
    "X_train_dt, X_test_dt, y_train_dt, y_test_dt = train_test_split(X_dt, y_dt, random_state=2024)"
   ]
  },
  {
   "cell_type": "markdown",
   "metadata": {},
   "source": [
    "#### Preprocessing Steps (SS, OHE, SI)"
   ]
  },
  {
   "cell_type": "code",
   "execution_count": 108,
   "metadata": {},
   "outputs": [
    {
     "data": {
      "text/plain": [
       "VEHICLE_YEAR        0\n",
       "SEX                 0\n",
       "DRIVING_SKILLS      0\n",
       "TIME_OF_DAY         0\n",
       "DAMAGE_OVER_1500    0\n",
       "dtype: int64"
      ]
     },
     "execution_count": 108,
     "metadata": {},
     "output_type": "execute_result"
    }
   ],
   "source": [
    "df_dt.isna().sum()"
   ]
  },
  {
   "cell_type": "code",
   "execution_count": 109,
   "metadata": {},
   "outputs": [
    {
     "data": {
      "text/plain": [
       "(159110, 35)"
      ]
     },
     "execution_count": 109,
     "metadata": {},
     "output_type": "execute_result"
    }
   ],
   "source": [
    "encoding = OneHotEncoder(categories=\"auto\", handle_unknown=\"ignore\")\n",
    "X_train_dt_imp = encoding.fit_transform(X_train_dt)\n",
    "X_test_dt_imp = encoding.transform(X_test_dt)\n",
    "X_train_dt_imp.shape"
   ]
  },
  {
   "cell_type": "code",
   "execution_count": 110,
   "metadata": {},
   "outputs": [],
   "source": [
    "names = pd.DataFrame(X_train_dt_imp.todense(), columns=encoding.get_feature_names())"
   ]
  },
  {
   "cell_type": "markdown",
   "metadata": {},
   "source": [
    "#### Modeling "
   ]
  },
  {
   "cell_type": "code",
   "execution_count": 111,
   "metadata": {},
   "outputs": [
    {
     "data": {
      "text/plain": [
       "DecisionTreeClassifier(max_depth=2, random_state=2024)"
      ]
     },
     "execution_count": 111,
     "metadata": {},
     "output_type": "execute_result"
    }
   ],
   "source": [
    "dt = DecisionTreeClassifier(max_depth=2, random_state=2024)\n",
    "dt.fit(X_train_dt_imp, y_train_dt)"
   ]
  },
  {
   "cell_type": "code",
   "execution_count": 112,
   "metadata": {},
   "outputs": [
    {
     "data": {
      "text/plain": [
       "0.7191439884356734"
      ]
     },
     "execution_count": 112,
     "metadata": {},
     "output_type": "execute_result"
    }
   ],
   "source": [
    "dt.score(X_train_dt_imp, y_train_dt)"
   ]
  },
  {
   "cell_type": "code",
   "execution_count": 113,
   "metadata": {},
   "outputs": [
    {
     "data": {
      "text/plain": [
       "0.7195542734317552"
      ]
     },
     "execution_count": 113,
     "metadata": {},
     "output_type": "execute_result"
    }
   ],
   "source": [
    "dt.score(X_test_dt_imp, y_test_dt)"
   ]
  },
  {
   "cell_type": "code",
   "execution_count": 114,
   "metadata": {},
   "outputs": [
    {
     "data": {
      "text/plain": [
       "[Text(139.5, 181.2, 'X[34] <= 0.5\\ngini = 0.404\\nsamples = 159110\\nvalue = [44687, 114423]'),\n",
       " Text(69.75, 108.72, 'X[30] <= 0.5\\ngini = 0.418\\nsamples = 116590\\nvalue = [34753, 81837]'),\n",
       " Text(34.875, 36.23999999999998, 'gini = 0.396\\nsamples = 7451\\nvalue = [2026, 5425]'),\n",
       " Text(104.625, 36.23999999999998, 'gini = 0.42\\nsamples = 109139\\nvalue = [32727, 76412]'),\n",
       " Text(209.25, 108.72, 'X[27] <= 0.5\\ngini = 0.358\\nsamples = 42520\\nvalue = [9934, 32586]'),\n",
       " Text(174.375, 36.23999999999998, 'gini = 0.353\\nsamples = 25734\\nvalue = [5897, 19837]'),\n",
       " Text(244.125, 36.23999999999998, 'gini = 0.365\\nsamples = 16786\\nvalue = [4037, 12749]')]"
      ]
     },
     "execution_count": 114,
     "metadata": {},
     "output_type": "execute_result"
    },
    {
     "data": {
      "image/png": "[encoded data removed]",
      "text/plain": [
       "<Figure size 360x288 with 1 Axes>"
      ]
     },
     "metadata": {},
     "output_type": "display_data"
    }
   ],
   "source": [
    "plot_tree(dt, max_depth=2)"
   ]
  },
  {
   "cell_type": "code",
   "execution_count": 115,
   "metadata": {},
   "outputs": [
    {
     "data": {
      "text/plain": [
       "'x3_Evening/Overnight'"
      ]
     },
     "execution_count": 115,
     "metadata": {},
     "output_type": "execute_result"
    }
   ],
   "source": [
    "names.columns[34]"
   ]
  },
  {
   "cell_type": "markdown",
   "metadata": {},
   "source": [
    "There was no meaningful reduction in impurity when the sample was split, so the feature importance provided by the model is weak."
   ]
  },
  {
   "cell_type": "markdown",
   "metadata": {},
   "source": [
    "### Initial Logistic Regression with TIME_OF_DAY"
   ]
  },
  {
   "cell_type": "markdown",
   "metadata": {},
   "source": [
    "#### Decide Xs/y"
   ]
  },
  {
   "cell_type": "code",
   "execution_count": 116,
   "metadata": {},
   "outputs": [],
   "source": [
    "df_lr = df[[\"TIME_OF_DAY\", \"DAMAGE_OVER_1500\"]]"
   ]
  },
  {
   "cell_type": "code",
   "execution_count": 117,
   "metadata": {},
   "outputs": [],
   "source": [
    "X_lr = df_lr.drop(\"DAMAGE_OVER_1500\", axis=1)\n",
    "y_lr = df_lr[\"DAMAGE_OVER_1500\"]"
   ]
  },
  {
   "cell_type": "markdown",
   "metadata": {},
   "source": [
    "#### Train/Test Split"
   ]
  },
  {
   "cell_type": "code",
   "execution_count": 118,
   "metadata": {},
   "outputs": [],
   "source": [
    "X_train_lr, X_test_lr, y_train_lr, y_test_lr = train_test_split(X_lr, y_lr, random_state=2024)"
   ]
  },
  {
   "cell_type": "markdown",
   "metadata": {},
   "source": [
    "#### Preprocessing Steps (SS, OHE, SI)"
   ]
  },
  {
   "cell_type": "code",
   "execution_count": 119,
   "metadata": {},
   "outputs": [],
   "source": [
    "X_train_lr_imp = encoding.fit_transform(X_train_lr)\n",
    "X_test_lr_imp = encoding.transform(X_test_lr)"
   ]
  },
  {
   "cell_type": "code",
   "execution_count": 120,
   "metadata": {},
   "outputs": [],
   "source": [
    "ss = StandardScaler(with_mean=False)"
   ]
  },
  {
   "cell_type": "code",
   "execution_count": 121,
   "metadata": {},
   "outputs": [
    {
     "data": {
      "text/plain": [
       "<53037x3 sparse matrix of type '<class 'numpy.float64'>'\n",
       "\twith 53037 stored elements in Compressed Sparse Row format>"
      ]
     },
     "execution_count": 121,
     "metadata": {},
     "output_type": "execute_result"
    }
   ],
   "source": [
    "ss.fit_transform(X_train_lr_imp)\n",
    "ss.transform(X_test_lr_imp)"
   ]
  },
  {
   "cell_type": "markdown",
   "metadata": {},
   "source": [
    "#### Modeling "
   ]
  },
  {
   "cell_type": "code",
   "execution_count": 122,
   "metadata": {},
   "outputs": [],
   "source": [
    "logreg = LogisticRegression(random_state=2024)"
   ]
  },
  {
   "cell_type": "code",
   "execution_count": 123,
   "metadata": {},
   "outputs": [],
   "source": [
    "logreg.fit(X_train_lr_imp, y_train_lr)\n",
    "y_pred_lr = logreg.predict(X_test_lr_imp)"
   ]
  },
  {
   "cell_type": "markdown",
   "metadata": {},
   "source": [
    "We use accuracy score to compare all models with each other. We also use a confusion matrix to see the performance relative to false positives and false negatives. Finally, we plot the ROC curve to see visually if the models are improving in performance. For Logistic Regression models we also print the logloss, probability, and odds."
   ]
  },
  {
   "cell_type": "code",
   "execution_count": 124,
   "metadata": {},
   "outputs": [
    {
     "data": {
      "text/plain": [
       "0.7195542734317552"
      ]
     },
     "execution_count": 124,
     "metadata": {},
     "output_type": "execute_result"
    }
   ],
   "source": [
    "ToD1_accuracy = accuracy_score(y_test_lr, y_pred_lr)\n",
    "ToD1_accuracy"
   ]
  },
  {
   "cell_type": "code",
   "execution_count": 125,
   "metadata": {},
   "outputs": [
    {
     "data": {
      "image/png": "[encoded data removed]",
      "text/plain": [
       "<Figure size 360x288 with 2 Axes>"
      ]
     },
     "metadata": {},
     "output_type": "display_data"
    }
   ],
   "source": [
    "fig, ax = plt.subplots()\n",
    "plot_confusion_matrix(logreg, X_test_lr_imp, y_test_lr, ax=ax, cmap=\"plasma\");"
   ]
  },
  {
   "cell_type": "code",
   "execution_count": 126,
   "metadata": {},
   "outputs": [
    {
     "data": {
      "image/png": "[encoded data removed]",
      "text/plain": [
       "<Figure size 360x288 with 1 Axes>"
      ]
     },
     "metadata": {},
     "output_type": "display_data"
    }
   ],
   "source": [
    "plot_roc_curve(logreg, X_test_lr_imp, y_test_lr);"
   ]
  },
  {
   "cell_type": "code",
   "execution_count": 127,
   "metadata": {},
   "outputs": [
    {
     "data": {
      "text/plain": [
       "0.590948489720306"
      ]
     },
     "execution_count": 127,
     "metadata": {},
     "output_type": "execute_result"
    }
   ],
   "source": [
    "log_loss(y_test_lr, logreg.predict_proba(X_test_lr_imp))"
   ]
  },
  {
   "cell_type": "code",
   "execution_count": 128,
   "metadata": {},
   "outputs": [
    {
     "data": {
      "text/plain": [
       "array([0.72564711])"
      ]
     },
     "execution_count": 128,
     "metadata": {},
     "output_type": "execute_result"
    }
   ],
   "source": [
    "logreg.intercept_"
   ]
  },
  {
   "cell_type": "code",
   "execution_count": 129,
   "metadata": {},
   "outputs": [
    {
     "data": {
      "text/plain": [
       "array([0.67384934])"
      ]
     },
     "execution_count": 129,
     "metadata": {},
     "output_type": "execute_result"
    }
   ],
   "source": [
    "logodds = logreg.intercept_\n",
    "odds = np.exp(logodds)\n",
    "prob = odds / (1 + odds)\n",
    "prob"
   ]
  },
  {
   "cell_type": "code",
   "execution_count": 130,
   "metadata": {},
   "outputs": [
    {
     "data": {
      "text/plain": [
       "array([2.06606764])"
      ]
     },
     "execution_count": 130,
     "metadata": {},
     "output_type": "execute_result"
    }
   ],
   "source": [
    "odds"
   ]
  },
  {
   "cell_type": "markdown",
   "metadata": {},
   "source": [
    "## Evaluation of Initial Models"
   ]
  },
  {
   "cell_type": "markdown",
   "metadata": {},
   "source": [
    "### Accuracy Scores of Initial Models"
   ]
  },
  {
   "cell_type": "code",
   "execution_count": 131,
   "metadata": {},
   "outputs": [
    {
     "name": "stdout",
     "output_type": "stream",
     "text": [
      "Baseline Accuracy:           72.0 %\n",
      "Time of Day LogReg Accuracy: 72.0 %\n"
     ]
    }
   ],
   "source": [
    "print(\"Baseline Accuracy:          \", round((dummy1_accuracy*100), ndigits=1), \"%\")\n",
    "print(\"Time of Day LogReg Accuracy:\", round((ToD1_accuracy*100), ndigits=1), \"%\")"
   ]
  },
  {
   "cell_type": "markdown",
   "metadata": {},
   "source": [
    "Decision Tree and Logistic Regression Accuracy scores are the same as the Dummy Model. We will undersample the majority class to see if it runs better."
   ]
  },
  {
   "cell_type": "markdown",
   "metadata": {},
   "source": [
    "## Balance Data and Redo Models"
   ]
  },
  {
   "cell_type": "markdown",
   "metadata": {},
   "source": [
    "### Undersampling Majority to Balance Data"
   ]
  },
  {
   "cell_type": "code",
   "execution_count": 132,
   "metadata": {},
   "outputs": [
    {
     "data": {
      "text/plain": [
       "1    152586\n",
       "0     59561\n",
       "Name: DAMAGE_OVER_1500, dtype: int64"
      ]
     },
     "execution_count": 132,
     "metadata": {},
     "output_type": "execute_result"
    }
   ],
   "source": [
    "df[\"DAMAGE_OVER_1500\"].value_counts()"
   ]
  },
  {
   "cell_type": "code",
   "execution_count": 133,
   "metadata": {},
   "outputs": [],
   "source": [
    "over = df[df[\"DAMAGE_OVER_1500\"]==1]\n",
    "under = df[df[\"DAMAGE_OVER_1500\"]==0]\n",
    "over_small = over.sample(n=len(under), random_state=2024)\n",
    "df = pd.concat([under, over_small],axis=0)"
   ]
  },
  {
   "cell_type": "code",
   "execution_count": 134,
   "metadata": {},
   "outputs": [
    {
     "data": {
      "text/plain": [
       "1    59561\n",
       "0    59561\n",
       "Name: DAMAGE_OVER_1500, dtype: int64"
      ]
     },
     "execution_count": 134,
     "metadata": {},
     "output_type": "execute_result"
    }
   ],
   "source": [
    "df[\"DAMAGE_OVER_1500\"].value_counts()"
   ]
  },
  {
   "cell_type": "markdown",
   "metadata": {},
   "source": [
    "### Dummy Model Redo"
   ]
  },
  {
   "cell_type": "markdown",
   "metadata": {},
   "source": [
    "#### Decide Xs/y"
   ]
  },
  {
   "cell_type": "markdown",
   "metadata": {},
   "source": [
    "The target is DAMAGE_OVER_1500. There are a few columns which represent interrelated variables, so only one will be used. "
   ]
  },
  {
   "cell_type": "code",
   "execution_count": 135,
   "metadata": {},
   "outputs": [],
   "source": [
    "X = df.drop([\"DAMAGE\", \"DAMAGE_OVER_1500\"], axis=1)\n",
    "y = df[\"DAMAGE_OVER_1500\"]"
   ]
  },
  {
   "cell_type": "markdown",
   "metadata": {},
   "source": [
    "#### Train/Test Split"
   ]
  },
  {
   "cell_type": "code",
   "execution_count": 136,
   "metadata": {},
   "outputs": [],
   "source": [
    "X_train, X_test, y_train, y_test = train_test_split(X, y, random_state=2024)"
   ]
  },
  {
   "cell_type": "markdown",
   "metadata": {},
   "source": [
    "#### Modeling "
   ]
  },
  {
   "cell_type": "code",
   "execution_count": 137,
   "metadata": {},
   "outputs": [],
   "source": [
    "dummy_model = DummyClassifier(strategy=\"most_frequent\")"
   ]
  },
  {
   "cell_type": "code",
   "execution_count": 138,
   "metadata": {},
   "outputs": [
    {
     "data": {
      "text/plain": [
       "DummyClassifier(strategy='most_frequent')"
      ]
     },
     "execution_count": 138,
     "metadata": {},
     "output_type": "execute_result"
    }
   ],
   "source": [
    "dummy_model.fit(X_train, y_train)"
   ]
  },
  {
   "cell_type": "markdown",
   "metadata": {},
   "source": [
    "We use accuracy score to compare all models with each other. We also use a confusion matrix to see the performance relative to false positives and false negatives. Finally, we plot the ROC curve to see visually if the models are improving in performance. "
   ]
  },
  {
   "cell_type": "code",
   "execution_count": 139,
   "metadata": {},
   "outputs": [
    {
     "data": {
      "text/plain": [
       "0.4979685034082133"
      ]
     },
     "execution_count": 139,
     "metadata": {},
     "output_type": "execute_result"
    }
   ],
   "source": [
    "y_pred = dummy_model.predict(X_test)\n",
    "dummy2_accuracy = accuracy_score(y_test, y_pred)\n",
    "dummy2_accuracy"
   ]
  },
  {
   "cell_type": "code",
   "execution_count": 140,
   "metadata": {},
   "outputs": [
    {
     "data": {
      "image/png": "[encoded data removed]",
      "text/plain": [
       "<Figure size 360x288 with 2 Axes>"
      ]
     },
     "metadata": {},
     "output_type": "display_data"
    }
   ],
   "source": [
    "fig, ax = plt.subplots()\n",
    "\n",
    "fig.suptitle(\"Dummy Model\")\n",
    "\n",
    "plot_confusion_matrix(dummy_model, X_train, y_train, ax=ax, cmap=\"plasma\");"
   ]
  },
  {
   "cell_type": "code",
   "execution_count": 141,
   "metadata": {},
   "outputs": [
    {
     "data": {
      "image/png": "[encoded data removed]",
      "text/plain": [
       "<Figure size 360x288 with 1 Axes>"
      ]
     },
     "metadata": {},
     "output_type": "display_data"
    }
   ],
   "source": [
    "plot_roc_curve(dummy_model, X_train, y_train);"
   ]
  },
  {
   "cell_type": "markdown",
   "metadata": {},
   "source": [
    "### Decision Tree Classifier Redo"
   ]
  },
  {
   "cell_type": "code",
   "execution_count": 142,
   "metadata": {},
   "outputs": [],
   "source": [
    "# Making a dataframe from numeric columns\n",
    "\n",
    "df_dt = df[[\"VEHICLE_YEAR\", \"SEX\", \"DRIVING_SKILLS\", \"TIME_OF_DAY\", \"DAMAGE_OVER_1500\"]]"
   ]
  },
  {
   "cell_type": "code",
   "execution_count": 143,
   "metadata": {},
   "outputs": [
    {
     "name": "stdout",
     "output_type": "stream",
     "text": [
      "<class 'pandas.core.frame.DataFrame'>\n",
      "Int64Index: 119122 entries, 35 to 570737\n",
      "Data columns (total 5 columns):\n",
      " #   Column            Non-Null Count   Dtype  \n",
      "---  ------            --------------   -----  \n",
      " 0   VEHICLE_YEAR      119122 non-null  float64\n",
      " 1   SEX               119122 non-null  object \n",
      " 2   DRIVING_SKILLS    119122 non-null  int64  \n",
      " 3   TIME_OF_DAY       119122 non-null  object \n",
      " 4   DAMAGE_OVER_1500  119122 non-null  int64  \n",
      "dtypes: float64(1), int64(2), object(2)\n",
      "memory usage: 5.5+ MB\n"
     ]
    }
   ],
   "source": [
    "df_dt.info()"
   ]
  },
  {
   "cell_type": "code",
   "execution_count": 144,
   "metadata": {},
   "outputs": [],
   "source": [
    "# Assigning Xs & y \n",
    "\n",
    "X_dt = df_dt.drop(\"DAMAGE_OVER_1500\", axis=1)\n",
    "y_dt = df[\"DAMAGE_OVER_1500\"]"
   ]
  },
  {
   "cell_type": "markdown",
   "metadata": {},
   "source": [
    "#### Train/Test Split"
   ]
  },
  {
   "cell_type": "code",
   "execution_count": 145,
   "metadata": {},
   "outputs": [],
   "source": [
    "X_train_dt, X_test_dt, y_train_dt, y_test_dt = train_test_split(X_dt, y_dt, random_state=2024)"
   ]
  },
  {
   "cell_type": "markdown",
   "metadata": {},
   "source": [
    "#### Preprocessing Steps (SS, OHE, SI)"
   ]
  },
  {
   "cell_type": "code",
   "execution_count": 146,
   "metadata": {},
   "outputs": [
    {
     "data": {
      "text/plain": [
       "VEHICLE_YEAR        0\n",
       "SEX                 0\n",
       "DRIVING_SKILLS      0\n",
       "TIME_OF_DAY         0\n",
       "DAMAGE_OVER_1500    0\n",
       "dtype: int64"
      ]
     },
     "execution_count": 146,
     "metadata": {},
     "output_type": "execute_result"
    }
   ],
   "source": [
    "df_dt.isna().sum()"
   ]
  },
  {
   "cell_type": "code",
   "execution_count": 147,
   "metadata": {},
   "outputs": [],
   "source": [
    "encoding = OneHotEncoder(categories=\"auto\", handle_unknown=\"ignore\")\n",
    "X_train_dt_imp = encoding.fit_transform(X_train_dt)\n",
    "X_test_dt_imp = encoding.transform(X_test_dt)"
   ]
  },
  {
   "cell_type": "code",
   "execution_count": 148,
   "metadata": {},
   "outputs": [],
   "source": [
    "names = pd.DataFrame(X_train_dt_imp.todense(), columns=encoding.get_feature_names())"
   ]
  },
  {
   "cell_type": "markdown",
   "metadata": {},
   "source": [
    "#### Modeling "
   ]
  },
  {
   "cell_type": "code",
   "execution_count": 149,
   "metadata": {},
   "outputs": [
    {
     "data": {
      "text/plain": [
       "DecisionTreeClassifier(max_depth=2, random_state=2024)"
      ]
     },
     "execution_count": 149,
     "metadata": {},
     "output_type": "execute_result"
    }
   ],
   "source": [
    "dt = DecisionTreeClassifier(max_depth=2, random_state=2024)\n",
    "dt.fit(X_train_dt_imp, y_train_dt)"
   ]
  },
  {
   "cell_type": "code",
   "execution_count": 150,
   "metadata": {},
   "outputs": [
    {
     "data": {
      "text/plain": [
       "0.5318274924166956"
      ]
     },
     "execution_count": 150,
     "metadata": {},
     "output_type": "execute_result"
    }
   ],
   "source": [
    "dt.score(X_train_dt_imp, y_train_dt)"
   ]
  },
  {
   "cell_type": "code",
   "execution_count": 151,
   "metadata": {},
   "outputs": [
    {
     "data": {
      "text/plain": [
       "0.5330915684496826"
      ]
     },
     "execution_count": 151,
     "metadata": {},
     "output_type": "execute_result"
    }
   ],
   "source": [
    "dt.score(X_test_dt_imp, y_test_dt)"
   ]
  },
  {
   "cell_type": "code",
   "execution_count": 152,
   "metadata": {},
   "outputs": [
    {
     "data": {
      "text/plain": [
       "[Text(139.5, 181.2, 'X[34] <= 0.5\\ngini = 0.5\\nsamples = 89341\\nvalue = [44610, 44731]'),\n",
       " Text(69.75, 108.72, 'X[30] <= 0.5\\ngini = 0.499\\nsamples = 66557\\nvalue = [34662, 31895]'),\n",
       " Text(34.875, 36.23999999999998, 'gini = 0.5\\nsamples = 4116\\nvalue = [2050, 2066]'),\n",
       " Text(104.625, 36.23999999999998, 'gini = 0.499\\nsamples = 62441\\nvalue = [32612, 29829]'),\n",
       " Text(209.25, 108.72, 'X[9] <= 0.5\\ngini = 0.492\\nsamples = 22784\\nvalue = [9948, 12836]'),\n",
       " Text(174.375, 36.23999999999998, 'gini = 0.492\\nsamples = 21951\\nvalue = [9627, 12324]'),\n",
       " Text(244.125, 36.23999999999998, 'gini = 0.474\\nsamples = 833\\nvalue = [321, 512]')]"
      ]
     },
     "execution_count": 152,
     "metadata": {},
     "output_type": "execute_result"
    },
    {
     "data": {
      "image/png": "[encoded data removed]",
      "text/plain": [
       "<Figure size 360x288 with 1 Axes>"
      ]
     },
     "metadata": {},
     "output_type": "display_data"
    }
   ],
   "source": [
    "plot_tree(dt, max_depth=2)"
   ]
  },
  {
   "cell_type": "code",
   "execution_count": 153,
   "metadata": {},
   "outputs": [
    {
     "data": {
      "text/plain": [
       "'x3_Evening/Overnight'"
      ]
     },
     "execution_count": 153,
     "metadata": {},
     "output_type": "execute_result"
    }
   ],
   "source": [
    "names.columns[34]"
   ]
  },
  {
   "cell_type": "markdown",
   "metadata": {},
   "source": [
    "This still showed no meaningful reduction in impurity when the sample was split, so the feature importance provided by the model is weak."
   ]
  },
  {
   "cell_type": "markdown",
   "metadata": {},
   "source": [
    "### Logistic Regression with TIME_OF_DAY Redo"
   ]
  },
  {
   "cell_type": "markdown",
   "metadata": {},
   "source": [
    "#### Decide Xs/y"
   ]
  },
  {
   "cell_type": "code",
   "execution_count": 154,
   "metadata": {},
   "outputs": [],
   "source": [
    "df_lr = df[[\"TIME_OF_DAY\", \"DAMAGE_OVER_1500\"]]"
   ]
  },
  {
   "cell_type": "code",
   "execution_count": 155,
   "metadata": {},
   "outputs": [],
   "source": [
    "X_lr = df_lr.drop(\"DAMAGE_OVER_1500\", axis=1)\n",
    "y_lr = df_lr[\"DAMAGE_OVER_1500\"]"
   ]
  },
  {
   "cell_type": "markdown",
   "metadata": {},
   "source": [
    "#### Train/Test Split"
   ]
  },
  {
   "cell_type": "code",
   "execution_count": 156,
   "metadata": {},
   "outputs": [],
   "source": [
    "X_train_lr, X_test_lr, y_train_lr, y_test_lr = train_test_split(X_lr, y_lr, random_state=2024)"
   ]
  },
  {
   "cell_type": "markdown",
   "metadata": {},
   "source": [
    "#### Preprocessing Steps (OHE, SS)"
   ]
  },
  {
   "cell_type": "code",
   "execution_count": 157,
   "metadata": {},
   "outputs": [],
   "source": [
    "X_train_lr_imp = encoding.fit_transform(X_train_lr)\n",
    "X_test_lr_imp = encoding.transform(X_test_lr)"
   ]
  },
  {
   "cell_type": "code",
   "execution_count": 158,
   "metadata": {},
   "outputs": [],
   "source": [
    "ss = StandardScaler(with_mean=False)"
   ]
  },
  {
   "cell_type": "code",
   "execution_count": 159,
   "metadata": {},
   "outputs": [
    {
     "data": {
      "text/plain": [
       "<29781x3 sparse matrix of type '<class 'numpy.float64'>'\n",
       "\twith 29781 stored elements in Compressed Sparse Row format>"
      ]
     },
     "execution_count": 159,
     "metadata": {},
     "output_type": "execute_result"
    }
   ],
   "source": [
    "ss.fit_transform(X_train_lr_imp)\n",
    "ss.transform(X_test_lr_imp)"
   ]
  },
  {
   "cell_type": "markdown",
   "metadata": {},
   "source": [
    "#### Modeling "
   ]
  },
  {
   "cell_type": "code",
   "execution_count": 160,
   "metadata": {},
   "outputs": [],
   "source": [
    "logreg = LogisticRegression(random_state=2024)"
   ]
  },
  {
   "cell_type": "code",
   "execution_count": 161,
   "metadata": {},
   "outputs": [],
   "source": [
    "logreg.fit(X_train_lr_imp, y_train_lr)\n",
    "y_pred_lr = logreg.predict(X_test_lr_imp)"
   ]
  },
  {
   "cell_type": "markdown",
   "metadata": {},
   "source": [
    "We use accuracy score to compare all models with each other. We also use a confusion matrix to see the performance relative to false positives and false negatives. Finally, we plot the ROC curve to see visually if the models are improving in performance. For Logistic Regression models we also print the logloss, probability, and odds."
   ]
  },
  {
   "cell_type": "code",
   "execution_count": 162,
   "metadata": {},
   "outputs": [
    {
     "data": {
      "text/plain": [
       "0.5307074980692388"
      ]
     },
     "execution_count": 162,
     "metadata": {},
     "output_type": "execute_result"
    }
   ],
   "source": [
    "ToD2_accuracy = accuracy_score(y_test_lr, y_pred_lr)\n",
    "ToD2_accuracy"
   ]
  },
  {
   "cell_type": "code",
   "execution_count": 163,
   "metadata": {},
   "outputs": [
    {
     "data": {
      "image/png": "[encoded data removed]",
      "text/plain": [
       "<Figure size 360x288 with 2 Axes>"
      ]
     },
     "metadata": {},
     "output_type": "display_data"
    }
   ],
   "source": [
    "fig, ax = plt.subplots()\n",
    "plot_confusion_matrix(logreg, X_test_lr_imp, y_test_lr, ax=ax, cmap=\"plasma\");"
   ]
  },
  {
   "cell_type": "code",
   "execution_count": 164,
   "metadata": {},
   "outputs": [
    {
     "data": {
      "image/png": "[encoded data removed]",
      "text/plain": [
       "<Figure size 360x288 with 1 Axes>"
      ]
     },
     "metadata": {},
     "output_type": "display_data"
    }
   ],
   "source": [
    "plot_roc_curve(logreg, X_test_lr_imp, y_test_lr);"
   ]
  },
  {
   "cell_type": "code",
   "execution_count": 165,
   "metadata": {},
   "outputs": [
    {
     "data": {
      "text/plain": [
       "0.6907608662520238"
      ]
     },
     "execution_count": 165,
     "metadata": {},
     "output_type": "execute_result"
    }
   ],
   "source": [
    "log_loss(y_test_lr, logreg.predict_proba(X_test_lr_imp))"
   ]
  },
  {
   "cell_type": "code",
   "execution_count": 166,
   "metadata": {},
   "outputs": [
    {
     "data": {
      "text/plain": [
       "array([0.02251542])"
      ]
     },
     "execution_count": 166,
     "metadata": {},
     "output_type": "execute_result"
    }
   ],
   "source": [
    "logreg.intercept_"
   ]
  },
  {
   "cell_type": "code",
   "execution_count": 167,
   "metadata": {},
   "outputs": [
    {
     "data": {
      "text/plain": [
       "array([0.50562862])"
      ]
     },
     "execution_count": 167,
     "metadata": {},
     "output_type": "execute_result"
    }
   ],
   "source": [
    "logodds = logreg.intercept_\n",
    "odds = np.exp(logodds)\n",
    "prob = odds / (1 + odds)\n",
    "prob"
   ]
  },
  {
   "cell_type": "code",
   "execution_count": 168,
   "metadata": {},
   "outputs": [
    {
     "data": {
      "text/plain": [
       "array([1.0227708])"
      ]
     },
     "execution_count": 168,
     "metadata": {},
     "output_type": "execute_result"
    }
   ],
   "source": [
    "odds"
   ]
  },
  {
   "cell_type": "markdown",
   "metadata": {},
   "source": [
    "## New Models"
   ]
  },
  {
   "cell_type": "markdown",
   "metadata": {},
   "source": [
    "### Logistic Regression with TIME_OF_DAY and SEX"
   ]
  },
  {
   "cell_type": "markdown",
   "metadata": {},
   "source": [
    "#### Decide Xs/y"
   ]
  },
  {
   "cell_type": "code",
   "execution_count": 169,
   "metadata": {},
   "outputs": [],
   "source": [
    "df_lr2 = df[[\"TIME_OF_DAY\", \"SEX\", \"DAMAGE_OVER_1500\"]]"
   ]
  },
  {
   "cell_type": "code",
   "execution_count": 170,
   "metadata": {},
   "outputs": [],
   "source": [
    "X_lr2 = df_lr2.drop(\"DAMAGE_OVER_1500\", axis=1)\n",
    "y_lr2 = df_lr2[\"DAMAGE_OVER_1500\"]"
   ]
  },
  {
   "cell_type": "markdown",
   "metadata": {},
   "source": [
    "#### Train/Test Split"
   ]
  },
  {
   "cell_type": "code",
   "execution_count": 171,
   "metadata": {},
   "outputs": [],
   "source": [
    "X_train_lr2, X_test_lr2, y_train_lr2, y_test_lr2 = train_test_split(X_lr2, y_lr2, random_state=2024)"
   ]
  },
  {
   "cell_type": "markdown",
   "metadata": {},
   "source": [
    "#### Preprocessing Steps (SS, OHE)"
   ]
  },
  {
   "cell_type": "code",
   "execution_count": 172,
   "metadata": {},
   "outputs": [],
   "source": [
    "X_train_lr2_imp = encoding.fit_transform(X_train_lr2)\n",
    "X_test_lr2_imp = encoding.transform(X_test_lr2)"
   ]
  },
  {
   "cell_type": "code",
   "execution_count": 173,
   "metadata": {},
   "outputs": [
    {
     "data": {
      "text/plain": [
       "<29781x6 sparse matrix of type '<class 'numpy.float64'>'\n",
       "\twith 59562 stored elements in Compressed Sparse Row format>"
      ]
     },
     "execution_count": 173,
     "metadata": {},
     "output_type": "execute_result"
    }
   ],
   "source": [
    "ss.fit_transform(X_train_lr2_imp)\n",
    "ss.transform(X_test_lr2_imp)"
   ]
  },
  {
   "cell_type": "markdown",
   "metadata": {},
   "source": [
    "#### Modeling "
   ]
  },
  {
   "cell_type": "code",
   "execution_count": 174,
   "metadata": {},
   "outputs": [],
   "source": [
    "logreg.fit(X_train_lr2_imp, y_train_lr2)\n",
    "y_pred_lr2 = logreg.predict(X_test_lr2_imp)"
   ]
  },
  {
   "cell_type": "markdown",
   "metadata": {},
   "source": [
    "We use accuracy score to compare all models with each other. We also use a confusion matrix to see the performance relative to false positives and false negatives. Finally, we plot the ROC curve to see visually if the models are improving in performance. "
   ]
  },
  {
   "cell_type": "code",
   "execution_count": 175,
   "metadata": {},
   "outputs": [
    {
     "data": {
      "text/plain": [
       "0.5307074980692388"
      ]
     },
     "execution_count": 175,
     "metadata": {},
     "output_type": "execute_result"
    }
   ],
   "source": [
    "TS_accuracy = accuracy_score(y_test_lr2, y_pred_lr2)\n",
    "TS_accuracy"
   ]
  },
  {
   "cell_type": "code",
   "execution_count": 176,
   "metadata": {},
   "outputs": [
    {
     "data": {
      "image/png": "[encoded data removed]",
      "text/plain": [
       "<Figure size 360x288 with 2 Axes>"
      ]
     },
     "metadata": {},
     "output_type": "display_data"
    }
   ],
   "source": [
    "fig, ax = plt.subplots()\n",
    "plot_confusion_matrix(logreg, X_train_lr2_imp, y_train_lr2, ax=ax, cmap=\"plasma\");"
   ]
  },
  {
   "cell_type": "code",
   "execution_count": 177,
   "metadata": {},
   "outputs": [
    {
     "data": {
      "image/png": "[encoded data removed]",
      "text/plain": [
       "<Figure size 360x288 with 1 Axes>"
      ]
     },
     "metadata": {},
     "output_type": "display_data"
    }
   ],
   "source": [
    "plot_roc_curve(logreg, X_test_lr2_imp, y_test_lr2);"
   ]
  },
  {
   "cell_type": "code",
   "execution_count": 178,
   "metadata": {},
   "outputs": [
    {
     "data": {
      "text/plain": [
       "0.6906660756794217"
      ]
     },
     "execution_count": 178,
     "metadata": {},
     "output_type": "execute_result"
    }
   ],
   "source": [
    "log_loss(y_test_lr2, logreg.predict_proba(X_test_lr2_imp))"
   ]
  },
  {
   "cell_type": "code",
   "execution_count": 179,
   "metadata": {},
   "outputs": [
    {
     "data": {
      "text/plain": [
       "array([-0.02199234])"
      ]
     },
     "execution_count": 179,
     "metadata": {},
     "output_type": "execute_result"
    }
   ],
   "source": [
    "logreg.intercept_"
   ]
  },
  {
   "cell_type": "code",
   "execution_count": 180,
   "metadata": {},
   "outputs": [
    {
     "data": {
      "text/plain": [
       "array([0.49450214])"
      ]
     },
     "execution_count": 180,
     "metadata": {},
     "output_type": "execute_result"
    }
   ],
   "source": [
    "logodds = logreg.intercept_\n",
    "odds = np.exp(logodds)\n",
    "prob = odds / (1 + odds)\n",
    "prob"
   ]
  },
  {
   "cell_type": "code",
   "execution_count": 181,
   "metadata": {},
   "outputs": [
    {
     "data": {
      "text/plain": [
       "array([0.97824772])"
      ]
     },
     "execution_count": 181,
     "metadata": {},
     "output_type": "execute_result"
    }
   ],
   "source": [
    "odds"
   ]
  },
  {
   "cell_type": "markdown",
   "metadata": {},
   "source": [
    "### Logistic Regression with all Numeric"
   ]
  },
  {
   "cell_type": "markdown",
   "metadata": {},
   "source": [
    "#### Decide Xs/y"
   ]
  },
  {
   "cell_type": "code",
   "execution_count": 182,
   "metadata": {},
   "outputs": [],
   "source": [
    "df_lr3 = df_dt"
   ]
  },
  {
   "cell_type": "code",
   "execution_count": 183,
   "metadata": {},
   "outputs": [],
   "source": [
    "X_lr3 = df_lr3.drop(\"DAMAGE_OVER_1500\", axis=1)\n",
    "y_lr3 = df_lr3[\"DAMAGE_OVER_1500\"]"
   ]
  },
  {
   "cell_type": "markdown",
   "metadata": {},
   "source": [
    "#### Train/Test Split"
   ]
  },
  {
   "cell_type": "code",
   "execution_count": 184,
   "metadata": {},
   "outputs": [],
   "source": [
    "X_train_lr3, X_test_lr3, y_train_lr3, y_test_lr3 = train_test_split(X_lr3, y_lr3, random_state=2024)"
   ]
  },
  {
   "cell_type": "markdown",
   "metadata": {},
   "source": [
    "#### Preprocessing Steps (SS, OHE)"
   ]
  },
  {
   "cell_type": "code",
   "execution_count": 185,
   "metadata": {},
   "outputs": [],
   "source": [
    "X_train_lr3_imp = encoding.fit_transform(X_train_lr3)\n",
    "X_test_lr3_imp = encoding.transform(X_test_lr3)"
   ]
  },
  {
   "cell_type": "code",
   "execution_count": 186,
   "metadata": {},
   "outputs": [
    {
     "data": {
      "text/plain": [
       "<29781x35 sparse matrix of type '<class 'numpy.float64'>'\n",
       "\twith 119124 stored elements in Compressed Sparse Row format>"
      ]
     },
     "execution_count": 186,
     "metadata": {},
     "output_type": "execute_result"
    }
   ],
   "source": [
    "ss.fit_transform(X_train_lr3_imp)\n",
    "ss.transform(X_test_lr3_imp)"
   ]
  },
  {
   "cell_type": "markdown",
   "metadata": {},
   "source": [
    "#### Modeling "
   ]
  },
  {
   "cell_type": "code",
   "execution_count": 187,
   "metadata": {},
   "outputs": [],
   "source": [
    "logreg = LogisticRegression(random_state=2024, max_iter=1000)"
   ]
  },
  {
   "cell_type": "code",
   "execution_count": 188,
   "metadata": {},
   "outputs": [],
   "source": [
    "logreg.fit(X_train_lr3_imp, y_train_lr3)\n",
    "y_pred_lr3 = logreg.predict(X_test_lr3_imp)"
   ]
  },
  {
   "cell_type": "markdown",
   "metadata": {},
   "source": [
    "We use accuracy score to compare all models with each other. We also use a confusion matrix to see the performance relative to false positives and false negatives. Finally, we plot the ROC curve to see visually if the models are improving in performance. For Logistic Regression models we also print the logloss, probability, and odds."
   ]
  },
  {
   "cell_type": "code",
   "execution_count": 189,
   "metadata": {},
   "outputs": [
    {
     "data": {
      "text/plain": [
       "0.5298008797555488"
      ]
     },
     "execution_count": 189,
     "metadata": {},
     "output_type": "execute_result"
    }
   ],
   "source": [
    "num_accuracy = accuracy_score(y_test_lr3, y_pred_lr3)\n",
    "num_accuracy"
   ]
  },
  {
   "cell_type": "code",
   "execution_count": 190,
   "metadata": {},
   "outputs": [
    {
     "data": {
      "image/png": "[encoded data removed]",
      "text/plain": [
       "<Figure size 360x288 with 2 Axes>"
      ]
     },
     "metadata": {},
     "output_type": "display_data"
    }
   ],
   "source": [
    "fig, ax = plt.subplots()\n",
    "\n",
    "fig.suptitle(\"Logistic Regression, Scaled\")\n",
    "\n",
    "plot_confusion_matrix(logreg, X_train_lr3_imp, y_train_lr3, ax=ax, cmap=\"plasma\");"
   ]
  },
  {
   "cell_type": "code",
   "execution_count": 191,
   "metadata": {},
   "outputs": [
    {
     "data": {
      "image/png": "[encoded data removed]",
      "text/plain": [
       "<Figure size 360x288 with 1 Axes>"
      ]
     },
     "metadata": {},
     "output_type": "display_data"
    }
   ],
   "source": [
    "plot_roc_curve(logreg, X_test_lr3_imp, y_test_lr3);"
   ]
  },
  {
   "cell_type": "code",
   "execution_count": 192,
   "metadata": {},
   "outputs": [
    {
     "data": {
      "text/plain": [
       "0.6906222716506103"
      ]
     },
     "execution_count": 192,
     "metadata": {},
     "output_type": "execute_result"
    }
   ],
   "source": [
    "log_loss(y_test_lr3, logreg.predict_proba(X_test_lr3_imp))"
   ]
  },
  {
   "cell_type": "code",
   "execution_count": 193,
   "metadata": {},
   "outputs": [
    {
     "data": {
      "text/plain": [
       "array([0.00639522])"
      ]
     },
     "execution_count": 193,
     "metadata": {},
     "output_type": "execute_result"
    }
   ],
   "source": [
    "logreg.intercept_"
   ]
  },
  {
   "cell_type": "code",
   "execution_count": 194,
   "metadata": {},
   "outputs": [
    {
     "data": {
      "text/plain": [
       "array([0.5015988])"
      ]
     },
     "execution_count": 194,
     "metadata": {},
     "output_type": "execute_result"
    }
   ],
   "source": [
    "logodds = logreg.intercept_\n",
    "odds = np.exp(logodds)\n",
    "prob = odds / (1 + odds)\n",
    "prob"
   ]
  },
  {
   "cell_type": "code",
   "execution_count": 195,
   "metadata": {},
   "outputs": [
    {
     "data": {
      "text/plain": [
       "array([1.00641571])"
      ]
     },
     "execution_count": 195,
     "metadata": {},
     "output_type": "execute_result"
    }
   ],
   "source": [
    "odds"
   ]
  },
  {
   "cell_type": "markdown",
   "metadata": {},
   "source": [
    "### Logistic Regression with All Columns"
   ]
  },
  {
   "cell_type": "markdown",
   "metadata": {},
   "source": [
    "#### Decide Xs/y"
   ]
  },
  {
   "cell_type": "code",
   "execution_count": 196,
   "metadata": {},
   "outputs": [],
   "source": [
    "dfall = df[[\"MAKE\", \"MODEL\", \"VEHICLE_YEAR\", \"VEHICLE_TYPE\", \"OCCUPANT_CNT\", \"SEX\", \"AGE\", \"IN_STATE\", \"DRIVING_SKILLS\", \"TIME_OF_DAY\", \"DAMAGE_OVER_1500\"]]"
   ]
  },
  {
   "cell_type": "code",
   "execution_count": 197,
   "metadata": {},
   "outputs": [],
   "source": [
    "X = dfall.drop(\"DAMAGE_OVER_1500\", axis=1)\n",
    "y = dfall[\"DAMAGE_OVER_1500\"]"
   ]
  },
  {
   "cell_type": "markdown",
   "metadata": {},
   "source": [
    "#### Train/Test Split"
   ]
  },
  {
   "cell_type": "code",
   "execution_count": 198,
   "metadata": {},
   "outputs": [],
   "source": [
    "X_train, X_test, y_train, y_test = train_test_split(X, y, random_state=2021)"
   ]
  },
  {
   "cell_type": "markdown",
   "metadata": {},
   "source": [
    "#### Preprocessing Steps (SS, OHE, SI, MI)"
   ]
  },
  {
   "cell_type": "markdown",
   "metadata": {},
   "source": [
    "##### Null Indicator"
   ]
  },
  {
   "cell_type": "code",
   "execution_count": 199,
   "metadata": {},
   "outputs": [
    {
     "data": {
      "text/plain": [
       "Index(['MAKE', 'MODEL', 'VEHICLE_YEAR', 'VEHICLE_TYPE', 'OCCUPANT_CNT', 'SEX',\n",
       "       'AGE', 'IN_STATE', 'DRIVING_SKILLS', 'TIME_OF_DAY'],\n",
       "      dtype='object')"
      ]
     },
     "execution_count": 199,
     "metadata": {},
     "output_type": "execute_result"
    }
   ],
   "source": [
    "X_train.columns"
   ]
  },
  {
   "cell_type": "code",
   "execution_count": 200,
   "metadata": {},
   "outputs": [
    {
     "data": {
      "text/plain": [
       "MAKE                 0\n",
       "MODEL                0\n",
       "VEHICLE_YEAR         0\n",
       "VEHICLE_TYPE         0\n",
       "OCCUPANT_CNT         0\n",
       "SEX                  0\n",
       "AGE                  0\n",
       "IN_STATE          3676\n",
       "DRIVING_SKILLS       0\n",
       "TIME_OF_DAY          0\n",
       "dtype: int64"
      ]
     },
     "execution_count": 200,
     "metadata": {},
     "output_type": "execute_result"
    }
   ],
   "source": [
    "X_train.isna().sum()"
   ]
  },
  {
   "cell_type": "code",
   "execution_count": 201,
   "metadata": {},
   "outputs": [
    {
     "data": {
      "text/plain": [
       "MissingIndicator(features='all')"
      ]
     },
     "execution_count": 201,
     "metadata": {},
     "output_type": "execute_result"
    }
   ],
   "source": [
    "indicator = MissingIndicator(features=\"all\")\n",
    "indicator.fit(X_train)"
   ]
  },
  {
   "cell_type": "code",
   "execution_count": 202,
   "metadata": {},
   "outputs": [],
   "source": [
    "def add_missing_indicator_columns(X, indicator):\n",
    "    \"\"\"\n",
    "    Helper function for transforming features\n",
    "    \n",
    "    For every feature in X, create another feature indicating whether that feature\n",
    "    is missing. (This doubles the number of columns in X.)\n",
    "    \"\"\"\n",
    "    \n",
    "    # create a 2D array of True and False values indicating whether a given feature\n",
    "    # is missing for that row\n",
    "    missing_array_bool = indicator.transform(X)\n",
    "    \n",
    "    # transform into 1 and 0 for modeling\n",
    "    missing_array_int = missing_array_bool.astype(int)\n",
    "    \n",
    "    # helpful for readability but not needed for modeling\n",
    "    missing_column_names = [col + \"_missing\" for col in X.columns]\n",
    "    \n",
    "    # convert to df so it we can concat with X\n",
    "    missing_df = pd.DataFrame(missing_array_int, columns=missing_column_names, index=X.index)\n",
    "    \n",
    "    return pd.concat([X, missing_df], axis=1)"
   ]
  },
  {
   "cell_type": "code",
   "execution_count": 203,
   "metadata": {},
   "outputs": [],
   "source": [
    "X_train = add_missing_indicator_columns(X=X_train, indicator=indicator)"
   ]
  },
  {
   "cell_type": "code",
   "execution_count": 204,
   "metadata": {},
   "outputs": [
    {
     "data": {
      "text/html": [
       "<div>\n",
       "<style scoped>\n",
       "    .dataframe tbody tr th:only-of-type {\n",
       "        vertical-align: middle;\n",
       "    }\n",
       "\n",
       "    .dataframe tbody tr th {\n",
       "        vertical-align: top;\n",
       "    }\n",
       "\n",
       "    .dataframe thead th {\n",
       "        text-align: right;\n",
       "    }\n",
       "</style>\n",
       "<table border=\"1\" class=\"dataframe\">\n",
       "  <thead>\n",
       "    <tr style=\"text-align: right;\">\n",
       "      <th></th>\n",
       "      <th>MAKE</th>\n",
       "      <th>MODEL</th>\n",
       "      <th>VEHICLE_YEAR</th>\n",
       "      <th>VEHICLE_TYPE</th>\n",
       "      <th>OCCUPANT_CNT</th>\n",
       "      <th>SEX</th>\n",
       "      <th>AGE</th>\n",
       "      <th>IN_STATE</th>\n",
       "      <th>DRIVING_SKILLS</th>\n",
       "      <th>TIME_OF_DAY</th>\n",
       "      <th>MAKE_missing</th>\n",
       "      <th>MODEL_missing</th>\n",
       "      <th>VEHICLE_YEAR_missing</th>\n",
       "      <th>VEHICLE_TYPE_missing</th>\n",
       "      <th>OCCUPANT_CNT_missing</th>\n",
       "      <th>SEX_missing</th>\n",
       "      <th>AGE_missing</th>\n",
       "      <th>IN_STATE_missing</th>\n",
       "      <th>DRIVING_SKILLS_missing</th>\n",
       "      <th>TIME_OF_DAY_missing</th>\n",
       "    </tr>\n",
       "  </thead>\n",
       "  <tbody>\n",
       "    <tr>\n",
       "      <th>162105</th>\n",
       "      <td>HYUNDAI</td>\n",
       "      <td>SANTA FE</td>\n",
       "      <td>2018.0</td>\n",
       "      <td>SPORT UTILITY VEHICLE (SUV)</td>\n",
       "      <td>1.0</td>\n",
       "      <td>M</td>\n",
       "      <td>34.0</td>\n",
       "      <td>1.0</td>\n",
       "      <td>1</td>\n",
       "      <td>Commute</td>\n",
       "      <td>0</td>\n",
       "      <td>0</td>\n",
       "      <td>0</td>\n",
       "      <td>0</td>\n",
       "      <td>0</td>\n",
       "      <td>0</td>\n",
       "      <td>0</td>\n",
       "      <td>0</td>\n",
       "      <td>0</td>\n",
       "      <td>0</td>\n",
       "    </tr>\n",
       "    <tr>\n",
       "      <th>375248</th>\n",
       "      <td>TOYOTA</td>\n",
       "      <td>HIGHLANDER</td>\n",
       "      <td>2010.0</td>\n",
       "      <td>SPORT UTILITY VEHICLE (SUV)</td>\n",
       "      <td>1.0</td>\n",
       "      <td>M</td>\n",
       "      <td>50.0</td>\n",
       "      <td>0.0</td>\n",
       "      <td>0</td>\n",
       "      <td>Daytime</td>\n",
       "      <td>0</td>\n",
       "      <td>0</td>\n",
       "      <td>0</td>\n",
       "      <td>0</td>\n",
       "      <td>0</td>\n",
       "      <td>0</td>\n",
       "      <td>0</td>\n",
       "      <td>0</td>\n",
       "      <td>0</td>\n",
       "      <td>0</td>\n",
       "    </tr>\n",
       "    <tr>\n",
       "      <th>243544</th>\n",
       "      <td>HYUNDAI</td>\n",
       "      <td>ELANTRA</td>\n",
       "      <td>2018.0</td>\n",
       "      <td>PASSENGER</td>\n",
       "      <td>3.0</td>\n",
       "      <td>M</td>\n",
       "      <td>47.0</td>\n",
       "      <td>1.0</td>\n",
       "      <td>0</td>\n",
       "      <td>Daytime</td>\n",
       "      <td>0</td>\n",
       "      <td>0</td>\n",
       "      <td>0</td>\n",
       "      <td>0</td>\n",
       "      <td>0</td>\n",
       "      <td>0</td>\n",
       "      <td>0</td>\n",
       "      <td>0</td>\n",
       "      <td>0</td>\n",
       "      <td>0</td>\n",
       "    </tr>\n",
       "    <tr>\n",
       "      <th>608379</th>\n",
       "      <td>HONDA</td>\n",
       "      <td>ODYSSEY</td>\n",
       "      <td>2002.0</td>\n",
       "      <td>VAN/MINI-VAN</td>\n",
       "      <td>1.0</td>\n",
       "      <td>F</td>\n",
       "      <td>48.0</td>\n",
       "      <td>1.0</td>\n",
       "      <td>1</td>\n",
       "      <td>Commute</td>\n",
       "      <td>0</td>\n",
       "      <td>0</td>\n",
       "      <td>0</td>\n",
       "      <td>0</td>\n",
       "      <td>0</td>\n",
       "      <td>0</td>\n",
       "      <td>0</td>\n",
       "      <td>0</td>\n",
       "      <td>0</td>\n",
       "      <td>0</td>\n",
       "    </tr>\n",
       "    <tr>\n",
       "      <th>87163</th>\n",
       "      <td>FORD</td>\n",
       "      <td>EXPLORER</td>\n",
       "      <td>2015.0</td>\n",
       "      <td>SPORT UTILITY VEHICLE (SUV)</td>\n",
       "      <td>1.0</td>\n",
       "      <td>F</td>\n",
       "      <td>37.0</td>\n",
       "      <td>1.0</td>\n",
       "      <td>0</td>\n",
       "      <td>Commute</td>\n",
       "      <td>0</td>\n",
       "      <td>0</td>\n",
       "      <td>0</td>\n",
       "      <td>0</td>\n",
       "      <td>0</td>\n",
       "      <td>0</td>\n",
       "      <td>0</td>\n",
       "      <td>0</td>\n",
       "      <td>0</td>\n",
       "      <td>0</td>\n",
       "    </tr>\n",
       "  </tbody>\n",
       "</table>\n",
       "</div>"
      ],
      "text/plain": [
       "           MAKE       MODEL  VEHICLE_YEAR                 VEHICLE_TYPE  \\\n",
       "162105  HYUNDAI    SANTA FE        2018.0  SPORT UTILITY VEHICLE (SUV)   \n",
       "375248   TOYOTA  HIGHLANDER        2010.0  SPORT UTILITY VEHICLE (SUV)   \n",
       "243544  HYUNDAI     ELANTRA        2018.0                    PASSENGER   \n",
       "608379    HONDA     ODYSSEY        2002.0                 VAN/MINI-VAN   \n",
       "87163      FORD    EXPLORER        2015.0  SPORT UTILITY VEHICLE (SUV)   \n",
       "\n",
       "        OCCUPANT_CNT SEX   AGE  IN_STATE  DRIVING_SKILLS TIME_OF_DAY  \\\n",
       "162105           1.0   M  34.0       1.0               1     Commute   \n",
       "375248           1.0   M  50.0       0.0               0     Daytime   \n",
       "243544           3.0   M  47.0       1.0               0     Daytime   \n",
       "608379           1.0   F  48.0       1.0               1     Commute   \n",
       "87163            1.0   F  37.0       1.0               0     Commute   \n",
       "\n",
       "        MAKE_missing  MODEL_missing  VEHICLE_YEAR_missing  \\\n",
       "162105             0              0                     0   \n",
       "375248             0              0                     0   \n",
       "243544             0              0                     0   \n",
       "608379             0              0                     0   \n",
       "87163              0              0                     0   \n",
       "\n",
       "        VEHICLE_TYPE_missing  OCCUPANT_CNT_missing  SEX_missing  AGE_missing  \\\n",
       "162105                     0                     0            0            0   \n",
       "375248                     0                     0            0            0   \n",
       "243544                     0                     0            0            0   \n",
       "608379                     0                     0            0            0   \n",
       "87163                      0                     0            0            0   \n",
       "\n",
       "        IN_STATE_missing  DRIVING_SKILLS_missing  TIME_OF_DAY_missing  \n",
       "162105                 0                       0                    0  \n",
       "375248                 0                       0                    0  \n",
       "243544                 0                       0                    0  \n",
       "608379                 0                       0                    0  \n",
       "87163                  0                       0                    0  "
      ]
     },
     "execution_count": 204,
     "metadata": {},
     "output_type": "execute_result"
    }
   ],
   "source": [
    "X_train.head()"
   ]
  },
  {
   "cell_type": "markdown",
   "metadata": {},
   "source": [
    "##### Simple Imputer"
   ]
  },
  {
   "cell_type": "code",
   "execution_count": 205,
   "metadata": {},
   "outputs": [],
   "source": [
    "numeric_feature_names = [\"VEHICLE_YEAR\", \"OCCUPANT_CNT\", \"AGE\"]\n",
    "categorical_feature_names = [\"MAKE\", \"MODEL\", \"VEHICLE_TYPE\", \"SEX\", \"IN_STATE\", \"DRIVING_SKILLS\", \"TIME_OF_DAY\"]\n",
    "\n",
    "X_train_numeric = X_train[numeric_feature_names]\n",
    "X_train_categorical = X_train[categorical_feature_names]"
   ]
  },
  {
   "cell_type": "code",
   "execution_count": 206,
   "metadata": {},
   "outputs": [
    {
     "data": {
      "text/plain": [
       "SimpleImputer()"
      ]
     },
     "execution_count": 206,
     "metadata": {},
     "output_type": "execute_result"
    }
   ],
   "source": [
    "numeric_imputer = SimpleImputer()\n",
    "numeric_imputer.fit(X_train_numeric)"
   ]
  },
  {
   "cell_type": "code",
   "execution_count": 207,
   "metadata": {},
   "outputs": [
    {
     "data": {
      "text/plain": [
       "SimpleImputer(strategy='most_frequent')"
      ]
     },
     "execution_count": 207,
     "metadata": {},
     "output_type": "execute_result"
    }
   ],
   "source": [
    "categorical_imputer = SimpleImputer(strategy=\"most_frequent\")\n",
    "categorical_imputer.fit(X_train_categorical)"
   ]
  },
  {
   "cell_type": "code",
   "execution_count": 208,
   "metadata": {},
   "outputs": [],
   "source": [
    "def impute_missing_values(X, imputer):\n",
    "    \"\"\"\n",
    "    Given a DataFrame and an imputer, use the imputer to fill in all\n",
    "    missing values in the DataFrame\n",
    "    \"\"\"\n",
    "    imputed_array = imputer.transform(X)\n",
    "    imputed_df = pd.DataFrame(imputed_array, columns=X.columns, index=X.index)\n",
    "    return imputed_df"
   ]
  },
  {
   "cell_type": "code",
   "execution_count": 209,
   "metadata": {},
   "outputs": [],
   "source": [
    "X_train_numeric = impute_missing_values(X_train_numeric, numeric_imputer)\n",
    "X_train_categorical = impute_missing_values(X_train_categorical, categorical_imputer)"
   ]
  },
  {
   "cell_type": "code",
   "execution_count": 210,
   "metadata": {},
   "outputs": [
    {
     "data": {
      "text/plain": [
       "VEHICLE_YEAR      0\n",
       "OCCUPANT_CNT      0\n",
       "AGE               0\n",
       "MAKE              0\n",
       "MODEL             0\n",
       "VEHICLE_TYPE      0\n",
       "SEX               0\n",
       "IN_STATE          0\n",
       "DRIVING_SKILLS    0\n",
       "TIME_OF_DAY       0\n",
       "dtype: int64"
      ]
     },
     "execution_count": 210,
     "metadata": {},
     "output_type": "execute_result"
    }
   ],
   "source": [
    "X_train_imputed = pd.concat([X_train_numeric, X_train_categorical], axis=1)\n",
    "X_train_imputed.isna().sum()"
   ]
  },
  {
   "cell_type": "code",
   "execution_count": 211,
   "metadata": {},
   "outputs": [
    {
     "data": {
      "text/html": [
       "<div>\n",
       "<style scoped>\n",
       "    .dataframe tbody tr th:only-of-type {\n",
       "        vertical-align: middle;\n",
       "    }\n",
       "\n",
       "    .dataframe tbody tr th {\n",
       "        vertical-align: top;\n",
       "    }\n",
       "\n",
       "    .dataframe thead th {\n",
       "        text-align: right;\n",
       "    }\n",
       "</style>\n",
       "<table border=\"1\" class=\"dataframe\">\n",
       "  <thead>\n",
       "    <tr style=\"text-align: right;\">\n",
       "      <th></th>\n",
       "      <th>VEHICLE_YEAR</th>\n",
       "      <th>OCCUPANT_CNT</th>\n",
       "      <th>AGE</th>\n",
       "      <th>MAKE</th>\n",
       "      <th>MODEL</th>\n",
       "      <th>VEHICLE_TYPE</th>\n",
       "      <th>SEX</th>\n",
       "      <th>IN_STATE</th>\n",
       "      <th>DRIVING_SKILLS</th>\n",
       "      <th>TIME_OF_DAY</th>\n",
       "    </tr>\n",
       "  </thead>\n",
       "  <tbody>\n",
       "    <tr>\n",
       "      <th>162105</th>\n",
       "      <td>2018.0</td>\n",
       "      <td>1.0</td>\n",
       "      <td>34.0</td>\n",
       "      <td>HYUNDAI</td>\n",
       "      <td>SANTA FE</td>\n",
       "      <td>SPORT UTILITY VEHICLE (SUV)</td>\n",
       "      <td>M</td>\n",
       "      <td>1</td>\n",
       "      <td>1</td>\n",
       "      <td>Commute</td>\n",
       "    </tr>\n",
       "    <tr>\n",
       "      <th>375248</th>\n",
       "      <td>2010.0</td>\n",
       "      <td>1.0</td>\n",
       "      <td>50.0</td>\n",
       "      <td>TOYOTA</td>\n",
       "      <td>HIGHLANDER</td>\n",
       "      <td>SPORT UTILITY VEHICLE (SUV)</td>\n",
       "      <td>M</td>\n",
       "      <td>0</td>\n",
       "      <td>0</td>\n",
       "      <td>Daytime</td>\n",
       "    </tr>\n",
       "    <tr>\n",
       "      <th>243544</th>\n",
       "      <td>2018.0</td>\n",
       "      <td>3.0</td>\n",
       "      <td>47.0</td>\n",
       "      <td>HYUNDAI</td>\n",
       "      <td>ELANTRA</td>\n",
       "      <td>PASSENGER</td>\n",
       "      <td>M</td>\n",
       "      <td>1</td>\n",
       "      <td>0</td>\n",
       "      <td>Daytime</td>\n",
       "    </tr>\n",
       "    <tr>\n",
       "      <th>608379</th>\n",
       "      <td>2002.0</td>\n",
       "      <td>1.0</td>\n",
       "      <td>48.0</td>\n",
       "      <td>HONDA</td>\n",
       "      <td>ODYSSEY</td>\n",
       "      <td>VAN/MINI-VAN</td>\n",
       "      <td>F</td>\n",
       "      <td>1</td>\n",
       "      <td>1</td>\n",
       "      <td>Commute</td>\n",
       "    </tr>\n",
       "    <tr>\n",
       "      <th>87163</th>\n",
       "      <td>2015.0</td>\n",
       "      <td>1.0</td>\n",
       "      <td>37.0</td>\n",
       "      <td>FORD</td>\n",
       "      <td>EXPLORER</td>\n",
       "      <td>SPORT UTILITY VEHICLE (SUV)</td>\n",
       "      <td>F</td>\n",
       "      <td>1</td>\n",
       "      <td>0</td>\n",
       "      <td>Commute</td>\n",
       "    </tr>\n",
       "  </tbody>\n",
       "</table>\n",
       "</div>"
      ],
      "text/plain": [
       "        VEHICLE_YEAR  OCCUPANT_CNT   AGE     MAKE       MODEL  \\\n",
       "162105        2018.0           1.0  34.0  HYUNDAI    SANTA FE   \n",
       "375248        2010.0           1.0  50.0   TOYOTA  HIGHLANDER   \n",
       "243544        2018.0           3.0  47.0  HYUNDAI     ELANTRA   \n",
       "608379        2002.0           1.0  48.0    HONDA     ODYSSEY   \n",
       "87163         2015.0           1.0  37.0     FORD    EXPLORER   \n",
       "\n",
       "                       VEHICLE_TYPE SEX IN_STATE DRIVING_SKILLS TIME_OF_DAY  \n",
       "162105  SPORT UTILITY VEHICLE (SUV)   M        1              1     Commute  \n",
       "375248  SPORT UTILITY VEHICLE (SUV)   M        0              0     Daytime  \n",
       "243544                    PASSENGER   M        1              0     Daytime  \n",
       "608379                 VAN/MINI-VAN   F        1              1     Commute  \n",
       "87163   SPORT UTILITY VEHICLE (SUV)   F        1              0     Commute  "
      ]
     },
     "execution_count": 211,
     "metadata": {},
     "output_type": "execute_result"
    }
   ],
   "source": [
    "X_train_imputed.head()"
   ]
  },
  {
   "cell_type": "code",
   "execution_count": 212,
   "metadata": {},
   "outputs": [],
   "source": [
    "X_train = X_train.drop(numeric_feature_names + categorical_feature_names, axis=1)\n",
    "X_train = pd.concat([X_train_imputed, X_train], axis=1)"
   ]
  },
  {
   "cell_type": "code",
   "execution_count": 213,
   "metadata": {},
   "outputs": [
    {
     "data": {
      "text/html": [
       "<div>\n",
       "<style scoped>\n",
       "    .dataframe tbody tr th:only-of-type {\n",
       "        vertical-align: middle;\n",
       "    }\n",
       "\n",
       "    .dataframe tbody tr th {\n",
       "        vertical-align: top;\n",
       "    }\n",
       "\n",
       "    .dataframe thead th {\n",
       "        text-align: right;\n",
       "    }\n",
       "</style>\n",
       "<table border=\"1\" class=\"dataframe\">\n",
       "  <thead>\n",
       "    <tr style=\"text-align: right;\">\n",
       "      <th></th>\n",
       "      <th>VEHICLE_YEAR</th>\n",
       "      <th>OCCUPANT_CNT</th>\n",
       "      <th>AGE</th>\n",
       "      <th>MAKE</th>\n",
       "      <th>MODEL</th>\n",
       "      <th>VEHICLE_TYPE</th>\n",
       "      <th>SEX</th>\n",
       "      <th>IN_STATE</th>\n",
       "      <th>DRIVING_SKILLS</th>\n",
       "      <th>TIME_OF_DAY</th>\n",
       "      <th>MAKE_missing</th>\n",
       "      <th>MODEL_missing</th>\n",
       "      <th>VEHICLE_YEAR_missing</th>\n",
       "      <th>VEHICLE_TYPE_missing</th>\n",
       "      <th>OCCUPANT_CNT_missing</th>\n",
       "      <th>SEX_missing</th>\n",
       "      <th>AGE_missing</th>\n",
       "      <th>IN_STATE_missing</th>\n",
       "      <th>DRIVING_SKILLS_missing</th>\n",
       "      <th>TIME_OF_DAY_missing</th>\n",
       "    </tr>\n",
       "  </thead>\n",
       "  <tbody>\n",
       "    <tr>\n",
       "      <th>162105</th>\n",
       "      <td>2018.0</td>\n",
       "      <td>1.0</td>\n",
       "      <td>34.0</td>\n",
       "      <td>HYUNDAI</td>\n",
       "      <td>SANTA FE</td>\n",
       "      <td>SPORT UTILITY VEHICLE (SUV)</td>\n",
       "      <td>M</td>\n",
       "      <td>1</td>\n",
       "      <td>1</td>\n",
       "      <td>Commute</td>\n",
       "      <td>0</td>\n",
       "      <td>0</td>\n",
       "      <td>0</td>\n",
       "      <td>0</td>\n",
       "      <td>0</td>\n",
       "      <td>0</td>\n",
       "      <td>0</td>\n",
       "      <td>0</td>\n",
       "      <td>0</td>\n",
       "      <td>0</td>\n",
       "    </tr>\n",
       "    <tr>\n",
       "      <th>375248</th>\n",
       "      <td>2010.0</td>\n",
       "      <td>1.0</td>\n",
       "      <td>50.0</td>\n",
       "      <td>TOYOTA</td>\n",
       "      <td>HIGHLANDER</td>\n",
       "      <td>SPORT UTILITY VEHICLE (SUV)</td>\n",
       "      <td>M</td>\n",
       "      <td>0</td>\n",
       "      <td>0</td>\n",
       "      <td>Daytime</td>\n",
       "      <td>0</td>\n",
       "      <td>0</td>\n",
       "      <td>0</td>\n",
       "      <td>0</td>\n",
       "      <td>0</td>\n",
       "      <td>0</td>\n",
       "      <td>0</td>\n",
       "      <td>0</td>\n",
       "      <td>0</td>\n",
       "      <td>0</td>\n",
       "    </tr>\n",
       "    <tr>\n",
       "      <th>243544</th>\n",
       "      <td>2018.0</td>\n",
       "      <td>3.0</td>\n",
       "      <td>47.0</td>\n",
       "      <td>HYUNDAI</td>\n",
       "      <td>ELANTRA</td>\n",
       "      <td>PASSENGER</td>\n",
       "      <td>M</td>\n",
       "      <td>1</td>\n",
       "      <td>0</td>\n",
       "      <td>Daytime</td>\n",
       "      <td>0</td>\n",
       "      <td>0</td>\n",
       "      <td>0</td>\n",
       "      <td>0</td>\n",
       "      <td>0</td>\n",
       "      <td>0</td>\n",
       "      <td>0</td>\n",
       "      <td>0</td>\n",
       "      <td>0</td>\n",
       "      <td>0</td>\n",
       "    </tr>\n",
       "    <tr>\n",
       "      <th>608379</th>\n",
       "      <td>2002.0</td>\n",
       "      <td>1.0</td>\n",
       "      <td>48.0</td>\n",
       "      <td>HONDA</td>\n",
       "      <td>ODYSSEY</td>\n",
       "      <td>VAN/MINI-VAN</td>\n",
       "      <td>F</td>\n",
       "      <td>1</td>\n",
       "      <td>1</td>\n",
       "      <td>Commute</td>\n",
       "      <td>0</td>\n",
       "      <td>0</td>\n",
       "      <td>0</td>\n",
       "      <td>0</td>\n",
       "      <td>0</td>\n",
       "      <td>0</td>\n",
       "      <td>0</td>\n",
       "      <td>0</td>\n",
       "      <td>0</td>\n",
       "      <td>0</td>\n",
       "    </tr>\n",
       "    <tr>\n",
       "      <th>87163</th>\n",
       "      <td>2015.0</td>\n",
       "      <td>1.0</td>\n",
       "      <td>37.0</td>\n",
       "      <td>FORD</td>\n",
       "      <td>EXPLORER</td>\n",
       "      <td>SPORT UTILITY VEHICLE (SUV)</td>\n",
       "      <td>F</td>\n",
       "      <td>1</td>\n",
       "      <td>0</td>\n",
       "      <td>Commute</td>\n",
       "      <td>0</td>\n",
       "      <td>0</td>\n",
       "      <td>0</td>\n",
       "      <td>0</td>\n",
       "      <td>0</td>\n",
       "      <td>0</td>\n",
       "      <td>0</td>\n",
       "      <td>0</td>\n",
       "      <td>0</td>\n",
       "      <td>0</td>\n",
       "    </tr>\n",
       "  </tbody>\n",
       "</table>\n",
       "</div>"
      ],
      "text/plain": [
       "        VEHICLE_YEAR  OCCUPANT_CNT   AGE     MAKE       MODEL  \\\n",
       "162105        2018.0           1.0  34.0  HYUNDAI    SANTA FE   \n",
       "375248        2010.0           1.0  50.0   TOYOTA  HIGHLANDER   \n",
       "243544        2018.0           3.0  47.0  HYUNDAI     ELANTRA   \n",
       "608379        2002.0           1.0  48.0    HONDA     ODYSSEY   \n",
       "87163         2015.0           1.0  37.0     FORD    EXPLORER   \n",
       "\n",
       "                       VEHICLE_TYPE SEX IN_STATE DRIVING_SKILLS TIME_OF_DAY  \\\n",
       "162105  SPORT UTILITY VEHICLE (SUV)   M        1              1     Commute   \n",
       "375248  SPORT UTILITY VEHICLE (SUV)   M        0              0     Daytime   \n",
       "243544                    PASSENGER   M        1              0     Daytime   \n",
       "608379                 VAN/MINI-VAN   F        1              1     Commute   \n",
       "87163   SPORT UTILITY VEHICLE (SUV)   F        1              0     Commute   \n",
       "\n",
       "        MAKE_missing  MODEL_missing  VEHICLE_YEAR_missing  \\\n",
       "162105             0              0                     0   \n",
       "375248             0              0                     0   \n",
       "243544             0              0                     0   \n",
       "608379             0              0                     0   \n",
       "87163              0              0                     0   \n",
       "\n",
       "        VEHICLE_TYPE_missing  OCCUPANT_CNT_missing  SEX_missing  AGE_missing  \\\n",
       "162105                     0                     0            0            0   \n",
       "375248                     0                     0            0            0   \n",
       "243544                     0                     0            0            0   \n",
       "608379                     0                     0            0            0   \n",
       "87163                      0                     0            0            0   \n",
       "\n",
       "        IN_STATE_missing  DRIVING_SKILLS_missing  TIME_OF_DAY_missing  \n",
       "162105                 0                       0                    0  \n",
       "375248                 0                       0                    0  \n",
       "243544                 0                       0                    0  \n",
       "608379                 0                       0                    0  \n",
       "87163                  0                       0                    0  "
      ]
     },
     "execution_count": 213,
     "metadata": {},
     "output_type": "execute_result"
    }
   ],
   "source": [
    "X_train.head()"
   ]
  },
  {
   "cell_type": "code",
   "execution_count": 214,
   "metadata": {},
   "outputs": [
    {
     "data": {
      "text/plain": [
       "VEHICLE_YEAR              0\n",
       "OCCUPANT_CNT              0\n",
       "AGE                       0\n",
       "MAKE                      0\n",
       "MODEL                     0\n",
       "VEHICLE_TYPE              0\n",
       "SEX                       0\n",
       "IN_STATE                  0\n",
       "DRIVING_SKILLS            0\n",
       "TIME_OF_DAY               0\n",
       "MAKE_missing              0\n",
       "MODEL_missing             0\n",
       "VEHICLE_YEAR_missing      0\n",
       "VEHICLE_TYPE_missing      0\n",
       "OCCUPANT_CNT_missing      0\n",
       "SEX_missing               0\n",
       "AGE_missing               0\n",
       "IN_STATE_missing          0\n",
       "DRIVING_SKILLS_missing    0\n",
       "TIME_OF_DAY_missing       0\n",
       "dtype: int64"
      ]
     },
     "execution_count": 214,
     "metadata": {},
     "output_type": "execute_result"
    }
   ],
   "source": [
    "X_train.isna().sum()"
   ]
  },
  {
   "cell_type": "markdown",
   "metadata": {},
   "source": [
    "##### OHE"
   ]
  },
  {
   "cell_type": "code",
   "execution_count": 215,
   "metadata": {},
   "outputs": [],
   "source": [
    "def encode_and_concat_feature_train(X_train, feature_name):\n",
    "    \"\"\"\n",
    "    Helper function for transforming training data.  It takes in the full X dataframe and\n",
    "    feature name, makes a one-hot encoder, and returns the encoder as well as the dataframe\n",
    "    with that feature transformed into multiple columns of 1s and 0s\n",
    "    \"\"\"\n",
    "    # make a one-hot encoder and fit it to the training data\n",
    "    ohe = OneHotEncoder(categories=\"auto\", handle_unknown=\"ignore\")\n",
    "    single_feature_df = X_train[[feature_name]]\n",
    "    ohe.fit(single_feature_df)\n",
    "    \n",
    "    # call helper function that actually encodes the feature and concats it\n",
    "    X_train = encode_and_concat_feature(X_train, feature_name, ohe)\n",
    "    \n",
    "    return ohe, X_train"
   ]
  },
  {
   "cell_type": "code",
   "execution_count": 216,
   "metadata": {},
   "outputs": [],
   "source": [
    "def encode_and_concat_feature(X, feature_name, ohe):\n",
    "    \"\"\"\n",
    "    Helper function for transforming a feature into multiple columns of 1s and 0s. Used\n",
    "    in both training and testing steps.  Takes in the full X dataframe, feature name, \n",
    "    and encoder, and returns the dataframe with that feature transformed into multiple\n",
    "    columns of 1s and 0s\n",
    "    \"\"\"\n",
    "    # create new one-hot encoded df based on the feature\n",
    "    single_feature_df = X[[feature_name]]\n",
    "    feature_array = ohe.transform(single_feature_df).toarray()\n",
    "    ohe_df = pd.DataFrame(feature_array, columns=ohe.categories_[0], index=X.index)\n",
    "    \n",
    "    # drop the old feature from X and concat the new one-hot encoded df\n",
    "    X = X.drop(feature_name, axis=1)\n",
    "    X = pd.concat([X, ohe_df], axis=1)\n",
    "    \n",
    "    return X"
   ]
  },
  {
   "cell_type": "code",
   "execution_count": 217,
   "metadata": {},
   "outputs": [],
   "source": [
    "encoders = {}\n",
    "\n",
    "for categorical_feature in categorical_feature_names:\n",
    "    ohe, X_train = encode_and_concat_feature_train(X_train, categorical_feature)\n",
    "    encoders[categorical_feature] = ohe"
   ]
  },
  {
   "cell_type": "code",
   "execution_count": 218,
   "metadata": {},
   "outputs": [
    {
     "data": {
      "text/plain": [
       "{'MAKE': OneHotEncoder(handle_unknown='ignore'),\n",
       " 'MODEL': OneHotEncoder(handle_unknown='ignore'),\n",
       " 'VEHICLE_TYPE': OneHotEncoder(handle_unknown='ignore'),\n",
       " 'SEX': OneHotEncoder(handle_unknown='ignore'),\n",
       " 'IN_STATE': OneHotEncoder(handle_unknown='ignore'),\n",
       " 'DRIVING_SKILLS': OneHotEncoder(handle_unknown='ignore'),\n",
       " 'TIME_OF_DAY': OneHotEncoder(handle_unknown='ignore')}"
      ]
     },
     "execution_count": 218,
     "metadata": {},
     "output_type": "execute_result"
    }
   ],
   "source": [
    "encoders"
   ]
  },
  {
   "cell_type": "code",
   "execution_count": 219,
   "metadata": {},
   "outputs": [
    {
     "data": {
      "text/html": [
       "<div>\n",
       "<style scoped>\n",
       "    .dataframe tbody tr th:only-of-type {\n",
       "        vertical-align: middle;\n",
       "    }\n",
       "\n",
       "    .dataframe tbody tr th {\n",
       "        vertical-align: top;\n",
       "    }\n",
       "\n",
       "    .dataframe thead th {\n",
       "        text-align: right;\n",
       "    }\n",
       "</style>\n",
       "<table border=\"1\" class=\"dataframe\">\n",
       "  <thead>\n",
       "    <tr style=\"text-align: right;\">\n",
       "      <th></th>\n",
       "      <th>VEHICLE_YEAR</th>\n",
       "      <th>OCCUPANT_CNT</th>\n",
       "      <th>AGE</th>\n",
       "      <th>MAKE_missing</th>\n",
       "      <th>MODEL_missing</th>\n",
       "      <th>VEHICLE_YEAR_missing</th>\n",
       "      <th>VEHICLE_TYPE_missing</th>\n",
       "      <th>OCCUPANT_CNT_missing</th>\n",
       "      <th>SEX_missing</th>\n",
       "      <th>AGE_missing</th>\n",
       "      <th>...</th>\n",
       "      <th>F</th>\n",
       "      <th>M</th>\n",
       "      <th>X</th>\n",
       "      <th>0.0</th>\n",
       "      <th>1.0</th>\n",
       "      <th>0</th>\n",
       "      <th>1</th>\n",
       "      <th>Commute</th>\n",
       "      <th>Daytime</th>\n",
       "      <th>Evening/Overnight</th>\n",
       "    </tr>\n",
       "  </thead>\n",
       "  <tbody>\n",
       "    <tr>\n",
       "      <th>162105</th>\n",
       "      <td>2018.0</td>\n",
       "      <td>1.0</td>\n",
       "      <td>34.0</td>\n",
       "      <td>0</td>\n",
       "      <td>0</td>\n",
       "      <td>0</td>\n",
       "      <td>0</td>\n",
       "      <td>0</td>\n",
       "      <td>0</td>\n",
       "      <td>0</td>\n",
       "      <td>...</td>\n",
       "      <td>0.0</td>\n",
       "      <td>1.0</td>\n",
       "      <td>0.0</td>\n",
       "      <td>0.0</td>\n",
       "      <td>1.0</td>\n",
       "      <td>0.0</td>\n",
       "      <td>1.0</td>\n",
       "      <td>1.0</td>\n",
       "      <td>0.0</td>\n",
       "      <td>0.0</td>\n",
       "    </tr>\n",
       "    <tr>\n",
       "      <th>375248</th>\n",
       "      <td>2010.0</td>\n",
       "      <td>1.0</td>\n",
       "      <td>50.0</td>\n",
       "      <td>0</td>\n",
       "      <td>0</td>\n",
       "      <td>0</td>\n",
       "      <td>0</td>\n",
       "      <td>0</td>\n",
       "      <td>0</td>\n",
       "      <td>0</td>\n",
       "      <td>...</td>\n",
       "      <td>0.0</td>\n",
       "      <td>1.0</td>\n",
       "      <td>0.0</td>\n",
       "      <td>1.0</td>\n",
       "      <td>0.0</td>\n",
       "      <td>1.0</td>\n",
       "      <td>0.0</td>\n",
       "      <td>0.0</td>\n",
       "      <td>1.0</td>\n",
       "      <td>0.0</td>\n",
       "    </tr>\n",
       "    <tr>\n",
       "      <th>243544</th>\n",
       "      <td>2018.0</td>\n",
       "      <td>3.0</td>\n",
       "      <td>47.0</td>\n",
       "      <td>0</td>\n",
       "      <td>0</td>\n",
       "      <td>0</td>\n",
       "      <td>0</td>\n",
       "      <td>0</td>\n",
       "      <td>0</td>\n",
       "      <td>0</td>\n",
       "      <td>...</td>\n",
       "      <td>0.0</td>\n",
       "      <td>1.0</td>\n",
       "      <td>0.0</td>\n",
       "      <td>0.0</td>\n",
       "      <td>1.0</td>\n",
       "      <td>1.0</td>\n",
       "      <td>0.0</td>\n",
       "      <td>0.0</td>\n",
       "      <td>1.0</td>\n",
       "      <td>0.0</td>\n",
       "    </tr>\n",
       "    <tr>\n",
       "      <th>608379</th>\n",
       "      <td>2002.0</td>\n",
       "      <td>1.0</td>\n",
       "      <td>48.0</td>\n",
       "      <td>0</td>\n",
       "      <td>0</td>\n",
       "      <td>0</td>\n",
       "      <td>0</td>\n",
       "      <td>0</td>\n",
       "      <td>0</td>\n",
       "      <td>0</td>\n",
       "      <td>...</td>\n",
       "      <td>1.0</td>\n",
       "      <td>0.0</td>\n",
       "      <td>0.0</td>\n",
       "      <td>0.0</td>\n",
       "      <td>1.0</td>\n",
       "      <td>0.0</td>\n",
       "      <td>1.0</td>\n",
       "      <td>1.0</td>\n",
       "      <td>0.0</td>\n",
       "      <td>0.0</td>\n",
       "    </tr>\n",
       "    <tr>\n",
       "      <th>87163</th>\n",
       "      <td>2015.0</td>\n",
       "      <td>1.0</td>\n",
       "      <td>37.0</td>\n",
       "      <td>0</td>\n",
       "      <td>0</td>\n",
       "      <td>0</td>\n",
       "      <td>0</td>\n",
       "      <td>0</td>\n",
       "      <td>0</td>\n",
       "      <td>0</td>\n",
       "      <td>...</td>\n",
       "      <td>1.0</td>\n",
       "      <td>0.0</td>\n",
       "      <td>0.0</td>\n",
       "      <td>0.0</td>\n",
       "      <td>1.0</td>\n",
       "      <td>1.0</td>\n",
       "      <td>0.0</td>\n",
       "      <td>1.0</td>\n",
       "      <td>0.0</td>\n",
       "      <td>0.0</td>\n",
       "    </tr>\n",
       "  </tbody>\n",
       "</table>\n",
       "<p>5 rows × 374 columns</p>\n",
       "</div>"
      ],
      "text/plain": [
       "        VEHICLE_YEAR  OCCUPANT_CNT   AGE  MAKE_missing  MODEL_missing  \\\n",
       "162105        2018.0           1.0  34.0             0              0   \n",
       "375248        2010.0           1.0  50.0             0              0   \n",
       "243544        2018.0           3.0  47.0             0              0   \n",
       "608379        2002.0           1.0  48.0             0              0   \n",
       "87163         2015.0           1.0  37.0             0              0   \n",
       "\n",
       "        VEHICLE_YEAR_missing  VEHICLE_TYPE_missing  OCCUPANT_CNT_missing  \\\n",
       "162105                     0                     0                     0   \n",
       "375248                     0                     0                     0   \n",
       "243544                     0                     0                     0   \n",
       "608379                     0                     0                     0   \n",
       "87163                      0                     0                     0   \n",
       "\n",
       "        SEX_missing  AGE_missing  ...    F    M    X  0.0  1.0    0    1  \\\n",
       "162105            0            0  ...  0.0  1.0  0.0  0.0  1.0  0.0  1.0   \n",
       "375248            0            0  ...  0.0  1.0  0.0  1.0  0.0  1.0  0.0   \n",
       "243544            0            0  ...  0.0  1.0  0.0  0.0  1.0  1.0  0.0   \n",
       "608379            0            0  ...  1.0  0.0  0.0  0.0  1.0  0.0  1.0   \n",
       "87163             0            0  ...  1.0  0.0  0.0  0.0  1.0  1.0  0.0   \n",
       "\n",
       "        Commute  Daytime  Evening/Overnight  \n",
       "162105      1.0      0.0                0.0  \n",
       "375248      0.0      1.0                0.0  \n",
       "243544      0.0      1.0                0.0  \n",
       "608379      1.0      0.0                0.0  \n",
       "87163       1.0      0.0                0.0  \n",
       "\n",
       "[5 rows x 374 columns]"
      ]
     },
     "execution_count": 219,
     "metadata": {},
     "output_type": "execute_result"
    }
   ],
   "source": [
    "X_train.head()"
   ]
  },
  {
   "cell_type": "code",
   "execution_count": 220,
   "metadata": {},
   "outputs": [
    {
     "data": {
      "text/plain": [
       "(89341, 374)"
      ]
     },
     "execution_count": 220,
     "metadata": {},
     "output_type": "execute_result"
    }
   ],
   "source": [
    "X_train.shape"
   ]
  },
  {
   "cell_type": "markdown",
   "metadata": {},
   "source": [
    "##### Standard Scale"
   ]
  },
  {
   "cell_type": "code",
   "execution_count": 221,
   "metadata": {},
   "outputs": [
    {
     "data": {
      "text/plain": [
       "StandardScaler()"
      ]
     },
     "execution_count": 221,
     "metadata": {},
     "output_type": "execute_result"
    }
   ],
   "source": [
    "scaler = StandardScaler()\n",
    "\n",
    "scaler.fit(X_train)"
   ]
  },
  {
   "cell_type": "code",
   "execution_count": 222,
   "metadata": {},
   "outputs": [],
   "source": [
    "def scale_values(X, scaler):\n",
    "    \"\"\"\n",
    "    Given a DataFrame and a fitted scaler, use the scaler to scale all of the features\n",
    "    \"\"\"\n",
    "    scaled_array = scaler.transform(X)\n",
    "    scaled_df = pd.DataFrame(scaled_array, columns=X.columns, index=X.index)\n",
    "    return scaled_df"
   ]
  },
  {
   "cell_type": "code",
   "execution_count": 223,
   "metadata": {},
   "outputs": [],
   "source": [
    "X_train = scale_values(X_train, scaler)"
   ]
  },
  {
   "cell_type": "code",
   "execution_count": 224,
   "metadata": {},
   "outputs": [
    {
     "data": {
      "text/html": [
       "<div>\n",
       "<style scoped>\n",
       "    .dataframe tbody tr th:only-of-type {\n",
       "        vertical-align: middle;\n",
       "    }\n",
       "\n",
       "    .dataframe tbody tr th {\n",
       "        vertical-align: top;\n",
       "    }\n",
       "\n",
       "    .dataframe thead th {\n",
       "        text-align: right;\n",
       "    }\n",
       "</style>\n",
       "<table border=\"1\" class=\"dataframe\">\n",
       "  <thead>\n",
       "    <tr style=\"text-align: right;\">\n",
       "      <th></th>\n",
       "      <th>VEHICLE_YEAR</th>\n",
       "      <th>OCCUPANT_CNT</th>\n",
       "      <th>AGE</th>\n",
       "      <th>MAKE_missing</th>\n",
       "      <th>MODEL_missing</th>\n",
       "      <th>VEHICLE_YEAR_missing</th>\n",
       "      <th>VEHICLE_TYPE_missing</th>\n",
       "      <th>OCCUPANT_CNT_missing</th>\n",
       "      <th>SEX_missing</th>\n",
       "      <th>AGE_missing</th>\n",
       "      <th>...</th>\n",
       "      <th>F</th>\n",
       "      <th>M</th>\n",
       "      <th>X</th>\n",
       "      <th>0.0</th>\n",
       "      <th>1.0</th>\n",
       "      <th>0</th>\n",
       "      <th>1</th>\n",
       "      <th>Commute</th>\n",
       "      <th>Daytime</th>\n",
       "      <th>Evening/Overnight</th>\n",
       "    </tr>\n",
       "  </thead>\n",
       "  <tbody>\n",
       "    <tr>\n",
       "      <th>162105</th>\n",
       "      <td>0.790177</td>\n",
       "      <td>-0.414301</td>\n",
       "      <td>-0.370700</td>\n",
       "      <td>0.0</td>\n",
       "      <td>0.0</td>\n",
       "      <td>0.0</td>\n",
       "      <td>0.0</td>\n",
       "      <td>0.0</td>\n",
       "      <td>0.0</td>\n",
       "      <td>0.0</td>\n",
       "      <td>...</td>\n",
       "      <td>-0.913292</td>\n",
       "      <td>0.915191</td>\n",
       "      <td>-0.032106</td>\n",
       "      <td>-0.252383</td>\n",
       "      <td>0.252383</td>\n",
       "      <td>-3.916488</td>\n",
       "      <td>3.916488</td>\n",
       "      <td>1.340905</td>\n",
       "      <td>-0.799233</td>\n",
       "      <td>-0.581689</td>\n",
       "    </tr>\n",
       "    <tr>\n",
       "      <th>375248</th>\n",
       "      <td>-0.623975</td>\n",
       "      <td>-0.414301</td>\n",
       "      <td>0.653410</td>\n",
       "      <td>0.0</td>\n",
       "      <td>0.0</td>\n",
       "      <td>0.0</td>\n",
       "      <td>0.0</td>\n",
       "      <td>0.0</td>\n",
       "      <td>0.0</td>\n",
       "      <td>0.0</td>\n",
       "      <td>...</td>\n",
       "      <td>-0.913292</td>\n",
       "      <td>0.915191</td>\n",
       "      <td>-0.032106</td>\n",
       "      <td>3.962228</td>\n",
       "      <td>-3.962228</td>\n",
       "      <td>0.255331</td>\n",
       "      <td>-0.255331</td>\n",
       "      <td>-0.745765</td>\n",
       "      <td>1.251200</td>\n",
       "      <td>-0.581689</td>\n",
       "    </tr>\n",
       "    <tr>\n",
       "      <th>243544</th>\n",
       "      <td>0.790177</td>\n",
       "      <td>2.564222</td>\n",
       "      <td>0.461389</td>\n",
       "      <td>0.0</td>\n",
       "      <td>0.0</td>\n",
       "      <td>0.0</td>\n",
       "      <td>0.0</td>\n",
       "      <td>0.0</td>\n",
       "      <td>0.0</td>\n",
       "      <td>0.0</td>\n",
       "      <td>...</td>\n",
       "      <td>-0.913292</td>\n",
       "      <td>0.915191</td>\n",
       "      <td>-0.032106</td>\n",
       "      <td>-0.252383</td>\n",
       "      <td>0.252383</td>\n",
       "      <td>0.255331</td>\n",
       "      <td>-0.255331</td>\n",
       "      <td>-0.745765</td>\n",
       "      <td>1.251200</td>\n",
       "      <td>-0.581689</td>\n",
       "    </tr>\n",
       "    <tr>\n",
       "      <th>608379</th>\n",
       "      <td>-2.038128</td>\n",
       "      <td>-0.414301</td>\n",
       "      <td>0.525396</td>\n",
       "      <td>0.0</td>\n",
       "      <td>0.0</td>\n",
       "      <td>0.0</td>\n",
       "      <td>0.0</td>\n",
       "      <td>0.0</td>\n",
       "      <td>0.0</td>\n",
       "      <td>0.0</td>\n",
       "      <td>...</td>\n",
       "      <td>1.094939</td>\n",
       "      <td>-1.092669</td>\n",
       "      <td>-0.032106</td>\n",
       "      <td>-0.252383</td>\n",
       "      <td>0.252383</td>\n",
       "      <td>-3.916488</td>\n",
       "      <td>3.916488</td>\n",
       "      <td>1.340905</td>\n",
       "      <td>-0.799233</td>\n",
       "      <td>-0.581689</td>\n",
       "    </tr>\n",
       "    <tr>\n",
       "      <th>87163</th>\n",
       "      <td>0.259870</td>\n",
       "      <td>-0.414301</td>\n",
       "      <td>-0.178679</td>\n",
       "      <td>0.0</td>\n",
       "      <td>0.0</td>\n",
       "      <td>0.0</td>\n",
       "      <td>0.0</td>\n",
       "      <td>0.0</td>\n",
       "      <td>0.0</td>\n",
       "      <td>0.0</td>\n",
       "      <td>...</td>\n",
       "      <td>1.094939</td>\n",
       "      <td>-1.092669</td>\n",
       "      <td>-0.032106</td>\n",
       "      <td>-0.252383</td>\n",
       "      <td>0.252383</td>\n",
       "      <td>0.255331</td>\n",
       "      <td>-0.255331</td>\n",
       "      <td>1.340905</td>\n",
       "      <td>-0.799233</td>\n",
       "      <td>-0.581689</td>\n",
       "    </tr>\n",
       "  </tbody>\n",
       "</table>\n",
       "<p>5 rows × 374 columns</p>\n",
       "</div>"
      ],
      "text/plain": [
       "        VEHICLE_YEAR  OCCUPANT_CNT       AGE  MAKE_missing  MODEL_missing  \\\n",
       "162105      0.790177     -0.414301 -0.370700           0.0            0.0   \n",
       "375248     -0.623975     -0.414301  0.653410           0.0            0.0   \n",
       "243544      0.790177      2.564222  0.461389           0.0            0.0   \n",
       "608379     -2.038128     -0.414301  0.525396           0.0            0.0   \n",
       "87163       0.259870     -0.414301 -0.178679           0.0            0.0   \n",
       "\n",
       "        VEHICLE_YEAR_missing  VEHICLE_TYPE_missing  OCCUPANT_CNT_missing  \\\n",
       "162105                   0.0                   0.0                   0.0   \n",
       "375248                   0.0                   0.0                   0.0   \n",
       "243544                   0.0                   0.0                   0.0   \n",
       "608379                   0.0                   0.0                   0.0   \n",
       "87163                    0.0                   0.0                   0.0   \n",
       "\n",
       "        SEX_missing  AGE_missing  ...         F         M         X       0.0  \\\n",
       "162105          0.0          0.0  ... -0.913292  0.915191 -0.032106 -0.252383   \n",
       "375248          0.0          0.0  ... -0.913292  0.915191 -0.032106  3.962228   \n",
       "243544          0.0          0.0  ... -0.913292  0.915191 -0.032106 -0.252383   \n",
       "608379          0.0          0.0  ...  1.094939 -1.092669 -0.032106 -0.252383   \n",
       "87163           0.0          0.0  ...  1.094939 -1.092669 -0.032106 -0.252383   \n",
       "\n",
       "             1.0         0         1   Commute   Daytime  Evening/Overnight  \n",
       "162105  0.252383 -3.916488  3.916488  1.340905 -0.799233          -0.581689  \n",
       "375248 -3.962228  0.255331 -0.255331 -0.745765  1.251200          -0.581689  \n",
       "243544  0.252383  0.255331 -0.255331 -0.745765  1.251200          -0.581689  \n",
       "608379  0.252383 -3.916488  3.916488  1.340905 -0.799233          -0.581689  \n",
       "87163   0.252383  0.255331 -0.255331  1.340905 -0.799233          -0.581689  \n",
       "\n",
       "[5 rows x 374 columns]"
      ]
     },
     "execution_count": 224,
     "metadata": {},
     "output_type": "execute_result"
    }
   ],
   "source": [
    "X_train.head()"
   ]
  },
  {
   "cell_type": "markdown",
   "metadata": {},
   "source": [
    "#### Model"
   ]
  },
  {
   "cell_type": "code",
   "execution_count": 225,
   "metadata": {},
   "outputs": [
    {
     "data": {
      "text/plain": [
       "LogisticRegression(random_state=2024)"
      ]
     },
     "execution_count": 225,
     "metadata": {},
     "output_type": "execute_result"
    }
   ],
   "source": [
    "logreg_model = LogisticRegression(random_state=2024)\n",
    "logreg_model.fit(X_train, y_train)"
   ]
  },
  {
   "cell_type": "markdown",
   "metadata": {},
   "source": [
    "#### Test Evaluation "
   ]
  },
  {
   "cell_type": "markdown",
   "metadata": {},
   "source": [
    "Now that we have a final model, run X_test through all of the preprocessing steps so we can evaluate the model's performance"
   ]
  },
  {
   "cell_type": "code",
   "execution_count": 226,
   "metadata": {},
   "outputs": [],
   "source": [
    "X_test_no_transformations = X_test.copy()"
   ]
  },
  {
   "cell_type": "code",
   "execution_count": 227,
   "metadata": {},
   "outputs": [],
   "source": [
    "# add missing indicators\n",
    "X_test_mi = add_missing_indicator_columns(X_test_no_transformations, indicator)"
   ]
  },
  {
   "cell_type": "code",
   "execution_count": 228,
   "metadata": {},
   "outputs": [],
   "source": [
    "# separate out values for imputation\n",
    "X_test_numeric = X_test_mi[numeric_feature_names]\n",
    "X_test_categorical = X_test_mi[categorical_feature_names]"
   ]
  },
  {
   "cell_type": "code",
   "execution_count": 229,
   "metadata": {},
   "outputs": [],
   "source": [
    "# impute missing values\n",
    "X_test_numeric = impute_missing_values(X_test_numeric, numeric_imputer)\n",
    "X_test_categorical = impute_missing_values(X_test_categorical, categorical_imputer)\n",
    "X_test_imputed = pd.concat([X_test_numeric, X_test_categorical], axis=1)\n",
    "X_test_new = X_test_mi.drop(numeric_feature_names + categorical_feature_names, axis=1)\n",
    "X_test_final = pd.concat([X_test_imputed, X_test_new], axis=1)"
   ]
  },
  {
   "cell_type": "code",
   "execution_count": 230,
   "metadata": {},
   "outputs": [],
   "source": [
    "# one-hot encode categorical data\n",
    "for categorical_feature in categorical_feature_names:\n",
    "    X_test_final = encode_and_concat_feature(X_test_final,\n",
    "                                       categorical_feature, encoders[categorical_feature])"
   ]
  },
  {
   "cell_type": "code",
   "execution_count": 231,
   "metadata": {},
   "outputs": [],
   "source": [
    "# scale values\n",
    "X_test_scaled = scale_values(X_test_final, scaler)"
   ]
  },
  {
   "cell_type": "code",
   "execution_count": 232,
   "metadata": {},
   "outputs": [
    {
     "data": {
      "text/html": [
       "<div>\n",
       "<style scoped>\n",
       "    .dataframe tbody tr th:only-of-type {\n",
       "        vertical-align: middle;\n",
       "    }\n",
       "\n",
       "    .dataframe tbody tr th {\n",
       "        vertical-align: top;\n",
       "    }\n",
       "\n",
       "    .dataframe thead th {\n",
       "        text-align: right;\n",
       "    }\n",
       "</style>\n",
       "<table border=\"1\" class=\"dataframe\">\n",
       "  <thead>\n",
       "    <tr style=\"text-align: right;\">\n",
       "      <th></th>\n",
       "      <th>VEHICLE_YEAR</th>\n",
       "      <th>OCCUPANT_CNT</th>\n",
       "      <th>AGE</th>\n",
       "      <th>MAKE_missing</th>\n",
       "      <th>MODEL_missing</th>\n",
       "      <th>VEHICLE_YEAR_missing</th>\n",
       "      <th>VEHICLE_TYPE_missing</th>\n",
       "      <th>OCCUPANT_CNT_missing</th>\n",
       "      <th>SEX_missing</th>\n",
       "      <th>AGE_missing</th>\n",
       "      <th>...</th>\n",
       "      <th>F</th>\n",
       "      <th>M</th>\n",
       "      <th>X</th>\n",
       "      <th>0.0</th>\n",
       "      <th>1.0</th>\n",
       "      <th>0</th>\n",
       "      <th>1</th>\n",
       "      <th>Commute</th>\n",
       "      <th>Daytime</th>\n",
       "      <th>Evening/Overnight</th>\n",
       "    </tr>\n",
       "  </thead>\n",
       "  <tbody>\n",
       "    <tr>\n",
       "      <th>590209</th>\n",
       "      <td>0.790177</td>\n",
       "      <td>-0.414301</td>\n",
       "      <td>0.013341</td>\n",
       "      <td>0.0</td>\n",
       "      <td>0.0</td>\n",
       "      <td>0.0</td>\n",
       "      <td>0.0</td>\n",
       "      <td>0.0</td>\n",
       "      <td>0.0</td>\n",
       "      <td>0.0</td>\n",
       "      <td>...</td>\n",
       "      <td>1.094939</td>\n",
       "      <td>-1.092669</td>\n",
       "      <td>-0.032106</td>\n",
       "      <td>-0.252383</td>\n",
       "      <td>0.252383</td>\n",
       "      <td>-3.916488</td>\n",
       "      <td>3.916488</td>\n",
       "      <td>1.340905</td>\n",
       "      <td>-0.799233</td>\n",
       "      <td>-0.581689</td>\n",
       "    </tr>\n",
       "    <tr>\n",
       "      <th>641322</th>\n",
       "      <td>0.966946</td>\n",
       "      <td>-0.414301</td>\n",
       "      <td>-0.498713</td>\n",
       "      <td>0.0</td>\n",
       "      <td>0.0</td>\n",
       "      <td>0.0</td>\n",
       "      <td>0.0</td>\n",
       "      <td>0.0</td>\n",
       "      <td>0.0</td>\n",
       "      <td>0.0</td>\n",
       "      <td>...</td>\n",
       "      <td>-0.913292</td>\n",
       "      <td>0.915191</td>\n",
       "      <td>-0.032106</td>\n",
       "      <td>-0.252383</td>\n",
       "      <td>0.252383</td>\n",
       "      <td>0.255331</td>\n",
       "      <td>-0.255331</td>\n",
       "      <td>-0.745765</td>\n",
       "      <td>1.251200</td>\n",
       "      <td>-0.581689</td>\n",
       "    </tr>\n",
       "    <tr>\n",
       "      <th>562053</th>\n",
       "      <td>-0.977514</td>\n",
       "      <td>1.074960</td>\n",
       "      <td>-1.266795</td>\n",
       "      <td>0.0</td>\n",
       "      <td>0.0</td>\n",
       "      <td>0.0</td>\n",
       "      <td>0.0</td>\n",
       "      <td>0.0</td>\n",
       "      <td>0.0</td>\n",
       "      <td>0.0</td>\n",
       "      <td>...</td>\n",
       "      <td>1.094939</td>\n",
       "      <td>-1.092669</td>\n",
       "      <td>-0.032106</td>\n",
       "      <td>-0.252383</td>\n",
       "      <td>0.252383</td>\n",
       "      <td>0.255331</td>\n",
       "      <td>-0.255331</td>\n",
       "      <td>-0.745765</td>\n",
       "      <td>-0.799233</td>\n",
       "      <td>1.719133</td>\n",
       "    </tr>\n",
       "    <tr>\n",
       "      <th>297242</th>\n",
       "      <td>0.966946</td>\n",
       "      <td>-0.414301</td>\n",
       "      <td>-1.010768</td>\n",
       "      <td>0.0</td>\n",
       "      <td>0.0</td>\n",
       "      <td>0.0</td>\n",
       "      <td>0.0</td>\n",
       "      <td>0.0</td>\n",
       "      <td>0.0</td>\n",
       "      <td>0.0</td>\n",
       "      <td>...</td>\n",
       "      <td>-0.913292</td>\n",
       "      <td>0.915191</td>\n",
       "      <td>-0.032106</td>\n",
       "      <td>-0.252383</td>\n",
       "      <td>0.252383</td>\n",
       "      <td>0.255331</td>\n",
       "      <td>-0.255331</td>\n",
       "      <td>-0.745765</td>\n",
       "      <td>1.251200</td>\n",
       "      <td>-0.581689</td>\n",
       "    </tr>\n",
       "    <tr>\n",
       "      <th>29284</th>\n",
       "      <td>-2.214897</td>\n",
       "      <td>-0.414301</td>\n",
       "      <td>-0.562720</td>\n",
       "      <td>0.0</td>\n",
       "      <td>0.0</td>\n",
       "      <td>0.0</td>\n",
       "      <td>0.0</td>\n",
       "      <td>0.0</td>\n",
       "      <td>0.0</td>\n",
       "      <td>0.0</td>\n",
       "      <td>...</td>\n",
       "      <td>1.094939</td>\n",
       "      <td>-1.092669</td>\n",
       "      <td>-0.032106</td>\n",
       "      <td>-0.252383</td>\n",
       "      <td>0.252383</td>\n",
       "      <td>0.255331</td>\n",
       "      <td>-0.255331</td>\n",
       "      <td>-0.745765</td>\n",
       "      <td>-0.799233</td>\n",
       "      <td>1.719133</td>\n",
       "    </tr>\n",
       "  </tbody>\n",
       "</table>\n",
       "<p>5 rows × 374 columns</p>\n",
       "</div>"
      ],
      "text/plain": [
       "        VEHICLE_YEAR  OCCUPANT_CNT       AGE  MAKE_missing  MODEL_missing  \\\n",
       "590209      0.790177     -0.414301  0.013341           0.0            0.0   \n",
       "641322      0.966946     -0.414301 -0.498713           0.0            0.0   \n",
       "562053     -0.977514      1.074960 -1.266795           0.0            0.0   \n",
       "297242      0.966946     -0.414301 -1.010768           0.0            0.0   \n",
       "29284      -2.214897     -0.414301 -0.562720           0.0            0.0   \n",
       "\n",
       "        VEHICLE_YEAR_missing  VEHICLE_TYPE_missing  OCCUPANT_CNT_missing  \\\n",
       "590209                   0.0                   0.0                   0.0   \n",
       "641322                   0.0                   0.0                   0.0   \n",
       "562053                   0.0                   0.0                   0.0   \n",
       "297242                   0.0                   0.0                   0.0   \n",
       "29284                    0.0                   0.0                   0.0   \n",
       "\n",
       "        SEX_missing  AGE_missing  ...         F         M         X       0.0  \\\n",
       "590209          0.0          0.0  ...  1.094939 -1.092669 -0.032106 -0.252383   \n",
       "641322          0.0          0.0  ... -0.913292  0.915191 -0.032106 -0.252383   \n",
       "562053          0.0          0.0  ...  1.094939 -1.092669 -0.032106 -0.252383   \n",
       "297242          0.0          0.0  ... -0.913292  0.915191 -0.032106 -0.252383   \n",
       "29284           0.0          0.0  ...  1.094939 -1.092669 -0.032106 -0.252383   \n",
       "\n",
       "             1.0         0         1   Commute   Daytime  Evening/Overnight  \n",
       "590209  0.252383 -3.916488  3.916488  1.340905 -0.799233          -0.581689  \n",
       "641322  0.252383  0.255331 -0.255331 -0.745765  1.251200          -0.581689  \n",
       "562053  0.252383  0.255331 -0.255331 -0.745765 -0.799233           1.719133  \n",
       "297242  0.252383  0.255331 -0.255331 -0.745765  1.251200          -0.581689  \n",
       "29284   0.252383  0.255331 -0.255331 -0.745765 -0.799233           1.719133  \n",
       "\n",
       "[5 rows x 374 columns]"
      ]
     },
     "execution_count": 232,
     "metadata": {},
     "output_type": "execute_result"
    }
   ],
   "source": [
    "X_test_scaled.head()"
   ]
  },
  {
   "cell_type": "markdown",
   "metadata": {},
   "source": [
    "We use accuracy score to compare all models with each other. We also use a confusion matrix to see the performance relative to false positives and false negatives. Finally, we plot the ROC curve to see visually if the models are improving in performance. For Logistic Regression models we also print the logloss, probability, and odds."
   ]
  },
  {
   "cell_type": "code",
   "execution_count": 233,
   "metadata": {},
   "outputs": [
    {
     "data": {
      "image/png": "[encoded data removed]",
      "text/plain": [
       "<Figure size 360x288 with 2 Axes>"
      ]
     },
     "metadata": {},
     "output_type": "display_data"
    }
   ],
   "source": [
    "fig, ax = plt.subplots()\n",
    "\n",
    "fig.suptitle(\"Logistic Regression with All Features, Scaled\")\n",
    "\n",
    "plot_confusion_matrix(logreg_model, X_test_scaled, y_test, ax=ax, cmap=\"plasma\");"
   ]
  },
  {
   "cell_type": "code",
   "execution_count": 234,
   "metadata": {},
   "outputs": [
    {
     "data": {
      "text/plain": [
       "<sklearn.metrics._plot.roc_curve.RocCurveDisplay at 0x1e28191dcd0>"
      ]
     },
     "execution_count": 234,
     "metadata": {},
     "output_type": "execute_result"
    },
    {
     "data": {
      "image/png": "[encoded data removed]",
      "text/plain": [
       "<Figure size 360x288 with 1 Axes>"
      ]
     },
     "metadata": {},
     "output_type": "display_data"
    }
   ],
   "source": [
    "plot_roc_curve(logreg_model, X_test_scaled, y_test)"
   ]
  },
  {
   "cell_type": "code",
   "execution_count": 235,
   "metadata": {},
   "outputs": [
    {
     "data": {
      "text/plain": [
       "0.5405124072395151"
      ]
     },
     "execution_count": 235,
     "metadata": {},
     "output_type": "execute_result"
    }
   ],
   "source": [
    "all_accuracy = accuracy_score(y_test, logreg_model.predict(X_test_scaled))\n",
    "all_accuracy"
   ]
  },
  {
   "cell_type": "code",
   "execution_count": 236,
   "metadata": {},
   "outputs": [
    {
     "data": {
      "text/plain": [
       "0.6955203837039959"
      ]
     },
     "execution_count": 236,
     "metadata": {},
     "output_type": "execute_result"
    }
   ],
   "source": [
    "log_loss(y_test, logreg_model.predict_proba(X_test_scaled))"
   ]
  },
  {
   "cell_type": "code",
   "execution_count": 237,
   "metadata": {},
   "outputs": [
    {
     "data": {
      "text/plain": [
       "array([0.00639522])"
      ]
     },
     "execution_count": 237,
     "metadata": {},
     "output_type": "execute_result"
    }
   ],
   "source": [
    "logreg.intercept_"
   ]
  },
  {
   "cell_type": "code",
   "execution_count": 238,
   "metadata": {},
   "outputs": [
    {
     "data": {
      "text/plain": [
       "array([0.5015988])"
      ]
     },
     "execution_count": 238,
     "metadata": {},
     "output_type": "execute_result"
    }
   ],
   "source": [
    "logodds = logreg.intercept_\n",
    "odds = np.exp(logodds)\n",
    "prob = odds / (1 + odds)\n",
    "prob"
   ]
  },
  {
   "cell_type": "code",
   "execution_count": 239,
   "metadata": {},
   "outputs": [
    {
     "data": {
      "text/plain": [
       "array([1.00641571])"
      ]
     },
     "execution_count": 239,
     "metadata": {},
     "output_type": "execute_result"
    }
   ],
   "source": [
    "odds"
   ]
  },
  {
   "cell_type": "markdown",
   "metadata": {},
   "source": [
    "## Final Model Evaluations "
   ]
  },
  {
   "cell_type": "markdown",
   "metadata": {},
   "source": [
    "### Accuracy Score of New Models"
   ]
  },
  {
   "cell_type": "code",
   "execution_count": 240,
   "metadata": {},
   "outputs": [
    {
     "name": "stdout",
     "output_type": "stream",
     "text": [
      "Baseline Accuracy:                   49.8 %\n",
      "Time of Day LogReg Accuracy:         53.1 %\n",
      "Time of Day and Sex LogReg Accuracy: 53.1 %\n",
      "Numeric Columns LogReg Accuracy:     53.0 %\n",
      "All Columns LogReg Accuracy:         54.1 %\n"
     ]
    }
   ],
   "source": [
    "print(\"Baseline Accuracy:                  \", round((dummy2_accuracy*100), ndigits=1), \"%\")\n",
    "print(\"Time of Day LogReg Accuracy:        \", round((ToD2_accuracy*100), ndigits=1), \"%\")\n",
    "print(\"Time of Day and Sex LogReg Accuracy:\", round((TS_accuracy*100), ndigits=1), \"%\")\n",
    "print(\"Numeric Columns LogReg Accuracy:    \", round((num_accuracy*100), ndigits=1), \"%\")\n",
    "print(\"All Columns LogReg Accuracy:        \", round((all_accuracy*100), ndigits=1), \"%\")"
   ]
  },
  {
   "cell_type": "markdown",
   "metadata": {},
   "source": [
    "### Assessment"
   ]
  },
  {
   "cell_type": "markdown",
   "metadata": {},
   "source": [
    "After balancing the data, the accuracy score of the Logistic Regression Model using only TIME_OF_DAY improved a small amount over baseline. Adding more columns to our model allowed it to improve marginally above that. Based on our business problem, we cannot say with a great amount of accuracy whether a crash will be above \\$1500 in damage using only this data. However, we can see that the variable that most influences that outcome is TIME_OF_DAY. When we simply look at TIME_OF_DAY and DAMAGE_OVER_1500, we can see that accidents in the evening and overnight are about 8% more likely to cause damage over \\$1500, compared to other times of day."
   ]
  },
  {
   "cell_type": "code",
   "execution_count": 241,
   "metadata": {},
   "outputs": [
    {
     "data": {
      "text/plain": [
       "TIME_OF_DAY        DAMAGE_OVER_1500\n",
       "Commute            0                   0.515763\n",
       "                   1                   0.484237\n",
       "Daytime            0                   0.525887\n",
       "                   1                   0.474113\n",
       "Evening/Overnight  1                   0.561855\n",
       "                   0                   0.438145\n",
       "Name: DAMAGE_OVER_1500, dtype: float64"
      ]
     },
     "execution_count": 241,
     "metadata": {},
     "output_type": "execute_result"
    }
   ],
   "source": [
    "df.groupby(\"TIME_OF_DAY\").DAMAGE_OVER_1500.value_counts(normalize=True)"
   ]
  }
 ],
 "metadata": {
  "kernelspec": {
   "display_name": "learn-env",
   "language": "python",
   "name": "python3"
  },
  "language_info": {
   "codemirror_mode": {
    "name": "ipython",
    "version": 3
   },
   "file_extension": ".py",
   "mimetype": "text/x-python",
   "name": "python",
   "nbconvert_exporter": "python",
   "pygments_lexer": "ipython3",
   "version": "3.8.5"
  }
 },
 "nbformat": 4,
 "nbformat_minor": 2
}
