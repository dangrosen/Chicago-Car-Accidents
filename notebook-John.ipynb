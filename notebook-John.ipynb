{
 "cells": [
  {
   "cell_type": "markdown",
   "metadata": {},
   "source": [
    "Place for a picture"
   ]
  },
  {
   "cell_type": "markdown",
   "metadata": {},
   "source": [
    "# Logistic Regression of a... (Phase Three Project)"
   ]
  },
  {
   "cell_type": "markdown",
   "metadata": {},
   "source": [
    "## Business Problem/Question"
   ]
  },
  {
   "cell_type": "markdown",
   "metadata": {},
   "source": [
    "Can we use factors from this dataset that are trackable by an insurance company to determining whether a private passenger vehicle crash in Chicago incurs property damage over $1,500 and can we make good predictions using these factors? "
   ]
  },
  {
   "cell_type": "markdown",
   "metadata": {},
   "source": [
    "## EDA"
   ]
  },
  {
   "cell_type": "code",
   "execution_count": 16,
   "metadata": {},
   "outputs": [],
   "source": [
    "# Importing packages\n",
    "import numpy as np\n",
    "import pandas as pd \n",
    "import math\n",
    "\n",
    "import matplotlib.pyplot as plt\n",
    "import seaborn as sns\n",
    "%matplotlib inline\n",
    "\n",
    "from sklearn.model_selection import train_test_split, cross_val_score\n",
    "from sklearn.impute import MissingIndicator, SimpleImputer\n",
    "from sklearn.preprocessing import StandardScaler, OneHotEncoder\n",
    "from sklearn.dummy import DummyClassifier\n",
    "\n",
    "from sklearn.linear_model import LogisticRegression\n",
    "from sklearn.tree import DecisionTreeRegressor, DecisionTreeClassifier, plot_tree\n",
    "\n",
    "from sklearn.metrics import accuracy_score, recall_score, precision_score, f1_score\n",
    "from sklearn.metrics import roc_curve, roc_auc_score, plot_roc_curve\n",
    "from sklearn.metrics import plot_confusion_matrix, confusion_matrix"
   ]
  },
  {
   "cell_type": "markdown",
   "metadata": {},
   "source": [
    "### Read in and create new csv"
   ]
  },
  {
   "cell_type": "code",
   "execution_count": 17,
   "metadata": {},
   "outputs": [],
   "source": [
    "# Read in data\n",
    "\n",
    "df_vehicles = pd.read_csv(\"Data\\Traffic_Crashes_-_Vehicles_20231109.csv\", parse_dates=[\"CRASH_DATE\"], low_memory=False)\n",
    "df_people = pd.read_csv(\"Data\\Traffic_Crashes_-_People_20231109.csv\", parse_dates=[\"CRASH_DATE\"], low_memory=False)\n",
    "df_crashes = pd.read_csv(\"Data\\Traffic_Crashes_-_Crashes_20231109.csv\", parse_dates=[\"CRASH_DATE\"], low_memory=False)"
   ]
  },
  {
   "cell_type": "code",
   "execution_count": 18,
   "metadata": {},
   "outputs": [],
   "source": [
    "# Filter out any data from before 2021\n",
    "\n",
    "df_crashes = df_crashes[df_crashes[\"CRASH_DATE\"].dt.year >= 2021]\n",
    "df_people = df_people[df_people[\"CRASH_DATE\"].dt.year >= 2021]\n",
    "df_vehicles = df_vehicles[df_vehicles[\"CRASH_DATE\"].dt.year >= 2021]"
   ]
  },
  {
   "cell_type": "markdown",
   "metadata": {},
   "source": [
    "Using the data dictionaries to understand column names, we are dropping columns from each set that are not relevant to the business problem."
   ]
  },
  {
   "cell_type": "code",
   "execution_count": 19,
   "metadata": {},
   "outputs": [],
   "source": [
    "# Drop columns from Vehicles dataframe\n",
    "\n",
    "df_vehicles.drop(columns = ['UNIT_NO', 'LIC_PLATE_STATE', 'TRAVEL_DIRECTION', 'MANEUVER',\n",
    "                            'TOWED_I', 'FIRE_I', 'TOWED_BY', 'TOWED_TO', 'AREA_00_I', \n",
    "                            'AREA_01_I', 'AREA_02_I', 'AREA_03_I', 'AREA_04_I', 'AREA_05_I', \n",
    "                            'AREA_06_I', 'AREA_07_I', 'AREA_08_I', 'AREA_09_I', 'AREA_10_I', \n",
    "                            'AREA_11_I', 'AREA_12_I', 'AREA_99_I', 'FIRST_CONTACT_POINT', 'CMV_ID', \n",
    "                            'USDOT_NO', 'CCMC_NO', 'ILCC_NO', 'COMMERCIAL_SRC', 'GVWR', \n",
    "                            'CARRIER_NAME', 'CARRIER_STATE', 'CARRIER_CITY',\n",
    "                            'HAZMAT_PLACARDS_I', 'HAZMAT_NAME', 'UN_NO', 'HAZMAT_PRESENT_I', \n",
    "                            'HAZMAT_REPORT_I', 'HAZMAT_REPORT_NO', 'MCS_REPORT_I',\n",
    "                            'MCS_REPORT_NO', 'HAZMAT_VIO_CAUSE_CRASH_I', 'MCS_VIO_CAUSE_CRASH_I', \n",
    "                            'IDOT_PERMIT_NO', 'WIDE_LOAD_I', 'TRAILER1_WIDTH', 'TRAILER2_WIDTH', \n",
    "                            'TRAILER1_LENGTH', 'TRAILER2_LENGTH', 'TOTAL_VEHICLE_LENGTH',\n",
    "                            'AXLE_CNT', 'VEHICLE_CONFIG', 'CARGO_BODY_TYPE', 'LOAD_TYPE',\n",
    "                            'HAZMAT_OUT_OF_SERVICE_I', 'MCS_OUT_OF_SERVICE_I', 'HAZMAT_CLASS'],\n",
    "                            inplace=True)"
   ]
  },
  {
   "cell_type": "code",
   "execution_count": 20,
   "metadata": {},
   "outputs": [],
   "source": [
    "# Drop columns from People dataframe\n",
    "\n",
    "df_people.drop(columns = ['PERSON_ID', 'SEAT_NO', 'CITY', 'STATE', 'ZIPCODE', 'SAFETY_EQUIPMENT', \n",
    "                          'AIRBAG_DEPLOYED', 'EJECTION', 'INJURY_CLASSIFICATION', 'HOSPITAL', \n",
    "                          'EMS_AGENCY', 'EMS_RUN_NO', 'DRIVER_ACTION', 'DRIVER_VISION', 'PHYSICAL_CONDITION',\n",
    "                          'PEDPEDAL_ACTION', 'PEDPEDAL_VISIBILITY', 'PEDPEDAL_LOCATION', 'BAC_RESULT', 'BAC_RESULT VALUE'], inplace=True)"
   ]
  },
  {
   "cell_type": "code",
   "execution_count": 21,
   "metadata": {},
   "outputs": [],
   "source": [
    "# Drop columns from Crashes dataframe\n",
    "\n",
    "df_crashes.drop(columns = ['CRASH_DATE_EST_I', 'POSTED_SPEED_LIMIT', 'TRAFFIC_CONTROL_DEVICE', 'DEVICE_CONDITION', \n",
    "                           'WEATHER_CONDITION', 'LIGHTING_CONDITION', 'TRAFFICWAY_TYPE', 'ALIGNMENT', \n",
    "                           'ROADWAY_SURFACE_COND', 'ROAD_DEFECT', 'FIRST_CRASH_TYPE', 'LANE_CNT', \n",
    "                           'REPORT_TYPE', 'CRASH_TYPE', 'INTERSECTION_RELATED_I', \n",
    "                           'NOT_RIGHT_OF_WAY_I', 'HIT_AND_RUN_I', 'DATE_POLICE_NOTIFIED', 'STREET_NO', \n",
    "                           'STREET_DIRECTION', 'STREET_NAME', 'PHOTOS_TAKEN_I', 'STATEMENTS_TAKEN_I', 'DOORING_I', \n",
    "                           'WORK_ZONE_I', 'WORK_ZONE_TYPE', 'WORKERS_PRESENT_I', 'NUM_UNITS', 'MOST_SEVERE_INJURY', \n",
    "                           'INJURIES_TOTAL', 'INJURIES_FATAL', 'INJURIES_INCAPACITATING', 'INJURIES_NON_INCAPACITATING', \n",
    "                           'INJURIES_REPORTED_NOT_EVIDENT', 'INJURIES_NO_INDICATION', 'INJURIES_UNKNOWN', 'CRASH_MONTH', \n",
    "                           'LATITUDE', 'LONGITUDE', 'LOCATION'], inplace=True) "
   ]
  },
  {
   "cell_type": "markdown",
   "metadata": {},
   "source": [
    "Because we are most interested in vehicle damage, we are using the Vehicles dataframe as the main and merging the others into it."
   ]
  },
  {
   "cell_type": "code",
   "execution_count": 22,
   "metadata": {},
   "outputs": [],
   "source": [
    "# Merge People dataframe with Vehicles dataframe\n",
    "\n",
    "df = df_vehicles.merge(df_people, how=\"left\", on=[\"CRASH_RECORD_ID\", \"CRASH_DATE\", \"RD_NO\", \"VEHICLE_ID\"])"
   ]
  },
  {
   "cell_type": "code",
   "execution_count": 23,
   "metadata": {},
   "outputs": [],
   "source": [
    "# Merge Crashes dataframe with merged dataframe\n",
    "\n",
    "df = pd.merge(df, df_crashes, how = 'inner', on = ['CRASH_RECORD_ID', \"CRASH_DATE\", \"RD_NO\"])"
   ]
  },
  {
   "cell_type": "code",
   "execution_count": 24,
   "metadata": {},
   "outputs": [],
   "source": [
    "# Exporting new dataframe to csv for use throughout rest of notebook\n",
    "\n",
    "df.to_csv(\"Data\\chicago_traffic_accidents_2021_to_11-09-2023.csv\")"
   ]
  },
  {
   "cell_type": "markdown",
   "metadata": {},
   "source": [
    "### Working with a single merge dataset"
   ]
  },
  {
   "cell_type": "code",
   "execution_count": 25,
   "metadata": {},
   "outputs": [],
   "source": [
    "# Can load merged dataframe without needing to go through above steps each time\n",
    "df = pd.read_csv(\"Data\\chicago_traffic_accidents_2021_to_11-09-2023.zip\", \n",
    "                 parse_dates=[\"CRASH_DATE\"], low_memory=False)"
   ]
  },
  {
   "cell_type": "markdown",
   "metadata": {},
   "source": [
    "We don't need all the identifying columns as they are not useful in making a model. We will drop all of those now."
   ]
  },
  {
   "cell_type": "code",
   "execution_count": 26,
   "metadata": {},
   "outputs": [],
   "source": [
    "df.drop(columns = [\"Unnamed: 0\", \"CRASH_UNIT_ID\", \"CRASH_RECORD_ID\", \n",
    "                   \"RD_NO\", \"VEHICLE_ID\"], inplace=True)"
   ]
  },
  {
   "cell_type": "markdown",
   "metadata": {},
   "source": [
    "We only want unique vehicle damage count, so we need to remove rows that represent passengers, as these will duplicate the vehicle damage. We also should remove any other rows that don't represent drivers. We can use the \"PERSON_TYPE\" column for this."
   ]
  },
  {
   "cell_type": "code",
   "execution_count": 27,
   "metadata": {},
   "outputs": [
    {
     "data": {
      "text/plain": [
       "DRIVER                 0.780694\n",
       "PASSENGER              0.197756\n",
       "PEDESTRIAN             0.012899\n",
       "BICYCLE                0.007730\n",
       "NON-MOTOR VEHICLE      0.000760\n",
       "NON-CONTACT VEHICLE    0.000162\n",
       "Name: PERSON_TYPE, dtype: float64"
      ]
     },
     "execution_count": 27,
     "metadata": {},
     "output_type": "execute_result"
    }
   ],
   "source": [
    "# Check values in Person_type column\n",
    "\n",
    "df['PERSON_TYPE'].value_counts(normalize=True)"
   ]
  },
  {
   "cell_type": "code",
   "execution_count": 28,
   "metadata": {},
   "outputs": [],
   "source": [
    "# Remove all types of person except DRIVER\n",
    "\n",
    "df = df[df['PERSON_TYPE'] == 'DRIVER']"
   ]
  },
  {
   "cell_type": "code",
   "execution_count": 29,
   "metadata": {},
   "outputs": [
    {
     "data": {
      "text/plain": [
       "DRIVER    1.0\n",
       "Name: PERSON_TYPE, dtype: float64"
      ]
     },
     "execution_count": 29,
     "metadata": {},
     "output_type": "execute_result"
    }
   ],
   "source": [
    "# Sanity check\n",
    "\n",
    "df['PERSON_TYPE'].value_counts(normalize=True)"
   ]
  },
  {
   "cell_type": "markdown",
   "metadata": {},
   "source": [
    "### Missingness"
   ]
  },
  {
   "cell_type": "markdown",
   "metadata": {},
   "source": [
    "Next we look at null values to try to determine which columns might need to be imputed or if the data is too incomplete to be useful. "
   ]
  },
  {
   "cell_type": "code",
   "execution_count": 30,
   "metadata": {},
   "outputs": [],
   "source": [
    "# First dropping columns that no longer have any data after removing all but DRIVER entries\n",
    "\n",
    "df= df.dropna(axis=1, how=\"all\")"
   ]
  },
  {
   "cell_type": "code",
   "execution_count": 31,
   "metadata": {},
   "outputs": [
    {
     "name": "stdout",
     "output_type": "stream",
     "text": [
      "<class 'pandas.core.frame.DataFrame'>\n",
      "Int64Index: 530319 entries, 0 to 766594\n",
      "Data columns (total 24 columns):\n",
      " #   Column                   Non-Null Count   Dtype         \n",
      "---  ------                   --------------   -----         \n",
      " 0   CRASH_DATE               530319 non-null  datetime64[ns]\n",
      " 1   UNIT_TYPE                530310 non-null  object        \n",
      " 2   NUM_PASSENGERS           85079 non-null   float64       \n",
      " 3   CMRC_VEH_I               10945 non-null   object        \n",
      " 4   MAKE                     530098 non-null  object        \n",
      " 5   MODEL                    530098 non-null  object        \n",
      " 6   VEHICLE_YEAR             434488 non-null  float64       \n",
      " 7   VEHICLE_DEFECT           530098 non-null  object        \n",
      " 8   VEHICLE_TYPE             530098 non-null  object        \n",
      " 9   VEHICLE_USE              530098 non-null  object        \n",
      " 10  OCCUPANT_CNT             530098 non-null  float64       \n",
      " 11  EXCEED_SPEED_LIMIT_I     9 non-null       object        \n",
      " 12  PERSON_TYPE              530319 non-null  object        \n",
      " 13  SEX                      530319 non-null  object        \n",
      " 14  AGE                      377472 non-null  float64       \n",
      " 15  DRIVERS_LICENSE_STATE    390210 non-null  object        \n",
      " 16  DRIVERS_LICENSE_CLASS    308207 non-null  object        \n",
      " 17  CELL_PHONE_USE           2 non-null       object        \n",
      " 18  DAMAGE                   530319 non-null  object        \n",
      " 19  PRIM_CONTRIBUTORY_CAUSE  530319 non-null  object        \n",
      " 20  SEC_CONTRIBUTORY_CAUSE   530319 non-null  object        \n",
      " 21  BEAT_OF_OCCURRENCE       530319 non-null  float64       \n",
      " 22  CRASH_HOUR               530319 non-null  int64         \n",
      " 23  CRASH_DAY_OF_WEEK        530319 non-null  int64         \n",
      "dtypes: datetime64[ns](1), float64(5), int64(2), object(16)\n",
      "memory usage: 101.2+ MB\n"
     ]
    }
   ],
   "source": [
    "# Looking at the total nulls left in remaining columns\n",
    "\n",
    "df.info()"
   ]
  },
  {
   "cell_type": "markdown",
   "metadata": {},
   "source": [
    "There are several columns that seem useful from the data dictionaries, but look almost entirely full of nulls. We do a value_counts for those columns to see what's in them."
   ]
  },
  {
   "cell_type": "code",
   "execution_count": 32,
   "metadata": {},
   "outputs": [
    {
     "data": {
      "text/plain": [
       "NaN     445240\n",
       "1.0      60610\n",
       "2.0      15374\n",
       "3.0       6037\n",
       "4.0       2034\n",
       "5.0        560\n",
       "6.0        234\n",
       "7.0         84\n",
       "8.0         28\n",
       "10.0        23\n",
       "9.0         19\n",
       "11.0        18\n",
       "12.0        10\n",
       "17.0         6\n",
       "14.0         5\n",
       "19.0         4\n",
       "13.0         4\n",
       "16.0         4\n",
       "15.0         3\n",
       "18.0         2\n",
       "22.0         2\n",
       "21.0         2\n",
       "27.0         2\n",
       "43.0         2\n",
       "26.0         2\n",
       "20.0         1\n",
       "33.0         1\n",
       "34.0         1\n",
       "28.0         1\n",
       "46.0         1\n",
       "42.0         1\n",
       "30.0         1\n",
       "32.0         1\n",
       "31.0         1\n",
       "24.0         1\n",
       "Name: NUM_PASSENGERS, dtype: int64"
      ]
     },
     "execution_count": 32,
     "metadata": {},
     "output_type": "execute_result"
    }
   ],
   "source": [
    "# NUM_PASSENGERS\n",
    "\n",
    "df[\"NUM_PASSENGERS\"].value_counts(dropna=False)"
   ]
  },
  {
   "cell_type": "markdown",
   "metadata": {},
   "source": [
    "There is no 0 value, so the NaNs are problably 0. However, OCCUPANT_CNT represents the same information so we won't need this column. "
   ]
  },
  {
   "cell_type": "code",
   "execution_count": 33,
   "metadata": {},
   "outputs": [
    {
     "data": {
      "text/plain": [
       "NaN    519374\n",
       "Y        6602\n",
       "N        4343\n",
       "Name: CMRC_VEH_I, dtype: int64"
      ]
     },
     "execution_count": 33,
     "metadata": {},
     "output_type": "execute_result"
    }
   ],
   "source": [
    "# CMRC_VEH_I\n",
    "\n",
    "df[\"CMRC_VEH_I\"].value_counts(dropna=False)"
   ]
  },
  {
   "cell_type": "markdown",
   "metadata": {},
   "source": [
    "This is a binary flag, but the missing values represent the overwhelming majority. We can drop the Y rows because they are commercial vehicles and do not fit the business problem, but the rest we will leave as we cannot make an assumption from such a small subset that the Y/N ratio is representative of the whole. "
   ]
  },
  {
   "cell_type": "code",
   "execution_count": 34,
   "metadata": {},
   "outputs": [],
   "source": [
    "# Dropping Commercial Vehicles\n",
    "\n",
    "df = df[df[\"CMRC_VEH_I\"]!=\"Y\"]"
   ]
  },
  {
   "cell_type": "code",
   "execution_count": 35,
   "metadata": {},
   "outputs": [
    {
     "data": {
      "text/plain": [
       "NaN    519374\n",
       "N        4343\n",
       "Name: CMRC_VEH_I, dtype: int64"
      ]
     },
     "execution_count": 35,
     "metadata": {},
     "output_type": "execute_result"
    }
   ],
   "source": [
    "# Sanity Check\n",
    "\n",
    "df[\"CMRC_VEH_I\"].value_counts(dropna=False)"
   ]
  },
  {
   "cell_type": "code",
   "execution_count": 36,
   "metadata": {},
   "outputs": [
    {
     "data": {
      "text/plain": [
       "NaN    523708\n",
       "N           5\n",
       "Y           4\n",
       "Name: EXCEED_SPEED_LIMIT_I, dtype: int64"
      ]
     },
     "execution_count": 36,
     "metadata": {},
     "output_type": "execute_result"
    }
   ],
   "source": [
    "# EXCEED_SPEED_LIMIT_I\n",
    "\n",
    "df[\"EXCEED_SPEED_LIMIT_I\"].value_counts(dropna=False)"
   ]
  },
  {
   "cell_type": "markdown",
   "metadata": {},
   "source": [
    "This is a binary flag, but the missing values represent the overwhelming majority. We cannot make an assumption from such a small subset that the Y/N ratio is representative of the whole. This does not seem to be a useful column."
   ]
  },
  {
   "cell_type": "code",
   "execution_count": 37,
   "metadata": {},
   "outputs": [
    {
     "data": {
      "text/plain": [
       "NaN      152142\n",
       "28.0      10738\n",
       "27.0      10706\n",
       "29.0      10618\n",
       "26.0      10583\n",
       "          ...  \n",
       "101.0         5\n",
       "102.0         4\n",
       "103.0         3\n",
       "98.0          3\n",
       "110.0         2\n",
       "Name: AGE, Length: 106, dtype: int64"
      ]
     },
     "execution_count": 37,
     "metadata": {},
     "output_type": "execute_result"
    }
   ],
   "source": [
    "# AGE\n",
    "\n",
    "df[\"AGE\"].value_counts(dropna=False)"
   ]
  },
  {
   "cell_type": "code",
   "execution_count": 38,
   "metadata": {},
   "outputs": [
    {
     "data": {
      "image/png": "[encoded data removed]",
      "text/plain": [
       "<Figure size 432x288 with 1 Axes>"
      ]
     },
     "metadata": {
      "needs_background": "light"
     },
     "output_type": "display_data"
    }
   ],
   "source": [
    "sns.histplot(df[\"AGE\"]);"
   ]
  },
  {
   "cell_type": "markdown",
   "metadata": {},
   "source": [
    "Missing values is a smaller percentage, and the mean of age seems to make sense, so we can impute the mean later on and keep this column."
   ]
  },
  {
   "cell_type": "code",
   "execution_count": 40,
   "metadata": {},
   "outputs": [
    {
     "data": {
      "text/plain": [
       "NaN    523715\n",
       "N           2\n",
       "Name: CELL_PHONE_USE, dtype: int64"
      ]
     },
     "execution_count": 40,
     "metadata": {},
     "output_type": "execute_result"
    }
   ],
   "source": [
    "# CELL_PHONE_USE\n",
    "\n",
    "df[\"CELL_PHONE_USE\"].value_counts(dropna=False)"
   ]
  },
  {
   "cell_type": "markdown",
   "metadata": {},
   "source": [
    "This is a binary flag, but the missing values represent the overwhelming majority. We cannot make an assumption from such a small subset that the Y/N ratio is representative of the whole. This does not seem to be a useful column."
   ]
  },
  {
   "cell_type": "code",
   "execution_count": 41,
   "metadata": {},
   "outputs": [],
   "source": [
    "# Dropping all columns determined not to be useful\n",
    "\n",
    "df.drop(columns = [\"CMRC_VEH_I\", \"EXCEED_SPEED_LIMIT_I\", \"CELL_PHONE_USE\"], inplace=True)"
   ]
  },
  {
   "cell_type": "code",
   "execution_count": 42,
   "metadata": {},
   "outputs": [
    {
     "name": "stdout",
     "output_type": "stream",
     "text": [
      "<class 'pandas.core.frame.DataFrame'>\n",
      "Int64Index: 523717 entries, 0 to 766594\n",
      "Data columns (total 21 columns):\n",
      " #   Column                   Non-Null Count   Dtype         \n",
      "---  ------                   --------------   -----         \n",
      " 0   CRASH_DATE               523717 non-null  datetime64[ns]\n",
      " 1   UNIT_TYPE                523708 non-null  object        \n",
      " 2   NUM_PASSENGERS           84450 non-null   float64       \n",
      " 3   MAKE                     523496 non-null  object        \n",
      " 4   MODEL                    523496 non-null  object        \n",
      " 5   VEHICLE_YEAR             428682 non-null  float64       \n",
      " 6   VEHICLE_DEFECT           523496 non-null  object        \n",
      " 7   VEHICLE_TYPE             523496 non-null  object        \n",
      " 8   VEHICLE_USE              523496 non-null  object        \n",
      " 9   OCCUPANT_CNT             523496 non-null  float64       \n",
      " 10  PERSON_TYPE              523717 non-null  object        \n",
      " 11  SEX                      523717 non-null  object        \n",
      " 12  AGE                      371575 non-null  float64       \n",
      " 13  DRIVERS_LICENSE_STATE    384260 non-null  object        \n",
      " 14  DRIVERS_LICENSE_CLASS    302924 non-null  object        \n",
      " 15  DAMAGE                   523717 non-null  object        \n",
      " 16  PRIM_CONTRIBUTORY_CAUSE  523717 non-null  object        \n",
      " 17  SEC_CONTRIBUTORY_CAUSE   523717 non-null  object        \n",
      " 18  BEAT_OF_OCCURRENCE       523717 non-null  float64       \n",
      " 19  CRASH_HOUR               523717 non-null  int64         \n",
      " 20  CRASH_DAY_OF_WEEK        523717 non-null  int64         \n",
      "dtypes: datetime64[ns](1), float64(5), int64(2), object(13)\n",
      "memory usage: 87.9+ MB\n"
     ]
    }
   ],
   "source": [
    "#Sanity Check\n",
    "\n",
    "df.info()"
   ]
  },
  {
   "cell_type": "markdown",
   "metadata": {},
   "source": [
    "### Compare Variables"
   ]
  },
  {
   "cell_type": "code",
   "execution_count": 43,
   "metadata": {},
   "outputs": [
    {
     "name": "stderr",
     "output_type": "stream",
     "text": [
      "<ipython-input-43-f0b840b36521>:3: FutureWarning: Treating datetime data as categorical rather than numeric in `.describe` is deprecated and will be removed in a future version of pandas. Specify `datetime_is_numeric=True` to silence this warning and adopt the future behavior now.\n",
      "  df.describe(include=\"all\")\n"
     ]
    },
    {
     "data": {
      "text/html": [
       "<div>\n",
       "<style scoped>\n",
       "    .dataframe tbody tr th:only-of-type {\n",
       "        vertical-align: middle;\n",
       "    }\n",
       "\n",
       "    .dataframe tbody tr th {\n",
       "        vertical-align: top;\n",
       "    }\n",
       "\n",
       "    .dataframe thead th {\n",
       "        text-align: right;\n",
       "    }\n",
       "</style>\n",
       "<table border=\"1\" class=\"dataframe\">\n",
       "  <thead>\n",
       "    <tr style=\"text-align: right;\">\n",
       "      <th></th>\n",
       "      <th>CRASH_DATE</th>\n",
       "      <th>UNIT_TYPE</th>\n",
       "      <th>NUM_PASSENGERS</th>\n",
       "      <th>MAKE</th>\n",
       "      <th>MODEL</th>\n",
       "      <th>VEHICLE_YEAR</th>\n",
       "      <th>VEHICLE_DEFECT</th>\n",
       "      <th>VEHICLE_TYPE</th>\n",
       "      <th>VEHICLE_USE</th>\n",
       "      <th>OCCUPANT_CNT</th>\n",
       "      <th>...</th>\n",
       "      <th>SEX</th>\n",
       "      <th>AGE</th>\n",
       "      <th>DRIVERS_LICENSE_STATE</th>\n",
       "      <th>DRIVERS_LICENSE_CLASS</th>\n",
       "      <th>DAMAGE</th>\n",
       "      <th>PRIM_CONTRIBUTORY_CAUSE</th>\n",
       "      <th>SEC_CONTRIBUTORY_CAUSE</th>\n",
       "      <th>BEAT_OF_OCCURRENCE</th>\n",
       "      <th>CRASH_HOUR</th>\n",
       "      <th>CRASH_DAY_OF_WEEK</th>\n",
       "    </tr>\n",
       "  </thead>\n",
       "  <tbody>\n",
       "    <tr>\n",
       "      <th>count</th>\n",
       "      <td>523717</td>\n",
       "      <td>523708</td>\n",
       "      <td>84450.000000</td>\n",
       "      <td>523496</td>\n",
       "      <td>523496</td>\n",
       "      <td>428682.000000</td>\n",
       "      <td>523496</td>\n",
       "      <td>523496</td>\n",
       "      <td>523496</td>\n",
       "      <td>523496.000000</td>\n",
       "      <td>...</td>\n",
       "      <td>523717</td>\n",
       "      <td>371575.000000</td>\n",
       "      <td>384260</td>\n",
       "      <td>302924</td>\n",
       "      <td>523717</td>\n",
       "      <td>523717</td>\n",
       "      <td>523717</td>\n",
       "      <td>523717.000000</td>\n",
       "      <td>523717.000000</td>\n",
       "      <td>523717.000000</td>\n",
       "    </tr>\n",
       "    <tr>\n",
       "      <th>unique</th>\n",
       "      <td>204665</td>\n",
       "      <td>5</td>\n",
       "      <td>NaN</td>\n",
       "      <td>628</td>\n",
       "      <td>1694</td>\n",
       "      <td>NaN</td>\n",
       "      <td>17</td>\n",
       "      <td>21</td>\n",
       "      <td>23</td>\n",
       "      <td>NaN</td>\n",
       "      <td>...</td>\n",
       "      <td>3</td>\n",
       "      <td>NaN</td>\n",
       "      <td>174</td>\n",
       "      <td>176</td>\n",
       "      <td>3</td>\n",
       "      <td>38</td>\n",
       "      <td>38</td>\n",
       "      <td>NaN</td>\n",
       "      <td>NaN</td>\n",
       "      <td>NaN</td>\n",
       "    </tr>\n",
       "    <tr>\n",
       "      <th>top</th>\n",
       "      <td>2022-02-17 15:30:00</td>\n",
       "      <td>DRIVER</td>\n",
       "      <td>NaN</td>\n",
       "      <td>UNKNOWN</td>\n",
       "      <td>OTHER (EXPLAIN IN NARRATIVE)</td>\n",
       "      <td>NaN</td>\n",
       "      <td>UNKNOWN</td>\n",
       "      <td>PASSENGER</td>\n",
       "      <td>PERSONAL</td>\n",
       "      <td>NaN</td>\n",
       "      <td>...</td>\n",
       "      <td>M</td>\n",
       "      <td>NaN</td>\n",
       "      <td>IL</td>\n",
       "      <td>D</td>\n",
       "      <td>OVER $1,500</td>\n",
       "      <td>UNABLE TO DETERMINE</td>\n",
       "      <td>NOT APPLICABLE</td>\n",
       "      <td>NaN</td>\n",
       "      <td>NaN</td>\n",
       "      <td>NaN</td>\n",
       "    </tr>\n",
       "    <tr>\n",
       "      <th>freq</th>\n",
       "      <td>37</td>\n",
       "      <td>523684</td>\n",
       "      <td>NaN</td>\n",
       "      <td>61453</td>\n",
       "      <td>98351</td>\n",
       "      <td>NaN</td>\n",
       "      <td>272814</td>\n",
       "      <td>322655</td>\n",
       "      <td>351807</td>\n",
       "      <td>NaN</td>\n",
       "      <td>...</td>\n",
       "      <td>275960</td>\n",
       "      <td>NaN</td>\n",
       "      <td>350874</td>\n",
       "      <td>267251</td>\n",
       "      <td>360020</td>\n",
       "      <td>202712</td>\n",
       "      <td>214936</td>\n",
       "      <td>NaN</td>\n",
       "      <td>NaN</td>\n",
       "      <td>NaN</td>\n",
       "    </tr>\n",
       "    <tr>\n",
       "      <th>first</th>\n",
       "      <td>2021-01-01 00:00:00</td>\n",
       "      <td>NaN</td>\n",
       "      <td>NaN</td>\n",
       "      <td>NaN</td>\n",
       "      <td>NaN</td>\n",
       "      <td>NaN</td>\n",
       "      <td>NaN</td>\n",
       "      <td>NaN</td>\n",
       "      <td>NaN</td>\n",
       "      <td>NaN</td>\n",
       "      <td>...</td>\n",
       "      <td>NaN</td>\n",
       "      <td>NaN</td>\n",
       "      <td>NaN</td>\n",
       "      <td>NaN</td>\n",
       "      <td>NaN</td>\n",
       "      <td>NaN</td>\n",
       "      <td>NaN</td>\n",
       "      <td>NaN</td>\n",
       "      <td>NaN</td>\n",
       "      <td>NaN</td>\n",
       "    </tr>\n",
       "    <tr>\n",
       "      <th>last</th>\n",
       "      <td>2023-11-09 02:40:00</td>\n",
       "      <td>NaN</td>\n",
       "      <td>NaN</td>\n",
       "      <td>NaN</td>\n",
       "      <td>NaN</td>\n",
       "      <td>NaN</td>\n",
       "      <td>NaN</td>\n",
       "      <td>NaN</td>\n",
       "      <td>NaN</td>\n",
       "      <td>NaN</td>\n",
       "      <td>...</td>\n",
       "      <td>NaN</td>\n",
       "      <td>NaN</td>\n",
       "      <td>NaN</td>\n",
       "      <td>NaN</td>\n",
       "      <td>NaN</td>\n",
       "      <td>NaN</td>\n",
       "      <td>NaN</td>\n",
       "      <td>NaN</td>\n",
       "      <td>NaN</td>\n",
       "      <td>NaN</td>\n",
       "    </tr>\n",
       "    <tr>\n",
       "      <th>mean</th>\n",
       "      <td>NaN</td>\n",
       "      <td>NaN</td>\n",
       "      <td>1.456945</td>\n",
       "      <td>NaN</td>\n",
       "      <td>NaN</td>\n",
       "      <td>2014.883128</td>\n",
       "      <td>NaN</td>\n",
       "      <td>NaN</td>\n",
       "      <td>NaN</td>\n",
       "      <td>1.234516</td>\n",
       "      <td>...</td>\n",
       "      <td>NaN</td>\n",
       "      <td>39.925474</td>\n",
       "      <td>NaN</td>\n",
       "      <td>NaN</td>\n",
       "      <td>NaN</td>\n",
       "      <td>NaN</td>\n",
       "      <td>NaN</td>\n",
       "      <td>1239.549677</td>\n",
       "      <td>13.360557</td>\n",
       "      <td>4.137664</td>\n",
       "    </tr>\n",
       "    <tr>\n",
       "      <th>std</th>\n",
       "      <td>NaN</td>\n",
       "      <td>NaN</td>\n",
       "      <td>0.995520</td>\n",
       "      <td>NaN</td>\n",
       "      <td>NaN</td>\n",
       "      <td>118.634721</td>\n",
       "      <td>NaN</td>\n",
       "      <td>NaN</td>\n",
       "      <td>NaN</td>\n",
       "      <td>0.667260</td>\n",
       "      <td>...</td>\n",
       "      <td>NaN</td>\n",
       "      <td>15.843725</td>\n",
       "      <td>NaN</td>\n",
       "      <td>NaN</td>\n",
       "      <td>NaN</td>\n",
       "      <td>NaN</td>\n",
       "      <td>NaN</td>\n",
       "      <td>701.016896</td>\n",
       "      <td>5.512825</td>\n",
       "      <td>1.982557</td>\n",
       "    </tr>\n",
       "    <tr>\n",
       "      <th>min</th>\n",
       "      <td>NaN</td>\n",
       "      <td>NaN</td>\n",
       "      <td>1.000000</td>\n",
       "      <td>NaN</td>\n",
       "      <td>NaN</td>\n",
       "      <td>1900.000000</td>\n",
       "      <td>NaN</td>\n",
       "      <td>NaN</td>\n",
       "      <td>NaN</td>\n",
       "      <td>0.000000</td>\n",
       "      <td>...</td>\n",
       "      <td>NaN</td>\n",
       "      <td>0.000000</td>\n",
       "      <td>NaN</td>\n",
       "      <td>NaN</td>\n",
       "      <td>NaN</td>\n",
       "      <td>NaN</td>\n",
       "      <td>NaN</td>\n",
       "      <td>111.000000</td>\n",
       "      <td>0.000000</td>\n",
       "      <td>1.000000</td>\n",
       "    </tr>\n",
       "    <tr>\n",
       "      <th>25%</th>\n",
       "      <td>NaN</td>\n",
       "      <td>NaN</td>\n",
       "      <td>1.000000</td>\n",
       "      <td>NaN</td>\n",
       "      <td>NaN</td>\n",
       "      <td>2009.000000</td>\n",
       "      <td>NaN</td>\n",
       "      <td>NaN</td>\n",
       "      <td>NaN</td>\n",
       "      <td>1.000000</td>\n",
       "      <td>...</td>\n",
       "      <td>NaN</td>\n",
       "      <td>27.000000</td>\n",
       "      <td>NaN</td>\n",
       "      <td>NaN</td>\n",
       "      <td>NaN</td>\n",
       "      <td>NaN</td>\n",
       "      <td>NaN</td>\n",
       "      <td>715.000000</td>\n",
       "      <td>10.000000</td>\n",
       "      <td>2.000000</td>\n",
       "    </tr>\n",
       "    <tr>\n",
       "      <th>50%</th>\n",
       "      <td>NaN</td>\n",
       "      <td>NaN</td>\n",
       "      <td>1.000000</td>\n",
       "      <td>NaN</td>\n",
       "      <td>NaN</td>\n",
       "      <td>2014.000000</td>\n",
       "      <td>NaN</td>\n",
       "      <td>NaN</td>\n",
       "      <td>NaN</td>\n",
       "      <td>1.000000</td>\n",
       "      <td>...</td>\n",
       "      <td>NaN</td>\n",
       "      <td>37.000000</td>\n",
       "      <td>NaN</td>\n",
       "      <td>NaN</td>\n",
       "      <td>NaN</td>\n",
       "      <td>NaN</td>\n",
       "      <td>NaN</td>\n",
       "      <td>1134.000000</td>\n",
       "      <td>14.000000</td>\n",
       "      <td>4.000000</td>\n",
       "    </tr>\n",
       "    <tr>\n",
       "      <th>75%</th>\n",
       "      <td>NaN</td>\n",
       "      <td>NaN</td>\n",
       "      <td>2.000000</td>\n",
       "      <td>NaN</td>\n",
       "      <td>NaN</td>\n",
       "      <td>2018.000000</td>\n",
       "      <td>NaN</td>\n",
       "      <td>NaN</td>\n",
       "      <td>NaN</td>\n",
       "      <td>1.000000</td>\n",
       "      <td>...</td>\n",
       "      <td>NaN</td>\n",
       "      <td>51.000000</td>\n",
       "      <td>NaN</td>\n",
       "      <td>NaN</td>\n",
       "      <td>NaN</td>\n",
       "      <td>NaN</td>\n",
       "      <td>NaN</td>\n",
       "      <td>1814.000000</td>\n",
       "      <td>17.000000</td>\n",
       "      <td>6.000000</td>\n",
       "    </tr>\n",
       "    <tr>\n",
       "      <th>max</th>\n",
       "      <td>NaN</td>\n",
       "      <td>NaN</td>\n",
       "      <td>46.000000</td>\n",
       "      <td>NaN</td>\n",
       "      <td>NaN</td>\n",
       "      <td>9999.000000</td>\n",
       "      <td>NaN</td>\n",
       "      <td>NaN</td>\n",
       "      <td>NaN</td>\n",
       "      <td>47.000000</td>\n",
       "      <td>...</td>\n",
       "      <td>NaN</td>\n",
       "      <td>110.000000</td>\n",
       "      <td>NaN</td>\n",
       "      <td>NaN</td>\n",
       "      <td>NaN</td>\n",
       "      <td>NaN</td>\n",
       "      <td>NaN</td>\n",
       "      <td>6100.000000</td>\n",
       "      <td>23.000000</td>\n",
       "      <td>7.000000</td>\n",
       "    </tr>\n",
       "  </tbody>\n",
       "</table>\n",
       "<p>13 rows × 21 columns</p>\n",
       "</div>"
      ],
      "text/plain": [
       "                 CRASH_DATE UNIT_TYPE  NUM_PASSENGERS     MAKE  \\\n",
       "count                523717    523708    84450.000000   523496   \n",
       "unique               204665         5             NaN      628   \n",
       "top     2022-02-17 15:30:00    DRIVER             NaN  UNKNOWN   \n",
       "freq                     37    523684             NaN    61453   \n",
       "first   2021-01-01 00:00:00       NaN             NaN      NaN   \n",
       "last    2023-11-09 02:40:00       NaN             NaN      NaN   \n",
       "mean                    NaN       NaN        1.456945      NaN   \n",
       "std                     NaN       NaN        0.995520      NaN   \n",
       "min                     NaN       NaN        1.000000      NaN   \n",
       "25%                     NaN       NaN        1.000000      NaN   \n",
       "50%                     NaN       NaN        1.000000      NaN   \n",
       "75%                     NaN       NaN        2.000000      NaN   \n",
       "max                     NaN       NaN       46.000000      NaN   \n",
       "\n",
       "                               MODEL   VEHICLE_YEAR VEHICLE_DEFECT  \\\n",
       "count                         523496  428682.000000         523496   \n",
       "unique                          1694            NaN             17   \n",
       "top     OTHER (EXPLAIN IN NARRATIVE)            NaN        UNKNOWN   \n",
       "freq                           98351            NaN         272814   \n",
       "first                            NaN            NaN            NaN   \n",
       "last                             NaN            NaN            NaN   \n",
       "mean                             NaN    2014.883128            NaN   \n",
       "std                              NaN     118.634721            NaN   \n",
       "min                              NaN    1900.000000            NaN   \n",
       "25%                              NaN    2009.000000            NaN   \n",
       "50%                              NaN    2014.000000            NaN   \n",
       "75%                              NaN    2018.000000            NaN   \n",
       "max                              NaN    9999.000000            NaN   \n",
       "\n",
       "       VEHICLE_TYPE VEHICLE_USE   OCCUPANT_CNT  ...     SEX            AGE  \\\n",
       "count        523496      523496  523496.000000  ...  523717  371575.000000   \n",
       "unique           21          23            NaN  ...       3            NaN   \n",
       "top       PASSENGER    PERSONAL            NaN  ...       M            NaN   \n",
       "freq         322655      351807            NaN  ...  275960            NaN   \n",
       "first           NaN         NaN            NaN  ...     NaN            NaN   \n",
       "last            NaN         NaN            NaN  ...     NaN            NaN   \n",
       "mean            NaN         NaN       1.234516  ...     NaN      39.925474   \n",
       "std             NaN         NaN       0.667260  ...     NaN      15.843725   \n",
       "min             NaN         NaN       0.000000  ...     NaN       0.000000   \n",
       "25%             NaN         NaN       1.000000  ...     NaN      27.000000   \n",
       "50%             NaN         NaN       1.000000  ...     NaN      37.000000   \n",
       "75%             NaN         NaN       1.000000  ...     NaN      51.000000   \n",
       "max             NaN         NaN      47.000000  ...     NaN     110.000000   \n",
       "\n",
       "        DRIVERS_LICENSE_STATE DRIVERS_LICENSE_CLASS       DAMAGE  \\\n",
       "count                  384260                302924       523717   \n",
       "unique                    174                   176            3   \n",
       "top                        IL                     D  OVER $1,500   \n",
       "freq                   350874                267251       360020   \n",
       "first                     NaN                   NaN          NaN   \n",
       "last                      NaN                   NaN          NaN   \n",
       "mean                      NaN                   NaN          NaN   \n",
       "std                       NaN                   NaN          NaN   \n",
       "min                       NaN                   NaN          NaN   \n",
       "25%                       NaN                   NaN          NaN   \n",
       "50%                       NaN                   NaN          NaN   \n",
       "75%                       NaN                   NaN          NaN   \n",
       "max                       NaN                   NaN          NaN   \n",
       "\n",
       "       PRIM_CONTRIBUTORY_CAUSE SEC_CONTRIBUTORY_CAUSE BEAT_OF_OCCURRENCE  \\\n",
       "count                   523717                 523717      523717.000000   \n",
       "unique                      38                     38                NaN   \n",
       "top        UNABLE TO DETERMINE         NOT APPLICABLE                NaN   \n",
       "freq                    202712                 214936                NaN   \n",
       "first                      NaN                    NaN                NaN   \n",
       "last                       NaN                    NaN                NaN   \n",
       "mean                       NaN                    NaN        1239.549677   \n",
       "std                        NaN                    NaN         701.016896   \n",
       "min                        NaN                    NaN         111.000000   \n",
       "25%                        NaN                    NaN         715.000000   \n",
       "50%                        NaN                    NaN        1134.000000   \n",
       "75%                        NaN                    NaN        1814.000000   \n",
       "max                        NaN                    NaN        6100.000000   \n",
       "\n",
       "           CRASH_HOUR  CRASH_DAY_OF_WEEK  \n",
       "count   523717.000000      523717.000000  \n",
       "unique            NaN                NaN  \n",
       "top               NaN                NaN  \n",
       "freq              NaN                NaN  \n",
       "first             NaN                NaN  \n",
       "last              NaN                NaN  \n",
       "mean        13.360557           4.137664  \n",
       "std          5.512825           1.982557  \n",
       "min          0.000000           1.000000  \n",
       "25%         10.000000           2.000000  \n",
       "50%         14.000000           4.000000  \n",
       "75%         17.000000           6.000000  \n",
       "max         23.000000           7.000000  \n",
       "\n",
       "[13 rows x 21 columns]"
      ]
     },
     "execution_count": 43,
     "metadata": {},
     "output_type": "execute_result"
    }
   ],
   "source": [
    "# Check out the rest of the variables for wierdness\n",
    "\n",
    "df.describe(include=\"all\")"
   ]
  },
  {
   "cell_type": "markdown",
   "metadata": {},
   "source": [
    "Look at VEHICLE_YEAR because max is 9999."
   ]
  },
  {
   "cell_type": "code",
   "execution_count": 44,
   "metadata": {},
   "outputs": [
    {
     "data": {
      "text/plain": [
       "308"
      ]
     },
     "execution_count": 44,
     "metadata": {},
     "output_type": "execute_result"
    }
   ],
   "source": [
    "# First we'll see how many vehicles have vehicle years that are not possible\n",
    "\n",
    "future_cars = df[df[\"VEHICLE_YEAR\"] > 2024]\n",
    "future_cars[\"VEHICLE_YEAR\"].count()"
   ]
  },
  {
   "cell_type": "code",
   "execution_count": 45,
   "metadata": {},
   "outputs": [
    {
     "data": {
      "text/html": [
       "<div>\n",
       "<style scoped>\n",
       "    .dataframe tbody tr th:only-of-type {\n",
       "        vertical-align: middle;\n",
       "    }\n",
       "\n",
       "    .dataframe tbody tr th {\n",
       "        vertical-align: top;\n",
       "    }\n",
       "\n",
       "    .dataframe thead th {\n",
       "        text-align: right;\n",
       "    }\n",
       "</style>\n",
       "<table border=\"1\" class=\"dataframe\">\n",
       "  <thead>\n",
       "    <tr style=\"text-align: right;\">\n",
       "      <th></th>\n",
       "      <th>CRASH_DATE</th>\n",
       "      <th>UNIT_TYPE</th>\n",
       "      <th>NUM_PASSENGERS</th>\n",
       "      <th>MAKE</th>\n",
       "      <th>MODEL</th>\n",
       "      <th>VEHICLE_YEAR</th>\n",
       "      <th>VEHICLE_DEFECT</th>\n",
       "      <th>VEHICLE_TYPE</th>\n",
       "      <th>VEHICLE_USE</th>\n",
       "      <th>OCCUPANT_CNT</th>\n",
       "      <th>...</th>\n",
       "      <th>SEX</th>\n",
       "      <th>AGE</th>\n",
       "      <th>DRIVERS_LICENSE_STATE</th>\n",
       "      <th>DRIVERS_LICENSE_CLASS</th>\n",
       "      <th>DAMAGE</th>\n",
       "      <th>PRIM_CONTRIBUTORY_CAUSE</th>\n",
       "      <th>SEC_CONTRIBUTORY_CAUSE</th>\n",
       "      <th>BEAT_OF_OCCURRENCE</th>\n",
       "      <th>CRASH_HOUR</th>\n",
       "      <th>CRASH_DAY_OF_WEEK</th>\n",
       "    </tr>\n",
       "  </thead>\n",
       "  <tbody>\n",
       "    <tr>\n",
       "      <th>773</th>\n",
       "      <td>2023-04-24 14:13:00</td>\n",
       "      <td>DRIVER</td>\n",
       "      <td>NaN</td>\n",
       "      <td>ACURA</td>\n",
       "      <td>ILX</td>\n",
       "      <td>2032.0</td>\n",
       "      <td>UNKNOWN</td>\n",
       "      <td>PASSENGER</td>\n",
       "      <td>PERSONAL</td>\n",
       "      <td>1.0</td>\n",
       "      <td>...</td>\n",
       "      <td>F</td>\n",
       "      <td>46.0</td>\n",
       "      <td>NaN</td>\n",
       "      <td>D</td>\n",
       "      <td>OVER $1,500</td>\n",
       "      <td>IMPROPER TURNING/NO SIGNAL</td>\n",
       "      <td>NOT APPLICABLE</td>\n",
       "      <td>123.0</td>\n",
       "      <td>14</td>\n",
       "      <td>2</td>\n",
       "    </tr>\n",
       "    <tr>\n",
       "      <th>1823</th>\n",
       "      <td>2023-08-18 16:00:00</td>\n",
       "      <td>DRIVER</td>\n",
       "      <td>NaN</td>\n",
       "      <td>HONDA</td>\n",
       "      <td>HR-V</td>\n",
       "      <td>2108.0</td>\n",
       "      <td>NONE</td>\n",
       "      <td>SPORT UTILITY VEHICLE (SUV)</td>\n",
       "      <td>PERSONAL</td>\n",
       "      <td>1.0</td>\n",
       "      <td>...</td>\n",
       "      <td>F</td>\n",
       "      <td>41.0</td>\n",
       "      <td>NaN</td>\n",
       "      <td>NaN</td>\n",
       "      <td>$501 - $1,500</td>\n",
       "      <td>NOT APPLICABLE</td>\n",
       "      <td>NOT APPLICABLE</td>\n",
       "      <td>922.0</td>\n",
       "      <td>16</td>\n",
       "      <td>6</td>\n",
       "    </tr>\n",
       "    <tr>\n",
       "      <th>4078</th>\n",
       "      <td>2023-04-26 21:05:00</td>\n",
       "      <td>DRIVER</td>\n",
       "      <td>NaN</td>\n",
       "      <td>UNKNOWN</td>\n",
       "      <td>OTHER (EXPLAIN IN NARRATIVE)</td>\n",
       "      <td>9999.0</td>\n",
       "      <td>UNKNOWN</td>\n",
       "      <td>OTHER</td>\n",
       "      <td>UNKNOWN/NA</td>\n",
       "      <td>1.0</td>\n",
       "      <td>...</td>\n",
       "      <td>X</td>\n",
       "      <td>NaN</td>\n",
       "      <td>NaN</td>\n",
       "      <td>NaN</td>\n",
       "      <td>$500 OR LESS</td>\n",
       "      <td>UNABLE TO DETERMINE</td>\n",
       "      <td>UNABLE TO DETERMINE</td>\n",
       "      <td>2212.0</td>\n",
       "      <td>21</td>\n",
       "      <td>4</td>\n",
       "    </tr>\n",
       "    <tr>\n",
       "      <th>5209</th>\n",
       "      <td>2023-04-27 10:00:00</td>\n",
       "      <td>DRIVER</td>\n",
       "      <td>NaN</td>\n",
       "      <td>NISSAN</td>\n",
       "      <td>ROGUE</td>\n",
       "      <td>2212.0</td>\n",
       "      <td>NONE</td>\n",
       "      <td>PASSENGER</td>\n",
       "      <td>PERSONAL</td>\n",
       "      <td>1.0</td>\n",
       "      <td>...</td>\n",
       "      <td>M</td>\n",
       "      <td>NaN</td>\n",
       "      <td>IL</td>\n",
       "      <td>D</td>\n",
       "      <td>OVER $1,500</td>\n",
       "      <td>UNABLE TO DETERMINE</td>\n",
       "      <td>NOT APPLICABLE</td>\n",
       "      <td>1632.0</td>\n",
       "      <td>10</td>\n",
       "      <td>5</td>\n",
       "    </tr>\n",
       "    <tr>\n",
       "      <th>8326</th>\n",
       "      <td>2023-08-20 02:00:00</td>\n",
       "      <td>DRIVER</td>\n",
       "      <td>NaN</td>\n",
       "      <td>UNKNOWN</td>\n",
       "      <td>MOTORIZED</td>\n",
       "      <td>9999.0</td>\n",
       "      <td>UNKNOWN</td>\n",
       "      <td>UNKNOWN/NA</td>\n",
       "      <td>UNKNOWN/NA</td>\n",
       "      <td>1.0</td>\n",
       "      <td>...</td>\n",
       "      <td>X</td>\n",
       "      <td>NaN</td>\n",
       "      <td>NaN</td>\n",
       "      <td>NaN</td>\n",
       "      <td>OVER $1,500</td>\n",
       "      <td>UNABLE TO DETERMINE</td>\n",
       "      <td>NOT APPLICABLE</td>\n",
       "      <td>1811.0</td>\n",
       "      <td>2</td>\n",
       "      <td>1</td>\n",
       "    </tr>\n",
       "  </tbody>\n",
       "</table>\n",
       "<p>5 rows × 21 columns</p>\n",
       "</div>"
      ],
      "text/plain": [
       "              CRASH_DATE UNIT_TYPE  NUM_PASSENGERS     MAKE  \\\n",
       "773  2023-04-24 14:13:00    DRIVER             NaN    ACURA   \n",
       "1823 2023-08-18 16:00:00    DRIVER             NaN    HONDA   \n",
       "4078 2023-04-26 21:05:00    DRIVER             NaN  UNKNOWN   \n",
       "5209 2023-04-27 10:00:00    DRIVER             NaN   NISSAN   \n",
       "8326 2023-08-20 02:00:00    DRIVER             NaN  UNKNOWN   \n",
       "\n",
       "                             MODEL  VEHICLE_YEAR VEHICLE_DEFECT  \\\n",
       "773                            ILX        2032.0        UNKNOWN   \n",
       "1823                          HR-V        2108.0           NONE   \n",
       "4078  OTHER (EXPLAIN IN NARRATIVE)        9999.0        UNKNOWN   \n",
       "5209                         ROGUE        2212.0           NONE   \n",
       "8326                     MOTORIZED        9999.0        UNKNOWN   \n",
       "\n",
       "                     VEHICLE_TYPE VEHICLE_USE  OCCUPANT_CNT  ... SEX   AGE  \\\n",
       "773                     PASSENGER    PERSONAL           1.0  ...   F  46.0   \n",
       "1823  SPORT UTILITY VEHICLE (SUV)    PERSONAL           1.0  ...   F  41.0   \n",
       "4078                        OTHER  UNKNOWN/NA           1.0  ...   X   NaN   \n",
       "5209                    PASSENGER    PERSONAL           1.0  ...   M   NaN   \n",
       "8326                   UNKNOWN/NA  UNKNOWN/NA           1.0  ...   X   NaN   \n",
       "\n",
       "      DRIVERS_LICENSE_STATE DRIVERS_LICENSE_CLASS         DAMAGE  \\\n",
       "773                     NaN                     D    OVER $1,500   \n",
       "1823                    NaN                   NaN  $501 - $1,500   \n",
       "4078                    NaN                   NaN   $500 OR LESS   \n",
       "5209                     IL                     D    OVER $1,500   \n",
       "8326                    NaN                   NaN    OVER $1,500   \n",
       "\n",
       "         PRIM_CONTRIBUTORY_CAUSE SEC_CONTRIBUTORY_CAUSE BEAT_OF_OCCURRENCE  \\\n",
       "773   IMPROPER TURNING/NO SIGNAL         NOT APPLICABLE              123.0   \n",
       "1823              NOT APPLICABLE         NOT APPLICABLE              922.0   \n",
       "4078         UNABLE TO DETERMINE    UNABLE TO DETERMINE             2212.0   \n",
       "5209         UNABLE TO DETERMINE         NOT APPLICABLE             1632.0   \n",
       "8326         UNABLE TO DETERMINE         NOT APPLICABLE             1811.0   \n",
       "\n",
       "      CRASH_HOUR  CRASH_DAY_OF_WEEK  \n",
       "773           14                  2  \n",
       "1823          16                  6  \n",
       "4078          21                  4  \n",
       "5209          10                  5  \n",
       "8326           2                  1  \n",
       "\n",
       "[5 rows x 21 columns]"
      ]
     },
     "execution_count": 45,
     "metadata": {},
     "output_type": "execute_result"
    }
   ],
   "source": [
    "# See if anything else is apparent about these rows\n",
    "\n",
    "future_cars.head()"
   ]
  },
  {
   "cell_type": "code",
   "execution_count": 46,
   "metadata": {},
   "outputs": [
    {
     "data": {
      "text/plain": [
       "0.05881038805308974"
      ]
     },
     "execution_count": 46,
     "metadata": {},
     "output_type": "execute_result"
    }
   ],
   "source": [
    "# Percent of rows with future VEHICLE_YEARS\n",
    "\n",
    "len(future_cars)/len(df)*100"
   ]
  },
  {
   "cell_type": "code",
   "execution_count": 47,
   "metadata": {},
   "outputs": [],
   "source": [
    "# Nothing seems apparently off about these vehicles, \n",
    "# but as they are such a small percentage we will drop them out\n",
    "\n",
    "df = df[df[\"VEHICLE_YEAR\"] <= 2024]"
   ]
  },
  {
   "cell_type": "code",
   "execution_count": 48,
   "metadata": {},
   "outputs": [
    {
     "data": {
      "text/plain": [
       "1900.0      136\n",
       "1901.0       16\n",
       "1902.0        1\n",
       "1929.0        1\n",
       "1939.0        1\n",
       "          ...  \n",
       "2020.0    24966\n",
       "2021.0    19736\n",
       "2022.0    11825\n",
       "2023.0     4988\n",
       "2024.0      334\n",
       "Name: VEHICLE_YEAR, Length: 72, dtype: int64"
      ]
     },
     "execution_count": 48,
     "metadata": {},
     "output_type": "execute_result"
    }
   ],
   "source": [
    "# Looking at the first years now\n",
    "\n",
    "df[\"VEHICLE_YEAR\"].value_counts().sort_index()"
   ]
  },
  {
   "cell_type": "code",
   "execution_count": 49,
   "metadata": {},
   "outputs": [
    {
     "data": {
      "image/png": "[encoded data removed]",
      "text/plain": [
       "<Figure size 432x288 with 1 Axes>"
      ]
     },
     "metadata": {
      "needs_background": "light"
     },
     "output_type": "display_data"
    }
   ],
   "source": [
    "sns.histplot(df[\"VEHICLE_YEAR\"]);"
   ]
  },
  {
   "cell_type": "markdown",
   "metadata": {},
   "source": [
    "Looking at the rest of the columns."
   ]
  },
  {
   "cell_type": "code",
   "execution_count": 50,
   "metadata": {},
   "outputs": [
    {
     "data": {
      "text/plain": [
       "PASSENGER                                 290815\n",
       "SPORT UTILITY VEHICLE (SUV)                69041\n",
       "VAN/MINI-VAN                               18805\n",
       "PICKUP                                     15608\n",
       "UNKNOWN/NA                                 11671\n",
       "TRUCK - SINGLE UNIT                         6775\n",
       "OTHER                                       4638\n",
       "BUS OVER 15 PASS.                           4313\n",
       "TRACTOR W/ SEMI-TRAILER                     2183\n",
       "BUS UP TO 15 PASS.                          1629\n",
       "MOTORCYCLE (OVER 150CC)                     1165\n",
       "SINGLE UNIT TRUCK WITH TRAILER               631\n",
       "OTHER VEHICLE WITH TRAILER                   525\n",
       "TRACTOR W/O SEMI-TRAILER                     331\n",
       "MOPED OR MOTORIZED BICYCLE                   153\n",
       "AUTOCYCLE                                     29\n",
       "3-WHEELED MOTORCYCLE (2 REAR WHEELS)          23\n",
       "ALL-TERRAIN VEHICLE (ATV)                     22\n",
       "FARM EQUIPMENT                                14\n",
       "RECREATIONAL OFF-HIGHWAY VEHICLE (ROV)         3\n",
       "Name: VEHICLE_TYPE, dtype: int64"
      ]
     },
     "execution_count": 50,
     "metadata": {},
     "output_type": "execute_result"
    }
   ],
   "source": [
    "df[\"VEHICLE_TYPE\"].value_counts()"
   ]
  },
  {
   "cell_type": "markdown",
   "metadata": {},
   "source": [
    "We're not interested in all these vehicle types, so we will remove everything that is explicitly not a passenger vehicle."
   ]
  },
  {
   "cell_type": "code",
   "execution_count": 51,
   "metadata": {},
   "outputs": [],
   "source": [
    "keep_vehicle = [\"PASSENGER\", \"PICKUP\", \"SINGLE UNIT TRUCK WITH TRAILER\", \n",
    "                \"SPORT UTILITY VEHICLE (SUV)\", \"TRUCK - SINGLE UNIT\", \n",
    "                \"UNKNOWN/NA\", \"VAN/MINI-VAN\"]"
   ]
  },
  {
   "cell_type": "code",
   "execution_count": 52,
   "metadata": {},
   "outputs": [],
   "source": [
    "df = df[df[\"VEHICLE_TYPE\"].isin(keep_vehicle)]"
   ]
  },
  {
   "cell_type": "code",
   "execution_count": 53,
   "metadata": {},
   "outputs": [
    {
     "data": {
      "text/plain": [
       "PASSENGER                         290815\n",
       "SPORT UTILITY VEHICLE (SUV)        69041\n",
       "VAN/MINI-VAN                       18805\n",
       "PICKUP                             15608\n",
       "UNKNOWN/NA                         11671\n",
       "TRUCK - SINGLE UNIT                 6775\n",
       "SINGLE UNIT TRUCK WITH TRAILER       631\n",
       "Name: VEHICLE_TYPE, dtype: int64"
      ]
     },
     "execution_count": 53,
     "metadata": {},
     "output_type": "execute_result"
    }
   ],
   "source": [
    "# Sanity check\n",
    "\n",
    "df[\"VEHICLE_TYPE\"].value_counts()"
   ]
  },
  {
   "cell_type": "code",
   "execution_count": 54,
   "metadata": {},
   "outputs": [
    {
     "data": {
      "image/png": "[encoded data removed]",
      "text/plain": [
       "<Figure size 432x288 with 1 Axes>"
      ]
     },
     "metadata": {
      "needs_background": "light"
     },
     "output_type": "display_data"
    }
   ],
   "source": [
    "sns.histplot(df[\"VEHICLE_TYPE\"]);"
   ]
  },
  {
   "cell_type": "markdown",
   "metadata": {},
   "source": [
    "It seems too lopsided to use in model, but it was useful to filter out Vehicle Types that do not fit the business problem. "
   ]
  },
  {
   "cell_type": "code",
   "execution_count": 55,
   "metadata": {},
   "outputs": [
    {
     "data": {
      "text/plain": [
       "PERSONAL                        326549\n",
       "UNKNOWN/NA                       59520\n",
       "OTHER                            10260\n",
       "RIDESHARE SERVICE                 3464\n",
       "TAXI/FOR HIRE                     3006\n",
       "POLICE                            2620\n",
       "COMMERCIAL - SINGLE UNIT          2473\n",
       "NOT IN USE                        1941\n",
       "CONSTRUCTION/MAINTENANCE          1454\n",
       "TOW TRUCK                          417\n",
       "DRIVER EDUCATION                   372\n",
       "STATE OWNED                        277\n",
       "COMMERCIAL - MULTI-UNIT            273\n",
       "AMBULANCE                          194\n",
       "FIRE                               154\n",
       "CTA                                152\n",
       "LAWN CARE/LANDSCAPING              114\n",
       "SCHOOL BUS                          46\n",
       "AGRICULTURE                         29\n",
       "CAMPER/RV - SINGLE UNIT             16\n",
       "MILITARY                            10\n",
       "HOUSE TRAILER                        4\n",
       "CAMPER/RV - TOWED/MULTI-UNIT         1\n",
       "Name: VEHICLE_USE, dtype: int64"
      ]
     },
     "execution_count": 55,
     "metadata": {},
     "output_type": "execute_result"
    }
   ],
   "source": [
    "df[\"VEHICLE_USE\"].value_counts(dropna=False)"
   ]
  },
  {
   "cell_type": "markdown",
   "metadata": {},
   "source": [
    "We only want personal vehicles, so we will remove the rest."
   ]
  },
  {
   "cell_type": "code",
   "execution_count": 56,
   "metadata": {},
   "outputs": [],
   "source": [
    "df = df[df[\"VEHICLE_USE\"]==\"PERSONAL\"]"
   ]
  },
  {
   "cell_type": "code",
   "execution_count": 57,
   "metadata": {},
   "outputs": [
    {
     "data": {
      "text/plain": [
       "2021-02-04 14:00:00    24\n",
       "2022-02-17 15:30:00    21\n",
       "2021-02-04 13:30:00    20\n",
       "2021-11-19 15:30:00    20\n",
       "2021-12-10 16:00:00    20\n",
       "                       ..\n",
       "2021-09-29 10:43:00     1\n",
       "2022-11-27 23:32:00     1\n",
       "2021-01-28 22:15:00     1\n",
       "2022-05-31 09:50:00     1\n",
       "2023-03-12 04:00:00     1\n",
       "Name: CRASH_DATE, Length: 162040, dtype: int64"
      ]
     },
     "execution_count": 57,
     "metadata": {},
     "output_type": "execute_result"
    }
   ],
   "source": [
    "df[\"CRASH_DATE\"].value_counts(dropna=False)"
   ]
  },
  {
   "cell_type": "markdown",
   "metadata": {},
   "source": [
    "We are not doing a time analysis, so this will not be used in our model. "
   ]
  },
  {
   "cell_type": "code",
   "execution_count": 58,
   "metadata": {},
   "outputs": [
    {
     "data": {
      "text/plain": [
       "DRIVER    326549\n",
       "Name: UNIT_TYPE, dtype: int64"
      ]
     },
     "execution_count": 58,
     "metadata": {},
     "output_type": "execute_result"
    }
   ],
   "source": [
    "df[\"UNIT_TYPE\"].value_counts(dropna=False)"
   ]
  },
  {
   "cell_type": "markdown",
   "metadata": {},
   "source": [
    "This corresponds to PERSON_TYPE. We will not use either in our model as it was used to filter the data."
   ]
  },
  {
   "cell_type": "code",
   "execution_count": 59,
   "metadata": {},
   "outputs": [
    {
     "data": {
      "text/plain": [
       "TOYOTA                                                    42173\n",
       "CHEVROLET                                                 41785\n",
       "NISSAN                                                    31144\n",
       "HONDA                                                     30588\n",
       "FORD                                                      29433\n",
       "                                                          ...  \n",
       "TRIUMPH                                                       1\n",
       "CHRYSLER CORPORATION - MARINE DIVISION                        1\n",
       "TRUCK & TRAILER EQUIPMENT COMPANY (\"EMJAY\" TRAILERS)          1\n",
       "NOVA BUS                                                      1\n",
       "MACK TRAILER MANUFACTURING COMPANY, INC. (DETRIOT, MI)        1\n",
       "Name: MAKE, Length: 180, dtype: int64"
      ]
     },
     "execution_count": 59,
     "metadata": {},
     "output_type": "execute_result"
    }
   ],
   "source": [
    "df[\"MAKE\"].value_counts(dropna=False)"
   ]
  },
  {
   "cell_type": "markdown",
   "metadata": {},
   "source": [
    "This could be useful in our model. We will probably filter for top makes if we do use it."
   ]
  },
  {
   "cell_type": "code",
   "execution_count": 60,
   "metadata": {},
   "outputs": [
    {
     "data": {
      "text/plain": [
       "OTHER (EXPLAIN IN NARRATIVE)                       25347\n",
       "CAMRY                                              11200\n",
       "COROLLA                                             8330\n",
       "CIVIC                                               7963\n",
       "ALTIMA                                              7799\n",
       "                                                   ...  \n",
       "62 SERIES                                              1\n",
       "BEL AIR                                                1\n",
       "INTRAPID TRAILER                                       1\n",
       "TRUCK & TRAILER EQUIPMENT CO.(\"EMJAY\" TRAILERS)        1\n",
       "WAYFARER                                               1\n",
       "Name: MODEL, Length: 1182, dtype: int64"
      ]
     },
     "execution_count": 60,
     "metadata": {},
     "output_type": "execute_result"
    }
   ],
   "source": [
    "df[\"MODEL\"].value_counts(dropna=False)"
   ]
  },
  {
   "cell_type": "markdown",
   "metadata": {},
   "source": [
    "This could be useful. We may use it with MAKE and determine after filtering for top makes. Will need to avoid multicollinearity."
   ]
  },
  {
   "cell_type": "code",
   "execution_count": 61,
   "metadata": {},
   "outputs": [
    {
     "data": {
      "text/plain": [
       "NONE                195277\n",
       "UNKNOWN             127516\n",
       "OTHER                 1485\n",
       "BRAKES                1365\n",
       "TIRES                  268\n",
       "STEERING               254\n",
       "WHEELS                 131\n",
       "SUSPENSION              93\n",
       "ENGINE/MOTOR            64\n",
       "FUEL SYSTEM             39\n",
       "WINDOWS                 19\n",
       "LIGHTS                  15\n",
       "SIGNALS                  9\n",
       "CARGO                    7\n",
       "EXHAUST                  3\n",
       "TRAILER COUPLING         2\n",
       "RESTRAINT SYSTEM         2\n",
       "Name: VEHICLE_DEFECT, dtype: int64"
      ]
     },
     "execution_count": 61,
     "metadata": {},
     "output_type": "execute_result"
    }
   ],
   "source": [
    "df[\"VEHICLE_DEFECT\"].value_counts(dropna=False)"
   ]
  },
  {
   "cell_type": "markdown",
   "metadata": {},
   "source": [
    "Lot of UNKNOWN. Possibly useful, but even if we bin between NONE and all other variables the data would still be lopsided. Will not use in model."
   ]
  },
  {
   "cell_type": "code",
   "execution_count": 62,
   "metadata": {},
   "outputs": [
    {
     "data": {
      "text/plain": [
       "1.0     0.807726\n",
       "2.0     0.136200\n",
       "3.0     0.035894\n",
       "4.0     0.013958\n",
       "5.0     0.004587\n",
       "6.0     0.001106\n",
       "7.0     0.000401\n",
       "8.0     0.000089\n",
       "9.0     0.000021\n",
       "0.0     0.000012\n",
       "10.0    0.000003\n",
       "11.0    0.000003\n",
       "Name: OCCUPANT_CNT, dtype: float64"
      ]
     },
     "execution_count": 62,
     "metadata": {},
     "output_type": "execute_result"
    }
   ],
   "source": [
    "df[\"OCCUPANT_CNT\"].value_counts(dropna=False, normalize=True)"
   ]
  },
  {
   "cell_type": "code",
   "execution_count": 63,
   "metadata": {},
   "outputs": [
    {
     "data": {
      "image/png": "[encoded data removed]",
      "text/plain": [
       "<Figure size 432x288 with 1 Axes>"
      ]
     },
     "metadata": {
      "needs_background": "light"
     },
     "output_type": "display_data"
    }
   ],
   "source": [
    "sns.histplot(df[\"OCCUPANT_CNT\"]);"
   ]
  },
  {
   "cell_type": "markdown",
   "metadata": {},
   "source": [
    "Could bin into HAS_PASSENGER but harder to track and implement for stakeholder. Would still be pretty lopsided. "
   ]
  },
  {
   "cell_type": "code",
   "execution_count": 64,
   "metadata": {},
   "outputs": [
    {
     "data": {
      "text/plain": [
       "M    0.554924\n",
       "F    0.430625\n",
       "X    0.014451\n",
       "Name: SEX, dtype: float64"
      ]
     },
     "execution_count": 64,
     "metadata": {},
     "output_type": "execute_result"
    }
   ],
   "source": [
    "df[\"SEX\"].value_counts(dropna=False, normalize=True)"
   ]
  },
  {
   "cell_type": "code",
   "execution_count": 65,
   "metadata": {},
   "outputs": [
    {
     "data": {
      "image/png": "[encoded data removed]",
      "text/plain": [
       "<Figure size 432x288 with 1 Axes>"
      ]
     },
     "metadata": {
      "needs_background": "light"
     },
     "output_type": "display_data"
    }
   ],
   "source": [
    "sns.histplot(df[\"SEX\"]);"
   ]
  },
  {
   "cell_type": "markdown",
   "metadata": {},
   "source": [
    "X is a small percentage and represents an unknown. We may drop later."
   ]
  },
  {
   "cell_type": "code",
   "execution_count": 66,
   "metadata": {},
   "outputs": [
    {
     "data": {
      "text/plain": [
       "IL     271946\n",
       "NaN     34744\n",
       "IN       4760\n",
       "XX       2037\n",
       "WI       1552\n",
       "        ...  \n",
       "AU          1\n",
       "PI          1\n",
       "CQ          1\n",
       "IX          1\n",
       "MW          1\n",
       "Name: DRIVERS_LICENSE_STATE, Length: 166, dtype: int64"
      ]
     },
     "execution_count": 66,
     "metadata": {},
     "output_type": "execute_result"
    }
   ],
   "source": [
    "df[\"DRIVERS_LICENSE_STATE\"].value_counts(dropna=False)"
   ]
  },
  {
   "cell_type": "markdown",
   "metadata": {},
   "source": [
    "Bin for in state and out of state. "
   ]
  },
  {
   "cell_type": "code",
   "execution_count": 67,
   "metadata": {},
   "outputs": [
    {
     "data": {
      "text/plain": [
       "D      0.671951\n",
       "NaN    0.270186\n",
       "C      0.016310\n",
       "A      0.013101\n",
       "DM     0.008235\n",
       "         ...   \n",
       "OJ     0.000003\n",
       "OM     0.000003\n",
       "TL     0.000003\n",
       "PE     0.000003\n",
       "YA     0.000003\n",
       "Name: DRIVERS_LICENSE_CLASS, Length: 150, dtype: float64"
      ]
     },
     "execution_count": 67,
     "metadata": {},
     "output_type": "execute_result"
    }
   ],
   "source": [
    "df[\"DRIVERS_LICENSE_CLASS\"].value_counts(dropna=False, normalize=True)"
   ]
  },
  {
   "cell_type": "markdown",
   "metadata": {},
   "source": [
    "Data is lopsided and contains a fair bit missing."
   ]
  },
  {
   "cell_type": "code",
   "execution_count": 68,
   "metadata": {},
   "outputs": [
    {
     "data": {
      "text/plain": [
       "813.0     0.011563\n",
       "114.0     0.010571\n",
       "815.0     0.010277\n",
       "1834.0    0.010014\n",
       "833.0     0.009827\n",
       "            ...   \n",
       "1653.0    0.000628\n",
       "1655.0    0.000447\n",
       "1652.0    0.000254\n",
       "1650.0    0.000119\n",
       "6100.0    0.000003\n",
       "Name: BEAT_OF_OCCURRENCE, Length: 276, dtype: float64"
      ]
     },
     "execution_count": 68,
     "metadata": {},
     "output_type": "execute_result"
    }
   ],
   "source": [
    "df[\"BEAT_OF_OCCURRENCE\"].value_counts(dropna=False, normalize=True)"
   ]
  },
  {
   "cell_type": "markdown",
   "metadata": {},
   "source": [
    "Data not easily useable by stakeholder. May be useful for future projects."
   ]
  },
  {
   "cell_type": "code",
   "execution_count": 69,
   "metadata": {},
   "outputs": [
    {
     "data": {
      "text/plain": [
       "15    0.086012\n",
       "16    0.084643\n",
       "17    0.080588\n",
       "14    0.069187\n",
       "18    0.064817\n",
       "13    0.061409\n",
       "12    0.057841\n",
       "8     0.052237\n",
       "11    0.049000\n",
       "19    0.046214\n",
       "10    0.042361\n",
       "9     0.041767\n",
       "7     0.041253\n",
       "20    0.037122\n",
       "21    0.032620\n",
       "22    0.028865\n",
       "23    0.025497\n",
       "0     0.018879\n",
       "6     0.018052\n",
       "1     0.016417\n",
       "2     0.014019\n",
       "5     0.011426\n",
       "3     0.010559\n",
       "4     0.009215\n",
       "Name: CRASH_HOUR, dtype: float64"
      ]
     },
     "execution_count": 69,
     "metadata": {},
     "output_type": "execute_result"
    }
   ],
   "source": [
    "df[\"CRASH_HOUR\"].value_counts(dropna=False, normalize=True)"
   ]
  },
  {
   "cell_type": "code",
   "execution_count": 70,
   "metadata": {},
   "outputs": [
    {
     "data": {
      "image/png": "[encoded data removed]",
      "text/plain": [
       "<Figure size 432x288 with 1 Axes>"
      ]
     },
     "metadata": {
      "needs_background": "light"
     },
     "output_type": "display_data"
    }
   ],
   "source": [
    "sns.histplot(df[\"CRASH_HOUR\"]);"
   ]
  },
  {
   "cell_type": "markdown",
   "metadata": {},
   "source": [
    "Bin to times of day."
   ]
  },
  {
   "cell_type": "code",
   "execution_count": 71,
   "metadata": {},
   "outputs": [
    {
     "data": {
      "text/plain": [
       "6    0.166107\n",
       "7    0.150186\n",
       "5    0.145571\n",
       "3    0.140579\n",
       "4    0.140555\n",
       "2    0.131962\n",
       "1    0.125041\n",
       "Name: CRASH_DAY_OF_WEEK, dtype: float64"
      ]
     },
     "execution_count": 71,
     "metadata": {},
     "output_type": "execute_result"
    }
   ],
   "source": [
    "df[\"CRASH_DAY_OF_WEEK\"].value_counts(dropna=False, normalize=True)"
   ]
  },
  {
   "cell_type": "code",
   "execution_count": 72,
   "metadata": {},
   "outputs": [
    {
     "data": {
      "image/png": "[encoded data removed]",
      "text/plain": [
       "<Figure size 432x288 with 1 Axes>"
      ]
     },
     "metadata": {
      "needs_background": "light"
     },
     "output_type": "display_data"
    }
   ],
   "source": [
    "sns.histplot(df[\"CRASH_DAY_OF_WEEK\"]);"
   ]
  },
  {
   "cell_type": "markdown",
   "metadata": {},
   "source": [
    "Bin with CRASH_HOUR for times of day."
   ]
  },
  {
   "cell_type": "code",
   "execution_count": 73,
   "metadata": {},
   "outputs": [
    {
     "data": {
      "text/plain": [
       "UNABLE TO DETERMINE                                                                 106487\n",
       "FAILING TO YIELD RIGHT-OF-WAY                                                        48046\n",
       "FOLLOWING TOO CLOSELY                                                                37565\n",
       "IMPROPER OVERTAKING/PASSING                                                          17666\n",
       "FAILING TO REDUCE SPEED TO AVOID CRASH                                               16721\n",
       "IMPROPER TURNING/NO SIGNAL                                                           13355\n",
       "NOT APPLICABLE                                                                       13207\n",
       "IMPROPER LANE USAGE                                                                  11245\n",
       "DRIVING SKILLS/KNOWLEDGE/EXPERIENCE                                                  11188\n",
       "DISREGARDING TRAFFIC SIGNALS                                                          9944\n",
       "IMPROPER BACKING                                                                      9615\n",
       "WEATHER                                                                               4946\n",
       "DISREGARDING STOP SIGN                                                                4533\n",
       "OPERATING VEHICLE IN ERRATIC, RECKLESS, CARELESS, NEGLIGENT OR AGGRESSIVE MANNER      3420\n",
       "DISTRACTION - FROM INSIDE VEHICLE                                                     2620\n",
       "EQUIPMENT - VEHICLE CONDITION                                                         2263\n",
       "PHYSICAL CONDITION OF DRIVER                                                          2211\n",
       "DRIVING ON WRONG SIDE/WRONG WAY                                                       2181\n",
       "VISION OBSCURED (SIGNS, TREE LIMBS, BUILDINGS, ETC.)                                  2003\n",
       "UNDER THE INFLUENCE OF ALCOHOL/DRUGS (USE WHEN ARREST IS EFFECTED)                    1488\n",
       "DISTRACTION - FROM OUTSIDE VEHICLE                                                    1283\n",
       "DISREGARDING OTHER TRAFFIC SIGNS                                                       824\n",
       "EVASIVE ACTION DUE TO ANIMAL, OBJECT, NONMOTORIST                                      583\n",
       "ROAD CONSTRUCTION/MAINTENANCE                                                          498\n",
       "CELL PHONE USE OTHER THAN TEXTING                                                      487\n",
       "ROAD ENGINEERING/SURFACE/MARKING DEFECTS                                               485\n",
       "TURNING RIGHT ON RED                                                                   322\n",
       "DISREGARDING ROAD MARKINGS                                                             322\n",
       "HAD BEEN DRINKING (USE WHEN ARREST IS NOT MADE)                                        263\n",
       "ANIMAL                                                                                 214\n",
       "DISTRACTION - OTHER ELECTRONIC DEVICE (NAVIGATION DEVICE, DVD PLAYER, ETC.)            177\n",
       "TEXTING                                                                                120\n",
       "DISREGARDING YIELD SIGN                                                                 93\n",
       "RELATED TO BUS STOP                                                                     90\n",
       "OBSTRUCTED CROSSWALKS                                                                   49\n",
       "PASSING STOPPED SCHOOL BUS                                                              21\n",
       "BICYCLE ADVANCING LEGALLY ON RED LIGHT                                                  11\n",
       "MOTORCYCLE ADVANCING LEGALLY ON RED LIGHT                                                3\n",
       "Name: PRIM_CONTRIBUTORY_CAUSE, dtype: int64"
      ]
     },
     "execution_count": 73,
     "metadata": {},
     "output_type": "execute_result"
    }
   ],
   "source": [
    "df[\"PRIM_CONTRIBUTORY_CAUSE\"].value_counts(dropna=False)"
   ]
  },
  {
   "cell_type": "markdown",
   "metadata": {},
   "source": [
    "The only possibly useful data point is what can be known demographically before a crash. So DRIVING SKILLS/KNOWLEDGE/EXPERIENCE should be made into a flag."
   ]
  },
  {
   "cell_type": "code",
   "execution_count": 74,
   "metadata": {},
   "outputs": [
    {
     "data": {
      "text/plain": [
       "NOT APPLICABLE                                                                      131381\n",
       "UNABLE TO DETERMINE                                                                 110350\n",
       "FAILING TO YIELD RIGHT-OF-WAY                                                        14184\n",
       "FAILING TO REDUCE SPEED TO AVOID CRASH                                               13610\n",
       "DRIVING SKILLS/KNOWLEDGE/EXPERIENCE                                                  11087\n",
       "FOLLOWING TOO CLOSELY                                                                10854\n",
       "IMPROPER OVERTAKING/PASSING                                                           5666\n",
       "IMPROPER LANE USAGE                                                                   4878\n",
       "IMPROPER TURNING/NO SIGNAL                                                            4524\n",
       "WEATHER                                                                               3997\n",
       "IMPROPER BACKING                                                                      2019\n",
       "DISREGARDING TRAFFIC SIGNALS                                                          2010\n",
       "OPERATING VEHICLE IN ERRATIC, RECKLESS, CARELESS, NEGLIGENT OR AGGRESSIVE MANNER      1769\n",
       "DISREGARDING STOP SIGN                                                                1196\n",
       "DISTRACTION - FROM INSIDE VEHICLE                                                     1185\n",
       "VISION OBSCURED (SIGNS, TREE LIMBS, BUILDINGS, ETC.)                                  1167\n",
       "PHYSICAL CONDITION OF DRIVER                                                          1120\n",
       "DRIVING ON WRONG SIDE/WRONG WAY                                                        887\n",
       "EQUIPMENT - VEHICLE CONDITION                                                          770\n",
       "UNDER THE INFLUENCE OF ALCOHOL/DRUGS (USE WHEN ARREST IS EFFECTED)                     621\n",
       "DISTRACTION - FROM OUTSIDE VEHICLE                                                     532\n",
       "DISREGARDING OTHER TRAFFIC SIGNS                                                       366\n",
       "DISREGARDING ROAD MARKINGS                                                             336\n",
       "HAD BEEN DRINKING (USE WHEN ARREST IS NOT MADE)                                        314\n",
       "ROAD CONSTRUCTION/MAINTENANCE                                                          307\n",
       "CELL PHONE USE OTHER THAN TEXTING                                                      268\n",
       "ROAD ENGINEERING/SURFACE/MARKING DEFECTS                                               250\n",
       "EVASIVE ACTION DUE TO ANIMAL, OBJECT, NONMOTORIST                                      185\n",
       "TURNING RIGHT ON RED                                                                   153\n",
       "ANIMAL                                                                                 132\n",
       "RELATED TO BUS STOP                                                                    132\n",
       "DISTRACTION - OTHER ELECTRONIC DEVICE (NAVIGATION DEVICE, DVD PLAYER, ETC.)             95\n",
       "DISREGARDING YIELD SIGN                                                                 82\n",
       "TEXTING                                                                                 59\n",
       "OBSTRUCTED CROSSWALKS                                                                   28\n",
       "PASSING STOPPED SCHOOL BUS                                                              21\n",
       "BICYCLE ADVANCING LEGALLY ON RED LIGHT                                                  12\n",
       "MOTORCYCLE ADVANCING LEGALLY ON RED LIGHT                                                2\n",
       "Name: SEC_CONTRIBUTORY_CAUSE, dtype: int64"
      ]
     },
     "execution_count": 74,
     "metadata": {},
     "output_type": "execute_result"
    }
   ],
   "source": [
    "df[\"SEC_CONTRIBUTORY_CAUSE\"].value_counts(dropna=False)"
   ]
  },
  {
   "cell_type": "markdown",
   "metadata": {},
   "source": [
    "DRIVING SKILLS/KNOWLEDGE/EXPERIENCE used with same above for a flag."
   ]
  },
  {
   "cell_type": "markdown",
   "metadata": {},
   "source": [
    "## Feature Engineering"
   ]
  },
  {
   "cell_type": "markdown",
   "metadata": {},
   "source": [
    "Binning in state and out of state without losing the null values. We will impute after Train/Test Split."
   ]
  },
  {
   "cell_type": "code",
   "execution_count": 75,
   "metadata": {},
   "outputs": [],
   "source": [
    "states = sorted(df[\"DRIVERS_LICENSE_STATE\"].value_counts().index)\n",
    "states.remove('IL')"
   ]
  },
  {
   "cell_type": "code",
   "execution_count": 76,
   "metadata": {},
   "outputs": [],
   "source": [
    "def in_state(row):\n",
    "    if row['DRIVERS_LICENSE_STATE'] == 'IL':\n",
    "        return 1\n",
    "    elif row['DRIVERS_LICENSE_STATE'] in states:\n",
    "        return 0\n",
    "\n",
    "df['IN_STATE'] = df.apply(in_state, axis=1)"
   ]
  },
  {
   "cell_type": "code",
   "execution_count": 77,
   "metadata": {},
   "outputs": [
    {
     "data": {
      "text/plain": [
       "1.0    271946\n",
       "NaN     34744\n",
       "0.0     19859\n",
       "Name: IN_STATE, dtype: int64"
      ]
     },
     "execution_count": 77,
     "metadata": {},
     "output_type": "execute_result"
    }
   ],
   "source": [
    "# Sanity check \n",
    "\n",
    "df[\"IN_STATE\"].value_counts(dropna=False)"
   ]
  },
  {
   "cell_type": "markdown",
   "metadata": {},
   "source": [
    "We are interested in driving skills, knowledge, or experience as a contributing cause of accidents."
   ]
  },
  {
   "cell_type": "code",
   "execution_count": 78,
   "metadata": {},
   "outputs": [
    {
     "data": {
      "text/plain": [
       "False    0.965739\n",
       "True     0.034261\n",
       "Name: PRIM_CONTRIBUTORY_CAUSE, dtype: float64"
      ]
     },
     "execution_count": 78,
     "metadata": {},
     "output_type": "execute_result"
    }
   ],
   "source": [
    "(df['PRIM_CONTRIBUTORY_CAUSE'] == 'DRIVING SKILLS/KNOWLEDGE/EXPERIENCE').value_counts(normalize=True)"
   ]
  },
  {
   "cell_type": "code",
   "execution_count": 79,
   "metadata": {},
   "outputs": [
    {
     "data": {
      "text/plain": [
       "False    0.966048\n",
       "True     0.033952\n",
       "Name: SEC_CONTRIBUTORY_CAUSE, dtype: float64"
      ]
     },
     "execution_count": 79,
     "metadata": {},
     "output_type": "execute_result"
    }
   ],
   "source": [
    "(df['SEC_CONTRIBUTORY_CAUSE'] == 'DRIVING SKILLS/KNOWLEDGE/EXPERIENCE').value_counts(normalize=True)"
   ]
  },
  {
   "cell_type": "code",
   "execution_count": 80,
   "metadata": {},
   "outputs": [
    {
     "data": {
      "text/plain": [
       "False    0.994396\n",
       "True     0.005604\n",
       "dtype: float64"
      ]
     },
     "execution_count": 80,
     "metadata": {},
     "output_type": "execute_result"
    }
   ],
   "source": [
    "((df['PRIM_CONTRIBUTORY_CAUSE'] == 'DRIVING SKILLS/KNOWLEDGE/EXPERIENCE') & (df['SEC_CONTRIBUTORY_CAUSE'] == 'DRIVING SKILLS/KNOWLEDGE/EXPERIENCE')).value_counts(normalize=True)"
   ]
  },
  {
   "cell_type": "code",
   "execution_count": 81,
   "metadata": {},
   "outputs": [],
   "source": [
    "# Create a new column to identify any contributory cause as \"driving skills/knowledge/experience\"\n",
    "\n",
    "def get_cause(row):\n",
    "    if row['PRIM_CONTRIBUTORY_CAUSE'] == 'DRIVING SKILLS/KNOWLEDGE/EXPERIENCE':\n",
    "        return 1\n",
    "    if row['SEC_CONTRIBUTORY_CAUSE'] == 'DRIVING SKILLS/KNOWLEDGE/EXPERIENCE':\n",
    "        return 1\n",
    "    else:\n",
    "        return 0\n",
    "df['DRIVING_SKILLS'] = df.apply(get_cause, axis=1)\n",
    "   "
   ]
  },
  {
   "cell_type": "code",
   "execution_count": 82,
   "metadata": {},
   "outputs": [
    {
     "data": {
      "text/plain": [
       "0    0.937391\n",
       "1    0.062609\n",
       "Name: DRIVING_SKILLS, dtype: float64"
      ]
     },
     "execution_count": 82,
     "metadata": {},
     "output_type": "execute_result"
    }
   ],
   "source": [
    "df['DRIVING_SKILLS'].value_counts(normalize=True)"
   ]
  },
  {
   "cell_type": "code",
   "execution_count": 83,
   "metadata": {},
   "outputs": [
    {
     "data": {
      "text/plain": [
       "DRIVING_SKILLS  DAMAGE       \n",
       "0               OVER $1,500      0.707256\n",
       "                $501 - $1,500    0.221604\n",
       "                $500 OR LESS     0.071139\n",
       "1               OVER $1,500      0.728100\n",
       "                $501 - $1,500    0.197261\n",
       "                $500 OR LESS     0.074639\n",
       "Name: DAMAGE, dtype: float64"
      ]
     },
     "execution_count": 83,
     "metadata": {},
     "output_type": "execute_result"
    }
   ],
   "source": [
    "df.groupby(\"DRIVING_SKILLS\").DAMAGE.value_counts(normalize=True)"
   ]
  },
  {
   "cell_type": "markdown",
   "metadata": {},
   "source": [
    "While DRIVING_SKILLS is a very lopsided value, there is an indication that it affects the DAMAGE. We may be able to SMOTE this for our model."
   ]
  },
  {
   "cell_type": "markdown",
   "metadata": {},
   "source": [
    "We want to identify crashes by the time of day they occurred."
   ]
  },
  {
   "cell_type": "code",
   "execution_count": 84,
   "metadata": {},
   "outputs": [],
   "source": [
    "# Create a new column to identify the time of day crashes occurred\n",
    "\n",
    "def hour(row):\n",
    "    if (row['CRASH_HOUR'] < 7) or (row['CRASH_HOUR'] >23):\n",
    "        return 'Evening/Overnight'\n",
    "    elif (row['CRASH_DAY_OF_WEEK'] in range(2,7)) and (row['CRASH_HOUR'] in range(7,10)) or (row['CRASH_HOUR'] in range(16,19)):\n",
    "        return 'Commute'\n",
    "    elif row['CRASH_HOUR'] in range(19,24):\n",
    "        return 'Evening/Overnight'\n",
    "    else:\n",
    "        return 'Daytime'\n",
    "df['TIME_OF_DAY'] = df.apply(hour, axis=1)"
   ]
  },
  {
   "cell_type": "code",
   "execution_count": 85,
   "metadata": {},
   "outputs": [
    {
     "data": {
      "text/plain": [
       "Daytime              0.384604\n",
       "Commute              0.346512\n",
       "Evening/Overnight    0.268885\n",
       "Name: TIME_OF_DAY, dtype: float64"
      ]
     },
     "execution_count": 85,
     "metadata": {},
     "output_type": "execute_result"
    }
   ],
   "source": [
    "df['TIME_OF_DAY'].value_counts(dropna=False, normalize=True)"
   ]
  },
  {
   "cell_type": "code",
   "execution_count": 86,
   "metadata": {},
   "outputs": [
    {
     "data": {
      "text/plain": [
       "OVER $1,500      231380\n",
       "$501 - $1,500     71867\n",
       "$500 OR LESS      23302\n",
       "Name: DAMAGE, dtype: int64"
      ]
     },
     "execution_count": 86,
     "metadata": {},
     "output_type": "execute_result"
    }
   ],
   "source": [
    "# Check the values in Damage column\n",
    "\n",
    "df['DAMAGE'].value_counts()"
   ]
  },
  {
   "cell_type": "code",
   "execution_count": 87,
   "metadata": {},
   "outputs": [],
   "source": [
    "# Create a new column to identify damage as > $1500 or <= $1500\n",
    "\n",
    "damage_dict = {'OVER $1,500':1, '$501 - $1,500':0, '$500 OR LESS':0}\n",
    "df['DAMAGE_OVER_1500'] =  df.loc[:, ('DAMAGE')].map(damage_dict).copy()"
   ]
  },
  {
   "cell_type": "code",
   "execution_count": 88,
   "metadata": {},
   "outputs": [
    {
     "data": {
      "text/plain": [
       "1    231380\n",
       "0     95169\n",
       "Name: DAMAGE_OVER_1500, dtype: int64"
      ]
     },
     "execution_count": 88,
     "metadata": {},
     "output_type": "execute_result"
    }
   ],
   "source": [
    "# Sanity check\n",
    "\n",
    "df['DAMAGE_OVER_1500'].value_counts()"
   ]
  },
  {
   "cell_type": "markdown",
   "metadata": {},
   "source": [
    "### Comparing columns to DAMAGE_OVER_1500"
   ]
  },
  {
   "cell_type": "code",
   "execution_count": 89,
   "metadata": {},
   "outputs": [
    {
     "data": {
      "text/plain": [
       "AGE    DAMAGE_OVER_1500\n",
       "28.0   1                   6294\n",
       "25.0   1                   6170\n",
       "26.0   1                   6137\n",
       "29.0   1                   6130\n",
       "27.0   1                   6114\n",
       "                           ... \n",
       "103.0  1                      2\n",
       "6.0    0                      1\n",
       "10.0   0                      1\n",
       "102.0  0                      1\n",
       "110.0  1                      1\n",
       "Name: DAMAGE_OVER_1500, Length: 204, dtype: int64"
      ]
     },
     "execution_count": 89,
     "metadata": {},
     "output_type": "execute_result"
    }
   ],
   "source": [
    "df.groupby(\"AGE\").DAMAGE_OVER_1500.value_counts().sort_values(ascending=False)"
   ]
  },
  {
   "cell_type": "code",
   "execution_count": 90,
   "metadata": {},
   "outputs": [
    {
     "data": {
      "image/png": "[encoded data removed]",
      "text/plain": [
       "<Figure size 432x288 with 1 Axes>"
      ]
     },
     "metadata": {
      "needs_background": "light"
     },
     "output_type": "display_data"
    }
   ],
   "source": [
    "sns.histplot(x=df[\"AGE\"], y=df[\"DAMAGE_OVER_1500\"]);"
   ]
  },
  {
   "cell_type": "code",
   "execution_count": 91,
   "metadata": {},
   "outputs": [
    {
     "data": {
      "text/plain": [
       "VEHICLE_YEAR  DAMAGE_OVER_1500\n",
       "2017.0        1                   16795\n",
       "2018.0        1                   15685\n",
       "2015.0        1                   15457\n",
       "2016.0        1                   14889\n",
       "2019.0        1                   14442\n",
       "                                  ...  \n",
       "1962.0        1                       1\n",
       "1963.0        0                       1\n",
       "1964.0        0                       1\n",
       "1970.0        0                       1\n",
       "1975.0        0                       1\n",
       "Name: DAMAGE_OVER_1500, Length: 131, dtype: int64"
      ]
     },
     "execution_count": 91,
     "metadata": {},
     "output_type": "execute_result"
    }
   ],
   "source": [
    "df.groupby(\"VEHICLE_YEAR\").DAMAGE_OVER_1500.value_counts().sort_values(ascending=False)"
   ]
  },
  {
   "cell_type": "code",
   "execution_count": 92,
   "metadata": {},
   "outputs": [
    {
     "data": {
      "image/png": "[encoded data removed]",
      "text/plain": [
       "<Figure size 432x288 with 1 Axes>"
      ]
     },
     "metadata": {
      "needs_background": "light"
     },
     "output_type": "display_data"
    }
   ],
   "source": [
    "sns.histplot(x=df[\"VEHICLE_YEAR\"], y=df[\"DAMAGE_OVER_1500\"]);"
   ]
  },
  {
   "cell_type": "code",
   "execution_count": 93,
   "metadata": {},
   "outputs": [
    {
     "data": {
      "text/plain": [
       "TIME_OF_DAY        DAMAGE_OVER_1500\n",
       "Commute            1                   78312\n",
       "                   0                   34841\n",
       "Daytime            1                   85978\n",
       "                   0                   39614\n",
       "Evening/Overnight  1                   67090\n",
       "                   0                   20714\n",
       "Name: DAMAGE_OVER_1500, dtype: int64"
      ]
     },
     "execution_count": 93,
     "metadata": {},
     "output_type": "execute_result"
    }
   ],
   "source": [
    "df.groupby(\"TIME_OF_DAY\").DAMAGE_OVER_1500.value_counts()"
   ]
  },
  {
   "cell_type": "code",
   "execution_count": 94,
   "metadata": {},
   "outputs": [
    {
     "data": {
      "image/png": "[encoded data removed]",
      "text/plain": [
       "<Figure size 432x288 with 1 Axes>"
      ]
     },
     "metadata": {
      "needs_background": "light"
     },
     "output_type": "display_data"
    }
   ],
   "source": [
    "sns.histplot(x=df[\"TIME_OF_DAY\"], y=df[\"DAMAGE_OVER_1500\"]);"
   ]
  },
  {
   "cell_type": "code",
   "execution_count": 95,
   "metadata": {},
   "outputs": [
    {
     "data": {
      "text/plain": [
       "SEX  DAMAGE_OVER_1500\n",
       "F    1                    98163\n",
       "     0                    42457\n",
       "M    1                   129770\n",
       "     0                    51440\n",
       "X    1                     3447\n",
       "     0                     1272\n",
       "Name: DAMAGE_OVER_1500, dtype: int64"
      ]
     },
     "execution_count": 95,
     "metadata": {},
     "output_type": "execute_result"
    }
   ],
   "source": [
    "df.groupby(\"SEX\").DAMAGE_OVER_1500.value_counts()"
   ]
  },
  {
   "cell_type": "code",
   "execution_count": 96,
   "metadata": {},
   "outputs": [
    {
     "data": {
      "image/png": "[encoded data removed]",
      "text/plain": [
       "<Figure size 432x288 with 1 Axes>"
      ]
     },
     "metadata": {
      "needs_background": "light"
     },
     "output_type": "display_data"
    }
   ],
   "source": [
    "sns.histplot(x=df[\"SEX\"], y=df[\"DAMAGE_OVER_1500\"]);"
   ]
  },
  {
   "cell_type": "code",
   "execution_count": 97,
   "metadata": {},
   "outputs": [
    {
     "data": {
      "text/plain": [
       "IN_STATE  DAMAGE_OVER_1500\n",
       "0.0       1                    13920\n",
       "          0                     5939\n",
       "1.0       1                   194064\n",
       "          0                    77882\n",
       "Name: DAMAGE_OVER_1500, dtype: int64"
      ]
     },
     "execution_count": 97,
     "metadata": {},
     "output_type": "execute_result"
    }
   ],
   "source": [
    "df.groupby(\"IN_STATE\").DAMAGE_OVER_1500.value_counts()"
   ]
  },
  {
   "cell_type": "code",
   "execution_count": 98,
   "metadata": {},
   "outputs": [
    {
     "data": {
      "image/png": "[encoded data removed]",
      "text/plain": [
       "<Figure size 432x288 with 1 Axes>"
      ]
     },
     "metadata": {
      "needs_background": "light"
     },
     "output_type": "display_data"
    }
   ],
   "source": [
    "sns.histplot(x=df[\"IN_STATE\"], y=df[\"DAMAGE_OVER_1500\"]);"
   ]
  },
  {
   "cell_type": "code",
   "execution_count": 99,
   "metadata": {},
   "outputs": [
    {
     "data": {
      "text/plain": [
       "CRASH_HOUR  DAMAGE_OVER_1500\n",
       "0           1                    4972\n",
       "            0                    1193\n",
       "1           1                    4330\n",
       "            0                    1031\n",
       "2           1                    3810\n",
       "            0                     768\n",
       "3           1                    2883\n",
       "            0                     565\n",
       "4           1                    2537\n",
       "            0                     472\n",
       "5           1                    2980\n",
       "            0                     751\n",
       "6           1                    4502\n",
       "            0                    1393\n",
       "7           1                    9789\n",
       "            0                    3682\n",
       "8           1                   12031\n",
       "            0                    5027\n",
       "9           1                    9712\n",
       "            0                    3927\n",
       "10          1                    9794\n",
       "            0                    4039\n",
       "11          1                   11172\n",
       "            0                    4829\n",
       "12          1                   12883\n",
       "            0                    6005\n",
       "13          1                   13324\n",
       "            0                    6729\n",
       "14          1                   15130\n",
       "            0                    7463\n",
       "15          1                   19041\n",
       "            0                    9046\n",
       "16          1                   18774\n",
       "            0                    8866\n",
       "17          1                   17888\n",
       "            0                    8428\n",
       "18          1                   14752\n",
       "            0                    6414\n",
       "19          1                   10691\n",
       "            0                    4400\n",
       "20          1                    8869\n",
       "            0                    3253\n",
       "21          1                    7943\n",
       "            0                    2709\n",
       "22          1                    7101\n",
       "            0                    2325\n",
       "23          1                    6472\n",
       "            0                    1854\n",
       "Name: DAMAGE_OVER_1500, dtype: int64"
      ]
     },
     "execution_count": 99,
     "metadata": {},
     "output_type": "execute_result"
    }
   ],
   "source": [
    "df.groupby(\"CRASH_HOUR\").DAMAGE_OVER_1500.value_counts()"
   ]
  },
  {
   "cell_type": "code",
   "execution_count": 100,
   "metadata": {},
   "outputs": [
    {
     "data": {
      "image/png": "[encoded data removed]",
      "text/plain": [
       "<Figure size 432x288 with 1 Axes>"
      ]
     },
     "metadata": {
      "needs_background": "light"
     },
     "output_type": "display_data"
    }
   ],
   "source": [
    "sns.histplot(x=df[\"CRASH_HOUR\"], y=df[\"DAMAGE_OVER_1500\"]);"
   ]
  },
  {
   "cell_type": "markdown",
   "metadata": {},
   "source": [
    "## Dummy Model"
   ]
  },
  {
   "cell_type": "markdown",
   "metadata": {},
   "source": [
    "### Decide Xs/y"
   ]
  },
  {
   "cell_type": "markdown",
   "metadata": {},
   "source": [
    "The target is DAMAGE_OVER_1500. There are a few columns which represent interrelated variables, so only one will be used. "
   ]
  },
  {
   "cell_type": "code",
   "execution_count": 101,
   "metadata": {},
   "outputs": [
    {
     "name": "stdout",
     "output_type": "stream",
     "text": [
      "<class 'pandas.core.frame.DataFrame'>\n",
      "Int64Index: 326549 entries, 3 to 766594\n",
      "Data columns (total 25 columns):\n",
      " #   Column                   Non-Null Count   Dtype         \n",
      "---  ------                   --------------   -----         \n",
      " 0   CRASH_DATE               326549 non-null  datetime64[ns]\n",
      " 1   UNIT_TYPE                326549 non-null  object        \n",
      " 2   NUM_PASSENGERS           62843 non-null   float64       \n",
      " 3   MAKE                     326549 non-null  object        \n",
      " 4   MODEL                    326549 non-null  object        \n",
      " 5   VEHICLE_YEAR             326549 non-null  float64       \n",
      " 6   VEHICLE_DEFECT           326549 non-null  object        \n",
      " 7   VEHICLE_TYPE             326549 non-null  object        \n",
      " 8   VEHICLE_USE              326549 non-null  object        \n",
      " 9   OCCUPANT_CNT             326549 non-null  float64       \n",
      " 10  PERSON_TYPE              326549 non-null  object        \n",
      " 11  SEX                      326549 non-null  object        \n",
      " 12  AGE                      289148 non-null  float64       \n",
      " 13  DRIVERS_LICENSE_STATE    291805 non-null  object        \n",
      " 14  DRIVERS_LICENSE_CLASS    238320 non-null  object        \n",
      " 15  DAMAGE                   326549 non-null  object        \n",
      " 16  PRIM_CONTRIBUTORY_CAUSE  326549 non-null  object        \n",
      " 17  SEC_CONTRIBUTORY_CAUSE   326549 non-null  object        \n",
      " 18  BEAT_OF_OCCURRENCE       326549 non-null  float64       \n",
      " 19  CRASH_HOUR               326549 non-null  int64         \n",
      " 20  CRASH_DAY_OF_WEEK        326549 non-null  int64         \n",
      " 21  IN_STATE                 291805 non-null  float64       \n",
      " 22  DRIVING_SKILLS           326549 non-null  int64         \n",
      " 23  TIME_OF_DAY              326549 non-null  object        \n",
      " 24  DAMAGE_OVER_1500         326549 non-null  int64         \n",
      "dtypes: datetime64[ns](1), float64(6), int64(4), object(14)\n",
      "memory usage: 64.8+ MB\n"
     ]
    }
   ],
   "source": [
    "df.info()"
   ]
  },
  {
   "cell_type": "code",
   "execution_count": 102,
   "metadata": {},
   "outputs": [],
   "source": [
    "X = df.drop([\"DAMAGE\", \"DAMAGE_OVER_1500\"], axis=1)\n",
    "y = df[\"DAMAGE_OVER_1500\"]"
   ]
  },
  {
   "cell_type": "code",
   "execution_count": 103,
   "metadata": {},
   "outputs": [],
   "source": [
    "X_train, X_test, y_train, y_test = train_test_split(X, y, random_state=2024)"
   ]
  },
  {
   "cell_type": "code",
   "execution_count": 104,
   "metadata": {},
   "outputs": [],
   "source": [
    "dummy_model = DummyClassifier(strategy=\"most_frequent\")"
   ]
  },
  {
   "cell_type": "code",
   "execution_count": 105,
   "metadata": {},
   "outputs": [
    {
     "data": {
      "text/plain": [
       "DummyClassifier(strategy='most_frequent')"
      ]
     },
     "execution_count": 105,
     "metadata": {},
     "output_type": "execute_result"
    }
   ],
   "source": [
    "dummy_model.fit(X_train, y_train)"
   ]
  },
  {
   "cell_type": "code",
   "execution_count": 106,
   "metadata": {},
   "outputs": [
    {
     "data": {
      "text/plain": [
       "0.7095592738675617"
      ]
     },
     "execution_count": 106,
     "metadata": {},
     "output_type": "execute_result"
    }
   ],
   "source": [
    "y_pred = dummy_model.predict(X_test)\n",
    "accuracy_score(y_test, y_pred)"
   ]
  },
  {
   "cell_type": "markdown",
   "metadata": {},
   "source": [
    "# Model 2"
   ]
  },
  {
   "cell_type": "markdown",
   "metadata": {},
   "source": [
    "## Decision Tree Classifier"
   ]
  },
  {
   "cell_type": "code",
   "execution_count": 130,
   "metadata": {},
   "outputs": [],
   "source": [
    "# Making a baseline dataframe \n",
    "\n",
    "df_dt = df[[\"VEHICLE_YEAR\", \"SEX\", \"DRIVING_SKILLS\", \"TIME_OF_DAY\", \"DAMAGE_OVER_1500\"]]"
   ]
  },
  {
   "cell_type": "code",
   "execution_count": 131,
   "metadata": {},
   "outputs": [
    {
     "name": "stdout",
     "output_type": "stream",
     "text": [
      "<class 'pandas.core.frame.DataFrame'>\n",
      "Int64Index: 326549 entries, 3 to 766594\n",
      "Data columns (total 5 columns):\n",
      " #   Column            Non-Null Count   Dtype  \n",
      "---  ------            --------------   -----  \n",
      " 0   VEHICLE_YEAR      326549 non-null  float64\n",
      " 1   SEX               326549 non-null  object \n",
      " 2   DRIVING_SKILLS    326549 non-null  int64  \n",
      " 3   TIME_OF_DAY       326549 non-null  object \n",
      " 4   DAMAGE_OVER_1500  326549 non-null  int64  \n",
      "dtypes: float64(1), int64(2), object(2)\n",
      "memory usage: 14.9+ MB\n"
     ]
    }
   ],
   "source": [
    "df_dt.info()"
   ]
  },
  {
   "cell_type": "code",
   "execution_count": 132,
   "metadata": {},
   "outputs": [],
   "source": [
    "# Assigning Xs & y \n",
    "\n",
    "X_dt = df_dt.drop(\"DAMAGE_OVER_1500\", axis=1)\n",
    "y_dt = df[\"DAMAGE_OVER_1500\"]"
   ]
  },
  {
   "cell_type": "markdown",
   "metadata": {},
   "source": [
    "### Train/Test Split"
   ]
  },
  {
   "cell_type": "markdown",
   "metadata": {},
   "source": []
  },
  {
   "cell_type": "code",
   "execution_count": 133,
   "metadata": {},
   "outputs": [],
   "source": [
    "X_train_dt, X_test_dt, y_train_dt, y_test_dt = train_test_split(X_dt, y_dt, random_state=2024)"
   ]
  },
  {
   "cell_type": "markdown",
   "metadata": {},
   "source": [
    "### Preprocessing Steps (SS, OHE, SI)"
   ]
  },
  {
   "cell_type": "markdown",
   "metadata": {},
   "source": []
  },
  {
   "cell_type": "code",
   "execution_count": 134,
   "metadata": {},
   "outputs": [
    {
     "data": {
      "text/plain": [
       "VEHICLE_YEAR        0\n",
       "SEX                 0\n",
       "DRIVING_SKILLS      0\n",
       "TIME_OF_DAY         0\n",
       "DAMAGE_OVER_1500    0\n",
       "dtype: int64"
      ]
     },
     "execution_count": 134,
     "metadata": {},
     "output_type": "execute_result"
    }
   ],
   "source": [
    "df_dt.isna().sum()"
   ]
  },
  {
   "cell_type": "code",
   "execution_count": 135,
   "metadata": {},
   "outputs": [],
   "source": [
    "encoding = OneHotEncoder(categories=\"auto\", handle_unknown=\"ignore\")\n",
    "X_train_dt_imp = encoding.fit_transform(X_train_dt)"
   ]
  },
  {
   "cell_type": "code",
   "execution_count": 136,
   "metadata": {},
   "outputs": [],
   "source": [
    "names = pd.DataFrame(X_train_dt_imp.todense(), columns=encoding.get_feature_names())"
   ]
  },
  {
   "cell_type": "markdown",
   "metadata": {},
   "source": [
    "### Modeling (look at Coefficients, P-values)"
   ]
  },
  {
   "cell_type": "markdown",
   "metadata": {},
   "source": []
  },
  {
   "cell_type": "code",
   "execution_count": 137,
   "metadata": {},
   "outputs": [
    {
     "data": {
      "text/plain": [
       "DecisionTreeClassifier(max_depth=2, random_state=2024)"
      ]
     },
     "execution_count": 137,
     "metadata": {},
     "output_type": "execute_result"
    }
   ],
   "source": [
    "dt = DecisionTreeClassifier(max_depth=2, random_state=2024)\n",
    "dt.fit(X_train_dt_imp, y_train_dt)"
   ]
  },
  {
   "cell_type": "code",
   "execution_count": 138,
   "metadata": {},
   "outputs": [
    {
     "data": {
      "image/png": "[encoded data removed]",
      "text/plain": [
       "<Figure size 720x720 with 1 Axes>"
      ]
     },
     "metadata": {
      "needs_background": "light"
     },
     "output_type": "display_data"
    }
   ],
   "source": [
    "f, ax = plt.subplots(figsize=(10, 10))\n",
    "plot_tree(dt, ax=ax);"
   ]
  },
  {
   "cell_type": "code",
   "execution_count": 139,
   "metadata": {},
   "outputs": [
    {
     "data": {
      "text/plain": [
       "'x3_Evening/Overnight'"
      ]
     },
     "execution_count": 139,
     "metadata": {},
     "output_type": "execute_result"
    }
   ],
   "source": [
    "list(names.columns)[76]"
   ]
  },
  {
   "cell_type": "code",
   "execution_count": 140,
   "metadata": {},
   "outputs": [
    {
     "data": {
      "text/plain": [
       "'x2_0'"
      ]
     },
     "execution_count": 140,
     "metadata": {},
     "output_type": "execute_result"
    }
   ],
   "source": [
    "list(names.columns)[72]"
   ]
  },
  {
   "cell_type": "code",
   "execution_count": 141,
   "metadata": {},
   "outputs": [
    {
     "data": {
      "text/plain": [
       "'x1_F'"
      ]
     },
     "execution_count": 141,
     "metadata": {},
     "output_type": "execute_result"
    }
   ],
   "source": [
    "list(names.columns)[69]"
   ]
  },
  {
   "cell_type": "code",
   "execution_count": 209,
   "metadata": {},
   "outputs": [
    {
     "data": {
      "text/plain": [
       "'x4_NONE'"
      ]
     },
     "execution_count": 209,
     "metadata": {},
     "output_type": "execute_result"
    }
   ],
   "source": [
    "list(names.columns)[]"
   ]
  },
  {
   "cell_type": "code",
   "execution_count": 210,
   "metadata": {},
   "outputs": [
    {
     "data": {
      "text/plain": [
       "'x7_1.0'"
      ]
     },
     "execution_count": 210,
     "metadata": {},
     "output_type": "execute_result"
    }
   ],
   "source": [
    "list(names.columns)[]"
   ]
  },
  {
   "cell_type": "markdown",
   "metadata": {},
   "source": [
    "### Evaluation"
   ]
  },
  {
   "cell_type": "markdown",
   "metadata": {},
   "source": [
    "So we can see that a model using only the columns which are already numeric is only as good as picking the most frequent."
   ]
  },
  {
   "cell_type": "markdown",
   "metadata": {},
   "source": []
  },
  {
   "cell_type": "markdown",
   "metadata": {},
   "source": [
    "# Model 3"
   ]
  },
  {
   "cell_type": "markdown",
   "metadata": {},
   "source": []
  },
  {
   "cell_type": "code",
   "execution_count": null,
   "metadata": {},
   "outputs": [],
   "source": []
  },
  {
   "cell_type": "markdown",
   "metadata": {},
   "source": [
    "## Evaluation OF/UF report Test"
   ]
  }
 ],
 "metadata": {
  "kernelspec": {
   "display_name": "learn-env",
   "language": "python",
   "name": "python3"
  },
  "language_info": {
   "codemirror_mode": {
    "name": "ipython",
    "version": 3
   },
   "file_extension": ".py",
   "mimetype": "text/x-python",
   "name": "python",
   "nbconvert_exporter": "python",
   "pygments_lexer": "ipython3",
   "version": "3.8.5"
  }
 },
 "nbformat": 4,
 "nbformat_minor": 2
}
