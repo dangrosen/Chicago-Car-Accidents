{
 "cells": [
  {
   "cell_type": "markdown",
   "metadata": {},
   "source": [
    "Place for a picture"
   ]
  },
  {
   "cell_type": "markdown",
   "metadata": {},
   "source": [
    "# Logistic Regression of a... (Phase Three Project)"
   ]
  },
  {
   "cell_type": "markdown",
   "metadata": {},
   "source": [
    "## Business Problem/Question"
   ]
  },
  {
   "cell_type": "markdown",
   "metadata": {},
   "source": [
    "Can we use factors from this dataset that are trackable by an insurance company to determining whether a private passenger vehicle crash in Chicago incurs property damage over $1,500 and can we make good predictions using these factors? "
   ]
  },
  {
   "cell_type": "markdown",
   "metadata": {},
   "source": [
    "## EDA"
   ]
  },
  {
   "cell_type": "code",
   "execution_count": 4,
   "metadata": {},
   "outputs": [],
   "source": [
    "# Importing packages\n",
    "import numpy as np\n",
    "import pandas as pd \n",
    "import math\n",
    "\n",
    "import matplotlib.pyplot as plt\n",
    "import seaborn as sns\n",
    "%matplotlib inline\n",
    "\n",
    "from sklearn.model_selection import train_test_split, cross_val_score\n",
    "from sklearn.impute import MissingIndicator, SimpleImputer\n",
    "from sklearn.preprocessing import StandardScaler, OneHotEncoder\n",
    "from sklearn.dummy import DummyClassifier\n",
    "\n",
    "from sklearn.linear_model import LogisticRegression\n",
    "from sklearn.tree import DecisionTreeRegressor, DecisionTreeClassifier\n",
    "\n",
    "from sklearn.metrics import accuracy_score, recall_score, precision_score, f1_score\n",
    "from sklearn.metrics import roc_curve, roc_auc_score, plot_roc_curve\n",
    "from sklearn.metrics import plot_confusion_matrix, confusion_matrix"
   ]
  },
  {
   "cell_type": "markdown",
   "metadata": {},
   "source": [
    "### Read in and create new csv"
   ]
  },
  {
   "cell_type": "code",
   "execution_count": 2,
   "metadata": {},
   "outputs": [],
   "source": [
    "# Read in data\n",
    "\n",
    "df_vehicles = pd.read_csv(\"Data\\Traffic_Crashes_-_Vehicles_20231109.csv\", parse_dates=[\"CRASH_DATE\"], low_memory=False)\n",
    "df_people = pd.read_csv(\"Data\\Traffic_Crashes_-_People_20231109.csv\", parse_dates=[\"CRASH_DATE\"], low_memory=False)\n",
    "df_crashes = pd.read_csv(\"Data\\Traffic_Crashes_-_Crashes_20231109.csv\", parse_dates=[\"CRASH_DATE\"], low_memory=False)"
   ]
  },
  {
   "cell_type": "code",
   "execution_count": 3,
   "metadata": {},
   "outputs": [],
   "source": [
    "# Filter out any data from before 2021\n",
    "\n",
    "df_crashes = df_crashes[df_crashes[\"CRASH_DATE\"].dt.year >= 2021]\n",
    "df_people = df_people[df_people[\"CRASH_DATE\"].dt.year >= 2021]\n",
    "df_vehicles = df_vehicles[df_vehicles[\"CRASH_DATE\"].dt.year >= 2021]"
   ]
  },
  {
   "cell_type": "markdown",
   "metadata": {},
   "source": [
    "Using the data dictionaries to understand column names, we are dropping columns from each set that are not relevant to the business problem."
   ]
  },
  {
   "cell_type": "code",
   "execution_count": 4,
   "metadata": {},
   "outputs": [],
   "source": [
    "# Drop columns from Vehicles dataframe\n",
    "\n",
    "df_vehicles.drop(columns = ['UNIT_NO', 'LIC_PLATE_STATE', 'TRAVEL_DIRECTION', 'MANEUVER',\n",
    "                            'TOWED_I', 'FIRE_I', 'TOWED_BY', 'TOWED_TO', 'AREA_00_I', \n",
    "                            'AREA_01_I', 'AREA_02_I', 'AREA_03_I', 'AREA_04_I', 'AREA_05_I', \n",
    "                            'AREA_06_I', 'AREA_07_I', 'AREA_08_I', 'AREA_09_I', 'AREA_10_I', \n",
    "                            'AREA_11_I', 'AREA_12_I', 'AREA_99_I', 'FIRST_CONTACT_POINT', 'CMV_ID', \n",
    "                            'USDOT_NO', 'CCMC_NO', 'ILCC_NO', 'COMMERCIAL_SRC', 'GVWR', \n",
    "                            'CARRIER_NAME', 'CARRIER_STATE', 'CARRIER_CITY',\n",
    "                            'HAZMAT_PLACARDS_I', 'HAZMAT_NAME', 'UN_NO', 'HAZMAT_PRESENT_I', \n",
    "                            'HAZMAT_REPORT_I', 'HAZMAT_REPORT_NO', 'MCS_REPORT_I',\n",
    "                            'MCS_REPORT_NO', 'HAZMAT_VIO_CAUSE_CRASH_I', 'MCS_VIO_CAUSE_CRASH_I', \n",
    "                            'IDOT_PERMIT_NO', 'WIDE_LOAD_I', 'TRAILER1_WIDTH', 'TRAILER2_WIDTH', \n",
    "                            'TRAILER1_LENGTH', 'TRAILER2_LENGTH', 'TOTAL_VEHICLE_LENGTH',\n",
    "                            'AXLE_CNT', 'VEHICLE_CONFIG', 'CARGO_BODY_TYPE', 'LOAD_TYPE',\n",
    "                            'HAZMAT_OUT_OF_SERVICE_I', 'MCS_OUT_OF_SERVICE_I', 'HAZMAT_CLASS'],\n",
    "                            inplace=True)"
   ]
  },
  {
   "cell_type": "code",
   "execution_count": 5,
   "metadata": {},
   "outputs": [],
   "source": [
    "# Drop columns from People dataframe\n",
    "\n",
    "df_people.drop(columns = ['PERSON_ID', 'SEAT_NO', 'CITY', 'STATE', 'ZIPCODE', 'SAFETY_EQUIPMENT', \n",
    "                          'AIRBAG_DEPLOYED', 'EJECTION', 'INJURY_CLASSIFICATION', 'HOSPITAL', \n",
    "                          'EMS_AGENCY', 'EMS_RUN_NO', 'DRIVER_ACTION', 'DRIVER_VISION', 'PHYSICAL_CONDITION',\n",
    "                          'PEDPEDAL_ACTION', 'PEDPEDAL_VISIBILITY', 'PEDPEDAL_LOCATION'], inplace=True)"
   ]
  },
  {
   "cell_type": "code",
   "execution_count": 6,
   "metadata": {},
   "outputs": [],
   "source": [
    "# Drop columns from Crashes dataframe\n",
    "\n",
    "df_crashes.drop(columns = ['FIRST_CRASH_TYPE', 'LANE_CNT', 'REPORT_TYPE', 'CRASH_TYPE', 'INTERSECTION_RELATED_I', \n",
    "                           'NOT_RIGHT_OF_WAY_I', 'HIT_AND_RUN_I', 'DATE_POLICE_NOTIFIED', 'STREET_NO', \n",
    "                           'STREET_DIRECTION', 'STREET_NAME', 'PHOTOS_TAKEN_I', 'STATEMENTS_TAKEN_I', 'DOORING_I', \n",
    "                           'WORK_ZONE_I', 'WORK_ZONE_TYPE', 'WORKERS_PRESENT_I', 'NUM_UNITS', 'MOST_SEVERE_INJURY', \n",
    "                           'INJURIES_TOTAL', 'INJURIES_FATAL', 'INJURIES_INCAPACITATING', 'INJURIES_NON_INCAPACITATING', \n",
    "                           'INJURIES_REPORTED_NOT_EVIDENT', 'INJURIES_NO_INDICATION', 'INJURIES_UNKNOWN', 'CRASH_MONTH'], \n",
    "                           inplace=True)"
   ]
  },
  {
   "cell_type": "markdown",
   "metadata": {},
   "source": [
    "Because we are most interested in vehicle damage, we are using the Vehicles dataframe as the main and merging the others into it."
   ]
  },
  {
   "cell_type": "code",
   "execution_count": 7,
   "metadata": {},
   "outputs": [],
   "source": [
    "# Merge People dataframe with Vehicles dataframe\n",
    "\n",
    "df = df_vehicles.merge(df_people, how=\"left\", on=[\"CRASH_RECORD_ID\", \"CRASH_DATE\", \"RD_NO\", \"VEHICLE_ID\"])"
   ]
  },
  {
   "cell_type": "code",
   "execution_count": 8,
   "metadata": {},
   "outputs": [],
   "source": [
    "# Merge Crashes dataframe with merged dataframe\n",
    "\n",
    "df = pd.merge(df, df_crashes, how = 'inner', on = ['CRASH_RECORD_ID', \"CRASH_DATE\", \"RD_NO\"])"
   ]
  },
  {
   "cell_type": "code",
   "execution_count": 9,
   "metadata": {},
   "outputs": [],
   "source": [
    "# Exporting new dataframe to csv for use throughout rest of notebook\n",
    "\n",
    "df.to_csv(\"Data\\chicago_traffic_accidents_2021_to_11-09-2023.csv\")"
   ]
  },
  {
   "cell_type": "markdown",
   "metadata": {},
   "source": [
    "### Working with a single merge dataset"
   ]
  },
  {
   "cell_type": "code",
   "execution_count": 5,
   "metadata": {},
   "outputs": [],
   "source": [
    "# Can load merged dataframe without needing to go through above steps each time\n",
    "df = pd.read_csv(\"Data\\chicago_traffic_accidents_2021_to_11-09-2023.zip\", \n",
    "                 parse_dates=[\"CRASH_DATE\"], low_memory=False)"
   ]
  },
  {
   "cell_type": "markdown",
   "metadata": {},
   "source": [
    "We don't need all the identifying columns as they are not useful in making a model. We will drop all of those now."
   ]
  },
  {
   "cell_type": "code",
   "execution_count": 6,
   "metadata": {},
   "outputs": [],
   "source": [
    "df.drop(columns = [\"Unnamed: 0\", \"CRASH_UNIT_ID\", \"CRASH_RECORD_ID\", \n",
    "                   \"RD_NO\", \"VEHICLE_ID\"], inplace=True)"
   ]
  },
  {
   "cell_type": "markdown",
   "metadata": {},
   "source": [
    "We only want unique vehicle damage count, so we need to remove rows that represent passengers, as these will duplicate the vehicle damage. We also should remove any other rows that don't represent drivers. We can use the \"PERSON_TYPE\" column for this."
   ]
  },
  {
   "cell_type": "code",
   "execution_count": 7,
   "metadata": {},
   "outputs": [
    {
     "data": {
      "text/plain": [
       "DRIVER                 0.780694\n",
       "PASSENGER              0.197756\n",
       "PEDESTRIAN             0.012899\n",
       "BICYCLE                0.007730\n",
       "NON-MOTOR VEHICLE      0.000760\n",
       "NON-CONTACT VEHICLE    0.000162\n",
       "Name: PERSON_TYPE, dtype: float64"
      ]
     },
     "execution_count": 7,
     "metadata": {},
     "output_type": "execute_result"
    }
   ],
   "source": [
    "# Check values in Person_type column\n",
    "\n",
    "df['PERSON_TYPE'].value_counts(normalize=True)"
   ]
  },
  {
   "cell_type": "code",
   "execution_count": 8,
   "metadata": {},
   "outputs": [],
   "source": [
    "# Remove all types of person except DRIVER\n",
    "\n",
    "df = df[df['PERSON_TYPE'] == 'DRIVER']"
   ]
  },
  {
   "cell_type": "code",
   "execution_count": 9,
   "metadata": {},
   "outputs": [
    {
     "data": {
      "text/plain": [
       "DRIVER    1.0\n",
       "Name: PERSON_TYPE, dtype: float64"
      ]
     },
     "execution_count": 9,
     "metadata": {},
     "output_type": "execute_result"
    }
   ],
   "source": [
    "# Sanity check\n",
    "\n",
    "df['PERSON_TYPE'].value_counts(normalize=True)"
   ]
  },
  {
   "cell_type": "markdown",
   "metadata": {},
   "source": [
    "### Missingness"
   ]
  },
  {
   "cell_type": "markdown",
   "metadata": {},
   "source": [
    "Next we look at null values to try to determine which columns might need to be imputed or if the data is too incomplete to be useful. "
   ]
  },
  {
   "cell_type": "code",
   "execution_count": 10,
   "metadata": {},
   "outputs": [],
   "source": [
    "# First dropping columns that no longer have any data after removing all but DRIVER entries\n",
    "\n",
    "df= df.dropna(axis=1, how=\"all\")"
   ]
  },
  {
   "cell_type": "code",
   "execution_count": 11,
   "metadata": {},
   "outputs": [
    {
     "name": "stdout",
     "output_type": "stream",
     "text": [
      "<class 'pandas.core.frame.DataFrame'>\n",
      "Int64Index: 530319 entries, 0 to 766594\n",
      "Data columns (total 39 columns):\n",
      " #   Column                   Non-Null Count   Dtype         \n",
      "---  ------                   --------------   -----         \n",
      " 0   CRASH_DATE               530319 non-null  datetime64[ns]\n",
      " 1   UNIT_TYPE                530310 non-null  object        \n",
      " 2   NUM_PASSENGERS           85079 non-null   float64       \n",
      " 3   CMRC_VEH_I               10945 non-null   object        \n",
      " 4   MAKE                     530098 non-null  object        \n",
      " 5   MODEL                    530098 non-null  object        \n",
      " 6   VEHICLE_YEAR             434488 non-null  float64       \n",
      " 7   VEHICLE_DEFECT           530098 non-null  object        \n",
      " 8   VEHICLE_TYPE             530098 non-null  object        \n",
      " 9   VEHICLE_USE              530098 non-null  object        \n",
      " 10  OCCUPANT_CNT             530098 non-null  float64       \n",
      " 11  EXCEED_SPEED_LIMIT_I     9 non-null       object        \n",
      " 12  PERSON_TYPE              530319 non-null  object        \n",
      " 13  SEX                      530319 non-null  object        \n",
      " 14  AGE                      377472 non-null  float64       \n",
      " 15  DRIVERS_LICENSE_STATE    390210 non-null  object        \n",
      " 16  DRIVERS_LICENSE_CLASS    308207 non-null  object        \n",
      " 17  BAC_RESULT               530319 non-null  object        \n",
      " 18  BAC_RESULT VALUE         612 non-null     float64       \n",
      " 19  CELL_PHONE_USE           2 non-null       object        \n",
      " 20  CRASH_DATE_EST_I         32074 non-null   object        \n",
      " 21  POSTED_SPEED_LIMIT       530319 non-null  int64         \n",
      " 22  TRAFFIC_CONTROL_DEVICE   530319 non-null  object        \n",
      " 23  DEVICE_CONDITION         530319 non-null  object        \n",
      " 24  WEATHER_CONDITION        530319 non-null  object        \n",
      " 25  LIGHTING_CONDITION       530319 non-null  object        \n",
      " 26  TRAFFICWAY_TYPE          530319 non-null  object        \n",
      " 27  ALIGNMENT                530319 non-null  object        \n",
      " 28  ROADWAY_SURFACE_COND     530319 non-null  object        \n",
      " 29  ROAD_DEFECT              530319 non-null  object        \n",
      " 30  DAMAGE                   530319 non-null  object        \n",
      " 31  PRIM_CONTRIBUTORY_CAUSE  530319 non-null  object        \n",
      " 32  SEC_CONTRIBUTORY_CAUSE   530319 non-null  object        \n",
      " 33  BEAT_OF_OCCURRENCE       530319 non-null  float64       \n",
      " 34  CRASH_HOUR               530319 non-null  int64         \n",
      " 35  CRASH_DAY_OF_WEEK        530319 non-null  int64         \n",
      " 36  LATITUDE                 525675 non-null  float64       \n",
      " 37  LONGITUDE                525675 non-null  float64       \n",
      " 38  LOCATION                 525675 non-null  object        \n",
      "dtypes: datetime64[ns](1), float64(8), int64(3), object(27)\n",
      "memory usage: 161.8+ MB\n"
     ]
    }
   ],
   "source": [
    "# Looking at the total nulls left in remaining columns\n",
    "\n",
    "df.info()"
   ]
  },
  {
   "cell_type": "markdown",
   "metadata": {},
   "source": [
    "There are several columns that seem useful from the data dictionaries, but look almost entirely full of nulls. We do a value_counts for those columns to see what's in them."
   ]
  },
  {
   "cell_type": "code",
   "execution_count": 12,
   "metadata": {},
   "outputs": [
    {
     "data": {
      "text/plain": [
       "NaN     445240\n",
       "1.0      60610\n",
       "2.0      15374\n",
       "3.0       6037\n",
       "4.0       2034\n",
       "5.0        560\n",
       "6.0        234\n",
       "7.0         84\n",
       "8.0         28\n",
       "10.0        23\n",
       "9.0         19\n",
       "11.0        18\n",
       "12.0        10\n",
       "17.0         6\n",
       "14.0         5\n",
       "19.0         4\n",
       "13.0         4\n",
       "16.0         4\n",
       "15.0         3\n",
       "18.0         2\n",
       "22.0         2\n",
       "21.0         2\n",
       "27.0         2\n",
       "43.0         2\n",
       "26.0         2\n",
       "20.0         1\n",
       "33.0         1\n",
       "34.0         1\n",
       "28.0         1\n",
       "46.0         1\n",
       "42.0         1\n",
       "30.0         1\n",
       "32.0         1\n",
       "31.0         1\n",
       "24.0         1\n",
       "Name: NUM_PASSENGERS, dtype: int64"
      ]
     },
     "execution_count": 12,
     "metadata": {},
     "output_type": "execute_result"
    }
   ],
   "source": [
    "# NUM_PASSENGERS\n",
    "\n",
    "df[\"NUM_PASSENGERS\"].value_counts(dropna=False)"
   ]
  },
  {
   "cell_type": "markdown",
   "metadata": {},
   "source": [
    "There is no 0 value, so the NaNs are problably 0. However, OCCUPANT_CNT represents the same information so we won't need this column. "
   ]
  },
  {
   "cell_type": "code",
   "execution_count": 13,
   "metadata": {},
   "outputs": [
    {
     "data": {
      "text/plain": [
       "NaN    519374\n",
       "Y        6602\n",
       "N        4343\n",
       "Name: CMRC_VEH_I, dtype: int64"
      ]
     },
     "execution_count": 13,
     "metadata": {},
     "output_type": "execute_result"
    }
   ],
   "source": [
    "# CMRC_VEH_I\n",
    "\n",
    "df[\"CMRC_VEH_I\"].value_counts(dropna=False)"
   ]
  },
  {
   "cell_type": "markdown",
   "metadata": {},
   "source": [
    "This is a binary flag, but the missing values represent the overwhelming majority. We can drop the Y rows because they are commercial vehicles and do not fit the business problem, but the rest we will leave as we cannot make an assumption from such a small subset that the Y/N ratio is representative of the whole. "
   ]
  },
  {
   "cell_type": "code",
   "execution_count": 14,
   "metadata": {},
   "outputs": [],
   "source": [
    "# Dropping Commercial Vehicles\n",
    "\n",
    "df = df[df[\"CMRC_VEH_I\"]!=\"Y\"]"
   ]
  },
  {
   "cell_type": "code",
   "execution_count": 15,
   "metadata": {},
   "outputs": [
    {
     "data": {
      "text/plain": [
       "NaN    519374\n",
       "N        4343\n",
       "Name: CMRC_VEH_I, dtype: int64"
      ]
     },
     "execution_count": 15,
     "metadata": {},
     "output_type": "execute_result"
    }
   ],
   "source": [
    "# Sanity Check\n",
    "\n",
    "df[\"CMRC_VEH_I\"].value_counts(dropna=False)"
   ]
  },
  {
   "cell_type": "code",
   "execution_count": 16,
   "metadata": {},
   "outputs": [
    {
     "data": {
      "text/plain": [
       "NaN    523708\n",
       "N           5\n",
       "Y           4\n",
       "Name: EXCEED_SPEED_LIMIT_I, dtype: int64"
      ]
     },
     "execution_count": 16,
     "metadata": {},
     "output_type": "execute_result"
    }
   ],
   "source": [
    "# EXCEED_SPEED_LIMIT_I\n",
    "\n",
    "df[\"EXCEED_SPEED_LIMIT_I\"].value_counts(dropna=False)"
   ]
  },
  {
   "cell_type": "markdown",
   "metadata": {},
   "source": [
    "This is a binary flag, but the missing values represent the overwhelming majority. We cannot make an assumption from such a small subset that the Y/N ratio is representative of the whole. This does not seem to be a useful column."
   ]
  },
  {
   "cell_type": "code",
   "execution_count": 17,
   "metadata": {},
   "outputs": [
    {
     "data": {
      "text/plain": [
       "NaN      152142\n",
       "28.0      10738\n",
       "27.0      10706\n",
       "29.0      10618\n",
       "26.0      10583\n",
       "          ...  \n",
       "101.0         5\n",
       "102.0         4\n",
       "103.0         3\n",
       "98.0          3\n",
       "110.0         2\n",
       "Name: AGE, Length: 106, dtype: int64"
      ]
     },
     "execution_count": 17,
     "metadata": {},
     "output_type": "execute_result"
    }
   ],
   "source": [
    "# AGE\n",
    "\n",
    "df[\"AGE\"].value_counts(dropna=False)"
   ]
  },
  {
   "cell_type": "code",
   "execution_count": 18,
   "metadata": {},
   "outputs": [
    {
     "data": {
      "text/plain": [
       "39.92547399582857"
      ]
     },
     "execution_count": 18,
     "metadata": {},
     "output_type": "execute_result"
    }
   ],
   "source": [
    "df[\"AGE\"].mean()"
   ]
  },
  {
   "cell_type": "markdown",
   "metadata": {},
   "source": [
    "Missing values is a smaller percentage, and the mean of age seems to make sense, so we can impute the mean later on and keep this column."
   ]
  },
  {
   "cell_type": "code",
   "execution_count": 19,
   "metadata": {},
   "outputs": [
    {
     "data": {
      "text/plain": [
       "NaN    523715\n",
       "N           2\n",
       "Name: CELL_PHONE_USE, dtype: int64"
      ]
     },
     "execution_count": 19,
     "metadata": {},
     "output_type": "execute_result"
    }
   ],
   "source": [
    "# CELL_PHONE_USE\n",
    "\n",
    "df[\"CELL_PHONE_USE\"].value_counts(dropna=False)"
   ]
  },
  {
   "cell_type": "markdown",
   "metadata": {},
   "source": [
    "This is a binary flag, but the missing values represent the overwhelming majority. We cannot make an assumption from such a small subset that the Y/N ratio is representative of the whole. This does not seem to be a useful column."
   ]
  },
  {
   "cell_type": "code",
   "execution_count": 20,
   "metadata": {},
   "outputs": [],
   "source": [
    "# Dropping all columns determined not to be useful\n",
    "\n",
    "df.drop(columns = [\"CMRC_VEH_I\", \"EXCEED_SPEED_LIMIT_I\", \"CELL_PHONE_USE\", ], inplace=True)"
   ]
  },
  {
   "cell_type": "code",
   "execution_count": 21,
   "metadata": {},
   "outputs": [
    {
     "name": "stdout",
     "output_type": "stream",
     "text": [
      "<class 'pandas.core.frame.DataFrame'>\n",
      "Int64Index: 523717 entries, 0 to 766594\n",
      "Data columns (total 36 columns):\n",
      " #   Column                   Non-Null Count   Dtype         \n",
      "---  ------                   --------------   -----         \n",
      " 0   CRASH_DATE               523717 non-null  datetime64[ns]\n",
      " 1   UNIT_TYPE                523708 non-null  object        \n",
      " 2   NUM_PASSENGERS           84450 non-null   float64       \n",
      " 3   MAKE                     523496 non-null  object        \n",
      " 4   MODEL                    523496 non-null  object        \n",
      " 5   VEHICLE_YEAR             428682 non-null  float64       \n",
      " 6   VEHICLE_DEFECT           523496 non-null  object        \n",
      " 7   VEHICLE_TYPE             523496 non-null  object        \n",
      " 8   VEHICLE_USE              523496 non-null  object        \n",
      " 9   OCCUPANT_CNT             523496 non-null  float64       \n",
      " 10  PERSON_TYPE              523717 non-null  object        \n",
      " 11  SEX                      523717 non-null  object        \n",
      " 12  AGE                      371575 non-null  float64       \n",
      " 13  DRIVERS_LICENSE_STATE    384260 non-null  object        \n",
      " 14  DRIVERS_LICENSE_CLASS    302924 non-null  object        \n",
      " 15  BAC_RESULT               523717 non-null  object        \n",
      " 16  BAC_RESULT VALUE         610 non-null     float64       \n",
      " 17  CRASH_DATE_EST_I         31792 non-null   object        \n",
      " 18  POSTED_SPEED_LIMIT       523717 non-null  int64         \n",
      " 19  TRAFFIC_CONTROL_DEVICE   523717 non-null  object        \n",
      " 20  DEVICE_CONDITION         523717 non-null  object        \n",
      " 21  WEATHER_CONDITION        523717 non-null  object        \n",
      " 22  LIGHTING_CONDITION       523717 non-null  object        \n",
      " 23  TRAFFICWAY_TYPE          523717 non-null  object        \n",
      " 24  ALIGNMENT                523717 non-null  object        \n",
      " 25  ROADWAY_SURFACE_COND     523717 non-null  object        \n",
      " 26  ROAD_DEFECT              523717 non-null  object        \n",
      " 27  DAMAGE                   523717 non-null  object        \n",
      " 28  PRIM_CONTRIBUTORY_CAUSE  523717 non-null  object        \n",
      " 29  SEC_CONTRIBUTORY_CAUSE   523717 non-null  object        \n",
      " 30  BEAT_OF_OCCURRENCE       523717 non-null  float64       \n",
      " 31  CRASH_HOUR               523717 non-null  int64         \n",
      " 32  CRASH_DAY_OF_WEEK        523717 non-null  int64         \n",
      " 33  LATITUDE                 519247 non-null  float64       \n",
      " 34  LONGITUDE                519247 non-null  float64       \n",
      " 35  LOCATION                 519247 non-null  object        \n",
      "dtypes: datetime64[ns](1), float64(8), int64(3), object(24)\n",
      "memory usage: 147.8+ MB\n"
     ]
    }
   ],
   "source": [
    "#Sanity Check\n",
    "\n",
    "df.info()"
   ]
  },
  {
   "cell_type": "markdown",
   "metadata": {},
   "source": [
    "### Compare Variables"
   ]
  },
  {
   "cell_type": "code",
   "execution_count": 22,
   "metadata": {},
   "outputs": [
    {
     "name": "stderr",
     "output_type": "stream",
     "text": [
      "<ipython-input-22-f0b840b36521>:3: FutureWarning: Treating datetime data as categorical rather than numeric in `.describe` is deprecated and will be removed in a future version of pandas. Specify `datetime_is_numeric=True` to silence this warning and adopt the future behavior now.\n",
      "  df.describe(include=\"all\")\n"
     ]
    },
    {
     "data": {
      "text/html": [
       "<div>\n",
       "<style scoped>\n",
       "    .dataframe tbody tr th:only-of-type {\n",
       "        vertical-align: middle;\n",
       "    }\n",
       "\n",
       "    .dataframe tbody tr th {\n",
       "        vertical-align: top;\n",
       "    }\n",
       "\n",
       "    .dataframe thead th {\n",
       "        text-align: right;\n",
       "    }\n",
       "</style>\n",
       "<table border=\"1\" class=\"dataframe\">\n",
       "  <thead>\n",
       "    <tr style=\"text-align: right;\">\n",
       "      <th></th>\n",
       "      <th>CRASH_DATE</th>\n",
       "      <th>UNIT_TYPE</th>\n",
       "      <th>NUM_PASSENGERS</th>\n",
       "      <th>MAKE</th>\n",
       "      <th>MODEL</th>\n",
       "      <th>VEHICLE_YEAR</th>\n",
       "      <th>VEHICLE_DEFECT</th>\n",
       "      <th>VEHICLE_TYPE</th>\n",
       "      <th>VEHICLE_USE</th>\n",
       "      <th>OCCUPANT_CNT</th>\n",
       "      <th>...</th>\n",
       "      <th>ROAD_DEFECT</th>\n",
       "      <th>DAMAGE</th>\n",
       "      <th>PRIM_CONTRIBUTORY_CAUSE</th>\n",
       "      <th>SEC_CONTRIBUTORY_CAUSE</th>\n",
       "      <th>BEAT_OF_OCCURRENCE</th>\n",
       "      <th>CRASH_HOUR</th>\n",
       "      <th>CRASH_DAY_OF_WEEK</th>\n",
       "      <th>LATITUDE</th>\n",
       "      <th>LONGITUDE</th>\n",
       "      <th>LOCATION</th>\n",
       "    </tr>\n",
       "  </thead>\n",
       "  <tbody>\n",
       "    <tr>\n",
       "      <th>count</th>\n",
       "      <td>523717</td>\n",
       "      <td>523708</td>\n",
       "      <td>84450.000000</td>\n",
       "      <td>523496</td>\n",
       "      <td>523496</td>\n",
       "      <td>428682.000000</td>\n",
       "      <td>523496</td>\n",
       "      <td>523496</td>\n",
       "      <td>523496</td>\n",
       "      <td>523496.000000</td>\n",
       "      <td>...</td>\n",
       "      <td>523717</td>\n",
       "      <td>523717</td>\n",
       "      <td>523717</td>\n",
       "      <td>523717</td>\n",
       "      <td>523717.000000</td>\n",
       "      <td>523717.000000</td>\n",
       "      <td>523717.000000</td>\n",
       "      <td>519247.000000</td>\n",
       "      <td>519247.000000</td>\n",
       "      <td>519247</td>\n",
       "    </tr>\n",
       "    <tr>\n",
       "      <th>unique</th>\n",
       "      <td>204665</td>\n",
       "      <td>5</td>\n",
       "      <td>NaN</td>\n",
       "      <td>628</td>\n",
       "      <td>1694</td>\n",
       "      <td>NaN</td>\n",
       "      <td>17</td>\n",
       "      <td>21</td>\n",
       "      <td>23</td>\n",
       "      <td>NaN</td>\n",
       "      <td>...</td>\n",
       "      <td>7</td>\n",
       "      <td>3</td>\n",
       "      <td>38</td>\n",
       "      <td>38</td>\n",
       "      <td>NaN</td>\n",
       "      <td>NaN</td>\n",
       "      <td>NaN</td>\n",
       "      <td>NaN</td>\n",
       "      <td>NaN</td>\n",
       "      <td>154726</td>\n",
       "    </tr>\n",
       "    <tr>\n",
       "      <th>top</th>\n",
       "      <td>2022-02-17 15:30:00</td>\n",
       "      <td>DRIVER</td>\n",
       "      <td>NaN</td>\n",
       "      <td>UNKNOWN</td>\n",
       "      <td>OTHER (EXPLAIN IN NARRATIVE)</td>\n",
       "      <td>NaN</td>\n",
       "      <td>UNKNOWN</td>\n",
       "      <td>PASSENGER</td>\n",
       "      <td>PERSONAL</td>\n",
       "      <td>NaN</td>\n",
       "      <td>...</td>\n",
       "      <td>NO DEFECTS</td>\n",
       "      <td>OVER $1,500</td>\n",
       "      <td>UNABLE TO DETERMINE</td>\n",
       "      <td>NOT APPLICABLE</td>\n",
       "      <td>NaN</td>\n",
       "      <td>NaN</td>\n",
       "      <td>NaN</td>\n",
       "      <td>NaN</td>\n",
       "      <td>NaN</td>\n",
       "      <td>POINT (-87.905309125103 41.976201139024)</td>\n",
       "    </tr>\n",
       "    <tr>\n",
       "      <th>freq</th>\n",
       "      <td>37</td>\n",
       "      <td>523684</td>\n",
       "      <td>NaN</td>\n",
       "      <td>61453</td>\n",
       "      <td>98351</td>\n",
       "      <td>NaN</td>\n",
       "      <td>272814</td>\n",
       "      <td>322655</td>\n",
       "      <td>351807</td>\n",
       "      <td>NaN</td>\n",
       "      <td>...</td>\n",
       "      <td>405349</td>\n",
       "      <td>360020</td>\n",
       "      <td>202712</td>\n",
       "      <td>214936</td>\n",
       "      <td>NaN</td>\n",
       "      <td>NaN</td>\n",
       "      <td>NaN</td>\n",
       "      <td>NaN</td>\n",
       "      <td>NaN</td>\n",
       "      <td>1040</td>\n",
       "    </tr>\n",
       "    <tr>\n",
       "      <th>first</th>\n",
       "      <td>2021-01-01 00:00:00</td>\n",
       "      <td>NaN</td>\n",
       "      <td>NaN</td>\n",
       "      <td>NaN</td>\n",
       "      <td>NaN</td>\n",
       "      <td>NaN</td>\n",
       "      <td>NaN</td>\n",
       "      <td>NaN</td>\n",
       "      <td>NaN</td>\n",
       "      <td>NaN</td>\n",
       "      <td>...</td>\n",
       "      <td>NaN</td>\n",
       "      <td>NaN</td>\n",
       "      <td>NaN</td>\n",
       "      <td>NaN</td>\n",
       "      <td>NaN</td>\n",
       "      <td>NaN</td>\n",
       "      <td>NaN</td>\n",
       "      <td>NaN</td>\n",
       "      <td>NaN</td>\n",
       "      <td>NaN</td>\n",
       "    </tr>\n",
       "    <tr>\n",
       "      <th>last</th>\n",
       "      <td>2023-11-09 02:40:00</td>\n",
       "      <td>NaN</td>\n",
       "      <td>NaN</td>\n",
       "      <td>NaN</td>\n",
       "      <td>NaN</td>\n",
       "      <td>NaN</td>\n",
       "      <td>NaN</td>\n",
       "      <td>NaN</td>\n",
       "      <td>NaN</td>\n",
       "      <td>NaN</td>\n",
       "      <td>...</td>\n",
       "      <td>NaN</td>\n",
       "      <td>NaN</td>\n",
       "      <td>NaN</td>\n",
       "      <td>NaN</td>\n",
       "      <td>NaN</td>\n",
       "      <td>NaN</td>\n",
       "      <td>NaN</td>\n",
       "      <td>NaN</td>\n",
       "      <td>NaN</td>\n",
       "      <td>NaN</td>\n",
       "    </tr>\n",
       "    <tr>\n",
       "      <th>mean</th>\n",
       "      <td>NaN</td>\n",
       "      <td>NaN</td>\n",
       "      <td>1.456945</td>\n",
       "      <td>NaN</td>\n",
       "      <td>NaN</td>\n",
       "      <td>2014.883128</td>\n",
       "      <td>NaN</td>\n",
       "      <td>NaN</td>\n",
       "      <td>NaN</td>\n",
       "      <td>1.234516</td>\n",
       "      <td>...</td>\n",
       "      <td>NaN</td>\n",
       "      <td>NaN</td>\n",
       "      <td>NaN</td>\n",
       "      <td>NaN</td>\n",
       "      <td>1239.549677</td>\n",
       "      <td>13.360557</td>\n",
       "      <td>4.137664</td>\n",
       "      <td>41.852148</td>\n",
       "      <td>-87.673290</td>\n",
       "      <td>NaN</td>\n",
       "    </tr>\n",
       "    <tr>\n",
       "      <th>std</th>\n",
       "      <td>NaN</td>\n",
       "      <td>NaN</td>\n",
       "      <td>0.995520</td>\n",
       "      <td>NaN</td>\n",
       "      <td>NaN</td>\n",
       "      <td>118.634721</td>\n",
       "      <td>NaN</td>\n",
       "      <td>NaN</td>\n",
       "      <td>NaN</td>\n",
       "      <td>0.667260</td>\n",
       "      <td>...</td>\n",
       "      <td>NaN</td>\n",
       "      <td>NaN</td>\n",
       "      <td>NaN</td>\n",
       "      <td>NaN</td>\n",
       "      <td>701.016896</td>\n",
       "      <td>5.512825</td>\n",
       "      <td>1.982557</td>\n",
       "      <td>0.368367</td>\n",
       "      <td>0.752426</td>\n",
       "      <td>NaN</td>\n",
       "    </tr>\n",
       "    <tr>\n",
       "      <th>min</th>\n",
       "      <td>NaN</td>\n",
       "      <td>NaN</td>\n",
       "      <td>1.000000</td>\n",
       "      <td>NaN</td>\n",
       "      <td>NaN</td>\n",
       "      <td>1900.000000</td>\n",
       "      <td>NaN</td>\n",
       "      <td>NaN</td>\n",
       "      <td>NaN</td>\n",
       "      <td>0.000000</td>\n",
       "      <td>...</td>\n",
       "      <td>NaN</td>\n",
       "      <td>NaN</td>\n",
       "      <td>NaN</td>\n",
       "      <td>NaN</td>\n",
       "      <td>111.000000</td>\n",
       "      <td>0.000000</td>\n",
       "      <td>1.000000</td>\n",
       "      <td>0.000000</td>\n",
       "      <td>-87.936193</td>\n",
       "      <td>NaN</td>\n",
       "    </tr>\n",
       "    <tr>\n",
       "      <th>25%</th>\n",
       "      <td>NaN</td>\n",
       "      <td>NaN</td>\n",
       "      <td>1.000000</td>\n",
       "      <td>NaN</td>\n",
       "      <td>NaN</td>\n",
       "      <td>2009.000000</td>\n",
       "      <td>NaN</td>\n",
       "      <td>NaN</td>\n",
       "      <td>NaN</td>\n",
       "      <td>1.000000</td>\n",
       "      <td>...</td>\n",
       "      <td>NaN</td>\n",
       "      <td>NaN</td>\n",
       "      <td>NaN</td>\n",
       "      <td>NaN</td>\n",
       "      <td>715.000000</td>\n",
       "      <td>10.000000</td>\n",
       "      <td>2.000000</td>\n",
       "      <td>41.779949</td>\n",
       "      <td>-87.722859</td>\n",
       "      <td>NaN</td>\n",
       "    </tr>\n",
       "    <tr>\n",
       "      <th>50%</th>\n",
       "      <td>NaN</td>\n",
       "      <td>NaN</td>\n",
       "      <td>1.000000</td>\n",
       "      <td>NaN</td>\n",
       "      <td>NaN</td>\n",
       "      <td>2014.000000</td>\n",
       "      <td>NaN</td>\n",
       "      <td>NaN</td>\n",
       "      <td>NaN</td>\n",
       "      <td>1.000000</td>\n",
       "      <td>...</td>\n",
       "      <td>NaN</td>\n",
       "      <td>NaN</td>\n",
       "      <td>NaN</td>\n",
       "      <td>NaN</td>\n",
       "      <td>1134.000000</td>\n",
       "      <td>14.000000</td>\n",
       "      <td>4.000000</td>\n",
       "      <td>41.871981</td>\n",
       "      <td>-87.675525</td>\n",
       "      <td>NaN</td>\n",
       "    </tr>\n",
       "    <tr>\n",
       "      <th>75%</th>\n",
       "      <td>NaN</td>\n",
       "      <td>NaN</td>\n",
       "      <td>2.000000</td>\n",
       "      <td>NaN</td>\n",
       "      <td>NaN</td>\n",
       "      <td>2018.000000</td>\n",
       "      <td>NaN</td>\n",
       "      <td>NaN</td>\n",
       "      <td>NaN</td>\n",
       "      <td>1.000000</td>\n",
       "      <td>...</td>\n",
       "      <td>NaN</td>\n",
       "      <td>NaN</td>\n",
       "      <td>NaN</td>\n",
       "      <td>NaN</td>\n",
       "      <td>1814.000000</td>\n",
       "      <td>17.000000</td>\n",
       "      <td>6.000000</td>\n",
       "      <td>41.924092</td>\n",
       "      <td>-87.633793</td>\n",
       "      <td>NaN</td>\n",
       "    </tr>\n",
       "    <tr>\n",
       "      <th>max</th>\n",
       "      <td>NaN</td>\n",
       "      <td>NaN</td>\n",
       "      <td>46.000000</td>\n",
       "      <td>NaN</td>\n",
       "      <td>NaN</td>\n",
       "      <td>9999.000000</td>\n",
       "      <td>NaN</td>\n",
       "      <td>NaN</td>\n",
       "      <td>NaN</td>\n",
       "      <td>47.000000</td>\n",
       "      <td>...</td>\n",
       "      <td>NaN</td>\n",
       "      <td>NaN</td>\n",
       "      <td>NaN</td>\n",
       "      <td>NaN</td>\n",
       "      <td>6100.000000</td>\n",
       "      <td>23.000000</td>\n",
       "      <td>7.000000</td>\n",
       "      <td>42.022780</td>\n",
       "      <td>0.000000</td>\n",
       "      <td>NaN</td>\n",
       "    </tr>\n",
       "  </tbody>\n",
       "</table>\n",
       "<p>13 rows × 36 columns</p>\n",
       "</div>"
      ],
      "text/plain": [
       "                 CRASH_DATE UNIT_TYPE  NUM_PASSENGERS     MAKE  \\\n",
       "count                523717    523708    84450.000000   523496   \n",
       "unique               204665         5             NaN      628   \n",
       "top     2022-02-17 15:30:00    DRIVER             NaN  UNKNOWN   \n",
       "freq                     37    523684             NaN    61453   \n",
       "first   2021-01-01 00:00:00       NaN             NaN      NaN   \n",
       "last    2023-11-09 02:40:00       NaN             NaN      NaN   \n",
       "mean                    NaN       NaN        1.456945      NaN   \n",
       "std                     NaN       NaN        0.995520      NaN   \n",
       "min                     NaN       NaN        1.000000      NaN   \n",
       "25%                     NaN       NaN        1.000000      NaN   \n",
       "50%                     NaN       NaN        1.000000      NaN   \n",
       "75%                     NaN       NaN        2.000000      NaN   \n",
       "max                     NaN       NaN       46.000000      NaN   \n",
       "\n",
       "                               MODEL   VEHICLE_YEAR VEHICLE_DEFECT  \\\n",
       "count                         523496  428682.000000         523496   \n",
       "unique                          1694            NaN             17   \n",
       "top     OTHER (EXPLAIN IN NARRATIVE)            NaN        UNKNOWN   \n",
       "freq                           98351            NaN         272814   \n",
       "first                            NaN            NaN            NaN   \n",
       "last                             NaN            NaN            NaN   \n",
       "mean                             NaN    2014.883128            NaN   \n",
       "std                              NaN     118.634721            NaN   \n",
       "min                              NaN    1900.000000            NaN   \n",
       "25%                              NaN    2009.000000            NaN   \n",
       "50%                              NaN    2014.000000            NaN   \n",
       "75%                              NaN    2018.000000            NaN   \n",
       "max                              NaN    9999.000000            NaN   \n",
       "\n",
       "       VEHICLE_TYPE VEHICLE_USE   OCCUPANT_CNT  ... ROAD_DEFECT       DAMAGE  \\\n",
       "count        523496      523496  523496.000000  ...      523717       523717   \n",
       "unique           21          23            NaN  ...           7            3   \n",
       "top       PASSENGER    PERSONAL            NaN  ...  NO DEFECTS  OVER $1,500   \n",
       "freq         322655      351807            NaN  ...      405349       360020   \n",
       "first           NaN         NaN            NaN  ...         NaN          NaN   \n",
       "last            NaN         NaN            NaN  ...         NaN          NaN   \n",
       "mean            NaN         NaN       1.234516  ...         NaN          NaN   \n",
       "std             NaN         NaN       0.667260  ...         NaN          NaN   \n",
       "min             NaN         NaN       0.000000  ...         NaN          NaN   \n",
       "25%             NaN         NaN       1.000000  ...         NaN          NaN   \n",
       "50%             NaN         NaN       1.000000  ...         NaN          NaN   \n",
       "75%             NaN         NaN       1.000000  ...         NaN          NaN   \n",
       "max             NaN         NaN      47.000000  ...         NaN          NaN   \n",
       "\n",
       "        PRIM_CONTRIBUTORY_CAUSE SEC_CONTRIBUTORY_CAUSE BEAT_OF_OCCURRENCE  \\\n",
       "count                    523717                 523717      523717.000000   \n",
       "unique                       38                     38                NaN   \n",
       "top         UNABLE TO DETERMINE         NOT APPLICABLE                NaN   \n",
       "freq                     202712                 214936                NaN   \n",
       "first                       NaN                    NaN                NaN   \n",
       "last                        NaN                    NaN                NaN   \n",
       "mean                        NaN                    NaN        1239.549677   \n",
       "std                         NaN                    NaN         701.016896   \n",
       "min                         NaN                    NaN         111.000000   \n",
       "25%                         NaN                    NaN         715.000000   \n",
       "50%                         NaN                    NaN        1134.000000   \n",
       "75%                         NaN                    NaN        1814.000000   \n",
       "max                         NaN                    NaN        6100.000000   \n",
       "\n",
       "           CRASH_HOUR  CRASH_DAY_OF_WEEK       LATITUDE      LONGITUDE  \\\n",
       "count   523717.000000      523717.000000  519247.000000  519247.000000   \n",
       "unique            NaN                NaN            NaN            NaN   \n",
       "top               NaN                NaN            NaN            NaN   \n",
       "freq              NaN                NaN            NaN            NaN   \n",
       "first             NaN                NaN            NaN            NaN   \n",
       "last              NaN                NaN            NaN            NaN   \n",
       "mean        13.360557           4.137664      41.852148     -87.673290   \n",
       "std          5.512825           1.982557       0.368367       0.752426   \n",
       "min          0.000000           1.000000       0.000000     -87.936193   \n",
       "25%         10.000000           2.000000      41.779949     -87.722859   \n",
       "50%         14.000000           4.000000      41.871981     -87.675525   \n",
       "75%         17.000000           6.000000      41.924092     -87.633793   \n",
       "max         23.000000           7.000000      42.022780       0.000000   \n",
       "\n",
       "                                        LOCATION  \n",
       "count                                     519247  \n",
       "unique                                    154726  \n",
       "top     POINT (-87.905309125103 41.976201139024)  \n",
       "freq                                        1040  \n",
       "first                                        NaN  \n",
       "last                                         NaN  \n",
       "mean                                         NaN  \n",
       "std                                          NaN  \n",
       "min                                          NaN  \n",
       "25%                                          NaN  \n",
       "50%                                          NaN  \n",
       "75%                                          NaN  \n",
       "max                                          NaN  \n",
       "\n",
       "[13 rows x 36 columns]"
      ]
     },
     "execution_count": 22,
     "metadata": {},
     "output_type": "execute_result"
    }
   ],
   "source": [
    "# Check out the rest of the variables for wierdness\n",
    "\n",
    "df.describe(include=\"all\")"
   ]
  },
  {
   "cell_type": "markdown",
   "metadata": {},
   "source": [
    "Something needs to be done with VEHICLE_YEAR"
   ]
  },
  {
   "cell_type": "code",
   "execution_count": 23,
   "metadata": {},
   "outputs": [
    {
     "data": {
      "text/plain": [
       "308"
      ]
     },
     "execution_count": 23,
     "metadata": {},
     "output_type": "execute_result"
    }
   ],
   "source": [
    "# First we'll see how many vehicles have vehicle years that are not possible\n",
    "\n",
    "future_cars = df[df[\"VEHICLE_YEAR\"] > 2024]\n",
    "future_cars[\"VEHICLE_YEAR\"].count()"
   ]
  },
  {
   "cell_type": "code",
   "execution_count": 24,
   "metadata": {},
   "outputs": [
    {
     "data": {
      "text/html": [
       "<div>\n",
       "<style scoped>\n",
       "    .dataframe tbody tr th:only-of-type {\n",
       "        vertical-align: middle;\n",
       "    }\n",
       "\n",
       "    .dataframe tbody tr th {\n",
       "        vertical-align: top;\n",
       "    }\n",
       "\n",
       "    .dataframe thead th {\n",
       "        text-align: right;\n",
       "    }\n",
       "</style>\n",
       "<table border=\"1\" class=\"dataframe\">\n",
       "  <thead>\n",
       "    <tr style=\"text-align: right;\">\n",
       "      <th></th>\n",
       "      <th>CRASH_DATE</th>\n",
       "      <th>UNIT_TYPE</th>\n",
       "      <th>NUM_PASSENGERS</th>\n",
       "      <th>MAKE</th>\n",
       "      <th>MODEL</th>\n",
       "      <th>VEHICLE_YEAR</th>\n",
       "      <th>VEHICLE_DEFECT</th>\n",
       "      <th>VEHICLE_TYPE</th>\n",
       "      <th>VEHICLE_USE</th>\n",
       "      <th>OCCUPANT_CNT</th>\n",
       "      <th>...</th>\n",
       "      <th>ROAD_DEFECT</th>\n",
       "      <th>DAMAGE</th>\n",
       "      <th>PRIM_CONTRIBUTORY_CAUSE</th>\n",
       "      <th>SEC_CONTRIBUTORY_CAUSE</th>\n",
       "      <th>BEAT_OF_OCCURRENCE</th>\n",
       "      <th>CRASH_HOUR</th>\n",
       "      <th>CRASH_DAY_OF_WEEK</th>\n",
       "      <th>LATITUDE</th>\n",
       "      <th>LONGITUDE</th>\n",
       "      <th>LOCATION</th>\n",
       "    </tr>\n",
       "  </thead>\n",
       "  <tbody>\n",
       "    <tr>\n",
       "      <th>773</th>\n",
       "      <td>2023-04-24 14:13:00</td>\n",
       "      <td>DRIVER</td>\n",
       "      <td>NaN</td>\n",
       "      <td>ACURA</td>\n",
       "      <td>ILX</td>\n",
       "      <td>2032.0</td>\n",
       "      <td>UNKNOWN</td>\n",
       "      <td>PASSENGER</td>\n",
       "      <td>PERSONAL</td>\n",
       "      <td>1.0</td>\n",
       "      <td>...</td>\n",
       "      <td>NO DEFECTS</td>\n",
       "      <td>OVER $1,500</td>\n",
       "      <td>IMPROPER TURNING/NO SIGNAL</td>\n",
       "      <td>NOT APPLICABLE</td>\n",
       "      <td>123.0</td>\n",
       "      <td>14</td>\n",
       "      <td>2</td>\n",
       "      <td>41.870712</td>\n",
       "      <td>-87.626059</td>\n",
       "      <td>POINT (-87.626059232625 41.870711859759)</td>\n",
       "    </tr>\n",
       "    <tr>\n",
       "      <th>1823</th>\n",
       "      <td>2023-08-18 16:00:00</td>\n",
       "      <td>DRIVER</td>\n",
       "      <td>NaN</td>\n",
       "      <td>HONDA</td>\n",
       "      <td>HR-V</td>\n",
       "      <td>2108.0</td>\n",
       "      <td>NONE</td>\n",
       "      <td>SPORT UTILITY VEHICLE (SUV)</td>\n",
       "      <td>PERSONAL</td>\n",
       "      <td>1.0</td>\n",
       "      <td>...</td>\n",
       "      <td>NO DEFECTS</td>\n",
       "      <td>$501 - $1,500</td>\n",
       "      <td>NOT APPLICABLE</td>\n",
       "      <td>NOT APPLICABLE</td>\n",
       "      <td>922.0</td>\n",
       "      <td>16</td>\n",
       "      <td>6</td>\n",
       "      <td>41.809890</td>\n",
       "      <td>-87.700308</td>\n",
       "      <td>POINT (-87.700307527795 41.809889876424)</td>\n",
       "    </tr>\n",
       "    <tr>\n",
       "      <th>4078</th>\n",
       "      <td>2023-04-26 21:05:00</td>\n",
       "      <td>DRIVER</td>\n",
       "      <td>NaN</td>\n",
       "      <td>UNKNOWN</td>\n",
       "      <td>OTHER (EXPLAIN IN NARRATIVE)</td>\n",
       "      <td>9999.0</td>\n",
       "      <td>UNKNOWN</td>\n",
       "      <td>OTHER</td>\n",
       "      <td>UNKNOWN/NA</td>\n",
       "      <td>1.0</td>\n",
       "      <td>...</td>\n",
       "      <td>NO DEFECTS</td>\n",
       "      <td>$500 OR LESS</td>\n",
       "      <td>UNABLE TO DETERMINE</td>\n",
       "      <td>UNABLE TO DETERMINE</td>\n",
       "      <td>2212.0</td>\n",
       "      <td>21</td>\n",
       "      <td>4</td>\n",
       "      <td>41.697183</td>\n",
       "      <td>-87.681473</td>\n",
       "      <td>POINT (-87.681473376583 41.697183178537)</td>\n",
       "    </tr>\n",
       "    <tr>\n",
       "      <th>5209</th>\n",
       "      <td>2023-04-27 10:00:00</td>\n",
       "      <td>DRIVER</td>\n",
       "      <td>NaN</td>\n",
       "      <td>NISSAN</td>\n",
       "      <td>ROGUE</td>\n",
       "      <td>2212.0</td>\n",
       "      <td>NONE</td>\n",
       "      <td>PASSENGER</td>\n",
       "      <td>PERSONAL</td>\n",
       "      <td>1.0</td>\n",
       "      <td>...</td>\n",
       "      <td>NO DEFECTS</td>\n",
       "      <td>OVER $1,500</td>\n",
       "      <td>UNABLE TO DETERMINE</td>\n",
       "      <td>NOT APPLICABLE</td>\n",
       "      <td>1632.0</td>\n",
       "      <td>10</td>\n",
       "      <td>5</td>\n",
       "      <td>41.938256</td>\n",
       "      <td>-87.796520</td>\n",
       "      <td>POINT (-87.796519503363 41.938255709148)</td>\n",
       "    </tr>\n",
       "    <tr>\n",
       "      <th>8326</th>\n",
       "      <td>2023-08-20 02:00:00</td>\n",
       "      <td>DRIVER</td>\n",
       "      <td>NaN</td>\n",
       "      <td>UNKNOWN</td>\n",
       "      <td>MOTORIZED</td>\n",
       "      <td>9999.0</td>\n",
       "      <td>UNKNOWN</td>\n",
       "      <td>UNKNOWN/NA</td>\n",
       "      <td>UNKNOWN/NA</td>\n",
       "      <td>1.0</td>\n",
       "      <td>...</td>\n",
       "      <td>NO DEFECTS</td>\n",
       "      <td>OVER $1,500</td>\n",
       "      <td>UNABLE TO DETERMINE</td>\n",
       "      <td>NOT APPLICABLE</td>\n",
       "      <td>1811.0</td>\n",
       "      <td>2</td>\n",
       "      <td>1</td>\n",
       "      <td>41.919481</td>\n",
       "      <td>-87.662996</td>\n",
       "      <td>POINT (-87.66299600038 41.919481465693)</td>\n",
       "    </tr>\n",
       "  </tbody>\n",
       "</table>\n",
       "<p>5 rows × 36 columns</p>\n",
       "</div>"
      ],
      "text/plain": [
       "              CRASH_DATE UNIT_TYPE  NUM_PASSENGERS     MAKE  \\\n",
       "773  2023-04-24 14:13:00    DRIVER             NaN    ACURA   \n",
       "1823 2023-08-18 16:00:00    DRIVER             NaN    HONDA   \n",
       "4078 2023-04-26 21:05:00    DRIVER             NaN  UNKNOWN   \n",
       "5209 2023-04-27 10:00:00    DRIVER             NaN   NISSAN   \n",
       "8326 2023-08-20 02:00:00    DRIVER             NaN  UNKNOWN   \n",
       "\n",
       "                             MODEL  VEHICLE_YEAR VEHICLE_DEFECT  \\\n",
       "773                            ILX        2032.0        UNKNOWN   \n",
       "1823                          HR-V        2108.0           NONE   \n",
       "4078  OTHER (EXPLAIN IN NARRATIVE)        9999.0        UNKNOWN   \n",
       "5209                         ROGUE        2212.0           NONE   \n",
       "8326                     MOTORIZED        9999.0        UNKNOWN   \n",
       "\n",
       "                     VEHICLE_TYPE VEHICLE_USE  OCCUPANT_CNT  ... ROAD_DEFECT  \\\n",
       "773                     PASSENGER    PERSONAL           1.0  ...  NO DEFECTS   \n",
       "1823  SPORT UTILITY VEHICLE (SUV)    PERSONAL           1.0  ...  NO DEFECTS   \n",
       "4078                        OTHER  UNKNOWN/NA           1.0  ...  NO DEFECTS   \n",
       "5209                    PASSENGER    PERSONAL           1.0  ...  NO DEFECTS   \n",
       "8326                   UNKNOWN/NA  UNKNOWN/NA           1.0  ...  NO DEFECTS   \n",
       "\n",
       "             DAMAGE     PRIM_CONTRIBUTORY_CAUSE SEC_CONTRIBUTORY_CAUSE  \\\n",
       "773     OVER $1,500  IMPROPER TURNING/NO SIGNAL         NOT APPLICABLE   \n",
       "1823  $501 - $1,500              NOT APPLICABLE         NOT APPLICABLE   \n",
       "4078   $500 OR LESS         UNABLE TO DETERMINE    UNABLE TO DETERMINE   \n",
       "5209    OVER $1,500         UNABLE TO DETERMINE         NOT APPLICABLE   \n",
       "8326    OVER $1,500         UNABLE TO DETERMINE         NOT APPLICABLE   \n",
       "\n",
       "     BEAT_OF_OCCURRENCE CRASH_HOUR  CRASH_DAY_OF_WEEK   LATITUDE  LONGITUDE  \\\n",
       "773               123.0         14                  2  41.870712 -87.626059   \n",
       "1823              922.0         16                  6  41.809890 -87.700308   \n",
       "4078             2212.0         21                  4  41.697183 -87.681473   \n",
       "5209             1632.0         10                  5  41.938256 -87.796520   \n",
       "8326             1811.0          2                  1  41.919481 -87.662996   \n",
       "\n",
       "                                      LOCATION  \n",
       "773   POINT (-87.626059232625 41.870711859759)  \n",
       "1823  POINT (-87.700307527795 41.809889876424)  \n",
       "4078  POINT (-87.681473376583 41.697183178537)  \n",
       "5209  POINT (-87.796519503363 41.938255709148)  \n",
       "8326   POINT (-87.66299600038 41.919481465693)  \n",
       "\n",
       "[5 rows x 36 columns]"
      ]
     },
     "execution_count": 24,
     "metadata": {},
     "output_type": "execute_result"
    }
   ],
   "source": [
    "# See if anything else is apparent about these rows\n",
    "\n",
    "future_cars.head()"
   ]
  },
  {
   "cell_type": "code",
   "execution_count": 25,
   "metadata": {},
   "outputs": [
    {
     "data": {
      "text/plain": [
       "0.05881038805308974"
      ]
     },
     "execution_count": 25,
     "metadata": {},
     "output_type": "execute_result"
    }
   ],
   "source": [
    "# Percent of rows with future VEHICLE_YEARS\n",
    "\n",
    "len(future_cars)/len(df)*100"
   ]
  },
  {
   "cell_type": "code",
   "execution_count": 26,
   "metadata": {},
   "outputs": [],
   "source": [
    "# Nothing seems apparently off about these vehicles, \n",
    "# but as they are such a small percentage we will drop them out\n",
    "\n",
    "df = df[df[\"VEHICLE_YEAR\"] <= 2024]"
   ]
  },
  {
   "cell_type": "markdown",
   "metadata": {},
   "source": [
    "Now we compare variables to the DAMAGE column. We will be making a target based on DAMAGE later below."
   ]
  },
  {
   "cell_type": "code",
   "execution_count": 35,
   "metadata": {},
   "outputs": [
    {
     "data": {
      "text/html": [
       "<div>\n",
       "<style scoped>\n",
       "    .dataframe tbody tr th:only-of-type {\n",
       "        vertical-align: middle;\n",
       "    }\n",
       "\n",
       "    .dataframe tbody tr th {\n",
       "        vertical-align: top;\n",
       "    }\n",
       "\n",
       "    .dataframe thead th {\n",
       "        text-align: right;\n",
       "    }\n",
       "</style>\n",
       "<table border=\"1\" class=\"dataframe\">\n",
       "  <thead>\n",
       "    <tr style=\"text-align: right;\">\n",
       "      <th></th>\n",
       "      <th>NUM_PASSENGERS</th>\n",
       "      <th>VEHICLE_YEAR</th>\n",
       "      <th>OCCUPANT_CNT</th>\n",
       "      <th>AGE</th>\n",
       "      <th>BAC_RESULT VALUE</th>\n",
       "      <th>POSTED_SPEED_LIMIT</th>\n",
       "      <th>BEAT_OF_OCCURRENCE</th>\n",
       "      <th>CRASH_HOUR</th>\n",
       "      <th>CRASH_DAY_OF_WEEK</th>\n",
       "      <th>LATITUDE</th>\n",
       "      <th>LONGITUDE</th>\n",
       "    </tr>\n",
       "    <tr>\n",
       "      <th>MAKE</th>\n",
       "      <th></th>\n",
       "      <th></th>\n",
       "      <th></th>\n",
       "      <th></th>\n",
       "      <th></th>\n",
       "      <th></th>\n",
       "      <th></th>\n",
       "      <th></th>\n",
       "      <th></th>\n",
       "      <th></th>\n",
       "      <th></th>\n",
       "    </tr>\n",
       "  </thead>\n",
       "  <tbody>\n",
       "    <tr>\n",
       "      <th>(HOMEMADE MOTORCYCLE, MOPED.ETC.)</th>\n",
       "      <td>1.0</td>\n",
       "      <td>2013.227273</td>\n",
       "      <td>1.015152</td>\n",
       "      <td>33.774194</td>\n",
       "      <td>NaN</td>\n",
       "      <td>29.545455</td>\n",
       "      <td>1462.196970</td>\n",
       "      <td>14.378788</td>\n",
       "      <td>4.303030</td>\n",
       "      <td>41.886035</td>\n",
       "      <td>-87.689217</td>\n",
       "    </tr>\n",
       "    <tr>\n",
       "      <th>(HOMEMADE TRAILER)</th>\n",
       "      <td>NaN</td>\n",
       "      <td>2015.500000</td>\n",
       "      <td>1.000000</td>\n",
       "      <td>42.700000</td>\n",
       "      <td>NaN</td>\n",
       "      <td>30.000000</td>\n",
       "      <td>1262.000000</td>\n",
       "      <td>15.250000</td>\n",
       "      <td>4.250000</td>\n",
       "      <td>41.863117</td>\n",
       "      <td>-87.715259</td>\n",
       "    </tr>\n",
       "    <tr>\n",
       "      <th>(RECONSTRUCTED TRAILERS)</th>\n",
       "      <td>1.0</td>\n",
       "      <td>2013.470588</td>\n",
       "      <td>1.058824</td>\n",
       "      <td>38.466667</td>\n",
       "      <td>NaN</td>\n",
       "      <td>30.000000</td>\n",
       "      <td>1149.588235</td>\n",
       "      <td>11.647059</td>\n",
       "      <td>4.411765</td>\n",
       "      <td>41.842316</td>\n",
       "      <td>-87.688997</td>\n",
       "    </tr>\n",
       "    <tr>\n",
       "      <th>(UNLISTED CONSTRUCTION EQUIPMENT MAKE)</th>\n",
       "      <td>NaN</td>\n",
       "      <td>2017.727273</td>\n",
       "      <td>1.000000</td>\n",
       "      <td>51.272727</td>\n",
       "      <td>NaN</td>\n",
       "      <td>28.181818</td>\n",
       "      <td>1490.454545</td>\n",
       "      <td>9.818182</td>\n",
       "      <td>3.818182</td>\n",
       "      <td>41.902160</td>\n",
       "      <td>-87.691162</td>\n",
       "    </tr>\n",
       "    <tr>\n",
       "      <th>(UNLISTED MAKE)</th>\n",
       "      <td>NaN</td>\n",
       "      <td>2014.466667</td>\n",
       "      <td>1.000000</td>\n",
       "      <td>38.090909</td>\n",
       "      <td>NaN</td>\n",
       "      <td>28.666667</td>\n",
       "      <td>1325.533333</td>\n",
       "      <td>13.200000</td>\n",
       "      <td>4.000000</td>\n",
       "      <td>41.859210</td>\n",
       "      <td>-87.662477</td>\n",
       "    </tr>\n",
       "    <tr>\n",
       "      <th>...</th>\n",
       "      <td>...</td>\n",
       "      <td>...</td>\n",
       "      <td>...</td>\n",
       "      <td>...</td>\n",
       "      <td>...</td>\n",
       "      <td>...</td>\n",
       "      <td>...</td>\n",
       "      <td>...</td>\n",
       "      <td>...</td>\n",
       "      <td>...</td>\n",
       "      <td>...</td>\n",
       "    </tr>\n",
       "    <tr>\n",
       "      <th>YAMAHA</th>\n",
       "      <td>1.1</td>\n",
       "      <td>2010.972067</td>\n",
       "      <td>1.061453</td>\n",
       "      <td>33.537500</td>\n",
       "      <td>NaN</td>\n",
       "      <td>30.016760</td>\n",
       "      <td>1316.217877</td>\n",
       "      <td>14.664804</td>\n",
       "      <td>4.301676</td>\n",
       "      <td>41.878427</td>\n",
       "      <td>-87.686869</td>\n",
       "    </tr>\n",
       "    <tr>\n",
       "      <th>YARBROUGH MANUFACTURING COMPANY - COMET MOTORCYCLE TRAILER</th>\n",
       "      <td>NaN</td>\n",
       "      <td>1998.500000</td>\n",
       "      <td>1.000000</td>\n",
       "      <td>35.000000</td>\n",
       "      <td>NaN</td>\n",
       "      <td>32.500000</td>\n",
       "      <td>1472.500000</td>\n",
       "      <td>10.500000</td>\n",
       "      <td>4.500000</td>\n",
       "      <td>41.747996</td>\n",
       "      <td>-87.653645</td>\n",
       "    </tr>\n",
       "    <tr>\n",
       "      <th>YELLOWSTONE, INC.</th>\n",
       "      <td>4.0</td>\n",
       "      <td>2015.250000</td>\n",
       "      <td>3.000000</td>\n",
       "      <td>57.000000</td>\n",
       "      <td>NaN</td>\n",
       "      <td>30.000000</td>\n",
       "      <td>197.250000</td>\n",
       "      <td>18.250000</td>\n",
       "      <td>4.500000</td>\n",
       "      <td>41.827603</td>\n",
       "      <td>-87.624124</td>\n",
       "    </tr>\n",
       "    <tr>\n",
       "      <th>YUKON DELTA</th>\n",
       "      <td>2.0</td>\n",
       "      <td>2008.444444</td>\n",
       "      <td>1.666667</td>\n",
       "      <td>46.250000</td>\n",
       "      <td>NaN</td>\n",
       "      <td>26.111111</td>\n",
       "      <td>1021.000000</td>\n",
       "      <td>12.222222</td>\n",
       "      <td>3.444444</td>\n",
       "      <td>41.824509</td>\n",
       "      <td>-87.650988</td>\n",
       "    </tr>\n",
       "    <tr>\n",
       "      <th>ZETA</th>\n",
       "      <td>NaN</td>\n",
       "      <td>2022.000000</td>\n",
       "      <td>1.000000</td>\n",
       "      <td>28.000000</td>\n",
       "      <td>NaN</td>\n",
       "      <td>30.000000</td>\n",
       "      <td>924.000000</td>\n",
       "      <td>6.000000</td>\n",
       "      <td>3.000000</td>\n",
       "      <td>41.817684</td>\n",
       "      <td>-87.665040</td>\n",
       "    </tr>\n",
       "  </tbody>\n",
       "</table>\n",
       "<p>556 rows × 11 columns</p>\n",
       "</div>"
      ],
      "text/plain": [
       "                                                    NUM_PASSENGERS  \\\n",
       "MAKE                                                                 \n",
       "(HOMEMADE MOTORCYCLE, MOPED.ETC.)                              1.0   \n",
       "(HOMEMADE TRAILER)                                             NaN   \n",
       "(RECONSTRUCTED TRAILERS)                                       1.0   \n",
       "(UNLISTED CONSTRUCTION EQUIPMENT MAKE)                         NaN   \n",
       "(UNLISTED MAKE)                                                NaN   \n",
       "...                                                            ...   \n",
       "YAMAHA                                                         1.1   \n",
       "YARBROUGH MANUFACTURING COMPANY - COMET MOTORCY...             NaN   \n",
       "YELLOWSTONE, INC.                                              4.0   \n",
       "YUKON DELTA                                                    2.0   \n",
       "ZETA                                                           NaN   \n",
       "\n",
       "                                                    VEHICLE_YEAR  \\\n",
       "MAKE                                                               \n",
       "(HOMEMADE MOTORCYCLE, MOPED.ETC.)                    2013.227273   \n",
       "(HOMEMADE TRAILER)                                   2015.500000   \n",
       "(RECONSTRUCTED TRAILERS)                             2013.470588   \n",
       "(UNLISTED CONSTRUCTION EQUIPMENT MAKE)               2017.727273   \n",
       "(UNLISTED MAKE)                                      2014.466667   \n",
       "...                                                          ...   \n",
       "YAMAHA                                               2010.972067   \n",
       "YARBROUGH MANUFACTURING COMPANY - COMET MOTORCY...   1998.500000   \n",
       "YELLOWSTONE, INC.                                    2015.250000   \n",
       "YUKON DELTA                                          2008.444444   \n",
       "ZETA                                                 2022.000000   \n",
       "\n",
       "                                                    OCCUPANT_CNT        AGE  \\\n",
       "MAKE                                                                          \n",
       "(HOMEMADE MOTORCYCLE, MOPED.ETC.)                       1.015152  33.774194   \n",
       "(HOMEMADE TRAILER)                                      1.000000  42.700000   \n",
       "(RECONSTRUCTED TRAILERS)                                1.058824  38.466667   \n",
       "(UNLISTED CONSTRUCTION EQUIPMENT MAKE)                  1.000000  51.272727   \n",
       "(UNLISTED MAKE)                                         1.000000  38.090909   \n",
       "...                                                          ...        ...   \n",
       "YAMAHA                                                  1.061453  33.537500   \n",
       "YARBROUGH MANUFACTURING COMPANY - COMET MOTORCY...      1.000000  35.000000   \n",
       "YELLOWSTONE, INC.                                       3.000000  57.000000   \n",
       "YUKON DELTA                                             1.666667  46.250000   \n",
       "ZETA                                                    1.000000  28.000000   \n",
       "\n",
       "                                                    BAC_RESULT VALUE  \\\n",
       "MAKE                                                                   \n",
       "(HOMEMADE MOTORCYCLE, MOPED.ETC.)                                NaN   \n",
       "(HOMEMADE TRAILER)                                               NaN   \n",
       "(RECONSTRUCTED TRAILERS)                                         NaN   \n",
       "(UNLISTED CONSTRUCTION EQUIPMENT MAKE)                           NaN   \n",
       "(UNLISTED MAKE)                                                  NaN   \n",
       "...                                                              ...   \n",
       "YAMAHA                                                           NaN   \n",
       "YARBROUGH MANUFACTURING COMPANY - COMET MOTORCY...               NaN   \n",
       "YELLOWSTONE, INC.                                                NaN   \n",
       "YUKON DELTA                                                      NaN   \n",
       "ZETA                                                             NaN   \n",
       "\n",
       "                                                    POSTED_SPEED_LIMIT  \\\n",
       "MAKE                                                                     \n",
       "(HOMEMADE MOTORCYCLE, MOPED.ETC.)                            29.545455   \n",
       "(HOMEMADE TRAILER)                                           30.000000   \n",
       "(RECONSTRUCTED TRAILERS)                                     30.000000   \n",
       "(UNLISTED CONSTRUCTION EQUIPMENT MAKE)                       28.181818   \n",
       "(UNLISTED MAKE)                                              28.666667   \n",
       "...                                                                ...   \n",
       "YAMAHA                                                       30.016760   \n",
       "YARBROUGH MANUFACTURING COMPANY - COMET MOTORCY...           32.500000   \n",
       "YELLOWSTONE, INC.                                            30.000000   \n",
       "YUKON DELTA                                                  26.111111   \n",
       "ZETA                                                         30.000000   \n",
       "\n",
       "                                                    BEAT_OF_OCCURRENCE  \\\n",
       "MAKE                                                                     \n",
       "(HOMEMADE MOTORCYCLE, MOPED.ETC.)                          1462.196970   \n",
       "(HOMEMADE TRAILER)                                         1262.000000   \n",
       "(RECONSTRUCTED TRAILERS)                                   1149.588235   \n",
       "(UNLISTED CONSTRUCTION EQUIPMENT MAKE)                     1490.454545   \n",
       "(UNLISTED MAKE)                                            1325.533333   \n",
       "...                                                                ...   \n",
       "YAMAHA                                                     1316.217877   \n",
       "YARBROUGH MANUFACTURING COMPANY - COMET MOTORCY...         1472.500000   \n",
       "YELLOWSTONE, INC.                                           197.250000   \n",
       "YUKON DELTA                                                1021.000000   \n",
       "ZETA                                                        924.000000   \n",
       "\n",
       "                                                    CRASH_HOUR  \\\n",
       "MAKE                                                             \n",
       "(HOMEMADE MOTORCYCLE, MOPED.ETC.)                    14.378788   \n",
       "(HOMEMADE TRAILER)                                   15.250000   \n",
       "(RECONSTRUCTED TRAILERS)                             11.647059   \n",
       "(UNLISTED CONSTRUCTION EQUIPMENT MAKE)                9.818182   \n",
       "(UNLISTED MAKE)                                      13.200000   \n",
       "...                                                        ...   \n",
       "YAMAHA                                               14.664804   \n",
       "YARBROUGH MANUFACTURING COMPANY - COMET MOTORCY...   10.500000   \n",
       "YELLOWSTONE, INC.                                    18.250000   \n",
       "YUKON DELTA                                          12.222222   \n",
       "ZETA                                                  6.000000   \n",
       "\n",
       "                                                    CRASH_DAY_OF_WEEK  \\\n",
       "MAKE                                                                    \n",
       "(HOMEMADE MOTORCYCLE, MOPED.ETC.)                            4.303030   \n",
       "(HOMEMADE TRAILER)                                           4.250000   \n",
       "(RECONSTRUCTED TRAILERS)                                     4.411765   \n",
       "(UNLISTED CONSTRUCTION EQUIPMENT MAKE)                       3.818182   \n",
       "(UNLISTED MAKE)                                              4.000000   \n",
       "...                                                               ...   \n",
       "YAMAHA                                                       4.301676   \n",
       "YARBROUGH MANUFACTURING COMPANY - COMET MOTORCY...           4.500000   \n",
       "YELLOWSTONE, INC.                                            4.500000   \n",
       "YUKON DELTA                                                  3.444444   \n",
       "ZETA                                                         3.000000   \n",
       "\n",
       "                                                     LATITUDE  LONGITUDE  \n",
       "MAKE                                                                      \n",
       "(HOMEMADE MOTORCYCLE, MOPED.ETC.)                   41.886035 -87.689217  \n",
       "(HOMEMADE TRAILER)                                  41.863117 -87.715259  \n",
       "(RECONSTRUCTED TRAILERS)                            41.842316 -87.688997  \n",
       "(UNLISTED CONSTRUCTION EQUIPMENT MAKE)              41.902160 -87.691162  \n",
       "(UNLISTED MAKE)                                     41.859210 -87.662477  \n",
       "...                                                       ...        ...  \n",
       "YAMAHA                                              41.878427 -87.686869  \n",
       "YARBROUGH MANUFACTURING COMPANY - COMET MOTORCY...  41.747996 -87.653645  \n",
       "YELLOWSTONE, INC.                                   41.827603 -87.624124  \n",
       "YUKON DELTA                                         41.824509 -87.650988  \n",
       "ZETA                                                41.817684 -87.665040  \n",
       "\n",
       "[556 rows x 11 columns]"
      ]
     },
     "execution_count": 35,
     "metadata": {},
     "output_type": "execute_result"
    }
   ],
   "source": [
    "df.groupby(\"MAKE\")"
   ]
  },
  {
   "cell_type": "markdown",
   "metadata": {},
   "source": [
    "## Feature Engineering"
   ]
  },
  {
   "cell_type": "markdown",
   "metadata": {},
   "source": [
    "We are interested in driving skills, knowledge, or experience as a contributing cause of accidents."
   ]
  },
  {
   "cell_type": "code",
   "execution_count": 36,
   "metadata": {},
   "outputs": [
    {
     "data": {
      "text/plain": [
       "False    413932\n",
       "True      14442\n",
       "Name: PRIM_CONTRIBUTORY_CAUSE, dtype: int64"
      ]
     },
     "execution_count": 36,
     "metadata": {},
     "output_type": "execute_result"
    }
   ],
   "source": [
    "(df['PRIM_CONTRIBUTORY_CAUSE'] == 'DRIVING SKILLS/KNOWLEDGE/EXPERIENCE').value_counts()"
   ]
  },
  {
   "cell_type": "code",
   "execution_count": 37,
   "metadata": {},
   "outputs": [
    {
     "data": {
      "text/plain": [
       "False    414731\n",
       "True      13643\n",
       "Name: SEC_CONTRIBUTORY_CAUSE, dtype: int64"
      ]
     },
     "execution_count": 37,
     "metadata": {},
     "output_type": "execute_result"
    }
   ],
   "source": [
    "(df['SEC_CONTRIBUTORY_CAUSE'] == 'DRIVING SKILLS/KNOWLEDGE/EXPERIENCE').value_counts()"
   ]
  },
  {
   "cell_type": "code",
   "execution_count": 38,
   "metadata": {},
   "outputs": [
    {
     "data": {
      "text/plain": [
       "False    425924\n",
       "True       2450\n",
       "dtype: int64"
      ]
     },
     "execution_count": 38,
     "metadata": {},
     "output_type": "execute_result"
    }
   ],
   "source": [
    "((df['PRIM_CONTRIBUTORY_CAUSE'] == 'DRIVING SKILLS/KNOWLEDGE/EXPERIENCE') & (df['SEC_CONTRIBUTORY_CAUSE'] == 'DRIVING SKILLS/KNOWLEDGE/EXPERIENCE')).value_counts()"
   ]
  },
  {
   "cell_type": "code",
   "execution_count": 39,
   "metadata": {},
   "outputs": [],
   "source": [
    "# Create a new column to identify any contributory cause as \"driving skills/knowledge/experience\"\n",
    "\n",
    "def get_cause(row):\n",
    "    if row['PRIM_CONTRIBUTORY_CAUSE'] == 'DRIVING SKILLS/KNOWLEDGE/EXPERIENCE':\n",
    "        return 1\n",
    "    if row['SEC_CONTRIBUTORY_CAUSE'] == 'DRIVING SKILLS/KNOWLEDGE/EXPERIENCE':\n",
    "        return 1\n",
    "    else:\n",
    "        return 0\n",
    "df['DRIVING_SKILLS'] = df.apply(get_cause, axis=1)\n",
    "   "
   ]
  },
  {
   "cell_type": "code",
   "execution_count": 40,
   "metadata": {},
   "outputs": [
    {
     "data": {
      "text/plain": [
       "0    402739\n",
       "1     25635\n",
       "Name: DRIVING_SKILLS, dtype: int64"
      ]
     },
     "execution_count": 40,
     "metadata": {},
     "output_type": "execute_result"
    }
   ],
   "source": [
    "df['DRIVING_SKILLS'].value_counts()"
   ]
  },
  {
   "cell_type": "markdown",
   "metadata": {},
   "source": [
    "We want to identify crashes by the time of day they occurred."
   ]
  },
  {
   "cell_type": "code",
   "execution_count": 41,
   "metadata": {},
   "outputs": [],
   "source": [
    "# Create a new column to identify the time of day crashes occurred\n",
    "\n",
    "def hour(row):\n",
    "    if (row['CRASH_HOUR'] < 7) or (row['CRASH_HOUR'] >23):\n",
    "        return 'Overnight'\n",
    "    if (row['CRASH_HOUR'] in range(7,10)) or (row['CRASH_HOUR'] in range(16,20)):\n",
    "        return 'Commute'\n",
    "    if row['CRASH_HOUR'] in range(10,16):\n",
    "        return 'Daytime'\n",
    "    if row['CRASH_HOUR'] in range(20,24):\n",
    "        return 'Evening'\n",
    "    \n",
    "df['TIME_OF_DAY'] = df.apply(hour, axis=1)"
   ]
  },
  {
   "cell_type": "code",
   "execution_count": 42,
   "metadata": {},
   "outputs": [
    {
     "data": {
      "text/plain": [
       "Commute      174318\n",
       "Daytime      158559\n",
       "Evening       52719\n",
       "Overnight     42778\n",
       "Name: TIME_OF_DAY, dtype: int64"
      ]
     },
     "execution_count": 42,
     "metadata": {},
     "output_type": "execute_result"
    }
   ],
   "source": [
    "df['TIME_OF_DAY'].value_counts(dropna=False)"
   ]
  },
  {
   "cell_type": "code",
   "execution_count": 43,
   "metadata": {},
   "outputs": [
    {
     "data": {
      "text/plain": [
       "OVER $1,500      297113\n",
       "$501 - $1,500     97272\n",
       "$500 OR LESS      33989\n",
       "Name: DAMAGE, dtype: int64"
      ]
     },
     "execution_count": 43,
     "metadata": {},
     "output_type": "execute_result"
    }
   ],
   "source": [
    "# Check the values in Damage column\n",
    "\n",
    "df['DAMAGE'].value_counts()"
   ]
  },
  {
   "cell_type": "code",
   "execution_count": 44,
   "metadata": {},
   "outputs": [],
   "source": [
    "# Create a new column to identify damage as > $1500 or <= $1500\n",
    "\n",
    "damage_dict = {'OVER $1,500':1, '$501 - $1,500':0, '$500 OR LESS':0}\n",
    "df['DAMAGE_OVER_1500'] =  df.loc[:, ('DAMAGE')].map(damage_dict).copy()"
   ]
  },
  {
   "cell_type": "code",
   "execution_count": 45,
   "metadata": {},
   "outputs": [
    {
     "data": {
      "text/plain": [
       "1    297113\n",
       "0    131261\n",
       "Name: DAMAGE_OVER_1500, dtype: int64"
      ]
     },
     "execution_count": 45,
     "metadata": {},
     "output_type": "execute_result"
    }
   ],
   "source": [
    "# Sanity check\n",
    "\n",
    "df['DAMAGE_OVER_1500'].value_counts()"
   ]
  },
  {
   "cell_type": "markdown",
   "metadata": {},
   "source": [
    "## Dummy Model"
   ]
  },
  {
   "cell_type": "markdown",
   "metadata": {},
   "source": [
    "### Decide Xs/y"
   ]
  },
  {
   "cell_type": "markdown",
   "metadata": {},
   "source": [
    "The target is DAMAGE_OVER_1500. There are a few columns which represent interrelated variables, so only one will be used. "
   ]
  },
  {
   "cell_type": "code",
   "execution_count": null,
   "metadata": {},
   "outputs": [],
   "source": [
    "X = df.drop([\"NUM_PASSENGERS\", \"DAMAGE\", \"DAMAGE_OVER_1500\"], axis=1)\n",
    "y = df[\"DAMAGE_OVER_1500\"]"
   ]
  },
  {
   "cell_type": "code",
   "execution_count": null,
   "metadata": {},
   "outputs": [],
   "source": [
    "X_train, X_test, y_train, y_test = train_test_split(X, y, random_state=2024)"
   ]
  },
  {
   "cell_type": "code",
   "execution_count": null,
   "metadata": {},
   "outputs": [],
   "source": [
    "dummy_model = DummyClassifier(strategy=\"most_frequent\")"
   ]
  },
  {
   "cell_type": "code",
   "execution_count": null,
   "metadata": {},
   "outputs": [],
   "source": [
    "dummy_model.fit(X_train, y_train)"
   ]
  },
  {
   "cell_type": "code",
   "execution_count": null,
   "metadata": {},
   "outputs": [],
   "source": [
    "cv_results_dummy = cross_val_score(dummy_model, X_train, y_train, cv=5)\n",
    "cv_results_dummy"
   ]
  },
  {
   "cell_type": "markdown",
   "metadata": {},
   "source": [
    "# Model 2"
   ]
  },
  {
   "cell_type": "markdown",
   "metadata": {},
   "source": [
    "## Baseline Numeric Model"
   ]
  },
  {
   "cell_type": "markdown",
   "metadata": {},
   "source": [
    "For a baseline model, we will use only the already numeric columns as Xs to predict DAMAGE_OVER_$1500 as y. We will omit all columns that are simply identifiers or keys. We also omit NUM_PASSENGERS as it is directly related to OCCUPANT_CNT."
   ]
  },
  {
   "cell_type": "code",
   "execution_count": null,
   "metadata": {},
   "outputs": [],
   "source": [
    "# Using .describe to see the variables that are already numeric\n",
    "\n",
    "df.describe()"
   ]
  },
  {
   "cell_type": "markdown",
   "metadata": {},
   "source": [
    "There's something wrong with vehicle year."
   ]
  },
  {
   "cell_type": "code",
   "execution_count": null,
   "metadata": {},
   "outputs": [],
   "source": []
  },
  {
   "cell_type": "code",
   "execution_count": null,
   "metadata": {},
   "outputs": [],
   "source": [
    "# Making a baseline dataframe \n",
    "\n",
    "df_bl = df[[\"VEHICLE_YEAR\", \"OCCUPANT_CNT\", \"AGE\", \"BAC_RESULT VALUE\", \"POSTED_SPEED_LIMIT\", \"STREET_NO\", \"BEAT_OF_OCCURRENCE\", \"NUM_UNITS\", \"CRASH_HOUR\", \"CRASH_DAY_OF_WEEK\", \"CRASH_MONTH\", \"LATITUDE\", \"LONGITUDE\", \"BAC_TEST\", \"DAMAGE_OVER_$1500\"]]"
   ]
  },
  {
   "cell_type": "code",
   "execution_count": null,
   "metadata": {},
   "outputs": [],
   "source": [
    "# Assigning Xs & y \n",
    "\n",
    "X_bl = df_bl.drop(\"DAMAGE_OVER_$1500\", axis=1)\n",
    "y_bl = df[\"DAMAGE_OVER_$1500\"]"
   ]
  },
  {
   "cell_type": "markdown",
   "metadata": {},
   "source": [
    "### Train/Test Split"
   ]
  },
  {
   "cell_type": "markdown",
   "metadata": {},
   "source": []
  },
  {
   "cell_type": "code",
   "execution_count": null,
   "metadata": {},
   "outputs": [],
   "source": [
    "X_train_bl, X_test_bl, y_train_bl, y_test_bl = train_test_split(X_bl, y_bl, random_state=2024)"
   ]
  },
  {
   "cell_type": "markdown",
   "metadata": {},
   "source": [
    "### Preprocessing Steps (SS, OHE, SI)"
   ]
  },
  {
   "cell_type": "markdown",
   "metadata": {},
   "source": []
  },
  {
   "cell_type": "code",
   "execution_count": null,
   "metadata": {},
   "outputs": [],
   "source": [
    "numeric_imputer = SimpleImputer()\n",
    "X_train_blimp = numeric_imputer.fit_transform(X_train_bl)"
   ]
  },
  {
   "cell_type": "markdown",
   "metadata": {},
   "source": [
    "### Modeling (look at Coefficients, P-values)"
   ]
  },
  {
   "cell_type": "markdown",
   "metadata": {},
   "source": []
  },
  {
   "cell_type": "code",
   "execution_count": null,
   "metadata": {},
   "outputs": [],
   "source": [
    "bl_logreg = LogisticRegression(random_state=2024, penalty=\"none\", max_iter=1000)"
   ]
  },
  {
   "cell_type": "code",
   "execution_count": null,
   "metadata": {},
   "outputs": [],
   "source": [
    "bl_logreg.fit(X_train_blimp, y_train_bl)"
   ]
  },
  {
   "cell_type": "code",
   "execution_count": null,
   "metadata": {},
   "outputs": [],
   "source": [
    "confusion_matrix(y_train_bl, bl_logreg.predict(X_train_blimp))"
   ]
  },
  {
   "cell_type": "markdown",
   "metadata": {},
   "source": [
    "### Evaluation"
   ]
  },
  {
   "cell_type": "code",
   "execution_count": null,
   "metadata": {},
   "outputs": [],
   "source": [
    "cv_results = cross_val_score(bl_logreg, X_train_blimp, y_train_bl, cv=5)\n",
    "cv_results"
   ]
  },
  {
   "cell_type": "code",
   "execution_count": null,
   "metadata": {},
   "outputs": [],
   "source": [
    "print(\"Dummy Model CV:          \", cv_results_dummy)\n",
    "print(\"Initial Numeric Model CV:\", cv_results)"
   ]
  },
  {
   "cell_type": "markdown",
   "metadata": {},
   "source": [
    "So we can see that a model using only the columns which are already numeric is only as good as picking the most frequent."
   ]
  },
  {
   "cell_type": "markdown",
   "metadata": {},
   "source": []
  },
  {
   "cell_type": "markdown",
   "metadata": {},
   "source": [
    "# Model 3"
   ]
  },
  {
   "cell_type": "markdown",
   "metadata": {},
   "source": []
  },
  {
   "cell_type": "code",
   "execution_count": null,
   "metadata": {},
   "outputs": [],
   "source": []
  },
  {
   "cell_type": "markdown",
   "metadata": {},
   "source": [
    "## Evaluation OF/UF report Test"
   ]
  }
 ],
 "metadata": {
  "kernelspec": {
   "display_name": "learn-env",
   "language": "python",
   "name": "python3"
  },
  "language_info": {
   "codemirror_mode": {
    "name": "ipython",
    "version": 3
   },
   "file_extension": ".py",
   "mimetype": "text/x-python",
   "name": "python",
   "nbconvert_exporter": "python",
   "pygments_lexer": "ipython3",
   "version": "3.8.5"
  }
 },
 "nbformat": 4,
 "nbformat_minor": 2
}
