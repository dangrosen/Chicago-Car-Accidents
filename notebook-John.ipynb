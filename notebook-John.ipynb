{
 "cells": [
  {
   "cell_type": "markdown",
   "metadata": {},
   "source": [
    "Place for a picture"
   ]
  },
  {
   "cell_type": "markdown",
   "metadata": {},
   "source": [
    "# Logistic Regression of a... (Phase Three Project)"
   ]
  },
  {
   "cell_type": "markdown",
   "metadata": {},
   "source": [
    "## Business Problem/Question"
   ]
  },
  {
   "cell_type": "markdown",
   "metadata": {},
   "source": [
    "What factors from this dataset are most relevant to determining whether a private passenger vehicle crash in Chicago incurs property damage over $1,500 and can we make good predictions using these fewer factors? "
   ]
  },
  {
   "cell_type": "markdown",
   "metadata": {},
   "source": [
    "## EDA"
   ]
  },
  {
   "cell_type": "code",
   "execution_count": 1,
   "metadata": {},
   "outputs": [],
   "source": [
    "# Importing packages\n",
    "import numpy as np\n",
    "import pandas as pd \n",
    "import math\n",
    "\n",
    "import matplotlib.pyplot as plt\n",
    "import seaborn as sns\n",
    "%matplotlib inline\n",
    "\n",
    "from sklearn.model_selection import train_test_split, cross_val_score\n",
    "from sklearn.impute import MissingIndicator, SimpleImputer\n",
    "from sklearn.preprocessing import StandardScaler, OneHotEncoder\n",
    "from sklearn.dummy import DummyClassifier\n",
    "\n",
    "from sklearn.linear_model import LogisticRegression\n",
    "from sklearn.tree import DecisionTreeRegressor, DecisionTreeClassifier\n",
    "\n",
    "from sklearn.metrics import accuracy_score, recall_score, precision_score, f1_score\n",
    "from sklearn.metrics import roc_curve, roc_auc_score, plot_roc_curve\n",
    "from sklearn.metrics import plot_confusion_matrix, confusion_matrix"
   ]
  },
  {
   "cell_type": "markdown",
   "metadata": {},
   "source": [
    "### Read in and create new csv"
   ]
  },
  {
   "cell_type": "code",
   "execution_count": 124,
   "metadata": {},
   "outputs": [],
   "source": [
    "# Read in data\n",
    "\n",
    "df_vehicles = pd.read_csv(\"Data\\Traffic_Crashes_-_Vehicles_20231109.csv\", parse_dates=[\"CRASH_DATE\"], low_memory=False)\n",
    "df_people = pd.read_csv(\"Data\\Traffic_Crashes_-_People_20231109.csv\", parse_dates=[\"CRASH_DATE\"], low_memory=False)\n",
    "df_crashes = pd.read_csv(\"Data\\Traffic_Crashes_-_Crashes_20231109.csv\", parse_dates=[\"CRASH_DATE\"], low_memory=False)"
   ]
  },
  {
   "cell_type": "code",
   "execution_count": 125,
   "metadata": {},
   "outputs": [],
   "source": [
    "# Filter out any data from before 2021\n",
    "\n",
    "df_crashes = df_crashes[df_crashes[\"CRASH_DATE\"].dt.year >= 2021]\n",
    "df_people = df_people[df_people[\"CRASH_DATE\"].dt.year >= 2021]\n",
    "df_vehicles = df_vehicles[df_vehicles[\"CRASH_DATE\"].dt.year >= 2021]"
   ]
  },
  {
   "cell_type": "markdown",
   "metadata": {},
   "source": [
    "Using the data dictionaries to understand column names, we are dropping columns from each set that are not relevant to the business problem."
   ]
  },
  {
   "cell_type": "code",
   "execution_count": 126,
   "metadata": {},
   "outputs": [],
   "source": [
    "# Drop columns from Vehicles dataframe\n",
    "\n",
    "df_vehicles.drop(columns = ['TOWED_I', 'FIRE_I', 'TOWED_BY', 'TOWED_TO', 'CMV_ID', \n",
    "                        'USDOT_NO', 'CCMC_NO', 'ILCC_NO', 'COMMERCIAL_SRC', 'GVWR', \n",
    "                        'CARRIER_NAME', 'CARRIER_STATE', 'CARRIER_CITY',\n",
    "                        'HAZMAT_PLACARDS_I', 'HAZMAT_NAME', 'UN_NO', 'HAZMAT_PRESENT_I', \n",
    "                        'HAZMAT_REPORT_I', 'HAZMAT_REPORT_NO', 'MCS_REPORT_I',\n",
    "                        'MCS_REPORT_NO', 'HAZMAT_VIO_CAUSE_CRASH_I', 'MCS_VIO_CAUSE_CRASH_I', \n",
    "                        'IDOT_PERMIT_NO', 'WIDE_LOAD_I', 'TRAILER1_WIDTH', 'TRAILER2_WIDTH', \n",
    "                        'TRAILER1_LENGTH', 'TRAILER2_LENGTH', 'TOTAL_VEHICLE_LENGTH',\n",
    "                        'AXLE_CNT', 'VEHICLE_CONFIG', 'CARGO_BODY_TYPE', 'LOAD_TYPE',\n",
    "                        'HAZMAT_OUT_OF_SERVICE_I', 'MCS_OUT_OF_SERVICE_I', 'HAZMAT_CLASS'],\n",
    "                         inplace=True)"
   ]
  },
  {
   "cell_type": "code",
   "execution_count": 127,
   "metadata": {},
   "outputs": [],
   "source": [
    "# Drop columns from People dataframe\n",
    "\n",
    "df_people.drop(columns = ['HOSPITAL', 'EMS_AGENCY', 'EMS_RUN_NO'], inplace=True)"
   ]
  },
  {
   "cell_type": "code",
   "execution_count": 128,
   "metadata": {},
   "outputs": [],
   "source": [
    "# Drop columns from Crashes dataframe\n",
    "\n",
    "df_crashes.drop(columns = ['REPORT_TYPE', 'DATE_POLICE_NOTIFIED', 'PHOTOS_TAKEN_I',\n",
    "                       'STATEMENTS_TAKEN_I', 'DOORING_I', 'INJURIES_TOTAL', \n",
    "                       'INJURIES_FATAL', 'INJURIES_INCAPACITATING', \n",
    "                       'INJURIES_NON_INCAPACITATING', 'INJURIES_REPORTED_NOT_EVIDENT', \n",
    "                       'INJURIES_NO_INDICATION', 'INJURIES_UNKNOWN'], inplace=True)"
   ]
  },
  {
   "cell_type": "markdown",
   "metadata": {},
   "source": [
    "Because we are most interested in vehicle damage, we are using the Vehicles dataframe as the main and merging the others into it."
   ]
  },
  {
   "cell_type": "code",
   "execution_count": 129,
   "metadata": {},
   "outputs": [],
   "source": [
    "# Merge People dataframe with Vehicles dataframe\n",
    "\n",
    "df = df_vehicles.merge(df_people, how=\"left\", on=[\"CRASH_RECORD_ID\", \"CRASH_DATE\", \"RD_NO\", \"VEHICLE_ID\"])"
   ]
  },
  {
   "cell_type": "code",
   "execution_count": 130,
   "metadata": {},
   "outputs": [],
   "source": [
    "# Merge Crashes dataframe with merged dataframe\n",
    "\n",
    "df = pd.merge(df, df_crashes, how = 'inner', on = ['CRASH_RECORD_ID', \"CRASH_DATE\", \"RD_NO\"])"
   ]
  },
  {
   "cell_type": "code",
   "execution_count": 131,
   "metadata": {},
   "outputs": [],
   "source": [
    "# Exporting new dataframe to csv for use throughout rest of notebook\n",
    "\n",
    "df.to_csv(\"Data\\chicago_traffic_accidents_2021_to_11-09-2023.csv\")"
   ]
  },
  {
   "cell_type": "markdown",
   "metadata": {},
   "source": [
    "### Working with a single merge dataset"
   ]
  },
  {
   "cell_type": "code",
   "execution_count": 318,
   "metadata": {},
   "outputs": [],
   "source": [
    "# Can load merged dataframe without needing to go through above steps each time\n",
    "df = pd.read_csv(\"Data\\chicago_traffic_accidents_2021_to_11-09-2023.zip\", \n",
    "                 parse_dates=[\"CRASH_DATE\"], low_memory=False)"
   ]
  },
  {
   "cell_type": "markdown",
   "metadata": {},
   "source": [
    "We don't need all the identifying columns as they are not useful in making a model. We will drop all of those now."
   ]
  },
  {
   "cell_type": "code",
   "execution_count": 319,
   "metadata": {},
   "outputs": [],
   "source": [
    "df.drop(columns = [\"Unnamed: 0\", \"CRASH_UNIT_ID\", \"CRASH_RECORD_ID\", \"RD_NO\",\n",
    "                    \"UNIT_NO\", \"VEHICLE_ID\", \"PERSON_ID\"], inplace=True)"
   ]
  },
  {
   "cell_type": "markdown",
   "metadata": {},
   "source": [
    "We only want unique vehicle damage count, so we need to remove rows that represent passengers, as these will duplicate the vehicle damage. We also should remove any other rows that don't represent drivers. We can use the \"PERSON_TYPE\" column for this."
   ]
  },
  {
   "cell_type": "code",
   "execution_count": 320,
   "metadata": {},
   "outputs": [
    {
     "data": {
      "text/plain": [
       "DRIVER                 0.780694\n",
       "PASSENGER              0.197756\n",
       "PEDESTRIAN             0.012899\n",
       "BICYCLE                0.007730\n",
       "NON-MOTOR VEHICLE      0.000760\n",
       "NON-CONTACT VEHICLE    0.000162\n",
       "Name: PERSON_TYPE, dtype: float64"
      ]
     },
     "execution_count": 320,
     "metadata": {},
     "output_type": "execute_result"
    }
   ],
   "source": [
    "# Check values in Person_type column\n",
    "\n",
    "df['PERSON_TYPE'].value_counts(normalize=True)"
   ]
  },
  {
   "cell_type": "code",
   "execution_count": 321,
   "metadata": {},
   "outputs": [],
   "source": [
    "# Remove all types of person except DRIVER\n",
    "\n",
    "df = df[df['PERSON_TYPE'] == 'DRIVER']"
   ]
  },
  {
   "cell_type": "code",
   "execution_count": 322,
   "metadata": {},
   "outputs": [
    {
     "data": {
      "text/plain": [
       "DRIVER    1.0\n",
       "Name: PERSON_TYPE, dtype: float64"
      ]
     },
     "execution_count": 322,
     "metadata": {},
     "output_type": "execute_result"
    }
   ],
   "source": [
    "# Sanity check\n",
    "\n",
    "df['PERSON_TYPE'].value_counts(normalize=True)"
   ]
  },
  {
   "cell_type": "markdown",
   "metadata": {},
   "source": [
    "### Missingness"
   ]
  },
  {
   "cell_type": "markdown",
   "metadata": {},
   "source": [
    "Next we look at null values to try to determine which columns might need to be imputed or if the data is too incomplete to be useful. "
   ]
  },
  {
   "cell_type": "code",
   "execution_count": 323,
   "metadata": {},
   "outputs": [],
   "source": [
    "# First dropping columns that no longer have any data after removing all but DRIVER entries\n",
    "\n",
    "df.dropna(axis=1, how=\"all\", inplace=True)"
   ]
  },
  {
   "cell_type": "code",
   "execution_count": 324,
   "metadata": {},
   "outputs": [
    {
     "name": "stdout",
     "output_type": "stream",
     "text": [
      "<class 'pandas.core.frame.DataFrame'>\n",
      "Int64Index: 530319 entries, 0 to 766594\n",
      "Data columns (total 82 columns):\n",
      " #   Column                   Non-Null Count   Dtype         \n",
      "---  ------                   --------------   -----         \n",
      " 0   CRASH_DATE               530319 non-null  datetime64[ns]\n",
      " 1   UNIT_TYPE                530310 non-null  object        \n",
      " 2   NUM_PASSENGERS           85079 non-null   float64       \n",
      " 3   CMRC_VEH_I               10945 non-null   object        \n",
      " 4   MAKE                     530098 non-null  object        \n",
      " 5   MODEL                    530098 non-null  object        \n",
      " 6   LIC_PLATE_STATE          469533 non-null  object        \n",
      " 7   VEHICLE_YEAR             434488 non-null  float64       \n",
      " 8   VEHICLE_DEFECT           530098 non-null  object        \n",
      " 9   VEHICLE_TYPE             530098 non-null  object        \n",
      " 10  VEHICLE_USE              530098 non-null  object        \n",
      " 11  TRAVEL_DIRECTION         530098 non-null  object        \n",
      " 12  MANEUVER                 530098 non-null  object        \n",
      " 13  OCCUPANT_CNT             530098 non-null  float64       \n",
      " 14  EXCEED_SPEED_LIMIT_I     9 non-null       object        \n",
      " 15  AREA_00_I                16553 non-null   object        \n",
      " 16  AREA_01_I                159444 non-null  object        \n",
      " 17  AREA_02_I                79273 non-null   object        \n",
      " 18  AREA_03_I                53585 non-null   object        \n",
      " 19  AREA_04_I                46911 non-null   object        \n",
      " 20  AREA_05_I                72099 non-null   object        \n",
      " 21  AREA_06_I                82203 non-null   object        \n",
      " 22  AREA_07_I                71300 non-null   object        \n",
      " 23  AREA_08_I                41432 non-null   object        \n",
      " 24  AREA_09_I                45306 non-null   object        \n",
      " 25  AREA_10_I                72690 non-null   object        \n",
      " 26  AREA_11_I                155461 non-null  object        \n",
      " 27  AREA_12_I                163782 non-null  object        \n",
      " 28  AREA_99_I                76331 non-null   object        \n",
      " 29  FIRST_CONTACT_POINT      529973 non-null  object        \n",
      " 30  PERSON_TYPE              530319 non-null  object        \n",
      " 31  CITY                     391147 non-null  object        \n",
      " 32  STATE                    387258 non-null  object        \n",
      " 33  ZIPCODE                  365479 non-null  object        \n",
      " 34  SEX                      530319 non-null  object        \n",
      " 35  AGE                      377472 non-null  float64       \n",
      " 36  DRIVERS_LICENSE_STATE    390210 non-null  object        \n",
      " 37  DRIVERS_LICENSE_CLASS    308207 non-null  object        \n",
      " 38  SAFETY_EQUIPMENT         530319 non-null  object        \n",
      " 39  AIRBAG_DEPLOYED          530319 non-null  object        \n",
      " 40  EJECTION                 530319 non-null  object        \n",
      " 41  INJURY_CLASSIFICATION    530319 non-null  object        \n",
      " 42  DRIVER_ACTION            530319 non-null  object        \n",
      " 43  DRIVER_VISION            530319 non-null  object        \n",
      " 44  PHYSICAL_CONDITION       530319 non-null  object        \n",
      " 45  BAC_RESULT               530319 non-null  object        \n",
      " 46  BAC_RESULT VALUE         612 non-null     float64       \n",
      " 47  CELL_PHONE_USE           2 non-null       object        \n",
      " 48  CRASH_DATE_EST_I         32074 non-null   object        \n",
      " 49  POSTED_SPEED_LIMIT       530319 non-null  int64         \n",
      " 50  TRAFFIC_CONTROL_DEVICE   530319 non-null  object        \n",
      " 51  DEVICE_CONDITION         530319 non-null  object        \n",
      " 52  WEATHER_CONDITION        530319 non-null  object        \n",
      " 53  LIGHTING_CONDITION       530319 non-null  object        \n",
      " 54  FIRST_CRASH_TYPE         530319 non-null  object        \n",
      " 55  TRAFFICWAY_TYPE          530319 non-null  object        \n",
      " 56  LANE_CNT                 71 non-null      float64       \n",
      " 57  ALIGNMENT                530319 non-null  object        \n",
      " 58  ROADWAY_SURFACE_COND     530319 non-null  object        \n",
      " 59  ROAD_DEFECT              530319 non-null  object        \n",
      " 60  CRASH_TYPE               530319 non-null  object        \n",
      " 61  INTERSECTION_RELATED_I   142097 non-null  object        \n",
      " 62  NOT_RIGHT_OF_WAY_I       18683 non-null   object        \n",
      " 63  HIT_AND_RUN_I            166473 non-null  object        \n",
      " 64  DAMAGE                   530319 non-null  object        \n",
      " 65  PRIM_CONTRIBUTORY_CAUSE  530319 non-null  object        \n",
      " 66  SEC_CONTRIBUTORY_CAUSE   530319 non-null  object        \n",
      " 67  STREET_NO                530319 non-null  int64         \n",
      " 68  STREET_DIRECTION         530317 non-null  object        \n",
      " 69  STREET_NAME              530319 non-null  object        \n",
      " 70  BEAT_OF_OCCURRENCE       530319 non-null  float64       \n",
      " 71  WORK_ZONE_I              2425 non-null    object        \n",
      " 72  WORK_ZONE_TYPE           1821 non-null    object        \n",
      " 73  WORKERS_PRESENT_I        678 non-null     object        \n",
      " 74  NUM_UNITS                530319 non-null  int64         \n",
      " 75  MOST_SEVERE_INJURY       530319 non-null  object        \n",
      " 76  CRASH_HOUR               530319 non-null  int64         \n",
      " 77  CRASH_DAY_OF_WEEK        530319 non-null  int64         \n",
      " 78  CRASH_MONTH              530319 non-null  int64         \n",
      " 79  LATITUDE                 525675 non-null  float64       \n",
      " 80  LONGITUDE                525675 non-null  float64       \n",
      " 81  LOCATION                 525675 non-null  object        \n",
      "dtypes: datetime64[ns](1), float64(9), int64(6), object(66)\n",
      "memory usage: 335.8+ MB\n"
     ]
    }
   ],
   "source": [
    "# Looking at the total nulls left in remaining columns\n",
    "\n",
    "df.info()"
   ]
  },
  {
   "cell_type": "markdown",
   "metadata": {},
   "source": [
    "There are several columns that seem useful from the data dictionaries, but look almost entirely full of nulls. We do a value_counts for those columns to see what's in them."
   ]
  },
  {
   "cell_type": "code",
   "execution_count": 325,
   "metadata": {},
   "outputs": [
    {
     "data": {
      "text/plain": [
       "NaN     445240\n",
       "1.0      60610\n",
       "2.0      15374\n",
       "3.0       6037\n",
       "4.0       2034\n",
       "5.0        560\n",
       "6.0        234\n",
       "7.0         84\n",
       "8.0         28\n",
       "10.0        23\n",
       "9.0         19\n",
       "11.0        18\n",
       "12.0        10\n",
       "17.0         6\n",
       "14.0         5\n",
       "19.0         4\n",
       "13.0         4\n",
       "16.0         4\n",
       "15.0         3\n",
       "18.0         2\n",
       "22.0         2\n",
       "21.0         2\n",
       "27.0         2\n",
       "43.0         2\n",
       "26.0         2\n",
       "20.0         1\n",
       "33.0         1\n",
       "34.0         1\n",
       "28.0         1\n",
       "46.0         1\n",
       "42.0         1\n",
       "30.0         1\n",
       "32.0         1\n",
       "31.0         1\n",
       "24.0         1\n",
       "Name: NUM_PASSENGERS, dtype: int64"
      ]
     },
     "execution_count": 325,
     "metadata": {},
     "output_type": "execute_result"
    }
   ],
   "source": [
    "# NUM_PASSENGERS\n",
    "\n",
    "df[\"NUM_PASSENGERS\"].value_counts(dropna=False)"
   ]
  },
  {
   "cell_type": "markdown",
   "metadata": {},
   "source": [
    "There is no 0 value, so the NaNs are problably 0. However, OCCUPANT_CNT represents the same information so we won't need this column. "
   ]
  },
  {
   "cell_type": "code",
   "execution_count": 326,
   "metadata": {},
   "outputs": [
    {
     "data": {
      "text/plain": [
       "NaN    519374\n",
       "Y        6602\n",
       "N        4343\n",
       "Name: CMRC_VEH_I, dtype: int64"
      ]
     },
     "execution_count": 326,
     "metadata": {},
     "output_type": "execute_result"
    }
   ],
   "source": [
    "# CMRC_VEH_I\n",
    "\n",
    "df[\"CMRC_VEH_I\"].value_counts(dropna=False)"
   ]
  },
  {
   "cell_type": "markdown",
   "metadata": {},
   "source": [
    "This is a binary flag, but the missing values represent the overwhelming majority. We can drop the Y rows because they are commercial vehicles and do not fit the business problem, but the rest we will leave as we cannot make an assumption from such a small subset that the Y/N ratio is representative of the whole. "
   ]
  },
  {
   "cell_type": "code",
   "execution_count": 327,
   "metadata": {},
   "outputs": [],
   "source": [
    "# Dropping Commercial Vehicles\n",
    "\n",
    "df = df[df[\"CMRC_VEH_I\"]!=\"Y\"]"
   ]
  },
  {
   "cell_type": "code",
   "execution_count": 328,
   "metadata": {},
   "outputs": [
    {
     "data": {
      "text/plain": [
       "NaN    519374\n",
       "N        4343\n",
       "Name: CMRC_VEH_I, dtype: int64"
      ]
     },
     "execution_count": 328,
     "metadata": {},
     "output_type": "execute_result"
    }
   ],
   "source": [
    "# Sanity Check\n",
    "\n",
    "df[\"CMRC_VEH_I\"].value_counts(dropna=False)"
   ]
  },
  {
   "cell_type": "code",
   "execution_count": 329,
   "metadata": {},
   "outputs": [
    {
     "data": {
      "text/plain": [
       "NaN    523708\n",
       "N           5\n",
       "Y           4\n",
       "Name: EXCEED_SPEED_LIMIT_I, dtype: int64"
      ]
     },
     "execution_count": 329,
     "metadata": {},
     "output_type": "execute_result"
    }
   ],
   "source": [
    "# EXCEED_SPEED_LIMIT_I\n",
    "\n",
    "df[\"EXCEED_SPEED_LIMIT_I\"].value_counts(dropna=False)"
   ]
  },
  {
   "cell_type": "markdown",
   "metadata": {},
   "source": [
    "This is a binary flag, but the missing values represent the overwhelming majority. We cannot make an assumption from such a small subset that the Y/N ratio is representative of the whole. This does not seem to be a useful column."
   ]
  },
  {
   "cell_type": "code",
   "execution_count": 330,
   "metadata": {},
   "outputs": [
    {
     "data": {
      "text/plain": [
       "NaN      152142\n",
       "28.0      10738\n",
       "27.0      10706\n",
       "29.0      10618\n",
       "26.0      10583\n",
       "          ...  \n",
       "101.0         5\n",
       "102.0         4\n",
       "103.0         3\n",
       "98.0          3\n",
       "110.0         2\n",
       "Name: AGE, Length: 106, dtype: int64"
      ]
     },
     "execution_count": 330,
     "metadata": {},
     "output_type": "execute_result"
    }
   ],
   "source": [
    "# AGE\n",
    "\n",
    "df[\"AGE\"].value_counts(dropna=False)"
   ]
  },
  {
   "cell_type": "markdown",
   "metadata": {},
   "source": [
    "Missing values is a smaller percentage, so we can impute based on the average age. "
   ]
  },
  {
   "cell_type": "code",
   "execution_count": 331,
   "metadata": {},
   "outputs": [
    {
     "data": {
      "text/plain": [
       "39.92547399582857"
      ]
     },
     "execution_count": 331,
     "metadata": {},
     "output_type": "execute_result"
    }
   ],
   "source": [
    "df[\"AGE\"].mean()"
   ]
  },
  {
   "cell_type": "code",
   "execution_count": 332,
   "metadata": {},
   "outputs": [
    {
     "data": {
      "text/plain": [
       "TEST NOT OFFERED                   516361\n",
       "TEST REFUSED                         5312\n",
       "TEST PERFORMED, RESULTS UNKNOWN      1180\n",
       "TEST TAKEN                            864\n",
       "Name: BAC_RESULT, dtype: int64"
      ]
     },
     "execution_count": 332,
     "metadata": {},
     "output_type": "execute_result"
    }
   ],
   "source": [
    "# BAC_RESULT for BAC_RESULT VALUE\n",
    "\n",
    "df[\"BAC_RESULT\"].value_counts(dropna=False)"
   ]
  },
  {
   "cell_type": "markdown",
   "metadata": {},
   "source": [
    "There are no nulls. We could create a binary flag feature as TESTED_FOR_BAC. "
   ]
  },
  {
   "cell_type": "code",
   "execution_count": 333,
   "metadata": {},
   "outputs": [
    {
     "data": {
      "text/plain": [
       "NaN    523715\n",
       "N           2\n",
       "Name: CELL_PHONE_USE, dtype: int64"
      ]
     },
     "execution_count": 333,
     "metadata": {},
     "output_type": "execute_result"
    }
   ],
   "source": [
    "# CELL_PHONE_USE\n",
    "\n",
    "df[\"CELL_PHONE_USE\"].value_counts(dropna=False)"
   ]
  },
  {
   "cell_type": "markdown",
   "metadata": {},
   "source": [
    "This is a binary flag, but the missing values represent the overwhelming majority. We cannot make an assumption from such a small subset that the Y/N ratio is representative of the whole. This does not seem to be a useful column."
   ]
  },
  {
   "cell_type": "code",
   "execution_count": 334,
   "metadata": {},
   "outputs": [
    {
     "data": {
      "text/plain": [
       "NaN    523647\n",
       "2.0        25\n",
       "4.0        20\n",
       "1.0         7\n",
       "3.0         7\n",
       "6.0         4\n",
       "5.0         4\n",
       "0.0         2\n",
       "8.0         1\n",
       "Name: LANE_CNT, dtype: int64"
      ]
     },
     "execution_count": 334,
     "metadata": {},
     "output_type": "execute_result"
    }
   ],
   "source": [
    "# LANE_CNT\n",
    "\n",
    "df[\"LANE_CNT\"].value_counts(dropna=False)"
   ]
  },
  {
   "cell_type": "markdown",
   "metadata": {},
   "source": [
    "The missing values represent the overwhelming majority. We cannot make an assumption from such a small subset that the ratio is representative of the whole. This does not seem to be a useful column."
   ]
  },
  {
   "cell_type": "code",
   "execution_count": 335,
   "metadata": {},
   "outputs": [
    {
     "data": {
      "text/plain": [
       "NaN    383355\n",
       "Y      134078\n",
       "N        6284\n",
       "Name: INTERSECTION_RELATED_I, dtype: int64"
      ]
     },
     "execution_count": 335,
     "metadata": {},
     "output_type": "execute_result"
    }
   ],
   "source": [
    "# INTERSECTION_RELATED_I\n",
    "\n",
    "df[\"INTERSECTION_RELATED_I\"].value_counts(dropna=False)"
   ]
  },
  {
   "cell_type": "markdown",
   "metadata": {},
   "source": [
    "This is a binary flag, but the missing values represent the majority. We may be able to impute values to the NaN because the Y/N values are a sizeable fraction of the whole, but we may want to leave this out of our initial model. "
   ]
  },
  {
   "cell_type": "code",
   "execution_count": 336,
   "metadata": {},
   "outputs": [
    {
     "data": {
      "text/plain": [
       "NaN    505547\n",
       "Y       16342\n",
       "N        1828\n",
       "Name: NOT_RIGHT_OF_WAY_I, dtype: int64"
      ]
     },
     "execution_count": 336,
     "metadata": {},
     "output_type": "execute_result"
    }
   ],
   "source": [
    "# NOT_RIGHT_OF_WAY_I\n",
    "\n",
    "df[\"NOT_RIGHT_OF_WAY_I\"].value_counts(dropna=False)"
   ]
  },
  {
   "cell_type": "markdown",
   "metadata": {},
   "source": [
    "This is a binary flag, but the missing values represent the overwhelming majority. We cannot make an assumption from such a small subset that the Y/N ratio is representative of the whole. This does not seem to be a useful."
   ]
  },
  {
   "cell_type": "code",
   "execution_count": 337,
   "metadata": {},
   "outputs": [
    {
     "data": {
      "text/plain": [
       "NaN    358329\n",
       "Y      158154\n",
       "N        7234\n",
       "Name: HIT_AND_RUN_I, dtype: int64"
      ]
     },
     "execution_count": 337,
     "metadata": {},
     "output_type": "execute_result"
    }
   ],
   "source": [
    "# HIT_AND_RUN_I\n",
    "\n",
    "df[\"HIT_AND_RUN_I\"].value_counts(dropna=False)"
   ]
  },
  {
   "cell_type": "markdown",
   "metadata": {},
   "source": [
    "This is a binary flag, but the missing values represent the majority. We may be able to impute values to the NaN because the Y/N values are a sizeable fraction of the whole, but we may want to leave this out of our initial model. We could assume that N is the default."
   ]
  },
  {
   "cell_type": "code",
   "execution_count": 338,
   "metadata": {},
   "outputs": [
    {
     "data": {
      "text/plain": [
       "NaN    521390\n",
       "Y        1737\n",
       "N         590\n",
       "Name: WORK_ZONE_I, dtype: int64"
      ]
     },
     "execution_count": 338,
     "metadata": {},
     "output_type": "execute_result"
    }
   ],
   "source": [
    "# WORK_ZONE_I \n",
    "\n",
    "df[\"WORK_ZONE_I\"].value_counts(dropna=False)"
   ]
  },
  {
   "cell_type": "markdown",
   "metadata": {},
   "source": [
    "This is a binary flag, but the missing values represent the overwhelming majority. We cannot make an assumption from such a small subset that the Y/N ratio is representative of the whole. This does not seem to be a useful column."
   ]
  },
  {
   "cell_type": "code",
   "execution_count": 339,
   "metadata": {},
   "outputs": [],
   "source": [
    "# Dropping all columns determined not to be useful\n",
    "\n",
    "df.drop(columns = [\"CMRC_VEH_I\", \"EXCEED_SPEED_LIMIT_I\", \"CELL_PHONE_USE\", \n",
    "                   \"LANE_CNT\", \"NOT_RIGHT_OF_WAY_I\", \"WORK_ZONE_I\"], inplace=True)"
   ]
  },
  {
   "cell_type": "code",
   "execution_count": 340,
   "metadata": {},
   "outputs": [
    {
     "name": "stdout",
     "output_type": "stream",
     "text": [
      "<class 'pandas.core.frame.DataFrame'>\n",
      "Int64Index: 523717 entries, 0 to 766594\n",
      "Data columns (total 76 columns):\n",
      " #   Column                   Non-Null Count   Dtype         \n",
      "---  ------                   --------------   -----         \n",
      " 0   CRASH_DATE               523717 non-null  datetime64[ns]\n",
      " 1   UNIT_TYPE                523708 non-null  object        \n",
      " 2   NUM_PASSENGERS           84450 non-null   float64       \n",
      " 3   MAKE                     523496 non-null  object        \n",
      " 4   MODEL                    523496 non-null  object        \n",
      " 5   LIC_PLATE_STATE          463232 non-null  object        \n",
      " 6   VEHICLE_YEAR             428682 non-null  float64       \n",
      " 7   VEHICLE_DEFECT           523496 non-null  object        \n",
      " 8   VEHICLE_TYPE             523496 non-null  object        \n",
      " 9   VEHICLE_USE              523496 non-null  object        \n",
      " 10  TRAVEL_DIRECTION         523496 non-null  object        \n",
      " 11  MANEUVER                 523496 non-null  object        \n",
      " 12  OCCUPANT_CNT             523496 non-null  float64       \n",
      " 13  AREA_00_I                15443 non-null   object        \n",
      " 14  AREA_01_I                158378 non-null  object        \n",
      " 15  AREA_02_I                78586 non-null   object        \n",
      " 16  AREA_03_I                52985 non-null   object        \n",
      " 17  AREA_04_I                46343 non-null   object        \n",
      " 18  AREA_05_I                71250 non-null   object        \n",
      " 19  AREA_06_I                81584 non-null   object        \n",
      " 20  AREA_07_I                70493 non-null   object        \n",
      " 21  AREA_08_I                41000 non-null   object        \n",
      " 22  AREA_09_I                44908 non-null   object        \n",
      " 23  AREA_10_I                72194 non-null   object        \n",
      " 24  AREA_11_I                154610 non-null  object        \n",
      " 25  AREA_12_I                163033 non-null  object        \n",
      " 26  AREA_99_I                75719 non-null   object        \n",
      " 27  FIRST_CONTACT_POINT      523374 non-null  object        \n",
      " 28  PERSON_TYPE              523717 non-null  object        \n",
      " 29  CITY                     385181 non-null  object        \n",
      " 30  STATE                    381394 non-null  object        \n",
      " 31  ZIPCODE                  359842 non-null  object        \n",
      " 32  SEX                      523717 non-null  object        \n",
      " 33  AGE                      371575 non-null  float64       \n",
      " 34  DRIVERS_LICENSE_STATE    384260 non-null  object        \n",
      " 35  DRIVERS_LICENSE_CLASS    302924 non-null  object        \n",
      " 36  SAFETY_EQUIPMENT         523717 non-null  object        \n",
      " 37  AIRBAG_DEPLOYED          523717 non-null  object        \n",
      " 38  EJECTION                 523717 non-null  object        \n",
      " 39  INJURY_CLASSIFICATION    523717 non-null  object        \n",
      " 40  DRIVER_ACTION            523717 non-null  object        \n",
      " 41  DRIVER_VISION            523717 non-null  object        \n",
      " 42  PHYSICAL_CONDITION       523717 non-null  object        \n",
      " 43  BAC_RESULT               523717 non-null  object        \n",
      " 44  BAC_RESULT VALUE         610 non-null     float64       \n",
      " 45  CRASH_DATE_EST_I         31792 non-null   object        \n",
      " 46  POSTED_SPEED_LIMIT       523717 non-null  int64         \n",
      " 47  TRAFFIC_CONTROL_DEVICE   523717 non-null  object        \n",
      " 48  DEVICE_CONDITION         523717 non-null  object        \n",
      " 49  WEATHER_CONDITION        523717 non-null  object        \n",
      " 50  LIGHTING_CONDITION       523717 non-null  object        \n",
      " 51  FIRST_CRASH_TYPE         523717 non-null  object        \n",
      " 52  TRAFFICWAY_TYPE          523717 non-null  object        \n",
      " 53  ALIGNMENT                523717 non-null  object        \n",
      " 54  ROADWAY_SURFACE_COND     523717 non-null  object        \n",
      " 55  ROAD_DEFECT              523717 non-null  object        \n",
      " 56  CRASH_TYPE               523717 non-null  object        \n",
      " 57  INTERSECTION_RELATED_I   140362 non-null  object        \n",
      " 58  HIT_AND_RUN_I            165388 non-null  object        \n",
      " 59  DAMAGE                   523717 non-null  object        \n",
      " 60  PRIM_CONTRIBUTORY_CAUSE  523717 non-null  object        \n",
      " 61  SEC_CONTRIBUTORY_CAUSE   523717 non-null  object        \n",
      " 62  STREET_NO                523717 non-null  int64         \n",
      " 63  STREET_DIRECTION         523715 non-null  object        \n",
      " 64  STREET_NAME              523717 non-null  object        \n",
      " 65  BEAT_OF_OCCURRENCE       523717 non-null  float64       \n",
      " 66  WORK_ZONE_TYPE           1737 non-null    object        \n",
      " 67  WORKERS_PRESENT_I        633 non-null     object        \n",
      " 68  NUM_UNITS                523717 non-null  int64         \n",
      " 69  MOST_SEVERE_INJURY       523717 non-null  object        \n",
      " 70  CRASH_HOUR               523717 non-null  int64         \n",
      " 71  CRASH_DAY_OF_WEEK        523717 non-null  int64         \n",
      " 72  CRASH_MONTH              523717 non-null  int64         \n",
      " 73  LATITUDE                 519247 non-null  float64       \n",
      " 74  LONGITUDE                519247 non-null  float64       \n",
      " 75  LOCATION                 519247 non-null  object        \n",
      "dtypes: datetime64[ns](1), float64(8), int64(6), object(61)\n",
      "memory usage: 307.7+ MB\n"
     ]
    }
   ],
   "source": [
    "#Sanity Check\n",
    "\n",
    "df.info()"
   ]
  },
  {
   "cell_type": "code",
   "execution_count": 355,
   "metadata": {},
   "outputs": [
    {
     "data": {
      "text/html": [
       "<div>\n",
       "<style scoped>\n",
       "    .dataframe tbody tr th:only-of-type {\n",
       "        vertical-align: middle;\n",
       "    }\n",
       "\n",
       "    .dataframe tbody tr th {\n",
       "        vertical-align: top;\n",
       "    }\n",
       "\n",
       "    .dataframe thead th {\n",
       "        text-align: right;\n",
       "    }\n",
       "</style>\n",
       "<table border=\"1\" class=\"dataframe\">\n",
       "  <thead>\n",
       "    <tr style=\"text-align: right;\">\n",
       "      <th></th>\n",
       "      <th>NUM_PASSENGERS</th>\n",
       "      <th>VEHICLE_YEAR</th>\n",
       "      <th>OCCUPANT_CNT</th>\n",
       "      <th>AGE</th>\n",
       "      <th>BAC_RESULT VALUE</th>\n",
       "      <th>POSTED_SPEED_LIMIT</th>\n",
       "      <th>STREET_NO</th>\n",
       "      <th>BEAT_OF_OCCURRENCE</th>\n",
       "      <th>NUM_UNITS</th>\n",
       "      <th>CRASH_HOUR</th>\n",
       "      <th>CRASH_DAY_OF_WEEK</th>\n",
       "      <th>CRASH_MONTH</th>\n",
       "      <th>LATITUDE</th>\n",
       "      <th>LONGITUDE</th>\n",
       "      <th>BAC_TEST</th>\n",
       "      <th>DAMAGE_OVER_1500</th>\n",
       "    </tr>\n",
       "  </thead>\n",
       "  <tbody>\n",
       "    <tr>\n",
       "      <th>count</th>\n",
       "      <td>84450.000000</td>\n",
       "      <td>428682.000000</td>\n",
       "      <td>523496.000000</td>\n",
       "      <td>371575.000000</td>\n",
       "      <td>610.000000</td>\n",
       "      <td>523717.000000</td>\n",
       "      <td>523717.000000</td>\n",
       "      <td>523717.000000</td>\n",
       "      <td>523717.000000</td>\n",
       "      <td>523717.000000</td>\n",
       "      <td>523717.000000</td>\n",
       "      <td>523717.00000</td>\n",
       "      <td>519247.000000</td>\n",
       "      <td>519247.000000</td>\n",
       "      <td>523717.000000</td>\n",
       "      <td>523717.000000</td>\n",
       "    </tr>\n",
       "    <tr>\n",
       "      <th>mean</th>\n",
       "      <td>1.456945</td>\n",
       "      <td>2014.883128</td>\n",
       "      <td>1.234516</td>\n",
       "      <td>39.925474</td>\n",
       "      <td>0.175885</td>\n",
       "      <td>28.965458</td>\n",
       "      <td>3746.654508</td>\n",
       "      <td>1239.549677</td>\n",
       "      <td>2.091479</td>\n",
       "      <td>13.360557</td>\n",
       "      <td>4.137664</td>\n",
       "      <td>6.42281</td>\n",
       "      <td>41.852148</td>\n",
       "      <td>-87.673290</td>\n",
       "      <td>0.014046</td>\n",
       "      <td>0.687432</td>\n",
       "    </tr>\n",
       "    <tr>\n",
       "      <th>std</th>\n",
       "      <td>0.995520</td>\n",
       "      <td>118.634721</td>\n",
       "      <td>0.667260</td>\n",
       "      <td>15.843725</td>\n",
       "      <td>0.104812</td>\n",
       "      <td>5.312512</td>\n",
       "      <td>2852.738278</td>\n",
       "      <td>701.016896</td>\n",
       "      <td>0.485050</td>\n",
       "      <td>5.512825</td>\n",
       "      <td>1.982557</td>\n",
       "      <td>3.24658</td>\n",
       "      <td>0.368367</td>\n",
       "      <td>0.752426</td>\n",
       "      <td>0.117680</td>\n",
       "      <td>0.463540</td>\n",
       "    </tr>\n",
       "    <tr>\n",
       "      <th>min</th>\n",
       "      <td>1.000000</td>\n",
       "      <td>1900.000000</td>\n",
       "      <td>0.000000</td>\n",
       "      <td>0.000000</td>\n",
       "      <td>0.000000</td>\n",
       "      <td>0.000000</td>\n",
       "      <td>0.000000</td>\n",
       "      <td>111.000000</td>\n",
       "      <td>1.000000</td>\n",
       "      <td>0.000000</td>\n",
       "      <td>1.000000</td>\n",
       "      <td>1.00000</td>\n",
       "      <td>0.000000</td>\n",
       "      <td>-87.936193</td>\n",
       "      <td>0.000000</td>\n",
       "      <td>0.000000</td>\n",
       "    </tr>\n",
       "    <tr>\n",
       "      <th>25%</th>\n",
       "      <td>1.000000</td>\n",
       "      <td>2009.000000</td>\n",
       "      <td>1.000000</td>\n",
       "      <td>27.000000</td>\n",
       "      <td>0.130000</td>\n",
       "      <td>30.000000</td>\n",
       "      <td>1329.000000</td>\n",
       "      <td>715.000000</td>\n",
       "      <td>2.000000</td>\n",
       "      <td>10.000000</td>\n",
       "      <td>2.000000</td>\n",
       "      <td>4.00000</td>\n",
       "      <td>41.779949</td>\n",
       "      <td>-87.722859</td>\n",
       "      <td>0.000000</td>\n",
       "      <td>0.000000</td>\n",
       "    </tr>\n",
       "    <tr>\n",
       "      <th>50%</th>\n",
       "      <td>1.000000</td>\n",
       "      <td>2014.000000</td>\n",
       "      <td>1.000000</td>\n",
       "      <td>37.000000</td>\n",
       "      <td>0.180000</td>\n",
       "      <td>30.000000</td>\n",
       "      <td>3299.000000</td>\n",
       "      <td>1134.000000</td>\n",
       "      <td>2.000000</td>\n",
       "      <td>14.000000</td>\n",
       "      <td>4.000000</td>\n",
       "      <td>6.00000</td>\n",
       "      <td>41.871981</td>\n",
       "      <td>-87.675525</td>\n",
       "      <td>0.000000</td>\n",
       "      <td>1.000000</td>\n",
       "    </tr>\n",
       "    <tr>\n",
       "      <th>75%</th>\n",
       "      <td>2.000000</td>\n",
       "      <td>2018.000000</td>\n",
       "      <td>1.000000</td>\n",
       "      <td>51.000000</td>\n",
       "      <td>0.220000</td>\n",
       "      <td>30.000000</td>\n",
       "      <td>5611.000000</td>\n",
       "      <td>1814.000000</td>\n",
       "      <td>2.000000</td>\n",
       "      <td>17.000000</td>\n",
       "      <td>6.000000</td>\n",
       "      <td>9.00000</td>\n",
       "      <td>41.924092</td>\n",
       "      <td>-87.633793</td>\n",
       "      <td>0.000000</td>\n",
       "      <td>1.000000</td>\n",
       "    </tr>\n",
       "    <tr>\n",
       "      <th>max</th>\n",
       "      <td>46.000000</td>\n",
       "      <td>9999.000000</td>\n",
       "      <td>47.000000</td>\n",
       "      <td>110.000000</td>\n",
       "      <td>1.000000</td>\n",
       "      <td>70.000000</td>\n",
       "      <td>13799.000000</td>\n",
       "      <td>6100.000000</td>\n",
       "      <td>18.000000</td>\n",
       "      <td>23.000000</td>\n",
       "      <td>7.000000</td>\n",
       "      <td>12.00000</td>\n",
       "      <td>42.022780</td>\n",
       "      <td>0.000000</td>\n",
       "      <td>1.000000</td>\n",
       "      <td>1.000000</td>\n",
       "    </tr>\n",
       "  </tbody>\n",
       "</table>\n",
       "</div>"
      ],
      "text/plain": [
       "       NUM_PASSENGERS   VEHICLE_YEAR   OCCUPANT_CNT            AGE  \\\n",
       "count    84450.000000  428682.000000  523496.000000  371575.000000   \n",
       "mean         1.456945    2014.883128       1.234516      39.925474   \n",
       "std          0.995520     118.634721       0.667260      15.843725   \n",
       "min          1.000000    1900.000000       0.000000       0.000000   \n",
       "25%          1.000000    2009.000000       1.000000      27.000000   \n",
       "50%          1.000000    2014.000000       1.000000      37.000000   \n",
       "75%          2.000000    2018.000000       1.000000      51.000000   \n",
       "max         46.000000    9999.000000      47.000000     110.000000   \n",
       "\n",
       "       BAC_RESULT VALUE  POSTED_SPEED_LIMIT      STREET_NO  \\\n",
       "count        610.000000       523717.000000  523717.000000   \n",
       "mean           0.175885           28.965458    3746.654508   \n",
       "std            0.104812            5.312512    2852.738278   \n",
       "min            0.000000            0.000000       0.000000   \n",
       "25%            0.130000           30.000000    1329.000000   \n",
       "50%            0.180000           30.000000    3299.000000   \n",
       "75%            0.220000           30.000000    5611.000000   \n",
       "max            1.000000           70.000000   13799.000000   \n",
       "\n",
       "       BEAT_OF_OCCURRENCE      NUM_UNITS     CRASH_HOUR  CRASH_DAY_OF_WEEK  \\\n",
       "count       523717.000000  523717.000000  523717.000000      523717.000000   \n",
       "mean          1239.549677       2.091479      13.360557           4.137664   \n",
       "std            701.016896       0.485050       5.512825           1.982557   \n",
       "min            111.000000       1.000000       0.000000           1.000000   \n",
       "25%            715.000000       2.000000      10.000000           2.000000   \n",
       "50%           1134.000000       2.000000      14.000000           4.000000   \n",
       "75%           1814.000000       2.000000      17.000000           6.000000   \n",
       "max           6100.000000      18.000000      23.000000           7.000000   \n",
       "\n",
       "        CRASH_MONTH       LATITUDE      LONGITUDE       BAC_TEST  \\\n",
       "count  523717.00000  519247.000000  519247.000000  523717.000000   \n",
       "mean        6.42281      41.852148     -87.673290       0.014046   \n",
       "std         3.24658       0.368367       0.752426       0.117680   \n",
       "min         1.00000       0.000000     -87.936193       0.000000   \n",
       "25%         4.00000      41.779949     -87.722859       0.000000   \n",
       "50%         6.00000      41.871981     -87.675525       0.000000   \n",
       "75%         9.00000      41.924092     -87.633793       0.000000   \n",
       "max        12.00000      42.022780       0.000000       1.000000   \n",
       "\n",
       "       DAMAGE_OVER_1500  \n",
       "count     523717.000000  \n",
       "mean           0.687432  \n",
       "std            0.463540  \n",
       "min            0.000000  \n",
       "25%            0.000000  \n",
       "50%            1.000000  \n",
       "75%            1.000000  \n",
       "max            1.000000  "
      ]
     },
     "execution_count": 355,
     "metadata": {},
     "output_type": "execute_result"
    }
   ],
   "source": [
    "df.describe()"
   ]
  },
  {
   "cell_type": "markdown",
   "metadata": {},
   "source": [
    "Something needs to be done with VEHICLE_YEAR"
   ]
  },
  {
   "cell_type": "markdown",
   "metadata": {},
   "source": [
    "## Feature Engineering"
   ]
  },
  {
   "cell_type": "markdown",
   "metadata": {},
   "source": []
  },
  {
   "cell_type": "code",
   "execution_count": 341,
   "metadata": {},
   "outputs": [],
   "source": [
    "# Create a new column to identify BAC_TEST as Y/N\n",
    "\n",
    "bac_dict = {'TEST NOT OFFERED':0, 'TEST REFUSED':1, 'TEST PERFORMED, RESULTS UNKNOWN':1, 'TEST TAKEN':1}\n",
    "df['BAC_TEST'] =  df.loc[:, ('BAC_RESULT')].map(bac_dict).copy()"
   ]
  },
  {
   "cell_type": "code",
   "execution_count": 342,
   "metadata": {},
   "outputs": [
    {
     "data": {
      "text/plain": [
       "0    516361\n",
       "1      7356\n",
       "Name: BAC_TEST, dtype: int64"
      ]
     },
     "execution_count": 342,
     "metadata": {},
     "output_type": "execute_result"
    }
   ],
   "source": [
    "# Sanity check\n",
    "\n",
    "df[\"BAC_TEST\"].value_counts()"
   ]
  },
  {
   "cell_type": "code",
   "execution_count": 343,
   "metadata": {},
   "outputs": [
    {
     "data": {
      "text/plain": [
       "OVER $1,500      360020\n",
       "$501 - $1,500    120416\n",
       "$500 OR LESS      43281\n",
       "Name: DAMAGE, dtype: int64"
      ]
     },
     "execution_count": 343,
     "metadata": {},
     "output_type": "execute_result"
    }
   ],
   "source": [
    "# Check the values in Damage column\n",
    "\n",
    "df['DAMAGE'].value_counts()"
   ]
  },
  {
   "cell_type": "code",
   "execution_count": 344,
   "metadata": {},
   "outputs": [],
   "source": [
    "# Create a new column to identify damage as > $1500 or <= $1500\n",
    "\n",
    "damage_dict = {'OVER $1,500':1, '$501 - $1,500':0, '$500 OR LESS':0}\n",
    "df['DAMAGE_OVER_1500'] =  df.loc[:, ('DAMAGE')].map(damage_dict).copy()"
   ]
  },
  {
   "cell_type": "code",
   "execution_count": 345,
   "metadata": {},
   "outputs": [
    {
     "data": {
      "text/plain": [
       "1    360020\n",
       "0    163697\n",
       "Name: DAMAGE_OVER_1500, dtype: int64"
      ]
     },
     "execution_count": 345,
     "metadata": {},
     "output_type": "execute_result"
    }
   ],
   "source": [
    "# Sanity check\n",
    "\n",
    "df['DAMAGE_OVER_1500'].value_counts()"
   ]
  },
  {
   "cell_type": "markdown",
   "metadata": {},
   "source": [
    "With a suitable target column now in place, we can look at how other variables connect to it."
   ]
  },
  {
   "cell_type": "code",
   "execution_count": 346,
   "metadata": {},
   "outputs": [
    {
     "data": {
      "text/html": [
       "<div>\n",
       "<style scoped>\n",
       "    .dataframe tbody tr th:only-of-type {\n",
       "        vertical-align: middle;\n",
       "    }\n",
       "\n",
       "    .dataframe tbody tr th {\n",
       "        vertical-align: top;\n",
       "    }\n",
       "\n",
       "    .dataframe thead th {\n",
       "        text-align: right;\n",
       "    }\n",
       "</style>\n",
       "<table border=\"1\" class=\"dataframe\">\n",
       "  <thead>\n",
       "    <tr style=\"text-align: right;\">\n",
       "      <th></th>\n",
       "      <th>NUM_PASSENGERS</th>\n",
       "      <th>VEHICLE_YEAR</th>\n",
       "      <th>OCCUPANT_CNT</th>\n",
       "      <th>AGE</th>\n",
       "      <th>BAC_RESULT VALUE</th>\n",
       "      <th>POSTED_SPEED_LIMIT</th>\n",
       "      <th>STREET_NO</th>\n",
       "      <th>BEAT_OF_OCCURRENCE</th>\n",
       "      <th>NUM_UNITS</th>\n",
       "      <th>CRASH_HOUR</th>\n",
       "      <th>CRASH_DAY_OF_WEEK</th>\n",
       "      <th>CRASH_MONTH</th>\n",
       "      <th>LATITUDE</th>\n",
       "      <th>LONGITUDE</th>\n",
       "      <th>BAC_TEST</th>\n",
       "      <th>DAMAGE_OVER_1500</th>\n",
       "    </tr>\n",
       "  </thead>\n",
       "  <tbody>\n",
       "    <tr>\n",
       "      <th>NUM_PASSENGERS</th>\n",
       "      <td>1.000000</td>\n",
       "      <td>-0.001655</td>\n",
       "      <td>0.995752</td>\n",
       "      <td>-0.016513</td>\n",
       "      <td>-0.028629</td>\n",
       "      <td>0.017434</td>\n",
       "      <td>-0.000359</td>\n",
       "      <td>-0.016809</td>\n",
       "      <td>0.002686</td>\n",
       "      <td>0.013090</td>\n",
       "      <td>-0.006831</td>\n",
       "      <td>0.012681</td>\n",
       "      <td>-0.006715</td>\n",
       "      <td>0.002088</td>\n",
       "      <td>-0.005771</td>\n",
       "      <td>0.020105</td>\n",
       "    </tr>\n",
       "    <tr>\n",
       "      <th>VEHICLE_YEAR</th>\n",
       "      <td>-0.001655</td>\n",
       "      <td>1.000000</td>\n",
       "      <td>-0.002850</td>\n",
       "      <td>0.000106</td>\n",
       "      <td>-0.036227</td>\n",
       "      <td>-0.000095</td>\n",
       "      <td>-0.003429</td>\n",
       "      <td>0.000494</td>\n",
       "      <td>0.000015</td>\n",
       "      <td>-0.000006</td>\n",
       "      <td>-0.000827</td>\n",
       "      <td>0.002020</td>\n",
       "      <td>-0.000507</td>\n",
       "      <td>0.000479</td>\n",
       "      <td>-0.002264</td>\n",
       "      <td>-0.004112</td>\n",
       "    </tr>\n",
       "    <tr>\n",
       "      <th>OCCUPANT_CNT</th>\n",
       "      <td>0.995752</td>\n",
       "      <td>-0.002850</td>\n",
       "      <td>1.000000</td>\n",
       "      <td>-0.061632</td>\n",
       "      <td>0.015512</td>\n",
       "      <td>0.033677</td>\n",
       "      <td>-0.008932</td>\n",
       "      <td>-0.023356</td>\n",
       "      <td>0.024629</td>\n",
       "      <td>0.026685</td>\n",
       "      <td>-0.003875</td>\n",
       "      <td>0.004620</td>\n",
       "      <td>-0.004200</td>\n",
       "      <td>-0.000230</td>\n",
       "      <td>0.006504</td>\n",
       "      <td>0.036412</td>\n",
       "    </tr>\n",
       "    <tr>\n",
       "      <th>AGE</th>\n",
       "      <td>-0.016513</td>\n",
       "      <td>0.000106</td>\n",
       "      <td>-0.061632</td>\n",
       "      <td>1.000000</td>\n",
       "      <td>0.020686</td>\n",
       "      <td>-0.040398</td>\n",
       "      <td>0.037893</td>\n",
       "      <td>0.006513</td>\n",
       "      <td>-0.019236</td>\n",
       "      <td>-0.013054</td>\n",
       "      <td>0.003114</td>\n",
       "      <td>0.005801</td>\n",
       "      <td>-0.001881</td>\n",
       "      <td>-0.000832</td>\n",
       "      <td>-0.009008</td>\n",
       "      <td>-0.039270</td>\n",
       "    </tr>\n",
       "    <tr>\n",
       "      <th>BAC_RESULT VALUE</th>\n",
       "      <td>-0.028629</td>\n",
       "      <td>-0.036227</td>\n",
       "      <td>0.015512</td>\n",
       "      <td>0.020686</td>\n",
       "      <td>1.000000</td>\n",
       "      <td>0.003852</td>\n",
       "      <td>0.065534</td>\n",
       "      <td>0.039524</td>\n",
       "      <td>0.059508</td>\n",
       "      <td>0.012405</td>\n",
       "      <td>-0.025293</td>\n",
       "      <td>-0.069595</td>\n",
       "      <td>0.024200</td>\n",
       "      <td>-0.027690</td>\n",
       "      <td>NaN</td>\n",
       "      <td>0.003224</td>\n",
       "    </tr>\n",
       "    <tr>\n",
       "      <th>POSTED_SPEED_LIMIT</th>\n",
       "      <td>0.017434</td>\n",
       "      <td>-0.000095</td>\n",
       "      <td>0.033677</td>\n",
       "      <td>-0.040398</td>\n",
       "      <td>0.003852</td>\n",
       "      <td>1.000000</td>\n",
       "      <td>-0.011535</td>\n",
       "      <td>-0.056266</td>\n",
       "      <td>0.068015</td>\n",
       "      <td>0.010362</td>\n",
       "      <td>0.009942</td>\n",
       "      <td>0.011418</td>\n",
       "      <td>-0.006481</td>\n",
       "      <td>0.007401</td>\n",
       "      <td>0.003891</td>\n",
       "      <td>0.070672</td>\n",
       "    </tr>\n",
       "    <tr>\n",
       "      <th>STREET_NO</th>\n",
       "      <td>-0.000359</td>\n",
       "      <td>-0.003429</td>\n",
       "      <td>-0.008932</td>\n",
       "      <td>0.037893</td>\n",
       "      <td>0.065534</td>\n",
       "      <td>-0.011535</td>\n",
       "      <td>1.000000</td>\n",
       "      <td>-0.013593</td>\n",
       "      <td>0.006633</td>\n",
       "      <td>-0.007356</td>\n",
       "      <td>-0.003633</td>\n",
       "      <td>-0.008994</td>\n",
       "      <td>-0.065354</td>\n",
       "      <td>-0.011788</td>\n",
       "      <td>-0.000970</td>\n",
       "      <td>0.018644</td>\n",
       "    </tr>\n",
       "    <tr>\n",
       "      <th>BEAT_OF_OCCURRENCE</th>\n",
       "      <td>-0.016809</td>\n",
       "      <td>0.000494</td>\n",
       "      <td>-0.023356</td>\n",
       "      <td>0.006513</td>\n",
       "      <td>0.039524</td>\n",
       "      <td>-0.056266</td>\n",
       "      <td>-0.013593</td>\n",
       "      <td>1.000000</td>\n",
       "      <td>0.010561</td>\n",
       "      <td>0.007599</td>\n",
       "      <td>0.004718</td>\n",
       "      <td>0.001840</td>\n",
       "      <td>0.140275</td>\n",
       "      <td>-0.039260</td>\n",
       "      <td>0.000540</td>\n",
       "      <td>-0.044948</td>\n",
       "    </tr>\n",
       "    <tr>\n",
       "      <th>NUM_UNITS</th>\n",
       "      <td>0.002686</td>\n",
       "      <td>0.000015</td>\n",
       "      <td>0.024629</td>\n",
       "      <td>-0.019236</td>\n",
       "      <td>0.059508</td>\n",
       "      <td>0.068015</td>\n",
       "      <td>0.006633</td>\n",
       "      <td>0.010561</td>\n",
       "      <td>1.000000</td>\n",
       "      <td>0.009488</td>\n",
       "      <td>0.005662</td>\n",
       "      <td>0.004383</td>\n",
       "      <td>-0.000341</td>\n",
       "      <td>-0.001079</td>\n",
       "      <td>0.014922</td>\n",
       "      <td>0.098145</td>\n",
       "    </tr>\n",
       "    <tr>\n",
       "      <th>CRASH_HOUR</th>\n",
       "      <td>0.013090</td>\n",
       "      <td>-0.000006</td>\n",
       "      <td>0.026685</td>\n",
       "      <td>-0.013054</td>\n",
       "      <td>0.012405</td>\n",
       "      <td>0.010362</td>\n",
       "      <td>-0.007356</td>\n",
       "      <td>0.007599</td>\n",
       "      <td>0.009488</td>\n",
       "      <td>1.000000</td>\n",
       "      <td>0.058574</td>\n",
       "      <td>-0.004925</td>\n",
       "      <td>0.001265</td>\n",
       "      <td>0.002127</td>\n",
       "      <td>-0.012039</td>\n",
       "      <td>-0.026877</td>\n",
       "    </tr>\n",
       "    <tr>\n",
       "      <th>CRASH_DAY_OF_WEEK</th>\n",
       "      <td>-0.006831</td>\n",
       "      <td>-0.000827</td>\n",
       "      <td>-0.003875</td>\n",
       "      <td>0.003114</td>\n",
       "      <td>-0.025293</td>\n",
       "      <td>0.009942</td>\n",
       "      <td>-0.003633</td>\n",
       "      <td>0.004718</td>\n",
       "      <td>0.005662</td>\n",
       "      <td>0.058574</td>\n",
       "      <td>1.000000</td>\n",
       "      <td>0.001039</td>\n",
       "      <td>0.001825</td>\n",
       "      <td>-0.001070</td>\n",
       "      <td>-0.002559</td>\n",
       "      <td>-0.003091</td>\n",
       "    </tr>\n",
       "    <tr>\n",
       "      <th>CRASH_MONTH</th>\n",
       "      <td>0.012681</td>\n",
       "      <td>0.002020</td>\n",
       "      <td>0.004620</td>\n",
       "      <td>0.005801</td>\n",
       "      <td>-0.069595</td>\n",
       "      <td>0.011418</td>\n",
       "      <td>-0.008994</td>\n",
       "      <td>0.001840</td>\n",
       "      <td>0.004383</td>\n",
       "      <td>-0.004925</td>\n",
       "      <td>0.001039</td>\n",
       "      <td>1.000000</td>\n",
       "      <td>0.004938</td>\n",
       "      <td>-0.002143</td>\n",
       "      <td>-0.004374</td>\n",
       "      <td>0.006290</td>\n",
       "    </tr>\n",
       "    <tr>\n",
       "      <th>LATITUDE</th>\n",
       "      <td>-0.006715</td>\n",
       "      <td>-0.000507</td>\n",
       "      <td>-0.004200</td>\n",
       "      <td>-0.001881</td>\n",
       "      <td>0.024200</td>\n",
       "      <td>-0.006481</td>\n",
       "      <td>-0.065354</td>\n",
       "      <td>0.140275</td>\n",
       "      <td>-0.000341</td>\n",
       "      <td>0.001265</td>\n",
       "      <td>0.001825</td>\n",
       "      <td>0.004938</td>\n",
       "      <td>1.000000</td>\n",
       "      <td>-0.977917</td>\n",
       "      <td>0.001105</td>\n",
       "      <td>-0.003188</td>\n",
       "    </tr>\n",
       "    <tr>\n",
       "      <th>LONGITUDE</th>\n",
       "      <td>0.002088</td>\n",
       "      <td>0.000479</td>\n",
       "      <td>-0.000230</td>\n",
       "      <td>-0.000832</td>\n",
       "      <td>-0.027690</td>\n",
       "      <td>0.007401</td>\n",
       "      <td>-0.011788</td>\n",
       "      <td>-0.039260</td>\n",
       "      <td>-0.001079</td>\n",
       "      <td>0.002127</td>\n",
       "      <td>-0.001070</td>\n",
       "      <td>-0.002143</td>\n",
       "      <td>-0.977917</td>\n",
       "      <td>1.000000</td>\n",
       "      <td>-0.001164</td>\n",
       "      <td>-0.008937</td>\n",
       "    </tr>\n",
       "    <tr>\n",
       "      <th>BAC_TEST</th>\n",
       "      <td>-0.005771</td>\n",
       "      <td>-0.002264</td>\n",
       "      <td>0.006504</td>\n",
       "      <td>-0.009008</td>\n",
       "      <td>NaN</td>\n",
       "      <td>0.003891</td>\n",
       "      <td>-0.000970</td>\n",
       "      <td>0.000540</td>\n",
       "      <td>0.014922</td>\n",
       "      <td>-0.012039</td>\n",
       "      <td>-0.002559</td>\n",
       "      <td>-0.004374</td>\n",
       "      <td>0.001105</td>\n",
       "      <td>-0.001164</td>\n",
       "      <td>1.000000</td>\n",
       "      <td>0.011875</td>\n",
       "    </tr>\n",
       "    <tr>\n",
       "      <th>DAMAGE_OVER_1500</th>\n",
       "      <td>0.020105</td>\n",
       "      <td>-0.004112</td>\n",
       "      <td>0.036412</td>\n",
       "      <td>-0.039270</td>\n",
       "      <td>0.003224</td>\n",
       "      <td>0.070672</td>\n",
       "      <td>0.018644</td>\n",
       "      <td>-0.044948</td>\n",
       "      <td>0.098145</td>\n",
       "      <td>-0.026877</td>\n",
       "      <td>-0.003091</td>\n",
       "      <td>0.006290</td>\n",
       "      <td>-0.003188</td>\n",
       "      <td>-0.008937</td>\n",
       "      <td>0.011875</td>\n",
       "      <td>1.000000</td>\n",
       "    </tr>\n",
       "  </tbody>\n",
       "</table>\n",
       "</div>"
      ],
      "text/plain": [
       "                    NUM_PASSENGERS  VEHICLE_YEAR  OCCUPANT_CNT       AGE  \\\n",
       "NUM_PASSENGERS            1.000000     -0.001655      0.995752 -0.016513   \n",
       "VEHICLE_YEAR             -0.001655      1.000000     -0.002850  0.000106   \n",
       "OCCUPANT_CNT              0.995752     -0.002850      1.000000 -0.061632   \n",
       "AGE                      -0.016513      0.000106     -0.061632  1.000000   \n",
       "BAC_RESULT VALUE         -0.028629     -0.036227      0.015512  0.020686   \n",
       "POSTED_SPEED_LIMIT        0.017434     -0.000095      0.033677 -0.040398   \n",
       "STREET_NO                -0.000359     -0.003429     -0.008932  0.037893   \n",
       "BEAT_OF_OCCURRENCE       -0.016809      0.000494     -0.023356  0.006513   \n",
       "NUM_UNITS                 0.002686      0.000015      0.024629 -0.019236   \n",
       "CRASH_HOUR                0.013090     -0.000006      0.026685 -0.013054   \n",
       "CRASH_DAY_OF_WEEK        -0.006831     -0.000827     -0.003875  0.003114   \n",
       "CRASH_MONTH               0.012681      0.002020      0.004620  0.005801   \n",
       "LATITUDE                 -0.006715     -0.000507     -0.004200 -0.001881   \n",
       "LONGITUDE                 0.002088      0.000479     -0.000230 -0.000832   \n",
       "BAC_TEST                 -0.005771     -0.002264      0.006504 -0.009008   \n",
       "DAMAGE_OVER_1500          0.020105     -0.004112      0.036412 -0.039270   \n",
       "\n",
       "                    BAC_RESULT VALUE  POSTED_SPEED_LIMIT  STREET_NO  \\\n",
       "NUM_PASSENGERS             -0.028629            0.017434  -0.000359   \n",
       "VEHICLE_YEAR               -0.036227           -0.000095  -0.003429   \n",
       "OCCUPANT_CNT                0.015512            0.033677  -0.008932   \n",
       "AGE                         0.020686           -0.040398   0.037893   \n",
       "BAC_RESULT VALUE            1.000000            0.003852   0.065534   \n",
       "POSTED_SPEED_LIMIT          0.003852            1.000000  -0.011535   \n",
       "STREET_NO                   0.065534           -0.011535   1.000000   \n",
       "BEAT_OF_OCCURRENCE          0.039524           -0.056266  -0.013593   \n",
       "NUM_UNITS                   0.059508            0.068015   0.006633   \n",
       "CRASH_HOUR                  0.012405            0.010362  -0.007356   \n",
       "CRASH_DAY_OF_WEEK          -0.025293            0.009942  -0.003633   \n",
       "CRASH_MONTH                -0.069595            0.011418  -0.008994   \n",
       "LATITUDE                    0.024200           -0.006481  -0.065354   \n",
       "LONGITUDE                  -0.027690            0.007401  -0.011788   \n",
       "BAC_TEST                         NaN            0.003891  -0.000970   \n",
       "DAMAGE_OVER_1500            0.003224            0.070672   0.018644   \n",
       "\n",
       "                    BEAT_OF_OCCURRENCE  NUM_UNITS  CRASH_HOUR  \\\n",
       "NUM_PASSENGERS               -0.016809   0.002686    0.013090   \n",
       "VEHICLE_YEAR                  0.000494   0.000015   -0.000006   \n",
       "OCCUPANT_CNT                 -0.023356   0.024629    0.026685   \n",
       "AGE                           0.006513  -0.019236   -0.013054   \n",
       "BAC_RESULT VALUE              0.039524   0.059508    0.012405   \n",
       "POSTED_SPEED_LIMIT           -0.056266   0.068015    0.010362   \n",
       "STREET_NO                    -0.013593   0.006633   -0.007356   \n",
       "BEAT_OF_OCCURRENCE            1.000000   0.010561    0.007599   \n",
       "NUM_UNITS                     0.010561   1.000000    0.009488   \n",
       "CRASH_HOUR                    0.007599   0.009488    1.000000   \n",
       "CRASH_DAY_OF_WEEK             0.004718   0.005662    0.058574   \n",
       "CRASH_MONTH                   0.001840   0.004383   -0.004925   \n",
       "LATITUDE                      0.140275  -0.000341    0.001265   \n",
       "LONGITUDE                    -0.039260  -0.001079    0.002127   \n",
       "BAC_TEST                      0.000540   0.014922   -0.012039   \n",
       "DAMAGE_OVER_1500             -0.044948   0.098145   -0.026877   \n",
       "\n",
       "                    CRASH_DAY_OF_WEEK  CRASH_MONTH  LATITUDE  LONGITUDE  \\\n",
       "NUM_PASSENGERS              -0.006831     0.012681 -0.006715   0.002088   \n",
       "VEHICLE_YEAR                -0.000827     0.002020 -0.000507   0.000479   \n",
       "OCCUPANT_CNT                -0.003875     0.004620 -0.004200  -0.000230   \n",
       "AGE                          0.003114     0.005801 -0.001881  -0.000832   \n",
       "BAC_RESULT VALUE            -0.025293    -0.069595  0.024200  -0.027690   \n",
       "POSTED_SPEED_LIMIT           0.009942     0.011418 -0.006481   0.007401   \n",
       "STREET_NO                   -0.003633    -0.008994 -0.065354  -0.011788   \n",
       "BEAT_OF_OCCURRENCE           0.004718     0.001840  0.140275  -0.039260   \n",
       "NUM_UNITS                    0.005662     0.004383 -0.000341  -0.001079   \n",
       "CRASH_HOUR                   0.058574    -0.004925  0.001265   0.002127   \n",
       "CRASH_DAY_OF_WEEK            1.000000     0.001039  0.001825  -0.001070   \n",
       "CRASH_MONTH                  0.001039     1.000000  0.004938  -0.002143   \n",
       "LATITUDE                     0.001825     0.004938  1.000000  -0.977917   \n",
       "LONGITUDE                   -0.001070    -0.002143 -0.977917   1.000000   \n",
       "BAC_TEST                    -0.002559    -0.004374  0.001105  -0.001164   \n",
       "DAMAGE_OVER_1500            -0.003091     0.006290 -0.003188  -0.008937   \n",
       "\n",
       "                    BAC_TEST  DAMAGE_OVER_1500  \n",
       "NUM_PASSENGERS     -0.005771          0.020105  \n",
       "VEHICLE_YEAR       -0.002264         -0.004112  \n",
       "OCCUPANT_CNT        0.006504          0.036412  \n",
       "AGE                -0.009008         -0.039270  \n",
       "BAC_RESULT VALUE         NaN          0.003224  \n",
       "POSTED_SPEED_LIMIT  0.003891          0.070672  \n",
       "STREET_NO          -0.000970          0.018644  \n",
       "BEAT_OF_OCCURRENCE  0.000540         -0.044948  \n",
       "NUM_UNITS           0.014922          0.098145  \n",
       "CRASH_HOUR         -0.012039         -0.026877  \n",
       "CRASH_DAY_OF_WEEK  -0.002559         -0.003091  \n",
       "CRASH_MONTH        -0.004374          0.006290  \n",
       "LATITUDE            0.001105         -0.003188  \n",
       "LONGITUDE          -0.001164         -0.008937  \n",
       "BAC_TEST            1.000000          0.011875  \n",
       "DAMAGE_OVER_1500    0.011875          1.000000  "
      ]
     },
     "execution_count": 346,
     "metadata": {},
     "output_type": "execute_result"
    }
   ],
   "source": [
    "df.corr()"
   ]
  },
  {
   "cell_type": "markdown",
   "metadata": {},
   "source": [
    "It looks like nothing currently numeric is very correlated to DAMAGE_OVER_$1500. However, we will look at the non-numeric variables as well."
   ]
  },
  {
   "cell_type": "code",
   "execution_count": 358,
   "metadata": {},
   "outputs": [
    {
     "data": {
      "text/plain": [
       "MAKE\n",
       "UNKNOWN                               61453\n",
       "CHEVROLET                             58486\n",
       "TOYOTA                                56867\n",
       "FORD                                  51225\n",
       "NISSAN                                40652\n",
       "                                      ...  \n",
       "KENT MANUFACTURING COMPANY INC.           1\n",
       "KNOWLES MANUFACTURING COMPANY             1\n",
       "KOMATSU AMERICAN CORPORATION              1\n",
       "KROMAG (SUBSIDIARY OF PUCH)               1\n",
       "INTERCONSULT MANUFACTURING COMPANY        1\n",
       "Name: DAMAGE_OVER_1500, Length: 628, dtype: int64"
      ]
     },
     "execution_count": 358,
     "metadata": {},
     "output_type": "execute_result"
    }
   ],
   "source": [
    "df.groupby(\"MAKE\").DAMAGE_OVER_1500.count().sort_values(ascending=False)"
   ]
  },
  {
   "cell_type": "code",
   "execution_count": 348,
   "metadata": {},
   "outputs": [
    {
     "data": {
      "text/plain": [
       "AGE\n",
       "28.0     10738\n",
       "27.0     10706\n",
       "29.0     10618\n",
       "26.0     10583\n",
       "25.0     10465\n",
       "         ...  \n",
       "101.0        5\n",
       "102.0        4\n",
       "98.0         3\n",
       "103.0        3\n",
       "110.0        2\n",
       "Name: DAMAGE_OVER_1500, Length: 105, dtype: int64"
      ]
     },
     "execution_count": 348,
     "metadata": {},
     "output_type": "execute_result"
    }
   ],
   "source": [
    "df.groupby(\"AGE\").DAMAGE_OVER_1500.count().sort_values(ascending=False)"
   ]
  },
  {
   "cell_type": "code",
   "execution_count": 349,
   "metadata": {},
   "outputs": [
    {
     "data": {
      "text/plain": [
       "POSTED_SPEED_LIMIT\n",
       "30    395685\n",
       "35     35929\n",
       "25     31842\n",
       "20     20261\n",
       "15     15025\n",
       "10     11118\n",
       "40      6127\n",
       "45      4472\n",
       "5       1273\n",
       "0        834\n",
       "55       592\n",
       "50       212\n",
       "3        122\n",
       "39        46\n",
       "60        38\n",
       "24        30\n",
       "34        14\n",
       "26        11\n",
       "65        11\n",
       "2         11\n",
       "32         9\n",
       "11         8\n",
       "1          7\n",
       "9          7\n",
       "33         6\n",
       "7          6\n",
       "8          4\n",
       "29         3\n",
       "22         3\n",
       "38         2\n",
       "23         2\n",
       "44         2\n",
       "70         2\n",
       "12         1\n",
       "62         1\n",
       "14         1\n",
       "Name: DAMAGE_OVER_1500, dtype: int64"
      ]
     },
     "execution_count": 349,
     "metadata": {},
     "output_type": "execute_result"
    }
   ],
   "source": [
    "df.groupby(\"POSTED_SPEED_LIMIT\").DAMAGE_OVER_1500.count().sort_values(ascending=False)"
   ]
  },
  {
   "cell_type": "code",
   "execution_count": 350,
   "metadata": {},
   "outputs": [
    {
     "data": {
      "text/plain": [
       "STREET_NO\n",
       "1600     4010\n",
       "800      3382\n",
       "100      3062\n",
       "7900     3057\n",
       "2400     2984\n",
       "         ... \n",
       "5668        1\n",
       "10442       1\n",
       "577         1\n",
       "10441       1\n",
       "12117       1\n",
       "Name: DAMAGE_OVER_1500, Length: 10612, dtype: int64"
      ]
     },
     "execution_count": 350,
     "metadata": {},
     "output_type": "execute_result"
    }
   ],
   "source": [
    "df.groupby(\"STREET_NO\").DAMAGE_OVER_1500.count().sort_values(ascending=False)"
   ]
  },
  {
   "cell_type": "code",
   "execution_count": 351,
   "metadata": {},
   "outputs": [
    {
     "data": {
      "text/plain": [
       "BEAT_OF_OCCURRENCE\n",
       "813.0     5777\n",
       "1834.0    5636\n",
       "114.0     5582\n",
       "815.0     5228\n",
       "833.0     4831\n",
       "          ... \n",
       "1653.0     395\n",
       "1655.0     257\n",
       "1652.0     182\n",
       "1650.0      62\n",
       "6100.0       3\n",
       "Name: DAMAGE_OVER_1500, Length: 276, dtype: int64"
      ]
     },
     "execution_count": 351,
     "metadata": {},
     "output_type": "execute_result"
    }
   ],
   "source": [
    "df.groupby(\"BEAT_OF_OCCURRENCE\").DAMAGE_OVER_1500.count().sort_values(ascending=False)"
   ]
  },
  {
   "cell_type": "code",
   "execution_count": 352,
   "metadata": {},
   "outputs": [
    {
     "data": {
      "text/plain": [
       "NUM_UNITS\n",
       "2     456712\n",
       "3      39450\n",
       "1      17029\n",
       "4       7775\n",
       "5       1818\n",
       "6        543\n",
       "7        211\n",
       "8        120\n",
       "9         28\n",
       "12        14\n",
       "18         7\n",
       "10         6\n",
       "11         2\n",
       "14         1\n",
       "13         1\n",
       "Name: DAMAGE_OVER_1500, dtype: int64"
      ]
     },
     "execution_count": 352,
     "metadata": {},
     "output_type": "execute_result"
    }
   ],
   "source": [
    "df.groupby(\"NUM_UNITS\").DAMAGE_OVER_1500.count().sort_values(ascending=False)"
   ]
  },
  {
   "cell_type": "code",
   "execution_count": 353,
   "metadata": {},
   "outputs": [
    {
     "data": {
      "text/plain": [
       "CRASH_HOUR\n",
       "15    43311\n",
       "16    42333\n",
       "17    40080\n",
       "14    35919\n",
       "18    32666\n",
       "13    32084\n",
       "12    30479\n",
       "8     27017\n",
       "11    25979\n",
       "19    23951\n",
       "10    22914\n",
       "9     22580\n",
       "7     21094\n",
       "20    19369\n",
       "21    17464\n",
       "22    15692\n",
       "23    13954\n",
       "0     11159\n",
       "6      9981\n",
       "1      9617\n",
       "2      8040\n",
       "5      6386\n",
       "3      6283\n",
       "4      5365\n",
       "Name: DAMAGE_OVER_1500, dtype: int64"
      ]
     },
     "execution_count": 353,
     "metadata": {},
     "output_type": "execute_result"
    }
   ],
   "source": [
    "df.groupby(\"CRASH_HOUR\").DAMAGE_OVER_1500.count().sort_values(ascending=False)"
   ]
  },
  {
   "cell_type": "code",
   "execution_count": 354,
   "metadata": {},
   "outputs": [
    {
     "data": {
      "text/plain": [
       "BAC_TEST\n",
       "0    516361\n",
       "1      7356\n",
       "Name: DAMAGE_OVER_1500, dtype: int64"
      ]
     },
     "execution_count": 354,
     "metadata": {},
     "output_type": "execute_result"
    }
   ],
   "source": [
    "df.groupby(\"BAC_TEST\").DAMAGE_OVER_1500.count().sort_values(ascending=False)"
   ]
  },
  {
   "cell_type": "markdown",
   "metadata": {},
   "source": [
    "## Dummy Model"
   ]
  },
  {
   "cell_type": "markdown",
   "metadata": {},
   "source": [
    "### Decide Xs/y"
   ]
  },
  {
   "cell_type": "markdown",
   "metadata": {},
   "source": [
    "The target is DAMAGE_OVER_1500. There are a few columns which represent interrelated variables, so only one will be used. "
   ]
  },
  {
   "cell_type": "code",
   "execution_count": 317,
   "metadata": {},
   "outputs": [],
   "source": [
    "X = df.drop([\"NUM_PASSENGERS\", \"DAMAGE\", \"DAMAGE_OVER_1500\"], axis=1)\n",
    "y = df[\"DAMAGE_OVER_1500\"]"
   ]
  },
  {
   "cell_type": "code",
   "execution_count": 170,
   "metadata": {},
   "outputs": [],
   "source": [
    "X_train, X_test, y_train, y_test = train_test_split(X, y, random_state=2024)"
   ]
  },
  {
   "cell_type": "code",
   "execution_count": 171,
   "metadata": {},
   "outputs": [],
   "source": [
    "dummy_model = DummyClassifier(strategy=\"most_frequent\")"
   ]
  },
  {
   "cell_type": "code",
   "execution_count": 172,
   "metadata": {},
   "outputs": [
    {
     "data": {
      "text/plain": [
       "DummyClassifier(strategy='most_frequent')"
      ]
     },
     "execution_count": 172,
     "metadata": {},
     "output_type": "execute_result"
    }
   ],
   "source": [
    "dummy_model.fit(X_train, y_train)"
   ]
  },
  {
   "cell_type": "code",
   "execution_count": 173,
   "metadata": {},
   "outputs": [
    {
     "data": {
      "text/plain": [
       "array([0.68784847, 0.68784847, 0.68785722, 0.6878445 , 0.6878445 ])"
      ]
     },
     "execution_count": 173,
     "metadata": {},
     "output_type": "execute_result"
    }
   ],
   "source": [
    "cv_results_dummy = cross_val_score(dummy_model, X_train, y_train, cv=5)\n",
    "cv_results_dummy"
   ]
  },
  {
   "cell_type": "markdown",
   "metadata": {},
   "source": [
    "# Model 2"
   ]
  },
  {
   "cell_type": "markdown",
   "metadata": {},
   "source": [
    "## Baseline Numeric Model"
   ]
  },
  {
   "cell_type": "markdown",
   "metadata": {},
   "source": [
    "For a baseline model, we will use only the already numeric columns as Xs to predict DAMAGE_OVER_$1500 as y. We will omit all columns that are simply identifiers or keys. We also omit NUM_PASSENGERS as it is directly related to OCCUPANT_CNT."
   ]
  },
  {
   "cell_type": "code",
   "execution_count": 174,
   "metadata": {},
   "outputs": [
    {
     "data": {
      "text/html": [
       "<div>\n",
       "<style scoped>\n",
       "    .dataframe tbody tr th:only-of-type {\n",
       "        vertical-align: middle;\n",
       "    }\n",
       "\n",
       "    .dataframe tbody tr th {\n",
       "        vertical-align: top;\n",
       "    }\n",
       "\n",
       "    .dataframe thead th {\n",
       "        text-align: right;\n",
       "    }\n",
       "</style>\n",
       "<table border=\"1\" class=\"dataframe\">\n",
       "  <thead>\n",
       "    <tr style=\"text-align: right;\">\n",
       "      <th></th>\n",
       "      <th>Unnamed: 0</th>\n",
       "      <th>NUM_PASSENGERS</th>\n",
       "      <th>VEHICLE_YEAR</th>\n",
       "      <th>OCCUPANT_CNT</th>\n",
       "      <th>AGE</th>\n",
       "      <th>BAC_RESULT VALUE</th>\n",
       "      <th>POSTED_SPEED_LIMIT</th>\n",
       "      <th>STREET_NO</th>\n",
       "      <th>BEAT_OF_OCCURRENCE</th>\n",
       "      <th>NUM_UNITS</th>\n",
       "      <th>CRASH_HOUR</th>\n",
       "      <th>CRASH_DAY_OF_WEEK</th>\n",
       "      <th>CRASH_MONTH</th>\n",
       "      <th>LATITUDE</th>\n",
       "      <th>LONGITUDE</th>\n",
       "      <th>DAMAGE_OVER_$1500</th>\n",
       "      <th>BAC_TEST</th>\n",
       "    </tr>\n",
       "  </thead>\n",
       "  <tbody>\n",
       "    <tr>\n",
       "      <th>count</th>\n",
       "      <td>523717.000000</td>\n",
       "      <td>84450.000000</td>\n",
       "      <td>428682.000000</td>\n",
       "      <td>523496.000000</td>\n",
       "      <td>371575.000000</td>\n",
       "      <td>610.000000</td>\n",
       "      <td>523717.000000</td>\n",
       "      <td>523717.000000</td>\n",
       "      <td>523717.000000</td>\n",
       "      <td>523717.000000</td>\n",
       "      <td>523717.000000</td>\n",
       "      <td>523717.000000</td>\n",
       "      <td>523717.00000</td>\n",
       "      <td>519247.000000</td>\n",
       "      <td>519247.000000</td>\n",
       "      <td>523717.000000</td>\n",
       "      <td>523717.000000</td>\n",
       "    </tr>\n",
       "    <tr>\n",
       "      <th>mean</th>\n",
       "      <td>389995.012490</td>\n",
       "      <td>1.456945</td>\n",
       "      <td>2014.883128</td>\n",
       "      <td>1.234516</td>\n",
       "      <td>39.925474</td>\n",
       "      <td>0.175885</td>\n",
       "      <td>28.965458</td>\n",
       "      <td>3746.654508</td>\n",
       "      <td>1239.549677</td>\n",
       "      <td>2.091479</td>\n",
       "      <td>13.360557</td>\n",
       "      <td>4.137664</td>\n",
       "      <td>6.42281</td>\n",
       "      <td>41.852148</td>\n",
       "      <td>-87.673290</td>\n",
       "      <td>0.687432</td>\n",
       "      <td>0.014046</td>\n",
       "    </tr>\n",
       "    <tr>\n",
       "      <th>std</th>\n",
       "      <td>222581.925857</td>\n",
       "      <td>0.995520</td>\n",
       "      <td>118.634721</td>\n",
       "      <td>0.667260</td>\n",
       "      <td>15.843725</td>\n",
       "      <td>0.104812</td>\n",
       "      <td>5.312512</td>\n",
       "      <td>2852.738278</td>\n",
       "      <td>701.016896</td>\n",
       "      <td>0.485050</td>\n",
       "      <td>5.512825</td>\n",
       "      <td>1.982557</td>\n",
       "      <td>3.24658</td>\n",
       "      <td>0.368367</td>\n",
       "      <td>0.752426</td>\n",
       "      <td>0.463540</td>\n",
       "      <td>0.117680</td>\n",
       "    </tr>\n",
       "    <tr>\n",
       "      <th>min</th>\n",
       "      <td>0.000000</td>\n",
       "      <td>1.000000</td>\n",
       "      <td>1900.000000</td>\n",
       "      <td>0.000000</td>\n",
       "      <td>0.000000</td>\n",
       "      <td>0.000000</td>\n",
       "      <td>0.000000</td>\n",
       "      <td>0.000000</td>\n",
       "      <td>111.000000</td>\n",
       "      <td>1.000000</td>\n",
       "      <td>0.000000</td>\n",
       "      <td>1.000000</td>\n",
       "      <td>1.00000</td>\n",
       "      <td>0.000000</td>\n",
       "      <td>-87.936193</td>\n",
       "      <td>0.000000</td>\n",
       "      <td>0.000000</td>\n",
       "    </tr>\n",
       "    <tr>\n",
       "      <th>25%</th>\n",
       "      <td>195000.000000</td>\n",
       "      <td>1.000000</td>\n",
       "      <td>2009.000000</td>\n",
       "      <td>1.000000</td>\n",
       "      <td>27.000000</td>\n",
       "      <td>0.130000</td>\n",
       "      <td>30.000000</td>\n",
       "      <td>1329.000000</td>\n",
       "      <td>715.000000</td>\n",
       "      <td>2.000000</td>\n",
       "      <td>10.000000</td>\n",
       "      <td>2.000000</td>\n",
       "      <td>4.00000</td>\n",
       "      <td>41.779949</td>\n",
       "      <td>-87.722859</td>\n",
       "      <td>0.000000</td>\n",
       "      <td>0.000000</td>\n",
       "    </tr>\n",
       "    <tr>\n",
       "      <th>50%</th>\n",
       "      <td>396756.000000</td>\n",
       "      <td>1.000000</td>\n",
       "      <td>2014.000000</td>\n",
       "      <td>1.000000</td>\n",
       "      <td>37.000000</td>\n",
       "      <td>0.180000</td>\n",
       "      <td>30.000000</td>\n",
       "      <td>3299.000000</td>\n",
       "      <td>1134.000000</td>\n",
       "      <td>2.000000</td>\n",
       "      <td>14.000000</td>\n",
       "      <td>4.000000</td>\n",
       "      <td>6.00000</td>\n",
       "      <td>41.871981</td>\n",
       "      <td>-87.675525</td>\n",
       "      <td>1.000000</td>\n",
       "      <td>0.000000</td>\n",
       "    </tr>\n",
       "    <tr>\n",
       "      <th>75%</th>\n",
       "      <td>582781.000000</td>\n",
       "      <td>2.000000</td>\n",
       "      <td>2018.000000</td>\n",
       "      <td>1.000000</td>\n",
       "      <td>51.000000</td>\n",
       "      <td>0.220000</td>\n",
       "      <td>30.000000</td>\n",
       "      <td>5611.000000</td>\n",
       "      <td>1814.000000</td>\n",
       "      <td>2.000000</td>\n",
       "      <td>17.000000</td>\n",
       "      <td>6.000000</td>\n",
       "      <td>9.00000</td>\n",
       "      <td>41.924092</td>\n",
       "      <td>-87.633793</td>\n",
       "      <td>1.000000</td>\n",
       "      <td>0.000000</td>\n",
       "    </tr>\n",
       "    <tr>\n",
       "      <th>max</th>\n",
       "      <td>766594.000000</td>\n",
       "      <td>46.000000</td>\n",
       "      <td>9999.000000</td>\n",
       "      <td>47.000000</td>\n",
       "      <td>110.000000</td>\n",
       "      <td>1.000000</td>\n",
       "      <td>70.000000</td>\n",
       "      <td>13799.000000</td>\n",
       "      <td>6100.000000</td>\n",
       "      <td>18.000000</td>\n",
       "      <td>23.000000</td>\n",
       "      <td>7.000000</td>\n",
       "      <td>12.00000</td>\n",
       "      <td>42.022780</td>\n",
       "      <td>0.000000</td>\n",
       "      <td>1.000000</td>\n",
       "      <td>1.000000</td>\n",
       "    </tr>\n",
       "  </tbody>\n",
       "</table>\n",
       "</div>"
      ],
      "text/plain": [
       "          Unnamed: 0  NUM_PASSENGERS   VEHICLE_YEAR   OCCUPANT_CNT  \\\n",
       "count  523717.000000    84450.000000  428682.000000  523496.000000   \n",
       "mean   389995.012490        1.456945    2014.883128       1.234516   \n",
       "std    222581.925857        0.995520     118.634721       0.667260   \n",
       "min         0.000000        1.000000    1900.000000       0.000000   \n",
       "25%    195000.000000        1.000000    2009.000000       1.000000   \n",
       "50%    396756.000000        1.000000    2014.000000       1.000000   \n",
       "75%    582781.000000        2.000000    2018.000000       1.000000   \n",
       "max    766594.000000       46.000000    9999.000000      47.000000   \n",
       "\n",
       "                 AGE  BAC_RESULT VALUE  POSTED_SPEED_LIMIT      STREET_NO  \\\n",
       "count  371575.000000        610.000000       523717.000000  523717.000000   \n",
       "mean       39.925474          0.175885           28.965458    3746.654508   \n",
       "std        15.843725          0.104812            5.312512    2852.738278   \n",
       "min         0.000000          0.000000            0.000000       0.000000   \n",
       "25%        27.000000          0.130000           30.000000    1329.000000   \n",
       "50%        37.000000          0.180000           30.000000    3299.000000   \n",
       "75%        51.000000          0.220000           30.000000    5611.000000   \n",
       "max       110.000000          1.000000           70.000000   13799.000000   \n",
       "\n",
       "       BEAT_OF_OCCURRENCE      NUM_UNITS     CRASH_HOUR  CRASH_DAY_OF_WEEK  \\\n",
       "count       523717.000000  523717.000000  523717.000000      523717.000000   \n",
       "mean          1239.549677       2.091479      13.360557           4.137664   \n",
       "std            701.016896       0.485050       5.512825           1.982557   \n",
       "min            111.000000       1.000000       0.000000           1.000000   \n",
       "25%            715.000000       2.000000      10.000000           2.000000   \n",
       "50%           1134.000000       2.000000      14.000000           4.000000   \n",
       "75%           1814.000000       2.000000      17.000000           6.000000   \n",
       "max           6100.000000      18.000000      23.000000           7.000000   \n",
       "\n",
       "        CRASH_MONTH       LATITUDE      LONGITUDE  DAMAGE_OVER_$1500  \\\n",
       "count  523717.00000  519247.000000  519247.000000      523717.000000   \n",
       "mean        6.42281      41.852148     -87.673290           0.687432   \n",
       "std         3.24658       0.368367       0.752426           0.463540   \n",
       "min         1.00000       0.000000     -87.936193           0.000000   \n",
       "25%         4.00000      41.779949     -87.722859           0.000000   \n",
       "50%         6.00000      41.871981     -87.675525           1.000000   \n",
       "75%         9.00000      41.924092     -87.633793           1.000000   \n",
       "max        12.00000      42.022780       0.000000           1.000000   \n",
       "\n",
       "            BAC_TEST  \n",
       "count  523717.000000  \n",
       "mean        0.014046  \n",
       "std         0.117680  \n",
       "min         0.000000  \n",
       "25%         0.000000  \n",
       "50%         0.000000  \n",
       "75%         0.000000  \n",
       "max         1.000000  "
      ]
     },
     "execution_count": 174,
     "metadata": {},
     "output_type": "execute_result"
    }
   ],
   "source": [
    "# Using .describe to see the variables that are already numeric\n",
    "\n",
    "df.describe()"
   ]
  },
  {
   "cell_type": "markdown",
   "metadata": {},
   "source": [
    "There's something wrong with vehicle year."
   ]
  },
  {
   "cell_type": "code",
   "execution_count": null,
   "metadata": {},
   "outputs": [],
   "source": []
  },
  {
   "cell_type": "code",
   "execution_count": 176,
   "metadata": {},
   "outputs": [],
   "source": [
    "# Making a baseline dataframe \n",
    "\n",
    "df_bl = df[[\"VEHICLE_YEAR\", \"OCCUPANT_CNT\", \"AGE\", \"BAC_RESULT VALUE\", \"POSTED_SPEED_LIMIT\", \"STREET_NO\", \"BEAT_OF_OCCURRENCE\", \"NUM_UNITS\", \"CRASH_HOUR\", \"CRASH_DAY_OF_WEEK\", \"CRASH_MONTH\", \"LATITUDE\", \"LONGITUDE\", \"BAC_TEST\", \"DAMAGE_OVER_$1500\"]]"
   ]
  },
  {
   "cell_type": "code",
   "execution_count": 177,
   "metadata": {},
   "outputs": [],
   "source": [
    "# Assigning Xs & y \n",
    "\n",
    "X_bl = df_bl.drop(\"DAMAGE_OVER_$1500\", axis=1)\n",
    "y_bl = df[\"DAMAGE_OVER_$1500\"]"
   ]
  },
  {
   "cell_type": "markdown",
   "metadata": {},
   "source": [
    "### Train/Test Split"
   ]
  },
  {
   "cell_type": "markdown",
   "metadata": {},
   "source": []
  },
  {
   "cell_type": "code",
   "execution_count": 178,
   "metadata": {},
   "outputs": [],
   "source": [
    "X_train_bl, X_test_bl, y_train_bl, y_test_bl = train_test_split(X_bl, y_bl, random_state=2024)"
   ]
  },
  {
   "cell_type": "markdown",
   "metadata": {},
   "source": [
    "### Preprocessing Steps (SS, OHE, SI)"
   ]
  },
  {
   "cell_type": "markdown",
   "metadata": {},
   "source": []
  },
  {
   "cell_type": "code",
   "execution_count": 179,
   "metadata": {},
   "outputs": [],
   "source": [
    "numeric_imputer = SimpleImputer()\n",
    "X_train_blimp = numeric_imputer.fit_transform(X_train_bl)"
   ]
  },
  {
   "cell_type": "markdown",
   "metadata": {},
   "source": [
    "### Modeling (look at Coefficients, P-values)"
   ]
  },
  {
   "cell_type": "markdown",
   "metadata": {},
   "source": []
  },
  {
   "cell_type": "code",
   "execution_count": 180,
   "metadata": {},
   "outputs": [],
   "source": [
    "bl_logreg = LogisticRegression(random_state=2024, penalty=\"none\", max_iter=1000)"
   ]
  },
  {
   "cell_type": "code",
   "execution_count": 181,
   "metadata": {},
   "outputs": [
    {
     "data": {
      "text/plain": [
       "LogisticRegression(max_iter=1000, penalty='none', random_state=2024)"
      ]
     },
     "execution_count": 181,
     "metadata": {},
     "output_type": "execute_result"
    }
   ],
   "source": [
    "bl_logreg.fit(X_train_blimp, y_train_bl)"
   ]
  },
  {
   "cell_type": "code",
   "execution_count": 182,
   "metadata": {},
   "outputs": [
    {
     "data": {
      "text/plain": [
       "array([[   297, 122312],\n",
       "       [   396, 269782]], dtype=int64)"
      ]
     },
     "execution_count": 182,
     "metadata": {},
     "output_type": "execute_result"
    }
   ],
   "source": [
    "confusion_matrix(y_train_bl, bl_logreg.predict(X_train_blimp))"
   ]
  },
  {
   "cell_type": "markdown",
   "metadata": {},
   "source": [
    "### Evaluation"
   ]
  },
  {
   "cell_type": "code",
   "execution_count": 183,
   "metadata": {},
   "outputs": [
    {
     "data": {
      "text/plain": [
       "array([0.68652461, 0.68769572, 0.68640605, 0.68739896, 0.68660972])"
      ]
     },
     "execution_count": 183,
     "metadata": {},
     "output_type": "execute_result"
    }
   ],
   "source": [
    "cv_results = cross_val_score(bl_logreg, X_train_blimp, y_train_bl, cv=5)\n",
    "cv_results"
   ]
  },
  {
   "cell_type": "code",
   "execution_count": 187,
   "metadata": {},
   "outputs": [
    {
     "name": "stdout",
     "output_type": "stream",
     "text": [
      "Dummy Model CV:           [0.68784847 0.68784847 0.68785722 0.6878445  0.6878445 ]\n",
      "Initial Numeric Model CV: [0.68652461 0.68769572 0.68640605 0.68739896 0.68660972]\n"
     ]
    }
   ],
   "source": [
    "print(\"Dummy Model CV:          \", cv_results_dummy)\n",
    "print(\"Initial Numeric Model CV:\", cv_results)"
   ]
  },
  {
   "cell_type": "markdown",
   "metadata": {},
   "source": [
    "So we can see that a model using only the columns which are already numeric is only as good as picking the most frequent."
   ]
  },
  {
   "cell_type": "markdown",
   "metadata": {},
   "source": []
  },
  {
   "cell_type": "markdown",
   "metadata": {},
   "source": [
    "# Model 3"
   ]
  },
  {
   "cell_type": "markdown",
   "metadata": {},
   "source": []
  },
  {
   "cell_type": "code",
   "execution_count": null,
   "metadata": {},
   "outputs": [],
   "source": []
  },
  {
   "cell_type": "markdown",
   "metadata": {},
   "source": [
    "## Evaluation OF/UF report Test"
   ]
  }
 ],
 "metadata": {
  "kernelspec": {
   "display_name": "learn-env",
   "language": "python",
   "name": "python3"
  },
  "language_info": {
   "codemirror_mode": {
    "name": "ipython",
    "version": 3
   },
   "file_extension": ".py",
   "mimetype": "text/x-python",
   "name": "python",
   "nbconvert_exporter": "python",
   "pygments_lexer": "ipython3",
   "version": "3.8.5"
  }
 },
 "nbformat": 4,
 "nbformat_minor": 2
}
