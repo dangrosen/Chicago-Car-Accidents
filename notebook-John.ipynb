{
 "cells": [
  {
   "cell_type": "markdown",
   "metadata": {},
   "source": [
    "Place for a picture"
   ]
  },
  {
   "cell_type": "markdown",
   "metadata": {},
   "source": [
    "# Logistic Regression of Chcago Car Crash Data"
   ]
  },
  {
   "cell_type": "markdown",
   "metadata": {},
   "source": [
    "## Business Problem/Question"
   ]
  },
  {
   "cell_type": "markdown",
   "metadata": {},
   "source": [
    "Can we use factors from this dataset that are trackable by an insurance company to determining whether a private passenger vehicle crash in Chicago incurs property damage over $1,500 and can we make good predictions using these factors? "
   ]
  },
  {
   "cell_type": "markdown",
   "metadata": {},
   "source": [
    "## EDA"
   ]
  },
  {
   "cell_type": "code",
   "execution_count": 1,
   "metadata": {},
   "outputs": [],
   "source": [
    "# Importing packages\n",
    "import numpy as np\n",
    "import pandas as pd \n",
    "import math\n",
    "\n",
    "import matplotlib.pyplot as plt\n",
    "import seaborn as sns\n",
    "%matplotlib inline\n",
    "\n",
    "from sklearn.model_selection import train_test_split, cross_val_score\n",
    "from sklearn.impute import MissingIndicator, SimpleImputer\n",
    "from sklearn.preprocessing import StandardScaler, OneHotEncoder\n",
    "from sklearn.dummy import DummyClassifier\n",
    "\n",
    "from sklearn.linear_model import LogisticRegression\n",
    "from sklearn.tree import DecisionTreeRegressor, DecisionTreeClassifier, plot_tree\n",
    "\n",
    "from sklearn.metrics import accuracy_score, log_loss\n",
    "from sklearn.metrics import roc_curve, roc_auc_score, plot_roc_curve\n",
    "from sklearn.metrics import plot_confusion_matrix, confusion_matrix"
   ]
  },
  {
   "cell_type": "markdown",
   "metadata": {},
   "source": [
    "### Read in and create new csv"
   ]
  },
  {
   "cell_type": "code",
   "execution_count": 395,
   "metadata": {},
   "outputs": [
    {
     "ename": "FileNotFoundError",
     "evalue": "[Errno 2] No such file or directory: 'Data\\\\Traffic_Crashes_-_Vehicles_20231109.csv'",
     "output_type": "error",
     "traceback": [
      "\u001b[1;31m---------------------------------------------------------------------------\u001b[0m",
      "\u001b[1;31mFileNotFoundError\u001b[0m                         Traceback (most recent call last)",
      "\u001b[1;32m<ipython-input-395-3cd7b150fa92>\u001b[0m in \u001b[0;36m<module>\u001b[1;34m\u001b[0m\n\u001b[0;32m      1\u001b[0m \u001b[1;31m# Read in data\u001b[0m\u001b[1;33m\u001b[0m\u001b[1;33m\u001b[0m\u001b[1;33m\u001b[0m\u001b[0m\n\u001b[0;32m      2\u001b[0m \u001b[1;33m\u001b[0m\u001b[0m\n\u001b[1;32m----> 3\u001b[1;33m \u001b[0mdf_vehicles\u001b[0m \u001b[1;33m=\u001b[0m \u001b[0mpd\u001b[0m\u001b[1;33m.\u001b[0m\u001b[0mread_csv\u001b[0m\u001b[1;33m(\u001b[0m\u001b[1;34m\"Data\\Traffic_Crashes_-_Vehicles_20231109.csv\"\u001b[0m\u001b[1;33m,\u001b[0m \u001b[0mparse_dates\u001b[0m\u001b[1;33m=\u001b[0m\u001b[1;33m[\u001b[0m\u001b[1;34m\"CRASH_DATE\"\u001b[0m\u001b[1;33m]\u001b[0m\u001b[1;33m,\u001b[0m \u001b[0mlow_memory\u001b[0m\u001b[1;33m=\u001b[0m\u001b[1;32mFalse\u001b[0m\u001b[1;33m)\u001b[0m\u001b[1;33m\u001b[0m\u001b[1;33m\u001b[0m\u001b[0m\n\u001b[0m\u001b[0;32m      4\u001b[0m \u001b[0mdf_people\u001b[0m \u001b[1;33m=\u001b[0m \u001b[0mpd\u001b[0m\u001b[1;33m.\u001b[0m\u001b[0mread_csv\u001b[0m\u001b[1;33m(\u001b[0m\u001b[1;34m\"Data\\Traffic_Crashes_-_People_20231109.csv\"\u001b[0m\u001b[1;33m,\u001b[0m \u001b[0mparse_dates\u001b[0m\u001b[1;33m=\u001b[0m\u001b[1;33m[\u001b[0m\u001b[1;34m\"CRASH_DATE\"\u001b[0m\u001b[1;33m]\u001b[0m\u001b[1;33m,\u001b[0m \u001b[0mlow_memory\u001b[0m\u001b[1;33m=\u001b[0m\u001b[1;32mFalse\u001b[0m\u001b[1;33m)\u001b[0m\u001b[1;33m\u001b[0m\u001b[1;33m\u001b[0m\u001b[0m\n\u001b[0;32m      5\u001b[0m \u001b[0mdf_crashes\u001b[0m \u001b[1;33m=\u001b[0m \u001b[0mpd\u001b[0m\u001b[1;33m.\u001b[0m\u001b[0mread_csv\u001b[0m\u001b[1;33m(\u001b[0m\u001b[1;34m\"Data\\Traffic_Crashes_-_Crashes_20231109.csv\"\u001b[0m\u001b[1;33m,\u001b[0m \u001b[0mparse_dates\u001b[0m\u001b[1;33m=\u001b[0m\u001b[1;33m[\u001b[0m\u001b[1;34m\"CRASH_DATE\"\u001b[0m\u001b[1;33m]\u001b[0m\u001b[1;33m,\u001b[0m \u001b[0mlow_memory\u001b[0m\u001b[1;33m=\u001b[0m\u001b[1;32mFalse\u001b[0m\u001b[1;33m)\u001b[0m\u001b[1;33m\u001b[0m\u001b[1;33m\u001b[0m\u001b[0m\n",
      "\u001b[1;32mc:\\Users\\John\\anaconda3\\envs\\learn-env\\lib\\site-packages\\pandas\\io\\parsers.py\u001b[0m in \u001b[0;36mread_csv\u001b[1;34m(filepath_or_buffer, sep, delimiter, header, names, index_col, usecols, squeeze, prefix, mangle_dupe_cols, dtype, engine, converters, true_values, false_values, skipinitialspace, skiprows, skipfooter, nrows, na_values, keep_default_na, na_filter, verbose, skip_blank_lines, parse_dates, infer_datetime_format, keep_date_col, date_parser, dayfirst, cache_dates, iterator, chunksize, compression, thousands, decimal, lineterminator, quotechar, quoting, doublequote, escapechar, comment, encoding, dialect, error_bad_lines, warn_bad_lines, delim_whitespace, low_memory, memory_map, float_precision)\u001b[0m\n\u001b[0;32m    684\u001b[0m     )\n\u001b[0;32m    685\u001b[0m \u001b[1;33m\u001b[0m\u001b[0m\n\u001b[1;32m--> 686\u001b[1;33m     \u001b[1;32mreturn\u001b[0m \u001b[0m_read\u001b[0m\u001b[1;33m(\u001b[0m\u001b[0mfilepath_or_buffer\u001b[0m\u001b[1;33m,\u001b[0m \u001b[0mkwds\u001b[0m\u001b[1;33m)\u001b[0m\u001b[1;33m\u001b[0m\u001b[1;33m\u001b[0m\u001b[0m\n\u001b[0m\u001b[0;32m    687\u001b[0m \u001b[1;33m\u001b[0m\u001b[0m\n\u001b[0;32m    688\u001b[0m \u001b[1;33m\u001b[0m\u001b[0m\n",
      "\u001b[1;32mc:\\Users\\John\\anaconda3\\envs\\learn-env\\lib\\site-packages\\pandas\\io\\parsers.py\u001b[0m in \u001b[0;36m_read\u001b[1;34m(filepath_or_buffer, kwds)\u001b[0m\n\u001b[0;32m    450\u001b[0m \u001b[1;33m\u001b[0m\u001b[0m\n\u001b[0;32m    451\u001b[0m     \u001b[1;31m# Create the parser.\u001b[0m\u001b[1;33m\u001b[0m\u001b[1;33m\u001b[0m\u001b[1;33m\u001b[0m\u001b[0m\n\u001b[1;32m--> 452\u001b[1;33m     \u001b[0mparser\u001b[0m \u001b[1;33m=\u001b[0m \u001b[0mTextFileReader\u001b[0m\u001b[1;33m(\u001b[0m\u001b[0mfp_or_buf\u001b[0m\u001b[1;33m,\u001b[0m \u001b[1;33m**\u001b[0m\u001b[0mkwds\u001b[0m\u001b[1;33m)\u001b[0m\u001b[1;33m\u001b[0m\u001b[1;33m\u001b[0m\u001b[0m\n\u001b[0m\u001b[0;32m    453\u001b[0m \u001b[1;33m\u001b[0m\u001b[0m\n\u001b[0;32m    454\u001b[0m     \u001b[1;32mif\u001b[0m \u001b[0mchunksize\u001b[0m \u001b[1;32mor\u001b[0m \u001b[0miterator\u001b[0m\u001b[1;33m:\u001b[0m\u001b[1;33m\u001b[0m\u001b[1;33m\u001b[0m\u001b[0m\n",
      "\u001b[1;32mc:\\Users\\John\\anaconda3\\envs\\learn-env\\lib\\site-packages\\pandas\\io\\parsers.py\u001b[0m in \u001b[0;36m__init__\u001b[1;34m(self, f, engine, **kwds)\u001b[0m\n\u001b[0;32m    944\u001b[0m             \u001b[0mself\u001b[0m\u001b[1;33m.\u001b[0m\u001b[0moptions\u001b[0m\u001b[1;33m[\u001b[0m\u001b[1;34m\"has_index_names\"\u001b[0m\u001b[1;33m]\u001b[0m \u001b[1;33m=\u001b[0m \u001b[0mkwds\u001b[0m\u001b[1;33m[\u001b[0m\u001b[1;34m\"has_index_names\"\u001b[0m\u001b[1;33m]\u001b[0m\u001b[1;33m\u001b[0m\u001b[1;33m\u001b[0m\u001b[0m\n\u001b[0;32m    945\u001b[0m \u001b[1;33m\u001b[0m\u001b[0m\n\u001b[1;32m--> 946\u001b[1;33m         \u001b[0mself\u001b[0m\u001b[1;33m.\u001b[0m\u001b[0m_make_engine\u001b[0m\u001b[1;33m(\u001b[0m\u001b[0mself\u001b[0m\u001b[1;33m.\u001b[0m\u001b[0mengine\u001b[0m\u001b[1;33m)\u001b[0m\u001b[1;33m\u001b[0m\u001b[1;33m\u001b[0m\u001b[0m\n\u001b[0m\u001b[0;32m    947\u001b[0m \u001b[1;33m\u001b[0m\u001b[0m\n\u001b[0;32m    948\u001b[0m     \u001b[1;32mdef\u001b[0m \u001b[0mclose\u001b[0m\u001b[1;33m(\u001b[0m\u001b[0mself\u001b[0m\u001b[1;33m)\u001b[0m\u001b[1;33m:\u001b[0m\u001b[1;33m\u001b[0m\u001b[1;33m\u001b[0m\u001b[0m\n",
      "\u001b[1;32mc:\\Users\\John\\anaconda3\\envs\\learn-env\\lib\\site-packages\\pandas\\io\\parsers.py\u001b[0m in \u001b[0;36m_make_engine\u001b[1;34m(self, engine)\u001b[0m\n\u001b[0;32m   1176\u001b[0m     \u001b[1;32mdef\u001b[0m \u001b[0m_make_engine\u001b[0m\u001b[1;33m(\u001b[0m\u001b[0mself\u001b[0m\u001b[1;33m,\u001b[0m \u001b[0mengine\u001b[0m\u001b[1;33m=\u001b[0m\u001b[1;34m\"c\"\u001b[0m\u001b[1;33m)\u001b[0m\u001b[1;33m:\u001b[0m\u001b[1;33m\u001b[0m\u001b[1;33m\u001b[0m\u001b[0m\n\u001b[0;32m   1177\u001b[0m         \u001b[1;32mif\u001b[0m \u001b[0mengine\u001b[0m \u001b[1;33m==\u001b[0m \u001b[1;34m\"c\"\u001b[0m\u001b[1;33m:\u001b[0m\u001b[1;33m\u001b[0m\u001b[1;33m\u001b[0m\u001b[0m\n\u001b[1;32m-> 1178\u001b[1;33m             \u001b[0mself\u001b[0m\u001b[1;33m.\u001b[0m\u001b[0m_engine\u001b[0m \u001b[1;33m=\u001b[0m \u001b[0mCParserWrapper\u001b[0m\u001b[1;33m(\u001b[0m\u001b[0mself\u001b[0m\u001b[1;33m.\u001b[0m\u001b[0mf\u001b[0m\u001b[1;33m,\u001b[0m \u001b[1;33m**\u001b[0m\u001b[0mself\u001b[0m\u001b[1;33m.\u001b[0m\u001b[0moptions\u001b[0m\u001b[1;33m)\u001b[0m\u001b[1;33m\u001b[0m\u001b[1;33m\u001b[0m\u001b[0m\n\u001b[0m\u001b[0;32m   1179\u001b[0m         \u001b[1;32melse\u001b[0m\u001b[1;33m:\u001b[0m\u001b[1;33m\u001b[0m\u001b[1;33m\u001b[0m\u001b[0m\n\u001b[0;32m   1180\u001b[0m             \u001b[1;32mif\u001b[0m \u001b[0mengine\u001b[0m \u001b[1;33m==\u001b[0m \u001b[1;34m\"python\"\u001b[0m\u001b[1;33m:\u001b[0m\u001b[1;33m\u001b[0m\u001b[1;33m\u001b[0m\u001b[0m\n",
      "\u001b[1;32mc:\\Users\\John\\anaconda3\\envs\\learn-env\\lib\\site-packages\\pandas\\io\\parsers.py\u001b[0m in \u001b[0;36m__init__\u001b[1;34m(self, src, **kwds)\u001b[0m\n\u001b[0;32m   2006\u001b[0m         \u001b[0mkwds\u001b[0m\u001b[1;33m[\u001b[0m\u001b[1;34m\"usecols\"\u001b[0m\u001b[1;33m]\u001b[0m \u001b[1;33m=\u001b[0m \u001b[0mself\u001b[0m\u001b[1;33m.\u001b[0m\u001b[0musecols\u001b[0m\u001b[1;33m\u001b[0m\u001b[1;33m\u001b[0m\u001b[0m\n\u001b[0;32m   2007\u001b[0m \u001b[1;33m\u001b[0m\u001b[0m\n\u001b[1;32m-> 2008\u001b[1;33m         \u001b[0mself\u001b[0m\u001b[1;33m.\u001b[0m\u001b[0m_reader\u001b[0m \u001b[1;33m=\u001b[0m \u001b[0mparsers\u001b[0m\u001b[1;33m.\u001b[0m\u001b[0mTextReader\u001b[0m\u001b[1;33m(\u001b[0m\u001b[0msrc\u001b[0m\u001b[1;33m,\u001b[0m \u001b[1;33m**\u001b[0m\u001b[0mkwds\u001b[0m\u001b[1;33m)\u001b[0m\u001b[1;33m\u001b[0m\u001b[1;33m\u001b[0m\u001b[0m\n\u001b[0m\u001b[0;32m   2009\u001b[0m         \u001b[0mself\u001b[0m\u001b[1;33m.\u001b[0m\u001b[0munnamed_cols\u001b[0m \u001b[1;33m=\u001b[0m \u001b[0mself\u001b[0m\u001b[1;33m.\u001b[0m\u001b[0m_reader\u001b[0m\u001b[1;33m.\u001b[0m\u001b[0munnamed_cols\u001b[0m\u001b[1;33m\u001b[0m\u001b[1;33m\u001b[0m\u001b[0m\n\u001b[0;32m   2010\u001b[0m \u001b[1;33m\u001b[0m\u001b[0m\n",
      "\u001b[1;32mpandas\\_libs\\parsers.pyx\u001b[0m in \u001b[0;36mpandas._libs.parsers.TextReader.__cinit__\u001b[1;34m()\u001b[0m\n",
      "\u001b[1;32mpandas\\_libs\\parsers.pyx\u001b[0m in \u001b[0;36mpandas._libs.parsers.TextReader._setup_parser_source\u001b[1;34m()\u001b[0m\n",
      "\u001b[1;31mFileNotFoundError\u001b[0m: [Errno 2] No such file or directory: 'Data\\\\Traffic_Crashes_-_Vehicles_20231109.csv'"
     ]
    }
   ],
   "source": [
    "# Read in data\n",
    "\n",
    "df_vehicles = pd.read_csv(\"Data\\Traffic_Crashes_-_Vehicles_20231109.csv\", parse_dates=[\"CRASH_DATE\"], low_memory=False)\n",
    "df_people = pd.read_csv(\"Data\\Traffic_Crashes_-_People_20231109.csv\", parse_dates=[\"CRASH_DATE\"], low_memory=False)\n",
    "df_crashes = pd.read_csv(\"Data\\Traffic_Crashes_-_Crashes_20231109.csv\", parse_dates=[\"CRASH_DATE\"], low_memory=False)"
   ]
  },
  {
   "cell_type": "code",
   "execution_count": null,
   "metadata": {},
   "outputs": [],
   "source": [
    "# Filter out any data from before 2021\n",
    "\n",
    "df_crashes = df_crashes[df_crashes[\"CRASH_DATE\"].dt.year >= 2021]\n",
    "df_people = df_people[df_people[\"CRASH_DATE\"].dt.year >= 2021]\n",
    "df_vehicles = df_vehicles[df_vehicles[\"CRASH_DATE\"].dt.year >= 2021]"
   ]
  },
  {
   "cell_type": "markdown",
   "metadata": {},
   "source": [
    "Using the data dictionaries to understand column names, we are dropping columns from each set that are not relevant to the business problem."
   ]
  },
  {
   "cell_type": "code",
   "execution_count": null,
   "metadata": {},
   "outputs": [],
   "source": [
    "# Drop columns from Vehicles dataframe\n",
    "\n",
    "df_vehicles.drop(columns = ['UNIT_NO', 'LIC_PLATE_STATE', 'TRAVEL_DIRECTION', 'MANEUVER',\n",
    "                            'TOWED_I', 'FIRE_I', 'TOWED_BY', 'TOWED_TO', 'AREA_00_I', \n",
    "                            'AREA_01_I', 'AREA_02_I', 'AREA_03_I', 'AREA_04_I', 'AREA_05_I', \n",
    "                            'AREA_06_I', 'AREA_07_I', 'AREA_08_I', 'AREA_09_I', 'AREA_10_I', \n",
    "                            'AREA_11_I', 'AREA_12_I', 'AREA_99_I', 'FIRST_CONTACT_POINT', 'CMV_ID', \n",
    "                            'USDOT_NO', 'CCMC_NO', 'ILCC_NO', 'COMMERCIAL_SRC', 'GVWR', \n",
    "                            'CARRIER_NAME', 'CARRIER_STATE', 'CARRIER_CITY',\n",
    "                            'HAZMAT_PLACARDS_I', 'HAZMAT_NAME', 'UN_NO', 'HAZMAT_PRESENT_I', \n",
    "                            'HAZMAT_REPORT_I', 'HAZMAT_REPORT_NO', 'MCS_REPORT_I',\n",
    "                            'MCS_REPORT_NO', 'HAZMAT_VIO_CAUSE_CRASH_I', 'MCS_VIO_CAUSE_CRASH_I', \n",
    "                            'IDOT_PERMIT_NO', 'WIDE_LOAD_I', 'TRAILER1_WIDTH', 'TRAILER2_WIDTH', \n",
    "                            'TRAILER1_LENGTH', 'TRAILER2_LENGTH', 'TOTAL_VEHICLE_LENGTH',\n",
    "                            'AXLE_CNT', 'VEHICLE_CONFIG', 'CARGO_BODY_TYPE', 'LOAD_TYPE',\n",
    "                            'HAZMAT_OUT_OF_SERVICE_I', 'MCS_OUT_OF_SERVICE_I', 'HAZMAT_CLASS'],\n",
    "                            inplace=True)"
   ]
  },
  {
   "cell_type": "code",
   "execution_count": null,
   "metadata": {},
   "outputs": [],
   "source": [
    "# Drop columns from People dataframe\n",
    "\n",
    "df_people.drop(columns = ['PERSON_ID', 'SEAT_NO', 'CITY', 'STATE', 'ZIPCODE', 'SAFETY_EQUIPMENT', \n",
    "                          'AIRBAG_DEPLOYED', 'EJECTION', 'INJURY_CLASSIFICATION', 'HOSPITAL', \n",
    "                          'EMS_AGENCY', 'EMS_RUN_NO', 'DRIVER_ACTION', 'DRIVER_VISION', 'PHYSICAL_CONDITION',\n",
    "                          'PEDPEDAL_ACTION', 'PEDPEDAL_VISIBILITY', 'PEDPEDAL_LOCATION', 'BAC_RESULT', 'BAC_RESULT VALUE'], inplace=True)"
   ]
  },
  {
   "cell_type": "code",
   "execution_count": null,
   "metadata": {},
   "outputs": [],
   "source": [
    "# Drop columns from Crashes dataframe\n",
    "\n",
    "df_crashes.drop(columns = ['CRASH_DATE_EST_I', 'POSTED_SPEED_LIMIT', 'TRAFFIC_CONTROL_DEVICE', 'DEVICE_CONDITION', \n",
    "                           'WEATHER_CONDITION', 'LIGHTING_CONDITION', 'TRAFFICWAY_TYPE', 'ALIGNMENT', \n",
    "                           'ROADWAY_SURFACE_COND', 'ROAD_DEFECT', 'FIRST_CRASH_TYPE', 'LANE_CNT', \n",
    "                           'REPORT_TYPE', 'CRASH_TYPE', 'INTERSECTION_RELATED_I', \n",
    "                           'NOT_RIGHT_OF_WAY_I', 'HIT_AND_RUN_I', 'DATE_POLICE_NOTIFIED', 'STREET_NO', \n",
    "                           'STREET_DIRECTION', 'STREET_NAME', 'PHOTOS_TAKEN_I', 'STATEMENTS_TAKEN_I', 'DOORING_I', \n",
    "                           'WORK_ZONE_I', 'WORK_ZONE_TYPE', 'WORKERS_PRESENT_I', 'NUM_UNITS', 'MOST_SEVERE_INJURY', \n",
    "                           'INJURIES_TOTAL', 'INJURIES_FATAL', 'INJURIES_INCAPACITATING', 'INJURIES_NON_INCAPACITATING', \n",
    "                           'INJURIES_REPORTED_NOT_EVIDENT', 'INJURIES_NO_INDICATION', 'INJURIES_UNKNOWN', 'CRASH_MONTH', \n",
    "                           'LATITUDE', 'LONGITUDE', 'LOCATION'], inplace=True) "
   ]
  },
  {
   "cell_type": "markdown",
   "metadata": {},
   "source": [
    "Because we are most interested in vehicle damage, we are using the Vehicles dataframe as the main and merging the others into it."
   ]
  },
  {
   "cell_type": "code",
   "execution_count": null,
   "metadata": {},
   "outputs": [],
   "source": [
    "# Merge People dataframe with Vehicles dataframe\n",
    "\n",
    "df = df_vehicles.merge(df_people, how=\"left\", on=[\"CRASH_RECORD_ID\", \"CRASH_DATE\", \"RD_NO\", \"VEHICLE_ID\"])"
   ]
  },
  {
   "cell_type": "code",
   "execution_count": null,
   "metadata": {},
   "outputs": [],
   "source": [
    "# Merge Crashes dataframe with merged dataframe\n",
    "\n",
    "df = pd.merge(df, df_crashes, how = 'inner', on = ['CRASH_RECORD_ID', \"CRASH_DATE\", \"RD_NO\"])"
   ]
  },
  {
   "cell_type": "code",
   "execution_count": null,
   "metadata": {},
   "outputs": [],
   "source": [
    "# Exporting new dataframe to csv for use throughout rest of notebook\n",
    "\n",
    "df.to_csv(\"Data\\chicago_traffic_accidents_2021_to_11-09-2023.csv\")"
   ]
  },
  {
   "cell_type": "markdown",
   "metadata": {},
   "source": [
    "### Working with a single merge dataset"
   ]
  },
  {
   "cell_type": "code",
   "execution_count": 3,
   "metadata": {},
   "outputs": [],
   "source": [
    "# Can load merged dataframe without needing to go through above steps each time\n",
    "\n",
    "df = pd.read_csv(\"Data\\chicago_traffic_accidents_2021_to_11-09-2023.zip\", \n",
    "                 parse_dates=[\"CRASH_DATE\"], low_memory=False)"
   ]
  },
  {
   "cell_type": "markdown",
   "metadata": {},
   "source": [
    "We don't need all the identifying columns as they are not useful in making a model. We will drop all of those now."
   ]
  },
  {
   "cell_type": "code",
   "execution_count": 4,
   "metadata": {},
   "outputs": [],
   "source": [
    "df.drop(columns = [\"Unnamed: 0\", \"CRASH_UNIT_ID\", \"CRASH_RECORD_ID\", \n",
    "                   \"RD_NO\", \"VEHICLE_ID\"], inplace=True)"
   ]
  },
  {
   "cell_type": "markdown",
   "metadata": {},
   "source": [
    "We only want unique vehicle damage count, so we need to remove rows that represent passengers, as these will duplicate the vehicle damage. We also should remove any other rows that don't represent drivers. We can use the \"PERSON_TYPE\" column for this."
   ]
  },
  {
   "cell_type": "code",
   "execution_count": 5,
   "metadata": {},
   "outputs": [
    {
     "data": {
      "text/plain": [
       "DRIVER                 0.780694\n",
       "PASSENGER              0.197756\n",
       "PEDESTRIAN             0.012899\n",
       "BICYCLE                0.007730\n",
       "NON-MOTOR VEHICLE      0.000760\n",
       "NON-CONTACT VEHICLE    0.000162\n",
       "Name: PERSON_TYPE, dtype: float64"
      ]
     },
     "execution_count": 5,
     "metadata": {},
     "output_type": "execute_result"
    }
   ],
   "source": [
    "# Check values in Person_type column\n",
    "\n",
    "df['PERSON_TYPE'].value_counts(normalize=True)"
   ]
  },
  {
   "cell_type": "code",
   "execution_count": 6,
   "metadata": {},
   "outputs": [],
   "source": [
    "# Remove all types of person except DRIVER\n",
    "\n",
    "df = df[df['PERSON_TYPE'] == 'DRIVER']"
   ]
  },
  {
   "cell_type": "code",
   "execution_count": 7,
   "metadata": {},
   "outputs": [
    {
     "data": {
      "text/plain": [
       "DRIVER    1.0\n",
       "Name: PERSON_TYPE, dtype: float64"
      ]
     },
     "execution_count": 7,
     "metadata": {},
     "output_type": "execute_result"
    }
   ],
   "source": [
    "# Sanity check\n",
    "\n",
    "df['PERSON_TYPE'].value_counts(normalize=True)"
   ]
  },
  {
   "cell_type": "markdown",
   "metadata": {},
   "source": [
    "### Missingness"
   ]
  },
  {
   "cell_type": "markdown",
   "metadata": {},
   "source": [
    "Next we look at null values to try to determine which columns might need to be imputed or if the data is too incomplete to be useful. "
   ]
  },
  {
   "cell_type": "code",
   "execution_count": 8,
   "metadata": {},
   "outputs": [],
   "source": [
    "# First dropping columns that no longer have any data after removing all but DRIVER entries\n",
    "\n",
    "df= df.dropna(axis=1, how=\"all\")"
   ]
  },
  {
   "cell_type": "code",
   "execution_count": 9,
   "metadata": {},
   "outputs": [
    {
     "name": "stdout",
     "output_type": "stream",
     "text": [
      "<class 'pandas.core.frame.DataFrame'>\n",
      "Int64Index: 530319 entries, 0 to 766594\n",
      "Data columns (total 24 columns):\n",
      " #   Column                   Non-Null Count   Dtype         \n",
      "---  ------                   --------------   -----         \n",
      " 0   CRASH_DATE               530319 non-null  datetime64[ns]\n",
      " 1   UNIT_TYPE                530310 non-null  object        \n",
      " 2   NUM_PASSENGERS           85079 non-null   float64       \n",
      " 3   CMRC_VEH_I               10945 non-null   object        \n",
      " 4   MAKE                     530098 non-null  object        \n",
      " 5   MODEL                    530098 non-null  object        \n",
      " 6   VEHICLE_YEAR             434488 non-null  float64       \n",
      " 7   VEHICLE_DEFECT           530098 non-null  object        \n",
      " 8   VEHICLE_TYPE             530098 non-null  object        \n",
      " 9   VEHICLE_USE              530098 non-null  object        \n",
      " 10  OCCUPANT_CNT             530098 non-null  float64       \n",
      " 11  EXCEED_SPEED_LIMIT_I     9 non-null       object        \n",
      " 12  PERSON_TYPE              530319 non-null  object        \n",
      " 13  SEX                      530319 non-null  object        \n",
      " 14  AGE                      377472 non-null  float64       \n",
      " 15  DRIVERS_LICENSE_STATE    390210 non-null  object        \n",
      " 16  DRIVERS_LICENSE_CLASS    308207 non-null  object        \n",
      " 17  CELL_PHONE_USE           2 non-null       object        \n",
      " 18  DAMAGE                   530319 non-null  object        \n",
      " 19  PRIM_CONTRIBUTORY_CAUSE  530319 non-null  object        \n",
      " 20  SEC_CONTRIBUTORY_CAUSE   530319 non-null  object        \n",
      " 21  BEAT_OF_OCCURRENCE       530319 non-null  float64       \n",
      " 22  CRASH_HOUR               530319 non-null  int64         \n",
      " 23  CRASH_DAY_OF_WEEK        530319 non-null  int64         \n",
      "dtypes: datetime64[ns](1), float64(5), int64(2), object(16)\n",
      "memory usage: 101.2+ MB\n"
     ]
    }
   ],
   "source": [
    "# Looking at the total nulls left in remaining columns\n",
    "\n",
    "df.info()"
   ]
  },
  {
   "cell_type": "markdown",
   "metadata": {},
   "source": [
    "There are several columns that seem useful from the data dictionaries, but look almost entirely full of nulls. We do a value_counts for those columns to see what's in them."
   ]
  },
  {
   "cell_type": "code",
   "execution_count": 10,
   "metadata": {},
   "outputs": [
    {
     "data": {
      "text/plain": [
       "NaN     445240\n",
       "1.0      60610\n",
       "2.0      15374\n",
       "3.0       6037\n",
       "4.0       2034\n",
       "5.0        560\n",
       "6.0        234\n",
       "7.0         84\n",
       "8.0         28\n",
       "10.0        23\n",
       "9.0         19\n",
       "11.0        18\n",
       "12.0        10\n",
       "17.0         6\n",
       "14.0         5\n",
       "19.0         4\n",
       "13.0         4\n",
       "16.0         4\n",
       "15.0         3\n",
       "18.0         2\n",
       "22.0         2\n",
       "21.0         2\n",
       "27.0         2\n",
       "43.0         2\n",
       "26.0         2\n",
       "20.0         1\n",
       "33.0         1\n",
       "34.0         1\n",
       "28.0         1\n",
       "46.0         1\n",
       "42.0         1\n",
       "30.0         1\n",
       "32.0         1\n",
       "31.0         1\n",
       "24.0         1\n",
       "Name: NUM_PASSENGERS, dtype: int64"
      ]
     },
     "execution_count": 10,
     "metadata": {},
     "output_type": "execute_result"
    }
   ],
   "source": [
    "# NUM_PASSENGERS\n",
    "\n",
    "df[\"NUM_PASSENGERS\"].value_counts(dropna=False)"
   ]
  },
  {
   "cell_type": "markdown",
   "metadata": {},
   "source": [
    "There is no 0 value, so the NaNs are problably 0. However, OCCUPANT_CNT represents the same information so we won't need this column. "
   ]
  },
  {
   "cell_type": "code",
   "execution_count": 11,
   "metadata": {},
   "outputs": [
    {
     "data": {
      "text/plain": [
       "NaN    519374\n",
       "Y        6602\n",
       "N        4343\n",
       "Name: CMRC_VEH_I, dtype: int64"
      ]
     },
     "execution_count": 11,
     "metadata": {},
     "output_type": "execute_result"
    }
   ],
   "source": [
    "# CMRC_VEH_I\n",
    "\n",
    "df[\"CMRC_VEH_I\"].value_counts(dropna=False)"
   ]
  },
  {
   "cell_type": "markdown",
   "metadata": {},
   "source": [
    "This is a binary flag, but the missing values represent the overwhelming majority. We can drop the Y rows because they are commercial vehicles and do not fit the business problem, but the rest we will leave as we cannot make an assumption from such a small subset that the Y/N ratio is representative of the whole. "
   ]
  },
  {
   "cell_type": "code",
   "execution_count": 12,
   "metadata": {},
   "outputs": [],
   "source": [
    "# Dropping Commercial Vehicles\n",
    "\n",
    "df = df[df[\"CMRC_VEH_I\"]!=\"Y\"]"
   ]
  },
  {
   "cell_type": "code",
   "execution_count": 13,
   "metadata": {},
   "outputs": [
    {
     "data": {
      "text/plain": [
       "NaN    519374\n",
       "N        4343\n",
       "Name: CMRC_VEH_I, dtype: int64"
      ]
     },
     "execution_count": 13,
     "metadata": {},
     "output_type": "execute_result"
    }
   ],
   "source": [
    "# Sanity Check\n",
    "\n",
    "df[\"CMRC_VEH_I\"].value_counts(dropna=False)"
   ]
  },
  {
   "cell_type": "code",
   "execution_count": 14,
   "metadata": {},
   "outputs": [
    {
     "data": {
      "text/plain": [
       "NaN    523708\n",
       "N           5\n",
       "Y           4\n",
       "Name: EXCEED_SPEED_LIMIT_I, dtype: int64"
      ]
     },
     "execution_count": 14,
     "metadata": {},
     "output_type": "execute_result"
    }
   ],
   "source": [
    "# EXCEED_SPEED_LIMIT_I\n",
    "\n",
    "df[\"EXCEED_SPEED_LIMIT_I\"].value_counts(dropna=False)"
   ]
  },
  {
   "cell_type": "markdown",
   "metadata": {},
   "source": [
    "This is a binary flag, but the missing values represent the overwhelming majority. We cannot make an assumption from such a small subset that the Y/N ratio is representative of the whole. This does not seem to be a useful column."
   ]
  },
  {
   "cell_type": "code",
   "execution_count": 15,
   "metadata": {},
   "outputs": [
    {
     "data": {
      "text/plain": [
       "NaN      0.290504\n",
       "28.0     0.020503\n",
       "27.0     0.020442\n",
       "29.0     0.020274\n",
       "26.0     0.020207\n",
       "           ...   \n",
       "101.0    0.000010\n",
       "102.0    0.000008\n",
       "103.0    0.000006\n",
       "98.0     0.000006\n",
       "110.0    0.000004\n",
       "Name: AGE, Length: 106, dtype: float64"
      ]
     },
     "execution_count": 15,
     "metadata": {},
     "output_type": "execute_result"
    }
   ],
   "source": [
    "# AGE\n",
    "\n",
    "df[\"AGE\"].value_counts(dropna=False, normalize=True)"
   ]
  },
  {
   "cell_type": "code",
   "execution_count": 16,
   "metadata": {},
   "outputs": [
    {
     "data": {
      "image/png": "[encoded data removed]",
      "text/plain": [
       "<Figure size 432x288 with 1 Axes>"
      ]
     },
     "metadata": {
      "needs_background": "light"
     },
     "output_type": "display_data"
    }
   ],
   "source": [
    "sns.histplot(df[\"AGE\"]);"
   ]
  },
  {
   "cell_type": "markdown",
   "metadata": {},
   "source": [
    "Missing values is a relatively large percentage of the whole at about 29%. There are many ages labeled 0, which may be another indicator of missingness. Also there are ages below the legal driving age of 15 which would not be included in an insurable class of people. We will drop ages unknown or below 15."
   ]
  },
  {
   "cell_type": "code",
   "execution_count": 17,
   "metadata": {},
   "outputs": [],
   "source": [
    "# Removing ages that could not drive legally or are unknown\n",
    "df=df[df[\"AGE\"]>14]"
   ]
  },
  {
   "cell_type": "code",
   "execution_count": 18,
   "metadata": {},
   "outputs": [
    {
     "data": {
      "image/png": "[encoded data removed]",
      "text/plain": [
       "<Figure size 432x288 with 1 Axes>"
      ]
     },
     "metadata": {
      "needs_background": "light"
     },
     "output_type": "display_data"
    }
   ],
   "source": [
    "sns.histplot(df[\"AGE\"]);"
   ]
  },
  {
   "cell_type": "code",
   "execution_count": 19,
   "metadata": {},
   "outputs": [
    {
     "data": {
      "text/plain": [
       "NaN    368278\n",
       "N           1\n",
       "Name: CELL_PHONE_USE, dtype: int64"
      ]
     },
     "execution_count": 19,
     "metadata": {},
     "output_type": "execute_result"
    }
   ],
   "source": [
    "# CELL_PHONE_USE\n",
    "\n",
    "df[\"CELL_PHONE_USE\"].value_counts(dropna=False)"
   ]
  },
  {
   "cell_type": "markdown",
   "metadata": {},
   "source": [
    "This is a binary flag, but the missing values represent the overwhelming majority. We cannot make an assumption from such a small subset that the Y/N ratio is representative of the whole. This does not seem to be a useful column."
   ]
  },
  {
   "cell_type": "code",
   "execution_count": 20,
   "metadata": {},
   "outputs": [],
   "source": [
    "# Dropping all columns determined not to be useful\n",
    "\n",
    "df.drop(columns = [\"CMRC_VEH_I\", \"EXCEED_SPEED_LIMIT_I\", \"CELL_PHONE_USE\"], inplace=True)"
   ]
  },
  {
   "cell_type": "code",
   "execution_count": 21,
   "metadata": {},
   "outputs": [
    {
     "name": "stdout",
     "output_type": "stream",
     "text": [
      "<class 'pandas.core.frame.DataFrame'>\n",
      "Int64Index: 368279 entries, 0 to 766594\n",
      "Data columns (total 21 columns):\n",
      " #   Column                   Non-Null Count   Dtype         \n",
      "---  ------                   --------------   -----         \n",
      " 0   CRASH_DATE               368279 non-null  datetime64[ns]\n",
      " 1   UNIT_TYPE                368277 non-null  object        \n",
      " 2   NUM_PASSENGERS           72153 non-null   float64       \n",
      " 3   MAKE                     368169 non-null  object        \n",
      " 4   MODEL                    368169 non-null  object        \n",
      " 5   VEHICLE_YEAR             353179 non-null  float64       \n",
      " 6   VEHICLE_DEFECT           368169 non-null  object        \n",
      " 7   VEHICLE_TYPE             368169 non-null  object        \n",
      " 8   VEHICLE_USE              368169 non-null  object        \n",
      " 9   OCCUPANT_CNT             368169 non-null  float64       \n",
      " 10  PERSON_TYPE              368279 non-null  object        \n",
      " 11  SEX                      368279 non-null  object        \n",
      " 12  AGE                      368279 non-null  float64       \n",
      " 13  DRIVERS_LICENSE_STATE    352058 non-null  object        \n",
      " 14  DRIVERS_LICENSE_CLASS    289274 non-null  object        \n",
      " 15  DAMAGE                   368279 non-null  object        \n",
      " 16  PRIM_CONTRIBUTORY_CAUSE  368279 non-null  object        \n",
      " 17  SEC_CONTRIBUTORY_CAUSE   368279 non-null  object        \n",
      " 18  BEAT_OF_OCCURRENCE       368279 non-null  float64       \n",
      " 19  CRASH_HOUR               368279 non-null  int64         \n",
      " 20  CRASH_DAY_OF_WEEK        368279 non-null  int64         \n",
      "dtypes: datetime64[ns](1), float64(5), int64(2), object(13)\n",
      "memory usage: 61.8+ MB\n"
     ]
    }
   ],
   "source": [
    "#Sanity Check\n",
    "\n",
    "df.info()"
   ]
  },
  {
   "cell_type": "markdown",
   "metadata": {},
   "source": [
    "### Compare Variables"
   ]
  },
  {
   "cell_type": "code",
   "execution_count": 241,
   "metadata": {},
   "outputs": [
    {
     "name": "stderr",
     "output_type": "stream",
     "text": [
      "<ipython-input-241-b1800870b00c>:3: FutureWarning: Treating datetime data as categorical rather than numeric in `.describe` is deprecated and will be removed in a future version of pandas. Specify `datetime_is_numeric=True` to silence this warning and adopt the future behavior now.\n",
      "  df.describe(include=\"all\")\n"
     ]
    },
    {
     "data": {
      "text/html": [
       "<div>\n",
       "<style scoped>\n",
       "    .dataframe tbody tr th:only-of-type {\n",
       "        vertical-align: middle;\n",
       "    }\n",
       "\n",
       "    .dataframe tbody tr th {\n",
       "        vertical-align: top;\n",
       "    }\n",
       "\n",
       "    .dataframe thead th {\n",
       "        text-align: right;\n",
       "    }\n",
       "</style>\n",
       "<table border=\"1\" class=\"dataframe\">\n",
       "  <thead>\n",
       "    <tr style=\"text-align: right;\">\n",
       "      <th></th>\n",
       "      <th>CRASH_DATE</th>\n",
       "      <th>UNIT_TYPE</th>\n",
       "      <th>NUM_PASSENGERS</th>\n",
       "      <th>MAKE</th>\n",
       "      <th>MODEL</th>\n",
       "      <th>VEHICLE_YEAR</th>\n",
       "      <th>VEHICLE_DEFECT</th>\n",
       "      <th>VEHICLE_TYPE</th>\n",
       "      <th>VEHICLE_USE</th>\n",
       "      <th>OCCUPANT_CNT</th>\n",
       "      <th>...</th>\n",
       "      <th>DAMAGE</th>\n",
       "      <th>PRIM_CONTRIBUTORY_CAUSE</th>\n",
       "      <th>SEC_CONTRIBUTORY_CAUSE</th>\n",
       "      <th>BEAT_OF_OCCURRENCE</th>\n",
       "      <th>CRASH_HOUR</th>\n",
       "      <th>CRASH_DAY_OF_WEEK</th>\n",
       "      <th>IN_STATE</th>\n",
       "      <th>DRIVING_SKILLS</th>\n",
       "      <th>TIME_OF_DAY</th>\n",
       "      <th>DAMAGE_OVER_1500</th>\n",
       "    </tr>\n",
       "  </thead>\n",
       "  <tbody>\n",
       "    <tr>\n",
       "      <th>count</th>\n",
       "      <td>115208</td>\n",
       "      <td>115208</td>\n",
       "      <td>22451.000000</td>\n",
       "      <td>115208</td>\n",
       "      <td>115208</td>\n",
       "      <td>115208.000000</td>\n",
       "      <td>115208</td>\n",
       "      <td>115208</td>\n",
       "      <td>115208</td>\n",
       "      <td>115208.000000</td>\n",
       "      <td>...</td>\n",
       "      <td>115208</td>\n",
       "      <td>115208</td>\n",
       "      <td>115208</td>\n",
       "      <td>115208.000000</td>\n",
       "      <td>115208.000000</td>\n",
       "      <td>115208.000000</td>\n",
       "      <td>110529.000000</td>\n",
       "      <td>115208.000000</td>\n",
       "      <td>115208</td>\n",
       "      <td>115208.000000</td>\n",
       "    </tr>\n",
       "    <tr>\n",
       "      <th>unique</th>\n",
       "      <td>84168</td>\n",
       "      <td>1</td>\n",
       "      <td>NaN</td>\n",
       "      <td>9</td>\n",
       "      <td>327</td>\n",
       "      <td>NaN</td>\n",
       "      <td>15</td>\n",
       "      <td>5</td>\n",
       "      <td>1</td>\n",
       "      <td>NaN</td>\n",
       "      <td>...</td>\n",
       "      <td>3</td>\n",
       "      <td>38</td>\n",
       "      <td>38</td>\n",
       "      <td>NaN</td>\n",
       "      <td>NaN</td>\n",
       "      <td>NaN</td>\n",
       "      <td>NaN</td>\n",
       "      <td>NaN</td>\n",
       "      <td>3</td>\n",
       "      <td>NaN</td>\n",
       "    </tr>\n",
       "    <tr>\n",
       "      <th>top</th>\n",
       "      <td>2021-01-06 13:00:00</td>\n",
       "      <td>DRIVER</td>\n",
       "      <td>NaN</td>\n",
       "      <td>TOYOTA</td>\n",
       "      <td>OTHER (EXPLAIN IN NARRATIVE)</td>\n",
       "      <td>NaN</td>\n",
       "      <td>NONE</td>\n",
       "      <td>PASSENGER</td>\n",
       "      <td>PERSONAL</td>\n",
       "      <td>NaN</td>\n",
       "      <td>...</td>\n",
       "      <td>OVER $1,500</td>\n",
       "      <td>UNABLE TO DETERMINE</td>\n",
       "      <td>NOT APPLICABLE</td>\n",
       "      <td>NaN</td>\n",
       "      <td>NaN</td>\n",
       "      <td>NaN</td>\n",
       "      <td>NaN</td>\n",
       "      <td>NaN</td>\n",
       "      <td>Daytime</td>\n",
       "      <td>NaN</td>\n",
       "    </tr>\n",
       "    <tr>\n",
       "      <th>freq</th>\n",
       "      <td>13</td>\n",
       "      <td>115208</td>\n",
       "      <td>NaN</td>\n",
       "      <td>21408</td>\n",
       "      <td>6117</td>\n",
       "      <td>NaN</td>\n",
       "      <td>72002</td>\n",
       "      <td>86154</td>\n",
       "      <td>115208</td>\n",
       "      <td>NaN</td>\n",
       "      <td>...</td>\n",
       "      <td>57604</td>\n",
       "      <td>37007</td>\n",
       "      <td>46705</td>\n",
       "      <td>NaN</td>\n",
       "      <td>NaN</td>\n",
       "      <td>NaN</td>\n",
       "      <td>NaN</td>\n",
       "      <td>NaN</td>\n",
       "      <td>45208</td>\n",
       "      <td>NaN</td>\n",
       "    </tr>\n",
       "    <tr>\n",
       "      <th>first</th>\n",
       "      <td>2021-01-01 00:00:00</td>\n",
       "      <td>NaN</td>\n",
       "      <td>NaN</td>\n",
       "      <td>NaN</td>\n",
       "      <td>NaN</td>\n",
       "      <td>NaN</td>\n",
       "      <td>NaN</td>\n",
       "      <td>NaN</td>\n",
       "      <td>NaN</td>\n",
       "      <td>NaN</td>\n",
       "      <td>...</td>\n",
       "      <td>NaN</td>\n",
       "      <td>NaN</td>\n",
       "      <td>NaN</td>\n",
       "      <td>NaN</td>\n",
       "      <td>NaN</td>\n",
       "      <td>NaN</td>\n",
       "      <td>NaN</td>\n",
       "      <td>NaN</td>\n",
       "      <td>NaN</td>\n",
       "      <td>NaN</td>\n",
       "    </tr>\n",
       "    <tr>\n",
       "      <th>last</th>\n",
       "      <td>2023-11-09 02:20:00</td>\n",
       "      <td>NaN</td>\n",
       "      <td>NaN</td>\n",
       "      <td>NaN</td>\n",
       "      <td>NaN</td>\n",
       "      <td>NaN</td>\n",
       "      <td>NaN</td>\n",
       "      <td>NaN</td>\n",
       "      <td>NaN</td>\n",
       "      <td>NaN</td>\n",
       "      <td>...</td>\n",
       "      <td>NaN</td>\n",
       "      <td>NaN</td>\n",
       "      <td>NaN</td>\n",
       "      <td>NaN</td>\n",
       "      <td>NaN</td>\n",
       "      <td>NaN</td>\n",
       "      <td>NaN</td>\n",
       "      <td>NaN</td>\n",
       "      <td>NaN</td>\n",
       "      <td>NaN</td>\n",
       "    </tr>\n",
       "    <tr>\n",
       "      <th>mean</th>\n",
       "      <td>NaN</td>\n",
       "      <td>NaN</td>\n",
       "      <td>1.437753</td>\n",
       "      <td>NaN</td>\n",
       "      <td>NaN</td>\n",
       "      <td>2013.488091</td>\n",
       "      <td>NaN</td>\n",
       "      <td>NaN</td>\n",
       "      <td>NaN</td>\n",
       "      <td>1.279981</td>\n",
       "      <td>...</td>\n",
       "      <td>NaN</td>\n",
       "      <td>NaN</td>\n",
       "      <td>NaN</td>\n",
       "      <td>1256.270893</td>\n",
       "      <td>13.560968</td>\n",
       "      <td>4.154121</td>\n",
       "      <td>0.937528</td>\n",
       "      <td>0.061063</td>\n",
       "      <td>NaN</td>\n",
       "      <td>0.500000</td>\n",
       "    </tr>\n",
       "    <tr>\n",
       "      <th>std</th>\n",
       "      <td>NaN</td>\n",
       "      <td>NaN</td>\n",
       "      <td>0.812480</td>\n",
       "      <td>NaN</td>\n",
       "      <td>NaN</td>\n",
       "      <td>5.677537</td>\n",
       "      <td>NaN</td>\n",
       "      <td>NaN</td>\n",
       "      <td>NaN</td>\n",
       "      <td>0.672731</td>\n",
       "      <td>...</td>\n",
       "      <td>NaN</td>\n",
       "      <td>NaN</td>\n",
       "      <td>NaN</td>\n",
       "      <td>701.180587</td>\n",
       "      <td>5.253989</td>\n",
       "      <td>1.973061</td>\n",
       "      <td>0.242012</td>\n",
       "      <td>0.239448</td>\n",
       "      <td>NaN</td>\n",
       "      <td>0.500002</td>\n",
       "    </tr>\n",
       "    <tr>\n",
       "      <th>min</th>\n",
       "      <td>NaN</td>\n",
       "      <td>NaN</td>\n",
       "      <td>1.000000</td>\n",
       "      <td>NaN</td>\n",
       "      <td>NaN</td>\n",
       "      <td>1998.000000</td>\n",
       "      <td>NaN</td>\n",
       "      <td>NaN</td>\n",
       "      <td>NaN</td>\n",
       "      <td>1.000000</td>\n",
       "      <td>...</td>\n",
       "      <td>NaN</td>\n",
       "      <td>NaN</td>\n",
       "      <td>NaN</td>\n",
       "      <td>111.000000</td>\n",
       "      <td>0.000000</td>\n",
       "      <td>1.000000</td>\n",
       "      <td>0.000000</td>\n",
       "      <td>0.000000</td>\n",
       "      <td>NaN</td>\n",
       "      <td>0.000000</td>\n",
       "    </tr>\n",
       "    <tr>\n",
       "      <th>25%</th>\n",
       "      <td>NaN</td>\n",
       "      <td>NaN</td>\n",
       "      <td>1.000000</td>\n",
       "      <td>NaN</td>\n",
       "      <td>NaN</td>\n",
       "      <td>2010.000000</td>\n",
       "      <td>NaN</td>\n",
       "      <td>NaN</td>\n",
       "      <td>NaN</td>\n",
       "      <td>1.000000</td>\n",
       "      <td>...</td>\n",
       "      <td>NaN</td>\n",
       "      <td>NaN</td>\n",
       "      <td>NaN</td>\n",
       "      <td>731.000000</td>\n",
       "      <td>10.000000</td>\n",
       "      <td>2.000000</td>\n",
       "      <td>1.000000</td>\n",
       "      <td>0.000000</td>\n",
       "      <td>NaN</td>\n",
       "      <td>0.000000</td>\n",
       "    </tr>\n",
       "    <tr>\n",
       "      <th>50%</th>\n",
       "      <td>NaN</td>\n",
       "      <td>NaN</td>\n",
       "      <td>1.000000</td>\n",
       "      <td>NaN</td>\n",
       "      <td>NaN</td>\n",
       "      <td>2014.000000</td>\n",
       "      <td>NaN</td>\n",
       "      <td>NaN</td>\n",
       "      <td>NaN</td>\n",
       "      <td>1.000000</td>\n",
       "      <td>...</td>\n",
       "      <td>NaN</td>\n",
       "      <td>NaN</td>\n",
       "      <td>NaN</td>\n",
       "      <td>1213.000000</td>\n",
       "      <td>14.000000</td>\n",
       "      <td>4.000000</td>\n",
       "      <td>1.000000</td>\n",
       "      <td>0.000000</td>\n",
       "      <td>NaN</td>\n",
       "      <td>0.500000</td>\n",
       "    </tr>\n",
       "    <tr>\n",
       "      <th>75%</th>\n",
       "      <td>NaN</td>\n",
       "      <td>NaN</td>\n",
       "      <td>2.000000</td>\n",
       "      <td>NaN</td>\n",
       "      <td>NaN</td>\n",
       "      <td>2018.000000</td>\n",
       "      <td>NaN</td>\n",
       "      <td>NaN</td>\n",
       "      <td>NaN</td>\n",
       "      <td>1.000000</td>\n",
       "      <td>...</td>\n",
       "      <td>NaN</td>\n",
       "      <td>NaN</td>\n",
       "      <td>NaN</td>\n",
       "      <td>1821.000000</td>\n",
       "      <td>17.000000</td>\n",
       "      <td>6.000000</td>\n",
       "      <td>1.000000</td>\n",
       "      <td>0.000000</td>\n",
       "      <td>NaN</td>\n",
       "      <td>1.000000</td>\n",
       "    </tr>\n",
       "    <tr>\n",
       "      <th>max</th>\n",
       "      <td>NaN</td>\n",
       "      <td>NaN</td>\n",
       "      <td>9.000000</td>\n",
       "      <td>NaN</td>\n",
       "      <td>NaN</td>\n",
       "      <td>2024.000000</td>\n",
       "      <td>NaN</td>\n",
       "      <td>NaN</td>\n",
       "      <td>NaN</td>\n",
       "      <td>10.000000</td>\n",
       "      <td>...</td>\n",
       "      <td>NaN</td>\n",
       "      <td>NaN</td>\n",
       "      <td>NaN</td>\n",
       "      <td>2535.000000</td>\n",
       "      <td>23.000000</td>\n",
       "      <td>7.000000</td>\n",
       "      <td>1.000000</td>\n",
       "      <td>1.000000</td>\n",
       "      <td>NaN</td>\n",
       "      <td>1.000000</td>\n",
       "    </tr>\n",
       "  </tbody>\n",
       "</table>\n",
       "<p>13 rows × 25 columns</p>\n",
       "</div>"
      ],
      "text/plain": [
       "                 CRASH_DATE UNIT_TYPE  NUM_PASSENGERS    MAKE  \\\n",
       "count                115208    115208    22451.000000  115208   \n",
       "unique                84168         1             NaN       9   \n",
       "top     2021-01-06 13:00:00    DRIVER             NaN  TOYOTA   \n",
       "freq                     13    115208             NaN   21408   \n",
       "first   2021-01-01 00:00:00       NaN             NaN     NaN   \n",
       "last    2023-11-09 02:20:00       NaN             NaN     NaN   \n",
       "mean                    NaN       NaN        1.437753     NaN   \n",
       "std                     NaN       NaN        0.812480     NaN   \n",
       "min                     NaN       NaN        1.000000     NaN   \n",
       "25%                     NaN       NaN        1.000000     NaN   \n",
       "50%                     NaN       NaN        1.000000     NaN   \n",
       "75%                     NaN       NaN        2.000000     NaN   \n",
       "max                     NaN       NaN        9.000000     NaN   \n",
       "\n",
       "                               MODEL   VEHICLE_YEAR VEHICLE_DEFECT  \\\n",
       "count                         115208  115208.000000         115208   \n",
       "unique                           327            NaN             15   \n",
       "top     OTHER (EXPLAIN IN NARRATIVE)            NaN           NONE   \n",
       "freq                            6117            NaN          72002   \n",
       "first                            NaN            NaN            NaN   \n",
       "last                             NaN            NaN            NaN   \n",
       "mean                             NaN    2013.488091            NaN   \n",
       "std                              NaN       5.677537            NaN   \n",
       "min                              NaN    1998.000000            NaN   \n",
       "25%                              NaN    2010.000000            NaN   \n",
       "50%                              NaN    2014.000000            NaN   \n",
       "75%                              NaN    2018.000000            NaN   \n",
       "max                              NaN    2024.000000            NaN   \n",
       "\n",
       "       VEHICLE_TYPE VEHICLE_USE   OCCUPANT_CNT  ...       DAMAGE  \\\n",
       "count        115208      115208  115208.000000  ...       115208   \n",
       "unique            5           1            NaN  ...            3   \n",
       "top       PASSENGER    PERSONAL            NaN  ...  OVER $1,500   \n",
       "freq          86154      115208            NaN  ...        57604   \n",
       "first           NaN         NaN            NaN  ...          NaN   \n",
       "last            NaN         NaN            NaN  ...          NaN   \n",
       "mean            NaN         NaN       1.279981  ...          NaN   \n",
       "std             NaN         NaN       0.672731  ...          NaN   \n",
       "min             NaN         NaN       1.000000  ...          NaN   \n",
       "25%             NaN         NaN       1.000000  ...          NaN   \n",
       "50%             NaN         NaN       1.000000  ...          NaN   \n",
       "75%             NaN         NaN       1.000000  ...          NaN   \n",
       "max             NaN         NaN      10.000000  ...          NaN   \n",
       "\n",
       "       PRIM_CONTRIBUTORY_CAUSE  SEC_CONTRIBUTORY_CAUSE BEAT_OF_OCCURRENCE  \\\n",
       "count                   115208                  115208      115208.000000   \n",
       "unique                      38                      38                NaN   \n",
       "top        UNABLE TO DETERMINE          NOT APPLICABLE                NaN   \n",
       "freq                     37007                   46705                NaN   \n",
       "first                      NaN                     NaN                NaN   \n",
       "last                       NaN                     NaN                NaN   \n",
       "mean                       NaN                     NaN        1256.270893   \n",
       "std                        NaN                     NaN         701.180587   \n",
       "min                        NaN                     NaN         111.000000   \n",
       "25%                        NaN                     NaN         731.000000   \n",
       "50%                        NaN                     NaN        1213.000000   \n",
       "75%                        NaN                     NaN        1821.000000   \n",
       "max                        NaN                     NaN        2535.000000   \n",
       "\n",
       "           CRASH_HOUR CRASH_DAY_OF_WEEK       IN_STATE DRIVING_SKILLS  \\\n",
       "count   115208.000000     115208.000000  110529.000000  115208.000000   \n",
       "unique            NaN               NaN            NaN            NaN   \n",
       "top               NaN               NaN            NaN            NaN   \n",
       "freq              NaN               NaN            NaN            NaN   \n",
       "first             NaN               NaN            NaN            NaN   \n",
       "last              NaN               NaN            NaN            NaN   \n",
       "mean        13.560968          4.154121       0.937528       0.061063   \n",
       "std          5.253989          1.973061       0.242012       0.239448   \n",
       "min          0.000000          1.000000       0.000000       0.000000   \n",
       "25%         10.000000          2.000000       1.000000       0.000000   \n",
       "50%         14.000000          4.000000       1.000000       0.000000   \n",
       "75%         17.000000          6.000000       1.000000       0.000000   \n",
       "max         23.000000          7.000000       1.000000       1.000000   \n",
       "\n",
       "        TIME_OF_DAY  DAMAGE_OVER_1500  \n",
       "count        115208     115208.000000  \n",
       "unique            3               NaN  \n",
       "top         Daytime               NaN  \n",
       "freq          45208               NaN  \n",
       "first           NaN               NaN  \n",
       "last            NaN               NaN  \n",
       "mean            NaN          0.500000  \n",
       "std             NaN          0.500002  \n",
       "min             NaN          0.000000  \n",
       "25%             NaN          0.000000  \n",
       "50%             NaN          0.500000  \n",
       "75%             NaN          1.000000  \n",
       "max             NaN          1.000000  \n",
       "\n",
       "[13 rows x 25 columns]"
      ]
     },
     "execution_count": 241,
     "metadata": {},
     "output_type": "execute_result"
    }
   ],
   "source": [
    "# Check out the rest of the variables for weirdness\n",
    "\n",
    "df.describe(include=\"all\")"
   ]
  },
  {
   "cell_type": "markdown",
   "metadata": {},
   "source": [
    "Look at VEHICLE_YEAR because max is 9999."
   ]
  },
  {
   "cell_type": "code",
   "execution_count": 23,
   "metadata": {},
   "outputs": [
    {
     "data": {
      "text/plain": [
       "185"
      ]
     },
     "execution_count": 23,
     "metadata": {},
     "output_type": "execute_result"
    }
   ],
   "source": [
    "# First we'll see how many vehicles have vehicle years that are not possible\n",
    "\n",
    "future_cars = df[df[\"VEHICLE_YEAR\"] > 2024]\n",
    "future_cars[\"VEHICLE_YEAR\"].count()"
   ]
  },
  {
   "cell_type": "code",
   "execution_count": 24,
   "metadata": {},
   "outputs": [
    {
     "data": {
      "text/html": [
       "<div>\n",
       "<style scoped>\n",
       "    .dataframe tbody tr th:only-of-type {\n",
       "        vertical-align: middle;\n",
       "    }\n",
       "\n",
       "    .dataframe tbody tr th {\n",
       "        vertical-align: top;\n",
       "    }\n",
       "\n",
       "    .dataframe thead th {\n",
       "        text-align: right;\n",
       "    }\n",
       "</style>\n",
       "<table border=\"1\" class=\"dataframe\">\n",
       "  <thead>\n",
       "    <tr style=\"text-align: right;\">\n",
       "      <th></th>\n",
       "      <th>CRASH_DATE</th>\n",
       "      <th>UNIT_TYPE</th>\n",
       "      <th>NUM_PASSENGERS</th>\n",
       "      <th>MAKE</th>\n",
       "      <th>MODEL</th>\n",
       "      <th>VEHICLE_YEAR</th>\n",
       "      <th>VEHICLE_DEFECT</th>\n",
       "      <th>VEHICLE_TYPE</th>\n",
       "      <th>VEHICLE_USE</th>\n",
       "      <th>OCCUPANT_CNT</th>\n",
       "      <th>...</th>\n",
       "      <th>SEX</th>\n",
       "      <th>AGE</th>\n",
       "      <th>DRIVERS_LICENSE_STATE</th>\n",
       "      <th>DRIVERS_LICENSE_CLASS</th>\n",
       "      <th>DAMAGE</th>\n",
       "      <th>PRIM_CONTRIBUTORY_CAUSE</th>\n",
       "      <th>SEC_CONTRIBUTORY_CAUSE</th>\n",
       "      <th>BEAT_OF_OCCURRENCE</th>\n",
       "      <th>CRASH_HOUR</th>\n",
       "      <th>CRASH_DAY_OF_WEEK</th>\n",
       "    </tr>\n",
       "  </thead>\n",
       "  <tbody>\n",
       "    <tr>\n",
       "      <th>773</th>\n",
       "      <td>2023-04-24 14:13:00</td>\n",
       "      <td>DRIVER</td>\n",
       "      <td>NaN</td>\n",
       "      <td>ACURA</td>\n",
       "      <td>ILX</td>\n",
       "      <td>2032.0</td>\n",
       "      <td>UNKNOWN</td>\n",
       "      <td>PASSENGER</td>\n",
       "      <td>PERSONAL</td>\n",
       "      <td>1.0</td>\n",
       "      <td>...</td>\n",
       "      <td>F</td>\n",
       "      <td>46.0</td>\n",
       "      <td>NaN</td>\n",
       "      <td>D</td>\n",
       "      <td>OVER $1,500</td>\n",
       "      <td>IMPROPER TURNING/NO SIGNAL</td>\n",
       "      <td>NOT APPLICABLE</td>\n",
       "      <td>123.0</td>\n",
       "      <td>14</td>\n",
       "      <td>2</td>\n",
       "    </tr>\n",
       "    <tr>\n",
       "      <th>1823</th>\n",
       "      <td>2023-08-18 16:00:00</td>\n",
       "      <td>DRIVER</td>\n",
       "      <td>NaN</td>\n",
       "      <td>HONDA</td>\n",
       "      <td>HR-V</td>\n",
       "      <td>2108.0</td>\n",
       "      <td>NONE</td>\n",
       "      <td>SPORT UTILITY VEHICLE (SUV)</td>\n",
       "      <td>PERSONAL</td>\n",
       "      <td>1.0</td>\n",
       "      <td>...</td>\n",
       "      <td>F</td>\n",
       "      <td>41.0</td>\n",
       "      <td>NaN</td>\n",
       "      <td>NaN</td>\n",
       "      <td>$501 - $1,500</td>\n",
       "      <td>NOT APPLICABLE</td>\n",
       "      <td>NOT APPLICABLE</td>\n",
       "      <td>922.0</td>\n",
       "      <td>16</td>\n",
       "      <td>6</td>\n",
       "    </tr>\n",
       "    <tr>\n",
       "      <th>14367</th>\n",
       "      <td>2023-05-04 18:58:00</td>\n",
       "      <td>DRIVER</td>\n",
       "      <td>NaN</td>\n",
       "      <td>HONDA</td>\n",
       "      <td>ODYSSEY</td>\n",
       "      <td>2100.0</td>\n",
       "      <td>UNKNOWN</td>\n",
       "      <td>VAN/MINI-VAN</td>\n",
       "      <td>PERSONAL</td>\n",
       "      <td>1.0</td>\n",
       "      <td>...</td>\n",
       "      <td>F</td>\n",
       "      <td>48.0</td>\n",
       "      <td>IL</td>\n",
       "      <td>D</td>\n",
       "      <td>OVER $1,500</td>\n",
       "      <td>DRIVING SKILLS/KNOWLEDGE/EXPERIENCE</td>\n",
       "      <td>NOT APPLICABLE</td>\n",
       "      <td>632.0</td>\n",
       "      <td>18</td>\n",
       "      <td>5</td>\n",
       "    </tr>\n",
       "    <tr>\n",
       "      <th>15356</th>\n",
       "      <td>2023-05-05 15:00:00</td>\n",
       "      <td>DRIVER</td>\n",
       "      <td>NaN</td>\n",
       "      <td>GENERAL MOTORS CORPORATION (GMC)</td>\n",
       "      <td>SAVANNAH</td>\n",
       "      <td>3009.0</td>\n",
       "      <td>UNKNOWN</td>\n",
       "      <td>PASSENGER</td>\n",
       "      <td>PERSONAL</td>\n",
       "      <td>1.0</td>\n",
       "      <td>...</td>\n",
       "      <td>M</td>\n",
       "      <td>64.0</td>\n",
       "      <td>IL</td>\n",
       "      <td>NaN</td>\n",
       "      <td>$501 - $1,500</td>\n",
       "      <td>FOLLOWING TOO CLOSELY</td>\n",
       "      <td>FOLLOWING TOO CLOSELY</td>\n",
       "      <td>1621.0</td>\n",
       "      <td>15</td>\n",
       "      <td>6</td>\n",
       "    </tr>\n",
       "    <tr>\n",
       "      <th>16494</th>\n",
       "      <td>2023-05-06 08:17:00</td>\n",
       "      <td>DRIVER</td>\n",
       "      <td>NaN</td>\n",
       "      <td>CHEVROLET</td>\n",
       "      <td>TRUCK</td>\n",
       "      <td>2066.0</td>\n",
       "      <td>NONE</td>\n",
       "      <td>PICKUP</td>\n",
       "      <td>PERSONAL</td>\n",
       "      <td>1.0</td>\n",
       "      <td>...</td>\n",
       "      <td>M</td>\n",
       "      <td>17.0</td>\n",
       "      <td>IL</td>\n",
       "      <td>D</td>\n",
       "      <td>OVER $1,500</td>\n",
       "      <td>FOLLOWING TOO CLOSELY</td>\n",
       "      <td>UNABLE TO DETERMINE</td>\n",
       "      <td>824.0</td>\n",
       "      <td>8</td>\n",
       "      <td>7</td>\n",
       "    </tr>\n",
       "  </tbody>\n",
       "</table>\n",
       "<p>5 rows × 21 columns</p>\n",
       "</div>"
      ],
      "text/plain": [
       "               CRASH_DATE UNIT_TYPE  NUM_PASSENGERS  \\\n",
       "773   2023-04-24 14:13:00    DRIVER             NaN   \n",
       "1823  2023-08-18 16:00:00    DRIVER             NaN   \n",
       "14367 2023-05-04 18:58:00    DRIVER             NaN   \n",
       "15356 2023-05-05 15:00:00    DRIVER             NaN   \n",
       "16494 2023-05-06 08:17:00    DRIVER             NaN   \n",
       "\n",
       "                                   MAKE     MODEL  VEHICLE_YEAR  \\\n",
       "773                               ACURA       ILX        2032.0   \n",
       "1823                              HONDA      HR-V        2108.0   \n",
       "14367                             HONDA   ODYSSEY        2100.0   \n",
       "15356  GENERAL MOTORS CORPORATION (GMC)  SAVANNAH        3009.0   \n",
       "16494                         CHEVROLET     TRUCK        2066.0   \n",
       "\n",
       "      VEHICLE_DEFECT                 VEHICLE_TYPE VEHICLE_USE  OCCUPANT_CNT  \\\n",
       "773          UNKNOWN                    PASSENGER    PERSONAL           1.0   \n",
       "1823            NONE  SPORT UTILITY VEHICLE (SUV)    PERSONAL           1.0   \n",
       "14367        UNKNOWN                 VAN/MINI-VAN    PERSONAL           1.0   \n",
       "15356        UNKNOWN                    PASSENGER    PERSONAL           1.0   \n",
       "16494           NONE                       PICKUP    PERSONAL           1.0   \n",
       "\n",
       "       ... SEX   AGE  DRIVERS_LICENSE_STATE DRIVERS_LICENSE_CLASS  \\\n",
       "773    ...   F  46.0                    NaN                     D   \n",
       "1823   ...   F  41.0                    NaN                   NaN   \n",
       "14367  ...   F  48.0                     IL                     D   \n",
       "15356  ...   M  64.0                     IL                   NaN   \n",
       "16494  ...   M  17.0                     IL                     D   \n",
       "\n",
       "              DAMAGE              PRIM_CONTRIBUTORY_CAUSE  \\\n",
       "773      OVER $1,500           IMPROPER TURNING/NO SIGNAL   \n",
       "1823   $501 - $1,500                       NOT APPLICABLE   \n",
       "14367    OVER $1,500  DRIVING SKILLS/KNOWLEDGE/EXPERIENCE   \n",
       "15356  $501 - $1,500                FOLLOWING TOO CLOSELY   \n",
       "16494    OVER $1,500                FOLLOWING TOO CLOSELY   \n",
       "\n",
       "      SEC_CONTRIBUTORY_CAUSE BEAT_OF_OCCURRENCE  CRASH_HOUR  CRASH_DAY_OF_WEEK  \n",
       "773           NOT APPLICABLE              123.0          14                  2  \n",
       "1823          NOT APPLICABLE              922.0          16                  6  \n",
       "14367         NOT APPLICABLE              632.0          18                  5  \n",
       "15356  FOLLOWING TOO CLOSELY             1621.0          15                  6  \n",
       "16494    UNABLE TO DETERMINE              824.0           8                  7  \n",
       "\n",
       "[5 rows x 21 columns]"
      ]
     },
     "execution_count": 24,
     "metadata": {},
     "output_type": "execute_result"
    }
   ],
   "source": [
    "# See if anything else is apparent about these rows\n",
    "\n",
    "future_cars.head()"
   ]
  },
  {
   "cell_type": "code",
   "execution_count": 25,
   "metadata": {},
   "outputs": [
    {
     "data": {
      "text/plain": [
       "0.0502336543761659"
      ]
     },
     "execution_count": 25,
     "metadata": {},
     "output_type": "execute_result"
    }
   ],
   "source": [
    "# Percent of rows with future VEHICLE_YEARS\n",
    "\n",
    "len(future_cars)/len(df)*100"
   ]
  },
  {
   "cell_type": "code",
   "execution_count": 26,
   "metadata": {},
   "outputs": [],
   "source": [
    "# Nothing seems apparently off about these vehicles, \n",
    "# but as they are such a small percentage we will drop them out\n",
    "\n",
    "df = df[df[\"VEHICLE_YEAR\"] <= 2024]"
   ]
  },
  {
   "cell_type": "code",
   "execution_count": 27,
   "metadata": {},
   "outputs": [
    {
     "data": {
      "text/plain": [
       "1900.0       10\n",
       "1901.0        2\n",
       "1902.0        1\n",
       "1929.0        1\n",
       "1939.0        1\n",
       "          ...  \n",
       "2020.0    21306\n",
       "2021.0    16804\n",
       "2022.0    10193\n",
       "2023.0     4279\n",
       "2024.0      282\n",
       "Name: VEHICLE_YEAR, Length: 71, dtype: int64"
      ]
     },
     "execution_count": 27,
     "metadata": {},
     "output_type": "execute_result"
    }
   ],
   "source": [
    "# Looking at the first years now\n",
    "\n",
    "df[\"VEHICLE_YEAR\"].value_counts().sort_index()"
   ]
  },
  {
   "cell_type": "code",
   "execution_count": 28,
   "metadata": {},
   "outputs": [
    {
     "data": {
      "image/png": "[encoded data removed]",
      "text/plain": [
       "<Figure size 432x288 with 1 Axes>"
      ]
     },
     "metadata": {
      "needs_background": "light"
     },
     "output_type": "display_data"
    }
   ],
   "source": [
    "sns.histplot(df[\"VEHICLE_YEAR\"]);"
   ]
  },
  {
   "cell_type": "markdown",
   "metadata": {},
   "source": [
    "Anything over 25 years is considered a classic and can be insured as such. As most of the data falls within the last 25 years and anything older can be treated as a different insurance type, we will only use the last 25 years of data."
   ]
  },
  {
   "cell_type": "code",
   "execution_count": 242,
   "metadata": {},
   "outputs": [],
   "source": [
    "# Keeping only vehicles 25 years and newer\n",
    "\n",
    "df=df[df[\"VEHICLE_YEAR\"]>1997]"
   ]
  },
  {
   "cell_type": "code",
   "execution_count": 243,
   "metadata": {},
   "outputs": [
    {
     "data": {
      "image/png": "[encoded data removed]",
      "text/plain": [
       "<Figure size 432x288 with 1 Axes>"
      ]
     },
     "metadata": {
      "needs_background": "light"
     },
     "output_type": "display_data"
    }
   ],
   "source": [
    "sns.histplot(df[\"VEHICLE_YEAR\"]);"
   ]
  },
  {
   "cell_type": "markdown",
   "metadata": {},
   "source": [
    "Looking at the rest of the columns."
   ]
  },
  {
   "cell_type": "code",
   "execution_count": 31,
   "metadata": {},
   "outputs": [
    {
     "data": {
      "text/plain": [
       "PASSENGER                                 239545\n",
       "SPORT UTILITY VEHICLE (SUV)                57002\n",
       "VAN/MINI-VAN                               15435\n",
       "PICKUP                                     12229\n",
       "UNKNOWN/NA                                  5829\n",
       "TRUCK - SINGLE UNIT                         5595\n",
       "BUS OVER 15 PASS.                           3983\n",
       "OTHER                                       3857\n",
       "TRACTOR W/ SEMI-TRAILER                     1908\n",
       "BUS UP TO 15 PASS.                          1468\n",
       "MOTORCYCLE (OVER 150CC)                      995\n",
       "SINGLE UNIT TRUCK WITH TRAILER               497\n",
       "OTHER VEHICLE WITH TRAILER                   448\n",
       "TRACTOR W/O SEMI-TRAILER                     295\n",
       "MOPED OR MOTORIZED BICYCLE                   129\n",
       "AUTOCYCLE                                     21\n",
       "3-WHEELED MOTORCYCLE (2 REAR WHEELS)          21\n",
       "ALL-TERRAIN VEHICLE (ATV)                     16\n",
       "FARM EQUIPMENT                                12\n",
       "RECREATIONAL OFF-HIGHWAY VEHICLE (ROV)         1\n",
       "Name: VEHICLE_TYPE, dtype: int64"
      ]
     },
     "execution_count": 31,
     "metadata": {},
     "output_type": "execute_result"
    }
   ],
   "source": [
    "df[\"VEHICLE_TYPE\"].value_counts()"
   ]
  },
  {
   "cell_type": "markdown",
   "metadata": {},
   "source": [
    "We're not interested in all these vehicle types, so we will remove everything that is explicitly not a passenger vehicle."
   ]
  },
  {
   "cell_type": "code",
   "execution_count": 32,
   "metadata": {},
   "outputs": [],
   "source": [
    "keep_vehicle = [\"PASSENGER\", \"PICKUP\", \n",
    "                \"SPORT UTILITY VEHICLE (SUV)\", \n",
    "                \"UNKNOWN/NA\", \"VAN/MINI-VAN\"]"
   ]
  },
  {
   "cell_type": "code",
   "execution_count": 33,
   "metadata": {},
   "outputs": [],
   "source": [
    "df = df[df[\"VEHICLE_TYPE\"].isin(keep_vehicle)]"
   ]
  },
  {
   "cell_type": "code",
   "execution_count": 34,
   "metadata": {},
   "outputs": [
    {
     "data": {
      "text/plain": [
       "PASSENGER                      239545\n",
       "SPORT UTILITY VEHICLE (SUV)     57002\n",
       "VAN/MINI-VAN                    15435\n",
       "PICKUP                          12229\n",
       "UNKNOWN/NA                       5829\n",
       "Name: VEHICLE_TYPE, dtype: int64"
      ]
     },
     "execution_count": 34,
     "metadata": {},
     "output_type": "execute_result"
    }
   ],
   "source": [
    "# Sanity check\n",
    "\n",
    "df[\"VEHICLE_TYPE\"].value_counts()"
   ]
  },
  {
   "cell_type": "code",
   "execution_count": 35,
   "metadata": {},
   "outputs": [
    {
     "data": {
      "image/png": "[encoded data removed]",
      "text/plain": [
       "<Figure size 432x288 with 1 Axes>"
      ]
     },
     "metadata": {
      "needs_background": "light"
     },
     "output_type": "display_data"
    }
   ],
   "source": [
    "sns.histplot(df[\"VEHICLE_TYPE\"]);"
   ]
  },
  {
   "cell_type": "markdown",
   "metadata": {},
   "source": [
    "It seems too lopsided to use in model, but it was useful to filter out Vehicle Types that do not fit the business problem. "
   ]
  },
  {
   "cell_type": "code",
   "execution_count": 36,
   "metadata": {},
   "outputs": [
    {
     "data": {
      "text/plain": [
       "PERSONAL                    282460\n",
       "UNKNOWN/NA                   28345\n",
       "OTHER                         6754\n",
       "RIDESHARE SERVICE             3116\n",
       "TAXI/FOR HIRE                 2669\n",
       "POLICE                        2066\n",
       "NOT IN USE                    1617\n",
       "COMMERCIAL - SINGLE UNIT       932\n",
       "CONSTRUCTION/MAINTENANCE       819\n",
       "DRIVER EDUCATION               317\n",
       "STATE OWNED                    165\n",
       "TOW TRUCK                      157\n",
       "AMBULANCE                      148\n",
       "CTA                            132\n",
       "COMMERCIAL - MULTI-UNIT        132\n",
       "FIRE                            74\n",
       "LAWN CARE/LANDSCAPING           65\n",
       "SCHOOL BUS                      39\n",
       "AGRICULTURE                     14\n",
       "MILITARY                         9\n",
       "CAMPER/RV - SINGLE UNIT          8\n",
       "HOUSE TRAILER                    2\n",
       "Name: VEHICLE_USE, dtype: int64"
      ]
     },
     "execution_count": 36,
     "metadata": {},
     "output_type": "execute_result"
    }
   ],
   "source": [
    "df[\"VEHICLE_USE\"].value_counts(dropna=False)"
   ]
  },
  {
   "cell_type": "markdown",
   "metadata": {},
   "source": [
    "We only want personal vehicles, so we will remove the rest."
   ]
  },
  {
   "cell_type": "code",
   "execution_count": 37,
   "metadata": {},
   "outputs": [],
   "source": [
    "df = df[df[\"VEHICLE_USE\"]==\"PERSONAL\"]"
   ]
  },
  {
   "cell_type": "code",
   "execution_count": 38,
   "metadata": {},
   "outputs": [
    {
     "data": {
      "text/plain": [
       "2021-02-04 14:00:00    20\n",
       "2021-11-19 15:30:00    19\n",
       "2022-02-17 17:00:00    19\n",
       "2022-10-25 17:30:00    18\n",
       "2021-12-10 16:00:00    18\n",
       "                       ..\n",
       "2023-06-30 20:12:00     1\n",
       "2021-11-14 10:07:00     1\n",
       "2022-11-01 06:45:00     1\n",
       "2023-05-24 18:50:00     1\n",
       "2022-06-18 10:25:00     1\n",
       "Name: CRASH_DATE, Length: 150871, dtype: int64"
      ]
     },
     "execution_count": 38,
     "metadata": {},
     "output_type": "execute_result"
    }
   ],
   "source": [
    "df[\"CRASH_DATE\"].value_counts(dropna=False)"
   ]
  },
  {
   "cell_type": "markdown",
   "metadata": {},
   "source": [
    "We are not doing a time analysis, so this will not be used in our model. "
   ]
  },
  {
   "cell_type": "code",
   "execution_count": 39,
   "metadata": {},
   "outputs": [
    {
     "data": {
      "text/plain": [
       "DRIVER    282460\n",
       "Name: UNIT_TYPE, dtype: int64"
      ]
     },
     "execution_count": 39,
     "metadata": {},
     "output_type": "execute_result"
    }
   ],
   "source": [
    "df[\"UNIT_TYPE\"].value_counts(dropna=False)"
   ]
  },
  {
   "cell_type": "markdown",
   "metadata": {},
   "source": [
    "This corresponds to PERSON_TYPE. We will not use either in our model as it was used to filter the data."
   ]
  },
  {
   "cell_type": "code",
   "execution_count": 40,
   "metadata": {},
   "outputs": [
    {
     "data": {
      "text/plain": [
       "TOYOTA                                                   37325\n",
       "CHEVROLET                                                35512\n",
       "NISSAN                                                   27359\n",
       "HONDA                                                    26949\n",
       "FORD                                                     25064\n",
       "                                                         ...  \n",
       "FLEETWOOD ENTERPRISES                                        1\n",
       "MORGAN EQUIPMENT COMPANY                                     1\n",
       "DODD MANUFACTURING COMPANY, INC.                             1\n",
       "UTILIMASTER (DIVISION OF HOLIDAY RAMBLER CORPORATION)        1\n",
       "PICK-UP MANUFACTURING                                        1\n",
       "Name: MAKE, Length: 136, dtype: int64"
      ]
     },
     "execution_count": 40,
     "metadata": {},
     "output_type": "execute_result"
    }
   ],
   "source": [
    "df[\"MAKE\"].value_counts(dropna=False)"
   ]
  },
  {
   "cell_type": "code",
   "execution_count": 41,
   "metadata": {},
   "outputs": [],
   "source": [
    "# \n",
    "topnine=[\"TOYOTA\", \"CHEVROLET\", \"NISSAN\", \"HONDA\", \"FORD\", \"JEEP\", \"HYUNDAI\", \"DODGE\", \"KIA\"]\n",
    "df= df[df[\"MAKE\"].isin(topnine)]"
   ]
  },
  {
   "cell_type": "markdown",
   "metadata": {},
   "source": [
    "This could be useful in our model. We will probably filter for top makes if we do use it."
   ]
  },
  {
   "cell_type": "code",
   "execution_count": 42,
   "metadata": {},
   "outputs": [
    {
     "data": {
      "text/plain": [
       "OTHER (EXPLAIN IN NARRATIVE)    10709\n",
       "CAMRY                            9953\n",
       "COROLLA                          7432\n",
       "CIVIC                            7033\n",
       "ALTIMA                           6924\n",
       "                                ...  \n",
       "STYLE LINE                          1\n",
       "J-10                                1\n",
       "LANCER                              1\n",
       "KA                                  1\n",
       "COBRA                               1\n",
       "Name: MODEL, Length: 349, dtype: int64"
      ]
     },
     "execution_count": 42,
     "metadata": {},
     "output_type": "execute_result"
    }
   ],
   "source": [
    "df[\"MODEL\"].value_counts(dropna=False)"
   ]
  },
  {
   "cell_type": "markdown",
   "metadata": {},
   "source": [
    "This could be useful. We may use it with MAKE and determine after filtering for top makes. Will need to avoid multicollinearity."
   ]
  },
  {
   "cell_type": "code",
   "execution_count": 43,
   "metadata": {},
   "outputs": [
    {
     "data": {
      "text/plain": [
       "NONE                125758\n",
       "UNKNOWN              77008\n",
       "BRAKES                 864\n",
       "OTHER                  829\n",
       "TIRES                  171\n",
       "STEERING               168\n",
       "WHEELS                  84\n",
       "SUSPENSION              61\n",
       "ENGINE/MOTOR            46\n",
       "FUEL SYSTEM             23\n",
       "WINDOWS                 11\n",
       "LIGHTS                   9\n",
       "SIGNALS                  5\n",
       "CARGO                    5\n",
       "EXHAUST                  3\n",
       "RESTRAINT SYSTEM         1\n",
       "Name: VEHICLE_DEFECT, dtype: int64"
      ]
     },
     "execution_count": 43,
     "metadata": {},
     "output_type": "execute_result"
    }
   ],
   "source": [
    "df[\"VEHICLE_DEFECT\"].value_counts(dropna=False)"
   ]
  },
  {
   "cell_type": "markdown",
   "metadata": {},
   "source": [
    "Lot of UNKNOWN. Possibly useful, but even if we bin between NONE and all other variables the data would still be lopsided. Will not use in model."
   ]
  },
  {
   "cell_type": "code",
   "execution_count": 44,
   "metadata": {},
   "outputs": [
    {
     "data": {
      "text/plain": [
       "1.0     0.797109\n",
       "2.0     0.142890\n",
       "3.0     0.038352\n",
       "4.0     0.014948\n",
       "5.0     0.004926\n",
       "6.0     0.001195\n",
       "7.0     0.000463\n",
       "8.0     0.000088\n",
       "9.0     0.000020\n",
       "11.0    0.000005\n",
       "10.0    0.000005\n",
       "Name: OCCUPANT_CNT, dtype: float64"
      ]
     },
     "execution_count": 44,
     "metadata": {},
     "output_type": "execute_result"
    }
   ],
   "source": [
    "df[\"OCCUPANT_CNT\"].value_counts(dropna=False, normalize=True)"
   ]
  },
  {
   "cell_type": "code",
   "execution_count": 45,
   "metadata": {},
   "outputs": [
    {
     "data": {
      "image/png": "[encoded data removed]",
      "text/plain": [
       "<Figure size 432x288 with 1 Axes>"
      ]
     },
     "metadata": {
      "needs_background": "light"
     },
     "output_type": "display_data"
    }
   ],
   "source": [
    "sns.histplot(df[\"OCCUPANT_CNT\"]);"
   ]
  },
  {
   "cell_type": "markdown",
   "metadata": {},
   "source": [
    "Could bin into HAS_PASSENGER but harder to track and implement for stakeholder. Would still be pretty lopsided. "
   ]
  },
  {
   "cell_type": "code",
   "execution_count": 46,
   "metadata": {},
   "outputs": [
    {
     "data": {
      "text/plain": [
       "M    0.547931\n",
       "F    0.451089\n",
       "X    0.000980\n",
       "Name: SEX, dtype: float64"
      ]
     },
     "execution_count": 46,
     "metadata": {},
     "output_type": "execute_result"
    }
   ],
   "source": [
    "df[\"SEX\"].value_counts(dropna=False, normalize=True)"
   ]
  },
  {
   "cell_type": "code",
   "execution_count": 47,
   "metadata": {},
   "outputs": [
    {
     "data": {
      "image/png": "[encoded data removed]",
      "text/plain": [
       "<Figure size 432x288 with 1 Axes>"
      ]
     },
     "metadata": {
      "needs_background": "light"
     },
     "output_type": "display_data"
    }
   ],
   "source": [
    "sns.histplot(df[\"SEX\"]);"
   ]
  },
  {
   "cell_type": "markdown",
   "metadata": {},
   "source": [
    "X is a small percentage and represents an unknown. We may drop later."
   ]
  },
  {
   "cell_type": "code",
   "execution_count": 48,
   "metadata": {},
   "outputs": [
    {
     "data": {
      "text/plain": [
       "IL     184325\n",
       "NaN      8663\n",
       "IN       3207\n",
       "WI        997\n",
       "MI        697\n",
       "        ...  \n",
       "OA          1\n",
       "VI          1\n",
       "CW          1\n",
       "BH          1\n",
       "SX          1\n",
       "Name: DRIVERS_LICENSE_STATE, Length: 149, dtype: int64"
      ]
     },
     "execution_count": 48,
     "metadata": {},
     "output_type": "execute_result"
    }
   ],
   "source": [
    "df[\"DRIVERS_LICENSE_STATE\"].value_counts(dropna=False)"
   ]
  },
  {
   "cell_type": "markdown",
   "metadata": {},
   "source": [
    "Bin for in state and out of state. "
   ]
  },
  {
   "cell_type": "code",
   "execution_count": 49,
   "metadata": {},
   "outputs": [
    {
     "data": {
      "text/plain": [
       "D      0.735635\n",
       "NaN    0.203803\n",
       "C      0.017747\n",
       "A      0.013851\n",
       "B      0.009076\n",
       "         ...   \n",
       "CC     0.000005\n",
       "PS     0.000005\n",
       "DE     0.000005\n",
       "XX     0.000005\n",
       "CQ     0.000005\n",
       "Name: DRIVERS_LICENSE_CLASS, Length: 132, dtype: float64"
      ]
     },
     "execution_count": 49,
     "metadata": {},
     "output_type": "execute_result"
    }
   ],
   "source": [
    "df[\"DRIVERS_LICENSE_CLASS\"].value_counts(dropna=False, normalize=True)"
   ]
  },
  {
   "cell_type": "markdown",
   "metadata": {},
   "source": [
    "Data is lopsided and contains a fair bit missing."
   ]
  },
  {
   "cell_type": "code",
   "execution_count": 50,
   "metadata": {},
   "outputs": [
    {
     "data": {
      "text/plain": [
       "813.0     0.012007\n",
       "815.0     0.010481\n",
       "833.0     0.010183\n",
       "114.0     0.009778\n",
       "1834.0    0.009105\n",
       "            ...   \n",
       "1125.0    0.000839\n",
       "1653.0    0.000605\n",
       "1655.0    0.000527\n",
       "1652.0    0.000263\n",
       "1650.0    0.000141\n",
       "Name: BEAT_OF_OCCURRENCE, Length: 275, dtype: float64"
      ]
     },
     "execution_count": 50,
     "metadata": {},
     "output_type": "execute_result"
    }
   ],
   "source": [
    "df[\"BEAT_OF_OCCURRENCE\"].value_counts(dropna=False, normalize=True)"
   ]
  },
  {
   "cell_type": "markdown",
   "metadata": {},
   "source": [
    "Data not easily useable by stakeholder. May be useful for future projects."
   ]
  },
  {
   "cell_type": "code",
   "execution_count": 51,
   "metadata": {},
   "outputs": [
    {
     "data": {
      "text/plain": [
       "15    0.085883\n",
       "16    0.084415\n",
       "17    0.080299\n",
       "14    0.068399\n",
       "18    0.065166\n",
       "13    0.060577\n",
       "12    0.057060\n",
       "8     0.053417\n",
       "11    0.049238\n",
       "19    0.046351\n",
       "7     0.042747\n",
       "10    0.042576\n",
       "9     0.041800\n",
       "20    0.037343\n",
       "21    0.032466\n",
       "22    0.028862\n",
       "23    0.025697\n",
       "6     0.018708\n",
       "0     0.018640\n",
       "1     0.015933\n",
       "2     0.013456\n",
       "5     0.011675\n",
       "3     0.010115\n",
       "4     0.009178\n",
       "Name: CRASH_HOUR, dtype: float64"
      ]
     },
     "execution_count": 51,
     "metadata": {},
     "output_type": "execute_result"
    }
   ],
   "source": [
    "df[\"CRASH_HOUR\"].value_counts(dropna=False, normalize=True)"
   ]
  },
  {
   "cell_type": "code",
   "execution_count": 52,
   "metadata": {},
   "outputs": [
    {
     "data": {
      "image/png": "[encoded data removed]",
      "text/plain": [
       "<Figure size 432x288 with 1 Axes>"
      ]
     },
     "metadata": {
      "needs_background": "light"
     },
     "output_type": "display_data"
    }
   ],
   "source": [
    "sns.histplot(df[\"CRASH_HOUR\"]);"
   ]
  },
  {
   "cell_type": "markdown",
   "metadata": {},
   "source": [
    "Bin to times of day."
   ]
  },
  {
   "cell_type": "code",
   "execution_count": 53,
   "metadata": {},
   "outputs": [
    {
     "data": {
      "text/plain": [
       "6    0.166392\n",
       "7    0.149430\n",
       "5    0.145626\n",
       "4    0.140915\n",
       "3    0.140720\n",
       "2    0.132585\n",
       "1    0.124333\n",
       "Name: CRASH_DAY_OF_WEEK, dtype: float64"
      ]
     },
     "execution_count": 53,
     "metadata": {},
     "output_type": "execute_result"
    }
   ],
   "source": [
    "df[\"CRASH_DAY_OF_WEEK\"].value_counts(dropna=False, normalize=True)"
   ]
  },
  {
   "cell_type": "code",
   "execution_count": 54,
   "metadata": {},
   "outputs": [
    {
     "data": {
      "image/png": "[encoded data removed]",
      "text/plain": [
       "<Figure size 432x288 with 1 Axes>"
      ]
     },
     "metadata": {
      "needs_background": "light"
     },
     "output_type": "display_data"
    }
   ],
   "source": [
    "sns.histplot(df[\"CRASH_DAY_OF_WEEK\"]);"
   ]
  },
  {
   "cell_type": "markdown",
   "metadata": {},
   "source": [
    "Bin with CRASH_HOUR for times of day."
   ]
  },
  {
   "cell_type": "code",
   "execution_count": 55,
   "metadata": {},
   "outputs": [
    {
     "data": {
      "text/plain": [
       "UNABLE TO DETERMINE                                                                 64971\n",
       "FAILING TO YIELD RIGHT-OF-WAY                                                       31531\n",
       "FOLLOWING TOO CLOSELY                                                               23676\n",
       "FAILING TO REDUCE SPEED TO AVOID CRASH                                              10899\n",
       "IMPROPER OVERTAKING/PASSING                                                         10896\n",
       "IMPROPER TURNING/NO SIGNAL                                                           8718\n",
       "NOT APPLICABLE                                                                       8318\n",
       "IMPROPER LANE USAGE                                                                  7043\n",
       "DISREGARDING TRAFFIC SIGNALS                                                         6580\n",
       "DRIVING SKILLS/KNOWLEDGE/EXPERIENCE                                                  6536\n",
       "IMPROPER BACKING                                                                     5671\n",
       "WEATHER                                                                              3271\n",
       "DISREGARDING STOP SIGN                                                               2932\n",
       "OPERATING VEHICLE IN ERRATIC, RECKLESS, CARELESS, NEGLIGENT OR AGGRESSIVE MANNER     1840\n",
       "DISTRACTION - FROM INSIDE VEHICLE                                                    1755\n",
       "EQUIPMENT - VEHICLE CONDITION                                                        1485\n",
       "PHYSICAL CONDITION OF DRIVER                                                         1467\n",
       "VISION OBSCURED (SIGNS, TREE LIMBS, BUILDINGS, ETC.)                                 1360\n",
       "DRIVING ON WRONG SIDE/WRONG WAY                                                      1352\n",
       "UNDER THE INFLUENCE OF ALCOHOL/DRUGS (USE WHEN ARREST IS EFFECTED)                   1029\n",
       "DISTRACTION - FROM OUTSIDE VEHICLE                                                    839\n",
       "DISREGARDING OTHER TRAFFIC SIGNS                                                      540\n",
       "EVASIVE ACTION DUE TO ANIMAL, OBJECT, NONMOTORIST                                     391\n",
       "CELL PHONE USE OTHER THAN TEXTING                                                     333\n",
       "ROAD CONSTRUCTION/MAINTENANCE                                                         291\n",
       "ROAD ENGINEERING/SURFACE/MARKING DEFECTS                                              242\n",
       "DISREGARDING ROAD MARKINGS                                                            209\n",
       "TURNING RIGHT ON RED                                                                  208\n",
       "ANIMAL                                                                                143\n",
       "HAD BEEN DRINKING (USE WHEN ARREST IS NOT MADE)                                       131\n",
       "DISTRACTION - OTHER ELECTRONIC DEVICE (NAVIGATION DEVICE, DVD PLAYER, ETC.)           128\n",
       "TEXTING                                                                                83\n",
       "DISREGARDING YIELD SIGN                                                                63\n",
       "RELATED TO BUS STOP                                                                    59\n",
       "OBSTRUCTED CROSSWALKS                                                                  33\n",
       "PASSING STOPPED SCHOOL BUS                                                             13\n",
       "BICYCLE ADVANCING LEGALLY ON RED LIGHT                                                  8\n",
       "MOTORCYCLE ADVANCING LEGALLY ON RED LIGHT                                               2\n",
       "Name: PRIM_CONTRIBUTORY_CAUSE, dtype: int64"
      ]
     },
     "execution_count": 55,
     "metadata": {},
     "output_type": "execute_result"
    }
   ],
   "source": [
    "df[\"PRIM_CONTRIBUTORY_CAUSE\"].value_counts(dropna=False)"
   ]
  },
  {
   "cell_type": "markdown",
   "metadata": {},
   "source": [
    "The only possibly useful data point is what can be known demographically before a crash. So DRIVING SKILLS/KNOWLEDGE/EXPERIENCE should be made into a flag."
   ]
  },
  {
   "cell_type": "code",
   "execution_count": 56,
   "metadata": {},
   "outputs": [
    {
     "data": {
      "text/plain": [
       "NOT APPLICABLE                                                                      81684\n",
       "UNABLE TO DETERMINE                                                                 69212\n",
       "FAILING TO YIELD RIGHT-OF-WAY                                                        9321\n",
       "FAILING TO REDUCE SPEED TO AVOID CRASH                                               8310\n",
       "DRIVING SKILLS/KNOWLEDGE/EXPERIENCE                                                  7313\n",
       "FOLLOWING TOO CLOSELY                                                                6873\n",
       "IMPROPER OVERTAKING/PASSING                                                          3489\n",
       "IMPROPER LANE USAGE                                                                  3082\n",
       "IMPROPER TURNING/NO SIGNAL                                                           3005\n",
       "WEATHER                                                                              2701\n",
       "DISREGARDING TRAFFIC SIGNALS                                                         1295\n",
       "IMPROPER BACKING                                                                     1162\n",
       "OPERATING VEHICLE IN ERRATIC, RECKLESS, CARELESS, NEGLIGENT OR AGGRESSIVE MANNER      996\n",
       "VISION OBSCURED (SIGNS, TREE LIMBS, BUILDINGS, ETC.)                                  820\n",
       "DISREGARDING STOP SIGN                                                                777\n",
       "DISTRACTION - FROM INSIDE VEHICLE                                                     763\n",
       "PHYSICAL CONDITION OF DRIVER                                                          735\n",
       "DRIVING ON WRONG SIDE/WRONG WAY                                                       550\n",
       "EQUIPMENT - VEHICLE CONDITION                                                         480\n",
       "UNDER THE INFLUENCE OF ALCOHOL/DRUGS (USE WHEN ARREST IS EFFECTED)                    424\n",
       "DISTRACTION - FROM OUTSIDE VEHICLE                                                    370\n",
       "DISREGARDING OTHER TRAFFIC SIGNS                                                      255\n",
       "DISREGARDING ROAD MARKINGS                                                            206\n",
       "ROAD CONSTRUCTION/MAINTENANCE                                                         184\n",
       "HAD BEEN DRINKING (USE WHEN ARREST IS NOT MADE)                                       184\n",
       "CELL PHONE USE OTHER THAN TEXTING                                                     168\n",
       "ROAD ENGINEERING/SURFACE/MARKING DEFECTS                                              131\n",
       "EVASIVE ACTION DUE TO ANIMAL, OBJECT, NONMOTORIST                                     114\n",
       "TURNING RIGHT ON RED                                                                   92\n",
       "ANIMAL                                                                                 84\n",
       "RELATED TO BUS STOP                                                                    81\n",
       "DISTRACTION - OTHER ELECTRONIC DEVICE (NAVIGATION DEVICE, DVD PLAYER, ETC.)            66\n",
       "DISREGARDING YIELD SIGN                                                                49\n",
       "TEXTING                                                                                32\n",
       "OBSTRUCTED CROSSWALKS                                                                  18\n",
       "PASSING STOPPED SCHOOL BUS                                                             13\n",
       "BICYCLE ADVANCING LEGALLY ON RED LIGHT                                                  6\n",
       "MOTORCYCLE ADVANCING LEGALLY ON RED LIGHT                                               1\n",
       "Name: SEC_CONTRIBUTORY_CAUSE, dtype: int64"
      ]
     },
     "execution_count": 56,
     "metadata": {},
     "output_type": "execute_result"
    }
   ],
   "source": [
    "df[\"SEC_CONTRIBUTORY_CAUSE\"].value_counts(dropna=False)"
   ]
  },
  {
   "cell_type": "markdown",
   "metadata": {},
   "source": [
    "DRIVING SKILLS/KNOWLEDGE/EXPERIENCE used with same above for a flag."
   ]
  },
  {
   "cell_type": "markdown",
   "metadata": {},
   "source": [
    "## Feature Engineering"
   ]
  },
  {
   "cell_type": "markdown",
   "metadata": {},
   "source": [
    "### Feature Engineering"
   ]
  },
  {
   "cell_type": "markdown",
   "metadata": {},
   "source": [
    "Binning in state and out of state without losing the null values. We will impute after Train/Test Split."
   ]
  },
  {
   "cell_type": "code",
   "execution_count": 57,
   "metadata": {},
   "outputs": [],
   "source": [
    "states = sorted(df[\"DRIVERS_LICENSE_STATE\"].value_counts().index)\n",
    "states.remove('IL')"
   ]
  },
  {
   "cell_type": "code",
   "execution_count": 58,
   "metadata": {},
   "outputs": [],
   "source": [
    "def in_state(row):\n",
    "    if row['DRIVERS_LICENSE_STATE'] == 'IL':\n",
    "        return 1\n",
    "    elif row['DRIVERS_LICENSE_STATE'] in states:\n",
    "        return 0\n",
    "\n",
    "df['IN_STATE'] = df.apply(in_state, axis=1)"
   ]
  },
  {
   "cell_type": "code",
   "execution_count": 59,
   "metadata": {},
   "outputs": [
    {
     "data": {
      "text/plain": [
       "1.0    184325\n",
       "0.0     12058\n",
       "NaN      8663\n",
       "Name: IN_STATE, dtype: int64"
      ]
     },
     "execution_count": 59,
     "metadata": {},
     "output_type": "execute_result"
    }
   ],
   "source": [
    "# Sanity check \n",
    "\n",
    "df[\"IN_STATE\"].value_counts(dropna=False)"
   ]
  },
  {
   "cell_type": "markdown",
   "metadata": {},
   "source": [
    "We are interested in driving skills, knowledge, or experience as a contributing cause of accidents."
   ]
  },
  {
   "cell_type": "code",
   "execution_count": 60,
   "metadata": {},
   "outputs": [
    {
     "data": {
      "text/plain": [
       "False    0.968124\n",
       "True     0.031876\n",
       "Name: PRIM_CONTRIBUTORY_CAUSE, dtype: float64"
      ]
     },
     "execution_count": 60,
     "metadata": {},
     "output_type": "execute_result"
    }
   ],
   "source": [
    "(df['PRIM_CONTRIBUTORY_CAUSE'] == 'DRIVING SKILLS/KNOWLEDGE/EXPERIENCE').value_counts(normalize=True)"
   ]
  },
  {
   "cell_type": "code",
   "execution_count": 61,
   "metadata": {},
   "outputs": [
    {
     "data": {
      "text/plain": [
       "False    0.964335\n",
       "True     0.035665\n",
       "Name: SEC_CONTRIBUTORY_CAUSE, dtype: float64"
      ]
     },
     "execution_count": 61,
     "metadata": {},
     "output_type": "execute_result"
    }
   ],
   "source": [
    "(df['SEC_CONTRIBUTORY_CAUSE'] == 'DRIVING SKILLS/KNOWLEDGE/EXPERIENCE').value_counts(normalize=True)"
   ]
  },
  {
   "cell_type": "code",
   "execution_count": 62,
   "metadata": {},
   "outputs": [
    {
     "data": {
      "text/plain": [
       "False    0.994318\n",
       "True     0.005682\n",
       "dtype: float64"
      ]
     },
     "execution_count": 62,
     "metadata": {},
     "output_type": "execute_result"
    }
   ],
   "source": [
    "((df['PRIM_CONTRIBUTORY_CAUSE'] == 'DRIVING SKILLS/KNOWLEDGE/EXPERIENCE') & (df['SEC_CONTRIBUTORY_CAUSE'] == 'DRIVING SKILLS/KNOWLEDGE/EXPERIENCE')).value_counts(normalize=True)"
   ]
  },
  {
   "cell_type": "code",
   "execution_count": 63,
   "metadata": {},
   "outputs": [],
   "source": [
    "# Create a new column to identify any contributory cause as \"driving skills/knowledge/experience\"\n",
    "\n",
    "def get_cause(row):\n",
    "    if row['PRIM_CONTRIBUTORY_CAUSE'] == 'DRIVING SKILLS/KNOWLEDGE/EXPERIENCE':\n",
    "        return 1\n",
    "    if row['SEC_CONTRIBUTORY_CAUSE'] == 'DRIVING SKILLS/KNOWLEDGE/EXPERIENCE':\n",
    "        return 1\n",
    "    else:\n",
    "        return 0\n",
    "df['DRIVING_SKILLS'] = df.apply(get_cause, axis=1)\n",
    "   "
   ]
  },
  {
   "cell_type": "code",
   "execution_count": 64,
   "metadata": {},
   "outputs": [
    {
     "data": {
      "text/plain": [
       "0    0.938141\n",
       "1    0.061859\n",
       "Name: DRIVING_SKILLS, dtype: float64"
      ]
     },
     "execution_count": 64,
     "metadata": {},
     "output_type": "execute_result"
    }
   ],
   "source": [
    "df['DRIVING_SKILLS'].value_counts(normalize=True)"
   ]
  },
  {
   "cell_type": "code",
   "execution_count": 65,
   "metadata": {},
   "outputs": [
    {
     "data": {
      "text/plain": [
       "DRIVING_SKILLS  DAMAGE       \n",
       "0               OVER $1,500      0.718032\n",
       "                $501 - $1,500    0.212916\n",
       "                $500 OR LESS     0.069052\n",
       "1               OVER $1,500      0.734784\n",
       "                $501 - $1,500    0.190713\n",
       "                $500 OR LESS     0.074503\n",
       "Name: DAMAGE, dtype: float64"
      ]
     },
     "execution_count": 65,
     "metadata": {},
     "output_type": "execute_result"
    }
   ],
   "source": [
    "df.groupby(\"DRIVING_SKILLS\").DAMAGE.value_counts(normalize=True)"
   ]
  },
  {
   "cell_type": "markdown",
   "metadata": {},
   "source": [
    "While DRIVING_SKILLS is a very lopsided value, there is an indication that it affects the DAMAGE. We may be able to SMOTE this for our model."
   ]
  },
  {
   "cell_type": "markdown",
   "metadata": {},
   "source": [
    "We want to identify crashes by the time of day they occurred."
   ]
  },
  {
   "cell_type": "code",
   "execution_count": 66,
   "metadata": {},
   "outputs": [],
   "source": [
    "# Create a new column to identify the time of day crashes occurred\n",
    "\n",
    "def hour(row):\n",
    "    if (row['CRASH_HOUR'] < 7) or (row['CRASH_HOUR'] >23):\n",
    "        return 'Evening/Overnight'\n",
    "    elif (row['CRASH_DAY_OF_WEEK'] in range(2,7)) and (row['CRASH_HOUR'] in range(7,10)) or (row['CRASH_HOUR'] in range(16,19)):\n",
    "        return 'Commute'\n",
    "    elif row['CRASH_HOUR'] in range(19,24):\n",
    "        return 'Evening/Overnight'\n",
    "    else:\n",
    "        return 'Daytime'\n",
    "df['TIME_OF_DAY'] = df.apply(hour, axis=1)"
   ]
  },
  {
   "cell_type": "code",
   "execution_count": 67,
   "metadata": {},
   "outputs": [
    {
     "data": {
      "text/plain": [
       "Daytime              0.382821\n",
       "Commute              0.348756\n",
       "Evening/Overnight    0.268423\n",
       "Name: TIME_OF_DAY, dtype: float64"
      ]
     },
     "execution_count": 67,
     "metadata": {},
     "output_type": "execute_result"
    }
   ],
   "source": [
    "df['TIME_OF_DAY'].value_counts(dropna=False, normalize=True)"
   ]
  },
  {
   "cell_type": "code",
   "execution_count": 68,
   "metadata": {},
   "outputs": [
    {
     "data": {
      "text/plain": [
       "OVER $1,500      147442\n",
       "$501 - $1,500     43376\n",
       "$500 OR LESS      14228\n",
       "Name: DAMAGE, dtype: int64"
      ]
     },
     "execution_count": 68,
     "metadata": {},
     "output_type": "execute_result"
    }
   ],
   "source": [
    "# Check the values in Damage column\n",
    "\n",
    "df['DAMAGE'].value_counts()"
   ]
  },
  {
   "cell_type": "code",
   "execution_count": 69,
   "metadata": {},
   "outputs": [],
   "source": [
    "# Create a new column to identify damage as > $1500 or <= $1500\n",
    "\n",
    "damage_dict = {'OVER $1,500':1, '$501 - $1,500':0, '$500 OR LESS':0}\n",
    "df['DAMAGE_OVER_1500'] =  df.loc[:, ('DAMAGE')].map(damage_dict).copy()"
   ]
  },
  {
   "cell_type": "code",
   "execution_count": 70,
   "metadata": {},
   "outputs": [
    {
     "data": {
      "text/plain": [
       "1    147442\n",
       "0     57604\n",
       "Name: DAMAGE_OVER_1500, dtype: int64"
      ]
     },
     "execution_count": 70,
     "metadata": {},
     "output_type": "execute_result"
    }
   ],
   "source": [
    "# Sanity check\n",
    "\n",
    "df['DAMAGE_OVER_1500'].value_counts()"
   ]
  },
  {
   "cell_type": "code",
   "execution_count": 71,
   "metadata": {},
   "outputs": [
    {
     "data": {
      "text/plain": [
       "<AxesSubplot:xlabel='DAMAGE', ylabel='Count'>"
      ]
     },
     "execution_count": 71,
     "metadata": {},
     "output_type": "execute_result"
    },
    {
     "data": {
      "image/png": "[encoded data removed]",
      "text/plain": [
       "<Figure size 432x288 with 1 Axes>"
      ]
     },
     "metadata": {
      "needs_background": "light"
     },
     "output_type": "display_data"
    }
   ],
   "source": [
    "sns.histplot(df[\"DAMAGE\"], )"
   ]
  },
  {
   "cell_type": "code",
   "execution_count": 72,
   "metadata": {},
   "outputs": [
    {
     "data": {
      "text/plain": [
       "OVER $1,500      0.719068\n",
       "$501 - $1,500    0.211543\n",
       "$500 OR LESS     0.069389\n",
       "Name: DAMAGE, dtype: float64"
      ]
     },
     "execution_count": 72,
     "metadata": {},
     "output_type": "execute_result"
    }
   ],
   "source": [
    "df[\"DAMAGE\"].value_counts(normalize=True)"
   ]
  },
  {
   "cell_type": "code",
   "execution_count": 73,
   "metadata": {},
   "outputs": [
    {
     "data": {
      "text/plain": [
       "<AxesSubplot:xlabel='DAMAGE_OVER_1500', ylabel='Count'>"
      ]
     },
     "execution_count": 73,
     "metadata": {},
     "output_type": "execute_result"
    },
    {
     "data": {
      "image/png": "[encoded data removed]",
      "text/plain": [
       "<Figure size 432x288 with 1 Axes>"
      ]
     },
     "metadata": {
      "needs_background": "light"
     },
     "output_type": "display_data"
    }
   ],
   "source": [
    "sns.histplot(df[\"DAMAGE_OVER_1500\"])"
   ]
  },
  {
   "cell_type": "markdown",
   "metadata": {},
   "source": [
    "### Comparing columns to DAMAGE_OVER_1500"
   ]
  },
  {
   "cell_type": "code",
   "execution_count": 74,
   "metadata": {},
   "outputs": [
    {
     "data": {
      "text/plain": [
       "AGE    DAMAGE_OVER_1500\n",
       "28.0   1                   4674\n",
       "25.0   1                   4621\n",
       "26.0   1                   4577\n",
       "27.0   1                   4563\n",
       "29.0   1                   4549\n",
       "                           ... \n",
       "103.0  1                      1\n",
       "101.0  1                      1\n",
       "98.0   1                      1\n",
       "97.0   0                      1\n",
       "110.0  1                      1\n",
       "Name: DAMAGE_OVER_1500, Length: 174, dtype: int64"
      ]
     },
     "execution_count": 74,
     "metadata": {},
     "output_type": "execute_result"
    }
   ],
   "source": [
    "df.groupby(\"AGE\").DAMAGE_OVER_1500.value_counts().sort_values(ascending=False)"
   ]
  },
  {
   "cell_type": "code",
   "execution_count": 75,
   "metadata": {},
   "outputs": [
    {
     "data": {
      "image/png": "[encoded data removed]",
      "text/plain": [
       "<Figure size 432x288 with 1 Axes>"
      ]
     },
     "metadata": {
      "needs_background": "light"
     },
     "output_type": "display_data"
    }
   ],
   "source": [
    "sns.histplot(x=df[\"AGE\"], y=df[\"DAMAGE_OVER_1500\"]);"
   ]
  },
  {
   "cell_type": "code",
   "execution_count": 76,
   "metadata": {},
   "outputs": [
    {
     "data": {
      "text/plain": [
       "VEHICLE_YEAR  DAMAGE_OVER_1500\n",
       "2017.0        1                   11400\n",
       "2018.0        1                   10669\n",
       "2015.0        1                   10197\n",
       "2016.0        1                    9971\n",
       "2019.0        1                    9711\n",
       "2014.0        1                    9208\n",
       "2020.0        1                    8606\n",
       "2013.0        1                    8561\n",
       "2012.0        1                    7433\n",
       "2021.0        1                    6689\n",
       "2011.0        1                    6642\n",
       "2010.0        1                    5877\n",
       "2007.0        1                    5746\n",
       "2008.0        1                    5670\n",
       "2009.0        1                    4698\n",
       "2017.0        0                    4429\n",
       "2006.0        1                    4383\n",
       "2018.0        0                    4123\n",
       "2016.0        0                    4027\n",
       "2019.0        0                    4024\n",
       "2015.0        0                    3988\n",
       "2005.0        1                    3972\n",
       "2022.0        1                    3893\n",
       "2014.0        0                    3669\n",
       "2020.0        0                    3460\n",
       "2013.0        0                    3436\n",
       "2004.0        1                    3122\n",
       "2012.0        0                    2885\n",
       "2021.0        0                    2728\n",
       "2003.0        1                    2702\n",
       "2011.0        0                    2534\n",
       "2010.0        0                    2211\n",
       "2007.0        0                    2178\n",
       "2008.0        0                    2159\n",
       "2002.0        1                    2152\n",
       "2009.0        0                    1851\n",
       "2023.0        1                    1672\n",
       "2006.0        0                    1642\n",
       "2001.0        1                    1564\n",
       "2022.0        0                    1560\n",
       "2005.0        0                    1438\n",
       "2000.0        1                    1270\n",
       "2004.0        0                    1154\n",
       "2003.0        0                     998\n",
       "1999.0        1                     905\n",
       "2002.0        0                     862\n",
       "1998.0        1                     638\n",
       "2023.0        0                     568\n",
       "2001.0        0                     553\n",
       "2000.0        0                     478\n",
       "1999.0        0                     375\n",
       "1998.0        0                     240\n",
       "2024.0        1                      91\n",
       "              0                      34\n",
       "Name: DAMAGE_OVER_1500, dtype: int64"
      ]
     },
     "execution_count": 76,
     "metadata": {},
     "output_type": "execute_result"
    }
   ],
   "source": [
    "df.groupby(\"VEHICLE_YEAR\").DAMAGE_OVER_1500.value_counts().sort_values(ascending=False)"
   ]
  },
  {
   "cell_type": "code",
   "execution_count": 77,
   "metadata": {},
   "outputs": [
    {
     "data": {
      "image/png": "[encoded data removed]",
      "text/plain": [
       "<Figure size 432x288 with 1 Axes>"
      ]
     },
     "metadata": {
      "needs_background": "light"
     },
     "output_type": "display_data"
    }
   ],
   "source": [
    "sns.histplot(x=df[\"VEHICLE_YEAR\"], y=df[\"DAMAGE_OVER_1500\"]);"
   ]
  },
  {
   "cell_type": "code",
   "execution_count": 78,
   "metadata": {},
   "outputs": [
    {
     "data": {
      "text/plain": [
       "TIME_OF_DAY        DAMAGE_OVER_1500\n",
       "Commute            1                   0.704381\n",
       "                   0                   0.295619\n",
       "Daytime            1                   0.698329\n",
       "                   0                   0.301671\n",
       "Evening/Overnight  1                   0.767728\n",
       "                   0                   0.232272\n",
       "Name: DAMAGE_OVER_1500, dtype: float64"
      ]
     },
     "execution_count": 78,
     "metadata": {},
     "output_type": "execute_result"
    }
   ],
   "source": [
    "df.groupby(\"TIME_OF_DAY\").DAMAGE_OVER_1500.value_counts(normalize=True)"
   ]
  },
  {
   "cell_type": "code",
   "execution_count": 79,
   "metadata": {},
   "outputs": [
    {
     "data": {
      "image/png": "[encoded data removed]",
      "text/plain": [
       "<Figure size 432x288 with 1 Axes>"
      ]
     },
     "metadata": {
      "needs_background": "light"
     },
     "output_type": "display_data"
    }
   ],
   "source": [
    "sns.histplot(x=df[\"TIME_OF_DAY\"], y=df[\"DAMAGE_OVER_1500\"]);"
   ]
  },
  {
   "cell_type": "code",
   "execution_count": 80,
   "metadata": {},
   "outputs": [
    {
     "data": {
      "text/plain": [
       "SEX  DAMAGE_OVER_1500\n",
       "F    1                   65791\n",
       "     0                   26703\n",
       "M    1                   81514\n",
       "     0                   30837\n",
       "X    1                     137\n",
       "     0                      64\n",
       "Name: DAMAGE_OVER_1500, dtype: int64"
      ]
     },
     "execution_count": 80,
     "metadata": {},
     "output_type": "execute_result"
    }
   ],
   "source": [
    "df.groupby(\"SEX\").DAMAGE_OVER_1500.value_counts()"
   ]
  },
  {
   "cell_type": "code",
   "execution_count": 81,
   "metadata": {},
   "outputs": [
    {
     "data": {
      "image/png": "[encoded data removed]",
      "text/plain": [
       "<Figure size 432x288 with 1 Axes>"
      ]
     },
     "metadata": {
      "needs_background": "light"
     },
     "output_type": "display_data"
    }
   ],
   "source": [
    "sns.histplot(x=df[\"SEX\"], y=df[\"DAMAGE_OVER_1500\"]);"
   ]
  },
  {
   "cell_type": "code",
   "execution_count": 82,
   "metadata": {},
   "outputs": [
    {
     "data": {
      "text/plain": [
       "IN_STATE  DAMAGE_OVER_1500\n",
       "0.0       1                     8515\n",
       "          0                     3543\n",
       "1.0       1                   132443\n",
       "          0                    51882\n",
       "Name: DAMAGE_OVER_1500, dtype: int64"
      ]
     },
     "execution_count": 82,
     "metadata": {},
     "output_type": "execute_result"
    }
   ],
   "source": [
    "df.groupby(\"IN_STATE\").DAMAGE_OVER_1500.value_counts()"
   ]
  },
  {
   "cell_type": "code",
   "execution_count": 83,
   "metadata": {},
   "outputs": [
    {
     "data": {
      "image/png": "[encoded data removed]",
      "text/plain": [
       "<Figure size 432x288 with 1 Axes>"
      ]
     },
     "metadata": {
      "needs_background": "light"
     },
     "output_type": "display_data"
    }
   ],
   "source": [
    "sns.histplot(x=df[\"IN_STATE\"], y=df[\"DAMAGE_OVER_1500\"]);"
   ]
  },
  {
   "cell_type": "code",
   "execution_count": 84,
   "metadata": {},
   "outputs": [
    {
     "data": {
      "text/plain": [
       "CRASH_HOUR  DAMAGE_OVER_1500\n",
       "0           1                    3089\n",
       "            0                     733\n",
       "1           1                    2607\n",
       "            0                     660\n",
       "2           1                    2258\n",
       "            0                     501\n",
       "3           1                    1738\n",
       "            0                     336\n",
       "4           1                    1583\n",
       "            0                     299\n",
       "5           1                    1904\n",
       "            0                     490\n",
       "6           1                    2955\n",
       "            0                     881\n",
       "7           1                    6453\n",
       "            0                    2312\n",
       "8           1                    7782\n",
       "            0                    3171\n",
       "9           1                    6175\n",
       "            0                    2396\n",
       "10          1                    6222\n",
       "            0                    2508\n",
       "11          1                    7146\n",
       "            0                    2950\n",
       "12          1                    8109\n",
       "            0                    3591\n",
       "13          1                    8541\n",
       "            0                    3880\n",
       "14          1                    9627\n",
       "            0                    4398\n",
       "15          1                   12231\n",
       "            0                    5379\n",
       "16          1                   11979\n",
       "            0                    5330\n",
       "17          1                   11451\n",
       "            0                    5014\n",
       "18          1                    9471\n",
       "            0                    3891\n",
       "19          1                    6868\n",
       "            0                    2636\n",
       "20          1                    5668\n",
       "            0                    1989\n",
       "21          1                    4968\n",
       "            0                    1689\n",
       "22          1                    4474\n",
       "            0                    1444\n",
       "23          1                    4143\n",
       "            0                    1126\n",
       "Name: DAMAGE_OVER_1500, dtype: int64"
      ]
     },
     "execution_count": 84,
     "metadata": {},
     "output_type": "execute_result"
    }
   ],
   "source": [
    "df.groupby(\"CRASH_HOUR\").DAMAGE_OVER_1500.value_counts()"
   ]
  },
  {
   "cell_type": "code",
   "execution_count": 85,
   "metadata": {},
   "outputs": [
    {
     "data": {
      "image/png": "[encoded data removed]",
      "text/plain": [
       "<Figure size 432x288 with 1 Axes>"
      ]
     },
     "metadata": {
      "needs_background": "light"
     },
     "output_type": "display_data"
    }
   ],
   "source": [
    "sns.histplot(x=df[\"CRASH_HOUR\"], y=df[\"DAMAGE_OVER_1500\"]);"
   ]
  },
  {
   "cell_type": "code",
   "execution_count": 253,
   "metadata": {},
   "outputs": [],
   "source": [
    "# Creating new csv file as checkpoint\n",
    "#df.to_csv(\"Data\\modeltime.csv\")\n",
    "df = pd.read_csv(\"Data\\modeltime.csv\", parse_dates=[\"CRASH_DATE\"], low_memory=False)"
   ]
  },
  {
   "cell_type": "markdown",
   "metadata": {},
   "source": [
    "## Initial Modeling"
   ]
  },
  {
   "cell_type": "markdown",
   "metadata": {},
   "source": [
    "### Initial Dummy Model"
   ]
  },
  {
   "cell_type": "markdown",
   "metadata": {},
   "source": [
    "#### Decide Xs/y"
   ]
  },
  {
   "cell_type": "markdown",
   "metadata": {},
   "source": [
    "The target is DAMAGE_OVER_1500. There are a few columns which represent interrelated variables, so only one will be used. "
   ]
  },
  {
   "cell_type": "code",
   "execution_count": 254,
   "metadata": {},
   "outputs": [],
   "source": [
    "X = df.drop([\"DAMAGE\", \"DAMAGE_OVER_1500\"], axis=1)\n",
    "y = df[\"DAMAGE_OVER_1500\"]"
   ]
  },
  {
   "cell_type": "markdown",
   "metadata": {},
   "source": [
    "#### Train/Test Split"
   ]
  },
  {
   "cell_type": "code",
   "execution_count": 255,
   "metadata": {},
   "outputs": [],
   "source": [
    "X_train, X_test, y_train, y_test = train_test_split(X, y, random_state=2024)"
   ]
  },
  {
   "cell_type": "markdown",
   "metadata": {},
   "source": [
    "#### Modeling "
   ]
  },
  {
   "cell_type": "code",
   "execution_count": 256,
   "metadata": {},
   "outputs": [],
   "source": [
    "dummy_model = DummyClassifier(strategy=\"most_frequent\")"
   ]
  },
  {
   "cell_type": "code",
   "execution_count": 257,
   "metadata": {},
   "outputs": [
    {
     "data": {
      "text/plain": [
       "DummyClassifier(strategy='most_frequent')"
      ]
     },
     "execution_count": 257,
     "metadata": {},
     "output_type": "execute_result"
    }
   ],
   "source": [
    "dummy_model.fit(X_train, y_train)"
   ]
  },
  {
   "cell_type": "code",
   "execution_count": 258,
   "metadata": {},
   "outputs": [
    {
     "data": {
      "text/plain": [
       "0.7170028481136124"
      ]
     },
     "execution_count": 258,
     "metadata": {},
     "output_type": "execute_result"
    }
   ],
   "source": [
    "y_pred = dummy_model.predict(X_test)\n",
    "dummy1_accuracy = accuracy_score(y_test, y_pred)\n",
    "dummy1_accuracy"
   ]
  },
  {
   "cell_type": "code",
   "execution_count": 259,
   "metadata": {},
   "outputs": [
    {
     "data": {
      "image/png": "[encoded data removed]",
      "text/plain": [
       "<Figure size 432x288 with 2 Axes>"
      ]
     },
     "metadata": {
      "needs_background": "light"
     },
     "output_type": "display_data"
    }
   ],
   "source": [
    "fig, ax = plt.subplots()\n",
    "\n",
    "fig.suptitle(\"Dummy Model\")\n",
    "\n",
    "plot_confusion_matrix(dummy_model, X_train, y_train, ax=ax, cmap=\"plasma\");"
   ]
  },
  {
   "cell_type": "code",
   "execution_count": 260,
   "metadata": {},
   "outputs": [
    {
     "data": {
      "image/png": "[encoded data removed]",
      "text/plain": [
       "<Figure size 432x288 with 1 Axes>"
      ]
     },
     "metadata": {
      "needs_background": "light"
     },
     "output_type": "display_data"
    }
   ],
   "source": [
    "plot_roc_curve(dummy_model, X_train, y_train);"
   ]
  },
  {
   "cell_type": "markdown",
   "metadata": {},
   "source": [
    "### Initial Decision Tree Classifier"
   ]
  },
  {
   "cell_type": "code",
   "execution_count": 261,
   "metadata": {},
   "outputs": [],
   "source": [
    "# Making a dataframe numeric columns\n",
    "\n",
    "df_dt = df[[\"VEHICLE_YEAR\", \"SEX\", \"DRIVING_SKILLS\", \"TIME_OF_DAY\", \"DAMAGE_OVER_1500\"]]"
   ]
  },
  {
   "cell_type": "code",
   "execution_count": 262,
   "metadata": {},
   "outputs": [
    {
     "name": "stdout",
     "output_type": "stream",
     "text": [
      "<class 'pandas.core.frame.DataFrame'>\n",
      "RangeIndex: 205046 entries, 0 to 205045\n",
      "Data columns (total 5 columns):\n",
      " #   Column            Non-Null Count   Dtype  \n",
      "---  ------            --------------   -----  \n",
      " 0   VEHICLE_YEAR      205046 non-null  float64\n",
      " 1   SEX               205046 non-null  object \n",
      " 2   DRIVING_SKILLS    205046 non-null  int64  \n",
      " 3   TIME_OF_DAY       205046 non-null  object \n",
      " 4   DAMAGE_OVER_1500  205046 non-null  int64  \n",
      "dtypes: float64(1), int64(2), object(2)\n",
      "memory usage: 7.8+ MB\n"
     ]
    }
   ],
   "source": [
    "df_dt.info()"
   ]
  },
  {
   "cell_type": "code",
   "execution_count": 263,
   "metadata": {},
   "outputs": [],
   "source": [
    "# Assigning Xs & y \n",
    "\n",
    "X_dt = df_dt.drop(\"DAMAGE_OVER_1500\", axis=1)\n",
    "y_dt = df[\"DAMAGE_OVER_1500\"]"
   ]
  },
  {
   "cell_type": "markdown",
   "metadata": {},
   "source": [
    "#### Train/Test Split"
   ]
  },
  {
   "cell_type": "code",
   "execution_count": 264,
   "metadata": {},
   "outputs": [],
   "source": [
    "X_train_dt, X_test_dt, y_train_dt, y_test_dt = train_test_split(X_dt, y_dt, random_state=2024)"
   ]
  },
  {
   "cell_type": "markdown",
   "metadata": {},
   "source": [
    "#### Preprocessing Steps (SS, OHE, SI)"
   ]
  },
  {
   "cell_type": "code",
   "execution_count": 265,
   "metadata": {},
   "outputs": [
    {
     "data": {
      "text/plain": [
       "VEHICLE_YEAR        0\n",
       "SEX                 0\n",
       "DRIVING_SKILLS      0\n",
       "TIME_OF_DAY         0\n",
       "DAMAGE_OVER_1500    0\n",
       "dtype: int64"
      ]
     },
     "execution_count": 265,
     "metadata": {},
     "output_type": "execute_result"
    }
   ],
   "source": [
    "df_dt.isna().sum()"
   ]
  },
  {
   "cell_type": "code",
   "execution_count": 266,
   "metadata": {},
   "outputs": [],
   "source": [
    "encoding = OneHotEncoder(categories=\"auto\", handle_unknown=\"ignore\")\n",
    "X_train_dt_imp = encoding.fit_transform(X_train_dt)\n",
    "X_test_dt_imp = encoding.transform(X_test_dt)"
   ]
  },
  {
   "cell_type": "code",
   "execution_count": 267,
   "metadata": {},
   "outputs": [],
   "source": [
    "names = pd.DataFrame(X_train_dt_imp.todense(), columns=encoding.get_feature_names())"
   ]
  },
  {
   "cell_type": "markdown",
   "metadata": {},
   "source": [
    "#### Modeling "
   ]
  },
  {
   "cell_type": "code",
   "execution_count": 268,
   "metadata": {},
   "outputs": [
    {
     "data": {
      "text/plain": [
       "DecisionTreeClassifier(max_depth=2, random_state=2024)"
      ]
     },
     "execution_count": 268,
     "metadata": {},
     "output_type": "execute_result"
    }
   ],
   "source": [
    "dt = DecisionTreeClassifier(max_depth=2, random_state=2024)\n",
    "dt.fit(X_train_dt_imp, y_train_dt)"
   ]
  },
  {
   "cell_type": "code",
   "execution_count": 269,
   "metadata": {},
   "outputs": [
    {
     "data": {
      "text/plain": [
       "0.7197562815377413"
      ]
     },
     "execution_count": 269,
     "metadata": {},
     "output_type": "execute_result"
    }
   ],
   "source": [
    "dt.score(X_train_dt_imp, y_train_dt)"
   ]
  },
  {
   "cell_type": "code",
   "execution_count": 270,
   "metadata": {},
   "outputs": [
    {
     "data": {
      "text/plain": [
       "0.7170028481136124"
      ]
     },
     "execution_count": 270,
     "metadata": {},
     "output_type": "execute_result"
    }
   ],
   "source": [
    "dt.score(X_test_dt_imp, y_test_dt)"
   ]
  },
  {
   "cell_type": "code",
   "execution_count": 271,
   "metadata": {},
   "outputs": [
    {
     "data": {
      "text/plain": [
       "[Text(167.4, 181.2, 'X[34] <= 0.5\\ngini = 0.403\\nsamples = 153784\\nvalue = [43097, 110687]'),\n",
       " Text(83.7, 108.72, 'X[30] <= 0.5\\ngini = 0.418\\nsamples = 112627\\nvalue = [33573, 79054]'),\n",
       " Text(41.85, 36.23999999999998, 'gini = 0.394\\nsamples = 7171\\nvalue = [1934, 5237]'),\n",
       " Text(125.55000000000001, 36.23999999999998, 'gini = 0.42\\nsamples = 105456\\nvalue = [31639, 73817]'),\n",
       " Text(251.10000000000002, 108.72, 'X[27] <= 0.5\\ngini = 0.356\\nsamples = 41157\\nvalue = [9524, 31633]'),\n",
       " Text(209.25, 36.23999999999998, 'gini = 0.35\\nsamples = 24871\\nvalue = [5616, 19255]'),\n",
       " Text(292.95, 36.23999999999998, 'gini = 0.365\\nsamples = 16286\\nvalue = [3908, 12378]')]"
      ]
     },
     "execution_count": 271,
     "metadata": {},
     "output_type": "execute_result"
    },
    {
     "data": {
      "image/png": "[encoded data removed]",
      "text/plain": [
       "<Figure size 432x288 with 1 Axes>"
      ]
     },
     "metadata": {
      "needs_background": "light"
     },
     "output_type": "display_data"
    }
   ],
   "source": [
    "plot_tree(dt, max_depth=2)"
   ]
  },
  {
   "cell_type": "code",
   "execution_count": 272,
   "metadata": {},
   "outputs": [
    {
     "data": {
      "text/plain": [
       "'x3_Evening/Overnight'"
      ]
     },
     "execution_count": 272,
     "metadata": {},
     "output_type": "execute_result"
    }
   ],
   "source": [
    "names.columns[34]"
   ]
  },
  {
   "cell_type": "markdown",
   "metadata": {},
   "source": [
    "### Initial Logistic Regression with TIME_OF_DAY"
   ]
  },
  {
   "cell_type": "markdown",
   "metadata": {},
   "source": [
    "#### Decide Xs/y"
   ]
  },
  {
   "cell_type": "code",
   "execution_count": 273,
   "metadata": {},
   "outputs": [],
   "source": [
    "df_lr = df[[\"TIME_OF_DAY\", \"DAMAGE_OVER_1500\"]]"
   ]
  },
  {
   "cell_type": "code",
   "execution_count": 274,
   "metadata": {},
   "outputs": [],
   "source": [
    "X_lr = df_lr.drop(\"DAMAGE_OVER_1500\", axis=1)\n",
    "y_lr = df_lr[\"DAMAGE_OVER_1500\"]"
   ]
  },
  {
   "cell_type": "markdown",
   "metadata": {},
   "source": [
    "#### Train/Test Split"
   ]
  },
  {
   "cell_type": "code",
   "execution_count": 275,
   "metadata": {},
   "outputs": [],
   "source": [
    "X_train_lr, X_test_lr, y_train_lr, y_test_lr = train_test_split(X_lr, y_lr, random_state=2024)"
   ]
  },
  {
   "cell_type": "markdown",
   "metadata": {},
   "source": [
    "#### Preprocessing Steps (SS, OHE, SI)"
   ]
  },
  {
   "cell_type": "code",
   "execution_count": 276,
   "metadata": {},
   "outputs": [],
   "source": [
    "X_train_lr_imp = encoding.fit_transform(X_train_lr)\n",
    "X_test_lr_imp = encoding.transform(X_test_lr)"
   ]
  },
  {
   "cell_type": "code",
   "execution_count": 277,
   "metadata": {},
   "outputs": [],
   "source": [
    "ss = StandardScaler(with_mean=False)"
   ]
  },
  {
   "cell_type": "code",
   "execution_count": 278,
   "metadata": {},
   "outputs": [
    {
     "data": {
      "text/plain": [
       "<51262x3 sparse matrix of type '<class 'numpy.float64'>'\n",
       "\twith 51262 stored elements in Compressed Sparse Row format>"
      ]
     },
     "execution_count": 278,
     "metadata": {},
     "output_type": "execute_result"
    }
   ],
   "source": [
    "ss.fit_transform(X_train_lr_imp)\n",
    "ss.transform(X_test_lr_imp)"
   ]
  },
  {
   "cell_type": "markdown",
   "metadata": {},
   "source": [
    "#### Modeling "
   ]
  },
  {
   "cell_type": "code",
   "execution_count": 279,
   "metadata": {},
   "outputs": [],
   "source": [
    "logreg = LogisticRegression(random_state=2024)"
   ]
  },
  {
   "cell_type": "code",
   "execution_count": 280,
   "metadata": {},
   "outputs": [],
   "source": [
    "logreg.fit(X_train_lr_imp, y_train_lr)\n",
    "y_pred_lr = logreg.predict(X_test_lr_imp)"
   ]
  },
  {
   "cell_type": "code",
   "execution_count": 281,
   "metadata": {},
   "outputs": [
    {
     "data": {
      "text/plain": [
       "array([[0.1449216 , 0.11200245, 0.47158043]])"
      ]
     },
     "execution_count": 281,
     "metadata": {},
     "output_type": "execute_result"
    }
   ],
   "source": [
    "logreg.coef_"
   ]
  },
  {
   "cell_type": "code",
   "execution_count": 282,
   "metadata": {},
   "outputs": [
    {
     "data": {
      "text/plain": [
       "0.7170028481136124"
      ]
     },
     "execution_count": 282,
     "metadata": {},
     "output_type": "execute_result"
    }
   ],
   "source": [
    "ToD1_accuracy = accuracy_score(y_test_lr, y_pred_lr)\n",
    "ToD1_accuracy"
   ]
  },
  {
   "cell_type": "code",
   "execution_count": 283,
   "metadata": {},
   "outputs": [
    {
     "data": {
      "image/png": "[encoded data removed]",
      "text/plain": [
       "<Figure size 432x288 with 2 Axes>"
      ]
     },
     "metadata": {
      "needs_background": "light"
     },
     "output_type": "display_data"
    }
   ],
   "source": [
    "fig, ax = plt.subplots()\n",
    "plot_confusion_matrix(logreg, X_test_lr_imp, y_test_lr, ax=ax, cmap=\"plasma\");"
   ]
  },
  {
   "cell_type": "code",
   "execution_count": 284,
   "metadata": {},
   "outputs": [
    {
     "data": {
      "image/png": "[encoded data removed]",
      "text/plain": [
       "<Figure size 432x288 with 1 Axes>"
      ]
     },
     "metadata": {
      "needs_background": "light"
     },
     "output_type": "display_data"
    }
   ],
   "source": [
    "plot_roc_curve(logreg, X_test_lr_imp, y_test_lr);"
   ]
  },
  {
   "cell_type": "code",
   "execution_count": 285,
   "metadata": {},
   "outputs": [
    {
     "data": {
      "text/plain": [
       "0.5936086516408869"
      ]
     },
     "execution_count": 285,
     "metadata": {},
     "output_type": "execute_result"
    }
   ],
   "source": [
    "log_loss(y_test_lr, logreg.predict_proba(X_test_lr_imp))"
   ]
  },
  {
   "cell_type": "code",
   "execution_count": 286,
   "metadata": {},
   "outputs": [
    {
     "data": {
      "text/plain": [
       "array([0.72879252])"
      ]
     },
     "execution_count": 286,
     "metadata": {},
     "output_type": "execute_result"
    }
   ],
   "source": [
    "logreg.intercept_"
   ]
  },
  {
   "cell_type": "code",
   "execution_count": 287,
   "metadata": {},
   "outputs": [
    {
     "data": {
      "text/plain": [
       "array([0.67454024])"
      ]
     },
     "execution_count": 287,
     "metadata": {},
     "output_type": "execute_result"
    }
   ],
   "source": [
    "logodds = logreg.intercept_\n",
    "odds = np.exp(logodds)\n",
    "prob = odds / (1 + odds)\n",
    "prob"
   ]
  },
  {
   "cell_type": "code",
   "execution_count": 288,
   "metadata": {},
   "outputs": [
    {
     "data": {
      "text/plain": [
       "array([2.0725765])"
      ]
     },
     "execution_count": 288,
     "metadata": {},
     "output_type": "execute_result"
    }
   ],
   "source": [
    "odds"
   ]
  },
  {
   "cell_type": "markdown",
   "metadata": {},
   "source": [
    "## Evaluation of Initial Models"
   ]
  },
  {
   "cell_type": "markdown",
   "metadata": {},
   "source": [
    "### Accuracy Scores of Initial Models"
   ]
  },
  {
   "cell_type": "code",
   "execution_count": 410,
   "metadata": {},
   "outputs": [
    {
     "name": "stdout",
     "output_type": "stream",
     "text": [
      "Baseline Accuracy:           71.7 %\n",
      "Time of Day LogReg Accuracy: 71.7 %\n"
     ]
    }
   ],
   "source": [
    "print(\"Baseline Accuracy:          \", round((dummy1_accuracy*100), ndigits=1), \"%\")\n",
    "print(\"Time of Day LogReg Accuracy:\", round((ToD1_accuracy*100), ndigits=1), \"%\")"
   ]
  },
  {
   "cell_type": "markdown",
   "metadata": {},
   "source": [
    "Decision Tree and Logistic Regression Accuracy scores are the same as the Dummy Model. We will undersample the majority class to see if it runs better."
   ]
  },
  {
   "cell_type": "markdown",
   "metadata": {},
   "source": [
    "## Balance Data and Redo Models"
   ]
  },
  {
   "cell_type": "markdown",
   "metadata": {},
   "source": [
    "### Undersampling Majority to Balance Data"
   ]
  },
  {
   "cell_type": "code",
   "execution_count": 290,
   "metadata": {},
   "outputs": [
    {
     "data": {
      "text/plain": [
       "1    147442\n",
       "0     57604\n",
       "Name: DAMAGE_OVER_1500, dtype: int64"
      ]
     },
     "execution_count": 290,
     "metadata": {},
     "output_type": "execute_result"
    }
   ],
   "source": [
    "df[\"DAMAGE_OVER_1500\"].value_counts()"
   ]
  },
  {
   "cell_type": "code",
   "execution_count": 291,
   "metadata": {},
   "outputs": [],
   "source": [
    "over = df[df[\"DAMAGE_OVER_1500\"]==1]\n",
    "under = df[df[\"DAMAGE_OVER_1500\"]==0]\n",
    "over_small = over.sample(n=len(under), random_state=2024)\n",
    "df = pd.concat([under, over_small],axis=0)"
   ]
  },
  {
   "cell_type": "code",
   "execution_count": 292,
   "metadata": {},
   "outputs": [
    {
     "data": {
      "text/plain": [
       "1    57604\n",
       "0    57604\n",
       "Name: DAMAGE_OVER_1500, dtype: int64"
      ]
     },
     "execution_count": 292,
     "metadata": {},
     "output_type": "execute_result"
    }
   ],
   "source": [
    "df[\"DAMAGE_OVER_1500\"].value_counts()"
   ]
  },
  {
   "cell_type": "markdown",
   "metadata": {},
   "source": [
    "### Dummy Model Redo"
   ]
  },
  {
   "cell_type": "markdown",
   "metadata": {},
   "source": [
    "#### Decide Xs/y"
   ]
  },
  {
   "cell_type": "markdown",
   "metadata": {},
   "source": [
    "The target is DAMAGE_OVER_1500. There are a few columns which represent interrelated variables, so only one will be used. "
   ]
  },
  {
   "cell_type": "code",
   "execution_count": 293,
   "metadata": {},
   "outputs": [],
   "source": [
    "X = df.drop([\"DAMAGE\", \"DAMAGE_OVER_1500\"], axis=1)\n",
    "y = df[\"DAMAGE_OVER_1500\"]"
   ]
  },
  {
   "cell_type": "markdown",
   "metadata": {},
   "source": [
    "#### Train/Test Split"
   ]
  },
  {
   "cell_type": "code",
   "execution_count": 294,
   "metadata": {},
   "outputs": [],
   "source": [
    "X_train, X_test, y_train, y_test = train_test_split(X, y, random_state=2024)"
   ]
  },
  {
   "cell_type": "markdown",
   "metadata": {},
   "source": [
    "#### Modeling "
   ]
  },
  {
   "cell_type": "code",
   "execution_count": 295,
   "metadata": {},
   "outputs": [],
   "source": [
    "dummy_model = DummyClassifier(strategy=\"most_frequent\")"
   ]
  },
  {
   "cell_type": "code",
   "execution_count": 296,
   "metadata": {},
   "outputs": [
    {
     "data": {
      "text/plain": [
       "DummyClassifier(strategy='most_frequent')"
      ]
     },
     "execution_count": 296,
     "metadata": {},
     "output_type": "execute_result"
    }
   ],
   "source": [
    "dummy_model.fit(X_train, y_train)"
   ]
  },
  {
   "cell_type": "code",
   "execution_count": 297,
   "metadata": {},
   "outputs": [
    {
     "data": {
      "text/plain": [
       "0.49927088396639124"
      ]
     },
     "execution_count": 297,
     "metadata": {},
     "output_type": "execute_result"
    }
   ],
   "source": [
    "y_pred = dummy_model.predict(X_test)\n",
    "dummy2_accuracy = accuracy_score(y_test, y_pred)\n",
    "dummy2_accuracy"
   ]
  },
  {
   "cell_type": "code",
   "execution_count": 298,
   "metadata": {},
   "outputs": [
    {
     "data": {
      "image/png": "[encoded data removed]",
      "text/plain": [
       "<Figure size 432x288 with 2 Axes>"
      ]
     },
     "metadata": {
      "needs_background": "light"
     },
     "output_type": "display_data"
    }
   ],
   "source": [
    "fig, ax = plt.subplots()\n",
    "\n",
    "fig.suptitle(\"Dummy Model\")\n",
    "\n",
    "plot_confusion_matrix(dummy_model, X_train, y_train, ax=ax, cmap=\"plasma\");"
   ]
  },
  {
   "cell_type": "code",
   "execution_count": 299,
   "metadata": {},
   "outputs": [
    {
     "data": {
      "image/png": "[encoded data removed]",
      "text/plain": [
       "<Figure size 432x288 with 1 Axes>"
      ]
     },
     "metadata": {
      "needs_background": "light"
     },
     "output_type": "display_data"
    }
   ],
   "source": [
    "plot_roc_curve(dummy_model, X_train, y_train);"
   ]
  },
  {
   "cell_type": "markdown",
   "metadata": {},
   "source": [
    "### Decision Tree Classifier Redo"
   ]
  },
  {
   "cell_type": "code",
   "execution_count": 300,
   "metadata": {},
   "outputs": [],
   "source": [
    "# Making a dataframe from numeric columns\n",
    "\n",
    "df_dt = df[[\"VEHICLE_YEAR\", \"SEX\", \"DRIVING_SKILLS\", \"TIME_OF_DAY\", \"DAMAGE_OVER_1500\"]]"
   ]
  },
  {
   "cell_type": "code",
   "execution_count": 301,
   "metadata": {},
   "outputs": [
    {
     "name": "stdout",
     "output_type": "stream",
     "text": [
      "<class 'pandas.core.frame.DataFrame'>\n",
      "Int64Index: 115208 entries, 9 to 188670\n",
      "Data columns (total 5 columns):\n",
      " #   Column            Non-Null Count   Dtype  \n",
      "---  ------            --------------   -----  \n",
      " 0   VEHICLE_YEAR      115208 non-null  float64\n",
      " 1   SEX               115208 non-null  object \n",
      " 2   DRIVING_SKILLS    115208 non-null  int64  \n",
      " 3   TIME_OF_DAY       115208 non-null  object \n",
      " 4   DAMAGE_OVER_1500  115208 non-null  int64  \n",
      "dtypes: float64(1), int64(2), object(2)\n",
      "memory usage: 5.3+ MB\n"
     ]
    }
   ],
   "source": [
    "df_dt.info()"
   ]
  },
  {
   "cell_type": "code",
   "execution_count": 302,
   "metadata": {},
   "outputs": [],
   "source": [
    "# Assigning Xs & y \n",
    "\n",
    "X_dt = df_dt.drop(\"DAMAGE_OVER_1500\", axis=1)\n",
    "y_dt = df[\"DAMAGE_OVER_1500\"]"
   ]
  },
  {
   "cell_type": "markdown",
   "metadata": {},
   "source": [
    "#### Train/Test Split"
   ]
  },
  {
   "cell_type": "code",
   "execution_count": 303,
   "metadata": {},
   "outputs": [],
   "source": [
    "X_train_dt, X_test_dt, y_train_dt, y_test_dt = train_test_split(X_dt, y_dt, random_state=2024)"
   ]
  },
  {
   "cell_type": "markdown",
   "metadata": {},
   "source": [
    "#### Preprocessing Steps (SS, OHE, SI)"
   ]
  },
  {
   "cell_type": "code",
   "execution_count": 304,
   "metadata": {},
   "outputs": [
    {
     "data": {
      "text/plain": [
       "VEHICLE_YEAR        0\n",
       "SEX                 0\n",
       "DRIVING_SKILLS      0\n",
       "TIME_OF_DAY         0\n",
       "DAMAGE_OVER_1500    0\n",
       "dtype: int64"
      ]
     },
     "execution_count": 304,
     "metadata": {},
     "output_type": "execute_result"
    }
   ],
   "source": [
    "df_dt.isna().sum()"
   ]
  },
  {
   "cell_type": "code",
   "execution_count": 305,
   "metadata": {},
   "outputs": [],
   "source": [
    "encoding = OneHotEncoder(categories=\"auto\", handle_unknown=\"ignore\")\n",
    "X_train_dt_imp = encoding.fit_transform(X_train_dt)\n",
    "X_test_dt_imp = encoding.transform(X_test_dt)"
   ]
  },
  {
   "cell_type": "code",
   "execution_count": 306,
   "metadata": {},
   "outputs": [],
   "source": [
    "names = pd.DataFrame(X_train_dt_imp.todense(), columns=encoding.get_feature_names())"
   ]
  },
  {
   "cell_type": "markdown",
   "metadata": {},
   "source": [
    "#### Modeling "
   ]
  },
  {
   "cell_type": "code",
   "execution_count": 307,
   "metadata": {},
   "outputs": [
    {
     "data": {
      "text/plain": [
       "DecisionTreeClassifier(max_depth=2, random_state=2024)"
      ]
     },
     "execution_count": 307,
     "metadata": {},
     "output_type": "execute_result"
    }
   ],
   "source": [
    "dt = DecisionTreeClassifier(max_depth=2, random_state=2024)\n",
    "dt.fit(X_train_dt_imp, y_train_dt)"
   ]
  },
  {
   "cell_type": "code",
   "execution_count": 308,
   "metadata": {},
   "outputs": [
    {
     "data": {
      "text/plain": [
       "0.5321852649121589"
      ]
     },
     "execution_count": 308,
     "metadata": {},
     "output_type": "execute_result"
    }
   ],
   "source": [
    "dt.score(X_train_dt_imp, y_train_dt)"
   ]
  },
  {
   "cell_type": "code",
   "execution_count": 309,
   "metadata": {},
   "outputs": [
    {
     "data": {
      "text/plain": [
       "0.5318727866120408"
      ]
     },
     "execution_count": 309,
     "metadata": {},
     "output_type": "execute_result"
    }
   ],
   "source": [
    "dt.score(X_test_dt_imp, y_test_dt)"
   ]
  },
  {
   "cell_type": "code",
   "execution_count": 310,
   "metadata": {},
   "outputs": [
    {
     "data": {
      "text/plain": [
       "[Text(167.4, 181.2, 'X[34] <= 0.5\\ngini = 0.5\\nsamples = 86406\\nvalue = [43182, 43224]'),\n",
       " Text(83.7, 108.72, 'X[28] <= 0.5\\ngini = 0.499\\nsamples = 64344\\nvalue = [33552, 30792]'),\n",
       " Text(41.85, 36.23999999999998, 'gini = 0.498\\nsamples = 30481\\nvalue = [16164, 14317]'),\n",
       " Text(125.55000000000001, 36.23999999999998, 'gini = 0.5\\nsamples = 33863\\nvalue = [17388, 16475]'),\n",
       " Text(251.10000000000002, 108.72, 'X[9] <= 0.5\\ngini = 0.492\\nsamples = 22062\\nvalue = [9630, 12432]'),\n",
       " Text(209.25, 36.23999999999998, 'gini = 0.492\\nsamples = 21255\\nvalue = [9312, 11943]'),\n",
       " Text(292.95, 36.23999999999998, 'gini = 0.478\\nsamples = 807\\nvalue = [318, 489]')]"
      ]
     },
     "execution_count": 310,
     "metadata": {},
     "output_type": "execute_result"
    },
    {
     "data": {
      "image/png": "[encoded data removed]",
      "text/plain": [
       "<Figure size 432x288 with 1 Axes>"
      ]
     },
     "metadata": {
      "needs_background": "light"
     },
     "output_type": "display_data"
    }
   ],
   "source": [
    "plot_tree(dt, max_depth=2)"
   ]
  },
  {
   "cell_type": "code",
   "execution_count": 311,
   "metadata": {},
   "outputs": [
    {
     "data": {
      "text/plain": [
       "'x3_Evening/Overnight'"
      ]
     },
     "execution_count": 311,
     "metadata": {},
     "output_type": "execute_result"
    }
   ],
   "source": [
    "names.columns[34]"
   ]
  },
  {
   "cell_type": "markdown",
   "metadata": {},
   "source": [
    "### Logistic Regression with TIME_OF_DAY Redo"
   ]
  },
  {
   "cell_type": "markdown",
   "metadata": {},
   "source": [
    "#### Decide Xs/y"
   ]
  },
  {
   "cell_type": "code",
   "execution_count": 312,
   "metadata": {},
   "outputs": [],
   "source": [
    "df_lr = df[[\"TIME_OF_DAY\", \"DAMAGE_OVER_1500\"]]"
   ]
  },
  {
   "cell_type": "code",
   "execution_count": 313,
   "metadata": {},
   "outputs": [],
   "source": [
    "X_lr = df_lr.drop(\"DAMAGE_OVER_1500\", axis=1)\n",
    "y_lr = df_lr[\"DAMAGE_OVER_1500\"]"
   ]
  },
  {
   "cell_type": "markdown",
   "metadata": {},
   "source": [
    "#### Train/Test Split"
   ]
  },
  {
   "cell_type": "code",
   "execution_count": 314,
   "metadata": {},
   "outputs": [],
   "source": [
    "X_train_lr, X_test_lr, y_train_lr, y_test_lr = train_test_split(X_lr, y_lr, random_state=2024)"
   ]
  },
  {
   "cell_type": "markdown",
   "metadata": {},
   "source": [
    "#### Preprocessing Steps (SS, OHE, SI)"
   ]
  },
  {
   "cell_type": "code",
   "execution_count": 315,
   "metadata": {},
   "outputs": [],
   "source": [
    "X_train_lr_imp = encoding.fit_transform(X_train_lr)\n",
    "X_test_lr_imp = encoding.transform(X_test_lr)"
   ]
  },
  {
   "cell_type": "code",
   "execution_count": 316,
   "metadata": {},
   "outputs": [],
   "source": [
    "ss = StandardScaler(with_mean=False)"
   ]
  },
  {
   "cell_type": "code",
   "execution_count": 317,
   "metadata": {},
   "outputs": [
    {
     "data": {
      "text/plain": [
       "<28802x3 sparse matrix of type '<class 'numpy.float64'>'\n",
       "\twith 28802 stored elements in Compressed Sparse Row format>"
      ]
     },
     "execution_count": 317,
     "metadata": {},
     "output_type": "execute_result"
    }
   ],
   "source": [
    "ss.fit_transform(X_train_lr_imp)\n",
    "ss.transform(X_test_lr_imp)"
   ]
  },
  {
   "cell_type": "markdown",
   "metadata": {},
   "source": [
    "#### Modeling "
   ]
  },
  {
   "cell_type": "code",
   "execution_count": 318,
   "metadata": {},
   "outputs": [],
   "source": [
    "logreg = LogisticRegression(random_state=2024)"
   ]
  },
  {
   "cell_type": "code",
   "execution_count": 319,
   "metadata": {},
   "outputs": [],
   "source": [
    "logreg.fit(X_train_lr_imp, y_train_lr)\n",
    "y_pred_lr = logreg.predict(X_test_lr_imp)"
   ]
  },
  {
   "cell_type": "code",
   "execution_count": 320,
   "metadata": {},
   "outputs": [
    {
     "data": {
      "text/plain": [
       "array([[-0.09528027, -0.11763681,  0.23412888]])"
      ]
     },
     "execution_count": 320,
     "metadata": {},
     "output_type": "execute_result"
    }
   ],
   "source": [
    "logreg.coef_"
   ]
  },
  {
   "cell_type": "code",
   "execution_count": 321,
   "metadata": {},
   "outputs": [
    {
     "data": {
      "text/plain": [
       "0.5318727866120408"
      ]
     },
     "execution_count": 321,
     "metadata": {},
     "output_type": "execute_result"
    }
   ],
   "source": [
    "ToD2_accuracy = accuracy_score(y_test_lr, y_pred_lr)\n",
    "ToD2_accuracy"
   ]
  },
  {
   "cell_type": "code",
   "execution_count": 322,
   "metadata": {},
   "outputs": [
    {
     "data": {
      "image/png": "[encoded data removed]",
      "text/plain": [
       "<Figure size 432x288 with 2 Axes>"
      ]
     },
     "metadata": {
      "needs_background": "light"
     },
     "output_type": "display_data"
    }
   ],
   "source": [
    "fig, ax = plt.subplots()\n",
    "plot_confusion_matrix(logreg, X_test_lr_imp, y_test_lr, ax=ax, cmap=\"plasma\");"
   ]
  },
  {
   "cell_type": "code",
   "execution_count": 323,
   "metadata": {},
   "outputs": [
    {
     "data": {
      "image/png": "[encoded data removed]",
      "text/plain": [
       "<Figure size 432x288 with 1 Axes>"
      ]
     },
     "metadata": {
      "needs_background": "light"
     },
     "output_type": "display_data"
    }
   ],
   "source": [
    "plot_roc_curve(logreg, X_test_lr_imp, y_test_lr);"
   ]
  },
  {
   "cell_type": "code",
   "execution_count": 324,
   "metadata": {},
   "outputs": [
    {
     "data": {
      "text/plain": [
       "0.6904965601225233"
      ]
     },
     "execution_count": 324,
     "metadata": {},
     "output_type": "execute_result"
    }
   ],
   "source": [
    "log_loss(y_test_lr, logreg.predict_proba(X_test_lr_imp))"
   ]
  },
  {
   "cell_type": "code",
   "execution_count": 325,
   "metadata": {},
   "outputs": [
    {
     "data": {
      "text/plain": [
       "array([0.02121959])"
      ]
     },
     "execution_count": 325,
     "metadata": {},
     "output_type": "execute_result"
    }
   ],
   "source": [
    "logreg.intercept_"
   ]
  },
  {
   "cell_type": "code",
   "execution_count": 326,
   "metadata": {},
   "outputs": [
    {
     "data": {
      "text/plain": [
       "array([0.5053047])"
      ]
     },
     "execution_count": 326,
     "metadata": {},
     "output_type": "execute_result"
    }
   ],
   "source": [
    "logodds = logreg.intercept_\n",
    "odds = np.exp(logodds)\n",
    "prob = odds / (1 + odds)\n",
    "prob"
   ]
  },
  {
   "cell_type": "code",
   "execution_count": 327,
   "metadata": {},
   "outputs": [
    {
     "data": {
      "text/plain": [
       "array([1.02144632])"
      ]
     },
     "execution_count": 327,
     "metadata": {},
     "output_type": "execute_result"
    }
   ],
   "source": [
    "odds"
   ]
  },
  {
   "cell_type": "markdown",
   "metadata": {},
   "source": [
    "## New Models"
   ]
  },
  {
   "cell_type": "markdown",
   "metadata": {},
   "source": [
    "### Logistic Regression with TIME_OF_DAY and SEX"
   ]
  },
  {
   "cell_type": "markdown",
   "metadata": {},
   "source": [
    "#### Decide Xs/y"
   ]
  },
  {
   "cell_type": "code",
   "execution_count": 328,
   "metadata": {},
   "outputs": [],
   "source": [
    "df_lr2 = df[[\"TIME_OF_DAY\", \"SEX\", \"DAMAGE_OVER_1500\"]]"
   ]
  },
  {
   "cell_type": "code",
   "execution_count": 329,
   "metadata": {},
   "outputs": [],
   "source": [
    "X_lr2 = df_lr2.drop(\"DAMAGE_OVER_1500\", axis=1)\n",
    "y_lr2 = df_lr2[\"DAMAGE_OVER_1500\"]"
   ]
  },
  {
   "cell_type": "markdown",
   "metadata": {},
   "source": [
    "#### Train/Test Split"
   ]
  },
  {
   "cell_type": "code",
   "execution_count": 330,
   "metadata": {},
   "outputs": [],
   "source": [
    "X_train_lr2, X_test_lr2, y_train_lr2, y_test_lr2 = train_test_split(X_lr2, y_lr2, random_state=2024)"
   ]
  },
  {
   "cell_type": "markdown",
   "metadata": {},
   "source": [
    "#### Preprocessing Steps (SS, OHE, SI)"
   ]
  },
  {
   "cell_type": "code",
   "execution_count": 331,
   "metadata": {},
   "outputs": [],
   "source": [
    "X_train_lr2_imp = encoding.fit_transform(X_train_lr2)\n",
    "X_test_lr2_imp = encoding.transform(X_test_lr2)"
   ]
  },
  {
   "cell_type": "code",
   "execution_count": 332,
   "metadata": {},
   "outputs": [
    {
     "data": {
      "text/plain": [
       "<28802x6 sparse matrix of type '<class 'numpy.float64'>'\n",
       "\twith 57604 stored elements in Compressed Sparse Row format>"
      ]
     },
     "execution_count": 332,
     "metadata": {},
     "output_type": "execute_result"
    }
   ],
   "source": [
    "ss.fit_transform(X_train_lr2_imp)\n",
    "ss.transform(X_test_lr2_imp)"
   ]
  },
  {
   "cell_type": "markdown",
   "metadata": {},
   "source": [
    "#### Modeling "
   ]
  },
  {
   "cell_type": "code",
   "execution_count": 333,
   "metadata": {},
   "outputs": [],
   "source": [
    "logreg.fit(X_train_lr2_imp, y_train_lr2)\n",
    "y_pred_lr2 = logreg.predict(X_test_lr2_imp)"
   ]
  },
  {
   "cell_type": "code",
   "execution_count": 334,
   "metadata": {},
   "outputs": [
    {
     "data": {
      "text/plain": [
       "array([[-0.09618739, -0.12025636,  0.22743209, -0.02381611,  0.04327644,\n",
       "        -0.008472  ]])"
      ]
     },
     "execution_count": 334,
     "metadata": {},
     "output_type": "execute_result"
    }
   ],
   "source": [
    "logreg.coef_"
   ]
  },
  {
   "cell_type": "code",
   "execution_count": 335,
   "metadata": {},
   "outputs": [
    {
     "data": {
      "text/plain": [
       "0.5318727866120408"
      ]
     },
     "execution_count": 335,
     "metadata": {},
     "output_type": "execute_result"
    }
   ],
   "source": [
    "TS_accuracy = accuracy_score(y_test_lr2, y_pred_lr2)\n",
    "TS_accuracy"
   ]
  },
  {
   "cell_type": "code",
   "execution_count": 336,
   "metadata": {},
   "outputs": [
    {
     "data": {
      "image/png": "[encoded data removed]",
      "text/plain": [
       "<Figure size 432x288 with 2 Axes>"
      ]
     },
     "metadata": {
      "needs_background": "light"
     },
     "output_type": "display_data"
    }
   ],
   "source": [
    "fig, ax = plt.subplots()\n",
    "plot_confusion_matrix(logreg, X_train_lr2_imp, y_train_lr2, ax=ax, cmap=\"plasma\");"
   ]
  },
  {
   "cell_type": "code",
   "execution_count": 337,
   "metadata": {},
   "outputs": [
    {
     "data": {
      "image/png": "[encoded data removed]",
      "text/plain": [
       "<Figure size 432x288 with 1 Axes>"
      ]
     },
     "metadata": {
      "needs_background": "light"
     },
     "output_type": "display_data"
    }
   ],
   "source": [
    "plot_roc_curve(logreg, X_test_lr2_imp, y_test_lr2);"
   ]
  },
  {
   "cell_type": "code",
   "execution_count": 338,
   "metadata": {},
   "outputs": [
    {
     "data": {
      "text/plain": [
       "0.6903979618094603"
      ]
     },
     "execution_count": 338,
     "metadata": {},
     "output_type": "execute_result"
    }
   ],
   "source": [
    "log_loss(y_test_lr2, logreg.predict_proba(X_test_lr2_imp))"
   ]
  },
  {
   "cell_type": "code",
   "execution_count": 339,
   "metadata": {},
   "outputs": [
    {
     "data": {
      "text/plain": [
       "array([0.01149027])"
      ]
     },
     "execution_count": 339,
     "metadata": {},
     "output_type": "execute_result"
    }
   ],
   "source": [
    "logreg.intercept_"
   ]
  },
  {
   "cell_type": "code",
   "execution_count": 340,
   "metadata": {},
   "outputs": [
    {
     "data": {
      "text/plain": [
       "array([0.50287254])"
      ]
     },
     "execution_count": 340,
     "metadata": {},
     "output_type": "execute_result"
    }
   ],
   "source": [
    "logodds = logreg.intercept_\n",
    "odds = np.exp(logodds)\n",
    "prob = odds / (1 + odds)\n",
    "prob"
   ]
  },
  {
   "cell_type": "code",
   "execution_count": 341,
   "metadata": {},
   "outputs": [
    {
     "data": {
      "text/plain": [
       "array([1.01155654])"
      ]
     },
     "execution_count": 341,
     "metadata": {},
     "output_type": "execute_result"
    }
   ],
   "source": [
    "odds"
   ]
  },
  {
   "cell_type": "markdown",
   "metadata": {},
   "source": [
    "### Logistic Regression with all Numeric"
   ]
  },
  {
   "cell_type": "markdown",
   "metadata": {},
   "source": [
    "#### Decide Xs/y"
   ]
  },
  {
   "cell_type": "code",
   "execution_count": 342,
   "metadata": {},
   "outputs": [],
   "source": [
    "df_lr3 = df_dt"
   ]
  },
  {
   "cell_type": "code",
   "execution_count": 343,
   "metadata": {},
   "outputs": [],
   "source": [
    "X_lr3 = df_lr3.drop(\"DAMAGE_OVER_1500\", axis=1)\n",
    "y_lr3 = df_lr3[\"DAMAGE_OVER_1500\"]"
   ]
  },
  {
   "cell_type": "markdown",
   "metadata": {},
   "source": [
    "#### Train/Test Split"
   ]
  },
  {
   "cell_type": "code",
   "execution_count": 344,
   "metadata": {},
   "outputs": [],
   "source": [
    "X_train_lr3, X_test_lr3, y_train_lr3, y_test_lr3 = train_test_split(X_lr3, y_lr3, random_state=2024)"
   ]
  },
  {
   "cell_type": "markdown",
   "metadata": {},
   "source": [
    "#### Preprocessing Steps (SS, OHE, SI)"
   ]
  },
  {
   "cell_type": "code",
   "execution_count": 345,
   "metadata": {},
   "outputs": [],
   "source": [
    "X_train_lr3_imp = encoding.fit_transform(X_train_lr3)\n",
    "X_test_lr3_imp = encoding.transform(X_test_lr3)"
   ]
  },
  {
   "cell_type": "code",
   "execution_count": 346,
   "metadata": {},
   "outputs": [
    {
     "data": {
      "text/plain": [
       "<28802x35 sparse matrix of type '<class 'numpy.float64'>'\n",
       "\twith 115208 stored elements in Compressed Sparse Row format>"
      ]
     },
     "execution_count": 346,
     "metadata": {},
     "output_type": "execute_result"
    }
   ],
   "source": [
    "ss.fit_transform(X_train_lr3_imp)\n",
    "ss.transform(X_test_lr3_imp)"
   ]
  },
  {
   "cell_type": "markdown",
   "metadata": {},
   "source": [
    "#### Modeling "
   ]
  },
  {
   "cell_type": "code",
   "execution_count": 347,
   "metadata": {},
   "outputs": [],
   "source": [
    "logreg = LogisticRegression(random_state=2024, max_iter=1000)"
   ]
  },
  {
   "cell_type": "code",
   "execution_count": 348,
   "metadata": {},
   "outputs": [],
   "source": [
    "logreg.fit(X_train_lr3_imp, y_train_lr3)\n",
    "y_pred_lr3 = logreg.predict(X_test_lr3_imp)"
   ]
  },
  {
   "cell_type": "code",
   "execution_count": 349,
   "metadata": {},
   "outputs": [
    {
     "data": {
      "text/plain": [
       "0.529442399833345"
      ]
     },
     "execution_count": 349,
     "metadata": {},
     "output_type": "execute_result"
    }
   ],
   "source": [
    "num_accuracy = accuracy_score(y_test_lr3, y_pred_lr3)\n",
    "num_accuracy"
   ]
  },
  {
   "cell_type": "code",
   "execution_count": 350,
   "metadata": {},
   "outputs": [
    {
     "data": {
      "image/png": "[encoded data removed]",
      "text/plain": [
       "<Figure size 432x288 with 2 Axes>"
      ]
     },
     "metadata": {
      "needs_background": "light"
     },
     "output_type": "display_data"
    }
   ],
   "source": [
    "fig, ax = plt.subplots()\n",
    "\n",
    "fig.suptitle(\"Logistic Regression, Scaled\")\n",
    "\n",
    "plot_confusion_matrix(logreg, X_train_lr3_imp, y_train_lr3, ax=ax, cmap=\"plasma\");"
   ]
  },
  {
   "cell_type": "code",
   "execution_count": 351,
   "metadata": {},
   "outputs": [
    {
     "data": {
      "image/png": "[encoded data removed]",
      "text/plain": [
       "<Figure size 432x288 with 1 Axes>"
      ]
     },
     "metadata": {
      "needs_background": "light"
     },
     "output_type": "display_data"
    }
   ],
   "source": [
    "plot_roc_curve(logreg, X_test_lr3_imp, y_test_lr3);"
   ]
  },
  {
   "cell_type": "code",
   "execution_count": 352,
   "metadata": {},
   "outputs": [
    {
     "data": {
      "text/plain": [
       "0.6903630592165213"
      ]
     },
     "execution_count": 352,
     "metadata": {},
     "output_type": "execute_result"
    }
   ],
   "source": [
    "log_loss(y_test_lr3, logreg.predict_proba(X_test_lr3_imp))"
   ]
  },
  {
   "cell_type": "code",
   "execution_count": 353,
   "metadata": {},
   "outputs": [
    {
     "data": {
      "text/plain": [
       "array([0.04097366])"
      ]
     },
     "execution_count": 353,
     "metadata": {},
     "output_type": "execute_result"
    }
   ],
   "source": [
    "logreg.intercept_"
   ]
  },
  {
   "cell_type": "code",
   "execution_count": 354,
   "metadata": {},
   "outputs": [
    {
     "data": {
      "text/plain": [
       "array([0.51024198])"
      ]
     },
     "execution_count": 354,
     "metadata": {},
     "output_type": "execute_result"
    }
   ],
   "source": [
    "logodds = logreg.intercept_\n",
    "odds = np.exp(logodds)\n",
    "prob = odds / (1 + odds)\n",
    "prob"
   ]
  },
  {
   "cell_type": "code",
   "execution_count": 355,
   "metadata": {},
   "outputs": [
    {
     "data": {
      "text/plain": [
       "array([1.04182466])"
      ]
     },
     "execution_count": 355,
     "metadata": {},
     "output_type": "execute_result"
    }
   ],
   "source": [
    "odds"
   ]
  },
  {
   "cell_type": "markdown",
   "metadata": {},
   "source": [
    "### Logistic Regression with All Columns"
   ]
  },
  {
   "cell_type": "markdown",
   "metadata": {},
   "source": [
    "#### Decide Xs/y"
   ]
  },
  {
   "cell_type": "code",
   "execution_count": 356,
   "metadata": {},
   "outputs": [],
   "source": [
    "dfall = df[[\"MAKE\", \"MODEL\", \"VEHICLE_YEAR\", \"VEHICLE_TYPE\", \"OCCUPANT_CNT\", \"SEX\", \"AGE\", \"IN_STATE\", \"DRIVING_SKILLS\", \"TIME_OF_DAY\", \"DAMAGE_OVER_1500\"]]"
   ]
  },
  {
   "cell_type": "code",
   "execution_count": 357,
   "metadata": {},
   "outputs": [],
   "source": [
    "X = dfall.drop(\"DAMAGE_OVER_1500\", axis=1)\n",
    "y = dfall[\"DAMAGE_OVER_1500\"]"
   ]
  },
  {
   "cell_type": "markdown",
   "metadata": {},
   "source": [
    "#### Train/Test Split"
   ]
  },
  {
   "cell_type": "code",
   "execution_count": 358,
   "metadata": {},
   "outputs": [],
   "source": [
    "X_train, X_test, y_train, y_test = train_test_split(X, y, random_state=2021)"
   ]
  },
  {
   "cell_type": "markdown",
   "metadata": {},
   "source": [
    "#### Preprocessing Steps (SS, OHE, SI)"
   ]
  },
  {
   "cell_type": "markdown",
   "metadata": {},
   "source": [
    "##### Null Indicator"
   ]
  },
  {
   "cell_type": "code",
   "execution_count": 359,
   "metadata": {},
   "outputs": [
    {
     "data": {
      "text/plain": [
       "Index(['MAKE', 'MODEL', 'VEHICLE_YEAR', 'VEHICLE_TYPE', 'OCCUPANT_CNT', 'SEX',\n",
       "       'AGE', 'IN_STATE', 'DRIVING_SKILLS', 'TIME_OF_DAY'],\n",
       "      dtype='object')"
      ]
     },
     "execution_count": 359,
     "metadata": {},
     "output_type": "execute_result"
    }
   ],
   "source": [
    "X_train.columns"
   ]
  },
  {
   "cell_type": "code",
   "execution_count": 360,
   "metadata": {},
   "outputs": [
    {
     "data": {
      "text/plain": [
       "MAKE                 0\n",
       "MODEL                0\n",
       "VEHICLE_YEAR         0\n",
       "VEHICLE_TYPE         0\n",
       "OCCUPANT_CNT         0\n",
       "SEX                  0\n",
       "AGE                  0\n",
       "IN_STATE          3551\n",
       "DRIVING_SKILLS       0\n",
       "TIME_OF_DAY          0\n",
       "dtype: int64"
      ]
     },
     "execution_count": 360,
     "metadata": {},
     "output_type": "execute_result"
    }
   ],
   "source": [
    "X_train.isna().sum()"
   ]
  },
  {
   "cell_type": "code",
   "execution_count": 361,
   "metadata": {},
   "outputs": [
    {
     "data": {
      "text/plain": [
       "MissingIndicator(features='all')"
      ]
     },
     "execution_count": 361,
     "metadata": {},
     "output_type": "execute_result"
    }
   ],
   "source": [
    "indicator = MissingIndicator(features=\"all\")\n",
    "indicator.fit(X_train)"
   ]
  },
  {
   "cell_type": "code",
   "execution_count": 362,
   "metadata": {},
   "outputs": [],
   "source": [
    "def add_missing_indicator_columns(X, indicator):\n",
    "    \"\"\"\n",
    "    Helper function for transforming features\n",
    "    \n",
    "    For every feature in X, create another feature indicating whether that feature\n",
    "    is missing. (This doubles the number of columns in X.)\n",
    "    \"\"\"\n",
    "    \n",
    "    # create a 2D array of True and False values indicating whether a given feature\n",
    "    # is missing for that row\n",
    "    missing_array_bool = indicator.transform(X)\n",
    "    \n",
    "    # transform into 1 and 0 for modeling\n",
    "    missing_array_int = missing_array_bool.astype(int)\n",
    "    \n",
    "    # helpful for readability but not needed for modeling\n",
    "    missing_column_names = [col + \"_missing\" for col in X.columns]\n",
    "    \n",
    "    # convert to df so it we can concat with X\n",
    "    missing_df = pd.DataFrame(missing_array_int, columns=missing_column_names, index=X.index)\n",
    "    \n",
    "    return pd.concat([X, missing_df], axis=1)"
   ]
  },
  {
   "cell_type": "code",
   "execution_count": 363,
   "metadata": {},
   "outputs": [],
   "source": [
    "X_train = add_missing_indicator_columns(X=X_train, indicator=indicator)"
   ]
  },
  {
   "cell_type": "code",
   "execution_count": 364,
   "metadata": {},
   "outputs": [
    {
     "data": {
      "text/html": [
       "<div>\n",
       "<style scoped>\n",
       "    .dataframe tbody tr th:only-of-type {\n",
       "        vertical-align: middle;\n",
       "    }\n",
       "\n",
       "    .dataframe tbody tr th {\n",
       "        vertical-align: top;\n",
       "    }\n",
       "\n",
       "    .dataframe thead th {\n",
       "        text-align: right;\n",
       "    }\n",
       "</style>\n",
       "<table border=\"1\" class=\"dataframe\">\n",
       "  <thead>\n",
       "    <tr style=\"text-align: right;\">\n",
       "      <th></th>\n",
       "      <th>MAKE</th>\n",
       "      <th>MODEL</th>\n",
       "      <th>VEHICLE_YEAR</th>\n",
       "      <th>VEHICLE_TYPE</th>\n",
       "      <th>OCCUPANT_CNT</th>\n",
       "      <th>SEX</th>\n",
       "      <th>AGE</th>\n",
       "      <th>IN_STATE</th>\n",
       "      <th>DRIVING_SKILLS</th>\n",
       "      <th>TIME_OF_DAY</th>\n",
       "      <th>MAKE_missing</th>\n",
       "      <th>MODEL_missing</th>\n",
       "      <th>VEHICLE_YEAR_missing</th>\n",
       "      <th>VEHICLE_TYPE_missing</th>\n",
       "      <th>OCCUPANT_CNT_missing</th>\n",
       "      <th>SEX_missing</th>\n",
       "      <th>AGE_missing</th>\n",
       "      <th>IN_STATE_missing</th>\n",
       "      <th>DRIVING_SKILLS_missing</th>\n",
       "      <th>TIME_OF_DAY_missing</th>\n",
       "    </tr>\n",
       "  </thead>\n",
       "  <tbody>\n",
       "    <tr>\n",
       "      <th>39909</th>\n",
       "      <td>TOYOTA</td>\n",
       "      <td>CAMRY</td>\n",
       "      <td>2016.0</td>\n",
       "      <td>PASSENGER</td>\n",
       "      <td>1.0</td>\n",
       "      <td>M</td>\n",
       "      <td>32.0</td>\n",
       "      <td>1.0</td>\n",
       "      <td>1</td>\n",
       "      <td>Daytime</td>\n",
       "      <td>0</td>\n",
       "      <td>0</td>\n",
       "      <td>0</td>\n",
       "      <td>0</td>\n",
       "      <td>0</td>\n",
       "      <td>0</td>\n",
       "      <td>0</td>\n",
       "      <td>0</td>\n",
       "      <td>0</td>\n",
       "      <td>0</td>\n",
       "    </tr>\n",
       "    <tr>\n",
       "      <th>97452</th>\n",
       "      <td>FORD</td>\n",
       "      <td>TAURUS</td>\n",
       "      <td>2002.0</td>\n",
       "      <td>PASSENGER</td>\n",
       "      <td>1.0</td>\n",
       "      <td>F</td>\n",
       "      <td>55.0</td>\n",
       "      <td>1.0</td>\n",
       "      <td>0</td>\n",
       "      <td>Daytime</td>\n",
       "      <td>0</td>\n",
       "      <td>0</td>\n",
       "      <td>0</td>\n",
       "      <td>0</td>\n",
       "      <td>0</td>\n",
       "      <td>0</td>\n",
       "      <td>0</td>\n",
       "      <td>0</td>\n",
       "      <td>0</td>\n",
       "      <td>0</td>\n",
       "    </tr>\n",
       "    <tr>\n",
       "      <th>97214</th>\n",
       "      <td>DODGE</td>\n",
       "      <td>RAM 2500 PU</td>\n",
       "      <td>2005.0</td>\n",
       "      <td>PICKUP</td>\n",
       "      <td>1.0</td>\n",
       "      <td>M</td>\n",
       "      <td>25.0</td>\n",
       "      <td>1.0</td>\n",
       "      <td>0</td>\n",
       "      <td>Daytime</td>\n",
       "      <td>0</td>\n",
       "      <td>0</td>\n",
       "      <td>0</td>\n",
       "      <td>0</td>\n",
       "      <td>0</td>\n",
       "      <td>0</td>\n",
       "      <td>0</td>\n",
       "      <td>0</td>\n",
       "      <td>0</td>\n",
       "      <td>0</td>\n",
       "    </tr>\n",
       "    <tr>\n",
       "      <th>115612</th>\n",
       "      <td>CHEVROLET</td>\n",
       "      <td>OTHER (EXPLAIN IN NARRATIVE)</td>\n",
       "      <td>2013.0</td>\n",
       "      <td>PASSENGER</td>\n",
       "      <td>1.0</td>\n",
       "      <td>M</td>\n",
       "      <td>33.0</td>\n",
       "      <td>0.0</td>\n",
       "      <td>0</td>\n",
       "      <td>Evening/Overnight</td>\n",
       "      <td>0</td>\n",
       "      <td>0</td>\n",
       "      <td>0</td>\n",
       "      <td>0</td>\n",
       "      <td>0</td>\n",
       "      <td>0</td>\n",
       "      <td>0</td>\n",
       "      <td>0</td>\n",
       "      <td>0</td>\n",
       "      <td>0</td>\n",
       "    </tr>\n",
       "    <tr>\n",
       "      <th>195262</th>\n",
       "      <td>NISSAN</td>\n",
       "      <td>SENTRA</td>\n",
       "      <td>2012.0</td>\n",
       "      <td>PASSENGER</td>\n",
       "      <td>1.0</td>\n",
       "      <td>F</td>\n",
       "      <td>63.0</td>\n",
       "      <td>1.0</td>\n",
       "      <td>0</td>\n",
       "      <td>Daytime</td>\n",
       "      <td>0</td>\n",
       "      <td>0</td>\n",
       "      <td>0</td>\n",
       "      <td>0</td>\n",
       "      <td>0</td>\n",
       "      <td>0</td>\n",
       "      <td>0</td>\n",
       "      <td>0</td>\n",
       "      <td>0</td>\n",
       "      <td>0</td>\n",
       "    </tr>\n",
       "  </tbody>\n",
       "</table>\n",
       "</div>"
      ],
      "text/plain": [
       "             MAKE                         MODEL  VEHICLE_YEAR VEHICLE_TYPE  \\\n",
       "39909      TOYOTA                         CAMRY        2016.0    PASSENGER   \n",
       "97452        FORD                        TAURUS        2002.0    PASSENGER   \n",
       "97214       DODGE                   RAM 2500 PU        2005.0       PICKUP   \n",
       "115612  CHEVROLET  OTHER (EXPLAIN IN NARRATIVE)        2013.0    PASSENGER   \n",
       "195262     NISSAN                        SENTRA        2012.0    PASSENGER   \n",
       "\n",
       "        OCCUPANT_CNT SEX   AGE  IN_STATE  DRIVING_SKILLS        TIME_OF_DAY  \\\n",
       "39909            1.0   M  32.0       1.0               1            Daytime   \n",
       "97452            1.0   F  55.0       1.0               0            Daytime   \n",
       "97214            1.0   M  25.0       1.0               0            Daytime   \n",
       "115612           1.0   M  33.0       0.0               0  Evening/Overnight   \n",
       "195262           1.0   F  63.0       1.0               0            Daytime   \n",
       "\n",
       "        MAKE_missing  MODEL_missing  VEHICLE_YEAR_missing  \\\n",
       "39909              0              0                     0   \n",
       "97452              0              0                     0   \n",
       "97214              0              0                     0   \n",
       "115612             0              0                     0   \n",
       "195262             0              0                     0   \n",
       "\n",
       "        VEHICLE_TYPE_missing  OCCUPANT_CNT_missing  SEX_missing  AGE_missing  \\\n",
       "39909                      0                     0            0            0   \n",
       "97452                      0                     0            0            0   \n",
       "97214                      0                     0            0            0   \n",
       "115612                     0                     0            0            0   \n",
       "195262                     0                     0            0            0   \n",
       "\n",
       "        IN_STATE_missing  DRIVING_SKILLS_missing  TIME_OF_DAY_missing  \n",
       "39909                  0                       0                    0  \n",
       "97452                  0                       0                    0  \n",
       "97214                  0                       0                    0  \n",
       "115612                 0                       0                    0  \n",
       "195262                 0                       0                    0  "
      ]
     },
     "execution_count": 364,
     "metadata": {},
     "output_type": "execute_result"
    }
   ],
   "source": [
    "X_train.head()"
   ]
  },
  {
   "cell_type": "markdown",
   "metadata": {},
   "source": [
    "##### Simple Imputer"
   ]
  },
  {
   "cell_type": "code",
   "execution_count": 365,
   "metadata": {},
   "outputs": [],
   "source": [
    "numeric_feature_names = [\"VEHICLE_YEAR\", \"OCCUPANT_CNT\", \"AGE\"]\n",
    "categorical_feature_names = [\"MAKE\", \"MODEL\", \"VEHICLE_TYPE\", \"SEX\", \"IN_STATE\", \"DRIVING_SKILLS\", \"TIME_OF_DAY\"]\n",
    "\n",
    "X_train_numeric = X_train[numeric_feature_names]\n",
    "X_train_categorical = X_train[categorical_feature_names]"
   ]
  },
  {
   "cell_type": "code",
   "execution_count": 366,
   "metadata": {},
   "outputs": [
    {
     "data": {
      "text/plain": [
       "SimpleImputer()"
      ]
     },
     "execution_count": 366,
     "metadata": {},
     "output_type": "execute_result"
    }
   ],
   "source": [
    "numeric_imputer = SimpleImputer()\n",
    "numeric_imputer.fit(X_train_numeric)"
   ]
  },
  {
   "cell_type": "code",
   "execution_count": 367,
   "metadata": {},
   "outputs": [
    {
     "data": {
      "text/plain": [
       "SimpleImputer(strategy='most_frequent')"
      ]
     },
     "execution_count": 367,
     "metadata": {},
     "output_type": "execute_result"
    }
   ],
   "source": [
    "categorical_imputer = SimpleImputer(strategy=\"most_frequent\")\n",
    "categorical_imputer.fit(X_train_categorical)"
   ]
  },
  {
   "cell_type": "code",
   "execution_count": 368,
   "metadata": {},
   "outputs": [],
   "source": [
    "def impute_missing_values(X, imputer):\n",
    "    \"\"\"\n",
    "    Given a DataFrame and an imputer, use the imputer to fill in all\n",
    "    missing values in the DataFrame\n",
    "    \"\"\"\n",
    "    imputed_array = imputer.transform(X)\n",
    "    imputed_df = pd.DataFrame(imputed_array, columns=X.columns, index=X.index)\n",
    "    return imputed_df"
   ]
  },
  {
   "cell_type": "code",
   "execution_count": 369,
   "metadata": {},
   "outputs": [],
   "source": [
    "X_train_numeric = impute_missing_values(X_train_numeric, numeric_imputer)\n",
    "X_train_categorical = impute_missing_values(X_train_categorical, categorical_imputer)"
   ]
  },
  {
   "cell_type": "code",
   "execution_count": 370,
   "metadata": {},
   "outputs": [
    {
     "data": {
      "text/plain": [
       "VEHICLE_YEAR      0\n",
       "OCCUPANT_CNT      0\n",
       "AGE               0\n",
       "MAKE              0\n",
       "MODEL             0\n",
       "VEHICLE_TYPE      0\n",
       "SEX               0\n",
       "IN_STATE          0\n",
       "DRIVING_SKILLS    0\n",
       "TIME_OF_DAY       0\n",
       "dtype: int64"
      ]
     },
     "execution_count": 370,
     "metadata": {},
     "output_type": "execute_result"
    }
   ],
   "source": [
    "X_train_imputed = pd.concat([X_train_numeric, X_train_categorical], axis=1)\n",
    "X_train_imputed.isna().sum()"
   ]
  },
  {
   "cell_type": "code",
   "execution_count": 371,
   "metadata": {},
   "outputs": [
    {
     "data": {
      "text/html": [
       "<div>\n",
       "<style scoped>\n",
       "    .dataframe tbody tr th:only-of-type {\n",
       "        vertical-align: middle;\n",
       "    }\n",
       "\n",
       "    .dataframe tbody tr th {\n",
       "        vertical-align: top;\n",
       "    }\n",
       "\n",
       "    .dataframe thead th {\n",
       "        text-align: right;\n",
       "    }\n",
       "</style>\n",
       "<table border=\"1\" class=\"dataframe\">\n",
       "  <thead>\n",
       "    <tr style=\"text-align: right;\">\n",
       "      <th></th>\n",
       "      <th>VEHICLE_YEAR</th>\n",
       "      <th>OCCUPANT_CNT</th>\n",
       "      <th>AGE</th>\n",
       "      <th>MAKE</th>\n",
       "      <th>MODEL</th>\n",
       "      <th>VEHICLE_TYPE</th>\n",
       "      <th>SEX</th>\n",
       "      <th>IN_STATE</th>\n",
       "      <th>DRIVING_SKILLS</th>\n",
       "      <th>TIME_OF_DAY</th>\n",
       "    </tr>\n",
       "  </thead>\n",
       "  <tbody>\n",
       "    <tr>\n",
       "      <th>39909</th>\n",
       "      <td>2016.0</td>\n",
       "      <td>1.0</td>\n",
       "      <td>32.0</td>\n",
       "      <td>TOYOTA</td>\n",
       "      <td>CAMRY</td>\n",
       "      <td>PASSENGER</td>\n",
       "      <td>M</td>\n",
       "      <td>1</td>\n",
       "      <td>1</td>\n",
       "      <td>Daytime</td>\n",
       "    </tr>\n",
       "    <tr>\n",
       "      <th>97452</th>\n",
       "      <td>2002.0</td>\n",
       "      <td>1.0</td>\n",
       "      <td>55.0</td>\n",
       "      <td>FORD</td>\n",
       "      <td>TAURUS</td>\n",
       "      <td>PASSENGER</td>\n",
       "      <td>F</td>\n",
       "      <td>1</td>\n",
       "      <td>0</td>\n",
       "      <td>Daytime</td>\n",
       "    </tr>\n",
       "    <tr>\n",
       "      <th>97214</th>\n",
       "      <td>2005.0</td>\n",
       "      <td>1.0</td>\n",
       "      <td>25.0</td>\n",
       "      <td>DODGE</td>\n",
       "      <td>RAM 2500 PU</td>\n",
       "      <td>PICKUP</td>\n",
       "      <td>M</td>\n",
       "      <td>1</td>\n",
       "      <td>0</td>\n",
       "      <td>Daytime</td>\n",
       "    </tr>\n",
       "    <tr>\n",
       "      <th>115612</th>\n",
       "      <td>2013.0</td>\n",
       "      <td>1.0</td>\n",
       "      <td>33.0</td>\n",
       "      <td>CHEVROLET</td>\n",
       "      <td>OTHER (EXPLAIN IN NARRATIVE)</td>\n",
       "      <td>PASSENGER</td>\n",
       "      <td>M</td>\n",
       "      <td>0</td>\n",
       "      <td>0</td>\n",
       "      <td>Evening/Overnight</td>\n",
       "    </tr>\n",
       "    <tr>\n",
       "      <th>195262</th>\n",
       "      <td>2012.0</td>\n",
       "      <td>1.0</td>\n",
       "      <td>63.0</td>\n",
       "      <td>NISSAN</td>\n",
       "      <td>SENTRA</td>\n",
       "      <td>PASSENGER</td>\n",
       "      <td>F</td>\n",
       "      <td>1</td>\n",
       "      <td>0</td>\n",
       "      <td>Daytime</td>\n",
       "    </tr>\n",
       "  </tbody>\n",
       "</table>\n",
       "</div>"
      ],
      "text/plain": [
       "        VEHICLE_YEAR  OCCUPANT_CNT   AGE       MAKE  \\\n",
       "39909         2016.0           1.0  32.0     TOYOTA   \n",
       "97452         2002.0           1.0  55.0       FORD   \n",
       "97214         2005.0           1.0  25.0      DODGE   \n",
       "115612        2013.0           1.0  33.0  CHEVROLET   \n",
       "195262        2012.0           1.0  63.0     NISSAN   \n",
       "\n",
       "                               MODEL VEHICLE_TYPE SEX IN_STATE DRIVING_SKILLS  \\\n",
       "39909                          CAMRY    PASSENGER   M        1              1   \n",
       "97452                         TAURUS    PASSENGER   F        1              0   \n",
       "97214                    RAM 2500 PU       PICKUP   M        1              0   \n",
       "115612  OTHER (EXPLAIN IN NARRATIVE)    PASSENGER   M        0              0   \n",
       "195262                        SENTRA    PASSENGER   F        1              0   \n",
       "\n",
       "              TIME_OF_DAY  \n",
       "39909             Daytime  \n",
       "97452             Daytime  \n",
       "97214             Daytime  \n",
       "115612  Evening/Overnight  \n",
       "195262            Daytime  "
      ]
     },
     "execution_count": 371,
     "metadata": {},
     "output_type": "execute_result"
    }
   ],
   "source": [
    "X_train_imputed.head()"
   ]
  },
  {
   "cell_type": "code",
   "execution_count": 372,
   "metadata": {},
   "outputs": [],
   "source": [
    "X_train = X_train.drop(numeric_feature_names + categorical_feature_names, axis=1)\n",
    "X_train = pd.concat([X_train_imputed, X_train], axis=1)"
   ]
  },
  {
   "cell_type": "code",
   "execution_count": 373,
   "metadata": {},
   "outputs": [
    {
     "data": {
      "text/html": [
       "<div>\n",
       "<style scoped>\n",
       "    .dataframe tbody tr th:only-of-type {\n",
       "        vertical-align: middle;\n",
       "    }\n",
       "\n",
       "    .dataframe tbody tr th {\n",
       "        vertical-align: top;\n",
       "    }\n",
       "\n",
       "    .dataframe thead th {\n",
       "        text-align: right;\n",
       "    }\n",
       "</style>\n",
       "<table border=\"1\" class=\"dataframe\">\n",
       "  <thead>\n",
       "    <tr style=\"text-align: right;\">\n",
       "      <th></th>\n",
       "      <th>VEHICLE_YEAR</th>\n",
       "      <th>OCCUPANT_CNT</th>\n",
       "      <th>AGE</th>\n",
       "      <th>MAKE</th>\n",
       "      <th>MODEL</th>\n",
       "      <th>VEHICLE_TYPE</th>\n",
       "      <th>SEX</th>\n",
       "      <th>IN_STATE</th>\n",
       "      <th>DRIVING_SKILLS</th>\n",
       "      <th>TIME_OF_DAY</th>\n",
       "      <th>MAKE_missing</th>\n",
       "      <th>MODEL_missing</th>\n",
       "      <th>VEHICLE_YEAR_missing</th>\n",
       "      <th>VEHICLE_TYPE_missing</th>\n",
       "      <th>OCCUPANT_CNT_missing</th>\n",
       "      <th>SEX_missing</th>\n",
       "      <th>AGE_missing</th>\n",
       "      <th>IN_STATE_missing</th>\n",
       "      <th>DRIVING_SKILLS_missing</th>\n",
       "      <th>TIME_OF_DAY_missing</th>\n",
       "    </tr>\n",
       "  </thead>\n",
       "  <tbody>\n",
       "    <tr>\n",
       "      <th>39909</th>\n",
       "      <td>2016.0</td>\n",
       "      <td>1.0</td>\n",
       "      <td>32.0</td>\n",
       "      <td>TOYOTA</td>\n",
       "      <td>CAMRY</td>\n",
       "      <td>PASSENGER</td>\n",
       "      <td>M</td>\n",
       "      <td>1</td>\n",
       "      <td>1</td>\n",
       "      <td>Daytime</td>\n",
       "      <td>0</td>\n",
       "      <td>0</td>\n",
       "      <td>0</td>\n",
       "      <td>0</td>\n",
       "      <td>0</td>\n",
       "      <td>0</td>\n",
       "      <td>0</td>\n",
       "      <td>0</td>\n",
       "      <td>0</td>\n",
       "      <td>0</td>\n",
       "    </tr>\n",
       "    <tr>\n",
       "      <th>97452</th>\n",
       "      <td>2002.0</td>\n",
       "      <td>1.0</td>\n",
       "      <td>55.0</td>\n",
       "      <td>FORD</td>\n",
       "      <td>TAURUS</td>\n",
       "      <td>PASSENGER</td>\n",
       "      <td>F</td>\n",
       "      <td>1</td>\n",
       "      <td>0</td>\n",
       "      <td>Daytime</td>\n",
       "      <td>0</td>\n",
       "      <td>0</td>\n",
       "      <td>0</td>\n",
       "      <td>0</td>\n",
       "      <td>0</td>\n",
       "      <td>0</td>\n",
       "      <td>0</td>\n",
       "      <td>0</td>\n",
       "      <td>0</td>\n",
       "      <td>0</td>\n",
       "    </tr>\n",
       "    <tr>\n",
       "      <th>97214</th>\n",
       "      <td>2005.0</td>\n",
       "      <td>1.0</td>\n",
       "      <td>25.0</td>\n",
       "      <td>DODGE</td>\n",
       "      <td>RAM 2500 PU</td>\n",
       "      <td>PICKUP</td>\n",
       "      <td>M</td>\n",
       "      <td>1</td>\n",
       "      <td>0</td>\n",
       "      <td>Daytime</td>\n",
       "      <td>0</td>\n",
       "      <td>0</td>\n",
       "      <td>0</td>\n",
       "      <td>0</td>\n",
       "      <td>0</td>\n",
       "      <td>0</td>\n",
       "      <td>0</td>\n",
       "      <td>0</td>\n",
       "      <td>0</td>\n",
       "      <td>0</td>\n",
       "    </tr>\n",
       "    <tr>\n",
       "      <th>115612</th>\n",
       "      <td>2013.0</td>\n",
       "      <td>1.0</td>\n",
       "      <td>33.0</td>\n",
       "      <td>CHEVROLET</td>\n",
       "      <td>OTHER (EXPLAIN IN NARRATIVE)</td>\n",
       "      <td>PASSENGER</td>\n",
       "      <td>M</td>\n",
       "      <td>0</td>\n",
       "      <td>0</td>\n",
       "      <td>Evening/Overnight</td>\n",
       "      <td>0</td>\n",
       "      <td>0</td>\n",
       "      <td>0</td>\n",
       "      <td>0</td>\n",
       "      <td>0</td>\n",
       "      <td>0</td>\n",
       "      <td>0</td>\n",
       "      <td>0</td>\n",
       "      <td>0</td>\n",
       "      <td>0</td>\n",
       "    </tr>\n",
       "    <tr>\n",
       "      <th>195262</th>\n",
       "      <td>2012.0</td>\n",
       "      <td>1.0</td>\n",
       "      <td>63.0</td>\n",
       "      <td>NISSAN</td>\n",
       "      <td>SENTRA</td>\n",
       "      <td>PASSENGER</td>\n",
       "      <td>F</td>\n",
       "      <td>1</td>\n",
       "      <td>0</td>\n",
       "      <td>Daytime</td>\n",
       "      <td>0</td>\n",
       "      <td>0</td>\n",
       "      <td>0</td>\n",
       "      <td>0</td>\n",
       "      <td>0</td>\n",
       "      <td>0</td>\n",
       "      <td>0</td>\n",
       "      <td>0</td>\n",
       "      <td>0</td>\n",
       "      <td>0</td>\n",
       "    </tr>\n",
       "  </tbody>\n",
       "</table>\n",
       "</div>"
      ],
      "text/plain": [
       "        VEHICLE_YEAR  OCCUPANT_CNT   AGE       MAKE  \\\n",
       "39909         2016.0           1.0  32.0     TOYOTA   \n",
       "97452         2002.0           1.0  55.0       FORD   \n",
       "97214         2005.0           1.0  25.0      DODGE   \n",
       "115612        2013.0           1.0  33.0  CHEVROLET   \n",
       "195262        2012.0           1.0  63.0     NISSAN   \n",
       "\n",
       "                               MODEL VEHICLE_TYPE SEX IN_STATE DRIVING_SKILLS  \\\n",
       "39909                          CAMRY    PASSENGER   M        1              1   \n",
       "97452                         TAURUS    PASSENGER   F        1              0   \n",
       "97214                    RAM 2500 PU       PICKUP   M        1              0   \n",
       "115612  OTHER (EXPLAIN IN NARRATIVE)    PASSENGER   M        0              0   \n",
       "195262                        SENTRA    PASSENGER   F        1              0   \n",
       "\n",
       "              TIME_OF_DAY  MAKE_missing  MODEL_missing  VEHICLE_YEAR_missing  \\\n",
       "39909             Daytime             0              0                     0   \n",
       "97452             Daytime             0              0                     0   \n",
       "97214             Daytime             0              0                     0   \n",
       "115612  Evening/Overnight             0              0                     0   \n",
       "195262            Daytime             0              0                     0   \n",
       "\n",
       "        VEHICLE_TYPE_missing  OCCUPANT_CNT_missing  SEX_missing  AGE_missing  \\\n",
       "39909                      0                     0            0            0   \n",
       "97452                      0                     0            0            0   \n",
       "97214                      0                     0            0            0   \n",
       "115612                     0                     0            0            0   \n",
       "195262                     0                     0            0            0   \n",
       "\n",
       "        IN_STATE_missing  DRIVING_SKILLS_missing  TIME_OF_DAY_missing  \n",
       "39909                  0                       0                    0  \n",
       "97452                  0                       0                    0  \n",
       "97214                  0                       0                    0  \n",
       "115612                 0                       0                    0  \n",
       "195262                 0                       0                    0  "
      ]
     },
     "execution_count": 373,
     "metadata": {},
     "output_type": "execute_result"
    }
   ],
   "source": [
    "X_train.head()"
   ]
  },
  {
   "cell_type": "code",
   "execution_count": 374,
   "metadata": {},
   "outputs": [
    {
     "data": {
      "text/plain": [
       "VEHICLE_YEAR              0\n",
       "OCCUPANT_CNT              0\n",
       "AGE                       0\n",
       "MAKE                      0\n",
       "MODEL                     0\n",
       "VEHICLE_TYPE              0\n",
       "SEX                       0\n",
       "IN_STATE                  0\n",
       "DRIVING_SKILLS            0\n",
       "TIME_OF_DAY               0\n",
       "MAKE_missing              0\n",
       "MODEL_missing             0\n",
       "VEHICLE_YEAR_missing      0\n",
       "VEHICLE_TYPE_missing      0\n",
       "OCCUPANT_CNT_missing      0\n",
       "SEX_missing               0\n",
       "AGE_missing               0\n",
       "IN_STATE_missing          0\n",
       "DRIVING_SKILLS_missing    0\n",
       "TIME_OF_DAY_missing       0\n",
       "dtype: int64"
      ]
     },
     "execution_count": 374,
     "metadata": {},
     "output_type": "execute_result"
    }
   ],
   "source": [
    "X_train.isna().sum()"
   ]
  },
  {
   "cell_type": "markdown",
   "metadata": {},
   "source": [
    "##### OHE"
   ]
  },
  {
   "cell_type": "code",
   "execution_count": 375,
   "metadata": {},
   "outputs": [],
   "source": [
    "def encode_and_concat_feature_train(X_train, feature_name):\n",
    "    \"\"\"\n",
    "    Helper function for transforming training data.  It takes in the full X dataframe and\n",
    "    feature name, makes a one-hot encoder, and returns the encoder as well as the dataframe\n",
    "    with that feature transformed into multiple columns of 1s and 0s\n",
    "    \"\"\"\n",
    "    # make a one-hot encoder and fit it to the training data\n",
    "    ohe = OneHotEncoder(categories=\"auto\", handle_unknown=\"ignore\")\n",
    "    single_feature_df = X_train[[feature_name]]\n",
    "    ohe.fit(single_feature_df)\n",
    "    \n",
    "    # call helper function that actually encodes the feature and concats it\n",
    "    X_train = encode_and_concat_feature(X_train, feature_name, ohe)\n",
    "    \n",
    "    return ohe, X_train"
   ]
  },
  {
   "cell_type": "code",
   "execution_count": 376,
   "metadata": {},
   "outputs": [],
   "source": [
    "def encode_and_concat_feature(X, feature_name, ohe):\n",
    "    \"\"\"\n",
    "    Helper function for transforming a feature into multiple columns of 1s and 0s. Used\n",
    "    in both training and testing steps.  Takes in the full X dataframe, feature name, \n",
    "    and encoder, and returns the dataframe with that feature transformed into multiple\n",
    "    columns of 1s and 0s\n",
    "    \"\"\"\n",
    "    # create new one-hot encoded df based on the feature\n",
    "    single_feature_df = X[[feature_name]]\n",
    "    feature_array = ohe.transform(single_feature_df).toarray()\n",
    "    ohe_df = pd.DataFrame(feature_array, columns=ohe.categories_[0], index=X.index)\n",
    "    \n",
    "    # drop the old feature from X and concat the new one-hot encoded df\n",
    "    X = X.drop(feature_name, axis=1)\n",
    "    X = pd.concat([X, ohe_df], axis=1)\n",
    "    \n",
    "    return X"
   ]
  },
  {
   "cell_type": "code",
   "execution_count": 377,
   "metadata": {},
   "outputs": [],
   "source": [
    "encoders = {}\n",
    "\n",
    "for categorical_feature in categorical_feature_names:\n",
    "    ohe, X_train = encode_and_concat_feature_train(X_train, categorical_feature)\n",
    "    encoders[categorical_feature] = ohe"
   ]
  },
  {
   "cell_type": "code",
   "execution_count": 378,
   "metadata": {},
   "outputs": [
    {
     "data": {
      "text/plain": [
       "{'MAKE': OneHotEncoder(handle_unknown='ignore'),\n",
       " 'MODEL': OneHotEncoder(handle_unknown='ignore'),\n",
       " 'VEHICLE_TYPE': OneHotEncoder(handle_unknown='ignore'),\n",
       " 'SEX': OneHotEncoder(handle_unknown='ignore'),\n",
       " 'IN_STATE': OneHotEncoder(handle_unknown='ignore'),\n",
       " 'DRIVING_SKILLS': OneHotEncoder(handle_unknown='ignore'),\n",
       " 'TIME_OF_DAY': OneHotEncoder(handle_unknown='ignore')}"
      ]
     },
     "execution_count": 378,
     "metadata": {},
     "output_type": "execute_result"
    }
   ],
   "source": [
    "encoders"
   ]
  },
  {
   "cell_type": "code",
   "execution_count": 379,
   "metadata": {},
   "outputs": [
    {
     "data": {
      "text/html": [
       "<div>\n",
       "<style scoped>\n",
       "    .dataframe tbody tr th:only-of-type {\n",
       "        vertical-align: middle;\n",
       "    }\n",
       "\n",
       "    .dataframe tbody tr th {\n",
       "        vertical-align: top;\n",
       "    }\n",
       "\n",
       "    .dataframe thead th {\n",
       "        text-align: right;\n",
       "    }\n",
       "</style>\n",
       "<table border=\"1\" class=\"dataframe\">\n",
       "  <thead>\n",
       "    <tr style=\"text-align: right;\">\n",
       "      <th></th>\n",
       "      <th>VEHICLE_YEAR</th>\n",
       "      <th>OCCUPANT_CNT</th>\n",
       "      <th>AGE</th>\n",
       "      <th>MAKE_missing</th>\n",
       "      <th>MODEL_missing</th>\n",
       "      <th>VEHICLE_YEAR_missing</th>\n",
       "      <th>VEHICLE_TYPE_missing</th>\n",
       "      <th>OCCUPANT_CNT_missing</th>\n",
       "      <th>SEX_missing</th>\n",
       "      <th>AGE_missing</th>\n",
       "      <th>...</th>\n",
       "      <th>F</th>\n",
       "      <th>M</th>\n",
       "      <th>X</th>\n",
       "      <th>0.0</th>\n",
       "      <th>1.0</th>\n",
       "      <th>0</th>\n",
       "      <th>1</th>\n",
       "      <th>Commute</th>\n",
       "      <th>Daytime</th>\n",
       "      <th>Evening/Overnight</th>\n",
       "    </tr>\n",
       "  </thead>\n",
       "  <tbody>\n",
       "    <tr>\n",
       "      <th>39909</th>\n",
       "      <td>2016.0</td>\n",
       "      <td>1.0</td>\n",
       "      <td>32.0</td>\n",
       "      <td>0</td>\n",
       "      <td>0</td>\n",
       "      <td>0</td>\n",
       "      <td>0</td>\n",
       "      <td>0</td>\n",
       "      <td>0</td>\n",
       "      <td>0</td>\n",
       "      <td>...</td>\n",
       "      <td>0.0</td>\n",
       "      <td>1.0</td>\n",
       "      <td>0.0</td>\n",
       "      <td>0.0</td>\n",
       "      <td>1.0</td>\n",
       "      <td>0.0</td>\n",
       "      <td>1.0</td>\n",
       "      <td>0.0</td>\n",
       "      <td>1.0</td>\n",
       "      <td>0.0</td>\n",
       "    </tr>\n",
       "    <tr>\n",
       "      <th>97452</th>\n",
       "      <td>2002.0</td>\n",
       "      <td>1.0</td>\n",
       "      <td>55.0</td>\n",
       "      <td>0</td>\n",
       "      <td>0</td>\n",
       "      <td>0</td>\n",
       "      <td>0</td>\n",
       "      <td>0</td>\n",
       "      <td>0</td>\n",
       "      <td>0</td>\n",
       "      <td>...</td>\n",
       "      <td>1.0</td>\n",
       "      <td>0.0</td>\n",
       "      <td>0.0</td>\n",
       "      <td>0.0</td>\n",
       "      <td>1.0</td>\n",
       "      <td>1.0</td>\n",
       "      <td>0.0</td>\n",
       "      <td>0.0</td>\n",
       "      <td>1.0</td>\n",
       "      <td>0.0</td>\n",
       "    </tr>\n",
       "    <tr>\n",
       "      <th>97214</th>\n",
       "      <td>2005.0</td>\n",
       "      <td>1.0</td>\n",
       "      <td>25.0</td>\n",
       "      <td>0</td>\n",
       "      <td>0</td>\n",
       "      <td>0</td>\n",
       "      <td>0</td>\n",
       "      <td>0</td>\n",
       "      <td>0</td>\n",
       "      <td>0</td>\n",
       "      <td>...</td>\n",
       "      <td>0.0</td>\n",
       "      <td>1.0</td>\n",
       "      <td>0.0</td>\n",
       "      <td>0.0</td>\n",
       "      <td>1.0</td>\n",
       "      <td>1.0</td>\n",
       "      <td>0.0</td>\n",
       "      <td>0.0</td>\n",
       "      <td>1.0</td>\n",
       "      <td>0.0</td>\n",
       "    </tr>\n",
       "    <tr>\n",
       "      <th>115612</th>\n",
       "      <td>2013.0</td>\n",
       "      <td>1.0</td>\n",
       "      <td>33.0</td>\n",
       "      <td>0</td>\n",
       "      <td>0</td>\n",
       "      <td>0</td>\n",
       "      <td>0</td>\n",
       "      <td>0</td>\n",
       "      <td>0</td>\n",
       "      <td>0</td>\n",
       "      <td>...</td>\n",
       "      <td>0.0</td>\n",
       "      <td>1.0</td>\n",
       "      <td>0.0</td>\n",
       "      <td>1.0</td>\n",
       "      <td>0.0</td>\n",
       "      <td>1.0</td>\n",
       "      <td>0.0</td>\n",
       "      <td>0.0</td>\n",
       "      <td>0.0</td>\n",
       "      <td>1.0</td>\n",
       "    </tr>\n",
       "    <tr>\n",
       "      <th>195262</th>\n",
       "      <td>2012.0</td>\n",
       "      <td>1.0</td>\n",
       "      <td>63.0</td>\n",
       "      <td>0</td>\n",
       "      <td>0</td>\n",
       "      <td>0</td>\n",
       "      <td>0</td>\n",
       "      <td>0</td>\n",
       "      <td>0</td>\n",
       "      <td>0</td>\n",
       "      <td>...</td>\n",
       "      <td>1.0</td>\n",
       "      <td>0.0</td>\n",
       "      <td>0.0</td>\n",
       "      <td>0.0</td>\n",
       "      <td>1.0</td>\n",
       "      <td>1.0</td>\n",
       "      <td>0.0</td>\n",
       "      <td>0.0</td>\n",
       "      <td>1.0</td>\n",
       "      <td>0.0</td>\n",
       "    </tr>\n",
       "  </tbody>\n",
       "</table>\n",
       "<p>5 rows × 354 columns</p>\n",
       "</div>"
      ],
      "text/plain": [
       "        VEHICLE_YEAR  OCCUPANT_CNT   AGE  MAKE_missing  MODEL_missing  \\\n",
       "39909         2016.0           1.0  32.0             0              0   \n",
       "97452         2002.0           1.0  55.0             0              0   \n",
       "97214         2005.0           1.0  25.0             0              0   \n",
       "115612        2013.0           1.0  33.0             0              0   \n",
       "195262        2012.0           1.0  63.0             0              0   \n",
       "\n",
       "        VEHICLE_YEAR_missing  VEHICLE_TYPE_missing  OCCUPANT_CNT_missing  \\\n",
       "39909                      0                     0                     0   \n",
       "97452                      0                     0                     0   \n",
       "97214                      0                     0                     0   \n",
       "115612                     0                     0                     0   \n",
       "195262                     0                     0                     0   \n",
       "\n",
       "        SEX_missing  AGE_missing  ...    F    M    X  0.0  1.0    0    1  \\\n",
       "39909             0            0  ...  0.0  1.0  0.0  0.0  1.0  0.0  1.0   \n",
       "97452             0            0  ...  1.0  0.0  0.0  0.0  1.0  1.0  0.0   \n",
       "97214             0            0  ...  0.0  1.0  0.0  0.0  1.0  1.0  0.0   \n",
       "115612            0            0  ...  0.0  1.0  0.0  1.0  0.0  1.0  0.0   \n",
       "195262            0            0  ...  1.0  0.0  0.0  0.0  1.0  1.0  0.0   \n",
       "\n",
       "        Commute  Daytime  Evening/Overnight  \n",
       "39909       0.0      1.0                0.0  \n",
       "97452       0.0      1.0                0.0  \n",
       "97214       0.0      1.0                0.0  \n",
       "115612      0.0      0.0                1.0  \n",
       "195262      0.0      1.0                0.0  \n",
       "\n",
       "[5 rows x 354 columns]"
      ]
     },
     "execution_count": 379,
     "metadata": {},
     "output_type": "execute_result"
    }
   ],
   "source": [
    "X_train.head()"
   ]
  },
  {
   "cell_type": "code",
   "execution_count": 380,
   "metadata": {},
   "outputs": [
    {
     "data": {
      "text/plain": [
       "(86406, 354)"
      ]
     },
     "execution_count": 380,
     "metadata": {},
     "output_type": "execute_result"
    }
   ],
   "source": [
    "X_train.shape"
   ]
  },
  {
   "cell_type": "markdown",
   "metadata": {},
   "source": [
    "##### Standard Scale"
   ]
  },
  {
   "cell_type": "code",
   "execution_count": 381,
   "metadata": {},
   "outputs": [
    {
     "data": {
      "text/plain": [
       "StandardScaler()"
      ]
     },
     "execution_count": 381,
     "metadata": {},
     "output_type": "execute_result"
    }
   ],
   "source": [
    "scaler = StandardScaler()\n",
    "\n",
    "scaler.fit(X_train)"
   ]
  },
  {
   "cell_type": "code",
   "execution_count": 382,
   "metadata": {},
   "outputs": [],
   "source": [
    "def scale_values(X, scaler):\n",
    "    \"\"\"\n",
    "    Given a DataFrame and a fitted scaler, use the scaler to scale all of the features\n",
    "    \"\"\"\n",
    "    scaled_array = scaler.transform(X)\n",
    "    scaled_df = pd.DataFrame(scaled_array, columns=X.columns, index=X.index)\n",
    "    return scaled_df"
   ]
  },
  {
   "cell_type": "code",
   "execution_count": 383,
   "metadata": {},
   "outputs": [],
   "source": [
    "X_train = scale_values(X_train, scaler)"
   ]
  },
  {
   "cell_type": "code",
   "execution_count": 384,
   "metadata": {},
   "outputs": [
    {
     "data": {
      "text/html": [
       "<div>\n",
       "<style scoped>\n",
       "    .dataframe tbody tr th:only-of-type {\n",
       "        vertical-align: middle;\n",
       "    }\n",
       "\n",
       "    .dataframe tbody tr th {\n",
       "        vertical-align: top;\n",
       "    }\n",
       "\n",
       "    .dataframe thead th {\n",
       "        text-align: right;\n",
       "    }\n",
       "</style>\n",
       "<table border=\"1\" class=\"dataframe\">\n",
       "  <thead>\n",
       "    <tr style=\"text-align: right;\">\n",
       "      <th></th>\n",
       "      <th>VEHICLE_YEAR</th>\n",
       "      <th>OCCUPANT_CNT</th>\n",
       "      <th>AGE</th>\n",
       "      <th>MAKE_missing</th>\n",
       "      <th>MODEL_missing</th>\n",
       "      <th>VEHICLE_YEAR_missing</th>\n",
       "      <th>VEHICLE_TYPE_missing</th>\n",
       "      <th>OCCUPANT_CNT_missing</th>\n",
       "      <th>SEX_missing</th>\n",
       "      <th>AGE_missing</th>\n",
       "      <th>...</th>\n",
       "      <th>F</th>\n",
       "      <th>M</th>\n",
       "      <th>X</th>\n",
       "      <th>0.0</th>\n",
       "      <th>1.0</th>\n",
       "      <th>0</th>\n",
       "      <th>1</th>\n",
       "      <th>Commute</th>\n",
       "      <th>Daytime</th>\n",
       "      <th>Evening/Overnight</th>\n",
       "    </tr>\n",
       "  </thead>\n",
       "  <tbody>\n",
       "    <tr>\n",
       "      <th>39909</th>\n",
       "      <td>0.445758</td>\n",
       "      <td>-0.417287</td>\n",
       "      <td>-0.507007</td>\n",
       "      <td>0.0</td>\n",
       "      <td>0.0</td>\n",
       "      <td>0.0</td>\n",
       "      <td>0.0</td>\n",
       "      <td>0.0</td>\n",
       "      <td>0.0</td>\n",
       "      <td>0.0</td>\n",
       "      <td>...</td>\n",
       "      <td>-0.908651</td>\n",
       "      <td>0.910435</td>\n",
       "      <td>-0.031195</td>\n",
       "      <td>-0.252610</td>\n",
       "      <td>0.252610</td>\n",
       "      <td>-3.909158</td>\n",
       "      <td>3.909158</td>\n",
       "      <td>-0.739106</td>\n",
       "      <td>1.246070</td>\n",
       "      <td>-0.585004</td>\n",
       "    </tr>\n",
       "    <tr>\n",
       "      <th>97452</th>\n",
       "      <td>-2.022020</td>\n",
       "      <td>-0.417287</td>\n",
       "      <td>0.960697</td>\n",
       "      <td>0.0</td>\n",
       "      <td>0.0</td>\n",
       "      <td>0.0</td>\n",
       "      <td>0.0</td>\n",
       "      <td>0.0</td>\n",
       "      <td>0.0</td>\n",
       "      <td>0.0</td>\n",
       "      <td>...</td>\n",
       "      <td>1.100533</td>\n",
       "      <td>-1.098376</td>\n",
       "      <td>-0.031195</td>\n",
       "      <td>-0.252610</td>\n",
       "      <td>0.252610</td>\n",
       "      <td>0.255810</td>\n",
       "      <td>-0.255810</td>\n",
       "      <td>-0.739106</td>\n",
       "      <td>1.246070</td>\n",
       "      <td>-0.585004</td>\n",
       "    </tr>\n",
       "    <tr>\n",
       "      <th>97214</th>\n",
       "      <td>-1.493210</td>\n",
       "      <td>-0.417287</td>\n",
       "      <td>-0.953699</td>\n",
       "      <td>0.0</td>\n",
       "      <td>0.0</td>\n",
       "      <td>0.0</td>\n",
       "      <td>0.0</td>\n",
       "      <td>0.0</td>\n",
       "      <td>0.0</td>\n",
       "      <td>0.0</td>\n",
       "      <td>...</td>\n",
       "      <td>-0.908651</td>\n",
       "      <td>0.910435</td>\n",
       "      <td>-0.031195</td>\n",
       "      <td>-0.252610</td>\n",
       "      <td>0.252610</td>\n",
       "      <td>0.255810</td>\n",
       "      <td>-0.255810</td>\n",
       "      <td>-0.739106</td>\n",
       "      <td>1.246070</td>\n",
       "      <td>-0.585004</td>\n",
       "    </tr>\n",
       "    <tr>\n",
       "      <th>115612</th>\n",
       "      <td>-0.083051</td>\n",
       "      <td>-0.417287</td>\n",
       "      <td>-0.443193</td>\n",
       "      <td>0.0</td>\n",
       "      <td>0.0</td>\n",
       "      <td>0.0</td>\n",
       "      <td>0.0</td>\n",
       "      <td>0.0</td>\n",
       "      <td>0.0</td>\n",
       "      <td>0.0</td>\n",
       "      <td>...</td>\n",
       "      <td>-0.908651</td>\n",
       "      <td>0.910435</td>\n",
       "      <td>-0.031195</td>\n",
       "      <td>3.958666</td>\n",
       "      <td>-3.958666</td>\n",
       "      <td>0.255810</td>\n",
       "      <td>-0.255810</td>\n",
       "      <td>-0.739106</td>\n",
       "      <td>-0.802523</td>\n",
       "      <td>1.709391</td>\n",
       "    </tr>\n",
       "    <tr>\n",
       "      <th>195262</th>\n",
       "      <td>-0.259321</td>\n",
       "      <td>-0.417287</td>\n",
       "      <td>1.471203</td>\n",
       "      <td>0.0</td>\n",
       "      <td>0.0</td>\n",
       "      <td>0.0</td>\n",
       "      <td>0.0</td>\n",
       "      <td>0.0</td>\n",
       "      <td>0.0</td>\n",
       "      <td>0.0</td>\n",
       "      <td>...</td>\n",
       "      <td>1.100533</td>\n",
       "      <td>-1.098376</td>\n",
       "      <td>-0.031195</td>\n",
       "      <td>-0.252610</td>\n",
       "      <td>0.252610</td>\n",
       "      <td>0.255810</td>\n",
       "      <td>-0.255810</td>\n",
       "      <td>-0.739106</td>\n",
       "      <td>1.246070</td>\n",
       "      <td>-0.585004</td>\n",
       "    </tr>\n",
       "  </tbody>\n",
       "</table>\n",
       "<p>5 rows × 354 columns</p>\n",
       "</div>"
      ],
      "text/plain": [
       "        VEHICLE_YEAR  OCCUPANT_CNT       AGE  MAKE_missing  MODEL_missing  \\\n",
       "39909       0.445758     -0.417287 -0.507007           0.0            0.0   \n",
       "97452      -2.022020     -0.417287  0.960697           0.0            0.0   \n",
       "97214      -1.493210     -0.417287 -0.953699           0.0            0.0   \n",
       "115612     -0.083051     -0.417287 -0.443193           0.0            0.0   \n",
       "195262     -0.259321     -0.417287  1.471203           0.0            0.0   \n",
       "\n",
       "        VEHICLE_YEAR_missing  VEHICLE_TYPE_missing  OCCUPANT_CNT_missing  \\\n",
       "39909                    0.0                   0.0                   0.0   \n",
       "97452                    0.0                   0.0                   0.0   \n",
       "97214                    0.0                   0.0                   0.0   \n",
       "115612                   0.0                   0.0                   0.0   \n",
       "195262                   0.0                   0.0                   0.0   \n",
       "\n",
       "        SEX_missing  AGE_missing  ...         F         M         X       0.0  \\\n",
       "39909           0.0          0.0  ... -0.908651  0.910435 -0.031195 -0.252610   \n",
       "97452           0.0          0.0  ...  1.100533 -1.098376 -0.031195 -0.252610   \n",
       "97214           0.0          0.0  ... -0.908651  0.910435 -0.031195 -0.252610   \n",
       "115612          0.0          0.0  ... -0.908651  0.910435 -0.031195  3.958666   \n",
       "195262          0.0          0.0  ...  1.100533 -1.098376 -0.031195 -0.252610   \n",
       "\n",
       "             1.0         0         1   Commute   Daytime  Evening/Overnight  \n",
       "39909   0.252610 -3.909158  3.909158 -0.739106  1.246070          -0.585004  \n",
       "97452   0.252610  0.255810 -0.255810 -0.739106  1.246070          -0.585004  \n",
       "97214   0.252610  0.255810 -0.255810 -0.739106  1.246070          -0.585004  \n",
       "115612 -3.958666  0.255810 -0.255810 -0.739106 -0.802523           1.709391  \n",
       "195262  0.252610  0.255810 -0.255810 -0.739106  1.246070          -0.585004  \n",
       "\n",
       "[5 rows x 354 columns]"
      ]
     },
     "execution_count": 384,
     "metadata": {},
     "output_type": "execute_result"
    }
   ],
   "source": [
    "X_train.head()"
   ]
  },
  {
   "cell_type": "markdown",
   "metadata": {},
   "source": [
    "#### Model"
   ]
  },
  {
   "cell_type": "code",
   "execution_count": 385,
   "metadata": {},
   "outputs": [
    {
     "data": {
      "text/plain": [
       "LogisticRegression(random_state=2024)"
      ]
     },
     "execution_count": 385,
     "metadata": {},
     "output_type": "execute_result"
    }
   ],
   "source": [
    "logreg_model = LogisticRegression(random_state=2024)\n",
    "logreg_model.fit(X_train, y_train)"
   ]
  },
  {
   "cell_type": "code",
   "execution_count": 386,
   "metadata": {},
   "outputs": [
    {
     "data": {
      "image/png": "[encoded data removed]",
      "text/plain": [
       "<Figure size 432x288 with 2 Axes>"
      ]
     },
     "metadata": {
      "needs_background": "light"
     },
     "output_type": "display_data"
    }
   ],
   "source": [
    "fig, ax = plt.subplots()\n",
    "\n",
    "fig.suptitle(\"Logistic Regression with All Features, Scaled\")\n",
    "\n",
    "plot_confusion_matrix(logreg_model, X_train, y_train, ax=ax, cmap=\"plasma\");"
   ]
  },
  {
   "cell_type": "code",
   "execution_count": 387,
   "metadata": {},
   "outputs": [
    {
     "data": {
      "text/plain": [
       "<sklearn.metrics._plot.roc_curve.RocCurveDisplay at 0x20cbe8b51f0>"
      ]
     },
     "execution_count": 387,
     "metadata": {},
     "output_type": "execute_result"
    },
    {
     "data": {
      "image/png": "[encoded data removed]",
      "text/plain": [
       "<Figure size 432x288 with 1 Axes>"
      ]
     },
     "metadata": {
      "needs_background": "light"
     },
     "output_type": "display_data"
    }
   ],
   "source": [
    "plot_roc_curve(logreg_model, X_train, y_train)"
   ]
  },
  {
   "cell_type": "markdown",
   "metadata": {},
   "source": [
    "#### Test Evaluation "
   ]
  },
  {
   "cell_type": "markdown",
   "metadata": {},
   "source": [
    "Now that we have a final model, run X_test through all of the preprocessing steps so we can evaluate the model's performance"
   ]
  },
  {
   "cell_type": "code",
   "execution_count": 388,
   "metadata": {},
   "outputs": [],
   "source": [
    "X_test_no_transformations = X_test.copy()"
   ]
  },
  {
   "cell_type": "code",
   "execution_count": 389,
   "metadata": {},
   "outputs": [],
   "source": [
    "# add missing indicators\n",
    "X_test_mi = add_missing_indicator_columns(X_test_no_transformations, indicator)"
   ]
  },
  {
   "cell_type": "code",
   "execution_count": 390,
   "metadata": {},
   "outputs": [],
   "source": [
    "# separate out values for imputation\n",
    "X_test_numeric = X_test_mi[numeric_feature_names]\n",
    "X_test_categorical = X_test_mi[categorical_feature_names]"
   ]
  },
  {
   "cell_type": "code",
   "execution_count": 391,
   "metadata": {},
   "outputs": [],
   "source": [
    "# impute missing values\n",
    "X_test_numeric = impute_missing_values(X_test_numeric, numeric_imputer)\n",
    "X_test_categorical = impute_missing_values(X_test_categorical, categorical_imputer)\n",
    "X_test_imputed = pd.concat([X_test_numeric, X_test_categorical], axis=1)\n",
    "X_test_new = X_test_mi.drop(numeric_feature_names + categorical_feature_names, axis=1)\n",
    "X_test_final = pd.concat([X_test_imputed, X_test_new], axis=1)"
   ]
  },
  {
   "cell_type": "code",
   "execution_count": 392,
   "metadata": {},
   "outputs": [],
   "source": [
    "# one-hot encode categorical data\n",
    "for categorical_feature in categorical_feature_names:\n",
    "    X_test_final = encode_and_concat_feature(X_test_final,\n",
    "                                       categorical_feature, encoders[categorical_feature])"
   ]
  },
  {
   "cell_type": "code",
   "execution_count": 393,
   "metadata": {},
   "outputs": [],
   "source": [
    "# scale values\n",
    "X_test_scaled = scale_values(X_test_final, scaler)"
   ]
  },
  {
   "cell_type": "code",
   "execution_count": 394,
   "metadata": {},
   "outputs": [
    {
     "data": {
      "text/html": [
       "<div>\n",
       "<style scoped>\n",
       "    .dataframe tbody tr th:only-of-type {\n",
       "        vertical-align: middle;\n",
       "    }\n",
       "\n",
       "    .dataframe tbody tr th {\n",
       "        vertical-align: top;\n",
       "    }\n",
       "\n",
       "    .dataframe thead th {\n",
       "        text-align: right;\n",
       "    }\n",
       "</style>\n",
       "<table border=\"1\" class=\"dataframe\">\n",
       "  <thead>\n",
       "    <tr style=\"text-align: right;\">\n",
       "      <th></th>\n",
       "      <th>VEHICLE_YEAR</th>\n",
       "      <th>OCCUPANT_CNT</th>\n",
       "      <th>AGE</th>\n",
       "      <th>MAKE_missing</th>\n",
       "      <th>MODEL_missing</th>\n",
       "      <th>VEHICLE_YEAR_missing</th>\n",
       "      <th>VEHICLE_TYPE_missing</th>\n",
       "      <th>OCCUPANT_CNT_missing</th>\n",
       "      <th>SEX_missing</th>\n",
       "      <th>AGE_missing</th>\n",
       "      <th>...</th>\n",
       "      <th>F</th>\n",
       "      <th>M</th>\n",
       "      <th>X</th>\n",
       "      <th>0.0</th>\n",
       "      <th>1.0</th>\n",
       "      <th>0</th>\n",
       "      <th>1</th>\n",
       "      <th>Commute</th>\n",
       "      <th>Daytime</th>\n",
       "      <th>Evening/Overnight</th>\n",
       "    </tr>\n",
       "  </thead>\n",
       "  <tbody>\n",
       "    <tr>\n",
       "      <th>65033</th>\n",
       "      <td>-0.259321</td>\n",
       "      <td>-0.417287</td>\n",
       "      <td>-0.443193</td>\n",
       "      <td>0.0</td>\n",
       "      <td>0.0</td>\n",
       "      <td>0.0</td>\n",
       "      <td>0.0</td>\n",
       "      <td>0.0</td>\n",
       "      <td>0.0</td>\n",
       "      <td>0.0</td>\n",
       "      <td>...</td>\n",
       "      <td>1.100533</td>\n",
       "      <td>-1.098376</td>\n",
       "      <td>-0.031195</td>\n",
       "      <td>-0.252610</td>\n",
       "      <td>0.252610</td>\n",
       "      <td>0.255810</td>\n",
       "      <td>-0.255810</td>\n",
       "      <td>-0.739106</td>\n",
       "      <td>1.246070</td>\n",
       "      <td>-0.585004</td>\n",
       "    </tr>\n",
       "    <tr>\n",
       "      <th>81052</th>\n",
       "      <td>-1.316940</td>\n",
       "      <td>2.552492</td>\n",
       "      <td>-0.762259</td>\n",
       "      <td>0.0</td>\n",
       "      <td>0.0</td>\n",
       "      <td>0.0</td>\n",
       "      <td>0.0</td>\n",
       "      <td>0.0</td>\n",
       "      <td>0.0</td>\n",
       "      <td>0.0</td>\n",
       "      <td>...</td>\n",
       "      <td>1.100533</td>\n",
       "      <td>-1.098376</td>\n",
       "      <td>-0.031195</td>\n",
       "      <td>-0.252610</td>\n",
       "      <td>0.252610</td>\n",
       "      <td>0.255810</td>\n",
       "      <td>-0.255810</td>\n",
       "      <td>-0.739106</td>\n",
       "      <td>-0.802523</td>\n",
       "      <td>1.709391</td>\n",
       "    </tr>\n",
       "    <tr>\n",
       "      <th>4401</th>\n",
       "      <td>-0.435591</td>\n",
       "      <td>-0.417287</td>\n",
       "      <td>-0.826073</td>\n",
       "      <td>0.0</td>\n",
       "      <td>0.0</td>\n",
       "      <td>0.0</td>\n",
       "      <td>0.0</td>\n",
       "      <td>0.0</td>\n",
       "      <td>0.0</td>\n",
       "      <td>0.0</td>\n",
       "      <td>...</td>\n",
       "      <td>-0.908651</td>\n",
       "      <td>0.910435</td>\n",
       "      <td>-0.031195</td>\n",
       "      <td>-0.252610</td>\n",
       "      <td>0.252610</td>\n",
       "      <td>-3.909158</td>\n",
       "      <td>3.909158</td>\n",
       "      <td>-0.739106</td>\n",
       "      <td>-0.802523</td>\n",
       "      <td>1.709391</td>\n",
       "    </tr>\n",
       "    <tr>\n",
       "      <th>107181</th>\n",
       "      <td>-0.611861</td>\n",
       "      <td>-0.417287</td>\n",
       "      <td>1.726456</td>\n",
       "      <td>0.0</td>\n",
       "      <td>0.0</td>\n",
       "      <td>0.0</td>\n",
       "      <td>0.0</td>\n",
       "      <td>0.0</td>\n",
       "      <td>0.0</td>\n",
       "      <td>0.0</td>\n",
       "      <td>...</td>\n",
       "      <td>1.100533</td>\n",
       "      <td>-1.098376</td>\n",
       "      <td>-0.031195</td>\n",
       "      <td>-0.252610</td>\n",
       "      <td>0.252610</td>\n",
       "      <td>0.255810</td>\n",
       "      <td>-0.255810</td>\n",
       "      <td>-0.739106</td>\n",
       "      <td>-0.802523</td>\n",
       "      <td>1.709391</td>\n",
       "    </tr>\n",
       "    <tr>\n",
       "      <th>63026</th>\n",
       "      <td>0.974568</td>\n",
       "      <td>-0.417287</td>\n",
       "      <td>-1.081326</td>\n",
       "      <td>0.0</td>\n",
       "      <td>0.0</td>\n",
       "      <td>0.0</td>\n",
       "      <td>0.0</td>\n",
       "      <td>0.0</td>\n",
       "      <td>0.0</td>\n",
       "      <td>0.0</td>\n",
       "      <td>...</td>\n",
       "      <td>-0.908651</td>\n",
       "      <td>0.910435</td>\n",
       "      <td>-0.031195</td>\n",
       "      <td>3.958666</td>\n",
       "      <td>-3.958666</td>\n",
       "      <td>0.255810</td>\n",
       "      <td>-0.255810</td>\n",
       "      <td>1.352986</td>\n",
       "      <td>-0.802523</td>\n",
       "      <td>-0.585004</td>\n",
       "    </tr>\n",
       "  </tbody>\n",
       "</table>\n",
       "<p>5 rows × 354 columns</p>\n",
       "</div>"
      ],
      "text/plain": [
       "        VEHICLE_YEAR  OCCUPANT_CNT       AGE  MAKE_missing  MODEL_missing  \\\n",
       "65033      -0.259321     -0.417287 -0.443193           0.0            0.0   \n",
       "81052      -1.316940      2.552492 -0.762259           0.0            0.0   \n",
       "4401       -0.435591     -0.417287 -0.826073           0.0            0.0   \n",
       "107181     -0.611861     -0.417287  1.726456           0.0            0.0   \n",
       "63026       0.974568     -0.417287 -1.081326           0.0            0.0   \n",
       "\n",
       "        VEHICLE_YEAR_missing  VEHICLE_TYPE_missing  OCCUPANT_CNT_missing  \\\n",
       "65033                    0.0                   0.0                   0.0   \n",
       "81052                    0.0                   0.0                   0.0   \n",
       "4401                     0.0                   0.0                   0.0   \n",
       "107181                   0.0                   0.0                   0.0   \n",
       "63026                    0.0                   0.0                   0.0   \n",
       "\n",
       "        SEX_missing  AGE_missing  ...         F         M         X       0.0  \\\n",
       "65033           0.0          0.0  ...  1.100533 -1.098376 -0.031195 -0.252610   \n",
       "81052           0.0          0.0  ...  1.100533 -1.098376 -0.031195 -0.252610   \n",
       "4401            0.0          0.0  ... -0.908651  0.910435 -0.031195 -0.252610   \n",
       "107181          0.0          0.0  ...  1.100533 -1.098376 -0.031195 -0.252610   \n",
       "63026           0.0          0.0  ... -0.908651  0.910435 -0.031195  3.958666   \n",
       "\n",
       "             1.0         0         1   Commute   Daytime  Evening/Overnight  \n",
       "65033   0.252610  0.255810 -0.255810 -0.739106  1.246070          -0.585004  \n",
       "81052   0.252610  0.255810 -0.255810 -0.739106 -0.802523           1.709391  \n",
       "4401    0.252610 -3.909158  3.909158 -0.739106 -0.802523           1.709391  \n",
       "107181  0.252610  0.255810 -0.255810 -0.739106 -0.802523           1.709391  \n",
       "63026  -3.958666  0.255810 -0.255810  1.352986 -0.802523          -0.585004  \n",
       "\n",
       "[5 rows x 354 columns]"
      ]
     },
     "execution_count": 394,
     "metadata": {},
     "output_type": "execute_result"
    }
   ],
   "source": [
    "X_test_scaled.head()"
   ]
  },
  {
   "cell_type": "code",
   "execution_count": 395,
   "metadata": {},
   "outputs": [
    {
     "data": {
      "image/png": "[encoded data removed]",
      "text/plain": [
       "<Figure size 432x288 with 2 Axes>"
      ]
     },
     "metadata": {
      "needs_background": "light"
     },
     "output_type": "display_data"
    }
   ],
   "source": [
    "fig, ax = plt.subplots()\n",
    "\n",
    "fig.suptitle(\"Logistic Regression with All Features, Scaled\")\n",
    "\n",
    "plot_confusion_matrix(logreg_model, X_test_scaled, y_test, ax=ax, cmap=\"plasma\");"
   ]
  },
  {
   "cell_type": "code",
   "execution_count": 396,
   "metadata": {},
   "outputs": [
    {
     "data": {
      "text/plain": [
       "<sklearn.metrics._plot.roc_curve.RocCurveDisplay at 0x20cc1e396a0>"
      ]
     },
     "execution_count": 396,
     "metadata": {},
     "output_type": "execute_result"
    },
    {
     "data": {
      "image/png": "[encoded data removed]",
      "text/plain": [
       "<Figure size 432x288 with 1 Axes>"
      ]
     },
     "metadata": {
      "needs_background": "light"
     },
     "output_type": "display_data"
    }
   ],
   "source": [
    "plot_roc_curve(logreg_model, X_test_scaled, y_test)"
   ]
  },
  {
   "cell_type": "code",
   "execution_count": 397,
   "metadata": {},
   "outputs": [
    {
     "data": {
      "text/plain": [
       "0.5346156516908548"
      ]
     },
     "execution_count": 397,
     "metadata": {},
     "output_type": "execute_result"
    }
   ],
   "source": [
    "all_accuracy = accuracy_score(y_test, logreg_model.predict(X_test_scaled))\n",
    "all_accuracy"
   ]
  },
  {
   "cell_type": "code",
   "execution_count": 398,
   "metadata": {},
   "outputs": [
    {
     "data": {
      "text/plain": [
       "0.6948720542673595"
      ]
     },
     "execution_count": 398,
     "metadata": {},
     "output_type": "execute_result"
    }
   ],
   "source": [
    "log_loss(y_test, logreg_model.predict_proba(X_test_scaled))"
   ]
  },
  {
   "cell_type": "code",
   "execution_count": 399,
   "metadata": {},
   "outputs": [
    {
     "data": {
      "text/plain": [
       "array([0.04097366])"
      ]
     },
     "execution_count": 399,
     "metadata": {},
     "output_type": "execute_result"
    }
   ],
   "source": [
    "logreg.intercept_"
   ]
  },
  {
   "cell_type": "code",
   "execution_count": 400,
   "metadata": {},
   "outputs": [
    {
     "data": {
      "text/plain": [
       "array([0.51024198])"
      ]
     },
     "execution_count": 400,
     "metadata": {},
     "output_type": "execute_result"
    }
   ],
   "source": [
    "logodds = logreg.intercept_\n",
    "odds = np.exp(logodds)\n",
    "prob = odds / (1 + odds)\n",
    "prob"
   ]
  },
  {
   "cell_type": "code",
   "execution_count": 401,
   "metadata": {},
   "outputs": [
    {
     "data": {
      "text/plain": [
       "array([1.04182466])"
      ]
     },
     "execution_count": 401,
     "metadata": {},
     "output_type": "execute_result"
    }
   ],
   "source": [
    "odds"
   ]
  },
  {
   "cell_type": "markdown",
   "metadata": {},
   "source": [
    "## Final Model Evaluations "
   ]
  },
  {
   "cell_type": "markdown",
   "metadata": {},
   "source": [
    "### Accuracy Score of New Models"
   ]
  },
  {
   "cell_type": "code",
   "execution_count": 409,
   "metadata": {},
   "outputs": [
    {
     "name": "stdout",
     "output_type": "stream",
     "text": [
      "Baseline Accuracy:                   49.9 %\n",
      "Time of Day LogReg Accuracy:         53.2 %\n",
      "Time of Day and Sex LogReg Accuracy: 53.2 %\n",
      "Numeric Columns LogReg Accuracy:     52.9 %\n",
      "All Columns LogReg Accuracy:         53.5 %\n"
     ]
    }
   ],
   "source": [
    "print(\"Baseline Accuracy:                  \", round((dummy2_accuracy*100), ndigits=1), \"%\")\n",
    "print(\"Time of Day LogReg Accuracy:        \", round((ToD2_accuracy*100), ndigits=1), \"%\")\n",
    "print(\"Time of Day and Sex LogReg Accuracy:\", round((TS_accuracy*100), ndigits=1), \"%\")\n",
    "print(\"Numeric Columns LogReg Accuracy:    \", round((num_accuracy*100), ndigits=1), \"%\")\n",
    "print(\"All Columns LogReg Accuracy:        \", round((all_accuracy*100), ndigits=1), \"%\")"
   ]
  },
  {
   "cell_type": "markdown",
   "metadata": {},
   "source": [
    "### Assessment"
   ]
  },
  {
   "cell_type": "markdown",
   "metadata": {},
   "source": [
    "After balancing the data, the accuracy score of the Logistic Regression Model using only TIME_OF_DAY improved a small amount over baseline. Adding more columns to our model allowed it to improve marginally above that. Based on our business problem, we cannot say with a great amount of accuracy whether a crash will be above $1500 in damage using only this data. However, we can see that the variable that most influences that outcome is TIME_OF_DAY. When we simply look at TIME_OF_DAY and DAMAGE_OVER_$1500, we can see that ccidents in the evening and overnight are about 8% more likely to cause damage over 1500, compared to other times of day."
   ]
  },
  {
   "cell_type": "code",
   "execution_count": 403,
   "metadata": {},
   "outputs": [
    {
     "data": {
      "text/plain": [
       "TIME_OF_DAY        DAMAGE_OVER_1500\n",
       "Commute            0                   0.518990\n",
       "                   1                   0.481010\n",
       "Daytime            0                   0.523801\n",
       "                   1                   0.476199\n",
       "Evening/Overnight  1                   0.563194\n",
       "                   0                   0.436806\n",
       "Name: DAMAGE_OVER_1500, dtype: float64"
      ]
     },
     "execution_count": 403,
     "metadata": {},
     "output_type": "execute_result"
    }
   ],
   "source": [
    "df.groupby(\"TIME_OF_DAY\").DAMAGE_OVER_1500.value_counts(normalize=True)"
   ]
  },
  {
   "cell_type": "code",
   "execution_count": null,
   "metadata": {},
   "outputs": [],
   "source": []
  }
 ],
 "metadata": {
  "kernelspec": {
   "display_name": "learn-env",
   "language": "python",
   "name": "python3"
  },
  "language_info": {
   "codemirror_mode": {
    "name": "ipython",
    "version": 3
   },
   "file_extension": ".py",
   "mimetype": "text/x-python",
   "name": "python",
   "nbconvert_exporter": "python",
   "pygments_lexer": "ipython3",
   "version": "3.8.5"
  }
 },
 "nbformat": 4,
 "nbformat_minor": 2
}
